{
  "nbformat": 4,
  "nbformat_minor": 0,
  "metadata": {
    "colab": {
      "name": "lista_exercicio1.ipynb",
      "provenance": [],
      "include_colab_link": true
    },
    "kernelspec": {
      "name": "python3",
      "display_name": "Python 3"
    }
  },
  "cells": [
    {
      "cell_type": "markdown",
      "metadata": {
        "id": "view-in-github",
        "colab_type": "text"
      },
      "source": [
        "<a href=\"https://colab.research.google.com/github/AndrehAguiar/Lista-1_POS-AI_SD/blob/master/lista_exercicio1.ipynb\" target=\"_parent\"><img src=\"https://colab.research.google.com/assets/colab-badge.svg\" alt=\"Open In Colab\"/></a>"
      ]
    },
    {
      "cell_type": "markdown",
      "metadata": {
        "id": "ZOUPCvOo9d9K",
        "colab_type": "text"
      },
      "source": [
        "**LISTA DE EXERCÍCIOS**"
      ]
    },
    {
      "cell_type": "markdown",
      "metadata": {
        "id": "yhXGbDZ39kMx",
        "colab_type": "text"
      },
      "source": [
        "EXERCÍCIO 1 - FAÇA UM SCRIPT VERIFIQUE SE UM NÚMERO (*num*) É PAR OU IMPAR:"
      ]
    },
    {
      "cell_type": "code",
      "metadata": {
        "id": "B6-R9snc92Bo",
        "colab_type": "code",
        "outputId": "2ac2eb0c-bfa0-4c1f-bc16-62d4ed02b090",
        "colab": {
          "base_uri": "https://localhost:8080/",
          "height": 34
        }
      },
      "source": [
        "import random\n",
        "num = random.randint(1, 100)\n",
        "\n",
        "print(num)\n",
        "\n",
        "# SEU CODIGO AQUI ..."
      ],
      "execution_count": 0,
      "outputs": [
        {
          "output_type": "stream",
          "text": [
            "86\n"
          ],
          "name": "stdout"
        }
      ]
    },
    {
      "cell_type": "code",
      "metadata": {
        "id": "hL4XPIuHjjgq",
        "colab_type": "code",
        "colab": {
          "base_uri": "https://localhost:8080/",
          "height": 51
        },
        "outputId": "331e7c00-633a-4bd6-bc4e-9a4b8454e1ca"
      },
      "source": [
        "import random\n",
        "num = random.randint(1, 100)\n",
        "if num % 2 == 0:\n",
        "  print(\"O número abaixo é par.\")\n",
        "else:\n",
        "  print(\"O número abaixo é impar.\")\n",
        "print(num)"
      ],
      "execution_count": 464,
      "outputs": [
        {
          "output_type": "stream",
          "text": [
            "O número abaixo é par.\n",
            "2\n"
          ],
          "name": "stdout"
        }
      ]
    },
    {
      "cell_type": "markdown",
      "metadata": {
        "id": "eIYJ02BOdacM",
        "colab_type": "text"
      },
      "source": [
        "EXERCÍCIO 2 - FAÇA UMA SCRIPT QUE CALCULA UMA EXPRESSÃO MATEMÁTICA DADO 2 INTEIROS (*num1, num2 e op*) E UM OPERADOR (String = '+', '-', '*', '/'):"
      ]
    },
    {
      "cell_type": "code",
      "metadata": {
        "id": "8JEWjI_5_eGr",
        "colab_type": "code",
        "outputId": "95c36ecc-bd07-485d-c1f8-dc2fd8c298c7",
        "colab": {
          "base_uri": "https://localhost:8080/",
          "height": 34
        }
      },
      "source": [
        "import random\n",
        "num1 = random.randint(0, 100)\n",
        "num2 = random.randint(0, 100)\n",
        "op = ['+', '-', '*', '/'][random.randint(0, 3)]\n",
        "\n",
        "print(num1, num2, op)\n",
        "\n",
        "# SEU CODIGO AQUI ..."
      ],
      "execution_count": 0,
      "outputs": [
        {
          "output_type": "stream",
          "text": [
            "88 94 *\n"
          ],
          "name": "stdout"
        }
      ]
    },
    {
      "cell_type": "code",
      "metadata": {
        "id": "com7K6Ptkaad",
        "colab_type": "code",
        "colab": {
          "base_uri": "https://localhost:8080/",
          "height": 34
        },
        "outputId": "3780e021-d985-4d74-a63c-26f2c4b187ea"
      },
      "source": [
        "import random\n",
        "num1 = random.randint(0, 100)\n",
        "num2 = random.randint(0, 100)\n",
        "result = 0\n",
        "op = ['+', '-', '*', '/'][random.randint(0, 3)]\n",
        "if op == \"+\":\n",
        "  result = num1 + num2\n",
        "elif op == \"-\":\n",
        "  result = num1 - num2\n",
        "elif op == \"*\":\n",
        "  result = num1 * num2\n",
        "else:\n",
        "  result = num1 / num2\n",
        "print(num1, op, num2, \"=\", result)"
      ],
      "execution_count": 465,
      "outputs": [
        {
          "output_type": "stream",
          "text": [
            "59 * 21 = 1239\n"
          ],
          "name": "stdout"
        }
      ]
    },
    {
      "cell_type": "markdown",
      "metadata": {
        "id": "-dtLZ8yBKqNv",
        "colab_type": "text"
      },
      "source": [
        "EXERCÍCIO 3 - FAÇA UM SCRIPT QUE IDENTIFIQUE SE UM NÚMERO INTEIRO (*num*) É PRIMO OU NÃO"
      ]
    },
    {
      "cell_type": "code",
      "metadata": {
        "id": "HDO-r9oMK4Me",
        "colab_type": "code",
        "outputId": "ee9b472f-2cdd-4f7b-b5df-9efce34d616c",
        "colab": {
          "base_uri": "https://localhost:8080/",
          "height": 34
        }
      },
      "source": [
        "import random\n",
        "num = random.randint(1, 100)\n",
        "\n",
        "print(num)\n",
        "\n",
        "# SEU CODIGO AQUI ..."
      ],
      "execution_count": 0,
      "outputs": [
        {
          "output_type": "stream",
          "text": [
            "90\n"
          ],
          "name": "stdout"
        }
      ]
    },
    {
      "cell_type": "code",
      "metadata": {
        "id": "KxZmr6vHmXy-",
        "colab_type": "code",
        "colab": {
          "base_uri": "https://localhost:8080/",
          "height": 51
        },
        "outputId": "5dd15b90-b762-4679-b27a-8a7e33eb71c4"
      },
      "source": [
        "import random\n",
        "num = random.randint(1, 100)\n",
        "x = 1\n",
        "divisor = 0\n",
        "while x <= num:                                                                   # Executa todas as divisões de 1 até o número definido\n",
        "  result = num / x\n",
        "  test = str(result).split('.')\n",
        "  if num % x == 0 and test[1] == '0':                                             # Verifica se o resultado é inteiro e o resto é 0\n",
        "    divisor += 1                                                                  # Conta a quantidade de divisores do número definido\n",
        "    if divisor == 2 and num == x:                                                 # Verifica se a quantidade de divisor é 2 e se chegou até o número definido\n",
        "      print(\"O número abaixo tem\", divisor, \"divisores, então é primo.\")\n",
        "    elif divisor > 2 and num == x or divisor < 2 and num == x:                    # Verifica se a quantidade de divisores é menor ou maior que 2\n",
        "      print(\"O número abaixo tem\", divisor, \"divisor(es), então não é primo.\")\n",
        "  x += 1\n",
        "print(num)"
      ],
      "execution_count": 466,
      "outputs": [
        {
          "output_type": "stream",
          "text": [
            "O número abaixo tem 2 divisores, então é primo.\n",
            "53\n"
          ],
          "name": "stdout"
        }
      ]
    },
    {
      "cell_type": "markdown",
      "metadata": {
        "id": "acGUTrFMSXkM",
        "colab_type": "text"
      },
      "source": [
        "EXERCÍCIO 4 - FAÇA UM SCRIPT QUER RETORNE DE UMA LISTA DE INTEIROS (*lista*):\n",
        "\n",
        "*   MAIOR ELEMENTO\n",
        "*   MENOR ELEMENTO\n",
        "*   TAMANHO\n",
        "\n",
        "**DESAFIO:** NÃO USE FUNÇÕES *min(), max() e len()*!"
      ]
    },
    {
      "cell_type": "code",
      "metadata": {
        "id": "i8jlu3EQS_fk",
        "colab_type": "code",
        "outputId": "4004a593-7b23-4c44-f6f3-2aa195d08c8a",
        "colab": {
          "base_uri": "https://localhost:8080/",
          "height": 34
        }
      },
      "source": [
        "import random\n",
        "\n",
        "lista = [random.randint(0,10) for i in range(5)]\n",
        "\n",
        "print(lista)\n",
        "\n",
        "# SEU CODIGO AQUI ..."
      ],
      "execution_count": 0,
      "outputs": [
        {
          "output_type": "stream",
          "text": [
            "[9, 3, 3, 2, 2]\n"
          ],
          "name": "stdout"
        }
      ]
    },
    {
      "cell_type": "code",
      "metadata": {
        "id": "93qqKPKHBLe2",
        "colab_type": "code",
        "colab": {
          "base_uri": "https://localhost:8080/",
          "height": 85
        },
        "outputId": "ed308801-068f-4fe7-cd1a-dca1fae09ee3"
      },
      "source": [
        "import random\n",
        "\n",
        "lista = [random.randint(0,10) for i in range(5)]\n",
        "maior = 0\n",
        "menor = 9999999999999\n",
        "count = 0\n",
        "for e in lista:\n",
        "  count += 1\n",
        "  if e > maior:\n",
        "    maior = e\n",
        "  if e < menor:\n",
        "    menor = e\n",
        "print(\"A lista abaixo contém\", count,\"elementos\\nO maior é\",maior,\"\\nO menor é\",menor )\n",
        "print(lista)"
      ],
      "execution_count": 357,
      "outputs": [
        {
          "output_type": "stream",
          "text": [
            "A lista abaixo contém 5 elementos\n",
            "O maior é 10 \n",
            "O menor é 5\n",
            "[5, 9, 7, 10, 5]\n"
          ],
          "name": "stdout"
        }
      ]
    },
    {
      "cell_type": "markdown",
      "metadata": {
        "id": "9_Pf0yIgczaK",
        "colab_type": "text"
      },
      "source": [
        "EXERCÍCIO 5 - FAÇA UM SCRIPT QUE RETORNE DE UMA LISTA DE INTEIROS (*lista*):\n",
        "\n",
        "* A MEDIA\n",
        "* A MEDIANA\n",
        "* A MODA"
      ]
    },
    {
      "cell_type": "code",
      "metadata": {
        "id": "lGD6zfrRciZ2",
        "colab_type": "code",
        "outputId": "4f56bbf5-ccd2-4d0e-cfab-79af7458dde5",
        "colab": {
          "base_uri": "https://localhost:8080/",
          "height": 34
        }
      },
      "source": [
        "import random\n",
        "\n",
        "lista = [random.randint(0,10) for i in range(5)]\n",
        "\n",
        "print(lista)\n",
        "\n",
        "# SEU CODIGO AQUI ..."
      ],
      "execution_count": 0,
      "outputs": [
        {
          "output_type": "stream",
          "text": [
            "[2, 1, 7, 7, 8]\n"
          ],
          "name": "stdout"
        }
      ]
    },
    {
      "cell_type": "code",
      "metadata": {
        "id": "UENQDsQ9E49E",
        "colab_type": "code",
        "colab": {
          "base_uri": "https://localhost:8080/",
          "height": 85
        },
        "outputId": "f1c48597-aff0-4196-b382-ac1d932cfb97"
      },
      "source": [
        "import random\n",
        "\n",
        "soma = 0\n",
        "z = 0\n",
        "int(x)\n",
        "lista = [random.randint(0,10) for i in range(5)]\n",
        "moda_list = []\n",
        "\n",
        "\"\"\" DEFINE A MODA DA LISTA \"\"\"\n",
        "for e in lista:                                                                                 # Percorre a lista de valores\n",
        "  soma += e                                                                                     # Soma cada elemento da lista\n",
        "  y = lista.count(e)                                                                            # Conta quantas vezes o elemento aparece na lista\n",
        "\n",
        "  if y > z:                                                                                     # Verifica se o valor que está como MODA é menor doque que o novo valor\n",
        "    z = y\n",
        "    moda = e                                                                                    # Define o novo valor como MODA\n",
        "\n",
        "  if z == y and e not in moda_list:                                                             # Verifica se existem elementos que aparecem na mesma quantidade\n",
        "    moda_list.append(e)                                                                         # Gera uma lista de MODA\n",
        "\n",
        "  if x < z:                                                                                     # Verifica se aparece mais vezes que os já listados na lista de MODA\n",
        "    moda_list.clear()                                                                           # Limpa a lista de MODA\n",
        "        \n",
        "  x = z                                                                                         # Iguala 'x' à última quantidade do elemento que mais apareceu na lista\n",
        "  \n",
        "if len(moda_list) > 1:                                                                          # Verifica se a lista tem mais de 1 elemento\n",
        "  moda = str(tuple(moda_list))[1:-1]                                                            # Converte a lista com vários elementos em TUPLA e formata\n",
        "else:\n",
        "  moda = moda_list[0]                                                                           # Define o único elemento da lista como a MODA\n",
        "\n",
        "\"\"\" DEFINE A MEDIANA DA LISTA \"\"\" \n",
        "lista_ordenada = sorted(lista)                                                                  # Ordena a lista de forma crescente\n",
        "\n",
        "if len(lista) % 2 > 0:                                                                          # Verifica se a quantidade de elementos da lista é impar\n",
        "  mediana = lambda:int((len(lista) - 1) / 2)                                                    # Encontra a posição do elemento que está exatamente no meio da lista\n",
        "  mediana = lista_ordenada[mediana()]                                                           # Encontra o elemento que está exatamente no meio da lista\n",
        "  justifica = lambda:print(\"A mediana é (\", mediana, \"), porque ordenando a lista,\"\n",
        "  \" o valor é o que se encontra no meio\")\n",
        "else:                                                                                           # Caso a quantidade de elementos da lista seja par\n",
        "  val1 = lambda:((len(lista)/2) - 1)                                                            # Encontra a posição do primeiro elemento no meio da lista\n",
        "  val2 = lambda:(len(lista)/2)                                                                  # Encontra a posição do segundo elemento no meio da lista\n",
        "  mediana = lambda:((lista_ordenada[int(val1())] + lista_ordenada[int(val2())]) / 2)            # Soma os 2 valores encontrados e divide por 2\n",
        "  justifica = lambda:print(\"A mediana é (\", mediana(), \"), \"\n",
        "      \"porque ordenando a lista, é a soma dos 2 valores que se encontram no meio,\"\n",
        "      \" divida por 2\")\n",
        "\n",
        "\"\"\" DEFINE A MEDIA DA LISTA \"\"\"\n",
        "media = soma / len(lista)                                                                       # Divide a soma feita no 'for' que percorre a lista pela quantidade de elementos somados\n",
        "\n",
        "print(\"A média é (\", media, \") porque é a soma dos elementos,\"\n",
        "          \"dividida pela quantidade de elementos da lista\")\n",
        "justifica()\n",
        "print(\"A moda é (\", moda,\") porque aparece(m)\", z,\"vez(es)\")\n",
        "print(lista)"
      ],
      "execution_count": 536,
      "outputs": [
        {
          "output_type": "stream",
          "text": [
            "A média é ( 6.2 ) porque é a soma dos elementos,dividida pela quantidade de elementos da lista\n",
            "A mediana é ( 7 ), porque ordenando a lista, o valor é o que se encontra no meio\n",
            "A moda é ( 7 ) porque aparece(m) 2 vez(es)\n",
            "[7, 7, 6, 1, 10]\n"
          ],
          "name": "stdout"
        }
      ]
    },
    {
      "cell_type": "markdown",
      "metadata": {
        "id": "8yqWYSJLFo7U",
        "colab_type": "text"
      },
      "source": [
        "EXERCÍCIO 6 - FAÇA UMA FUNÇÃO QUE TENHA COMO ENTRADA UMA LISTA DE INTEIROS (*idades*) E RETORNE UMA LISTA COM AS FAIXAS DE CADA IDADE, DE ACORDO COM AS REGRAS A SEGUIR:<br>\n",
        "* '<18', \n",
        "* '18 A 21', \n",
        "* '21 A 27', \n",
        "* '28 A 35', \n",
        "* '36 A 50', \n",
        "* '50 A 65', \n",
        "* '65+'"
      ]
    },
    {
      "cell_type": "code",
      "metadata": {
        "id": "KrJWT6mmLX98",
        "colab_type": "code",
        "outputId": "68f85f86-c031-4f5e-c8cc-06b36f068195",
        "colab": {
          "base_uri": "https://localhost:8080/",
          "height": 54
        }
      },
      "source": [
        "import random\n",
        "\n",
        "idades = [random.randint(5, 95) for i in range(100)]\n",
        "\n",
        "print(idades)\n",
        "\n",
        "# SEU CODIGO AQUI ..."
      ],
      "execution_count": 0,
      "outputs": [
        {
          "output_type": "stream",
          "text": [
            "[90, 32, 33, 32, 15, 38, 45, 49, 50, 54, 71, 37, 7, 78, 43, 37, 70, 15, 42, 85, 36, 48, 12, 76, 91, 17, 18, 26, 81, 11, 80, 61, 87, 30, 71, 81, 11, 7, 83, 10, 55, 43, 48, 51, 47, 76, 6, 55, 26, 65, 77, 39, 81, 26, 75, 38, 44, 34, 39, 63, 58, 87, 44, 5, 21, 71, 94, 19, 59, 68, 77, 20, 26, 91, 34, 62, 64, 83, 52, 67, 26, 59, 69, 90, 66, 35, 45, 91, 28, 37, 62, 80, 59, 9, 56, 47, 33, 64, 30, 80]\n"
          ],
          "name": "stdout"
        }
      ]
    },
    {
      "cell_type": "code",
      "metadata": {
        "id": "iF1JkIlvafTu",
        "colab_type": "code",
        "colab": {
          "base_uri": "https://localhost:8080/",
          "height": 136
        },
        "outputId": "b70db102-495d-4d88-a73e-289d29b2a5f4"
      },
      "source": [
        "import random\n",
        "fx1 = []\n",
        "fx2 = []\n",
        "fx3 = []\n",
        "fx4 = []\n",
        "fx5 = []\n",
        "fx6 = []\n",
        "fx7 = []\n",
        "idades = [random.randint(5, 95) for i in range(100)]\n",
        "#print(idades)\n",
        "def separa_idades(list):\n",
        "  for e in list:\n",
        "    if e < 18:\n",
        "      fx1.append(e)\n",
        "    elif e >= 18 and e <=21:\n",
        "      fx2.append(e)\n",
        "    elif e > 21 and e <=27:\n",
        "      fx3.append(e)\n",
        "    elif e > 27 and e <= 35:\n",
        "      fx4.append(e)\n",
        "    elif e > 35 and e <= 50:\n",
        "      fx5.append(e)\n",
        "    elif e > 50 and e <= 65:\n",
        "      fx6.append(e)\n",
        "    else:\n",
        "      fx7.append(e)\n",
        "  return (fx1, fx2, fx3, fx4, fx5, fx6, fx7)\n",
        "separa_idades(idades)\n",
        "print(' 5 A 18',sorted(fx1),'\\n18 A 21',sorted(fx2),'\\n22 A 27',sorted(fx3),'\\n28 A 35',sorted(fx4),'\\n36 A 50',sorted(fx5),'\\n50 A 65',sorted(fx6),'\\n66 A 95',sorted(fx7))\n"
      ],
      "execution_count": 570,
      "outputs": [
        {
          "output_type": "stream",
          "text": [
            " 5 A 18 [5, 5, 6, 7, 8, 8, 10, 10, 10, 12, 12, 15, 15, 16, 17, 17] \n",
            "18 A 21 [18, 18, 18, 19, 20] \n",
            "22 A 27 [25, 26, 27, 27] \n",
            "28 A 35 [28, 29, 29, 29, 30, 31, 31, 32, 33, 34, 34, 35] \n",
            "36 A 50 [36, 37, 38, 38, 39, 39, 40, 41, 44, 47, 47, 48, 48, 50, 50, 50, 50] \n",
            "50 A 65 [52, 53, 54, 54, 55, 56, 57, 58, 58, 59, 64, 64, 65, 65, 65] \n",
            "66 A 95 [66, 67, 68, 68, 68, 68, 68, 69, 72, 73, 74, 75, 75, 77, 77, 78, 79, 79, 80, 81, 82, 83, 83, 84, 85, 86, 86, 88, 91, 91, 92]\n"
          ],
          "name": "stdout"
        }
      ]
    },
    {
      "cell_type": "markdown",
      "metadata": {
        "id": "9GAGi3vNM0lA",
        "colab_type": "text"
      },
      "source": [
        "EXERCÍCIO 7 - DADA UMA LISTA (*cabecalho*) CONTENDO O CABEÇALHO DE UMA TABELA, FAÇA AS SEGUINTES TRANSFORMAÇÕES:<br>\n",
        "* Remova espaços a direita e a esquerda (função \\<string\\>.strip())\n",
        "* Deixe todas a letras maiúsculas (função \\<string\\>.upper())\n",
        "* substitua \" \" (espaços) por \"_\" (função \\<string\\>.replace())"
      ]
    },
    {
      "cell_type": "code",
      "metadata": {
        "id": "7F71_O5yOFJv",
        "colab_type": "code",
        "colab": {}
      },
      "source": [
        "cabecalho = [\"nome \", \"IdadE\", \"data de nascimento\", \"endereco\", \" cpf\", \"Valor Devido\", \"Valor ja pago\"]\n",
        "\n",
        "\n",
        "# SEU CODIGO AQUI ..."
      ],
      "execution_count": 0,
      "outputs": []
    },
    {
      "cell_type": "code",
      "metadata": {
        "id": "RXG6fO3Nl98y",
        "colab_type": "code",
        "colab": {
          "base_uri": "https://localhost:8080/",
          "height": 34
        },
        "outputId": "7241905d-e35d-4cee-e3da-215f634f5fde"
      },
      "source": [
        "cabecalho = [\"nome \", \"IdadE\", \"data de nascimento\", \"endereco\", \" cpf\", \"Valor Devido\", \"Valor ja pago\"]\n",
        "x = 0\n",
        "for e in cabecalho:\n",
        "  cabecalho[x] = cabecalho[x].strip()\n",
        "  cabecalho[x] = cabecalho[x].upper()\n",
        "  cabecalho[x] = cabecalho[x].replace(\" \", \"_\")\n",
        "  x += 1\n",
        "print(cabecalho)"
      ],
      "execution_count": 597,
      "outputs": [
        {
          "output_type": "stream",
          "text": [
            "['NOME', 'IDADE', 'DATA_DE_NASCIMENTO', 'ENDERECO', 'CPF', 'VALOR_DEVIDO', 'VALOR_JA_PAGO']\n"
          ],
          "name": "stdout"
        }
      ]
    }
  ]
}