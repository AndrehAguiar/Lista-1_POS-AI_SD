{
  "nbformat": 4,
  "nbformat_minor": 0,
  "metadata": {
    "file_extension": ".py",
    "kernelspec": {
      "display_name": "Python 3",
      "language": "python",
      "name": "python3"
    },
    "language_info": {
      "codemirror_mode": {
        "name": "ipython",
        "version": 3
      },
      "file_extension": ".py",
      "mimetype": "text/x-python",
      "name": "python",
      "nbconvert_exporter": "python",
      "pygments_lexer": "ipython3",
      "version": "3.7.4"
    },
    "mimetype": "text/x-python",
    "name": "python",
    "npconvert_exporter": "python",
    "pygments_lexer": "ipython3",
    "version": 3,
    "colab": {
      "name": "Projeto_1-Template.ipynb",
      "provenance": [],
      "collapsed_sections": [],
      "include_colab_link": true
    }
  },
  "cells": [
    {
      "cell_type": "markdown",
      "metadata": {
        "id": "view-in-github",
        "colab_type": "text"
      },
      "source": [
        "<a href=\"https://colab.research.google.com/github/AndrehAguiar/POS-Graduacao-Inteligecia_Artificial-Ciencia_de_Dados/blob/master/Projeto_1_Template.ipynb\" target=\"_parent\"><img src=\"https://colab.research.google.com/assets/colab-badge.svg\" alt=\"Open In Colab\"/></a>"
      ]
    },
    {
      "cell_type": "markdown",
      "metadata": {
        "id": "70rM0GMo2JU9",
        "colab_type": "text"
      },
      "source": [
        "# Projeto #1 - Análise Exploratória de Dados\n",
        "\n",
        "Antes de começar, leia as [Instruções](https://github.com/thvmm/pos-ds-ia/tree/master/projeto_1#instru%C3%A7%C3%B5es) e os [Critérios de Avaliação](https://github.com/thvmm/pos-ds-ia/tree/master/projeto_1#crit%C3%A9rios-de-avalia%C3%A7%C3%A3o)\n"
      ]
    },
    {
      "cell_type": "markdown",
      "metadata": {
        "id": "EIdVc_5v2JU_",
        "colab_type": "text"
      },
      "source": [
        "### 1) **(5%)** Qual a base escolhida e qual seu interesse nela?"
      ]
    },
    {
      "cell_type": "markdown",
      "metadata": {
        "id": "r8qR6gId2JVA",
        "colab_type": "text"
      },
      "source": [
        "*Indique o link da base no Kaggle e explique em um parágrafo curto por que essa base é interessante para você.*"
      ]
    },
    {
      "cell_type": "markdown",
      "metadata": {
        "id": "l4zUqfTsGCWv",
        "colab_type": "text"
      },
      "source": [
        "A base escolhida é o resultado de vários \"*merges*\" das bases geradas contratantes de \"*e-commerces*\" da Olist no brasil, pelo meu interesse em trabalhar com desenvolvimento e venda de aplicações \"*WEB**.<br />\n",
        "Disponíveis em https://www.kaggle.com/olistbr/marketing-funnel-olist, baixado no dia 10/11/2019 com o objetivo de identificar o comportamento dos contratantes e dos consumidores.<br />\n",
        "Poderão ser analisados pelo tempo do 1º contato até a data da compra, o meio pelo qual o \"*lead*\" foi captado,  pela região que tem a maior quantidade de compras e pelos tipos de produtos que serão ofertados pela plataforma.<br />\n",
        "Os contratantes também poderão ser analisados pelo seu porte e estrutura, fidelidade à plataforma e representate, formas de pagamento e valores.<br />\n",
        "As plataformas poderão ser analisadas pela satisfação do cliente de acordo com as \"*reviews*\" e recorrência de compras pelo mesmo cliente.\n"
      ]
    },
    {
      "cell_type": "markdown",
      "metadata": {
        "id": "DXBBxOep2JVB",
        "colab_type": "text"
      },
      "source": [
        "### 2) **(5%)** Descrição básica do conjunto de dados escolhido pelo aluno (1 parágrafo).\n",
        "- Identificação da variável a serem trabalhadas\n",
        "- Classificação das variáveis como: contínua ou discreta.\n"
      ]
    },
    {
      "cell_type": "markdown",
      "metadata": {
        "id": "bfppAQxy2JVC",
        "colab_type": "text"
      },
      "source": [
        "*Descrição da base e suas variáveis*"
      ]
    },
    {
      "cell_type": "markdown",
      "metadata": {
        "id": "H9IG578Mea-U",
        "colab_type": "text"
      },
      "source": [
        "As variáveis que serão utilizadas são:\n",
        "1. Contínuas:\n",
        "  * Média de tempo entre contato e conversão **(media_intervalo)**\n",
        "\n",
        "2. Discretas:\n",
        "  * Itervalo de tempo entre cada contato até a conversão do \"*lead*\" **(Intervalo)**\n",
        "  * Quantidade de \"*leads*\" captados, e \"*leads*\" por cada categoria **(Qtd Leads)**\n",
        "  * Quantidade de \"*leads*\" convertidos, e \"*leads*\" por cada categoria **(Qtd Conversões)**\n",
        "  * Porcetagem de \"*leads*\" convertidos, e \"*leads*\" por cada categoria **(Conversao(%))**"
      ]
    },
    {
      "cell_type": "markdown",
      "metadata": {
        "id": "2_FpBG0k2JVE",
        "colab_type": "text"
      },
      "source": [
        "### 2) **(15%)** Faça uma avaliação descritiva da sua base. Quantas linhas ela possui? Quais os tipos de dados? Quantas e quais features possuem?\n",
        "\n",
        "Cada variável escolhida pelo aluno precisa passar por ao menos 1 pré-processamento. O pré-processamento pode ser (mas não está limitado a):\n",
        "- Checagem se os valores estão dentro de um limite permitido ou razoável.\n",
        "- Tratamento de valores ausentes por eliminação ou substituição.\n",
        "- Conversão do tipo de dados.\n"
      ]
    },
    {
      "cell_type": "code",
      "metadata": {
        "id": "Ix0OfgzPUsxN",
        "colab_type": "code",
        "outputId": "774eed6b-9226-4c1c-d2f6-3feff360c6ea",
        "colab": {
          "base_uri": "https://localhost:8080/",
          "height": 34
        },
        "cellView": "form"
      },
      "source": [
        "#@title Importação das bibliotecas e leitura dos arquivos utilizados\n",
        "#Importando as bibliotecas usadas\n",
        "import numpy as np\n",
        "import pandas as pd\n",
        "import os\n",
        "import matplotlib.pyplot as plt\n",
        "import plotly.offline as py\n",
        "import plotly.graph_objs as go\n",
        "from plotly.subplots import make_subplots\n",
        "import datetime as dt\n",
        "from google.colab import drive\n",
        "drive.mount('/content/drive', force_remount=True)\n",
        "\n",
        "# Importando leads contatados\n",
        "arquivo = \"/content/drive/My Drive/Colab Notebooks/CSVs/marketing-funnel-olist/olist_closed_deals_dataset.csv\"\n",
        "# Lendo a base de leads\n",
        "df_deals = pd.read_csv(arquivo)\n",
        "\n",
        "# Importando leads qualificados\n",
        "arquivo = \"/content/drive/My Drive/Colab Notebooks/CSVs/marketing-funnel-olist/olist_marketing_qualified_leads_dataset.csv\"\n",
        "# Lendo a base de leads qualificados\n",
        "df_leads = pd.read_csv(arquivo)\n",
        "\n",
        "# Importando vendedores\n",
        "arquivo = \"/content/drive/My Drive/Colab Notebooks/CSVs/brazilian-ecommerce/olist_sellers_dataset.csv\"\n",
        "# Lendo a base de vendedores\n",
        "df_sellers = pd.read_csv(arquivo)\n",
        "\n",
        "# Importando dados dos clientes\n",
        "arquivo = \"/content/drive/My Drive/Colab Notebooks/CSVs/brazilian-ecommerce/olist_customers_dataset.csv\"\n",
        "# Lendo dados dos clientes\n",
        "df_clientes = pd.read_csv(arquivo)\n",
        "\n",
        "# Importando localização dos clientes\n",
        "arquivo = \"/content/drive/My Drive/Colab Notebooks/CSVs/brazilian-ecommerce/olist_geolocation_dataset.csv\"\n",
        "# Lendo localização dos clientes\n",
        "df_geo_locations = pd.read_csv(arquivo)\n",
        "\n",
        "# Importando ordens de compra dos clientes\n",
        "arquivo = \"/content/drive/My Drive/Colab Notebooks/CSVs/brazilian-ecommerce/olist_orders_dataset.csv\"\n",
        "# Lendo ordens de compras\n",
        "df_orders = pd.read_csv(arquivo)\n",
        "\n",
        "# Importando itens das ordens de compras\n",
        "arquivo = \"/content/drive/My Drive/Colab Notebooks/CSVs/brazilian-ecommerce/olist_order_items_dataset.csv\"\n",
        "# Lendo itens das ordens de compras\n",
        "df_itens_order = pd.read_csv(arquivo)\n",
        "\n",
        "# Mesclando base de leads com leads qualificados\n",
        "df = df_leads.merge(df_deals, on='mql_id', how='left')\n",
        "\n",
        "# Mesclando base de leads com vendedores\n",
        "df = df.merge(df_sellers, on='seller_id', how='left')\n",
        "\n",
        "# Mesclando base de leads com itens das ordens de compra\n",
        "df = df.merge(df_itens_order, on='seller_id', how='left')\n",
        "\n",
        "# Mesclando base de leads com ordens de compra\n",
        "df = df.merge(df_orders, on='order_id', how='left')\n",
        "\n",
        "# Mesclando base de leads com ordens de compra\n",
        "df = df.merge(df_clientes, on='customer_id', how='left')\n",
        "\n",
        "# Deletando colunas irrelevantes\n",
        "df.drop(['landing_page_id','seller_id','sdr_id','sr_id','lead_behaviour_profile','has_company','has_gtin','average_stock','declared_product_catalog_size','declared_monthly_revenue','seller_zip_code_prefix','seller_city','seller_state','order_item_id','shipping_limit_date','order_status','order_purchase_timestamp','order_approved_at','order_delivered_carrier_date','order_delivered_customer_date','order_estimated_delivery_date','order_status','order_purchase_timestamp'], inplace=True, axis=1)\n",
        "\n",
        "# Traduzindo os nomes das colunas\n",
        "df.columns = ['cliente_id','data_contato','origem_captacao','data_venda','segmento_neg','tipo_lead','tipo_negocio','compra_id','produto_id','preco_item','valor_frete','consumidor_id','consumidor_id_unico','geolocation_zip_code_prefix','consumidor_cidade','consumidor_estado']\n",
        "\n",
        "# Mesclando base de leads com localização\n",
        "df = df.merge(df_geo_locations, on='geolocation_zip_code_prefix', how='left')\n",
        "\n",
        "# Deletando colunas irrelevantes\n",
        "df.drop(['geolocation_city','geolocation_state'], inplace=True, axis=1)\n",
        "\n",
        "# Deletando linhas duplicadas\n",
        "df = df.drop_duplicates(['cliente_id'])"
      ],
      "execution_count": 1,
      "outputs": [
        {
          "output_type": "stream",
          "text": [
            "Mounted at /content/drive\n"
          ],
          "name": "stdout"
        }
      ]
    },
    {
      "cell_type": "code",
      "metadata": {
        "id": "W7CPT2HUAmBi",
        "colab_type": "code",
        "colab": {
          "base_uri": "https://localhost:8080/",
          "height": 297
        },
        "cellView": "form",
        "outputId": "ac89a191-9640-4463-8d9c-3d387871484a"
      },
      "source": [
        "#@title Checagem dos valores da base\n",
        "\"\"\"\n",
        "Avaliação descritiva da base.\n",
        "Quantas linhas ela possui?\n",
        "Quais os tipos de dados?\n",
        "Quantas e quais features possuem?\n",
        "\"\"\"\n",
        "# Avaliação descritiva da base.\n",
        "df.describe()"
      ],
      "execution_count": 2,
      "outputs": [
        {
          "output_type": "execute_result",
          "data": {
            "text/html": [
              "<div>\n",
              "<style scoped>\n",
              "    .dataframe tbody tr th:only-of-type {\n",
              "        vertical-align: middle;\n",
              "    }\n",
              "\n",
              "    .dataframe tbody tr th {\n",
              "        vertical-align: top;\n",
              "    }\n",
              "\n",
              "    .dataframe thead th {\n",
              "        text-align: right;\n",
              "    }\n",
              "</style>\n",
              "<table border=\"1\" class=\"dataframe\">\n",
              "  <thead>\n",
              "    <tr style=\"text-align: right;\">\n",
              "      <th></th>\n",
              "      <th>preco_item</th>\n",
              "      <th>valor_frete</th>\n",
              "      <th>geolocation_zip_code_prefix</th>\n",
              "      <th>geolocation_lat</th>\n",
              "      <th>geolocation_lng</th>\n",
              "    </tr>\n",
              "  </thead>\n",
              "  <tbody>\n",
              "    <tr>\n",
              "      <th>count</th>\n",
              "      <td>380.000000</td>\n",
              "      <td>380.000000</td>\n",
              "      <td>380.000000</td>\n",
              "      <td>380.000000</td>\n",
              "      <td>380.000000</td>\n",
              "    </tr>\n",
              "    <tr>\n",
              "      <th>mean</th>\n",
              "      <td>175.842079</td>\n",
              "      <td>23.742158</td>\n",
              "      <td>32024.639474</td>\n",
              "      <td>-21.629460</td>\n",
              "      <td>-46.019381</td>\n",
              "    </tr>\n",
              "    <tr>\n",
              "      <th>std</th>\n",
              "      <td>319.300706</td>\n",
              "      <td>21.674639</td>\n",
              "      <td>28984.237225</td>\n",
              "      <td>5.000702</td>\n",
              "      <td>3.736845</td>\n",
              "    </tr>\n",
              "    <tr>\n",
              "      <th>min</th>\n",
              "      <td>8.900000</td>\n",
              "      <td>0.000000</td>\n",
              "      <td>1024.000000</td>\n",
              "      <td>-30.243655</td>\n",
              "      <td>-67.803398</td>\n",
              "    </tr>\n",
              "    <tr>\n",
              "      <th>25%</th>\n",
              "      <td>39.980000</td>\n",
              "      <td>13.362500</td>\n",
              "      <td>9222.750000</td>\n",
              "      <td>-23.594819</td>\n",
              "      <td>-47.464777</td>\n",
              "    </tr>\n",
              "    <tr>\n",
              "      <th>50%</th>\n",
              "      <td>84.900000</td>\n",
              "      <td>18.370000</td>\n",
              "      <td>21350.500000</td>\n",
              "      <td>-23.015772</td>\n",
              "      <td>-46.589749</td>\n",
              "    </tr>\n",
              "    <tr>\n",
              "      <th>75%</th>\n",
              "      <td>159.225000</td>\n",
              "      <td>23.695000</td>\n",
              "      <td>44204.000000</td>\n",
              "      <td>-20.696712</td>\n",
              "      <td>-43.821986</td>\n",
              "    </tr>\n",
              "    <tr>\n",
              "      <th>max</th>\n",
              "      <td>2749.000000</td>\n",
              "      <td>203.380000</td>\n",
              "      <td>98200.000000</td>\n",
              "      <td>-1.339796</td>\n",
              "      <td>-34.836930</td>\n",
              "    </tr>\n",
              "  </tbody>\n",
              "</table>\n",
              "</div>"
            ],
            "text/plain": [
              "        preco_item  valor_frete  ...  geolocation_lat  geolocation_lng\n",
              "count   380.000000   380.000000  ...       380.000000       380.000000\n",
              "mean    175.842079    23.742158  ...       -21.629460       -46.019381\n",
              "std     319.300706    21.674639  ...         5.000702         3.736845\n",
              "min       8.900000     0.000000  ...       -30.243655       -67.803398\n",
              "25%      39.980000    13.362500  ...       -23.594819       -47.464777\n",
              "50%      84.900000    18.370000  ...       -23.015772       -46.589749\n",
              "75%     159.225000    23.695000  ...       -20.696712       -43.821986\n",
              "max    2749.000000   203.380000  ...        -1.339796       -34.836930\n",
              "\n",
              "[8 rows x 5 columns]"
            ]
          },
          "metadata": {
            "tags": []
          },
          "execution_count": 2
        }
      ]
    },
    {
      "cell_type": "code",
      "metadata": {
        "id": "FIi10BSHQGL9",
        "colab_type": "code",
        "outputId": "ed210006-3382-4939-da39-c5d2a189e414",
        "colab": {
          "base_uri": "https://localhost:8080/",
          "height": 255
        },
        "cellView": "form"
      },
      "source": [
        "#@title Checagem das dimensões da base (Linhas x Colunas)\n",
        "# Identificando dimensões da base\n",
        "df.head"
      ],
      "execution_count": 3,
      "outputs": [
        {
          "output_type": "execute_result",
          "data": {
            "text/plain": [
              "<bound method NDFrame.head of                               cliente_id  ... geolocation_lng\n",
              "0       dac32acd4db4c29c230538b72f8dd87d  ...             NaN\n",
              "1       8c18d1de7f67e60dbd64e3c07d7e9d5d  ...             NaN\n",
              "2       b4bc852d233dfefc5131f593b538befa  ...             NaN\n",
              "3       6be030b81c75970747525b843c1ef4f8  ...             NaN\n",
              "4       5420aad7fec3549a85876ba1c529bd84  ...      -47.000779\n",
              "...                                  ...  ...             ...\n",
              "782048  feaba3ffcd2ff97501696c7f9a42f41c  ...             NaN\n",
              "782049  a79cb53cd009ab92e0143b92baa2407b  ...             NaN\n",
              "782050  68f049a23ab109c6a0f6989bb9a02994  ...             NaN\n",
              "782051  4f8c96e2509b984329044c6682c88ee9  ...             NaN\n",
              "782052  8a6492305a5fbcdcdd1a7f5a90764c07  ...             NaN\n",
              "\n",
              "[8000 rows x 18 columns]>"
            ]
          },
          "metadata": {
            "tags": []
          },
          "execution_count": 3
        }
      ]
    },
    {
      "cell_type": "code",
      "metadata": {
        "id": "jDjOxGXFa8c4",
        "colab_type": "code",
        "outputId": "aab810c2-958b-48c9-a175-58d4529af147",
        "colab": {
          "base_uri": "https://localhost:8080/",
          "height": 340
        },
        "cellView": "form"
      },
      "source": [
        "#@title Checagem dos tipos de dados da base\n",
        "# Verificando tipos de dados da base\n",
        "df.dtypes"
      ],
      "execution_count": 4,
      "outputs": [
        {
          "output_type": "execute_result",
          "data": {
            "text/plain": [
              "cliente_id                      object\n",
              "data_contato                    object\n",
              "origem_captacao                 object\n",
              "data_venda                      object\n",
              "segmento_neg                    object\n",
              "tipo_lead                       object\n",
              "tipo_negocio                    object\n",
              "compra_id                       object\n",
              "produto_id                      object\n",
              "preco_item                     float64\n",
              "valor_frete                    float64\n",
              "consumidor_id                   object\n",
              "consumidor_id_unico             object\n",
              "geolocation_zip_code_prefix    float64\n",
              "consumidor_cidade               object\n",
              "consumidor_estado               object\n",
              "geolocation_lat                float64\n",
              "geolocation_lng                float64\n",
              "dtype: object"
            ]
          },
          "metadata": {
            "tags": []
          },
          "execution_count": 4
        }
      ]
    },
    {
      "cell_type": "code",
      "metadata": {
        "id": "fAcwwpmXk5Zb",
        "colab_type": "code",
        "outputId": "ed45e79d-cc95-4271-82b5-f4ddb20323b3",
        "colab": {
          "base_uri": "https://localhost:8080/",
          "height": 340
        },
        "cellView": "form"
      },
      "source": [
        "#@title Checagem e tratamento de valores nulos\n",
        "# Tratando valores nulos da base\n",
        "valores_nulos = ['origem_captacao',\n",
        "                 'data_venda',\n",
        "                 'segmento_neg',\n",
        "                 'tipo_lead',\n",
        "                 'tipo_negocio',\n",
        "                 'compra_id',\n",
        "                 'produto_id',\n",
        "                 'preco_item',\n",
        "                 'valor_frete',\n",
        "                 'consumidor_id',\n",
        "                 'consumidor_id_unico',\n",
        "                 'geolocation_zip_code_prefix',\n",
        "                 'consumidor_cidade',\n",
        "                 'consumidor_estado',\n",
        "                 'geolocation_lat',\n",
        "                 'geolocation_lng'\n",
        "]\n",
        "# Se for a coluna for a coluna de data da venda, insere a primeira data permitida de 1970\n",
        "for val in valores_nulos:\n",
        "  if val == \"origem_captacao\":\n",
        "    dado = 'unknown'\n",
        "  elif val == 'tipo_lead':\n",
        "    dado == 'other'\n",
        "  elif val == \"data_venda\":\n",
        "    dado = pd.to_datetime(0, infer_datetime_format=True)\n",
        "  else:\n",
        "    dado = 0\n",
        "  df.update(df[val].fillna(dado))\n",
        "\n",
        "df.isnull().sum()"
      ],
      "execution_count": 5,
      "outputs": [
        {
          "output_type": "execute_result",
          "data": {
            "text/plain": [
              "cliente_id                     0\n",
              "data_contato                   0\n",
              "origem_captacao                0\n",
              "data_venda                     0\n",
              "segmento_neg                   0\n",
              "tipo_lead                      0\n",
              "tipo_negocio                   0\n",
              "compra_id                      0\n",
              "produto_id                     0\n",
              "preco_item                     0\n",
              "valor_frete                    0\n",
              "consumidor_id                  0\n",
              "consumidor_id_unico            0\n",
              "geolocation_zip_code_prefix    0\n",
              "consumidor_cidade              0\n",
              "consumidor_estado              0\n",
              "geolocation_lat                0\n",
              "geolocation_lng                0\n",
              "dtype: int64"
            ]
          },
          "metadata": {
            "tags": []
          },
          "execution_count": 5
        }
      ]
    },
    {
      "cell_type": "code",
      "metadata": {
        "id": "n98zu6YWqou3",
        "colab_type": "code",
        "outputId": "1fd09a4e-4042-4209-94fb-27a2286d561a",
        "colab": {
          "base_uri": "https://localhost:8080/",
          "height": 85
        },
        "cellView": "form"
      },
      "source": [
        "#@title Cálculo da porcentagem de conversões por 'leads e contagem dos 'leads' e conversões\n",
        "\"\"\"Realação captação de leads/Conversao\"\"\"\n",
        "\n",
        "# Contando quantidade de leads na base\n",
        "leads = df.cliente_id.value_counts()\n",
        "qtd_leads = leads.count()\n",
        "\n",
        "# Contando quantidade de conversões na base\n",
        "conversao = df_deals.mql_id.value_counts()\n",
        "qtd_conversao = conversao.count()\n",
        "\n",
        "# Calculando a porcentagem de conversões por leads\n",
        "porcentagem = qtd_conversao / qtd_leads * 100\n",
        "\n",
        "# Arredondando e limitando o decimal a 2 dígitos\n",
        "porcentagem = round(porcentagem, 2)\n",
        "\n",
        "# Substituindo o ponto por vírgula\n",
        "porcentagem = str(porcentagem).replace(\".\", \",\")\n",
        "\n",
        "# Exibindo o resultado\n",
        "print('Total de leads =', qtd_leads,'\\nTotal de conversões =', qtd_conversao,'\\nPorcentagem de converção =', porcentagem,\"%\\nIlustrado no gráfico 'Relação contato / conversão' no final deste documento\")"
      ],
      "execution_count": 6,
      "outputs": [
        {
          "output_type": "stream",
          "text": [
            "Total de leads = 8000 \n",
            "Total de conversões = 842 \n",
            "Porcentagem de converção = 10,52 %\n",
            "Ilustrado no gráfico 'Relação contato / conversão' no final deste documento\n"
          ],
          "name": "stdout"
        }
      ]
    },
    {
      "cell_type": "code",
      "metadata": {
        "id": "GKC9Tz1Ni_Qn",
        "colab_type": "code",
        "colab": {
          "base_uri": "https://localhost:8080/",
          "height": 51
        },
        "cellView": "form",
        "outputId": "e99dfe61-eae2-4108-fdb0-cdc4cb0be123"
      },
      "source": [
        "#@title Conversão das colunas de datas e cálculo do intervalo entre contato e conversão\n",
        "# Convertendo tipo da coluna 'won_date' de objeto para datetime\n",
        "df_deals['won_date'] = pd.to_datetime(df_deals['won_date'], infer_datetime_format=True)\n",
        "\n",
        "# Agrupando e contando as datas das vendas\n",
        "dt_compra = df_deals.groupby(['won_date']).count()\n",
        "\n",
        "# Convertendo tipo da coluna 'data_contato' de objeto para datetime\n",
        "df['data_contato'] =  pd.to_datetime(df['data_contato'], infer_datetime_format=True)\n",
        "\n",
        "# Agrupando e contando as datas dos contatos\n",
        "dt_contato = df.groupby(['data_contato']).count()\n",
        "\n",
        "# Criando um Tabela com os dados necessários para identificar o intervalo médio entre o contato e a conversão\n",
        "df_contato_compra = pd.DataFrame({'Cliente ID':[]})\n",
        "\n",
        "# Declarando o contador para ID genérico\n",
        "qtd_item = 0\n",
        "\n",
        "# Inserindo os valores na Tabela\n",
        "for lead, row in df.iterrows():\n",
        "\n",
        "  # Criando condição para inserir os valores na tabela\n",
        "  if row['cliente_id'] in list(df_deals['mql_id']) and row['cliente_id'] not in list(df_contato_compra['Cliente ID']):\n",
        "    df_contato_compra.loc[qtd_item, 'Cliente ID'] = row['cliente_id']\n",
        "    df_contato_compra.loc[qtd_item, 'Data do Contato'] = row['data_contato']\n",
        "    data_venda = str(row['data_venda']).split(\" \")\n",
        "    df_contato_compra.loc[qtd_item, 'Data da Convesão'] = pd.to_datetime(data_venda[0], infer_datetime_format=True)\n",
        "    df_contato_compra.loc[qtd_item, 'ID'] = df_contato_compra['Cliente ID'].nunique()\n",
        "    df_contato_compra.loc[qtd_item, 'Intervalo'] = abs(df_contato_compra['Data da Convesão'][qtd_item] - df_contato_compra['Data do Contato'][qtd_item])\n",
        "    qtd_item = qtd_item + 1\n",
        "\n",
        "# Convertendo o tipo do ID genérico de float para integer\n",
        "df_contato_compra['ID'] = np.array([int(x) if int(x) == x else x for x in df_contato_compra['ID']], dtype=object)\n",
        "\n",
        "# Calcula a média entre o contato e a conversão\n",
        "media_intervalo = abs(df_contato_compra['Intervalo']).mean()\n",
        "\n",
        "# Formatando e traduzindo o formato do intervalo\n",
        "tempo = str(media_intervalo).split(':')\n",
        "day = tempo[0].split(\" \")\n",
        "\n",
        "# Exibindo o resultado\n",
        "print('A média de intervalo entre o contato e a compra é de', day[0], \"dias,\", day[2], \"horas\", tempo[1], \"min e\", round(float(tempo[2])), \"seg\\nIlustrado no gráfico 'Intervalo de tempo entre 1º contato e conversão' no final deste documento\")"
      ],
      "execution_count": 7,
      "outputs": [
        {
          "output_type": "stream",
          "text": [
            "A média de intervalo entre o contato e a compra é de 48 dias, 10 horas 41 min e 20 seg\n",
            "Ilustrado no gráfico 'Intervalo de tempo entre 1º contato e conversão' no final deste documento\n"
          ],
          "name": "stdout"
        }
      ]
    },
    {
      "cell_type": "code",
      "metadata": {
        "id": "USgmfrn_s3zY",
        "colab_type": "code",
        "outputId": "044fd4bf-eb6e-4fb4-c24c-3d9791cad2df",
        "colab": {
          "base_uri": "https://localhost:8080/",
          "height": 204
        },
        "cellView": "form"
      },
      "source": [
        "#@title Exibe a tabela criada com o intervalo das datas de contato e conversão.\n",
        "# Exibindo parte da tabela criada acima\n",
        "df_contato_compra.head(5)"
      ],
      "execution_count": 8,
      "outputs": [
        {
          "output_type": "execute_result",
          "data": {
            "text/html": [
              "<div>\n",
              "<style scoped>\n",
              "    .dataframe tbody tr th:only-of-type {\n",
              "        vertical-align: middle;\n",
              "    }\n",
              "\n",
              "    .dataframe tbody tr th {\n",
              "        vertical-align: top;\n",
              "    }\n",
              "\n",
              "    .dataframe thead th {\n",
              "        text-align: right;\n",
              "    }\n",
              "</style>\n",
              "<table border=\"1\" class=\"dataframe\">\n",
              "  <thead>\n",
              "    <tr style=\"text-align: right;\">\n",
              "      <th></th>\n",
              "      <th>Cliente ID</th>\n",
              "      <th>Data do Contato</th>\n",
              "      <th>Data da Convesão</th>\n",
              "      <th>ID</th>\n",
              "      <th>Intervalo</th>\n",
              "    </tr>\n",
              "  </thead>\n",
              "  <tbody>\n",
              "    <tr>\n",
              "      <th>0</th>\n",
              "      <td>5420aad7fec3549a85876ba1c529bd84</td>\n",
              "      <td>2018-02-21</td>\n",
              "      <td>2018-02-26</td>\n",
              "      <td>1</td>\n",
              "      <td>5 days</td>\n",
              "    </tr>\n",
              "    <tr>\n",
              "      <th>1</th>\n",
              "      <td>a555fb36b9368110ede0f043dfc3b9a0</td>\n",
              "      <td>2018-04-04</td>\n",
              "      <td>2018-05-08</td>\n",
              "      <td>2</td>\n",
              "      <td>34 days</td>\n",
              "    </tr>\n",
              "    <tr>\n",
              "      <th>2</th>\n",
              "      <td>327174d3648a2d047e8940d7d15204ca</td>\n",
              "      <td>2018-04-03</td>\n",
              "      <td>2018-06-05</td>\n",
              "      <td>3</td>\n",
              "      <td>63 days</td>\n",
              "    </tr>\n",
              "    <tr>\n",
              "      <th>3</th>\n",
              "      <td>f5fee8f7da74f4887f5bcae2bafb6dd6</td>\n",
              "      <td>2018-01-14</td>\n",
              "      <td>2018-01-17</td>\n",
              "      <td>4</td>\n",
              "      <td>3 days</td>\n",
              "    </tr>\n",
              "    <tr>\n",
              "      <th>4</th>\n",
              "      <td>ffe640179b554e295c167a2f6be528e0</td>\n",
              "      <td>2017-10-09</td>\n",
              "      <td>2018-07-03</td>\n",
              "      <td>5</td>\n",
              "      <td>267 days</td>\n",
              "    </tr>\n",
              "  </tbody>\n",
              "</table>\n",
              "</div>"
            ],
            "text/plain": [
              "                         Cliente ID Data do Contato  ... ID Intervalo\n",
              "0  5420aad7fec3549a85876ba1c529bd84      2018-02-21  ...  1    5 days\n",
              "1  a555fb36b9368110ede0f043dfc3b9a0      2018-04-04  ...  2   34 days\n",
              "2  327174d3648a2d047e8940d7d15204ca      2018-04-03  ...  3   63 days\n",
              "3  f5fee8f7da74f4887f5bcae2bafb6dd6      2018-01-14  ...  4    3 days\n",
              "4  ffe640179b554e295c167a2f6be528e0      2017-10-09  ...  5  267 days\n",
              "\n",
              "[5 rows x 5 columns]"
            ]
          },
          "metadata": {
            "tags": []
          },
          "execution_count": 8
        }
      ]
    },
    {
      "cell_type": "markdown",
      "metadata": {
        "id": "aAnL8o3j2JVJ",
        "colab_type": "text"
      },
      "source": [
        "### 4) **(60%)** Nos blocos seguintes construa análises que vão justificar suas conclusões."
      ]
    },
    {
      "cell_type": "markdown",
      "metadata": {
        "id": "ROMEu0jn2JVK",
        "colab_type": "text"
      },
      "source": [
        "#### 4.1) **(20%)** Análise 1 -  Distribuição dos valores para cada uma das variáveis\n",
        "- Exemplo para variável contínua: se o conjunto de dados possui a variável \"idade\". Quantos % possui a idade entre 0 e 30 anos? 31 a 59? 60+?\n",
        "\n",
        "- Exemplo para variável discreta: se o conjunto de dados possui a variável \"gênero\", quantos % do conjunto de dados é do sexo feminino, quantos % é masculino? Inclua outros gêneros se houver.\n"
      ]
    },
    {
      "cell_type": "code",
      "metadata": {
        "id": "xAIdmoBJv6xN",
        "colab_type": "code",
        "colab": {
          "base_uri": "https://localhost:8080/",
          "height": 359
        },
        "cellView": "form",
        "outputId": "f21ae0e1-c8ef-46b0-e861-56e4773e3e2a"
      },
      "source": [
        "#@title Distribuição dos valores das variáveis por Origem de captação\n",
        "\"\"\"\n",
        "Origem dos leads qualificados?\n",
        "E quais e quantos foram convertidos?\n",
        "\"\"\"\n",
        "# Criando tabela simplificada das origens de captação dos leads convertidos\n",
        "df_leads_origem = pd.DataFrame({'Cliente ID':[]})\n",
        "\n",
        "# Declarando contador para percorrer a base e inserir os valores necessários na tabela nova\n",
        "qtd_item = 0\n",
        "\n",
        "# Percorrendo a base\n",
        "for lead, row in df.iterrows():\n",
        "\n",
        "  # Criando condição para inserção somente dos valores de leads convertidos\n",
        "  if row['cliente_id'] in list(df_deals['mql_id']) and row['cliente_id'] not in list(df_leads_origem['Cliente ID']):\n",
        "      df_leads_origem.loc[qtd_item, 'Cliente ID'] = row['cliente_id']\n",
        "      df_leads_origem.loc[qtd_item, 'Origem Captacao'] = row['origem_captacao'].upper().replace(\"_\", \" \")\n",
        "      qtd_item += 1\n",
        "\n",
        "# Categorizando os leads convertidos pela origem de captação\n",
        "qtd_origem = df_leads_origem.groupby(['Origem Captacao']).count()\n",
        "\n",
        "# Criando tabela simplificada das origens de captação dos leads NÃO convertidos\n",
        "df_leads_null = pd.DataFrame({'Cliente ID':[]})\n",
        "\n",
        "# Declarando contador para percorrer a base e inserir os valores necessários na tabela nova\n",
        "qtd_item = 0\n",
        "\n",
        "# Percorrendo a base\n",
        "for lead, row in df.iterrows():\n",
        "\n",
        "  # Criando condição para inserção somente dos valores de leads NÃO convertidos\n",
        "  if row['cliente_id'] not in list(df_deals['mql_id']) and row['cliente_id'] not in list(df_leads_null['Cliente ID']):\n",
        "      df_leads_null.loc[qtd_item, 'Cliente ID'] = row['cliente_id']\n",
        "      df_leads_null.loc[qtd_item, 'Origem Captacao'] = row['origem_captacao'].upper().replace(\"_\", \" \")\n",
        "      qtd_item += 1\n",
        "\n",
        "# Contando a quantidade de leads NÃO convertidos por Origem de captação \n",
        "qtd_origem_null = df_leads_null.groupby(['Origem Captacao']).count()\n",
        "\n",
        "# Criando tabela para distibuição dos valores das variáveis leads, conversões e porcentagem de conversões\n",
        "df_distribui_leads = pd.DataFrame()\n",
        "\n",
        "# Declarando o contador para enumerar as origens\n",
        "qtd_item = 0\n",
        "\n",
        "# Inserindo os valores na tabela\n",
        "for dado in qtd_origem.index:\n",
        "  df_distribui_leads.loc[qtd_item, 'Origem Captacao'] = qtd_origem.index[qtd_item].upper().replace(\"_\", \" \")\n",
        "  df_distribui_leads.loc[qtd_item, 'Qtd. Leads'] = qtd_origem_null['Cliente ID'][qtd_item]\n",
        "  df_distribui_leads.loc[qtd_item, 'Qtd. Conversões'] = qtd_origem['Cliente ID'][qtd_item]\n",
        "  df_distribui_leads.loc[qtd_item, 'Conversões(%)'] = round(qtd_origem['Cliente ID'][qtd_item] / qtd_origem_null['Cliente ID'][qtd_item] * 100, 2)\n",
        "  #print(count,'-', qtd_origem.index[d],'\\nLeads:', qtd_origem_null['cliente_id'][d], '\\nConversões:', qtd_origem['cliente_id'][d], '\\nLeads convertidos:', porcent[d],'%\\n')\n",
        "  qtd_item += 1\n",
        "\n",
        "# Convertendo os valores 'Qtd. Leads' e 'Qtd. Conversões' de decimais para inteiros\n",
        "df_distribui_leads['Qtd. Leads'] = np.array([int(x) if int(x) == x else x for x in df_distribui_leads['Qtd. Leads']], dtype=object)\n",
        "df_distribui_leads['Qtd. Conversões'] = np.array([int(x) if int(x) == x else x for x in df_distribui_leads['Qtd. Conversões']], dtype=object)\n",
        "\n",
        "df_distribui_leads.head(10)"
      ],
      "execution_count": 9,
      "outputs": [
        {
          "output_type": "execute_result",
          "data": {
            "text/html": [
              "<div>\n",
              "<style scoped>\n",
              "    .dataframe tbody tr th:only-of-type {\n",
              "        vertical-align: middle;\n",
              "    }\n",
              "\n",
              "    .dataframe tbody tr th {\n",
              "        vertical-align: top;\n",
              "    }\n",
              "\n",
              "    .dataframe thead th {\n",
              "        text-align: right;\n",
              "    }\n",
              "</style>\n",
              "<table border=\"1\" class=\"dataframe\">\n",
              "  <thead>\n",
              "    <tr style=\"text-align: right;\">\n",
              "      <th></th>\n",
              "      <th>Origem Captacao</th>\n",
              "      <th>Qtd. Leads</th>\n",
              "      <th>Qtd. Conversões</th>\n",
              "      <th>Conversões(%)</th>\n",
              "    </tr>\n",
              "  </thead>\n",
              "  <tbody>\n",
              "    <tr>\n",
              "      <th>0</th>\n",
              "      <td>DIRECT TRAFFIC</td>\n",
              "      <td>443</td>\n",
              "      <td>56</td>\n",
              "      <td>12.64</td>\n",
              "    </tr>\n",
              "    <tr>\n",
              "      <th>1</th>\n",
              "      <td>DISPLAY</td>\n",
              "      <td>112</td>\n",
              "      <td>6</td>\n",
              "      <td>5.36</td>\n",
              "    </tr>\n",
              "    <tr>\n",
              "      <th>2</th>\n",
              "      <td>EMAIL</td>\n",
              "      <td>478</td>\n",
              "      <td>15</td>\n",
              "      <td>3.14</td>\n",
              "    </tr>\n",
              "    <tr>\n",
              "      <th>3</th>\n",
              "      <td>ORGANIC SEARCH</td>\n",
              "      <td>2025</td>\n",
              "      <td>271</td>\n",
              "      <td>13.38</td>\n",
              "    </tr>\n",
              "    <tr>\n",
              "      <th>4</th>\n",
              "      <td>OTHER</td>\n",
              "      <td>146</td>\n",
              "      <td>4</td>\n",
              "      <td>2.74</td>\n",
              "    </tr>\n",
              "    <tr>\n",
              "      <th>5</th>\n",
              "      <td>OTHER PUBLICITIES</td>\n",
              "      <td>62</td>\n",
              "      <td>3</td>\n",
              "      <td>4.84</td>\n",
              "    </tr>\n",
              "    <tr>\n",
              "      <th>6</th>\n",
              "      <td>PAID SEARCH</td>\n",
              "      <td>1391</td>\n",
              "      <td>195</td>\n",
              "      <td>14.02</td>\n",
              "    </tr>\n",
              "    <tr>\n",
              "      <th>7</th>\n",
              "      <td>REFERRAL</td>\n",
              "      <td>260</td>\n",
              "      <td>24</td>\n",
              "      <td>9.23</td>\n",
              "    </tr>\n",
              "    <tr>\n",
              "      <th>8</th>\n",
              "      <td>SOCIAL</td>\n",
              "      <td>1275</td>\n",
              "      <td>75</td>\n",
              "      <td>5.88</td>\n",
              "    </tr>\n",
              "    <tr>\n",
              "      <th>9</th>\n",
              "      <td>UNKNOWN</td>\n",
              "      <td>966</td>\n",
              "      <td>193</td>\n",
              "      <td>19.98</td>\n",
              "    </tr>\n",
              "  </tbody>\n",
              "</table>\n",
              "</div>"
            ],
            "text/plain": [
              "     Origem Captacao Qtd. Leads Qtd. Conversões  Conversões(%)\n",
              "0     DIRECT TRAFFIC        443              56          12.64\n",
              "1            DISPLAY        112               6           5.36\n",
              "2              EMAIL        478              15           3.14\n",
              "3     ORGANIC SEARCH       2025             271          13.38\n",
              "4              OTHER        146               4           2.74\n",
              "5  OTHER PUBLICITIES         62               3           4.84\n",
              "6        PAID SEARCH       1391             195          14.02\n",
              "7           REFERRAL        260              24           9.23\n",
              "8             SOCIAL       1275              75           5.88\n",
              "9            UNKNOWN        966             193          19.98"
            ]
          },
          "metadata": {
            "tags": []
          },
          "execution_count": 9
        }
      ]
    },
    {
      "cell_type": "code",
      "metadata": {
        "id": "_O6goY3Pe8FU",
        "colab_type": "code",
        "colab": {
          "base_uri": "https://localhost:8080/",
          "height": 359
        },
        "cellView": "form",
        "outputId": "afd011e8-4c56-4b15-835c-b36938fc8934"
      },
      "source": [
        "#@title Distribuição dos valores das variáveis por tipo de Segmento do negócio\n",
        "\n",
        "qtd_origem_null = df_leads_null.groupby(['Origem Captacao']).count()\n",
        "\n",
        "# Agrupando as conversões por segmento do negócio\n",
        "qtd_segmento = df.groupby(['segmento_neg']).count()\n",
        "\n",
        "# Criando tabela de distribuição dos valores das variáveis\n",
        "df_segmento = pd.DataFrame()\n",
        "\n",
        "# Declarando o contado para percorrer a tabela\n",
        "qtd_item = 0\n",
        "\n",
        "# Percorrendo a tabela para inserir os valores\n",
        "for deal, row in qtd_segmento.iterrows():\n",
        "\n",
        "  # Criando condição para inserir os valores na tabela\n",
        "  if deal != 0:\n",
        "    df_segmento.loc[qtd_item, 'Segmento'] = deal.upper().replace(\"_\", \" \")\n",
        "    df_segmento.loc[qtd_item, 'Qtd Conversões'] = row['data_venda']\n",
        "    df_segmento.loc[qtd_item, 'Conversões(%)'] = round(df_segmento['Qtd Conversões'][qtd_item] / qtd_conversao * 100, 2)\n",
        "    qtd_item += 1\n",
        "\n",
        "# Convertendo a Qtd Conversões de decimais para inteiros\n",
        "df_segmento['Qtd Conversões'] = np.array([int(x) if int(x) == x else x for x in df_segmento['Qtd Conversões']], dtype=object)\n",
        "\n",
        "df_segmento.head(10)"
      ],
      "execution_count": 10,
      "outputs": [
        {
          "output_type": "execute_result",
          "data": {
            "text/html": [
              "<div>\n",
              "<style scoped>\n",
              "    .dataframe tbody tr th:only-of-type {\n",
              "        vertical-align: middle;\n",
              "    }\n",
              "\n",
              "    .dataframe tbody tr th {\n",
              "        vertical-align: top;\n",
              "    }\n",
              "\n",
              "    .dataframe thead th {\n",
              "        text-align: right;\n",
              "    }\n",
              "</style>\n",
              "<table border=\"1\" class=\"dataframe\">\n",
              "  <thead>\n",
              "    <tr style=\"text-align: right;\">\n",
              "      <th></th>\n",
              "      <th>Segmento</th>\n",
              "      <th>Qtd Conversões</th>\n",
              "      <th>Conversões(%)</th>\n",
              "    </tr>\n",
              "  </thead>\n",
              "  <tbody>\n",
              "    <tr>\n",
              "      <th>0</th>\n",
              "      <td>AIR CONDITIONING</td>\n",
              "      <td>3</td>\n",
              "      <td>0.36</td>\n",
              "    </tr>\n",
              "    <tr>\n",
              "      <th>1</th>\n",
              "      <td>AUDIO VIDEO ELECTRONICS</td>\n",
              "      <td>64</td>\n",
              "      <td>7.60</td>\n",
              "    </tr>\n",
              "    <tr>\n",
              "      <th>2</th>\n",
              "      <td>BABY</td>\n",
              "      <td>10</td>\n",
              "      <td>1.19</td>\n",
              "    </tr>\n",
              "    <tr>\n",
              "      <th>3</th>\n",
              "      <td>BAGS BACKPACKS</td>\n",
              "      <td>22</td>\n",
              "      <td>2.61</td>\n",
              "    </tr>\n",
              "    <tr>\n",
              "      <th>4</th>\n",
              "      <td>BED BATH TABLE</td>\n",
              "      <td>22</td>\n",
              "      <td>2.61</td>\n",
              "    </tr>\n",
              "    <tr>\n",
              "      <th>5</th>\n",
              "      <td>BOOKS</td>\n",
              "      <td>9</td>\n",
              "      <td>1.07</td>\n",
              "    </tr>\n",
              "    <tr>\n",
              "      <th>6</th>\n",
              "      <td>CAR ACCESSORIES</td>\n",
              "      <td>77</td>\n",
              "      <td>9.14</td>\n",
              "    </tr>\n",
              "    <tr>\n",
              "      <th>7</th>\n",
              "      <td>COMPUTERS</td>\n",
              "      <td>34</td>\n",
              "      <td>4.04</td>\n",
              "    </tr>\n",
              "    <tr>\n",
              "      <th>8</th>\n",
              "      <td>CONSTRUCTION TOOLS HOUSE GARDEN</td>\n",
              "      <td>69</td>\n",
              "      <td>8.19</td>\n",
              "    </tr>\n",
              "    <tr>\n",
              "      <th>9</th>\n",
              "      <td>FASHION ACCESSORIES</td>\n",
              "      <td>19</td>\n",
              "      <td>2.26</td>\n",
              "    </tr>\n",
              "  </tbody>\n",
              "</table>\n",
              "</div>"
            ],
            "text/plain": [
              "                          Segmento Qtd Conversões  Conversões(%)\n",
              "0                 AIR CONDITIONING              3           0.36\n",
              "1          AUDIO VIDEO ELECTRONICS             64           7.60\n",
              "2                             BABY             10           1.19\n",
              "3                   BAGS BACKPACKS             22           2.61\n",
              "4                   BED BATH TABLE             22           2.61\n",
              "5                            BOOKS              9           1.07\n",
              "6                  CAR ACCESSORIES             77           9.14\n",
              "7                        COMPUTERS             34           4.04\n",
              "8  CONSTRUCTION TOOLS HOUSE GARDEN             69           8.19\n",
              "9              FASHION ACCESSORIES             19           2.26"
            ]
          },
          "metadata": {
            "tags": []
          },
          "execution_count": 10
        }
      ]
    },
    {
      "cell_type": "code",
      "metadata": {
        "id": "SOKhR9DqVtSc",
        "colab_type": "code",
        "colab": {
          "base_uri": "https://localhost:8080/",
          "height": 142
        },
        "cellView": "form",
        "outputId": "e339835f-cac4-4e0f-8c1c-3545490ce713"
      },
      "source": [
        "#@title Distribuição dos valores das variáveis por Tipo de negócio\n",
        "# Agrupando as conversões por modelo do negócio\n",
        "qtd_tp_negocio = df.groupby(['tipo_negocio']).count()\n",
        "\n",
        "# Criando tabela de distribuição dos valores das variáveis\n",
        "df_tp_negocio = pd.DataFrame()\n",
        "\n",
        "# Declarando o contado para percorrer a tabela\n",
        "qtd_item = 0\n",
        "\n",
        "# Percorrendo a tabela para inserir os valores\n",
        "for deal, row in qtd_tp_negocio.iterrows():\n",
        "\n",
        "  # Criando condição para inserir os valores na tabela\n",
        "  if deal != 0:\n",
        "    df_tp_negocio.loc[qtd_item, 'Tipo negócio'] = deal.upper()\n",
        "    df_tp_negocio.loc[qtd_item, 'Qtd Conversões'] = row['data_venda']    \n",
        "    df_tp_negocio.loc[qtd_item, 'Conversões(%)'] = round(df_tp_negocio['Qtd Conversões'][qtd_item] / qtd_conversao * 100, 2)\n",
        "    qtd_item += 1\n",
        "\n",
        "# Convertendo a Qtd Conversões de decimais para inteiros\n",
        "df_tp_negocio['Qtd Conversões'] = np.array([int(x) if int(x) == x else x for x in df_tp_negocio['Qtd Conversões']], dtype=object)\n",
        "\n",
        "df_tp_negocio.head(10)"
      ],
      "execution_count": 11,
      "outputs": [
        {
          "output_type": "execute_result",
          "data": {
            "text/html": [
              "<div>\n",
              "<style scoped>\n",
              "    .dataframe tbody tr th:only-of-type {\n",
              "        vertical-align: middle;\n",
              "    }\n",
              "\n",
              "    .dataframe tbody tr th {\n",
              "        vertical-align: top;\n",
              "    }\n",
              "\n",
              "    .dataframe thead th {\n",
              "        text-align: right;\n",
              "    }\n",
              "</style>\n",
              "<table border=\"1\" class=\"dataframe\">\n",
              "  <thead>\n",
              "    <tr style=\"text-align: right;\">\n",
              "      <th></th>\n",
              "      <th>Tipo negócio</th>\n",
              "      <th>Qtd Conversões</th>\n",
              "      <th>Conversões(%)</th>\n",
              "    </tr>\n",
              "  </thead>\n",
              "  <tbody>\n",
              "    <tr>\n",
              "      <th>0</th>\n",
              "      <td>MANUFACTURER</td>\n",
              "      <td>242</td>\n",
              "      <td>28.74</td>\n",
              "    </tr>\n",
              "    <tr>\n",
              "      <th>1</th>\n",
              "      <td>OTHER</td>\n",
              "      <td>3</td>\n",
              "      <td>0.36</td>\n",
              "    </tr>\n",
              "    <tr>\n",
              "      <th>2</th>\n",
              "      <td>RESELLER</td>\n",
              "      <td>587</td>\n",
              "      <td>69.71</td>\n",
              "    </tr>\n",
              "  </tbody>\n",
              "</table>\n",
              "</div>"
            ],
            "text/plain": [
              "   Tipo negócio Qtd Conversões  Conversões(%)\n",
              "0  MANUFACTURER            242          28.74\n",
              "1         OTHER              3           0.36\n",
              "2      RESELLER            587          69.71"
            ]
          },
          "metadata": {
            "tags": []
          },
          "execution_count": 11
        }
      ]
    },
    {
      "cell_type": "code",
      "metadata": {
        "id": "JrG8bQ0bW1-8",
        "colab_type": "code",
        "colab": {
          "base_uri": "https://localhost:8080/",
          "height": 297
        },
        "cellView": "form",
        "outputId": "6545d050-c978-4147-f52d-d49e6b12224d"
      },
      "source": [
        "#@title Distribuição dos valores das variáveis por Tipo de lead\n",
        "# Agrupando as conversões por tipo de lead\n",
        "qtd_tp_lead = df.groupby(['tipo_lead']).count()\n",
        "\n",
        "# Criando tabela de distribuição dos valores das variáveis\n",
        "df_tp_lead = pd.DataFrame()\n",
        "\n",
        "# Declarando o contado para percorrer a tabela\n",
        "qtd_item = 0\n",
        "\n",
        "# Percorrendo a tabela para inserir os valores\n",
        "for deal, row in qtd_tp_lead.iterrows():\n",
        "\n",
        "  # Criando condição para inserir os valores na tabela\n",
        "  if deal != 0:\n",
        "    df_tp_lead.loc[qtd_item, 'Tipo lead'] = deal.upper().replace(\"_\",\" \")\n",
        "    df_tp_lead.loc[qtd_item, 'Qtd Conversões'] = row['data_venda']\n",
        "    df_tp_lead.loc[qtd_item, 'Conversões(%)'] = round(df_tp_lead['Qtd Conversões'][qtd_item] / qtd_conversao * 100, 2)\n",
        "    qtd_item += 1\n",
        "\n",
        "# Convertendo a Qtd Conversões de decimais para inteiros\n",
        "df_tp_lead['Qtd Conversões'] = np.array([int(x) if int(x) == x else x for x in df_tp_lead['Qtd Conversões']], dtype=object)\n",
        "\n",
        "df_tp_lead.head(10)"
      ],
      "execution_count": 12,
      "outputs": [
        {
          "output_type": "execute_result",
          "data": {
            "text/html": [
              "<div>\n",
              "<style scoped>\n",
              "    .dataframe tbody tr th:only-of-type {\n",
              "        vertical-align: middle;\n",
              "    }\n",
              "\n",
              "    .dataframe tbody tr th {\n",
              "        vertical-align: top;\n",
              "    }\n",
              "\n",
              "    .dataframe thead th {\n",
              "        text-align: right;\n",
              "    }\n",
              "</style>\n",
              "<table border=\"1\" class=\"dataframe\">\n",
              "  <thead>\n",
              "    <tr style=\"text-align: right;\">\n",
              "      <th></th>\n",
              "      <th>Tipo lead</th>\n",
              "      <th>Qtd Conversões</th>\n",
              "      <th>Conversões(%)</th>\n",
              "    </tr>\n",
              "  </thead>\n",
              "  <tbody>\n",
              "    <tr>\n",
              "      <th>0</th>\n",
              "      <td>INDUSTRY</td>\n",
              "      <td>123</td>\n",
              "      <td>14.61</td>\n",
              "    </tr>\n",
              "    <tr>\n",
              "      <th>1</th>\n",
              "      <td>OFFLINE</td>\n",
              "      <td>104</td>\n",
              "      <td>12.35</td>\n",
              "    </tr>\n",
              "    <tr>\n",
              "      <th>2</th>\n",
              "      <td>ONLINE BEGINNER</td>\n",
              "      <td>57</td>\n",
              "      <td>6.77</td>\n",
              "    </tr>\n",
              "    <tr>\n",
              "      <th>3</th>\n",
              "      <td>ONLINE BIG</td>\n",
              "      <td>126</td>\n",
              "      <td>14.96</td>\n",
              "    </tr>\n",
              "    <tr>\n",
              "      <th>4</th>\n",
              "      <td>ONLINE MEDIUM</td>\n",
              "      <td>332</td>\n",
              "      <td>39.43</td>\n",
              "    </tr>\n",
              "    <tr>\n",
              "      <th>5</th>\n",
              "      <td>ONLINE SMALL</td>\n",
              "      <td>77</td>\n",
              "      <td>9.14</td>\n",
              "    </tr>\n",
              "    <tr>\n",
              "      <th>6</th>\n",
              "      <td>ONLINE TOP</td>\n",
              "      <td>14</td>\n",
              "      <td>1.66</td>\n",
              "    </tr>\n",
              "    <tr>\n",
              "      <th>7</th>\n",
              "      <td>OTHER</td>\n",
              "      <td>3</td>\n",
              "      <td>0.36</td>\n",
              "    </tr>\n",
              "  </tbody>\n",
              "</table>\n",
              "</div>"
            ],
            "text/plain": [
              "         Tipo lead Qtd Conversões  Conversões(%)\n",
              "0         INDUSTRY            123          14.61\n",
              "1          OFFLINE            104          12.35\n",
              "2  ONLINE BEGINNER             57           6.77\n",
              "3       ONLINE BIG            126          14.96\n",
              "4    ONLINE MEDIUM            332          39.43\n",
              "5     ONLINE SMALL             77           9.14\n",
              "6       ONLINE TOP             14           1.66\n",
              "7            OTHER              3           0.36"
            ]
          },
          "metadata": {
            "tags": []
          },
          "execution_count": 12
        }
      ]
    },
    {
      "cell_type": "markdown",
      "metadata": {
        "id": "B6VlP9F62JVP",
        "colab_type": "text"
      },
      "source": [
        "#### 4.2) **(20%)** Análise 2 - Dependência entre variáveis\n",
        "O aluno deve apresentar as mesmas distribuições para cada valor da variável dependente. Exemplo: Em um conjunto de dados em que as variáveis independentes são idade e sexo, e a variável dependente é renda. O aluno pode dividir a renda em 3 \"grupos\", <1000 reais, entre 1000 e 10000 reais e >1000 reais. Para cada um desses grupos, é necessário apresentar a distribuição das variáveis \"idade\" e \"sexo\".\n"
      ]
    },
    {
      "cell_type": "code",
      "metadata": {
        "id": "nEhSDjPDnKrt",
        "colab_type": "code",
        "colab": {
          "base_uri": "https://localhost:8080/",
          "height": 542
        },
        "cellView": "form",
        "outputId": "305b0c7c-1614-44af-a00b-7defee05985d"
      },
      "source": [
        "#@title Distribuição da variável dependente(Conversões), entre variáveis independentes(Origem da captição)\n",
        "# Declarando as etiquetas das fatias dos gráficos 'Pizza / Torta'\n",
        "labels = qtd_origem.index\n",
        "labels = labels\n",
        "\n",
        "# Definindo a quantidade de linhas e colunas do grupos de gráficos\n",
        "fig = make_subplots(rows=1, cols=2, specs=[[{'type':'domain'},{'type':'domain'}]])\n",
        "\n",
        "# Declarando os valores de cada gráfico\n",
        "# Gráfico 1\n",
        "fig.add_trace(go.Pie(labels=labels, values=qtd_origem['Cliente ID'], name='Qtd. Conversões'), 1,1)\n",
        "\n",
        "# Gráfico 2\n",
        "fig.add_trace(go.Pie(labels=labels, values=df_distribui_leads['Conversões(%)'], name='Eficácia origem'), 1,2)\n",
        "\n",
        "# Declarando as informações do POP UP no ponteiro do mouse\n",
        "fig.update_traces(hole=.1, hoverinfo='value+label+percent+name')\n",
        "\n",
        "# Definindo o layout do gráfico de Pizza\n",
        "fig.update_layout(\n",
        "    title_text=\"Porcentagem: 1 - Conversões por origem   /   2 - Correlação entre a Origem da captação e Conversão\",\n",
        "    annotations=[dict(text='1', x=0, y=1, font_size=20, showarrow=False),\n",
        "                    dict(text='2', x=0.55, y=1, font_size=20, showarrow=False)])\n",
        "\n",
        "# Plotando o gráfico\n",
        "fig.show()"
      ],
      "execution_count": 14,
      "outputs": [
        {
          "output_type": "display_data",
          "data": {
            "text/html": [
              "<html>\n",
              "<head><meta charset=\"utf-8\" /></head>\n",
              "<body>\n",
              "    <div>\n",
              "            <script src=\"https://cdnjs.cloudflare.com/ajax/libs/mathjax/2.7.5/MathJax.js?config=TeX-AMS-MML_SVG\"></script><script type=\"text/javascript\">if (window.MathJax) {MathJax.Hub.Config({SVG: {font: \"STIX-Web\"}});}</script>\n",
              "                <script type=\"text/javascript\">window.PlotlyConfig = {MathJaxConfig: 'local'};</script>\n",
              "        <script src=\"https://cdn.plot.ly/plotly-latest.min.js\"></script>    \n",
              "            <div id=\"9f18b08d-6ee5-4c5f-a282-99c7e8fbe618\" class=\"plotly-graph-div\" style=\"height:525px; width:100%;\"></div>\n",
              "            <script type=\"text/javascript\">\n",
              "                \n",
              "                    window.PLOTLYENV=window.PLOTLYENV || {};\n",
              "                    \n",
              "                if (document.getElementById(\"9f18b08d-6ee5-4c5f-a282-99c7e8fbe618\")) {\n",
              "                    Plotly.newPlot(\n",
              "                        '9f18b08d-6ee5-4c5f-a282-99c7e8fbe618',\n",
              "                        [{\"domain\": {\"x\": [0.0, 0.45], \"y\": [0.0, 1.0]}, \"hole\": 0.1, \"hoverinfo\": \"value+label+percent+name\", \"labels\": [\"DIRECT TRAFFIC\", \"DISPLAY\", \"EMAIL\", \"ORGANIC SEARCH\", \"OTHER\", \"OTHER PUBLICITIES\", \"PAID SEARCH\", \"REFERRAL\", \"SOCIAL\", \"UNKNOWN\"], \"name\": \"Qtd. Convers\\u00f5es\", \"type\": \"pie\", \"values\": [56, 6, 15, 271, 4, 3, 195, 24, 75, 193]}, {\"domain\": {\"x\": [0.55, 1.0], \"y\": [0.0, 1.0]}, \"hole\": 0.1, \"hoverinfo\": \"value+label+percent+name\", \"labels\": [\"DIRECT TRAFFIC\", \"DISPLAY\", \"EMAIL\", \"ORGANIC SEARCH\", \"OTHER\", \"OTHER PUBLICITIES\", \"PAID SEARCH\", \"REFERRAL\", \"SOCIAL\", \"UNKNOWN\"], \"name\": \"Efic\\u00e1cia origem\", \"type\": \"pie\", \"values\": [12.64, 5.36, 3.14, 13.38, 2.74, 4.84, 14.02, 9.23, 5.88, 19.98]}],\n",
              "                        {\"annotations\": [{\"font\": {\"size\": 20}, \"showarrow\": false, \"text\": \"1\", \"x\": 0, \"y\": 1}, {\"font\": {\"size\": 20}, \"showarrow\": false, \"text\": \"2\", \"x\": 0.55, \"y\": 1}], \"template\": {\"data\": {\"bar\": [{\"error_x\": {\"color\": \"#2a3f5f\"}, \"error_y\": {\"color\": \"#2a3f5f\"}, \"marker\": {\"line\": {\"color\": \"#E5ECF6\", \"width\": 0.5}}, \"type\": \"bar\"}], \"barpolar\": [{\"marker\": {\"line\": {\"color\": \"#E5ECF6\", \"width\": 0.5}}, \"type\": \"barpolar\"}], \"carpet\": [{\"aaxis\": {\"endlinecolor\": \"#2a3f5f\", \"gridcolor\": \"white\", \"linecolor\": \"white\", \"minorgridcolor\": \"white\", \"startlinecolor\": \"#2a3f5f\"}, \"baxis\": {\"endlinecolor\": \"#2a3f5f\", \"gridcolor\": \"white\", \"linecolor\": \"white\", \"minorgridcolor\": \"white\", \"startlinecolor\": \"#2a3f5f\"}, \"type\": \"carpet\"}], \"choropleth\": [{\"colorbar\": {\"outlinewidth\": 0, \"ticks\": \"\"}, \"type\": \"choropleth\"}], \"contour\": [{\"colorbar\": {\"outlinewidth\": 0, \"ticks\": \"\"}, \"colorscale\": [[0.0, \"#0d0887\"], [0.1111111111111111, \"#46039f\"], [0.2222222222222222, \"#7201a8\"], [0.3333333333333333, \"#9c179e\"], [0.4444444444444444, \"#bd3786\"], [0.5555555555555556, \"#d8576b\"], [0.6666666666666666, \"#ed7953\"], [0.7777777777777778, \"#fb9f3a\"], [0.8888888888888888, \"#fdca26\"], [1.0, \"#f0f921\"]], \"type\": \"contour\"}], \"contourcarpet\": [{\"colorbar\": {\"outlinewidth\": 0, \"ticks\": \"\"}, \"type\": \"contourcarpet\"}], \"heatmap\": [{\"colorbar\": {\"outlinewidth\": 0, \"ticks\": \"\"}, \"colorscale\": [[0.0, \"#0d0887\"], [0.1111111111111111, \"#46039f\"], [0.2222222222222222, \"#7201a8\"], [0.3333333333333333, \"#9c179e\"], [0.4444444444444444, \"#bd3786\"], [0.5555555555555556, \"#d8576b\"], [0.6666666666666666, \"#ed7953\"], [0.7777777777777778, \"#fb9f3a\"], [0.8888888888888888, \"#fdca26\"], [1.0, \"#f0f921\"]], \"type\": \"heatmap\"}], \"heatmapgl\": [{\"colorbar\": {\"outlinewidth\": 0, \"ticks\": \"\"}, \"colorscale\": [[0.0, \"#0d0887\"], [0.1111111111111111, \"#46039f\"], [0.2222222222222222, \"#7201a8\"], [0.3333333333333333, \"#9c179e\"], [0.4444444444444444, \"#bd3786\"], [0.5555555555555556, \"#d8576b\"], [0.6666666666666666, \"#ed7953\"], [0.7777777777777778, \"#fb9f3a\"], [0.8888888888888888, \"#fdca26\"], [1.0, \"#f0f921\"]], \"type\": \"heatmapgl\"}], \"histogram\": [{\"marker\": {\"colorbar\": {\"outlinewidth\": 0, \"ticks\": \"\"}}, \"type\": \"histogram\"}], \"histogram2d\": [{\"colorbar\": {\"outlinewidth\": 0, \"ticks\": \"\"}, \"colorscale\": [[0.0, \"#0d0887\"], [0.1111111111111111, \"#46039f\"], [0.2222222222222222, \"#7201a8\"], [0.3333333333333333, \"#9c179e\"], [0.4444444444444444, \"#bd3786\"], [0.5555555555555556, \"#d8576b\"], [0.6666666666666666, \"#ed7953\"], [0.7777777777777778, \"#fb9f3a\"], [0.8888888888888888, \"#fdca26\"], [1.0, \"#f0f921\"]], \"type\": \"histogram2d\"}], \"histogram2dcontour\": [{\"colorbar\": {\"outlinewidth\": 0, \"ticks\": \"\"}, \"colorscale\": [[0.0, \"#0d0887\"], [0.1111111111111111, \"#46039f\"], [0.2222222222222222, \"#7201a8\"], [0.3333333333333333, \"#9c179e\"], [0.4444444444444444, \"#bd3786\"], [0.5555555555555556, \"#d8576b\"], [0.6666666666666666, \"#ed7953\"], [0.7777777777777778, \"#fb9f3a\"], [0.8888888888888888, \"#fdca26\"], [1.0, \"#f0f921\"]], \"type\": \"histogram2dcontour\"}], \"mesh3d\": [{\"colorbar\": {\"outlinewidth\": 0, \"ticks\": \"\"}, \"type\": \"mesh3d\"}], \"parcoords\": [{\"line\": {\"colorbar\": {\"outlinewidth\": 0, \"ticks\": \"\"}}, \"type\": \"parcoords\"}], \"scatter\": [{\"marker\": {\"colorbar\": {\"outlinewidth\": 0, \"ticks\": \"\"}}, \"type\": \"scatter\"}], \"scatter3d\": [{\"line\": {\"colorbar\": {\"outlinewidth\": 0, \"ticks\": \"\"}}, \"marker\": {\"colorbar\": {\"outlinewidth\": 0, \"ticks\": \"\"}}, \"type\": \"scatter3d\"}], \"scattercarpet\": [{\"marker\": {\"colorbar\": {\"outlinewidth\": 0, \"ticks\": \"\"}}, \"type\": \"scattercarpet\"}], \"scattergeo\": [{\"marker\": {\"colorbar\": {\"outlinewidth\": 0, \"ticks\": \"\"}}, \"type\": \"scattergeo\"}], \"scattergl\": [{\"marker\": {\"colorbar\": {\"outlinewidth\": 0, \"ticks\": \"\"}}, \"type\": \"scattergl\"}], \"scattermapbox\": [{\"marker\": {\"colorbar\": {\"outlinewidth\": 0, \"ticks\": \"\"}}, \"type\": \"scattermapbox\"}], \"scatterpolar\": [{\"marker\": {\"colorbar\": {\"outlinewidth\": 0, \"ticks\": \"\"}}, \"type\": \"scatterpolar\"}], \"scatterpolargl\": [{\"marker\": {\"colorbar\": {\"outlinewidth\": 0, \"ticks\": \"\"}}, \"type\": \"scatterpolargl\"}], \"scatterternary\": [{\"marker\": {\"colorbar\": {\"outlinewidth\": 0, \"ticks\": \"\"}}, \"type\": \"scatterternary\"}], \"surface\": [{\"colorbar\": {\"outlinewidth\": 0, \"ticks\": \"\"}, \"colorscale\": [[0.0, \"#0d0887\"], [0.1111111111111111, \"#46039f\"], [0.2222222222222222, \"#7201a8\"], [0.3333333333333333, \"#9c179e\"], [0.4444444444444444, \"#bd3786\"], [0.5555555555555556, \"#d8576b\"], [0.6666666666666666, \"#ed7953\"], [0.7777777777777778, \"#fb9f3a\"], [0.8888888888888888, \"#fdca26\"], [1.0, \"#f0f921\"]], \"type\": \"surface\"}], \"table\": [{\"cells\": {\"fill\": {\"color\": \"#EBF0F8\"}, \"line\": {\"color\": \"white\"}}, \"header\": {\"fill\": {\"color\": \"#C8D4E3\"}, \"line\": {\"color\": \"white\"}}, \"type\": \"table\"}]}, \"layout\": {\"annotationdefaults\": {\"arrowcolor\": \"#2a3f5f\", \"arrowhead\": 0, \"arrowwidth\": 1}, \"colorscale\": {\"diverging\": [[0, \"#8e0152\"], [0.1, \"#c51b7d\"], [0.2, \"#de77ae\"], [0.3, \"#f1b6da\"], [0.4, \"#fde0ef\"], [0.5, \"#f7f7f7\"], [0.6, \"#e6f5d0\"], [0.7, \"#b8e186\"], [0.8, \"#7fbc41\"], [0.9, \"#4d9221\"], [1, \"#276419\"]], \"sequential\": [[0.0, \"#0d0887\"], [0.1111111111111111, \"#46039f\"], [0.2222222222222222, \"#7201a8\"], [0.3333333333333333, \"#9c179e\"], [0.4444444444444444, \"#bd3786\"], [0.5555555555555556, \"#d8576b\"], [0.6666666666666666, \"#ed7953\"], [0.7777777777777778, \"#fb9f3a\"], [0.8888888888888888, \"#fdca26\"], [1.0, \"#f0f921\"]], \"sequentialminus\": [[0.0, \"#0d0887\"], [0.1111111111111111, \"#46039f\"], [0.2222222222222222, \"#7201a8\"], [0.3333333333333333, \"#9c179e\"], [0.4444444444444444, \"#bd3786\"], [0.5555555555555556, \"#d8576b\"], [0.6666666666666666, \"#ed7953\"], [0.7777777777777778, \"#fb9f3a\"], [0.8888888888888888, \"#fdca26\"], [1.0, \"#f0f921\"]]}, \"colorway\": [\"#636efa\", \"#EF553B\", \"#00cc96\", \"#ab63fa\", \"#FFA15A\", \"#19d3f3\", \"#FF6692\", \"#B6E880\", \"#FF97FF\", \"#FECB52\"], \"font\": {\"color\": \"#2a3f5f\"}, \"geo\": {\"bgcolor\": \"white\", \"lakecolor\": \"white\", \"landcolor\": \"#E5ECF6\", \"showlakes\": true, \"showland\": true, \"subunitcolor\": \"white\"}, \"hoverlabel\": {\"align\": \"left\"}, \"hovermode\": \"closest\", \"mapbox\": {\"style\": \"light\"}, \"paper_bgcolor\": \"white\", \"plot_bgcolor\": \"#E5ECF6\", \"polar\": {\"angularaxis\": {\"gridcolor\": \"white\", \"linecolor\": \"white\", \"ticks\": \"\"}, \"bgcolor\": \"#E5ECF6\", \"radialaxis\": {\"gridcolor\": \"white\", \"linecolor\": \"white\", \"ticks\": \"\"}}, \"scene\": {\"xaxis\": {\"backgroundcolor\": \"#E5ECF6\", \"gridcolor\": \"white\", \"gridwidth\": 2, \"linecolor\": \"white\", \"showbackground\": true, \"ticks\": \"\", \"zerolinecolor\": \"white\"}, \"yaxis\": {\"backgroundcolor\": \"#E5ECF6\", \"gridcolor\": \"white\", \"gridwidth\": 2, \"linecolor\": \"white\", \"showbackground\": true, \"ticks\": \"\", \"zerolinecolor\": \"white\"}, \"zaxis\": {\"backgroundcolor\": \"#E5ECF6\", \"gridcolor\": \"white\", \"gridwidth\": 2, \"linecolor\": \"white\", \"showbackground\": true, \"ticks\": \"\", \"zerolinecolor\": \"white\"}}, \"shapedefaults\": {\"line\": {\"color\": \"#2a3f5f\"}}, \"ternary\": {\"aaxis\": {\"gridcolor\": \"white\", \"linecolor\": \"white\", \"ticks\": \"\"}, \"baxis\": {\"gridcolor\": \"white\", \"linecolor\": \"white\", \"ticks\": \"\"}, \"bgcolor\": \"#E5ECF6\", \"caxis\": {\"gridcolor\": \"white\", \"linecolor\": \"white\", \"ticks\": \"\"}}, \"title\": {\"x\": 0.05}, \"xaxis\": {\"automargin\": true, \"gridcolor\": \"white\", \"linecolor\": \"white\", \"ticks\": \"\", \"zerolinecolor\": \"white\", \"zerolinewidth\": 2}, \"yaxis\": {\"automargin\": true, \"gridcolor\": \"white\", \"linecolor\": \"white\", \"ticks\": \"\", \"zerolinecolor\": \"white\", \"zerolinewidth\": 2}}}, \"title\": {\"text\": \"Porcentagem: 1 - Convers\\u00f5es por origem   /   2 - Correla\\u00e7\\u00e3o entre a Origem da capta\\u00e7\\u00e3o e Convers\\u00e3o\"}},\n",
              "                        {\"responsive\": true}\n",
              "                    ).then(function(){\n",
              "                            \n",
              "var gd = document.getElementById('9f18b08d-6ee5-4c5f-a282-99c7e8fbe618');\n",
              "var x = new MutationObserver(function (mutations, observer) {{\n",
              "        var display = window.getComputedStyle(gd).display;\n",
              "        if (!display || display === 'none') {{\n",
              "            console.log([gd, 'removed!']);\n",
              "            Plotly.purge(gd);\n",
              "            observer.disconnect();\n",
              "        }}\n",
              "}});\n",
              "\n",
              "// Listen for the removal of the full notebook cells\n",
              "var notebookContainer = gd.closest('#notebook-container');\n",
              "if (notebookContainer) {{\n",
              "    x.observe(notebookContainer, {childList: true});\n",
              "}}\n",
              "\n",
              "// Listen for the clearing of the current output cell\n",
              "var outputEl = gd.closest('.output');\n",
              "if (outputEl) {{\n",
              "    x.observe(outputEl, {childList: true});\n",
              "}}\n",
              "\n",
              "                        })\n",
              "                };\n",
              "                \n",
              "            </script>\n",
              "        </div>\n",
              "</body>\n",
              "</html>"
            ]
          },
          "metadata": {
            "tags": []
          }
        }
      ]
    },
    {
      "cell_type": "code",
      "metadata": {
        "id": "AK4O22GRYbxV",
        "colab_type": "code",
        "colab": {
          "base_uri": "https://localhost:8080/",
          "height": 542
        },
        "cellView": "form",
        "outputId": "2fde2ccb-fabb-4315-b841-edfc50499e36"
      },
      "source": [
        "#@title Distribuição da variável dependente(Conversões), entre variáveis independentes(Tipo de Lead e Tipo de negócio)\n",
        "labels1 = df_tp_lead['Tipo lead']\n",
        "labels2 = df_tp_negocio['Tipo negócio']\n",
        "\n",
        "# Definindo a quantidade de linhas e colunas do grupos de gráficos\n",
        "fig = make_subplots(rows=1, cols=2, specs=[[{'type':'domain'},{'type':'domain'}]])\n",
        "\n",
        "# Declarando os valores de cada gráfico\n",
        "# Gráfico 1\n",
        "fig.add_trace(go.Pie(labels=labels1, values= df_tp_lead['Qtd Conversões'], name='Classe lead'), 1,1)\n",
        "\n",
        "# Gráfico 2\n",
        "fig.add_trace(go.Pie(labels=labels2, values= df_tp_negocio['Qtd Conversões'], name='Modelo'), 1,2)\n",
        "\n",
        "# Declarando as informações do POP UP no ponteiro do mouse\n",
        "fig.update_traces(hole=.1, hoverinfo='label+value+percent+name')\n",
        "\n",
        "# Definindo o layout do gráfico de Pizza\n",
        "fig.update_layout(\n",
        "    title_text=\"Público: 1 - Conversões por Tipo de 'lead'   /   2 - Conversões por Tipo de negócio\",\n",
        "    annotations=[dict(text='1', x=0, y=1, font_size=20, showarrow=False),\n",
        "                    dict(text='2', x=0.55, y=1, font_size=20, showarrow=False)])\n",
        "\n",
        "# Plotando o gráfico\n",
        "fig.show()"
      ],
      "execution_count": 15,
      "outputs": [
        {
          "output_type": "display_data",
          "data": {
            "text/html": [
              "<html>\n",
              "<head><meta charset=\"utf-8\" /></head>\n",
              "<body>\n",
              "    <div>\n",
              "            <script src=\"https://cdnjs.cloudflare.com/ajax/libs/mathjax/2.7.5/MathJax.js?config=TeX-AMS-MML_SVG\"></script><script type=\"text/javascript\">if (window.MathJax) {MathJax.Hub.Config({SVG: {font: \"STIX-Web\"}});}</script>\n",
              "                <script type=\"text/javascript\">window.PlotlyConfig = {MathJaxConfig: 'local'};</script>\n",
              "        <script src=\"https://cdn.plot.ly/plotly-latest.min.js\"></script>    \n",
              "            <div id=\"50cd22c2-db8f-4808-b1ad-8a3fd725c9a4\" class=\"plotly-graph-div\" style=\"height:525px; width:100%;\"></div>\n",
              "            <script type=\"text/javascript\">\n",
              "                \n",
              "                    window.PLOTLYENV=window.PLOTLYENV || {};\n",
              "                    \n",
              "                if (document.getElementById(\"50cd22c2-db8f-4808-b1ad-8a3fd725c9a4\")) {\n",
              "                    Plotly.newPlot(\n",
              "                        '50cd22c2-db8f-4808-b1ad-8a3fd725c9a4',\n",
              "                        [{\"domain\": {\"x\": [0.0, 0.45], \"y\": [0.0, 1.0]}, \"hole\": 0.1, \"hoverinfo\": \"label+value+percent+name\", \"labels\": [\"INDUSTRY\", \"OFFLINE\", \"ONLINE BEGINNER\", \"ONLINE BIG\", \"ONLINE MEDIUM\", \"ONLINE SMALL\", \"ONLINE TOP\", \"OTHER\"], \"name\": \"Classe lead\", \"type\": \"pie\", \"values\": [123, 104, 57, 126, 332, 77, 14, 3]}, {\"domain\": {\"x\": [0.55, 1.0], \"y\": [0.0, 1.0]}, \"hole\": 0.1, \"hoverinfo\": \"label+value+percent+name\", \"labels\": [\"MANUFACTURER\", \"OTHER\", \"RESELLER\"], \"name\": \"Modelo\", \"type\": \"pie\", \"values\": [242, 3, 587]}],\n",
              "                        {\"annotations\": [{\"font\": {\"size\": 20}, \"showarrow\": false, \"text\": \"1\", \"x\": 0, \"y\": 1}, {\"font\": {\"size\": 20}, \"showarrow\": false, \"text\": \"2\", \"x\": 0.55, \"y\": 1}], \"template\": {\"data\": {\"bar\": [{\"error_x\": {\"color\": \"#2a3f5f\"}, \"error_y\": {\"color\": \"#2a3f5f\"}, \"marker\": {\"line\": {\"color\": \"#E5ECF6\", \"width\": 0.5}}, \"type\": \"bar\"}], \"barpolar\": [{\"marker\": {\"line\": {\"color\": \"#E5ECF6\", \"width\": 0.5}}, \"type\": \"barpolar\"}], \"carpet\": [{\"aaxis\": {\"endlinecolor\": \"#2a3f5f\", \"gridcolor\": \"white\", \"linecolor\": \"white\", \"minorgridcolor\": \"white\", \"startlinecolor\": \"#2a3f5f\"}, \"baxis\": {\"endlinecolor\": \"#2a3f5f\", \"gridcolor\": \"white\", \"linecolor\": \"white\", \"minorgridcolor\": \"white\", \"startlinecolor\": \"#2a3f5f\"}, \"type\": \"carpet\"}], \"choropleth\": [{\"colorbar\": {\"outlinewidth\": 0, \"ticks\": \"\"}, \"type\": \"choropleth\"}], \"contour\": [{\"colorbar\": {\"outlinewidth\": 0, \"ticks\": \"\"}, \"colorscale\": [[0.0, \"#0d0887\"], [0.1111111111111111, \"#46039f\"], [0.2222222222222222, \"#7201a8\"], [0.3333333333333333, \"#9c179e\"], [0.4444444444444444, \"#bd3786\"], [0.5555555555555556, \"#d8576b\"], [0.6666666666666666, \"#ed7953\"], [0.7777777777777778, \"#fb9f3a\"], [0.8888888888888888, \"#fdca26\"], [1.0, \"#f0f921\"]], \"type\": \"contour\"}], \"contourcarpet\": [{\"colorbar\": {\"outlinewidth\": 0, \"ticks\": \"\"}, \"type\": \"contourcarpet\"}], \"heatmap\": [{\"colorbar\": {\"outlinewidth\": 0, \"ticks\": \"\"}, \"colorscale\": [[0.0, \"#0d0887\"], [0.1111111111111111, \"#46039f\"], [0.2222222222222222, \"#7201a8\"], [0.3333333333333333, \"#9c179e\"], [0.4444444444444444, \"#bd3786\"], [0.5555555555555556, \"#d8576b\"], [0.6666666666666666, \"#ed7953\"], [0.7777777777777778, \"#fb9f3a\"], [0.8888888888888888, \"#fdca26\"], [1.0, \"#f0f921\"]], \"type\": \"heatmap\"}], \"heatmapgl\": [{\"colorbar\": {\"outlinewidth\": 0, \"ticks\": \"\"}, \"colorscale\": [[0.0, \"#0d0887\"], [0.1111111111111111, \"#46039f\"], [0.2222222222222222, \"#7201a8\"], [0.3333333333333333, \"#9c179e\"], [0.4444444444444444, \"#bd3786\"], [0.5555555555555556, \"#d8576b\"], [0.6666666666666666, \"#ed7953\"], [0.7777777777777778, \"#fb9f3a\"], [0.8888888888888888, \"#fdca26\"], [1.0, \"#f0f921\"]], \"type\": \"heatmapgl\"}], \"histogram\": [{\"marker\": {\"colorbar\": {\"outlinewidth\": 0, \"ticks\": \"\"}}, \"type\": \"histogram\"}], \"histogram2d\": [{\"colorbar\": {\"outlinewidth\": 0, \"ticks\": \"\"}, \"colorscale\": [[0.0, \"#0d0887\"], [0.1111111111111111, \"#46039f\"], [0.2222222222222222, \"#7201a8\"], [0.3333333333333333, \"#9c179e\"], [0.4444444444444444, \"#bd3786\"], [0.5555555555555556, \"#d8576b\"], [0.6666666666666666, \"#ed7953\"], [0.7777777777777778, \"#fb9f3a\"], [0.8888888888888888, \"#fdca26\"], [1.0, \"#f0f921\"]], \"type\": \"histogram2d\"}], \"histogram2dcontour\": [{\"colorbar\": {\"outlinewidth\": 0, \"ticks\": \"\"}, \"colorscale\": [[0.0, \"#0d0887\"], [0.1111111111111111, \"#46039f\"], [0.2222222222222222, \"#7201a8\"], [0.3333333333333333, \"#9c179e\"], [0.4444444444444444, \"#bd3786\"], [0.5555555555555556, \"#d8576b\"], [0.6666666666666666, \"#ed7953\"], [0.7777777777777778, \"#fb9f3a\"], [0.8888888888888888, \"#fdca26\"], [1.0, \"#f0f921\"]], \"type\": \"histogram2dcontour\"}], \"mesh3d\": [{\"colorbar\": {\"outlinewidth\": 0, \"ticks\": \"\"}, \"type\": \"mesh3d\"}], \"parcoords\": [{\"line\": {\"colorbar\": {\"outlinewidth\": 0, \"ticks\": \"\"}}, \"type\": \"parcoords\"}], \"scatter\": [{\"marker\": {\"colorbar\": {\"outlinewidth\": 0, \"ticks\": \"\"}}, \"type\": \"scatter\"}], \"scatter3d\": [{\"line\": {\"colorbar\": {\"outlinewidth\": 0, \"ticks\": \"\"}}, \"marker\": {\"colorbar\": {\"outlinewidth\": 0, \"ticks\": \"\"}}, \"type\": \"scatter3d\"}], \"scattercarpet\": [{\"marker\": {\"colorbar\": {\"outlinewidth\": 0, \"ticks\": \"\"}}, \"type\": \"scattercarpet\"}], \"scattergeo\": [{\"marker\": {\"colorbar\": {\"outlinewidth\": 0, \"ticks\": \"\"}}, \"type\": \"scattergeo\"}], \"scattergl\": [{\"marker\": {\"colorbar\": {\"outlinewidth\": 0, \"ticks\": \"\"}}, \"type\": \"scattergl\"}], \"scattermapbox\": [{\"marker\": {\"colorbar\": {\"outlinewidth\": 0, \"ticks\": \"\"}}, \"type\": \"scattermapbox\"}], \"scatterpolar\": [{\"marker\": {\"colorbar\": {\"outlinewidth\": 0, \"ticks\": \"\"}}, \"type\": \"scatterpolar\"}], \"scatterpolargl\": [{\"marker\": {\"colorbar\": {\"outlinewidth\": 0, \"ticks\": \"\"}}, \"type\": \"scatterpolargl\"}], \"scatterternary\": [{\"marker\": {\"colorbar\": {\"outlinewidth\": 0, \"ticks\": \"\"}}, \"type\": \"scatterternary\"}], \"surface\": [{\"colorbar\": {\"outlinewidth\": 0, \"ticks\": \"\"}, \"colorscale\": [[0.0, \"#0d0887\"], [0.1111111111111111, \"#46039f\"], [0.2222222222222222, \"#7201a8\"], [0.3333333333333333, \"#9c179e\"], [0.4444444444444444, \"#bd3786\"], [0.5555555555555556, \"#d8576b\"], [0.6666666666666666, \"#ed7953\"], [0.7777777777777778, \"#fb9f3a\"], [0.8888888888888888, \"#fdca26\"], [1.0, \"#f0f921\"]], \"type\": \"surface\"}], \"table\": [{\"cells\": {\"fill\": {\"color\": \"#EBF0F8\"}, \"line\": {\"color\": \"white\"}}, \"header\": {\"fill\": {\"color\": \"#C8D4E3\"}, \"line\": {\"color\": \"white\"}}, \"type\": \"table\"}]}, \"layout\": {\"annotationdefaults\": {\"arrowcolor\": \"#2a3f5f\", \"arrowhead\": 0, \"arrowwidth\": 1}, \"colorscale\": {\"diverging\": [[0, \"#8e0152\"], [0.1, \"#c51b7d\"], [0.2, \"#de77ae\"], [0.3, \"#f1b6da\"], [0.4, \"#fde0ef\"], [0.5, \"#f7f7f7\"], [0.6, \"#e6f5d0\"], [0.7, \"#b8e186\"], [0.8, \"#7fbc41\"], [0.9, \"#4d9221\"], [1, \"#276419\"]], \"sequential\": [[0.0, \"#0d0887\"], [0.1111111111111111, \"#46039f\"], [0.2222222222222222, \"#7201a8\"], [0.3333333333333333, \"#9c179e\"], [0.4444444444444444, \"#bd3786\"], [0.5555555555555556, \"#d8576b\"], [0.6666666666666666, \"#ed7953\"], [0.7777777777777778, \"#fb9f3a\"], [0.8888888888888888, \"#fdca26\"], [1.0, \"#f0f921\"]], \"sequentialminus\": [[0.0, \"#0d0887\"], [0.1111111111111111, \"#46039f\"], [0.2222222222222222, \"#7201a8\"], [0.3333333333333333, \"#9c179e\"], [0.4444444444444444, \"#bd3786\"], [0.5555555555555556, \"#d8576b\"], [0.6666666666666666, \"#ed7953\"], [0.7777777777777778, \"#fb9f3a\"], [0.8888888888888888, \"#fdca26\"], [1.0, \"#f0f921\"]]}, \"colorway\": [\"#636efa\", \"#EF553B\", \"#00cc96\", \"#ab63fa\", \"#FFA15A\", \"#19d3f3\", \"#FF6692\", \"#B6E880\", \"#FF97FF\", \"#FECB52\"], \"font\": {\"color\": \"#2a3f5f\"}, \"geo\": {\"bgcolor\": \"white\", \"lakecolor\": \"white\", \"landcolor\": \"#E5ECF6\", \"showlakes\": true, \"showland\": true, \"subunitcolor\": \"white\"}, \"hoverlabel\": {\"align\": \"left\"}, \"hovermode\": \"closest\", \"mapbox\": {\"style\": \"light\"}, \"paper_bgcolor\": \"white\", \"plot_bgcolor\": \"#E5ECF6\", \"polar\": {\"angularaxis\": {\"gridcolor\": \"white\", \"linecolor\": \"white\", \"ticks\": \"\"}, \"bgcolor\": \"#E5ECF6\", \"radialaxis\": {\"gridcolor\": \"white\", \"linecolor\": \"white\", \"ticks\": \"\"}}, \"scene\": {\"xaxis\": {\"backgroundcolor\": \"#E5ECF6\", \"gridcolor\": \"white\", \"gridwidth\": 2, \"linecolor\": \"white\", \"showbackground\": true, \"ticks\": \"\", \"zerolinecolor\": \"white\"}, \"yaxis\": {\"backgroundcolor\": \"#E5ECF6\", \"gridcolor\": \"white\", \"gridwidth\": 2, \"linecolor\": \"white\", \"showbackground\": true, \"ticks\": \"\", \"zerolinecolor\": \"white\"}, \"zaxis\": {\"backgroundcolor\": \"#E5ECF6\", \"gridcolor\": \"white\", \"gridwidth\": 2, \"linecolor\": \"white\", \"showbackground\": true, \"ticks\": \"\", \"zerolinecolor\": \"white\"}}, \"shapedefaults\": {\"line\": {\"color\": \"#2a3f5f\"}}, \"ternary\": {\"aaxis\": {\"gridcolor\": \"white\", \"linecolor\": \"white\", \"ticks\": \"\"}, \"baxis\": {\"gridcolor\": \"white\", \"linecolor\": \"white\", \"ticks\": \"\"}, \"bgcolor\": \"#E5ECF6\", \"caxis\": {\"gridcolor\": \"white\", \"linecolor\": \"white\", \"ticks\": \"\"}}, \"title\": {\"x\": 0.05}, \"xaxis\": {\"automargin\": true, \"gridcolor\": \"white\", \"linecolor\": \"white\", \"ticks\": \"\", \"zerolinecolor\": \"white\", \"zerolinewidth\": 2}, \"yaxis\": {\"automargin\": true, \"gridcolor\": \"white\", \"linecolor\": \"white\", \"ticks\": \"\", \"zerolinecolor\": \"white\", \"zerolinewidth\": 2}}}, \"title\": {\"text\": \"P\\u00fablico: 1 - Convers\\u00f5es por Tipo de 'lead'   /   2 - Convers\\u00f5es por Tipo de neg\\u00f3cio\"}},\n",
              "                        {\"responsive\": true}\n",
              "                    ).then(function(){\n",
              "                            \n",
              "var gd = document.getElementById('50cd22c2-db8f-4808-b1ad-8a3fd725c9a4');\n",
              "var x = new MutationObserver(function (mutations, observer) {{\n",
              "        var display = window.getComputedStyle(gd).display;\n",
              "        if (!display || display === 'none') {{\n",
              "            console.log([gd, 'removed!']);\n",
              "            Plotly.purge(gd);\n",
              "            observer.disconnect();\n",
              "        }}\n",
              "}});\n",
              "\n",
              "// Listen for the removal of the full notebook cells\n",
              "var notebookContainer = gd.closest('#notebook-container');\n",
              "if (notebookContainer) {{\n",
              "    x.observe(notebookContainer, {childList: true});\n",
              "}}\n",
              "\n",
              "// Listen for the clearing of the current output cell\n",
              "var outputEl = gd.closest('.output');\n",
              "if (outputEl) {{\n",
              "    x.observe(outputEl, {childList: true});\n",
              "}}\n",
              "\n",
              "                        })\n",
              "                };\n",
              "                \n",
              "            </script>\n",
              "        </div>\n",
              "</body>\n",
              "</html>"
            ]
          },
          "metadata": {
            "tags": []
          }
        }
      ]
    },
    {
      "cell_type": "code",
      "metadata": {
        "id": "5LyCxg0qWtf3",
        "colab_type": "code",
        "colab": {
          "base_uri": "https://localhost:8080/",
          "height": 542
        },
        "cellView": "form",
        "outputId": "c0ebf759-017a-4ffd-80a7-e2c8275be4fd"
      },
      "source": [
        "#@title Distribuição  da variável dependente(Conversões), entre variáveis independentes(Categoria do produto)\n",
        "# Definindo os valores para cada eixo do gráfico de barras\n",
        "trace8 = go.Bar(x = df_segmento['Segmento'],\n",
        "               y = df_segmento['Qtd Conversões'])\n",
        "\n",
        "# Definindo o layout do gráfico\n",
        "layout3 = go.Layout(title = 'Quantidade de conversões por categoria de produto',\n",
        "                   yaxis = {'title': 'Quantidade'})\n",
        "data3 = [trace8]\n",
        "fig = go.Figure(data=data3, layout=layout3)\n",
        "\n",
        "# Plotando o gráfico\n",
        "py.iplot(fig)"
      ],
      "execution_count": 16,
      "outputs": [
        {
          "output_type": "display_data",
          "data": {
            "text/html": [
              "<html>\n",
              "<head><meta charset=\"utf-8\" /></head>\n",
              "<body>\n",
              "    <div>\n",
              "            <script src=\"https://cdnjs.cloudflare.com/ajax/libs/mathjax/2.7.5/MathJax.js?config=TeX-AMS-MML_SVG\"></script><script type=\"text/javascript\">if (window.MathJax) {MathJax.Hub.Config({SVG: {font: \"STIX-Web\"}});}</script>\n",
              "                <script type=\"text/javascript\">window.PlotlyConfig = {MathJaxConfig: 'local'};</script>\n",
              "        <script src=\"https://cdn.plot.ly/plotly-latest.min.js\"></script>    \n",
              "            <div id=\"d50bb952-45ad-4069-95e8-4628904f9352\" class=\"plotly-graph-div\" style=\"height:525px; width:100%;\"></div>\n",
              "            <script type=\"text/javascript\">\n",
              "                \n",
              "                    window.PLOTLYENV=window.PLOTLYENV || {};\n",
              "                    \n",
              "                if (document.getElementById(\"d50bb952-45ad-4069-95e8-4628904f9352\")) {\n",
              "                    Plotly.newPlot(\n",
              "                        'd50bb952-45ad-4069-95e8-4628904f9352',\n",
              "                        [{\"type\": \"bar\", \"x\": [\"AIR CONDITIONING\", \"AUDIO VIDEO ELECTRONICS\", \"BABY\", \"BAGS BACKPACKS\", \"BED BATH TABLE\", \"BOOKS\", \"CAR ACCESSORIES\", \"COMPUTERS\", \"CONSTRUCTION TOOLS HOUSE GARDEN\", \"FASHION ACCESSORIES\", \"FOOD DRINK\", \"FOOD SUPPLEMENT\", \"GAMES CONSOLES\", \"GIFTS\", \"HANDCRAFTED\", \"HEALTH BEAUTY\", \"HOME APPLIANCES\", \"HOME DECOR\", \"HOME OFFICE FURNITURE\", \"HOUSEHOLD UTILITIES\", \"JEWERLY\", \"MUSIC INSTRUMENTS\", \"OTHER\", \"PARTY\", \"PERFUME\", \"PET\", \"PHONE MOBILE\", \"RELIGIOUS\", \"SMALL APPLIANCES\", \"SPORTS LEISURE\", \"STATIONERY\", \"TOYS\", \"WATCHES\"], \"y\": [3, 64, 10, 22, 22, 9, 77, 34, 69, 19, 26, 28, 2, 5, 12, 93, 7, 105, 14, 71, 8, 9, 3, 5, 2, 30, 13, 1, 12, 25, 13, 20, 8]}],\n",
              "                        {\"template\": {\"data\": {\"bar\": [{\"error_x\": {\"color\": \"#2a3f5f\"}, \"error_y\": {\"color\": \"#2a3f5f\"}, \"marker\": {\"line\": {\"color\": \"#E5ECF6\", \"width\": 0.5}}, \"type\": \"bar\"}], \"barpolar\": [{\"marker\": {\"line\": {\"color\": \"#E5ECF6\", \"width\": 0.5}}, \"type\": \"barpolar\"}], \"carpet\": [{\"aaxis\": {\"endlinecolor\": \"#2a3f5f\", \"gridcolor\": \"white\", \"linecolor\": \"white\", \"minorgridcolor\": \"white\", \"startlinecolor\": \"#2a3f5f\"}, \"baxis\": {\"endlinecolor\": \"#2a3f5f\", \"gridcolor\": \"white\", \"linecolor\": \"white\", \"minorgridcolor\": \"white\", \"startlinecolor\": \"#2a3f5f\"}, \"type\": \"carpet\"}], \"choropleth\": [{\"colorbar\": {\"outlinewidth\": 0, \"ticks\": \"\"}, \"type\": \"choropleth\"}], \"contour\": [{\"colorbar\": {\"outlinewidth\": 0, \"ticks\": \"\"}, \"colorscale\": [[0.0, \"#0d0887\"], [0.1111111111111111, \"#46039f\"], [0.2222222222222222, \"#7201a8\"], [0.3333333333333333, \"#9c179e\"], [0.4444444444444444, \"#bd3786\"], [0.5555555555555556, \"#d8576b\"], [0.6666666666666666, \"#ed7953\"], [0.7777777777777778, \"#fb9f3a\"], [0.8888888888888888, \"#fdca26\"], [1.0, \"#f0f921\"]], \"type\": \"contour\"}], \"contourcarpet\": [{\"colorbar\": {\"outlinewidth\": 0, \"ticks\": \"\"}, \"type\": \"contourcarpet\"}], \"heatmap\": [{\"colorbar\": {\"outlinewidth\": 0, \"ticks\": \"\"}, \"colorscale\": [[0.0, \"#0d0887\"], [0.1111111111111111, \"#46039f\"], [0.2222222222222222, \"#7201a8\"], [0.3333333333333333, \"#9c179e\"], [0.4444444444444444, \"#bd3786\"], [0.5555555555555556, \"#d8576b\"], [0.6666666666666666, \"#ed7953\"], [0.7777777777777778, \"#fb9f3a\"], [0.8888888888888888, \"#fdca26\"], [1.0, \"#f0f921\"]], \"type\": \"heatmap\"}], \"heatmapgl\": [{\"colorbar\": {\"outlinewidth\": 0, \"ticks\": \"\"}, \"colorscale\": [[0.0, \"#0d0887\"], [0.1111111111111111, \"#46039f\"], [0.2222222222222222, \"#7201a8\"], [0.3333333333333333, \"#9c179e\"], [0.4444444444444444, \"#bd3786\"], [0.5555555555555556, \"#d8576b\"], [0.6666666666666666, \"#ed7953\"], [0.7777777777777778, \"#fb9f3a\"], [0.8888888888888888, \"#fdca26\"], [1.0, \"#f0f921\"]], \"type\": \"heatmapgl\"}], \"histogram\": [{\"marker\": {\"colorbar\": {\"outlinewidth\": 0, \"ticks\": \"\"}}, \"type\": \"histogram\"}], \"histogram2d\": [{\"colorbar\": {\"outlinewidth\": 0, \"ticks\": \"\"}, \"colorscale\": [[0.0, \"#0d0887\"], [0.1111111111111111, \"#46039f\"], [0.2222222222222222, \"#7201a8\"], [0.3333333333333333, \"#9c179e\"], [0.4444444444444444, \"#bd3786\"], [0.5555555555555556, \"#d8576b\"], [0.6666666666666666, \"#ed7953\"], [0.7777777777777778, \"#fb9f3a\"], [0.8888888888888888, \"#fdca26\"], [1.0, \"#f0f921\"]], \"type\": \"histogram2d\"}], \"histogram2dcontour\": [{\"colorbar\": {\"outlinewidth\": 0, \"ticks\": \"\"}, \"colorscale\": [[0.0, \"#0d0887\"], [0.1111111111111111, \"#46039f\"], [0.2222222222222222, \"#7201a8\"], [0.3333333333333333, \"#9c179e\"], [0.4444444444444444, \"#bd3786\"], [0.5555555555555556, \"#d8576b\"], [0.6666666666666666, \"#ed7953\"], [0.7777777777777778, \"#fb9f3a\"], [0.8888888888888888, \"#fdca26\"], [1.0, \"#f0f921\"]], \"type\": \"histogram2dcontour\"}], \"mesh3d\": [{\"colorbar\": {\"outlinewidth\": 0, \"ticks\": \"\"}, \"type\": \"mesh3d\"}], \"parcoords\": [{\"line\": {\"colorbar\": {\"outlinewidth\": 0, \"ticks\": \"\"}}, \"type\": \"parcoords\"}], \"scatter\": [{\"marker\": {\"colorbar\": {\"outlinewidth\": 0, \"ticks\": \"\"}}, \"type\": \"scatter\"}], \"scatter3d\": [{\"line\": {\"colorbar\": {\"outlinewidth\": 0, \"ticks\": \"\"}}, \"marker\": {\"colorbar\": {\"outlinewidth\": 0, \"ticks\": \"\"}}, \"type\": \"scatter3d\"}], \"scattercarpet\": [{\"marker\": {\"colorbar\": {\"outlinewidth\": 0, \"ticks\": \"\"}}, \"type\": \"scattercarpet\"}], \"scattergeo\": [{\"marker\": {\"colorbar\": {\"outlinewidth\": 0, \"ticks\": \"\"}}, \"type\": \"scattergeo\"}], \"scattergl\": [{\"marker\": {\"colorbar\": {\"outlinewidth\": 0, \"ticks\": \"\"}}, \"type\": \"scattergl\"}], \"scattermapbox\": [{\"marker\": {\"colorbar\": {\"outlinewidth\": 0, \"ticks\": \"\"}}, \"type\": \"scattermapbox\"}], \"scatterpolar\": [{\"marker\": {\"colorbar\": {\"outlinewidth\": 0, \"ticks\": \"\"}}, \"type\": \"scatterpolar\"}], \"scatterpolargl\": [{\"marker\": {\"colorbar\": {\"outlinewidth\": 0, \"ticks\": \"\"}}, \"type\": \"scatterpolargl\"}], \"scatterternary\": [{\"marker\": {\"colorbar\": {\"outlinewidth\": 0, \"ticks\": \"\"}}, \"type\": \"scatterternary\"}], \"surface\": [{\"colorbar\": {\"outlinewidth\": 0, \"ticks\": \"\"}, \"colorscale\": [[0.0, \"#0d0887\"], [0.1111111111111111, \"#46039f\"], [0.2222222222222222, \"#7201a8\"], [0.3333333333333333, \"#9c179e\"], [0.4444444444444444, \"#bd3786\"], [0.5555555555555556, \"#d8576b\"], [0.6666666666666666, \"#ed7953\"], [0.7777777777777778, \"#fb9f3a\"], [0.8888888888888888, \"#fdca26\"], [1.0, \"#f0f921\"]], \"type\": \"surface\"}], \"table\": [{\"cells\": {\"fill\": {\"color\": \"#EBF0F8\"}, \"line\": {\"color\": \"white\"}}, \"header\": {\"fill\": {\"color\": \"#C8D4E3\"}, \"line\": {\"color\": \"white\"}}, \"type\": \"table\"}]}, \"layout\": {\"annotationdefaults\": {\"arrowcolor\": \"#2a3f5f\", \"arrowhead\": 0, \"arrowwidth\": 1}, \"colorscale\": {\"diverging\": [[0, \"#8e0152\"], [0.1, \"#c51b7d\"], [0.2, \"#de77ae\"], [0.3, \"#f1b6da\"], [0.4, \"#fde0ef\"], [0.5, \"#f7f7f7\"], [0.6, \"#e6f5d0\"], [0.7, \"#b8e186\"], [0.8, \"#7fbc41\"], [0.9, \"#4d9221\"], [1, \"#276419\"]], \"sequential\": [[0.0, \"#0d0887\"], [0.1111111111111111, \"#46039f\"], [0.2222222222222222, \"#7201a8\"], [0.3333333333333333, \"#9c179e\"], [0.4444444444444444, \"#bd3786\"], [0.5555555555555556, \"#d8576b\"], [0.6666666666666666, \"#ed7953\"], [0.7777777777777778, \"#fb9f3a\"], [0.8888888888888888, \"#fdca26\"], [1.0, \"#f0f921\"]], \"sequentialminus\": [[0.0, \"#0d0887\"], [0.1111111111111111, \"#46039f\"], [0.2222222222222222, \"#7201a8\"], [0.3333333333333333, \"#9c179e\"], [0.4444444444444444, \"#bd3786\"], [0.5555555555555556, \"#d8576b\"], [0.6666666666666666, \"#ed7953\"], [0.7777777777777778, \"#fb9f3a\"], [0.8888888888888888, \"#fdca26\"], [1.0, \"#f0f921\"]]}, \"colorway\": [\"#636efa\", \"#EF553B\", \"#00cc96\", \"#ab63fa\", \"#FFA15A\", \"#19d3f3\", \"#FF6692\", \"#B6E880\", \"#FF97FF\", \"#FECB52\"], \"font\": {\"color\": \"#2a3f5f\"}, \"geo\": {\"bgcolor\": \"white\", \"lakecolor\": \"white\", \"landcolor\": \"#E5ECF6\", \"showlakes\": true, \"showland\": true, \"subunitcolor\": \"white\"}, \"hoverlabel\": {\"align\": \"left\"}, \"hovermode\": \"closest\", \"mapbox\": {\"style\": \"light\"}, \"paper_bgcolor\": \"white\", \"plot_bgcolor\": \"#E5ECF6\", \"polar\": {\"angularaxis\": {\"gridcolor\": \"white\", \"linecolor\": \"white\", \"ticks\": \"\"}, \"bgcolor\": \"#E5ECF6\", \"radialaxis\": {\"gridcolor\": \"white\", \"linecolor\": \"white\", \"ticks\": \"\"}}, \"scene\": {\"xaxis\": {\"backgroundcolor\": \"#E5ECF6\", \"gridcolor\": \"white\", \"gridwidth\": 2, \"linecolor\": \"white\", \"showbackground\": true, \"ticks\": \"\", \"zerolinecolor\": \"white\"}, \"yaxis\": {\"backgroundcolor\": \"#E5ECF6\", \"gridcolor\": \"white\", \"gridwidth\": 2, \"linecolor\": \"white\", \"showbackground\": true, \"ticks\": \"\", \"zerolinecolor\": \"white\"}, \"zaxis\": {\"backgroundcolor\": \"#E5ECF6\", \"gridcolor\": \"white\", \"gridwidth\": 2, \"linecolor\": \"white\", \"showbackground\": true, \"ticks\": \"\", \"zerolinecolor\": \"white\"}}, \"shapedefaults\": {\"line\": {\"color\": \"#2a3f5f\"}}, \"ternary\": {\"aaxis\": {\"gridcolor\": \"white\", \"linecolor\": \"white\", \"ticks\": \"\"}, \"baxis\": {\"gridcolor\": \"white\", \"linecolor\": \"white\", \"ticks\": \"\"}, \"bgcolor\": \"#E5ECF6\", \"caxis\": {\"gridcolor\": \"white\", \"linecolor\": \"white\", \"ticks\": \"\"}}, \"title\": {\"x\": 0.05}, \"xaxis\": {\"automargin\": true, \"gridcolor\": \"white\", \"linecolor\": \"white\", \"ticks\": \"\", \"zerolinecolor\": \"white\", \"zerolinewidth\": 2}, \"yaxis\": {\"automargin\": true, \"gridcolor\": \"white\", \"linecolor\": \"white\", \"ticks\": \"\", \"zerolinecolor\": \"white\", \"zerolinewidth\": 2}}}, \"title\": {\"text\": \"Quantidade de convers\\u00f5es por categoria de produto\"}, \"yaxis\": {\"title\": {\"text\": \"Quantidade\"}}},\n",
              "                        {\"responsive\": true}\n",
              "                    ).then(function(){\n",
              "                            \n",
              "var gd = document.getElementById('d50bb952-45ad-4069-95e8-4628904f9352');\n",
              "var x = new MutationObserver(function (mutations, observer) {{\n",
              "        var display = window.getComputedStyle(gd).display;\n",
              "        if (!display || display === 'none') {{\n",
              "            console.log([gd, 'removed!']);\n",
              "            Plotly.purge(gd);\n",
              "            observer.disconnect();\n",
              "        }}\n",
              "}});\n",
              "\n",
              "// Listen for the removal of the full notebook cells\n",
              "var notebookContainer = gd.closest('#notebook-container');\n",
              "if (notebookContainer) {{\n",
              "    x.observe(notebookContainer, {childList: true});\n",
              "}}\n",
              "\n",
              "// Listen for the clearing of the current output cell\n",
              "var outputEl = gd.closest('.output');\n",
              "if (outputEl) {{\n",
              "    x.observe(outputEl, {childList: true});\n",
              "}}\n",
              "\n",
              "                        })\n",
              "                };\n",
              "                \n",
              "            </script>\n",
              "        </div>\n",
              "</body>\n",
              "</html>"
            ]
          },
          "metadata": {
            "tags": []
          }
        }
      ]
    },
    {
      "cell_type": "code",
      "metadata": {
        "id": "rgpFv12Uh3_I",
        "colab_type": "code",
        "colab": {
          "base_uri": "https://localhost:8080/",
          "height": 542
        },
        "cellView": "form",
        "outputId": "fef81af3-d1ec-4b8b-902a-e1df27053c4f"
      },
      "source": [
        "#@title Distribuição da variável dependente(Conversões), entre variáveis independentes(Cidade/Estado)\n",
        "\n",
        "# Declarando contador para percorrer a tabela\n",
        "qtd_item = 0\n",
        "\n",
        "# Criando a tabela de leads com localização\n",
        "df_deals_loc = pd.DataFrame()\n",
        "\n",
        "# Percorrendo a base para inserir os valores na nova tabela\n",
        "for loc, row in df.iterrows():\n",
        "\n",
        "  # Criando condição para inserir os valores\n",
        "  if row['geolocation_zip_code_prefix'] > 0:\n",
        "    if row['cliente_id'] in list(df_deals['mql_id']):\n",
        "      df_deals_loc.loc[qtd_item, 'Cliente ID'] = row['cliente_id']\n",
        "      df_deals_loc.loc[qtd_item, 'ZIP'] = row['geolocation_zip_code_prefix']      \n",
        "      df_deals_loc.loc[qtd_item, 'lng'] = row['geolocation_lng']\n",
        "      df_deals_loc.loc[qtd_item, 'lat'] = row['geolocation_lat']\n",
        "      df_deals_loc.loc[qtd_item, 'Cidade'] = row['consumidor_cidade'].upper()\n",
        "      df_deals_loc.loc[qtd_item, 'Estado'] = row['consumidor_estado']\n",
        "    qtd_item += 1\n",
        "\n",
        "# Agrupando os leads por Cidade e por Estado para fazer a contagem de cada grupo\n",
        "qtd_deal_cidade = df_deals_loc.groupby(['Cidade']).count()\n",
        "qtd_deal_estado = df_deals_loc.groupby(['Estado']).count()\n",
        "\n",
        "# Declarando contador para percorrer a nova tabela de leads com localização\n",
        "qtd_item = 0\n",
        "\n",
        "# Percorrendo a nova tabela para inserir os valores\n",
        "for uf in df_deals_loc['Cidade']:\n",
        "\n",
        "  # Declarando contador para percorrer o grupo de cidades\n",
        "  i = 0\n",
        "\n",
        "  # Percorrendo o grupo de cidades para identificar a quantidade de conversões\n",
        "  for item in qtd_deal_cidade.index:\n",
        "\n",
        "    # Criando condição para inserir os valores\n",
        "    if uf == item:\n",
        "\n",
        "      # Criando nova coluna na tabela de leads com localização e inserindo os valores\n",
        "      df_deals_loc.loc[qtd_item, 'Grupo Cidade'] = qtd_deal_cidade['ZIP'][i]\n",
        "    i += 1\n",
        "  qtd_item += 1\n",
        "\n",
        "# Declarando contador para percorrer a nova tabela de leads com localização\n",
        "qtd_item = 0\n",
        "\n",
        "# Declarando contador para percorrer o grupo de estados\n",
        "for uf in df_deals_loc['Estado']:\n",
        "\n",
        "  # Declarando contador para percorrer o grupo de estados\n",
        "  i = 0\n",
        "\n",
        "  # Percorrendo o grupo de estados para identificar a quantidade de conversões\n",
        "  for item in qtd_deal_estado.index:\n",
        "    if uf == item:\n",
        "\n",
        "      # Criando nova coluna na tabela de leads com localização e inserindo os valores\n",
        "      df_deals_loc.loc[qtd_item, 'Grupo UF'] = qtd_deal_estado['ZIP'][i]\n",
        "    i += 1\n",
        "  qtd_item += 1\n",
        "\n",
        "# Convertendo os tipos de dados das colunas 'Grupo Cidade' e 'Grupo Estado' de floar para integer\n",
        "df_deals_loc['Grupo Cidade'] = np.array([int(x) if int(x) == x else x for x in df_deals_loc['Grupo Cidade']], dtype=object)\n",
        "df_deals_loc['Grupo UF'] = np.array([int(x) if int(x) == x else x for x in df_deals_loc['Grupo UF']], dtype=object)\n",
        "\n",
        "# Declarando os valores para alimentar o gráfico geográfico\n",
        "trace9 = go.Scattergeo(\n",
        "                     locationmode = 'country names',\n",
        "                     lon = df_deals_loc['lng'],\n",
        "                     lat = df_deals_loc['lat'],\n",
        "                     text = df_deals_loc['Cidade'] + \" / \" + df_deals_loc['Estado'] + \" (\" + df_deals_loc['Grupo Cidade'].astype(str) + \" / \" + df_deals_loc['Grupo UF'].astype(str) + \")\",\n",
        "                     marker = dict(\n",
        "                            color = '#e74c3c',\n",
        "                            line = {'width': 0.5, \n",
        "                                    'color': '#2c3e50'},\n",
        "                            sizemode = 'area')\n",
        "                    )\n",
        "# Declarando o layout do gráfico\n",
        "layout9 = go.Layout(\n",
        "        title = '<b>Localização dos <i>\"leads\"</i> convertidos</b>',\n",
        "        titlefont = {'family': 'Arial',\n",
        "                     'size': 24},\n",
        "        geo =  {'scope': 'south america',\n",
        "                'projection': {'type': 'natural earth'},\n",
        "                'landcolor': '#2ecc71'\n",
        "                })\n",
        "\n",
        "data9 = [trace9]\n",
        "fig = go.Figure(data=data9, layout=layout9)\n",
        "\n",
        "# Plotando o gráfico geográfico\n",
        "py.iplot(fig)"
      ],
      "execution_count": 22,
      "outputs": [
        {
          "output_type": "display_data",
          "data": {
            "text/html": [
              "<html>\n",
              "<head><meta charset=\"utf-8\" /></head>\n",
              "<body>\n",
              "    <div>\n",
              "            <script src=\"https://cdnjs.cloudflare.com/ajax/libs/mathjax/2.7.5/MathJax.js?config=TeX-AMS-MML_SVG\"></script><script type=\"text/javascript\">if (window.MathJax) {MathJax.Hub.Config({SVG: {font: \"STIX-Web\"}});}</script>\n",
              "                <script type=\"text/javascript\">window.PlotlyConfig = {MathJaxConfig: 'local'};</script>\n",
              "        <script src=\"https://cdn.plot.ly/plotly-latest.min.js\"></script>    \n",
              "            <div id=\"e13c39ce-df25-426d-b549-982c441e6bd3\" class=\"plotly-graph-div\" style=\"height:525px; width:100%;\"></div>\n",
              "            <script type=\"text/javascript\">\n",
              "                \n",
              "                    window.PLOTLYENV=window.PLOTLYENV || {};\n",
              "                    \n",
              "                if (document.getElementById(\"e13c39ce-df25-426d-b549-982c441e6bd3\")) {\n",
              "                    Plotly.newPlot(\n",
              "                        'e13c39ce-df25-426d-b549-982c441e6bd3',\n",
              "                        [{\"lat\": [-21.461800979445574, -28.794743528449413, -22.955957734545088, -15.833616409836766, -15.772178715946305, -23.571960108517537, -18.91595976602804, -23.019477765998932, -24.309428863541285, -22.896755634456788, -22.92398049708581, -23.026044731317555, -23.611497852617035, -23.554870396618362, -22.879871632812012, -23.560566359426364, -8.043481236193653, -26.922232024142584, -21.793027341132728, -20.830232611066197, -12.147030551377814, -21.768005115469514, -25.520184774914842, -20.45701824063706, -25.981047795901734, -19.970075598938237, -23.151712385018914, -23.6270649708581, -22.296067377685304, -23.629364020420123, -19.631656210670627, -22.331378264210375, -22.913297402446734, -23.488133029141906, -12.972089336112848, -23.58047553344107, -19.73866515681802, -22.85673089425243, -12.995364688037398, -23.491143062115942, -19.820370542039424, -23.619262756592985, -23.098284219545235, -26.261841794823777, -23.53994293192069, -23.49811549624909, -23.61070690008081, -30.021599073835713, -23.506827278408718, -23.72527983484343, -29.849025185984157, -23.55566231638577, -30.020763456575605, -22.681982106801176, -18.800421584951103, -22.90829209362279, -17.99148408282255, -23.29818595956356, -12.137507964605875, -13.649606510639634, -20.721937677884227, -23.554576919483395, -19.883520408537528, -29.935889010270014, -23.78848133322907, -30.073570239252078, -22.92531913366395, -19.936471348866128, -23.516857337774702, -22.81102627133385, -23.530066660539287, -23.615817863985338, -23.552456794881486, -24.391505122007608, -23.588181691095816, -22.906800000000004, -29.374542581978407, -23.43162669109582, -22.77604211783433, -4.942095128939913, -22.78038808380517, -15.790700843643224, -23.194155763010308, -23.70007597807146, -22.222355594783306, -23.544993101304172, -22.468841999999995, -30.000745959201325, -7.09075180297714, -26.261841794823777, -27.555800801652797, -30.03173353621104, -20.17293158455772, -22.94463697446477, -30.019804858993677, -23.52458847737897, -25.496852521236054, -25.41810890007532, -11.332781571928516, -11.753135950663646, -22.94509412337182, -23.556866689422368, -17.516562638724658, -18.233984177733397, -22.99964280916834, -22.89681893672453, -23.54865425728548, -12.157899638207386, -21.46284342229134, -14.5185228676466, -20.082126604231764, -25.365855480212275, -22.653277578999962, -23.981964066882142, -29.151517655694896, -5.133022577140994, -23.30898095593481, -23.724134173502666, -23.454964274480876, -23.51537905487239, -19.013117301096763, -22.886501363869765, -21.358247015394284, -22.883862923138047, -22.392256145058425, -16.362606334443775, -23.544749472387306, -23.51489022861713, -22.607003040200272, -23.4147842109558, -15.784049999999949, -22.915126647964033, -22.88688293782105, -22.486085526661206, -23.54163978934157, -22.905451404379967, -12.241659524820069, -23.48776758090484, -23.036935171475537, -29.53174718114928, -23.098284219545235, -22.88751499687903, -23.493451284494128, -20.729379598647412, -8.1330811150905, -23.221738357943586, -23.01133469499096, -28.628697110459715, -19.78178890856463, -23.697730897022385, -23.569943269778946, -8.354882738490234, -23.66425551679265, -25.74389872497068, -23.012065595157353, -22.487091860243755, -23.664502918276984, -8.364231345619059, -22.410899553233772, -20.37616120906966, -23.597504768905893, -7.122313509290823, -28.7629920668113, -16.480062884808213, -23.316208922273155, -21.20851525964521, -23.179889672043977, -7.209241574528204, -26.227820189566604, -15.747798917387595, -22.490373134321842, -23.42863214293956, -23.65511361861245, -3.7379990008367128, -22.95379584124873, -16.022942572375488, -22.90829209362279, -22.18081673466526, -24.041642464583017, -22.525176465431056, -23.578480690701486, -15.791398232240029, -23.602765475237977, -22.89428279372572, -22.11828173516249, -23.594784506520185, -23.60499279127481, -23.434352099082478, -23.61776447100232, -23.55117864806671, -23.53685341271851, -15.826540500000002, -25.41508584595193, -22.89681893672453, -20.046395999999945, -23.60520201165676, -25.50771622643707, -25.472734941716194, -25.54845869660805, -23.880733196555944, -22.843339095273503, -29.781279, -22.3308507978399, -19.946082656673784, -22.92173310574757, -12.918456851184185, -16.717108517212292, -19.478095543164603, -22.96868956323905, -20.082126604231764, -12.220335209273449, -23.467741734270515, -23.207180112486487, -22.932218462051463, -23.474161016100158, -23.9678895545329, -17.80556751731407, -16.704177885673925, -23.550512564633678, -23.944502325841068, -23.59492397623724, -7.140826037740242, -15.724706690349894, -20.65316386803938, -4.039362604204154, -23.476499968636393, -23.572266776177287, -30.06177937996993, -23.765117091320853, -12.987171949272744, -22.74098779744896, -23.67156097030984, -19.934404971983273, -3.765959198572656, -22.925875086241646, -10.183051185305057, -23.70689244546711, -19.74074058834445, -20.845442726895108, -23.996571024698504, -22.905552142939566, -19.92617665751052, -22.568350421316858, -22.911195679071113, -19.8530362758958, -2.5221512411853046, -22.133941996949773, -22.744969047625496, -22.508220292406378, -23.527788191788307, -23.541389521053933, -23.431948407438398, -23.540512819320192, -17.40195455360714, -23.50257293484837, -23.532549112894213, -19.870118049590708, -22.895633499999967, -23.651760091032397, -19.94290708159733, -23.986817839899203, -22.331248866205634, -23.507324736473894, -23.676081379969936, -22.667913335276126, -23.50476277629982, -23.457157219256768, -6.873547139575403, -16.61667691159406, -23.564189902302502, -23.926204437438788, -21.53063424894017, -21.194323097917408, -23.593508999999994, -23.68493474436356, -21.536841065474878, -23.19024365306711, -20.711227849943672, -23.56168119891244, -19.921360484044065, -22.82320810545911, -27.83050585567545, -23.688917125468198, -1.339795897022389, -17.632623946655965, -23.019477765998932, -23.5432607129957, -29.616140787882493, -22.07406456966723, -27.59186031447276, -21.829633899084683, -25.434992398266633, -23.49813509908248, -23.491717642174216, -23.55280099362336, -15.895836468959827, -19.90710824508045, -23.395911317242717, -30.243655111246014, -22.498182754371285, -23.574670500432692, -23.473527475157265, -22.363302142939553, -23.634156425760256, -23.52103885206878, -23.664502918276984, -24.020005976686484, -11.61500057411008, -24.011288218359883, -23.627599742714523, -3.7281848104333966, -21.114254738381373, -28.64811643932405, -23.563965740492826, -23.60939779294825, -12.969784487650752, -23.493511048012014, -22.88474590313923, -20.36309557707229, -23.541718547319537, -22.95950249166516, -22.866236737722858, -21.592175195884266, -23.632235999999992, -13.006714289933615, -23.828340100753532, -16.37425825917739, -23.60325616763807, -23.50358572522939, -19.79022694508355, -23.549817667735876, -19.832533074852947, -23.573782561198005, -23.048035628679557, -20.415339248383304, -19.984916225972547, -19.954557482370628, -22.22160827111832, -23.58446916949636, -22.791573261728878, -23.403398269778947, -22.914268784661626, -19.989975007213356, -26.07915296665839, -18.882476025535226, -22.938518021928534, -27.78137386011885, -21.998055203292065, -23.671791943101173, -23.15915219401001, -23.573162619481806, -23.535324166918866, -24.788261778607744, -20.83181111641809, -23.466589822021643, -12.973807037191989, -19.872731168474775, -26.85207023994163, -23.53676737440136, -23.151712385018914, -23.69945854284748, -26.916269999999944, -9.97162668381498, -29.887280851051504, -29.616140787882493, -24.037123500000003, -23.52928080757863, -23.304069000000005, -21.778926590339893, -23.550879480133947, -22.9010041728352, -8.043481236193653, -25.4389681470945, -22.181007751312862, -23.45197860421837, -23.440106567026376, -22.933084232038713, -22.402133192076764, -21.46284342229134, -30.02933889702238], \"locationmode\": \"country names\", \"lon\": [-47.00077905378499, -51.61122120996593, -45.48972486275995, -47.98332641244141, -47.88450686234893, -46.3995669394945, -48.27897417499565, -46.853630487528285, -46.99109131565601, -43.09981143435861, -43.22589028129148, -43.461041421461076, -46.743950929078494, -46.5943762934965, -43.537855631138584, -46.65761042867444, -34.94853763266778, -49.79045816392109, -41.286480065630705, -49.357775443998506, -44.996091637418424, -43.381127290906385, -49.288643659588, -54.602851319897105, -52.56984777279403, -43.979595275607345, -46.971287806682476, -46.63218002262104, -44.93483503963697, -46.52450728432847, -43.212335433135365, -49.09677549971153, -43.209206706359254, -46.607659957123865, -38.49515681487679, -46.57343241771019, -47.93897911197998, -43.30517848917994, -38.462041927837724, -46.62601868011954, -43.98181463543774, -46.48278109631252, -45.70330750943507, -49.523588503933894, -46.886766049334106, -47.51679150000001, -46.63994543519532, -51.17872347639801, -46.87255898428397, -46.557026737722865, -51.17602955525653, -46.89595792306139, -51.18892235636796, -43.6046731065545, -42.619921632540176, -47.09417761615003, -46.90967912536554, -45.9748280111823, -38.41870742459835, -41.84169289659037, -42.86601159708953, -46.210902737743304, -43.66933297389486, -51.721172793777285, -50.06095793185343, -51.202947105343554, -43.25369631041029, -43.92639691534425, -46.770197196975495, -43.64845041771927, -46.78718498327306, -46.681336248110206, -46.78012559033992, -53.511813426821355, -46.74083315667377, -43.176623145421054, -50.7993160369122, -45.07722870122336, -47.284095017966116, -40.53839853792978, -43.540558684791215, -47.9348514181837, -47.266013823662746, -46.512702481822366, -49.95766148320735, -46.685597180824026, -43.826934284357975, -51.14685155649479, -34.83692990306102, -49.523588503933894, -48.51133868720928, -51.20999096863639, -45.702822968207066, -46.53005005536961, -51.17878984347042, -46.63439214155458, -49.20902332180169, -49.254933135403604, -42.12793164001105, -44.91150665449562, -46.997936715299005, -46.54789016166545, -49.447173066302774, -43.59364621093363, -49.88283604584176, -43.28130819579903, -46.69468554149115, -39.740436500830896, -49.21918836311204, -49.131917404409705, -44.573298351872204, -49.10538897664281, -43.06217905099993, -46.310039559264744, -51.22367778576782, -49.32538237576181, -45.977627713448705, -46.57554561519289, -46.469215580185306, -46.43703357172863, -40.54172586681595, -43.268833866207025, -41.94145740541015, -43.115623686595356, -47.55944968375015, -46.892795601656545, -46.5718601512781, -46.47171934292568, -46.91414970477579, -46.974448945311096, -47.91689999999997, -43.40987975082128, -43.365750051474464, -48.54744966913898, -46.60322449777829, -43.20561545490215, -38.905114120169074, -46.47966343450283, -46.98252638233038, -51.24992461413803, -45.70330750943507, -47.1957390462855, -46.80460480405675, -46.59305737288996, -34.904793597619324, -46.8463421029226, -43.450256415344235, -53.09667830334719, -43.9287375663723, -46.5789351895666, -46.65709370468581, -42.25697495560466, -46.68857909339831, -53.05434104666583, -44.539815543339714, -47.2157597469674, -47.581761427942936, -35.24154113882144, -42.96754519462695, -40.30529402401848, -46.70475611001847, -34.882015631138565, -49.274992268317966, -39.06740132856377, -51.11121320098855, -41.87484723167247, -46.92851010931866, -35.87778861740434, -48.900538550377966, -47.88476687608139, -43.15585740044716, -46.52196811296093, -47.22029237277671, -38.55290902914189, -43.184654905360915, -48.02046252807729, -47.09417761615003, -46.75045932004407, -46.52827628496434, -43.74058341826739, -46.562867111340616, -47.85698890190886, -46.63530842279597, -43.120737032394075, -43.19147806859583, -46.657816069405406, -46.65977531750253, -46.54289717277396, -46.574964586733216, -46.83780800807718, -46.57627420191586, -47.92094325000001, -49.27648772952856, -43.28130819579903, -41.89168699999996, -46.61844120275258, -49.2659152738391, -49.305638367476455, -48.55682115640703, -46.41774121252613, -46.320408988369685, -51.1092675, -48.80069173298912, -43.96674583291018, -43.258689344451376, -38.352723905095175, -43.80714160394629, -42.55679483097696, -47.0735568816794, -44.573298351872204, -38.99636584554789, -46.87766497864536, -46.8769304786459, -47.09679045949513, -46.625165852905475, -46.34412123980033, -41.78632337733238, -49.30012373064592, -46.2492469697985, -46.33124278031053, -46.449940764887636, -34.91349021288013, -47.889696354449406, -41.9094457747299, -44.46361486507078, -46.5391815925616, -46.74167015632205, -51.170740679987325, -53.31230739757064, -38.522681640516296, -47.60706025967849, -46.46933216922553, -43.95139830183506, -38.50944162956148, -43.369135896775845, -59.44159302299549, -46.69166124271453, -45.25452490731858, -41.10530226786084, -46.421275725229386, -47.04944755176293, -43.9900225881182, -47.447439479744894, -42.479402246736974, -43.95277064446878, -44.25581447515726, -42.779747580302676, -47.379147120561896, -41.93096183440929, -46.66030962184772, -46.62989908781218, -46.44869453427779, -46.5176810538404, -50.37053056738647, -46.69754189370448, -46.18089750806387, -45.00569489878337, -42.93976105099995, -46.67056245669116, -44.020034873997325, -46.2684461778621, -46.922579626017296, -46.889161514538316, -46.605770241589354, -50.419201745224676, -46.4783326666571, -46.56012296350051, -39.87269124814938, -41.76343263952104, -46.64356963725542, -46.372680167400894, -42.19299779303212, -47.74678872433223, -46.69160489873891, -46.739361415808936, -43.012173902255604, -47.29157063336026, -41.016162614313885, -46.50627110555333, -43.939205649864455, -43.32141146765545, -50.328598138496154, -46.55255212359541, -48.457778448237065, -41.74123438419704, -46.853630487528285, -46.77752466957129, -52.175875572625436, -46.5864399743845, -48.54902548765073, -41.272410288991814, -49.35249508144927, -46.49499803067112, -46.64962560348589, -46.52724691687345, -40.18504362026256, -43.91966546502971, -46.318998279762276, -54.92233782337923, -44.12361371579433, -46.73328224562872, -46.68753138481736, -47.38673630322003, -46.59401333250615, -46.3960618112701, -47.581761427942936, -46.45837671648682, -38.80774752856322, -46.418733744293974, -46.49554835636796, -38.476785451987965, -48.4420827102807, -56.010598947960595, -46.681798154452096, -46.47115046710719, -38.49312773397196, -46.63106708174157, -43.318324263517894, -40.31420234603968, -46.64883066180968, -43.05455192324077, -47.025165619626044, -46.893895990361436, -46.61515349999999, -38.51611048523236, -46.1430173832652, -48.978557381534706, -46.51504183236193, -46.49214314501703, -42.14210229958086, -46.31698283355356, -40.26723918916462, -46.62058066708982, -46.99742100929329, -42.89153741877715, -43.946832832261016, -43.934099694558256, -54.79486830331646, -46.6431291202637, -47.283156581597325, -46.45172229531418, -45.42914593227478, -44.03951266042471, -53.06725661073275, -48.2792850313636, -43.17619539800332, -48.52971612447347, -48.38377561011862, -46.50083247792725, -47.058207825841066, -46.651245275607344, -46.190666997759294, -50.01007231886685, -49.38103612387518, -46.63928171838316, -38.4819239023025, -43.944876780599, -49.135582140270785, -46.655073131138565, -46.971287806682476, -46.548463500000004, -48.65245999999996, -67.80339808690971, -50.269396614791745, -52.175875572625436, -52.39895399999999, -46.717051797888786, -46.721583, -48.15890478322473, -46.379220184868316, -43.03735828471981, -34.94853763266778, -49.27448441188181, -49.9635435545329, -46.548077951151235, -46.78960911740432, -43.36663107132555, -47.56233402025511, -49.21918836311204, -51.21207766403136], \"marker\": {\"color\": \"#e74c3c\", \"line\": {\"color\": \"#2c3e50\", \"width\": 0.5}, \"sizemode\": \"area\"}, \"text\": [\"MOCOCA / SP (1 / 178)\", \"NOVA PRATA / RS (1 / 21)\", \"PINDAMONHANGABA / SP (2 / 178)\", \"BRASILIA / DF (9 / 9)\", \"BRASILIA / DF (9 / 9)\", \"SAO PAULO / SP (65 / 178)\", \"UBERLANDIA / MG (2 / 46)\", \"ITATIBA / SP (2 / 178)\", \"PERUIBE / SP (1 / 178)\", \"NITEROI / RJ (5 / 46)\", \"RIO DE JANEIRO / RJ (21 / 46)\", \"RIO DE JANEIRO / RJ (21 / 46)\", \"SAO PAULO / SP (65 / 178)\", \"SAO PAULO / SP (65 / 178)\", \"RIO DE JANEIRO / RJ (21 / 46)\", \"SAO PAULO / SP (65 / 178)\", \"RECIFE / PE (3 / 4)\", \"WITMARSUM / SC (1 / 11)\", \"CAMPOS DOS GOYTACAZES / RJ (1 / 46)\", \"SAO JOSE DO RIO PRETO / SP (2 / 178)\", \"BARREIRAS / BA (1 / 17)\", \"JUIZ DE FORA / MG (1 / 46)\", \"CURITIBA / PR (8 / 19)\", \"CAMPO GRANDE / MS (1 / 2)\", \"CORONEL VIVIDA / PR (1 / 19)\", \"BELO HORIZONTE / MG (13 / 46)\", \"JUNDIAI / SP (4 / 178)\", \"SAO PAULO / SP (65 / 178)\", \"ITANHANDU / MG (1 / 46)\", \"SANTO ANDRE / SP (4 / 178)\", \"ITABIRA / MG (1 / 46)\", \"BAURU / SP (1 / 178)\", \"RIO DE JANEIRO / RJ (21 / 46)\", \"SAO PAULO / SP (65 / 178)\", \"SALVADOR / BA (7 / 17)\", \"SAO PAULO / SP (65 / 178)\", \"UBERABA / MG (1 / 46)\", \"RIO DE JANEIRO / RJ (21 / 46)\", \"SALVADOR / BA (7 / 17)\", \"SAO PAULO / SP (65 / 178)\", \"BELO HORIZONTE / MG (13 / 46)\", \"SAO PAULO / SP (65 / 178)\", \"CACAPAVA / SP (2 / 178)\", \"RIO NEGRINHO / SC (2 / 11)\", \"BARUERI / SP (3 / 178)\", \"SOROCABA / SP (1 / 178)\", \"SAO PAULO / SP (65 / 178)\", \"PORTO ALEGRE / RS (8 / 21)\", \"BARUERI / SP (3 / 178)\", \"SAO BERNARDO DO CAMPO / SP (5 / 178)\", \"ESTEIO / RS (1 / 21)\", \"JANDIRA / SP (1 / 178)\", \"PORTO ALEGRE / RS (8 / 21)\", \"JAPERI / RJ (1 / 46)\", \"DIVINOLANDIA DE MINAS / MG (1 / 46)\", \"CAMPINAS / SP (6 / 178)\", \"VAZANTE / MG (1 / 46)\", \"JACAREI / SP (2 / 178)\", \"ALAGOINHAS / BA (1 / 17)\", \"LIVRAMENTO DE NOSSA SENHORA / BA (1 / 17)\", \"VICOSA / MG (1 / 46)\", \"MOGI DAS CRUZES / SP (4 / 178)\", \"CAETE / MG (1 / 46)\", \"TRIUNFO / RS (1 / 21)\", \"PINHALAO / PR (1 / 19)\", \"PORTO ALEGRE / RS (8 / 21)\", \"RIO DE JANEIRO / RJ (21 / 46)\", \"BELO HORIZONTE / MG (13 / 46)\", \"OSASCO / SP (5 / 178)\", \"SEROPEDICA / RJ (1 / 46)\", \"OSASCO / SP (5 / 178)\", \"SAO PAULO / SP (65 / 178)\", \"OSASCO / SP (5 / 178)\", \"ASSIS CHATEAUBRIAND / PR (1 / 19)\", \"SAO PAULO / SP (65 / 178)\", \"RIO DE JANEIRO / RJ (21 / 46)\", \"CANELA / RS (1 / 21)\", \"UBATUBA / SP (1 / 178)\", \"NOVA ODESSA / SP (1 / 178)\", \"SUCESSO / CE (1 / 5)\", \"NOVA IGUACU / RJ (1 / 46)\", \"BRASILIA / DF (9 / 9)\", \"SALTO / SP (2 / 178)\", \"SANTO ANDRE / SP (4 / 178)\", \"MARILIA / SP (2 / 178)\", \"SAO PAULO / SP (65 / 178)\", \"BARRA DO PIRAI / RJ (1 / 46)\", \"PORTO ALEGRE / RS (8 / 21)\", \"JOAO PESSOA / PB (3 / 4)\", \"RIO NEGRINHO / SC (2 / 11)\", \"FLORIANOPOLIS / SC (3 / 11)\", \"PORTO ALEGRE / RS (8 / 21)\", \"IGUATAMA / MG (1 / 46)\", \"BRAGANCA PAULISTA / SP (1 / 178)\", \"PORTO ALEGRE / RS (8 / 21)\", \"SAO PAULO / SP (65 / 178)\", \"CURITIBA / PR (8 / 19)\", \"CURITIBA / PR (8 / 19)\", \"UIBAI / BA (1 / 17)\", \"RIACHAO DAS NEVES / BA (1 / 17)\", \"VALINHOS / SP (1 / 178)\", \"SAO PAULO / SP (65 / 178)\", \"PONTALINA / GO (1 / 5)\", \"DIAMANTINA / MG (1 / 46)\", \"OURINHOS / SP (1 / 178)\", \"RIO DE JANEIRO / RJ (21 / 46)\", \"SAO PAULO / SP (65 / 178)\", \"IPIRA / BA (1 / 17)\", \"NOVO HORIZONTE / SP (2 / 178)\", \"URUACU / GO (1 / 5)\", \"ITAUNA / MG (2 / 46)\", \"CAMPINA GRANDE DO SUL / PR (1 / 19)\", \"MAGE / RJ (1 / 46)\", \"SANTOS / SP (4 / 178)\", \"CAXIAS DO SUL / RS (1 / 21)\", \"ITUPIRANGA / PA (1 / 2)\", \"JACAREI / SP (2 / 178)\", \"SAO BERNARDO DO CAMPO / SP (5 / 178)\", \"GUARULHOS / SP (8 / 178)\", \"SAO PAULO / SP (65 / 178)\", \"SAO GABRIEL DA PALHA / ES (1 / 6)\", \"RIO DE JANEIRO / RJ (21 / 46)\", \"SAO JOSE DE UBA / RJ (1 / 46)\", \"NITEROI / RJ (5 / 46)\", \"RIO CLARO / SP (2 / 178)\", \"UNAI / MG (1 / 46)\", \"SAO PAULO / SP (65 / 178)\", \"SAO PAULO / SP (65 / 178)\", \"SANTO ANTONIO DE POSSE / SP (1 / 178)\", \"PIRAPORA DO BOM JESUS / SP (1 / 178)\", \"BRASILIA / DF (9 / 9)\", \"RIO DE JANEIRO / RJ (21 / 46)\", \"RIO DE JANEIRO / RJ (21 / 46)\", \"BARRA BONITA / SP (1 / 178)\", \"SAO PAULO / SP (65 / 178)\", \"RIO DE JANEIRO / RJ (21 / 46)\", \"FEIRA DE SANTANA / BA (2 / 17)\", \"SAO PAULO / SP (65 / 178)\", \"VINHEDO / SP (2 / 178)\", \"SAO JOSE DO HORTENCIO / RS (1 / 21)\", \"CACAPAVA / SP (2 / 178)\", \"HORTOLANDIA / SP (1 / 178)\", \"OSASCO / SP (5 / 178)\", \"PASSOS / MG (1 / 46)\", \"RECIFE / PE (3 / 4)\", \"VARZEA PAULISTA / SP (1 / 178)\", \"RIO DE JANEIRO / RJ (21 / 46)\", \"IBIRUBA / RS (1 / 21)\", \"SANTA LUZIA / MG (1 / 46)\", \"SAO BERNARDO DO CAMPO / SP (5 / 178)\", \"SAO PAULO / SP (65 / 178)\", \"SAO JOAO DO PIAUI / PI (1 / 1)\", \"SAO PAULO / SP (65 / 178)\", \"DOIS VIZINHOS / PR (1 / 19)\", \"ANGRA DOS REIS / RJ (1 / 46)\", \"ENGENHEIRO COELHO / SP (1 / 178)\", \"SALTO DE PIRAPORA / SP (2 / 178)\", \"ESCADA / PE (1 / 4)\", \"TERESOPOLIS / RJ (2 / 46)\", \"VILA VELHA / ES (2 / 6)\", \"SAO PAULO / SP (65 / 178)\", \"JOAO PESSOA / PB (3 / 4)\", \"ICARA / SC (1 / 11)\", \"ARRAIAL D'AJUDA / BA (1 / 17)\", \"LONDRINA / PR (1 / 19)\", \"ITAPERUNA / RJ (1 / 46)\", \"JUNDIAI / SP (4 / 178)\", \"CAMPINA GRANDE / PB (1 / 4)\", \"JOINVILLE / SC (1 / 11)\", \"BRASILIA / DF (9 / 9)\", \"PETROPOLIS / RJ (1 / 46)\", \"GUARULHOS / SP (8 / 178)\", \"IBIUNA / SP (1 / 178)\", \"FORTALEZA / CE (3 / 5)\", \"RIO DE JANEIRO / RJ (21 / 46)\", \"BRASILIA / DF (9 / 9)\", \"CAMPINAS / SP (6 / 178)\", \"ESPIRITO SANTO DO PINHAL / SP (1 / 178)\", \"PRAIA GRANDE / SP (4 / 178)\", \"MENDES / RJ (1 / 46)\", \"SAO PAULO / SP (65 / 178)\", \"BRASILIA / DF (9 / 9)\", \"SAO PAULO / SP (65 / 178)\", \"NITEROI / RJ (5 / 46)\", \"TRES RIOS / RJ (1 / 46)\", \"SAO PAULO / SP (65 / 178)\", \"SAO PAULO / SP (65 / 178)\", \"GUARULHOS / SP (8 / 178)\", \"SAO CAETANO DO SUL / SP (1 / 178)\", \"CARAPICUIBA / SP (1 / 178)\", \"SAO PAULO / SP (65 / 178)\", \"BRASILIA / DF (9 / 9)\", \"CURITIBA / PR (8 / 19)\", \"RIO DE JANEIRO / RJ (21 / 46)\", \"SANTANA DO MANHUACU / MG (1 / 46)\", \"SAO PAULO / SP (65 / 178)\", \"CURITIBA / PR (8 / 19)\", \"CURITIBA / PR (8 / 19)\", \"PARANAGUA / PR (1 / 19)\", \"CUBATAO / SP (1 / 178)\", \"EXTREMA / MG (1 / 46)\", \"SAO LEOPOLDO / RS (1 / 21)\", \"PEDERNEIRAS / SP (1 / 178)\", \"BELO HORIZONTE / MG (13 / 46)\", \"RIO DE JANEIRO / RJ (21 / 46)\", \"SALVADOR / BA (7 / 17)\", \"MONTES CLAROS / MG (1 / 46)\", \"IPATINGA / MG (1 / 46)\", \"CAMPINAS / SP (6 / 178)\", \"ITAUNA / MG (2 / 46)\", \"FEIRA DE SANTANA / BA (2 / 17)\", \"SANTANA DE PARNAIBA / SP (1 / 178)\", \"JUNDIAI / SP (4 / 178)\", \"CAMPINAS / SP (6 / 178)\", \"SAO PAULO / SP (65 / 178)\", \"SANTOS / SP (4 / 178)\", \"POTE / MG (1 / 46)\", \"GOIANIA / GO (1 / 5)\", \"MOGI DAS CRUZES / SP (4 / 178)\", \"SANTOS / SP (4 / 178)\", \"SAO PAULO / SP (65 / 178)\", \"JOAO PESSOA / PB (3 / 4)\", \"BRASILIA / DF (9 / 9)\", \"ESPERA FELIZ / MG (1 / 46)\", \"SAO MATEUS DO MARANHAO / MA (1 / 2)\", \"GUARULHOS / SP (8 / 178)\", \"SAO PAULO / SP (65 / 178)\", \"PORTO ALEGRE / RS (8 / 21)\", \"UMUARAMA / PR (1 / 19)\", \"SALVADOR / BA (7 / 17)\", \"PIRACICABA / SP (1 / 178)\", \"MAUA / SP (1 / 178)\", \"BELO HORIZONTE / MG (13 / 46)\", \"FORTALEZA / CE (3 / 5)\", \"RIO DE JANEIRO / RJ (21 / 46)\", \"ARIPUANA / MT (1 / 1)\", \"SAO PAULO / SP (65 / 178)\", \"BOM DESPACHO / MG (1 / 46)\", \"CACHOEIRO DE ITAPEMIRIM / ES (1 / 6)\", \"PRAIA GRANDE / SP (4 / 178)\", \"CAMPINAS / SP (6 / 178)\", \"BELO HORIZONTE / MG (13 / 46)\", \"LIMEIRA / SP (1 / 178)\", \"SAQUAREMA / RJ (1 / 46)\", \"BELO HORIZONTE / MG (13 / 46)\", \"SAO LUIS / MA (1 / 2)\", \"TERESOPOLIS / RJ (2 / 46)\", \"SANTA BARBARA D'OESTE / SP (1 / 178)\", \"RIO DAS OSTRAS / RJ (1 / 46)\", \"SAO PAULO / SP (65 / 178)\", \"SAO PAULO / SP (65 / 178)\", \"GUARULHOS / SP (8 / 178)\", \"SAO PAULO / SP (65 / 178)\", \"ACREUNA / GO (1 / 5)\", \"SAO PAULO / SP (65 / 178)\", \"MOGI DAS CRUZES / SP (4 / 178)\", \"NOVA SERRANA / MG (1 / 46)\", \"MARICA / RJ (1 / 46)\", \"SAO PAULO / SP (65 / 178)\", \"BELO HORIZONTE / MG (13 / 46)\", \"GUARUJA / SP (1 / 178)\", \"MOGI-GUACU / SP (1 / 178)\", \"BARUERI / SP (3 / 178)\", \"DIADEMA / SP (1 / 178)\", \"ASSIS / SP (1 / 178)\", \"SAO PAULO / SP (65 / 178)\", \"GUARULHOS / SP (8 / 178)\", \"ASSARE / CE (1 / 5)\", \"ITINGA / MG (1 / 46)\", \"SAO PAULO / SP (65 / 178)\", \"SANTOS / SP (4 / 178)\", \"SANTO ANTONIO DE PADUA / RJ (1 / 46)\", \"RIBEIRAO PRETO / SP (1 / 178)\", \"SAO PAULO / SP (65 / 178)\", \"SAO PAULO / SP (65 / 178)\", \"SAO JOAO NEPOMUCENO / MG (1 / 46)\", \"SALTO / SP (2 / 178)\", \"JACIGUA / ES (1 / 6)\", \"SAO PAULO / SP (65 / 178)\", \"BELO HORIZONTE / MG (13 / 46)\", \"RIO DE JANEIRO / RJ (21 / 46)\", \"LAGES / SC (1 / 11)\", \"SAO BERNARDO DO CAMPO / SP (5 / 178)\", \"BELEM / PA (1 / 2)\", \"LADAINHA / MG (1 / 46)\", \"ITATIBA / SP (2 / 178)\", \"OSASCO / SP (5 / 178)\", \"VENANCIO AIRES / RS (2 / 21)\", \"ANDRADAS / MG (1 / 46)\", \"FLORIANOPOLIS / SC (3 / 11)\", \"GOITACAZES / RJ (1 / 46)\", \"CURITIBA / PR (8 / 19)\", \"SAO PAULO / SP (65 / 178)\", \"SAO PAULO / SP (65 / 178)\", \"SAO PAULO / SP (65 / 178)\", \"JORDANIA / MG (1 / 46)\", \"BELO HORIZONTE / MG (13 / 46)\", \"ARUJA / SP (1 / 178)\", \"ROSARIO DO SUL / RS (1 / 21)\", \"VOLTA REDONDA / RJ (1 / 46)\", \"SAO PAULO / SP (65 / 178)\", \"SAO PAULO / SP (65 / 178)\", \"ARARAS / SP (1 / 178)\", \"SAO PAULO / SP (65 / 178)\", \"SAO PAULO / SP (65 / 178)\", \"SALTO DE PIRAPORA / SP (2 / 178)\", \"PRAIA GRANDE / SP (4 / 178)\", \"BIRITINGA / BA (1 / 17)\", \"PRAIA GRANDE / SP (4 / 178)\", \"SANTO ANDRE / SP (4 / 178)\", \"FORTALEZA / CE (3 / 5)\", \"TAIUVA / SP (1 / 178)\", \"SAO BORJA / RS (1 / 21)\", \"SAO PAULO / SP (65 / 178)\", \"SAO PAULO / SP (65 / 178)\", \"SALVADOR / BA (7 / 17)\", \"SAO PAULO / SP (65 / 178)\", \"RIO DE JANEIRO / RJ (21 / 46)\", \"VILA VELHA / ES (2 / 6)\", \"SAO PAULO / SP (65 / 178)\", \"NITEROI / RJ (5 / 46)\", \"CAMPINAS / SP (6 / 178)\", \"SAO JOSE DO RIO PARDO / SP (1 / 178)\", \"SAO PAULO / SP (65 / 178)\", \"SALVADOR / BA (7 / 17)\", \"BERTIOGA / SP (1 / 178)\", \"ANAPOLIS / GO (1 / 5)\", \"SAO PAULO / SP (65 / 178)\", \"SAO PAULO / SP (65 / 178)\", \"CARATINGA / MG (1 / 46)\", \"SUZANO / SP (1 / 178)\", \"ARACRUZ / ES (1 / 6)\", \"SAO PAULO / SP (65 / 178)\", \"VINHEDO / SP (2 / 178)\", \"PONTE NOVA / MG (1 / 46)\", \"NOVA LIMA / MG (1 / 46)\", \"BELO HORIZONTE / MG (13 / 46)\", \"DOURADOS / MS (1 / 2)\", \"SAO PAULO / SP (65 / 178)\", \"SUMARE / SP (1 / 178)\", \"GUARULHOS / SP (8 / 178)\", \"PINDAMONHANGABA / SP (2 / 178)\", \"BELO HORIZONTE / MG (13 / 46)\", \"FRANCISCO BELTRAO / PR (1 / 19)\", \"UBERLANDIA / MG (2 / 46)\", \"RIO DE JANEIRO / RJ (21 / 46)\", \"FLORIANOPOLIS / SC (3 / 11)\", \"BOA ESPERANCA DO SUL / SP (1 / 178)\", \"SANTO ANDRE / SP (4 / 178)\", \"ITUPEVA / SP (1 / 178)\", \"SAO PAULO / SP (65 / 178)\", \"MOGI DAS CRUZES / SP (4 / 178)\", \"CASTRO / PR (1 / 19)\", \"SAO JOSE DO RIO PRETO / SP (2 / 178)\", \"SAO PAULO / SP (65 / 178)\", \"SALVADOR / BA (7 / 17)\", \"BELO HORIZONTE / MG (13 / 46)\", \"BLUMENAU / SC (1 / 11)\", \"SAO PAULO / SP (65 / 178)\", \"JUNDIAI / SP (4 / 178)\", \"SAO BERNARDO DO CAMPO / SP (5 / 178)\", \"ITAJAI / SC (1 / 11)\", \"RIO BRANCO / AC (1 / 1)\", \"OSORIO / RS (1 / 21)\", \"VENANCIO AIRES / RS (2 / 21)\", \"CAMPO MOURAO / PR (1 / 19)\", \"SAO PAULO / SP (65 / 178)\", \"FRANCO DA ROCHA / SP (1 / 178)\", \"ARARAQUARA / SP (1 / 178)\", \"FERRAZ DE VASCONCELOS / SP (1 / 178)\", \"NITEROI / RJ (5 / 46)\", \"RECIFE / PE (3 / 4)\", \"CURITIBA / PR (8 / 19)\", \"MARILIA / SP (2 / 178)\", \"GUARULHOS / SP (8 / 178)\", \"SAO PAULO / SP (65 / 178)\", \"RIO DE JANEIRO / RJ (21 / 46)\", \"RIO CLARO / SP (2 / 178)\", \"NOVO HORIZONTE / SP (2 / 178)\", \"PORTO ALEGRE / RS (8 / 21)\"], \"type\": \"scattergeo\"}],\n",
              "                        {\"geo\": {\"landcolor\": \"#2ecc71\", \"projection\": {\"type\": \"natural earth\"}, \"scope\": \"south america\"}, \"template\": {\"data\": {\"bar\": [{\"error_x\": {\"color\": \"#2a3f5f\"}, \"error_y\": {\"color\": \"#2a3f5f\"}, \"marker\": {\"line\": {\"color\": \"#E5ECF6\", \"width\": 0.5}}, \"type\": \"bar\"}], \"barpolar\": [{\"marker\": {\"line\": {\"color\": \"#E5ECF6\", \"width\": 0.5}}, \"type\": \"barpolar\"}], \"carpet\": [{\"aaxis\": {\"endlinecolor\": \"#2a3f5f\", \"gridcolor\": \"white\", \"linecolor\": \"white\", \"minorgridcolor\": \"white\", \"startlinecolor\": \"#2a3f5f\"}, \"baxis\": {\"endlinecolor\": \"#2a3f5f\", \"gridcolor\": \"white\", \"linecolor\": \"white\", \"minorgridcolor\": \"white\", \"startlinecolor\": \"#2a3f5f\"}, \"type\": \"carpet\"}], \"choropleth\": [{\"colorbar\": {\"outlinewidth\": 0, \"ticks\": \"\"}, \"type\": \"choropleth\"}], \"contour\": [{\"colorbar\": {\"outlinewidth\": 0, \"ticks\": \"\"}, \"colorscale\": [[0.0, \"#0d0887\"], [0.1111111111111111, \"#46039f\"], [0.2222222222222222, \"#7201a8\"], [0.3333333333333333, \"#9c179e\"], [0.4444444444444444, \"#bd3786\"], [0.5555555555555556, \"#d8576b\"], [0.6666666666666666, \"#ed7953\"], [0.7777777777777778, \"#fb9f3a\"], [0.8888888888888888, \"#fdca26\"], [1.0, \"#f0f921\"]], \"type\": \"contour\"}], \"contourcarpet\": [{\"colorbar\": {\"outlinewidth\": 0, \"ticks\": \"\"}, \"type\": \"contourcarpet\"}], \"heatmap\": [{\"colorbar\": {\"outlinewidth\": 0, \"ticks\": \"\"}, \"colorscale\": [[0.0, \"#0d0887\"], [0.1111111111111111, \"#46039f\"], [0.2222222222222222, \"#7201a8\"], [0.3333333333333333, \"#9c179e\"], [0.4444444444444444, \"#bd3786\"], [0.5555555555555556, \"#d8576b\"], [0.6666666666666666, \"#ed7953\"], [0.7777777777777778, \"#fb9f3a\"], [0.8888888888888888, \"#fdca26\"], [1.0, \"#f0f921\"]], \"type\": \"heatmap\"}], \"heatmapgl\": [{\"colorbar\": {\"outlinewidth\": 0, \"ticks\": \"\"}, \"colorscale\": [[0.0, \"#0d0887\"], [0.1111111111111111, \"#46039f\"], [0.2222222222222222, \"#7201a8\"], [0.3333333333333333, \"#9c179e\"], [0.4444444444444444, \"#bd3786\"], [0.5555555555555556, \"#d8576b\"], [0.6666666666666666, \"#ed7953\"], [0.7777777777777778, \"#fb9f3a\"], [0.8888888888888888, \"#fdca26\"], [1.0, \"#f0f921\"]], \"type\": \"heatmapgl\"}], \"histogram\": [{\"marker\": {\"colorbar\": {\"outlinewidth\": 0, \"ticks\": \"\"}}, \"type\": \"histogram\"}], \"histogram2d\": [{\"colorbar\": {\"outlinewidth\": 0, \"ticks\": \"\"}, \"colorscale\": [[0.0, \"#0d0887\"], [0.1111111111111111, \"#46039f\"], [0.2222222222222222, \"#7201a8\"], [0.3333333333333333, \"#9c179e\"], [0.4444444444444444, \"#bd3786\"], [0.5555555555555556, \"#d8576b\"], [0.6666666666666666, \"#ed7953\"], [0.7777777777777778, \"#fb9f3a\"], [0.8888888888888888, \"#fdca26\"], [1.0, \"#f0f921\"]], \"type\": \"histogram2d\"}], \"histogram2dcontour\": [{\"colorbar\": {\"outlinewidth\": 0, \"ticks\": \"\"}, \"colorscale\": [[0.0, \"#0d0887\"], [0.1111111111111111, \"#46039f\"], [0.2222222222222222, \"#7201a8\"], [0.3333333333333333, \"#9c179e\"], [0.4444444444444444, \"#bd3786\"], [0.5555555555555556, \"#d8576b\"], [0.6666666666666666, \"#ed7953\"], [0.7777777777777778, \"#fb9f3a\"], [0.8888888888888888, \"#fdca26\"], [1.0, \"#f0f921\"]], \"type\": \"histogram2dcontour\"}], \"mesh3d\": [{\"colorbar\": {\"outlinewidth\": 0, \"ticks\": \"\"}, \"type\": \"mesh3d\"}], \"parcoords\": [{\"line\": {\"colorbar\": {\"outlinewidth\": 0, \"ticks\": \"\"}}, \"type\": \"parcoords\"}], \"scatter\": [{\"marker\": {\"colorbar\": {\"outlinewidth\": 0, \"ticks\": \"\"}}, \"type\": \"scatter\"}], \"scatter3d\": [{\"line\": {\"colorbar\": {\"outlinewidth\": 0, \"ticks\": \"\"}}, \"marker\": {\"colorbar\": {\"outlinewidth\": 0, \"ticks\": \"\"}}, \"type\": \"scatter3d\"}], \"scattercarpet\": [{\"marker\": {\"colorbar\": {\"outlinewidth\": 0, \"ticks\": \"\"}}, \"type\": \"scattercarpet\"}], \"scattergeo\": [{\"marker\": {\"colorbar\": {\"outlinewidth\": 0, \"ticks\": \"\"}}, \"type\": \"scattergeo\"}], \"scattergl\": [{\"marker\": {\"colorbar\": {\"outlinewidth\": 0, \"ticks\": \"\"}}, \"type\": \"scattergl\"}], \"scattermapbox\": [{\"marker\": {\"colorbar\": {\"outlinewidth\": 0, \"ticks\": \"\"}}, \"type\": \"scattermapbox\"}], \"scatterpolar\": [{\"marker\": {\"colorbar\": {\"outlinewidth\": 0, \"ticks\": \"\"}}, \"type\": \"scatterpolar\"}], \"scatterpolargl\": [{\"marker\": {\"colorbar\": {\"outlinewidth\": 0, \"ticks\": \"\"}}, \"type\": \"scatterpolargl\"}], \"scatterternary\": [{\"marker\": {\"colorbar\": {\"outlinewidth\": 0, \"ticks\": \"\"}}, \"type\": \"scatterternary\"}], \"surface\": [{\"colorbar\": {\"outlinewidth\": 0, \"ticks\": \"\"}, \"colorscale\": [[0.0, \"#0d0887\"], [0.1111111111111111, \"#46039f\"], [0.2222222222222222, \"#7201a8\"], [0.3333333333333333, \"#9c179e\"], [0.4444444444444444, \"#bd3786\"], [0.5555555555555556, \"#d8576b\"], [0.6666666666666666, \"#ed7953\"], [0.7777777777777778, \"#fb9f3a\"], [0.8888888888888888, \"#fdca26\"], [1.0, \"#f0f921\"]], \"type\": \"surface\"}], \"table\": [{\"cells\": {\"fill\": {\"color\": \"#EBF0F8\"}, \"line\": {\"color\": \"white\"}}, \"header\": {\"fill\": {\"color\": \"#C8D4E3\"}, \"line\": {\"color\": \"white\"}}, \"type\": \"table\"}]}, \"layout\": {\"annotationdefaults\": {\"arrowcolor\": \"#2a3f5f\", \"arrowhead\": 0, \"arrowwidth\": 1}, \"colorscale\": {\"diverging\": [[0, \"#8e0152\"], [0.1, \"#c51b7d\"], [0.2, \"#de77ae\"], [0.3, \"#f1b6da\"], [0.4, \"#fde0ef\"], [0.5, \"#f7f7f7\"], [0.6, \"#e6f5d0\"], [0.7, \"#b8e186\"], [0.8, \"#7fbc41\"], [0.9, \"#4d9221\"], [1, \"#276419\"]], \"sequential\": [[0.0, \"#0d0887\"], [0.1111111111111111, \"#46039f\"], [0.2222222222222222, \"#7201a8\"], [0.3333333333333333, \"#9c179e\"], [0.4444444444444444, \"#bd3786\"], [0.5555555555555556, \"#d8576b\"], [0.6666666666666666, \"#ed7953\"], [0.7777777777777778, \"#fb9f3a\"], [0.8888888888888888, \"#fdca26\"], [1.0, \"#f0f921\"]], \"sequentialminus\": [[0.0, \"#0d0887\"], [0.1111111111111111, \"#46039f\"], [0.2222222222222222, \"#7201a8\"], [0.3333333333333333, \"#9c179e\"], [0.4444444444444444, \"#bd3786\"], [0.5555555555555556, \"#d8576b\"], [0.6666666666666666, \"#ed7953\"], [0.7777777777777778, \"#fb9f3a\"], [0.8888888888888888, \"#fdca26\"], [1.0, \"#f0f921\"]]}, \"colorway\": [\"#636efa\", \"#EF553B\", \"#00cc96\", \"#ab63fa\", \"#FFA15A\", \"#19d3f3\", \"#FF6692\", \"#B6E880\", \"#FF97FF\", \"#FECB52\"], \"font\": {\"color\": \"#2a3f5f\"}, \"geo\": {\"bgcolor\": \"white\", \"lakecolor\": \"white\", \"landcolor\": \"#E5ECF6\", \"showlakes\": true, \"showland\": true, \"subunitcolor\": \"white\"}, \"hoverlabel\": {\"align\": \"left\"}, \"hovermode\": \"closest\", \"mapbox\": {\"style\": \"light\"}, \"paper_bgcolor\": \"white\", \"plot_bgcolor\": \"#E5ECF6\", \"polar\": {\"angularaxis\": {\"gridcolor\": \"white\", \"linecolor\": \"white\", \"ticks\": \"\"}, \"bgcolor\": \"#E5ECF6\", \"radialaxis\": {\"gridcolor\": \"white\", \"linecolor\": \"white\", \"ticks\": \"\"}}, \"scene\": {\"xaxis\": {\"backgroundcolor\": \"#E5ECF6\", \"gridcolor\": \"white\", \"gridwidth\": 2, \"linecolor\": \"white\", \"showbackground\": true, \"ticks\": \"\", \"zerolinecolor\": \"white\"}, \"yaxis\": {\"backgroundcolor\": \"#E5ECF6\", \"gridcolor\": \"white\", \"gridwidth\": 2, \"linecolor\": \"white\", \"showbackground\": true, \"ticks\": \"\", \"zerolinecolor\": \"white\"}, \"zaxis\": {\"backgroundcolor\": \"#E5ECF6\", \"gridcolor\": \"white\", \"gridwidth\": 2, \"linecolor\": \"white\", \"showbackground\": true, \"ticks\": \"\", \"zerolinecolor\": \"white\"}}, \"shapedefaults\": {\"line\": {\"color\": \"#2a3f5f\"}}, \"ternary\": {\"aaxis\": {\"gridcolor\": \"white\", \"linecolor\": \"white\", \"ticks\": \"\"}, \"baxis\": {\"gridcolor\": \"white\", \"linecolor\": \"white\", \"ticks\": \"\"}, \"bgcolor\": \"#E5ECF6\", \"caxis\": {\"gridcolor\": \"white\", \"linecolor\": \"white\", \"ticks\": \"\"}}, \"title\": {\"x\": 0.05}, \"xaxis\": {\"automargin\": true, \"gridcolor\": \"white\", \"linecolor\": \"white\", \"ticks\": \"\", \"zerolinecolor\": \"white\", \"zerolinewidth\": 2}, \"yaxis\": {\"automargin\": true, \"gridcolor\": \"white\", \"linecolor\": \"white\", \"ticks\": \"\", \"zerolinecolor\": \"white\", \"zerolinewidth\": 2}}}, \"title\": {\"font\": {\"family\": \"Arial\", \"size\": 24}, \"text\": \"<b>Localiza\\u00e7\\u00e3o dos <i>\\\"leads\\\"</i> convertidos</b>\"}},\n",
              "                        {\"responsive\": true}\n",
              "                    ).then(function(){\n",
              "                            \n",
              "var gd = document.getElementById('e13c39ce-df25-426d-b549-982c441e6bd3');\n",
              "var x = new MutationObserver(function (mutations, observer) {{\n",
              "        var display = window.getComputedStyle(gd).display;\n",
              "        if (!display || display === 'none') {{\n",
              "            console.log([gd, 'removed!']);\n",
              "            Plotly.purge(gd);\n",
              "            observer.disconnect();\n",
              "        }}\n",
              "}});\n",
              "\n",
              "// Listen for the removal of the full notebook cells\n",
              "var notebookContainer = gd.closest('#notebook-container');\n",
              "if (notebookContainer) {{\n",
              "    x.observe(notebookContainer, {childList: true});\n",
              "}}\n",
              "\n",
              "// Listen for the clearing of the current output cell\n",
              "var outputEl = gd.closest('.output');\n",
              "if (outputEl) {{\n",
              "    x.observe(outputEl, {childList: true});\n",
              "}}\n",
              "\n",
              "                        })\n",
              "                };\n",
              "                \n",
              "            </script>\n",
              "        </div>\n",
              "</body>\n",
              "</html>"
            ]
          },
          "metadata": {
            "tags": []
          }
        }
      ]
    },
    {
      "cell_type": "markdown",
      "metadata": {
        "id": "4dAi_7yi2JVU",
        "colab_type": "text"
      },
      "source": [
        "#### 4.3) **(20%)** Análise 3 - Correlação entre variáveis\n",
        "\n",
        "O aluno deve apresentar 3 análises de correlação entre variáveis do conjunto de dados trabalhado. Exemplo: Em um conjunto de dados com as informações de temperatura e ocorrência de incêndios, eu gostaria de saber a incidência de correlação entre as duas variáveis.\n",
        "\n"
      ]
    },
    {
      "cell_type": "code",
      "metadata": {
        "id": "9sGd9fg0SJaU",
        "colab_type": "code",
        "colab": {
          "base_uri": "https://localhost:8080/",
          "height": 542
        },
        "cellView": "form",
        "outputId": "d3d2962b-2345-4591-ffa6-74c5c86fd27b"
      },
      "source": [
        "#@title Correlação entre a quantidade de contatos e quantidade de conversões\n",
        "# Definindo a linha Data/Contato\n",
        "trace = go.Scatter(x = dt_contato.index,\n",
        "                    y = dt_contato['cliente_id'],\n",
        "                    mode = 'lines',\n",
        "                    name = 'Quant contato')\n",
        "\n",
        "# Definindo a linha Data/Conversão\n",
        "trace1 = go.Scatter(x = dt_compra.index,\n",
        "                    y = dt_compra['mql_id'],\n",
        "                    mode = 'lines',\n",
        "                    name = 'Quant conversões')\n",
        "\n",
        "# Definindo o  layout do gráfico de linhas\n",
        "layout = go.Layout(title = 'Quantidade de contatos e conversões por data',\n",
        "                   xaxis = {'title': 'Data dos contatos/conversões'},\n",
        "                   yaxis = {'title': 'Quantidade de contatos/conversão'})\n",
        "\n",
        "data = [trace, trace1]\n",
        "fig = go.Figure(data=data, layout=layout)\n",
        "\n",
        "# Plotando o gráfico Relação contato / conversão\n",
        "py.iplot(fig)"
      ],
      "execution_count": 18,
      "outputs": [
        {
          "output_type": "display_data",
          "data": {
            "text/html": [
              "<html>\n",
              "<head><meta charset=\"utf-8\" /></head>\n",
              "<body>\n",
              "    <div>\n",
              "            <script src=\"https://cdnjs.cloudflare.com/ajax/libs/mathjax/2.7.5/MathJax.js?config=TeX-AMS-MML_SVG\"></script><script type=\"text/javascript\">if (window.MathJax) {MathJax.Hub.Config({SVG: {font: \"STIX-Web\"}});}</script>\n",
              "                <script type=\"text/javascript\">window.PlotlyConfig = {MathJaxConfig: 'local'};</script>\n",
              "        <script src=\"https://cdn.plot.ly/plotly-latest.min.js\"></script>    \n",
              "            <div id=\"7e8a237f-0e1c-4e42-bc14-e68c6cbee262\" class=\"plotly-graph-div\" style=\"height:525px; width:100%;\"></div>\n",
              "            <script type=\"text/javascript\">\n",
              "                \n",
              "                    window.PLOTLYENV=window.PLOTLYENV || {};\n",
              "                    \n",
              "                if (document.getElementById(\"7e8a237f-0e1c-4e42-bc14-e68c6cbee262\")) {\n",
              "                    Plotly.newPlot(\n",
              "                        '7e8a237f-0e1c-4e42-bc14-e68c6cbee262',\n",
              "                        [{\"mode\": \"lines\", \"name\": \"Quant contato\", \"type\": \"scatter\", \"x\": [\"2017-06-14T00:00:00\", \"2017-06-16T00:00:00\", \"2017-06-20T00:00:00\", \"2017-07-02T00:00:00\", \"2017-07-03T00:00:00\", \"2017-07-04T00:00:00\", \"2017-07-05T00:00:00\", \"2017-07-06T00:00:00\", \"2017-07-07T00:00:00\", \"2017-07-08T00:00:00\", \"2017-07-09T00:00:00\", \"2017-07-10T00:00:00\", \"2017-07-11T00:00:00\", \"2017-07-12T00:00:00\", \"2017-07-13T00:00:00\", \"2017-07-14T00:00:00\", \"2017-07-15T00:00:00\", \"2017-07-16T00:00:00\", \"2017-07-17T00:00:00\", \"2017-07-18T00:00:00\", \"2017-07-19T00:00:00\", \"2017-07-20T00:00:00\", \"2017-07-21T00:00:00\", \"2017-07-22T00:00:00\", \"2017-07-23T00:00:00\", \"2017-07-24T00:00:00\", \"2017-07-25T00:00:00\", \"2017-07-26T00:00:00\", \"2017-07-27T00:00:00\", \"2017-07-28T00:00:00\", \"2017-07-29T00:00:00\", \"2017-07-30T00:00:00\", \"2017-07-31T00:00:00\", \"2017-08-01T00:00:00\", \"2017-08-02T00:00:00\", \"2017-08-03T00:00:00\", \"2017-08-04T00:00:00\", \"2017-08-05T00:00:00\", \"2017-08-06T00:00:00\", \"2017-08-07T00:00:00\", \"2017-08-08T00:00:00\", \"2017-08-09T00:00:00\", \"2017-08-10T00:00:00\", \"2017-08-11T00:00:00\", \"2017-08-12T00:00:00\", \"2017-08-13T00:00:00\", \"2017-08-14T00:00:00\", \"2017-08-15T00:00:00\", \"2017-08-16T00:00:00\", \"2017-08-17T00:00:00\", \"2017-08-18T00:00:00\", \"2017-08-19T00:00:00\", \"2017-08-20T00:00:00\", \"2017-08-21T00:00:00\", \"2017-08-22T00:00:00\", \"2017-08-23T00:00:00\", \"2017-08-24T00:00:00\", \"2017-08-25T00:00:00\", \"2017-08-26T00:00:00\", \"2017-08-27T00:00:00\", \"2017-08-28T00:00:00\", \"2017-08-29T00:00:00\", \"2017-08-30T00:00:00\", \"2017-08-31T00:00:00\", \"2017-09-01T00:00:00\", \"2017-09-02T00:00:00\", \"2017-09-03T00:00:00\", \"2017-09-04T00:00:00\", \"2017-09-05T00:00:00\", \"2017-09-06T00:00:00\", \"2017-09-07T00:00:00\", \"2017-09-08T00:00:00\", \"2017-09-09T00:00:00\", \"2017-09-10T00:00:00\", \"2017-09-11T00:00:00\", \"2017-09-12T00:00:00\", \"2017-09-13T00:00:00\", \"2017-09-14T00:00:00\", \"2017-09-15T00:00:00\", \"2017-09-16T00:00:00\", \"2017-09-17T00:00:00\", \"2017-09-18T00:00:00\", \"2017-09-19T00:00:00\", \"2017-09-20T00:00:00\", \"2017-09-21T00:00:00\", \"2017-09-22T00:00:00\", \"2017-09-23T00:00:00\", \"2017-09-24T00:00:00\", \"2017-09-25T00:00:00\", \"2017-09-26T00:00:00\", \"2017-09-27T00:00:00\", \"2017-09-28T00:00:00\", \"2017-09-29T00:00:00\", \"2017-09-30T00:00:00\", \"2017-10-01T00:00:00\", \"2017-10-02T00:00:00\", \"2017-10-03T00:00:00\", \"2017-10-04T00:00:00\", \"2017-10-05T00:00:00\", \"2017-10-06T00:00:00\", \"2017-10-07T00:00:00\", \"2017-10-08T00:00:00\", \"2017-10-09T00:00:00\", \"2017-10-10T00:00:00\", \"2017-10-11T00:00:00\", \"2017-10-12T00:00:00\", \"2017-10-13T00:00:00\", \"2017-10-14T00:00:00\", \"2017-10-15T00:00:00\", \"2017-10-16T00:00:00\", \"2017-10-17T00:00:00\", \"2017-10-18T00:00:00\", \"2017-10-19T00:00:00\", \"2017-10-20T00:00:00\", \"2017-10-21T00:00:00\", \"2017-10-22T00:00:00\", \"2017-10-23T00:00:00\", \"2017-10-24T00:00:00\", \"2017-10-25T00:00:00\", \"2017-10-26T00:00:00\", \"2017-10-27T00:00:00\", \"2017-10-28T00:00:00\", \"2017-10-29T00:00:00\", \"2017-10-30T00:00:00\", \"2017-10-31T00:00:00\", \"2017-11-01T00:00:00\", \"2017-11-02T00:00:00\", \"2017-11-03T00:00:00\", \"2017-11-04T00:00:00\", \"2017-11-05T00:00:00\", \"2017-11-06T00:00:00\", \"2017-11-07T00:00:00\", \"2017-11-08T00:00:00\", \"2017-11-09T00:00:00\", \"2017-11-10T00:00:00\", \"2017-11-11T00:00:00\", \"2017-11-12T00:00:00\", \"2017-11-13T00:00:00\", \"2017-11-14T00:00:00\", \"2017-11-15T00:00:00\", \"2017-11-16T00:00:00\", \"2017-11-17T00:00:00\", \"2017-11-18T00:00:00\", \"2017-11-19T00:00:00\", \"2017-11-20T00:00:00\", \"2017-11-21T00:00:00\", \"2017-11-22T00:00:00\", \"2017-11-23T00:00:00\", \"2017-11-24T00:00:00\", \"2017-11-25T00:00:00\", \"2017-11-26T00:00:00\", \"2017-11-27T00:00:00\", \"2017-11-28T00:00:00\", \"2017-11-29T00:00:00\", \"2017-11-30T00:00:00\", \"2017-12-01T00:00:00\", \"2017-12-02T00:00:00\", \"2017-12-03T00:00:00\", \"2017-12-04T00:00:00\", \"2017-12-05T00:00:00\", \"2017-12-06T00:00:00\", \"2017-12-07T00:00:00\", \"2017-12-08T00:00:00\", \"2017-12-09T00:00:00\", \"2017-12-11T00:00:00\", \"2017-12-12T00:00:00\", \"2017-12-13T00:00:00\", \"2017-12-14T00:00:00\", \"2017-12-15T00:00:00\", \"2017-12-16T00:00:00\", \"2017-12-17T00:00:00\", \"2017-12-18T00:00:00\", \"2017-12-19T00:00:00\", \"2017-12-20T00:00:00\", \"2017-12-21T00:00:00\", \"2017-12-22T00:00:00\", \"2017-12-23T00:00:00\", \"2017-12-24T00:00:00\", \"2017-12-25T00:00:00\", \"2017-12-26T00:00:00\", \"2017-12-27T00:00:00\", \"2017-12-28T00:00:00\", \"2017-12-29T00:00:00\", \"2017-12-30T00:00:00\", \"2017-12-31T00:00:00\", \"2018-01-01T00:00:00\", \"2018-01-02T00:00:00\", \"2018-01-03T00:00:00\", \"2018-01-04T00:00:00\", \"2018-01-05T00:00:00\", \"2018-01-06T00:00:00\", \"2018-01-07T00:00:00\", \"2018-01-08T00:00:00\", \"2018-01-09T00:00:00\", \"2018-01-10T00:00:00\", \"2018-01-11T00:00:00\", \"2018-01-12T00:00:00\", \"2018-01-13T00:00:00\", \"2018-01-14T00:00:00\", \"2018-01-15T00:00:00\", \"2018-01-16T00:00:00\", \"2018-01-17T00:00:00\", \"2018-01-18T00:00:00\", \"2018-01-19T00:00:00\", \"2018-01-20T00:00:00\", \"2018-01-21T00:00:00\", \"2018-01-22T00:00:00\", \"2018-01-23T00:00:00\", \"2018-01-24T00:00:00\", \"2018-01-25T00:00:00\", \"2018-01-26T00:00:00\", \"2018-01-27T00:00:00\", \"2018-01-28T00:00:00\", \"2018-01-29T00:00:00\", \"2018-01-30T00:00:00\", \"2018-01-31T00:00:00\", \"2018-02-01T00:00:00\", \"2018-02-02T00:00:00\", \"2018-02-03T00:00:00\", \"2018-02-04T00:00:00\", \"2018-02-05T00:00:00\", \"2018-02-06T00:00:00\", \"2018-02-07T00:00:00\", \"2018-02-08T00:00:00\", \"2018-02-09T00:00:00\", \"2018-02-10T00:00:00\", \"2018-02-11T00:00:00\", \"2018-02-12T00:00:00\", \"2018-02-13T00:00:00\", \"2018-02-14T00:00:00\", \"2018-02-15T00:00:00\", \"2018-02-16T00:00:00\", \"2018-02-17T00:00:00\", \"2018-02-18T00:00:00\", \"2018-02-19T00:00:00\", \"2018-02-20T00:00:00\", \"2018-02-21T00:00:00\", \"2018-02-22T00:00:00\", \"2018-02-23T00:00:00\", \"2018-02-24T00:00:00\", \"2018-02-25T00:00:00\", \"2018-02-26T00:00:00\", \"2018-02-27T00:00:00\", \"2018-02-28T00:00:00\", \"2018-03-01T00:00:00\", \"2018-03-02T00:00:00\", \"2018-03-03T00:00:00\", \"2018-03-04T00:00:00\", \"2018-03-05T00:00:00\", \"2018-03-06T00:00:00\", \"2018-03-07T00:00:00\", \"2018-03-08T00:00:00\", \"2018-03-09T00:00:00\", \"2018-03-10T00:00:00\", \"2018-03-11T00:00:00\", \"2018-03-12T00:00:00\", \"2018-03-13T00:00:00\", \"2018-03-14T00:00:00\", \"2018-03-15T00:00:00\", \"2018-03-16T00:00:00\", \"2018-03-17T00:00:00\", \"2018-03-18T00:00:00\", \"2018-03-19T00:00:00\", \"2018-03-20T00:00:00\", \"2018-03-21T00:00:00\", \"2018-03-22T00:00:00\", \"2018-03-23T00:00:00\", \"2018-03-24T00:00:00\", \"2018-03-25T00:00:00\", \"2018-03-26T00:00:00\", \"2018-03-27T00:00:00\", \"2018-03-28T00:00:00\", \"2018-03-29T00:00:00\", \"2018-03-30T00:00:00\", \"2018-03-31T00:00:00\", \"2018-04-01T00:00:00\", \"2018-04-02T00:00:00\", \"2018-04-03T00:00:00\", \"2018-04-04T00:00:00\", \"2018-04-05T00:00:00\", \"2018-04-06T00:00:00\", \"2018-04-07T00:00:00\", \"2018-04-08T00:00:00\", \"2018-04-09T00:00:00\", \"2018-04-10T00:00:00\", \"2018-04-11T00:00:00\", \"2018-04-12T00:00:00\", \"2018-04-13T00:00:00\", \"2018-04-14T00:00:00\", \"2018-04-15T00:00:00\", \"2018-04-16T00:00:00\", \"2018-04-17T00:00:00\", \"2018-04-18T00:00:00\", \"2018-04-19T00:00:00\", \"2018-04-20T00:00:00\", \"2018-04-21T00:00:00\", \"2018-04-22T00:00:00\", \"2018-04-23T00:00:00\", \"2018-04-24T00:00:00\", \"2018-04-25T00:00:00\", \"2018-04-26T00:00:00\", \"2018-04-27T00:00:00\", \"2018-04-28T00:00:00\", \"2018-04-29T00:00:00\", \"2018-04-30T00:00:00\", \"2018-05-01T00:00:00\", \"2018-05-02T00:00:00\", \"2018-05-03T00:00:00\", \"2018-05-04T00:00:00\", \"2018-05-05T00:00:00\", \"2018-05-06T00:00:00\", \"2018-05-07T00:00:00\", \"2018-05-08T00:00:00\", \"2018-05-09T00:00:00\", \"2018-05-10T00:00:00\", \"2018-05-11T00:00:00\", \"2018-05-12T00:00:00\", \"2018-05-13T00:00:00\", \"2018-05-14T00:00:00\", \"2018-05-15T00:00:00\", \"2018-05-16T00:00:00\", \"2018-05-17T00:00:00\", \"2018-05-18T00:00:00\", \"2018-05-19T00:00:00\", \"2018-05-20T00:00:00\", \"2018-05-21T00:00:00\", \"2018-05-22T00:00:00\", \"2018-05-23T00:00:00\", \"2018-05-24T00:00:00\", \"2018-05-25T00:00:00\", \"2018-05-26T00:00:00\", \"2018-05-27T00:00:00\", \"2018-05-28T00:00:00\", \"2018-05-29T00:00:00\", \"2018-05-30T00:00:00\", \"2018-05-31T00:00:00\"], \"y\": [2, 1, 1, 1, 1, 6, 7, 11, 11, 4, 2, 10, 10, 15, 6, 8, 1, 1, 9, 10, 13, 16, 10, 5, 4, 14, 12, 8, 11, 7, 6, 1, 19, 25, 8, 16, 10, 4, 5, 19, 11, 14, 22, 10, 3, 4, 14, 17, 19, 15, 12, 10, 4, 14, 20, 17, 14, 7, 3, 10, 16, 15, 15, 13, 11, 1, 6, 21, 17, 9, 5, 7, 6, 4, 10, 15, 19, 18, 16, 3, 9, 11, 14, 15, 13, 6, 4, 6, 10, 18, 10, 7, 18, 3, 8, 17, 7, 12, 12, 28, 9, 5, 13, 18, 10, 4, 5, 4, 7, 19, 23, 19, 15, 12, 10, 7, 21, 15, 21, 25, 19, 9, 7, 17, 18, 19, 9, 16, 4, 7, 17, 18, 11, 13, 25, 8, 4, 21, 23, 8, 19, 14, 6, 8, 13, 26, 23, 24, 24, 6, 10, 15, 18, 19, 17, 13, 3, 3, 6, 5, 6, 4, 4, 1, 3, 4, 3, 5, 11, 4, 3, 6, 7, 6, 9, 8, 5, 2, 11, 16, 14, 10, 12, 10, 6, 9, 34, 27, 44, 43, 23, 36, 55, 30, 44, 45, 41, 25, 17, 45, 40, 61, 33, 31, 19, 18, 75, 42, 39, 41, 34, 19, 18, 46, 58, 49, 47, 29, 23, 19, 45, 71, 55, 36, 25, 16, 16, 37, 19, 44, 52, 43, 15, 10, 43, 38, 54, 46, 46, 15, 28, 58, 50, 48, 39, 34, 14, 18, 45, 47, 53, 43, 42, 15, 16, 56, 69, 58, 44, 42, 11, 18, 46, 49, 55, 50, 47, 19, 13, 70, 36, 48, 43, 24, 10, 19, 69, 65, 65, 62, 37, 18, 22, 57, 59, 50, 52, 39, 22, 19, 62, 44, 67, 63, 57, 18, 17, 38, 49, 66, 63, 53, 28, 19, 53, 25, 93, 51, 42, 21, 18, 60, 66, 51, 52, 26, 23, 10, 61, 76, 47, 35, 40, 18, 27, 61, 59, 45, 54, 50, 23, 19, 57, 37, 30, 26]}, {\"mode\": \"lines\", \"name\": \"Quant convers\\u00f5es\", \"type\": \"scatter\", \"x\": [\"2017-12-05T02:00:00\", \"2017-12-11T18:07:26\", \"2017-12-14T11:30:13\", \"2018-01-08T02:00:00\", \"2018-01-08T19:14:47\", \"2018-01-10T18:15:06\", \"2018-01-10T19:40:52\", \"2018-01-11T17:16:48\", \"2018-01-12T02:00:00\", \"2018-01-12T12:23:31\", \"2018-01-12T13:49:28\", \"2018-01-12T16:07:27\", \"2018-01-12T18:25:57\", \"2018-01-15T13:08:11\", \"2018-01-15T17:14:00\", \"2018-01-15T18:05:41\", \"2018-01-15T19:51:21\", \"2018-01-16T02:00:00\", \"2018-01-16T12:36:23\", \"2018-01-16T13:16:45\", \"2018-01-17T12:11:20\", \"2018-01-17T13:51:03\", \"2018-01-18T02:00:00\", \"2018-01-18T11:09:00\", \"2018-01-18T11:22:24\", \"2018-01-18T20:02:48\", \"2018-01-19T02:00:00\", \"2018-01-19T11:26:39\", \"2018-01-19T13:12:10\", \"2018-01-19T16:51:28\", \"2018-01-19T17:23:06\", \"2018-01-19T19:29:55\", \"2018-01-22T02:00:00\", \"2018-01-22T13:18:32\", \"2018-01-22T13:22:05\", \"2018-01-22T15:28:51\", \"2018-01-22T17:11:43\", \"2018-01-22T17:43:36\", \"2018-01-22T19:14:25\", \"2018-01-23T11:33:43\", \"2018-01-23T12:41:16\", \"2018-01-23T17:58:30\", \"2018-01-23T18:30:32\", \"2018-01-24T11:33:32\", \"2018-01-24T12:27:42\", \"2018-01-24T15:19:49\", \"2018-01-24T17:14:32\", \"2018-01-25T15:03:55\", \"2018-01-26T12:23:51\", \"2018-01-26T16:27:17\", \"2018-01-26T17:23:46\", \"2018-01-26T18:13:17\", \"2018-01-26T20:25:59\", \"2018-01-29T02:00:00\", \"2018-01-29T10:35:52\", \"2018-01-29T11:26:57\", \"2018-01-29T12:10:19\", \"2018-01-29T12:15:43\", \"2018-01-29T15:09:03\", \"2018-01-29T17:13:49\", \"2018-01-29T20:08:37\", \"2018-01-29T20:43:42\", \"2018-01-30T11:33:40\", \"2018-01-30T11:42:01\", \"2018-01-30T12:17:36\", \"2018-01-30T16:30:17\", \"2018-01-30T17:39:30\", \"2018-01-30T18:06:36\", \"2018-01-31T02:00:00\", \"2018-01-31T13:33:48\", \"2018-01-31T16:18:47\", \"2018-01-31T16:40:54\", \"2018-01-31T20:47:51\", \"2018-01-31T21:00:13\", \"2018-02-01T12:33:15\", \"2018-02-01T17:10:20\", \"2018-02-02T11:22:56\", \"2018-02-02T11:25:23\", \"2018-02-02T13:08:11\", \"2018-02-02T13:10:58\", \"2018-02-02T16:44:11\", \"2018-02-02T20:42:47\", \"2018-02-05T12:51:36\", \"2018-02-05T15:04:41\", \"2018-02-05T18:10:27\", \"2018-02-05T18:36:39\", \"2018-02-05T20:03:48\", \"2018-02-06T02:00:00\", \"2018-02-06T13:55:36\", \"2018-02-06T15:46:14\", \"2018-02-06T16:11:05\", \"2018-02-06T20:18:28\", \"2018-02-07T11:14:36\", \"2018-02-07T13:40:14\", \"2018-02-07T13:57:02\", \"2018-02-07T15:45:25\", \"2018-02-07T18:04:05\", \"2018-02-07T18:11:05\", \"2018-02-07T19:54:19\", \"2018-02-07T20:39:32\", \"2018-02-08T13:10:58\", \"2018-02-08T13:13:35\", \"2018-02-08T17:10:00\", \"2018-02-08T17:20:14\", \"2018-02-08T17:29:13\", \"2018-02-08T19:03:20\", \"2018-02-08T20:28:27\", \"2018-02-08T20:57:44\", \"2018-02-09T12:16:16\", \"2018-02-09T13:41:10\", \"2018-02-09T15:35:51\", \"2018-02-09T15:37:08\", \"2018-02-09T15:46:42\", \"2018-02-09T17:10:58\", \"2018-02-09T18:11:10\", \"2018-02-12T13:18:13\", \"2018-02-12T18:46:06\", \"2018-02-14T11:14:12\", \"2018-02-14T11:48:29\", \"2018-02-14T17:11:22\", \"2018-02-15T11:24:52\", \"2018-02-15T11:27:17\", \"2018-02-15T12:24:37\", \"2018-02-15T14:37:04\", \"2018-02-15T14:58:37\", \"2018-02-15T16:06:31\", \"2018-02-15T17:22:47\", \"2018-02-15T17:38:42\", \"2018-02-15T18:21:28\", \"2018-02-16T11:56:46\", \"2018-02-16T12:31:56\", \"2018-02-16T18:51:56\", \"2018-02-16T20:09:12\", \"2018-02-19T17:26:54\", \"2018-02-19T19:49:04\", \"2018-02-19T19:51:00\", \"2018-02-19T20:21:26\", \"2018-02-19T21:08:55\", \"2018-02-20T12:17:26\", \"2018-02-20T17:44:19\", \"2018-02-20T19:40:05\", \"2018-02-21T12:30:22\", \"2018-02-21T13:27:48\", \"2018-02-21T14:54:47\", \"2018-02-22T12:40:15\", \"2018-02-22T13:16:06\", \"2018-02-22T13:18:26\", \"2018-02-22T13:28:41\", \"2018-02-22T16:22:07\", \"2018-02-22T18:03:54\", \"2018-02-22T21:07:50\", \"2018-02-22T21:25:08\", \"2018-02-23T11:40:05\", \"2018-02-23T12:03:59\", \"2018-02-23T13:54:40\", \"2018-02-23T20:27:56\", \"2018-02-26T12:45:46\", \"2018-02-26T13:02:58\", \"2018-02-26T14:44:04\", \"2018-02-26T14:46:28\", \"2018-02-26T16:09:48\", \"2018-02-26T16:11:50\", \"2018-02-26T17:07:06\", \"2018-02-26T18:32:05\", \"2018-02-26T19:58:54\", \"2018-02-26T20:02:10\", \"2018-02-26T20:32:17\", \"2018-02-26T20:59:09\", \"2018-02-27T12:23:13\", \"2018-02-27T13:54:11\", \"2018-02-27T17:13:23\", \"2018-02-27T17:30:22\", \"2018-02-27T17:39:50\", \"2018-02-27T19:13:04\", \"2018-02-27T19:19:47\", \"2018-02-27T20:04:12\", \"2018-02-27T20:53:04\", \"2018-02-28T03:00:00\", \"2018-02-28T16:19:57\", \"2018-02-28T17:16:01\", \"2018-02-28T17:16:15\", \"2018-02-28T18:22:11\", \"2018-02-28T19:15:15\", \"2018-02-28T19:42:14\", \"2018-02-28T21:24:13\", \"2018-02-28T22:17:25\", \"2018-03-01T12:22:46\", \"2018-03-01T14:58:45\", \"2018-03-01T17:44:43\", \"2018-03-01T19:48:16\", \"2018-03-01T21:03:12\", \"2018-03-02T12:58:05\", \"2018-03-02T13:54:02\", \"2018-03-02T16:20:21\", \"2018-03-02T21:18:48\", \"2018-03-05T12:52:26\", \"2018-03-05T18:43:20\", \"2018-03-05T20:54:03\", \"2018-03-06T11:29:22\", \"2018-03-06T12:25:29\", \"2018-03-06T13:27:32\", \"2018-03-06T13:29:10\", \"2018-03-06T15:52:23\", \"2018-03-06T18:14:08\", \"2018-03-06T18:49:03\", \"2018-03-06T19:38:55\", \"2018-03-07T03:00:00\", \"2018-03-07T12:25:54\", \"2018-03-07T13:56:43\", \"2018-03-07T14:24:51\", \"2018-03-07T14:58:07\", \"2018-03-07T17:11:48\", \"2018-03-07T19:04:28\", \"2018-03-07T19:17:31\", \"2018-03-07T19:23:35\", \"2018-03-07T22:08:32\", \"2018-03-08T03:00:00\", \"2018-03-08T15:01:48\", \"2018-03-08T18:57:56\", \"2018-03-09T03:00:00\", \"2018-03-09T12:49:20\", \"2018-03-09T13:45:50\", \"2018-03-09T14:18:20\", \"2018-03-09T17:24:41\", \"2018-03-09T17:59:38\", \"2018-03-09T20:05:55\", \"2018-03-09T20:12:38\", \"2018-03-12T13:00:43\", \"2018-03-12T13:14:10\", \"2018-03-12T13:21:11\", \"2018-03-12T16:40:42\", \"2018-03-12T17:30:06\", \"2018-03-12T18:24:50\", \"2018-03-12T18:45:13\", \"2018-03-12T21:20:49\", \"2018-03-13T12:33:10\", \"2018-03-13T14:56:01\", \"2018-03-13T15:51:54\", \"2018-03-13T17:16:23\", \"2018-03-13T18:53:47\", \"2018-03-13T20:12:45\", \"2018-03-13T21:39:34\", \"2018-03-14T03:00:00\", \"2018-03-14T12:14:58\", \"2018-03-14T12:18:20\", \"2018-03-14T12:23:39\", \"2018-03-14T12:24:20\", \"2018-03-14T14:24:23\", \"2018-03-14T16:52:04\", \"2018-03-14T17:18:59\", \"2018-03-14T17:31:31\", \"2018-03-14T19:43:52\", \"2018-03-14T20:07:27\", \"2018-03-15T12:43:46\", \"2018-03-15T15:12:53\", \"2018-03-15T17:13:24\", \"2018-03-15T19:10:24\", \"2018-03-15T20:31:54\", \"2018-03-15T21:09:42\", \"2018-03-16T13:57:28\", \"2018-03-16T14:14:20\", \"2018-03-16T14:17:34\", \"2018-03-16T14:22:29\", \"2018-03-16T16:20:55\", \"2018-03-16T19:39:38\", \"2018-03-16T19:52:21\", \"2018-03-16T20:22:47\", \"2018-03-19T03:00:00\", \"2018-03-19T12:41:03\", \"2018-03-19T17:36:04\", \"2018-03-19T18:20:11\", \"2018-03-19T18:58:47\", \"2018-03-19T20:04:46\", \"2018-03-19T20:26:27\", \"2018-03-19T20:39:25\", \"2018-03-20T13:53:13\", \"2018-03-20T14:01:49\", \"2018-03-20T17:30:41\", \"2018-03-20T20:23:26\", \"2018-03-21T13:03:40\", \"2018-03-21T16:16:52\", \"2018-03-22T13:02:12\", \"2018-03-22T13:06:50\", \"2018-03-22T13:14:56\", \"2018-03-22T15:07:28\", \"2018-03-22T19:35:04\", \"2018-03-22T21:20:42\", \"2018-03-23T17:58:38\", \"2018-03-23T19:06:54\", \"2018-03-23T19:52:00\", \"2018-03-23T19:56:18\", \"2018-03-23T21:07:18\", \"2018-03-24T03:00:00\", \"2018-03-26T12:07:20\", \"2018-03-26T14:03:55\", \"2018-03-26T16:07:32\", \"2018-03-26T17:04:23\", \"2018-03-26T19:31:38\", \"2018-03-26T20:08:26\", \"2018-03-26T20:42:32\", \"2018-03-26T20:54:23\", \"2018-03-26T21:56:43\", \"2018-03-27T03:00:00\", \"2018-03-27T13:27:01\", \"2018-03-27T14:48:01\", \"2018-03-27T17:57:49\", \"2018-03-27T19:14:00\", \"2018-03-27T19:15:09\", \"2018-03-27T21:32:52\", \"2018-03-28T03:00:00\", \"2018-03-28T13:21:21\", \"2018-03-28T16:09:52\", \"2018-03-28T16:11:25\", \"2018-03-28T16:16:34\", \"2018-03-28T18:50:57\", \"2018-03-28T18:55:26\", \"2018-03-28T19:05:44\", \"2018-03-28T21:22:04\", \"2018-03-28T22:37:52\", \"2018-03-28T22:42:55\", \"2018-03-28T22:45:45\", \"2018-03-29T12:34:47\", \"2018-03-29T13:49:44\", \"2018-03-29T16:29:14\", \"2018-03-29T17:05:39\", \"2018-03-29T17:45:03\", \"2018-03-29T17:48:42\", \"2018-03-29T18:06:54\", \"2018-03-29T18:12:58\", \"2018-03-29T19:37:01\", \"2018-03-29T20:20:04\", \"2018-04-02T13:03:24\", \"2018-04-02T14:20:33\", \"2018-04-03T03:00:00\", \"2018-04-03T12:21:09\", \"2018-04-03T17:19:55\", \"2018-04-03T18:29:19\", \"2018-04-03T18:56:08\", \"2018-04-03T20:39:13\", \"2018-04-03T20:47:56\", \"2018-04-04T13:50:13\", \"2018-04-04T17:31:09\", \"2018-04-04T18:42:57\", \"2018-04-04T18:53:19\", \"2018-04-04T19:56:06\", \"2018-04-04T20:33:19\", \"2018-04-04T20:55:17\", \"2018-04-04T21:17:17\", \"2018-04-05T13:18:02\", \"2018-04-05T14:44:21\", \"2018-04-05T15:06:11\", \"2018-04-05T15:11:12\", \"2018-04-05T16:29:23\", \"2018-04-05T18:45:56\", \"2018-04-05T19:05:16\", \"2018-04-06T03:00:00\", \"2018-04-06T12:13:08\", \"2018-04-06T14:15:21\", \"2018-04-06T16:27:35\", \"2018-04-06T16:43:28\", \"2018-04-06T16:52:50\", \"2018-04-06T16:56:39\", \"2018-04-06T17:40:28\", \"2018-04-06T17:56:04\", \"2018-04-06T19:26:13\", \"2018-04-06T19:30:00\", \"2018-04-06T19:42:14\", \"2018-04-06T20:40:05\", \"2018-04-06T20:52:54\", \"2018-04-06T21:43:37\", \"2018-04-09T12:26:37\", \"2018-04-09T17:28:44\", \"2018-04-09T18:22:46\", \"2018-04-09T18:58:34\", \"2018-04-09T21:04:41\", \"2018-04-10T03:00:00\", \"2018-04-10T12:30:33\", \"2018-04-10T14:05:56\", \"2018-04-10T14:43:06\", \"2018-04-10T17:23:25\", \"2018-04-10T18:20:00\", \"2018-04-10T18:22:26\", \"2018-04-10T18:37:30\", \"2018-04-10T19:08:35\", \"2018-04-10T19:17:03\", \"2018-04-10T19:21:54\", \"2018-04-10T19:34:27\", \"2018-04-10T22:03:57\", \"2018-04-11T03:00:00\", \"2018-04-11T12:24:58\", \"2018-04-11T13:39:02\", \"2018-04-11T14:36:14\", \"2018-04-11T15:15:51\", \"2018-04-11T16:05:14\", \"2018-04-11T17:08:35\", \"2018-04-11T19:00:03\", \"2018-04-11T20:19:49\", \"2018-04-11T22:21:15\", \"2018-04-12T03:00:00\", \"2018-04-12T12:35:49\", \"2018-04-12T13:58:09\", \"2018-04-12T14:02:51\", \"2018-04-12T21:32:57\", \"2018-04-13T03:00:00\", \"2018-04-13T11:56:52\", \"2018-04-13T12:27:48\", \"2018-04-13T12:50:35\", \"2018-04-13T13:41:51\", \"2018-04-13T14:30:12\", \"2018-04-13T16:21:23\", \"2018-04-13T17:03:29\", \"2018-04-13T18:12:32\", \"2018-04-13T20:38:20\", \"2018-04-13T20:51:13\", \"2018-04-13T21:53:17\", \"2018-04-14T03:00:00\", \"2018-04-16T12:26:39\", \"2018-04-16T13:09:09\", \"2018-04-16T14:49:40\", \"2018-04-16T16:58:06\", \"2018-04-16T18:18:22\", \"2018-04-16T18:25:12\", \"2018-04-17T13:14:51\", \"2018-04-17T14:51:42\", \"2018-04-17T17:01:57\", \"2018-04-17T17:18:09\", \"2018-04-17T17:18:12\", \"2018-04-17T18:12:47\", \"2018-04-17T19:12:16\", \"2018-04-18T12:45:01\", \"2018-04-18T14:08:11\", \"2018-04-18T16:36:44\", \"2018-04-18T16:43:53\", \"2018-04-18T16:50:40\", \"2018-04-18T18:02:08\", \"2018-04-18T19:01:21\", \"2018-04-18T19:05:58\", \"2018-04-18T19:26:35\", \"2018-04-18T20:05:55\", \"2018-04-18T20:16:19\", \"2018-04-18T20:19:00\", \"2018-04-19T14:13:04\", \"2018-04-19T17:11:18\", \"2018-04-19T18:10:32\", \"2018-04-19T22:00:40\", \"2018-04-20T03:00:00\", \"2018-04-20T12:18:30\", \"2018-04-20T12:20:34\", \"2018-04-20T12:27:44\", \"2018-04-20T13:24:51\", \"2018-04-20T14:26:36\", \"2018-04-20T16:29:28\", \"2018-04-20T17:53:11\", \"2018-04-20T18:13:06\", \"2018-04-20T19:04:20\", \"2018-04-20T19:29:22\", \"2018-04-20T19:42:05\", \"2018-04-20T20:11:23\", \"2018-04-20T20:24:22\", \"2018-04-20T20:48:35\", \"2018-04-23T13:23:55\", \"2018-04-23T14:31:35\", \"2018-04-23T16:16:57\", \"2018-04-23T19:26:30\", \"2018-04-23T20:19:56\", \"2018-04-23T20:40:04\", \"2018-04-23T21:07:06\", \"2018-04-24T03:00:00\", \"2018-04-24T14:04:51\", \"2018-04-24T14:19:33\", \"2018-04-24T17:05:08\", \"2018-04-24T20:43:12\", \"2018-04-24T20:54:30\", \"2018-04-25T03:00:00\", \"2018-04-25T16:03:49\", \"2018-04-25T16:22:26\", \"2018-04-25T17:19:34\", \"2018-04-25T18:28:42\", \"2018-04-25T19:19:08\", \"2018-04-25T19:43:04\", \"2018-04-25T21:02:03\", \"2018-04-25T21:44:40\", \"2018-04-25T22:04:32\", \"2018-04-26T03:00:00\", \"2018-04-26T13:40:00\", \"2018-04-26T16:05:43\", \"2018-04-26T19:36:13\", \"2018-04-26T20:04:29\", \"2018-04-27T03:00:00\", \"2018-04-27T12:18:34\", \"2018-04-27T12:39:38\", \"2018-04-27T12:40:32\", \"2018-04-27T13:27:25\", \"2018-04-27T13:35:00\", \"2018-04-27T13:55:14\", \"2018-04-27T14:01:33\", \"2018-04-27T14:01:59\", \"2018-04-27T14:04:06\", \"2018-04-27T14:07:20\", \"2018-04-27T14:11:20\", \"2018-04-27T16:09:25\", \"2018-04-27T16:11:57\", \"2018-04-27T16:17:37\", \"2018-04-27T16:24:00\", \"2018-04-27T20:10:02\", \"2018-04-27T20:44:40\", \"2018-04-27T21:08:34\", \"2018-04-27T21:38:40\", \"2018-04-28T03:00:00\", \"2018-04-30T03:00:00\", \"2018-04-30T12:04:11\", \"2018-04-30T13:06:43\", \"2018-04-30T13:30:05\", \"2018-04-30T14:27:15\", \"2018-04-30T16:01:35\", \"2018-04-30T16:06:05\", \"2018-04-30T17:43:10\", \"2018-04-30T18:24:13\", \"2018-04-30T18:30:12\", \"2018-04-30T18:57:37\", \"2018-04-30T19:28:30\", \"2018-04-30T20:23:10\", \"2018-04-30T20:24:05\", \"2018-04-30T20:47:07\", \"2018-04-30T20:57:42\", \"2018-04-30T20:58:34\", \"2018-04-30T21:13:36\", \"2018-04-30T21:23:41\", \"2018-04-30T21:29:27\", \"2018-04-30T21:48:02\", \"2018-05-02T13:31:32\", \"2018-05-02T13:39:20\", \"2018-05-02T14:23:32\", \"2018-05-02T17:22:49\", \"2018-05-02T17:29:18\", \"2018-05-02T17:57:01\", \"2018-05-03T03:00:00\", \"2018-05-04T03:00:00\", \"2018-05-07T16:18:52\", \"2018-05-07T16:42:08\", \"2018-05-07T18:22:39\", \"2018-05-07T21:49:28\", \"2018-05-08T12:18:42\", \"2018-05-08T13:32:34\", \"2018-05-08T17:18:41\", \"2018-05-08T17:42:04\", \"2018-05-08T17:48:59\", \"2018-05-08T20:14:11\", \"2018-05-08T20:17:59\", \"2018-05-08T21:28:11\", \"2018-05-09T13:17:12\", \"2018-05-09T14:24:56\", \"2018-05-09T16:21:08\", \"2018-05-09T16:52:06\", \"2018-05-09T21:35:58\", \"2018-05-10T17:13:16\", \"2018-05-10T18:11:09\", \"2018-05-10T19:07:39\", \"2018-05-10T19:16:27\", \"2018-05-10T19:26:38\", \"2018-05-10T20:10:08\", \"2018-05-11T03:00:00\", \"2018-05-11T12:46:58\", \"2018-05-11T14:22:51\", \"2018-05-11T16:16:13\", \"2018-05-11T17:09:22\", \"2018-05-11T17:24:16\", \"2018-05-11T19:03:19\", \"2018-05-11T19:21:23\", \"2018-05-11T20:38:50\", \"2018-05-11T21:26:07\", \"2018-05-14T12:26:01\", \"2018-05-14T13:25:24\", \"2018-05-14T13:36:50\", \"2018-05-14T14:24:45\", \"2018-05-14T16:06:59\", \"2018-05-14T18:06:33\", \"2018-05-14T18:37:15\", \"2018-05-14T19:17:03\", \"2018-05-14T19:26:01\", \"2018-05-14T19:41:58\", \"2018-05-14T19:57:48\", \"2018-05-14T20:15:57\", \"2018-05-15T13:29:59\", \"2018-05-15T17:20:12\", \"2018-05-15T18:05:25\", \"2018-05-15T18:16:40\", \"2018-05-15T19:03:42\", \"2018-05-15T20:21:11\", \"2018-05-15T20:22:41\", \"2018-05-15T20:34:06\", \"2018-05-15T21:17:04\", \"2018-05-16T13:32:26\", \"2018-05-16T15:05:26\", \"2018-05-16T17:48:30\", \"2018-05-16T19:51:05\", \"2018-05-16T20:25:19\", \"2018-05-17T03:00:00\", \"2018-05-17T12:09:33\", \"2018-05-17T12:42:15\", \"2018-05-17T17:22:45\", \"2018-05-17T18:11:29\", \"2018-05-17T21:47:38\", \"2018-05-18T12:38:36\", \"2018-05-18T12:47:49\", \"2018-05-18T13:05:14\", \"2018-05-18T17:17:42\", \"2018-05-18T18:08:22\", \"2018-05-18T19:32:40\", \"2018-05-18T20:02:04\", \"2018-05-18T20:27:46\", \"2018-05-21T14:06:49\", \"2018-05-21T17:29:17\", \"2018-05-21T17:41:31\", \"2018-05-21T19:55:20\", \"2018-05-21T20:17:38\", \"2018-05-21T20:28:33\", \"2018-05-21T21:21:21\", \"2018-05-22T12:44:38\", \"2018-05-22T12:54:36\", \"2018-05-22T13:24:08\", \"2018-05-22T21:25:39\", \"2018-05-23T13:57:13\", \"2018-05-23T21:00:58\", \"2018-05-23T21:47:07\", \"2018-05-24T16:11:06\", \"2018-05-24T16:47:23\", \"2018-05-24T19:51:56\", \"2018-05-24T20:25:11\", \"2018-05-24T22:16:29\", \"2018-05-25T15:00:14\", \"2018-05-25T16:36:57\", \"2018-05-25T17:32:40\", \"2018-05-25T18:04:39\", \"2018-05-25T21:25:11\", \"2018-05-25T22:37:08\", \"2018-05-29T18:53:31\", \"2018-05-29T20:20:26\", \"2018-05-30T03:00:00\", \"2018-05-30T13:34:09\", \"2018-05-30T14:43:50\", \"2018-05-30T16:07:26\", \"2018-05-30T16:15:12\", \"2018-05-30T17:49:58\", \"2018-05-30T22:29:56\", \"2018-05-31T21:24:31\", \"2018-05-31T21:44:18\", \"2018-06-01T02:32:00\", \"2018-06-01T16:45:27\", \"2018-06-04T00:00:00\", \"2018-06-04T12:47:47\", \"2018-06-04T13:55:12\", \"2018-06-04T18:53:50\", \"2018-06-05T13:34:52\", \"2018-06-05T17:20:34\", \"2018-06-05T17:27:23\", \"2018-06-05T18:00:37\", \"2018-06-05T21:47:22\", \"2018-06-06T13:53:35\", \"2018-06-06T17:50:28\", \"2018-06-06T20:15:26\", \"2018-06-07T13:30:28\", \"2018-06-07T13:59:42\", \"2018-06-07T14:21:17\", \"2018-06-07T21:23:45\", \"2018-06-08T12:10:27\", \"2018-06-08T12:15:38\", \"2018-06-08T19:09:46\", \"2018-06-11T12:04:11\", \"2018-06-11T12:36:11\", \"2018-06-11T12:40:42\", \"2018-06-11T14:29:08\", \"2018-06-11T19:23:48\", \"2018-06-11T21:01:55\", \"2018-06-12T18:59:26\", \"2018-06-12T19:54:25\", \"2018-06-13T16:37:42\", \"2018-06-14T14:30:20\", \"2018-06-14T15:43:46\", \"2018-06-14T18:51:26\", \"2018-06-15T14:04:52\", \"2018-06-15T19:49:16\", \"2018-06-15T21:32:52\", \"2018-06-18T12:46:31\", \"2018-06-18T13:51:38\", \"2018-06-18T13:58:00\", \"2018-06-19T12:36:05\", \"2018-06-19T14:08:22\", \"2018-06-19T19:54:25\", \"2018-06-19T21:04:53\", \"2018-06-20T12:24:10\", \"2018-06-20T18:31:06\", \"2018-06-20T18:32:56\", \"2018-06-21T12:21:33\", \"2018-06-21T12:39:59\", \"2018-06-25T18:42:15\", \"2018-06-25T19:33:44\", \"2018-06-26T12:51:19\", \"2018-06-26T17:13:29\", \"2018-06-27T15:12:26\", \"2018-06-28T12:33:50\", \"2018-06-29T17:54:16\", \"2018-06-29T18:28:26\", \"2018-06-29T20:16:50\", \"2018-07-02T13:40:15\", \"2018-07-02T17:20:22\", \"2018-07-03T12:26:43\", \"2018-07-03T20:17:45\", \"2018-07-04T15:07:27\", \"2018-07-06T17:10:17\", \"2018-07-09T03:00:00\", \"2018-07-09T12:54:57\", \"2018-07-09T14:53:03\", \"2018-07-09T18:00:57\", \"2018-07-10T11:34:50\", \"2018-07-10T15:57:10\", \"2018-07-11T14:58:50\", \"2018-07-12T19:56:39\", \"2018-07-12T21:14:21\", \"2018-07-13T11:53:00\", \"2018-07-13T17:38:49\", \"2018-07-13T19:46:12\", \"2018-07-13T20:14:57\", \"2018-07-13T21:58:39\", \"2018-07-17T17:02:36\", \"2018-07-17T20:12:39\", \"2018-07-18T18:48:13\", \"2018-07-18T20:24:28\", \"2018-07-19T18:06:07\", \"2018-07-19T21:17:47\", \"2018-07-20T18:18:14\", \"2018-07-20T20:30:20\", \"2018-07-24T19:56:07\", \"2018-07-26T16:15:33\", \"2018-07-26T17:03:01\", \"2018-07-30T14:02:01\", \"2018-07-30T14:34:51\", \"2018-07-30T20:30:31\", \"2018-07-31T13:29:15\", \"2018-07-31T20:01:32\", \"2018-07-31T22:29:03\", \"2018-08-01T20:22:31\", \"2018-08-02T17:32:16\", \"2018-08-03T17:41:00\", \"2018-08-07T12:21:06\", \"2018-08-07T17:17:28\", \"2018-08-07T19:47:27\", \"2018-08-08T16:22:31\", \"2018-08-08T21:14:25\", \"2018-08-10T13:01:03\", \"2018-08-10T16:46:39\", \"2018-08-14T13:56:57\", \"2018-08-14T14:48:04\", \"2018-08-15T19:09:36\", \"2018-08-17T03:00:00\", \"2018-08-17T14:41:00\", \"2018-08-17T19:29:47\", \"2018-08-20T13:15:36\", \"2018-08-20T13:59:51\", \"2018-08-20T14:41:13\", \"2018-08-20T17:50:56\", \"2018-08-20T21:05:48\", \"2018-08-21T12:30:34\", \"2018-08-21T21:07:30\", \"2018-08-22T13:14:44\", \"2018-08-23T12:46:40\", \"2018-08-23T21:56:01\", \"2018-08-24T03:00:00\", \"2018-08-24T11:54:08\", \"2018-08-28T17:09:31\", \"2018-08-28T21:30:52\", \"2018-08-30T12:32:15\", \"2018-08-30T22:00:23\", \"2018-08-30T22:34:38\", \"2018-09-03T03:00:00\", \"2018-09-03T19:15:53\", \"2018-09-04T14:15:04\", \"2018-09-04T14:34:07\", \"2018-09-05T14:32:37\", \"2018-09-06T16:31:09\", \"2018-09-10T14:18:01\", \"2018-09-10T18:10:00\", \"2018-09-10T20:48:01\", \"2018-09-11T13:14:37\", \"2018-09-11T19:25:49\", \"2018-09-13T03:00:00\", \"2018-09-14T14:43:50\", \"2018-09-17T12:03:18\", \"2018-09-20T17:13:05\", \"2018-09-21T18:18:15\", \"2018-09-21T18:49:49\", \"2018-09-24T20:45:42\", \"2018-09-25T11:55:05\", \"2018-09-26T11:48:53\", \"2018-09-27T12:31:01\", \"2018-09-27T17:36:04\", \"2018-09-27T18:58:41\", \"2018-10-01T12:27:47\", \"2018-10-01T12:31:26\", \"2018-10-01T17:47:09\", \"2018-10-02T21:25:39\", \"2018-10-03T12:28:55\", \"2018-10-03T18:32:49\", \"2018-10-05T12:35:50\", \"2018-10-08T17:22:23\", \"2018-10-10T01:15:56\", \"2018-10-10T16:35:47\", \"2018-10-18T16:27:51\", \"2018-10-24T11:33:31\", \"2018-10-24T19:33:34\", \"2018-10-25T17:16:36\", \"2018-10-26T17:06:53\", \"2018-10-29T14:54:02\", \"2018-10-29T16:54:59\", \"2018-10-30T11:54:22\", \"2018-10-30T18:21:05\", \"2018-10-31T16:54:59\", \"2018-10-31T19:17:57\", \"2018-11-01T11:47:50\", \"2018-11-01T15:36:16\", \"2018-11-06T19:41:39\", \"2018-11-09T20:06:38\", \"2018-11-12T19:17:25\", \"2018-11-14T18:04:19\"], \"y\": [1, 1, 1, 1, 1, 1, 1, 1, 1, 1, 1, 1, 1, 1, 1, 1, 1, 1, 1, 1, 1, 1, 1, 1, 1, 1, 2, 1, 1, 1, 1, 1, 2, 1, 1, 1, 1, 1, 1, 1, 1, 1, 1, 1, 1, 1, 1, 1, 1, 1, 1, 1, 1, 1, 1, 1, 1, 1, 1, 1, 1, 1, 1, 1, 1, 1, 1, 1, 1, 1, 1, 1, 1, 1, 1, 1, 1, 1, 1, 1, 1, 1, 1, 1, 1, 1, 1, 1, 1, 1, 1, 1, 1, 1, 1, 1, 1, 1, 1, 1, 1, 1, 1, 1, 1, 1, 1, 1, 1, 1, 1, 1, 1, 1, 1, 1, 1, 1, 1, 1, 1, 1, 1, 1, 1, 1, 1, 1, 1, 1, 1, 1, 1, 1, 1, 1, 1, 1, 1, 1, 1, 1, 1, 1, 1, 1, 1, 1, 1, 1, 1, 1, 1, 1, 1, 1, 1, 1, 1, 1, 1, 1, 1, 1, 1, 1, 1, 1, 1, 1, 1, 1, 1, 1, 1, 1, 1, 2, 1, 1, 1, 1, 1, 1, 1, 1, 1, 1, 1, 1, 1, 1, 1, 1, 1, 1, 1, 1, 1, 1, 1, 1, 1, 1, 1, 1, 1, 1, 1, 1, 1, 1, 1, 1, 1, 1, 1, 1, 1, 1, 1, 1, 1, 1, 1, 1, 1, 1, 1, 1, 1, 1, 1, 1, 1, 1, 1, 1, 1, 1, 1, 1, 1, 1, 1, 1, 1, 1, 1, 1, 1, 1, 1, 1, 1, 1, 1, 1, 1, 1, 1, 1, 1, 1, 1, 1, 1, 1, 1, 1, 1, 1, 1, 1, 1, 1, 1, 1, 1, 1, 1, 1, 1, 1, 1, 1, 1, 1, 1, 1, 1, 1, 1, 1, 1, 1, 1, 1, 1, 1, 1, 1, 3, 1, 1, 1, 1, 1, 1, 1, 1, 1, 1, 1, 1, 1, 1, 1, 1, 1, 1, 1, 1, 1, 1, 1, 1, 1, 1, 1, 1, 1, 1, 1, 1, 1, 1, 1, 1, 1, 1, 1, 1, 1, 1, 1, 1, 1, 1, 1, 1, 1, 1, 1, 1, 1, 1, 1, 1, 1, 1, 1, 1, 1, 1, 1, 1, 1, 1, 1, 1, 1, 1, 1, 1, 1, 1, 1, 1, 1, 1, 1, 1, 1, 1, 1, 1, 1, 1, 1, 1, 1, 1, 1, 1, 1, 1, 1, 1, 1, 1, 1, 1, 3, 1, 1, 1, 1, 1, 1, 1, 1, 1, 1, 1, 1, 1, 1, 1, 1, 1, 1, 1, 1, 1, 1, 1, 1, 1, 1, 1, 1, 1, 1, 1, 1, 1, 1, 1, 1, 1, 1, 1, 1, 1, 2, 1, 1, 1, 1, 1, 1, 1, 1, 1, 1, 1, 1, 1, 1, 1, 1, 1, 1, 1, 1, 1, 4, 1, 1, 1, 1, 1, 1, 1, 1, 1, 1, 1, 1, 1, 1, 1, 1, 1, 1, 1, 1, 2, 1, 1, 1, 1, 1, 1, 1, 1, 1, 1, 1, 1, 1, 1, 1, 1, 1, 1, 1, 1, 2, 1, 1, 1, 1, 1, 1, 1, 1, 1, 1, 1, 1, 1, 1, 1, 1, 1, 1, 1, 1, 1, 1, 1, 1, 1, 1, 1, 6, 1, 1, 1, 1, 1, 1, 1, 1, 1, 1, 1, 1, 1, 1, 1, 1, 1, 1, 1, 1, 1, 1, 1, 1, 1, 1, 1, 1, 1, 1, 1, 1, 1, 1, 1, 1, 1, 1, 1, 1, 1, 1, 1, 1, 1, 1, 1, 1, 1, 1, 1, 1, 1, 1, 1, 1, 1, 1, 1, 1, 1, 1, 1, 1, 1, 1, 1, 1, 1, 1, 1, 1, 1, 1, 1, 1, 1, 1, 1, 1, 1, 1, 1, 1, 1, 1, 1, 1, 1, 1, 1, 1, 1, 1, 1, 1, 1, 1, 1, 1, 1, 1, 1, 1, 1, 1, 1, 1, 1, 1, 1, 1, 1, 1, 1, 1, 1, 1, 1, 1, 1, 1, 1, 1, 1, 1, 1, 1, 1, 1, 1, 1, 1, 1, 1, 1, 1, 1, 1, 1, 1, 1, 1, 1, 1, 1, 1, 1, 1, 1, 1, 1, 1, 1, 1, 1, 1, 1, 1, 1, 1, 1, 1, 1, 1, 1, 1, 1, 1, 1, 1, 1, 1, 1, 1, 1, 1, 1, 1, 1, 1, 1, 1, 1, 1, 1, 1, 1, 1, 1, 1, 1, 1, 1, 1, 1, 1, 1, 1, 1, 1, 1, 1, 1, 1, 1, 1, 1, 1, 1, 1, 1, 1, 1, 1, 1, 1, 1, 1, 1, 1, 1, 1, 1, 1, 1, 1, 1, 1, 1, 1, 1, 1, 1, 1, 1, 1, 1, 1, 1, 1, 1, 1, 1, 1, 1, 1, 1, 1, 1, 1, 1, 1, 1, 1, 1, 1, 1, 1, 1, 1, 1, 1, 1, 1, 1, 1, 1, 1, 1, 1, 1, 1, 1, 1, 1, 1, 1, 1, 1, 1, 1, 1, 1, 1, 1]}],\n",
              "                        {\"template\": {\"data\": {\"bar\": [{\"error_x\": {\"color\": \"#2a3f5f\"}, \"error_y\": {\"color\": \"#2a3f5f\"}, \"marker\": {\"line\": {\"color\": \"#E5ECF6\", \"width\": 0.5}}, \"type\": \"bar\"}], \"barpolar\": [{\"marker\": {\"line\": {\"color\": \"#E5ECF6\", \"width\": 0.5}}, \"type\": \"barpolar\"}], \"carpet\": [{\"aaxis\": {\"endlinecolor\": \"#2a3f5f\", \"gridcolor\": \"white\", \"linecolor\": \"white\", \"minorgridcolor\": \"white\", \"startlinecolor\": \"#2a3f5f\"}, \"baxis\": {\"endlinecolor\": \"#2a3f5f\", \"gridcolor\": \"white\", \"linecolor\": \"white\", \"minorgridcolor\": \"white\", \"startlinecolor\": \"#2a3f5f\"}, \"type\": \"carpet\"}], \"choropleth\": [{\"colorbar\": {\"outlinewidth\": 0, \"ticks\": \"\"}, \"type\": \"choropleth\"}], \"contour\": [{\"colorbar\": {\"outlinewidth\": 0, \"ticks\": \"\"}, \"colorscale\": [[0.0, \"#0d0887\"], [0.1111111111111111, \"#46039f\"], [0.2222222222222222, \"#7201a8\"], [0.3333333333333333, \"#9c179e\"], [0.4444444444444444, \"#bd3786\"], [0.5555555555555556, \"#d8576b\"], [0.6666666666666666, \"#ed7953\"], [0.7777777777777778, \"#fb9f3a\"], [0.8888888888888888, \"#fdca26\"], [1.0, \"#f0f921\"]], \"type\": \"contour\"}], \"contourcarpet\": [{\"colorbar\": {\"outlinewidth\": 0, \"ticks\": \"\"}, \"type\": \"contourcarpet\"}], \"heatmap\": [{\"colorbar\": {\"outlinewidth\": 0, \"ticks\": \"\"}, \"colorscale\": [[0.0, \"#0d0887\"], [0.1111111111111111, \"#46039f\"], [0.2222222222222222, \"#7201a8\"], [0.3333333333333333, \"#9c179e\"], [0.4444444444444444, \"#bd3786\"], [0.5555555555555556, \"#d8576b\"], [0.6666666666666666, \"#ed7953\"], [0.7777777777777778, \"#fb9f3a\"], [0.8888888888888888, \"#fdca26\"], [1.0, \"#f0f921\"]], \"type\": \"heatmap\"}], \"heatmapgl\": [{\"colorbar\": {\"outlinewidth\": 0, \"ticks\": \"\"}, \"colorscale\": [[0.0, \"#0d0887\"], [0.1111111111111111, \"#46039f\"], [0.2222222222222222, \"#7201a8\"], [0.3333333333333333, \"#9c179e\"], [0.4444444444444444, \"#bd3786\"], [0.5555555555555556, \"#d8576b\"], [0.6666666666666666, \"#ed7953\"], [0.7777777777777778, \"#fb9f3a\"], [0.8888888888888888, \"#fdca26\"], [1.0, \"#f0f921\"]], \"type\": \"heatmapgl\"}], \"histogram\": [{\"marker\": {\"colorbar\": {\"outlinewidth\": 0, \"ticks\": \"\"}}, \"type\": \"histogram\"}], \"histogram2d\": [{\"colorbar\": {\"outlinewidth\": 0, \"ticks\": \"\"}, \"colorscale\": [[0.0, \"#0d0887\"], [0.1111111111111111, \"#46039f\"], [0.2222222222222222, \"#7201a8\"], [0.3333333333333333, \"#9c179e\"], [0.4444444444444444, \"#bd3786\"], [0.5555555555555556, \"#d8576b\"], [0.6666666666666666, \"#ed7953\"], [0.7777777777777778, \"#fb9f3a\"], [0.8888888888888888, \"#fdca26\"], [1.0, \"#f0f921\"]], \"type\": \"histogram2d\"}], \"histogram2dcontour\": [{\"colorbar\": {\"outlinewidth\": 0, \"ticks\": \"\"}, \"colorscale\": [[0.0, \"#0d0887\"], [0.1111111111111111, \"#46039f\"], [0.2222222222222222, \"#7201a8\"], [0.3333333333333333, \"#9c179e\"], [0.4444444444444444, \"#bd3786\"], [0.5555555555555556, \"#d8576b\"], [0.6666666666666666, \"#ed7953\"], [0.7777777777777778, \"#fb9f3a\"], [0.8888888888888888, \"#fdca26\"], [1.0, \"#f0f921\"]], \"type\": \"histogram2dcontour\"}], \"mesh3d\": [{\"colorbar\": {\"outlinewidth\": 0, \"ticks\": \"\"}, \"type\": \"mesh3d\"}], \"parcoords\": [{\"line\": {\"colorbar\": {\"outlinewidth\": 0, \"ticks\": \"\"}}, \"type\": \"parcoords\"}], \"scatter\": [{\"marker\": {\"colorbar\": {\"outlinewidth\": 0, \"ticks\": \"\"}}, \"type\": \"scatter\"}], \"scatter3d\": [{\"line\": {\"colorbar\": {\"outlinewidth\": 0, \"ticks\": \"\"}}, \"marker\": {\"colorbar\": {\"outlinewidth\": 0, \"ticks\": \"\"}}, \"type\": \"scatter3d\"}], \"scattercarpet\": [{\"marker\": {\"colorbar\": {\"outlinewidth\": 0, \"ticks\": \"\"}}, \"type\": \"scattercarpet\"}], \"scattergeo\": [{\"marker\": {\"colorbar\": {\"outlinewidth\": 0, \"ticks\": \"\"}}, \"type\": \"scattergeo\"}], \"scattergl\": [{\"marker\": {\"colorbar\": {\"outlinewidth\": 0, \"ticks\": \"\"}}, \"type\": \"scattergl\"}], \"scattermapbox\": [{\"marker\": {\"colorbar\": {\"outlinewidth\": 0, \"ticks\": \"\"}}, \"type\": \"scattermapbox\"}], \"scatterpolar\": [{\"marker\": {\"colorbar\": {\"outlinewidth\": 0, \"ticks\": \"\"}}, \"type\": \"scatterpolar\"}], \"scatterpolargl\": [{\"marker\": {\"colorbar\": {\"outlinewidth\": 0, \"ticks\": \"\"}}, \"type\": \"scatterpolargl\"}], \"scatterternary\": [{\"marker\": {\"colorbar\": {\"outlinewidth\": 0, \"ticks\": \"\"}}, \"type\": \"scatterternary\"}], \"surface\": [{\"colorbar\": {\"outlinewidth\": 0, \"ticks\": \"\"}, \"colorscale\": [[0.0, \"#0d0887\"], [0.1111111111111111, \"#46039f\"], [0.2222222222222222, \"#7201a8\"], [0.3333333333333333, \"#9c179e\"], [0.4444444444444444, \"#bd3786\"], [0.5555555555555556, \"#d8576b\"], [0.6666666666666666, \"#ed7953\"], [0.7777777777777778, \"#fb9f3a\"], [0.8888888888888888, \"#fdca26\"], [1.0, \"#f0f921\"]], \"type\": \"surface\"}], \"table\": [{\"cells\": {\"fill\": {\"color\": \"#EBF0F8\"}, \"line\": {\"color\": \"white\"}}, \"header\": {\"fill\": {\"color\": \"#C8D4E3\"}, \"line\": {\"color\": \"white\"}}, \"type\": \"table\"}]}, \"layout\": {\"annotationdefaults\": {\"arrowcolor\": \"#2a3f5f\", \"arrowhead\": 0, \"arrowwidth\": 1}, \"colorscale\": {\"diverging\": [[0, \"#8e0152\"], [0.1, \"#c51b7d\"], [0.2, \"#de77ae\"], [0.3, \"#f1b6da\"], [0.4, \"#fde0ef\"], [0.5, \"#f7f7f7\"], [0.6, \"#e6f5d0\"], [0.7, \"#b8e186\"], [0.8, \"#7fbc41\"], [0.9, \"#4d9221\"], [1, \"#276419\"]], \"sequential\": [[0.0, \"#0d0887\"], [0.1111111111111111, \"#46039f\"], [0.2222222222222222, \"#7201a8\"], [0.3333333333333333, \"#9c179e\"], [0.4444444444444444, \"#bd3786\"], [0.5555555555555556, \"#d8576b\"], [0.6666666666666666, \"#ed7953\"], [0.7777777777777778, \"#fb9f3a\"], [0.8888888888888888, \"#fdca26\"], [1.0, \"#f0f921\"]], \"sequentialminus\": [[0.0, \"#0d0887\"], [0.1111111111111111, \"#46039f\"], [0.2222222222222222, \"#7201a8\"], [0.3333333333333333, \"#9c179e\"], [0.4444444444444444, \"#bd3786\"], [0.5555555555555556, \"#d8576b\"], [0.6666666666666666, \"#ed7953\"], [0.7777777777777778, \"#fb9f3a\"], [0.8888888888888888, \"#fdca26\"], [1.0, \"#f0f921\"]]}, \"colorway\": [\"#636efa\", \"#EF553B\", \"#00cc96\", \"#ab63fa\", \"#FFA15A\", \"#19d3f3\", \"#FF6692\", \"#B6E880\", \"#FF97FF\", \"#FECB52\"], \"font\": {\"color\": \"#2a3f5f\"}, \"geo\": {\"bgcolor\": \"white\", \"lakecolor\": \"white\", \"landcolor\": \"#E5ECF6\", \"showlakes\": true, \"showland\": true, \"subunitcolor\": \"white\"}, \"hoverlabel\": {\"align\": \"left\"}, \"hovermode\": \"closest\", \"mapbox\": {\"style\": \"light\"}, \"paper_bgcolor\": \"white\", \"plot_bgcolor\": \"#E5ECF6\", \"polar\": {\"angularaxis\": {\"gridcolor\": \"white\", \"linecolor\": \"white\", \"ticks\": \"\"}, \"bgcolor\": \"#E5ECF6\", \"radialaxis\": {\"gridcolor\": \"white\", \"linecolor\": \"white\", \"ticks\": \"\"}}, \"scene\": {\"xaxis\": {\"backgroundcolor\": \"#E5ECF6\", \"gridcolor\": \"white\", \"gridwidth\": 2, \"linecolor\": \"white\", \"showbackground\": true, \"ticks\": \"\", \"zerolinecolor\": \"white\"}, \"yaxis\": {\"backgroundcolor\": \"#E5ECF6\", \"gridcolor\": \"white\", \"gridwidth\": 2, \"linecolor\": \"white\", \"showbackground\": true, \"ticks\": \"\", \"zerolinecolor\": \"white\"}, \"zaxis\": {\"backgroundcolor\": \"#E5ECF6\", \"gridcolor\": \"white\", \"gridwidth\": 2, \"linecolor\": \"white\", \"showbackground\": true, \"ticks\": \"\", \"zerolinecolor\": \"white\"}}, \"shapedefaults\": {\"line\": {\"color\": \"#2a3f5f\"}}, \"ternary\": {\"aaxis\": {\"gridcolor\": \"white\", \"linecolor\": \"white\", \"ticks\": \"\"}, \"baxis\": {\"gridcolor\": \"white\", \"linecolor\": \"white\", \"ticks\": \"\"}, \"bgcolor\": \"#E5ECF6\", \"caxis\": {\"gridcolor\": \"white\", \"linecolor\": \"white\", \"ticks\": \"\"}}, \"title\": {\"x\": 0.05}, \"xaxis\": {\"automargin\": true, \"gridcolor\": \"white\", \"linecolor\": \"white\", \"ticks\": \"\", \"zerolinecolor\": \"white\", \"zerolinewidth\": 2}, \"yaxis\": {\"automargin\": true, \"gridcolor\": \"white\", \"linecolor\": \"white\", \"ticks\": \"\", \"zerolinecolor\": \"white\", \"zerolinewidth\": 2}}}, \"title\": {\"text\": \"Quantidade de contatos e convers\\u00f5es por data\"}, \"xaxis\": {\"title\": {\"text\": \"Data dos contatos/convers\\u00f5es\"}}, \"yaxis\": {\"title\": {\"text\": \"Quantidade de contatos/convers\\u00e3o\"}}},\n",
              "                        {\"responsive\": true}\n",
              "                    ).then(function(){\n",
              "                            \n",
              "var gd = document.getElementById('7e8a237f-0e1c-4e42-bc14-e68c6cbee262');\n",
              "var x = new MutationObserver(function (mutations, observer) {{\n",
              "        var display = window.getComputedStyle(gd).display;\n",
              "        if (!display || display === 'none') {{\n",
              "            console.log([gd, 'removed!']);\n",
              "            Plotly.purge(gd);\n",
              "            observer.disconnect();\n",
              "        }}\n",
              "}});\n",
              "\n",
              "// Listen for the removal of the full notebook cells\n",
              "var notebookContainer = gd.closest('#notebook-container');\n",
              "if (notebookContainer) {{\n",
              "    x.observe(notebookContainer, {childList: true});\n",
              "}}\n",
              "\n",
              "// Listen for the clearing of the current output cell\n",
              "var outputEl = gd.closest('.output');\n",
              "if (outputEl) {{\n",
              "    x.observe(outputEl, {childList: true});\n",
              "}}\n",
              "\n",
              "                        })\n",
              "                };\n",
              "                \n",
              "            </script>\n",
              "        </div>\n",
              "</body>\n",
              "</html>"
            ]
          },
          "metadata": {
            "tags": []
          }
        }
      ]
    },
    {
      "cell_type": "code",
      "metadata": {
        "id": "5qJVeW6MUIiR",
        "colab_type": "code",
        "colab": {
          "base_uri": "https://localhost:8080/",
          "height": 542
        },
        "cellView": "form",
        "outputId": "deb0426a-6217-4b12-f895-51011dda1b94"
      },
      "source": [
        "#@title Correlação entre os intervalos de tempo do primeiro contato até a conversão dos leads\n",
        "# Definindo a primeira data da base\n",
        "min_data = min(df['data_contato'])\n",
        "\n",
        "# Definindo a última data da base\n",
        "max_data = max(df_deals['won_date'])\n",
        "\n",
        "# Criando a barra do primeiro contato com o lead\n",
        "trace3 = go.Bar(x = df_contato_compra['ID'],\n",
        "                y =(df['data_contato']),\n",
        "                name = 'Contato 1',\n",
        "                marker = {'color': 'orange'})\n",
        "\n",
        "# Criando o ponto da data de conversão\n",
        "trace4 = go.Scatter(x = df_contato_compra['ID'],\n",
        "                y = df_deals['won_date'],\n",
        "                name = 'Data compra',\n",
        "                mode = 'markers',\n",
        "                marker = {'color': 'red', 'size': 4.5})\n",
        "\n",
        "# Definindo o  layout do gráfico misto (Barras/Marcas)\n",
        "layout1 = go.Layout(title = 'Intervalo de tempo entre 1º contato e conversão',\n",
        "                   xaxis = {'title': 'Cliente', 'zeroline': True},\n",
        "                   yaxis = {'range': (min_data, max_data), 'fixedrange': True, 'type':'date', 'constrain': 'range'},\n",
        "                   barmode = 'stack')\n",
        "\n",
        "data1 = [trace3, trace4]\n",
        "fig = go.Figure(data=data1, layout=layout1)\n",
        "\n",
        "# Plotando o gráfico Intervalo de tempo Contato/Conversão\n",
        "py.iplot(fig)"
      ],
      "execution_count": 19,
      "outputs": [
        {
          "output_type": "display_data",
          "data": {
            "text/html": [
              "<html>\n",
              "<head><meta charset=\"utf-8\" /></head>\n",
              "<body>\n",
              "    <div>\n",
              "            <script src=\"https://cdnjs.cloudflare.com/ajax/libs/mathjax/2.7.5/MathJax.js?config=TeX-AMS-MML_SVG\"></script><script type=\"text/javascript\">if (window.MathJax) {MathJax.Hub.Config({SVG: {font: \"STIX-Web\"}});}</script>\n",
              "                <script type=\"text/javascript\">window.PlotlyConfig = {MathJaxConfig: 'local'};</script>\n",
              "        <script src=\"https://cdn.plot.ly/plotly-latest.min.js\"></script>    \n",
              "            <div id=\"a915b688-0ec2-4e21-aa33-ed37bc5d15bd\" class=\"plotly-graph-div\" style=\"height:525px; width:100%;\"></div>\n",
              "            <script type=\"text/javascript\">\n",
              "                \n",
              "                    window.PLOTLYENV=window.PLOTLYENV || {};\n",
              "                    \n",
              "                if (document.getElementById(\"a915b688-0ec2-4e21-aa33-ed37bc5d15bd\")) {\n",
              "                    Plotly.newPlot(\n",
              "                        'a915b688-0ec2-4e21-aa33-ed37bc5d15bd',\n",
              "                        [{\"marker\": {\"color\": \"orange\"}, \"name\": \"Contato 1\", \"type\": \"bar\", \"x\": [1, 2, 3, 4, 5, 6, 7, 8, 9, 10, 11, 12, 13, 14, 15, 16, 17, 18, 19, 20, 21, 22, 23, 24, 25, 26, 27, 28, 29, 30, 31, 32, 33, 34, 35, 36, 37, 38, 39, 40, 41, 42, 43, 44, 45, 46, 47, 48, 49, 50, 51, 52, 53, 54, 55, 56, 57, 58, 59, 60, 61, 62, 63, 64, 65, 66, 67, 68, 69, 70, 71, 72, 73, 74, 75, 76, 77, 78, 79, 80, 81, 82, 83, 84, 85, 86, 87, 88, 89, 90, 91, 92, 93, 94, 95, 96, 97, 98, 99, 100, 101, 102, 103, 104, 105, 106, 107, 108, 109, 110, 111, 112, 113, 114, 115, 116, 117, 118, 119, 120, 121, 122, 123, 124, 125, 126, 127, 128, 129, 130, 131, 132, 133, 134, 135, 136, 137, 138, 139, 140, 141, 142, 143, 144, 145, 146, 147, 148, 149, 150, 151, 152, 153, 154, 155, 156, 157, 158, 159, 160, 161, 162, 163, 164, 165, 166, 167, 168, 169, 170, 171, 172, 173, 174, 175, 176, 177, 178, 179, 180, 181, 182, 183, 184, 185, 186, 187, 188, 189, 190, 191, 192, 193, 194, 195, 196, 197, 198, 199, 200, 201, 202, 203, 204, 205, 206, 207, 208, 209, 210, 211, 212, 213, 214, 215, 216, 217, 218, 219, 220, 221, 222, 223, 224, 225, 226, 227, 228, 229, 230, 231, 232, 233, 234, 235, 236, 237, 238, 239, 240, 241, 242, 243, 244, 245, 246, 247, 248, 249, 250, 251, 252, 253, 254, 255, 256, 257, 258, 259, 260, 261, 262, 263, 264, 265, 266, 267, 268, 269, 270, 271, 272, 273, 274, 275, 276, 277, 278, 279, 280, 281, 282, 283, 284, 285, 286, 287, 288, 289, 290, 291, 292, 293, 294, 295, 296, 297, 298, 299, 300, 301, 302, 303, 304, 305, 306, 307, 308, 309, 310, 311, 312, 313, 314, 315, 316, 317, 318, 319, 320, 321, 322, 323, 324, 325, 326, 327, 328, 329, 330, 331, 332, 333, 334, 335, 336, 337, 338, 339, 340, 341, 342, 343, 344, 345, 346, 347, 348, 349, 350, 351, 352, 353, 354, 355, 356, 357, 358, 359, 360, 361, 362, 363, 364, 365, 366, 367, 368, 369, 370, 371, 372, 373, 374, 375, 376, 377, 378, 379, 380, 381, 382, 383, 384, 385, 386, 387, 388, 389, 390, 391, 392, 393, 394, 395, 396, 397, 398, 399, 400, 401, 402, 403, 404, 405, 406, 407, 408, 409, 410, 411, 412, 413, 414, 415, 416, 417, 418, 419, 420, 421, 422, 423, 424, 425, 426, 427, 428, 429, 430, 431, 432, 433, 434, 435, 436, 437, 438, 439, 440, 441, 442, 443, 444, 445, 446, 447, 448, 449, 450, 451, 452, 453, 454, 455, 456, 457, 458, 459, 460, 461, 462, 463, 464, 465, 466, 467, 468, 469, 470, 471, 472, 473, 474, 475, 476, 477, 478, 479, 480, 481, 482, 483, 484, 485, 486, 487, 488, 489, 490, 491, 492, 493, 494, 495, 496, 497, 498, 499, 500, 501, 502, 503, 504, 505, 506, 507, 508, 509, 510, 511, 512, 513, 514, 515, 516, 517, 518, 519, 520, 521, 522, 523, 524, 525, 526, 527, 528, 529, 530, 531, 532, 533, 534, 535, 536, 537, 538, 539, 540, 541, 542, 543, 544, 545, 546, 547, 548, 549, 550, 551, 552, 553, 554, 555, 556, 557, 558, 559, 560, 561, 562, 563, 564, 565, 566, 567, 568, 569, 570, 571, 572, 573, 574, 575, 576, 577, 578, 579, 580, 581, 582, 583, 584, 585, 586, 587, 588, 589, 590, 591, 592, 593, 594, 595, 596, 597, 598, 599, 600, 601, 602, 603, 604, 605, 606, 607, 608, 609, 610, 611, 612, 613, 614, 615, 616, 617, 618, 619, 620, 621, 622, 623, 624, 625, 626, 627, 628, 629, 630, 631, 632, 633, 634, 635, 636, 637, 638, 639, 640, 641, 642, 643, 644, 645, 646, 647, 648, 649, 650, 651, 652, 653, 654, 655, 656, 657, 658, 659, 660, 661, 662, 663, 664, 665, 666, 667, 668, 669, 670, 671, 672, 673, 674, 675, 676, 677, 678, 679, 680, 681, 682, 683, 684, 685, 686, 687, 688, 689, 690, 691, 692, 693, 694, 695, 696, 697, 698, 699, 700, 701, 702, 703, 704, 705, 706, 707, 708, 709, 710, 711, 712, 713, 714, 715, 716, 717, 718, 719, 720, 721, 722, 723, 724, 725, 726, 727, 728, 729, 730, 731, 732, 733, 734, 735, 736, 737, 738, 739, 740, 741, 742, 743, 744, 745, 746, 747, 748, 749, 750, 751, 752, 753, 754, 755, 756, 757, 758, 759, 760, 761, 762, 763, 764, 765, 766, 767, 768, 769, 770, 771, 772, 773, 774, 775, 776, 777, 778, 779, 780, 781, 782, 783, 784, 785, 786, 787, 788, 789, 790, 791, 792, 793, 794, 795, 796, 797, 798, 799, 800, 801, 802, 803, 804, 805, 806, 807, 808, 809, 810, 811, 812, 813, 814, 815, 816, 817, 818, 819, 820, 821, 822, 823, 824, 825, 826, 827, 828, 829, 830, 831, 832, 833, 834, 835, 836, 837, 838, 839, 840, 841, 842], \"y\": [\"2018-02-01T00:00:00\", \"2017-10-20T00:00:00\", \"2018-03-22T00:00:00\", \"2018-01-22T00:00:00\", \"2018-02-21T00:00:00\", \"2018-01-14T00:00:00\", \"2018-05-15T00:00:00\", \"2018-05-24T00:00:00\", \"2017-11-10T00:00:00\", \"2017-12-25T00:00:00\", \"2018-01-24T00:00:00\", \"2018-04-30T00:00:00\", \"2018-04-04T00:00:00\", \"2018-05-23T00:00:00\", \"2018-04-03T00:00:00\", \"2017-12-08T00:00:00\", \"2018-02-16T00:00:00\", \"2018-01-13T00:00:00\", \"2018-01-15T00:00:00\", \"2018-02-23T00:00:00\", \"2017-07-25T00:00:00\", \"2017-07-13T00:00:00\", \"2018-03-12T00:00:00\", \"2018-04-14T00:00:00\", \"2017-12-31T00:00:00\", \"2017-09-11T00:00:00\", \"2018-05-29T00:00:00\", \"2018-05-02T00:00:00\", \"2018-04-15T00:00:00\", \"2018-05-08T00:00:00\", \"2017-12-31T00:00:00\", \"2018-01-26T00:00:00\", \"2018-02-22T00:00:00\", \"2018-05-11T00:00:00\", \"2018-04-18T00:00:00\", \"2017-09-26T00:00:00\", \"2018-03-07T00:00:00\", \"2018-03-16T00:00:00\", \"2017-09-29T00:00:00\", \"2018-01-14T00:00:00\", \"2018-01-03T00:00:00\", \"2018-05-30T00:00:00\", \"2018-03-28T00:00:00\", \"2018-02-05T00:00:00\", \"2018-02-17T00:00:00\", \"2017-07-06T00:00:00\", \"2018-04-19T00:00:00\", \"2018-04-05T00:00:00\", \"2018-02-28T00:00:00\", \"2018-01-22T00:00:00\", \"2017-10-19T00:00:00\", \"2017-10-10T00:00:00\", \"2017-08-07T00:00:00\", \"2017-08-10T00:00:00\", \"2017-09-12T00:00:00\", \"2018-03-06T00:00:00\", \"2017-07-10T00:00:00\", \"2018-02-08T00:00:00\", \"2018-01-10T00:00:00\", \"2018-01-28T00:00:00\", \"2018-05-25T00:00:00\", \"2017-10-21T00:00:00\", \"2018-01-29T00:00:00\", \"2018-05-09T00:00:00\", \"2018-02-20T00:00:00\", \"2018-04-26T00:00:00\", \"2018-01-05T00:00:00\", \"2017-10-09T00:00:00\", \"2018-05-20T00:00:00\", \"2018-04-12T00:00:00\", \"2017-07-11T00:00:00\", \"2017-07-08T00:00:00\", \"2018-01-29T00:00:00\", \"2018-03-07T00:00:00\", \"2018-05-11T00:00:00\", \"2017-09-05T00:00:00\", \"2017-08-07T00:00:00\", \"2018-05-25T00:00:00\", \"2017-08-27T00:00:00\", \"2018-02-06T00:00:00\", \"2017-08-24T00:00:00\", \"2017-11-14T00:00:00\", \"2018-02-20T00:00:00\", \"2017-10-18T00:00:00\", \"2018-01-30T00:00:00\", \"2018-05-14T00:00:00\", \"2018-04-13T00:00:00\", \"2017-10-16T00:00:00\", \"2017-11-24T00:00:00\", \"2018-03-24T00:00:00\", \"2017-09-15T00:00:00\", \"2018-03-21T00:00:00\", \"2018-03-21T00:00:00\", \"2018-01-01T00:00:00\", \"2018-03-20T00:00:00\", \"2017-11-16T00:00:00\", \"2018-04-20T00:00:00\", \"2018-05-14T00:00:00\", \"2018-04-27T00:00:00\", \"2018-03-14T00:00:00\", \"2018-04-04T00:00:00\", \"2017-07-08T00:00:00\", \"2018-02-06T00:00:00\", \"2018-05-15T00:00:00\", \"2017-11-08T00:00:00\", \"2018-04-26T00:00:00\", \"2018-04-26T00:00:00\", \"2018-04-27T00:00:00\", \"2018-01-08T00:00:00\", \"2018-04-23T00:00:00\", \"2017-10-18T00:00:00\", \"2017-10-26T00:00:00\", \"2018-05-02T00:00:00\", \"2017-08-22T00:00:00\", \"2018-04-02T00:00:00\", \"2018-01-17T00:00:00\", \"2018-01-27T00:00:00\", \"2017-09-12T00:00:00\", \"2018-04-29T00:00:00\", \"2017-07-14T00:00:00\", \"2017-11-24T00:00:00\", \"2018-02-21T00:00:00\", \"2018-05-05T00:00:00\", \"2017-07-07T00:00:00\", \"2018-02-05T00:00:00\", \"2018-03-22T00:00:00\", \"2017-10-09T00:00:00\", \"2018-01-14T00:00:00\", \"2017-07-20T00:00:00\", \"2018-02-04T00:00:00\", \"2018-04-14T00:00:00\", \"2017-10-27T00:00:00\", \"2018-04-09T00:00:00\", \"2018-02-21T00:00:00\", \"2018-04-11T00:00:00\", \"2017-08-12T00:00:00\", \"2018-03-09T00:00:00\", \"2018-03-08T00:00:00\", \"2018-05-15T00:00:00\", \"2018-04-23T00:00:00\", \"2018-05-16T00:00:00\", \"2018-02-19T00:00:00\", \"2018-04-17T00:00:00\", \"2018-04-28T00:00:00\", \"2017-12-14T00:00:00\", \"2017-11-13T00:00:00\", \"2018-02-16T00:00:00\", \"2018-04-15T00:00:00\", \"2018-01-31T00:00:00\", \"2018-03-21T00:00:00\", \"2018-05-11T00:00:00\", \"2018-01-19T00:00:00\", \"2018-04-05T00:00:00\", \"2018-01-02T00:00:00\", \"2018-01-14T00:00:00\", \"2018-03-06T00:00:00\", \"2018-03-13T00:00:00\", \"2018-04-04T00:00:00\", \"2017-11-13T00:00:00\", \"2018-03-18T00:00:00\", \"2017-11-30T00:00:00\", \"2018-01-10T00:00:00\", \"2018-04-01T00:00:00\", \"2017-09-19T00:00:00\", \"2018-04-12T00:00:00\", \"2018-01-25T00:00:00\", \"2018-01-23T00:00:00\", \"2018-02-27T00:00:00\", \"2017-07-17T00:00:00\", \"2018-04-01T00:00:00\", \"2018-04-23T00:00:00\", \"2018-01-19T00:00:00\", \"2017-10-05T00:00:00\", \"2017-08-10T00:00:00\", \"2018-02-20T00:00:00\", \"2018-01-10T00:00:00\", \"2018-01-10T00:00:00\", \"2018-03-29T00:00:00\", \"2018-01-12T00:00:00\", \"2018-04-12T00:00:00\", \"2018-05-11T00:00:00\", \"2018-05-23T00:00:00\", \"2017-10-23T00:00:00\", \"2017-09-25T00:00:00\", \"2018-03-01T00:00:00\", \"2018-01-22T00:00:00\", \"2018-01-07T00:00:00\", \"2018-03-27T00:00:00\", \"2018-01-25T00:00:00\", \"2018-01-08T00:00:00\", \"2018-04-05T00:00:00\", \"2018-05-22T00:00:00\", \"2018-04-05T00:00:00\", \"2018-01-12T00:00:00\", \"2018-03-26T00:00:00\", \"2018-05-26T00:00:00\", \"2018-05-28T00:00:00\", \"2018-02-28T00:00:00\", \"2018-01-13T00:00:00\", \"2018-02-16T00:00:00\", \"2018-04-13T00:00:00\", \"2018-05-09T00:00:00\", \"2018-04-27T00:00:00\", \"2018-03-16T00:00:00\", \"2018-04-10T00:00:00\", \"2017-10-07T00:00:00\", \"2017-12-06T00:00:00\", \"2018-04-13T00:00:00\", \"2018-03-16T00:00:00\", \"2018-05-07T00:00:00\", \"2017-07-31T00:00:00\", \"2018-03-26T00:00:00\", \"2018-03-11T00:00:00\", \"2018-05-07T00:00:00\", \"2018-01-05T00:00:00\", \"2018-02-18T00:00:00\", \"2018-04-05T00:00:00\", \"2017-08-27T00:00:00\", \"2017-10-31T00:00:00\", \"2018-04-03T00:00:00\", \"2018-02-20T00:00:00\", \"2018-04-18T00:00:00\", \"2017-09-06T00:00:00\", \"2018-05-26T00:00:00\", \"2018-05-12T00:00:00\", \"2018-01-22T00:00:00\", \"2017-10-06T00:00:00\", \"2018-05-31T00:00:00\", \"2018-01-18T00:00:00\", \"2017-07-21T00:00:00\", \"2018-05-09T00:00:00\", \"2018-04-16T00:00:00\", \"2018-05-17T00:00:00\", \"2017-11-13T00:00:00\", \"2018-05-24T00:00:00\", \"2018-05-02T00:00:00\", \"2018-05-03T00:00:00\", \"2018-04-04T00:00:00\", \"2018-02-01T00:00:00\", \"2017-12-15T00:00:00\", \"2017-09-01T00:00:00\", \"2018-03-26T00:00:00\", \"2018-03-06T00:00:00\", \"2017-11-28T00:00:00\", \"2018-03-29T00:00:00\", \"2018-01-04T00:00:00\", \"2018-02-26T00:00:00\", \"2018-01-30T00:00:00\", \"2017-10-03T00:00:00\", \"2018-05-22T00:00:00\", \"2017-10-06T00:00:00\", \"2018-04-05T00:00:00\", \"2018-02-05T00:00:00\", \"2017-10-31T00:00:00\", \"2018-04-13T00:00:00\", \"2018-04-20T00:00:00\", \"2018-05-16T00:00:00\", \"2018-01-22T00:00:00\", \"2018-02-13T00:00:00\", \"2018-04-13T00:00:00\", \"2017-11-09T00:00:00\", \"2018-03-20T00:00:00\", \"2017-07-27T00:00:00\", \"2017-09-24T00:00:00\", \"2018-03-22T00:00:00\", \"2018-04-04T00:00:00\", \"2017-08-03T00:00:00\", \"2018-01-09T00:00:00\", \"2018-05-24T00:00:00\", \"2017-10-27T00:00:00\", \"2018-03-10T00:00:00\", \"2018-01-10T00:00:00\", \"2017-10-02T00:00:00\", \"2017-10-19T00:00:00\", \"2018-04-14T00:00:00\", \"2018-01-10T00:00:00\", \"2018-04-19T00:00:00\", \"2018-05-25T00:00:00\", \"2018-02-05T00:00:00\", \"2017-07-16T00:00:00\", \"2018-04-11T00:00:00\", \"2018-01-31T00:00:00\", \"2018-01-16T00:00:00\", \"2018-02-04T00:00:00\", \"2017-11-14T00:00:00\", \"2018-01-12T00:00:00\", \"2017-12-31T00:00:00\", \"2018-01-25T00:00:00\", \"2018-03-26T00:00:00\", \"2018-04-28T00:00:00\", \"2018-05-25T00:00:00\", \"2017-08-15T00:00:00\", \"2018-05-24T00:00:00\", \"2017-08-31T00:00:00\", \"2018-04-02T00:00:00\", \"2018-02-12T00:00:00\", \"2018-02-19T00:00:00\", \"2018-05-12T00:00:00\", \"2017-10-31T00:00:00\", \"2018-03-01T00:00:00\", \"2017-08-05T00:00:00\", \"2018-04-20T00:00:00\", \"2018-01-08T00:00:00\", \"2018-05-15T00:00:00\", \"2018-01-18T00:00:00\", \"2018-04-10T00:00:00\", \"2018-05-28T00:00:00\", \"2018-04-12T00:00:00\", \"2018-05-17T00:00:00\", \"2017-12-29T00:00:00\", \"2018-04-11T00:00:00\", \"2018-03-20T00:00:00\", \"2018-05-19T00:00:00\", \"2018-02-05T00:00:00\", \"2018-01-13T00:00:00\", \"2018-03-14T00:00:00\", \"2018-03-12T00:00:00\", \"2018-01-09T00:00:00\", \"2018-01-21T00:00:00\", \"2018-05-14T00:00:00\", \"2018-03-26T00:00:00\", \"2018-05-30T00:00:00\", \"2017-11-28T00:00:00\", \"2018-04-07T00:00:00\", \"2017-12-30T00:00:00\", \"2018-03-13T00:00:00\", \"2018-01-17T00:00:00\", \"2017-12-20T00:00:00\", \"2018-04-09T00:00:00\", \"2018-01-03T00:00:00\", \"2018-02-14T00:00:00\", \"2018-01-13T00:00:00\", \"2018-03-09T00:00:00\", \"2018-01-31T00:00:00\", \"2017-11-16T00:00:00\", \"2018-01-02T00:00:00\", \"2018-01-13T00:00:00\", \"2017-10-25T00:00:00\", \"2018-01-12T00:00:00\", \"2018-04-09T00:00:00\", \"2018-04-12T00:00:00\", \"2017-11-18T00:00:00\", \"2018-04-03T00:00:00\", \"2018-05-09T00:00:00\", \"2018-03-10T00:00:00\", \"2018-04-09T00:00:00\", \"2018-03-26T00:00:00\", \"2017-11-16T00:00:00\", \"2018-05-15T00:00:00\", \"2018-03-09T00:00:00\", \"2018-04-30T00:00:00\", \"2018-05-09T00:00:00\", \"2018-04-16T00:00:00\", \"2018-03-23T00:00:00\", \"2018-01-23T00:00:00\", \"2018-03-24T00:00:00\", \"2018-05-17T00:00:00\", \"2018-03-26T00:00:00\", \"2018-03-26T00:00:00\", \"2018-02-22T00:00:00\", \"2018-04-09T00:00:00\", \"2018-01-29T00:00:00\", \"2018-02-23T00:00:00\", \"2017-09-13T00:00:00\", \"2018-03-22T00:00:00\", \"2017-08-02T00:00:00\", \"2018-05-16T00:00:00\", \"2018-02-27T00:00:00\", \"2018-05-02T00:00:00\", \"2018-05-18T00:00:00\", \"2017-11-05T00:00:00\", \"2018-04-16T00:00:00\", \"2018-04-27T00:00:00\", \"2018-01-25T00:00:00\", \"2018-02-23T00:00:00\", \"2018-05-29T00:00:00\", \"2018-02-21T00:00:00\", \"2018-05-07T00:00:00\", \"2018-02-11T00:00:00\", \"2018-01-24T00:00:00\", \"2017-10-02T00:00:00\", \"2017-09-22T00:00:00\", \"2017-10-02T00:00:00\", \"2017-08-01T00:00:00\", \"2018-01-28T00:00:00\", \"2017-09-13T00:00:00\", \"2018-05-25T00:00:00\", \"2018-04-12T00:00:00\", \"2018-01-20T00:00:00\", \"2018-05-02T00:00:00\", \"2018-01-03T00:00:00\", \"2018-03-19T00:00:00\", \"2018-05-22T00:00:00\", \"2018-02-01T00:00:00\", \"2017-07-19T00:00:00\", \"2017-10-06T00:00:00\", \"2018-04-27T00:00:00\", \"2017-08-29T00:00:00\", \"2018-05-18T00:00:00\", \"2017-08-31T00:00:00\", \"2017-10-26T00:00:00\", \"2017-11-03T00:00:00\", \"2018-03-14T00:00:00\", \"2017-09-11T00:00:00\", \"2018-02-21T00:00:00\", \"2018-03-22T00:00:00\", \"2018-03-09T00:00:00\", \"2018-05-16T00:00:00\", \"2018-02-24T00:00:00\", \"2018-05-28T00:00:00\", \"2018-04-15T00:00:00\", \"2017-12-01T00:00:00\", \"2018-02-27T00:00:00\", \"2017-09-08T00:00:00\", \"2018-05-02T00:00:00\", \"2018-05-23T00:00:00\", \"2018-02-28T00:00:00\", \"2018-05-02T00:00:00\", \"2017-10-06T00:00:00\", \"2017-10-02T00:00:00\", \"2018-03-01T00:00:00\", \"2018-01-04T00:00:00\", \"2018-03-20T00:00:00\", \"2017-07-06T00:00:00\", \"2018-03-16T00:00:00\", \"2018-04-09T00:00:00\", \"2018-05-18T00:00:00\", \"2018-01-10T00:00:00\", \"2018-02-26T00:00:00\", \"2018-02-08T00:00:00\", \"2017-09-11T00:00:00\", \"2018-01-17T00:00:00\", \"2018-02-17T00:00:00\", \"2018-01-16T00:00:00\", \"2017-11-13T00:00:00\", \"2017-08-30T00:00:00\", \"2018-01-07T00:00:00\", \"2017-10-02T00:00:00\", \"2017-08-01T00:00:00\", \"2018-05-01T00:00:00\", \"2018-03-13T00:00:00\", \"2018-01-31T00:00:00\", \"2018-03-08T00:00:00\", \"2018-04-18T00:00:00\", \"2018-02-26T00:00:00\", \"2018-03-26T00:00:00\", \"2018-04-24T00:00:00\", \"2018-05-23T00:00:00\", \"2018-01-30T00:00:00\", \"2017-09-12T00:00:00\", \"2018-04-19T00:00:00\", \"2018-04-06T00:00:00\", \"2017-11-20T00:00:00\", \"2018-03-22T00:00:00\", \"2018-04-16T00:00:00\", \"2018-04-04T00:00:00\", \"2018-04-19T00:00:00\", \"2018-02-23T00:00:00\", \"2018-01-17T00:00:00\", \"2018-04-02T00:00:00\", \"2018-01-15T00:00:00\", \"2018-04-10T00:00:00\", \"2017-11-14T00:00:00\", \"2018-05-11T00:00:00\", \"2018-02-27T00:00:00\", \"2018-05-16T00:00:00\", \"2017-11-02T00:00:00\", \"2017-11-13T00:00:00\", \"2018-05-29T00:00:00\", \"2017-10-02T00:00:00\", \"2018-05-15T00:00:00\", \"2018-04-26T00:00:00\", \"2018-04-06T00:00:00\", \"2018-02-12T00:00:00\", \"2017-11-14T00:00:00\", \"2018-04-26T00:00:00\", \"2018-03-20T00:00:00\", \"2018-05-31T00:00:00\", \"2017-07-06T00:00:00\", \"2018-04-09T00:00:00\", \"2018-04-23T00:00:00\", \"2018-02-20T00:00:00\", \"2017-09-19T00:00:00\", \"2018-02-16T00:00:00\", \"2018-05-07T00:00:00\", \"2018-03-14T00:00:00\", \"2018-02-03T00:00:00\", \"2018-02-22T00:00:00\", \"2018-02-28T00:00:00\", \"2018-04-04T00:00:00\", \"2017-07-07T00:00:00\", \"2018-05-01T00:00:00\", \"2017-11-29T00:00:00\", \"2018-03-21T00:00:00\", \"2018-05-30T00:00:00\", \"2018-03-16T00:00:00\", \"2017-09-12T00:00:00\", \"2018-04-20T00:00:00\", \"2018-02-08T00:00:00\", \"2018-02-17T00:00:00\", \"2018-04-25T00:00:00\", \"2017-08-03T00:00:00\", \"2017-10-05T00:00:00\", \"2017-07-20T00:00:00\", \"2017-10-27T00:00:00\", \"2018-04-06T00:00:00\", \"2018-01-04T00:00:00\", \"2018-04-03T00:00:00\", \"2018-01-12T00:00:00\", \"2018-04-04T00:00:00\", \"2017-12-18T00:00:00\", \"2017-11-06T00:00:00\", \"2018-02-21T00:00:00\", \"2017-10-31T00:00:00\", \"2017-08-21T00:00:00\", \"2018-01-31T00:00:00\", \"2018-01-07T00:00:00\", \"2018-05-10T00:00:00\", \"2018-05-08T00:00:00\", \"2018-05-08T00:00:00\", \"2017-10-10T00:00:00\", \"2018-04-25T00:00:00\", \"2018-02-03T00:00:00\", \"2018-01-04T00:00:00\", \"2018-04-10T00:00:00\", \"2017-07-30T00:00:00\", \"2018-05-11T00:00:00\", \"2018-02-02T00:00:00\", \"2018-02-21T00:00:00\", \"2017-09-29T00:00:00\", \"2018-01-19T00:00:00\", \"2017-11-06T00:00:00\", \"2018-03-29T00:00:00\", \"2018-01-02T00:00:00\", \"2017-09-15T00:00:00\", \"2018-03-14T00:00:00\", \"2018-04-17T00:00:00\", \"2018-03-31T00:00:00\", \"2017-07-25T00:00:00\", \"2017-12-22T00:00:00\", \"2018-04-12T00:00:00\", \"2017-11-12T00:00:00\", \"2018-05-25T00:00:00\", \"2018-04-19T00:00:00\", \"2017-12-14T00:00:00\", \"2017-09-18T00:00:00\", \"2017-11-23T00:00:00\", \"2017-08-05T00:00:00\", \"2018-03-01T00:00:00\", \"2018-05-17T00:00:00\", \"2018-03-27T00:00:00\", \"2017-11-20T00:00:00\", \"2017-08-15T00:00:00\", \"2017-09-14T00:00:00\", \"2018-04-10T00:00:00\", \"2018-04-23T00:00:00\", \"2018-02-04T00:00:00\", \"2018-04-04T00:00:00\", \"2017-10-22T00:00:00\", \"2018-02-08T00:00:00\", \"2018-01-22T00:00:00\", \"2017-12-18T00:00:00\", \"2018-05-27T00:00:00\", \"2018-02-25T00:00:00\", \"2018-03-26T00:00:00\", \"2018-01-30T00:00:00\", \"2017-11-17T00:00:00\", \"2018-01-21T00:00:00\", \"2017-08-03T00:00:00\", \"2018-05-16T00:00:00\", \"2017-11-01T00:00:00\", \"2017-07-17T00:00:00\", \"2017-09-26T00:00:00\", \"2018-02-01T00:00:00\", \"2018-04-03T00:00:00\", \"2018-02-15T00:00:00\", \"2018-03-08T00:00:00\", \"2018-05-09T00:00:00\", \"2018-04-24T00:00:00\", \"2018-04-07T00:00:00\", \"2018-02-21T00:00:00\", \"2018-01-12T00:00:00\", \"2018-01-31T00:00:00\", \"2018-05-28T00:00:00\", \"2018-02-04T00:00:00\", \"2018-02-27T00:00:00\", \"2018-03-15T00:00:00\", \"2018-02-12T00:00:00\", \"2018-04-18T00:00:00\", \"2018-05-23T00:00:00\", \"2018-01-10T00:00:00\", \"2018-05-03T00:00:00\", \"2018-02-14T00:00:00\", \"2018-03-05T00:00:00\", \"2018-04-17T00:00:00\", \"2017-10-06T00:00:00\", \"2018-04-27T00:00:00\", \"2017-12-30T00:00:00\", \"2017-12-06T00:00:00\", \"2017-08-28T00:00:00\", \"2017-10-06T00:00:00\", \"2017-11-21T00:00:00\", \"2018-05-29T00:00:00\", \"2018-05-21T00:00:00\", \"2018-02-20T00:00:00\", \"2018-01-29T00:00:00\", \"2018-01-08T00:00:00\", \"2017-12-29T00:00:00\", \"2017-09-06T00:00:00\", \"2018-04-03T00:00:00\", \"2018-05-08T00:00:00\", \"2017-11-21T00:00:00\", \"2017-10-23T00:00:00\", \"2018-05-08T00:00:00\", \"2018-05-07T00:00:00\", \"2018-05-16T00:00:00\", \"2018-03-07T00:00:00\", \"2017-11-11T00:00:00\", \"2018-04-12T00:00:00\", \"2018-05-17T00:00:00\", \"2017-10-20T00:00:00\", \"2018-02-03T00:00:00\", \"2017-09-28T00:00:00\", \"2017-10-17T00:00:00\", \"2018-02-09T00:00:00\", \"2018-01-11T00:00:00\", \"2017-07-10T00:00:00\", \"2018-01-31T00:00:00\", \"2018-04-23T00:00:00\", \"2018-03-22T00:00:00\", \"2018-01-17T00:00:00\", \"2018-01-18T00:00:00\", \"2018-05-07T00:00:00\", \"2018-02-21T00:00:00\", \"2018-04-24T00:00:00\", \"2018-03-21T00:00:00\", \"2018-04-10T00:00:00\", \"2018-01-17T00:00:00\", \"2018-04-05T00:00:00\", \"2017-09-04T00:00:00\", \"2018-05-09T00:00:00\", \"2018-03-23T00:00:00\", \"2018-03-12T00:00:00\", \"2017-07-06T00:00:00\", \"2017-09-04T00:00:00\", \"2018-03-08T00:00:00\", \"2018-04-19T00:00:00\", \"2017-11-26T00:00:00\", \"2018-02-14T00:00:00\", \"2018-04-27T00:00:00\", \"2018-02-22T00:00:00\", \"2018-04-30T00:00:00\", \"2017-11-20T00:00:00\", \"2018-01-23T00:00:00\", \"2017-10-20T00:00:00\", \"2018-04-10T00:00:00\", \"2018-02-21T00:00:00\", \"2018-05-27T00:00:00\", \"2017-08-16T00:00:00\", \"2018-02-23T00:00:00\", \"2017-09-19T00:00:00\", \"2018-02-15T00:00:00\", \"2018-05-17T00:00:00\", \"2018-05-28T00:00:00\", \"2017-09-06T00:00:00\", \"2018-03-22T00:00:00\", \"2018-04-05T00:00:00\", \"2018-04-30T00:00:00\", \"2018-03-30T00:00:00\", \"2018-03-17T00:00:00\", \"2018-03-31T00:00:00\", \"2017-08-24T00:00:00\", \"2018-03-22T00:00:00\", \"2018-02-10T00:00:00\", \"2018-03-23T00:00:00\", \"2018-04-13T00:00:00\", \"2018-03-08T00:00:00\", \"2018-04-11T00:00:00\", \"2018-05-18T00:00:00\", \"2018-02-12T00:00:00\", \"2017-08-16T00:00:00\", \"2018-02-18T00:00:00\", \"2018-04-11T00:00:00\", \"2018-02-23T00:00:00\", \"2018-04-27T00:00:00\", \"2018-04-18T00:00:00\", \"2018-04-10T00:00:00\", \"2018-01-11T00:00:00\", \"2017-07-31T00:00:00\", \"2018-04-25T00:00:00\", \"2018-02-19T00:00:00\", \"2018-02-13T00:00:00\", \"2018-05-10T00:00:00\", \"2018-04-25T00:00:00\", \"2018-01-31T00:00:00\", \"2018-05-18T00:00:00\", \"2018-04-21T00:00:00\", \"2018-02-26T00:00:00\", \"2018-03-15T00:00:00\", \"2018-03-07T00:00:00\", \"2018-04-02T00:00:00\", \"2017-08-12T00:00:00\", \"2018-05-21T00:00:00\", \"2017-11-29T00:00:00\", \"2018-02-02T00:00:00\", \"2018-05-03T00:00:00\", \"2018-04-18T00:00:00\", \"2018-04-09T00:00:00\", \"2017-08-15T00:00:00\", \"2018-05-29T00:00:00\", \"2017-08-19T00:00:00\", \"2018-02-15T00:00:00\", \"2018-02-07T00:00:00\", \"2017-09-18T00:00:00\", \"2018-03-29T00:00:00\", \"2018-03-24T00:00:00\", \"2018-01-25T00:00:00\", \"2018-05-20T00:00:00\", \"2018-02-22T00:00:00\", \"2017-12-15T00:00:00\", \"2018-01-05T00:00:00\", \"2018-03-28T00:00:00\", \"2018-01-04T00:00:00\", \"2018-05-22T00:00:00\", \"2018-03-13T00:00:00\", \"2018-02-16T00:00:00\", \"2018-05-21T00:00:00\", \"2018-03-19T00:00:00\", \"2017-11-19T00:00:00\", \"2018-01-13T00:00:00\", \"2018-05-07T00:00:00\", \"2017-11-02T00:00:00\", \"2018-03-09T00:00:00\", \"2018-03-08T00:00:00\", \"2018-03-02T00:00:00\", \"2018-05-21T00:00:00\", \"2018-04-02T00:00:00\", \"2017-09-11T00:00:00\", \"2018-03-05T00:00:00\", \"2018-05-25T00:00:00\", \"2017-11-14T00:00:00\", \"2018-01-25T00:00:00\", \"2017-09-25T00:00:00\", \"2018-05-03T00:00:00\", \"2018-05-02T00:00:00\", \"2018-05-29T00:00:00\", \"2017-10-18T00:00:00\", \"2018-05-24T00:00:00\", \"2018-05-02T00:00:00\", \"2018-04-04T00:00:00\", \"2018-02-23T00:00:00\", \"2017-11-23T00:00:00\", \"2018-05-15T00:00:00\", \"2018-05-02T00:00:00\", \"2018-04-08T00:00:00\", \"2018-03-05T00:00:00\", \"2017-11-06T00:00:00\", \"2018-03-15T00:00:00\", \"2018-01-07T00:00:00\", \"2018-05-15T00:00:00\", \"2017-09-03T00:00:00\", \"2017-11-24T00:00:00\", \"2017-10-30T00:00:00\", \"2017-12-29T00:00:00\", \"2017-11-17T00:00:00\", \"2018-03-16T00:00:00\", \"2018-04-05T00:00:00\", \"2018-02-14T00:00:00\", \"2018-01-23T00:00:00\", \"2017-07-21T00:00:00\", \"2017-09-13T00:00:00\", \"2018-05-15T00:00:00\", \"2017-10-31T00:00:00\", \"2018-05-01T00:00:00\", \"2018-05-10T00:00:00\", \"2018-04-25T00:00:00\", \"2017-10-22T00:00:00\", \"2017-08-19T00:00:00\", \"2018-04-13T00:00:00\", \"2018-05-11T00:00:00\", \"2017-11-25T00:00:00\", \"2018-03-06T00:00:00\", \"2018-04-05T00:00:00\", \"2018-03-03T00:00:00\", \"2017-11-03T00:00:00\", \"2018-05-31T00:00:00\", \"2017-12-26T00:00:00\", \"2018-03-21T00:00:00\", \"2017-11-23T00:00:00\", \"2018-05-24T00:00:00\", \"2017-10-06T00:00:00\", \"2017-08-08T00:00:00\", \"2017-09-04T00:00:00\", \"2018-05-07T00:00:00\", \"2018-04-15T00:00:00\", \"2018-02-19T00:00:00\", \"2017-09-01T00:00:00\", \"2018-01-22T00:00:00\", \"2018-02-02T00:00:00\", \"2018-01-25T00:00:00\", \"2017-07-28T00:00:00\", \"2018-01-16T00:00:00\", \"2018-02-16T00:00:00\", \"2017-07-08T00:00:00\", \"2018-04-29T00:00:00\", \"2017-08-30T00:00:00\", \"2018-03-23T00:00:00\", \"2017-10-26T00:00:00\", \"2018-04-03T00:00:00\", \"2018-01-08T00:00:00\", \"2017-07-31T00:00:00\", \"2018-04-11T00:00:00\", \"2018-05-11T00:00:00\", \"2018-04-10T00:00:00\", \"2018-05-28T00:00:00\", \"2018-04-20T00:00:00\", \"2018-04-06T00:00:00\", \"2018-03-29T00:00:00\", \"2018-02-15T00:00:00\", \"2018-04-30T00:00:00\", \"2018-03-23T00:00:00\", \"2018-03-02T00:00:00\", \"2017-11-21T00:00:00\", \"2018-04-18T00:00:00\", \"2018-05-05T00:00:00\", \"2018-03-23T00:00:00\", \"2018-05-31T00:00:00\", \"2017-08-16T00:00:00\", \"2018-02-28T00:00:00\", \"2018-04-12T00:00:00\", \"2018-01-03T00:00:00\", \"2017-07-26T00:00:00\", \"2017-07-04T00:00:00\", \"2018-05-30T00:00:00\", \"2017-10-10T00:00:00\", \"2018-01-03T00:00:00\", \"2017-07-25T00:00:00\", \"2018-03-20T00:00:00\", \"2017-12-27T00:00:00\", \"2018-01-13T00:00:00\", \"2018-02-10T00:00:00\", \"2018-03-16T00:00:00\", \"2018-01-27T00:00:00\", \"2017-11-24T00:00:00\", \"2018-02-19T00:00:00\", \"2017-12-02T00:00:00\", \"2017-07-29T00:00:00\", \"2018-01-29T00:00:00\", \"2018-01-12T00:00:00\", \"2018-01-19T00:00:00\", \"2018-05-07T00:00:00\", \"2018-04-20T00:00:00\", \"2018-03-07T00:00:00\", \"2018-04-10T00:00:00\", \"2018-04-11T00:00:00\", \"2018-04-27T00:00:00\", \"2018-03-27T00:00:00\", \"2018-01-13T00:00:00\", \"2018-01-04T00:00:00\", \"2018-04-11T00:00:00\", \"2018-01-24T00:00:00\", \"2018-04-08T00:00:00\", \"2018-02-01T00:00:00\", \"2018-04-04T00:00:00\", \"2017-10-09T00:00:00\", \"2018-04-18T00:00:00\", \"2017-11-13T00:00:00\", \"2017-10-27T00:00:00\", \"2017-08-01T00:00:00\", \"2018-05-25T00:00:00\", \"2018-05-29T00:00:00\", \"2018-02-25T00:00:00\", \"2017-08-03T00:00:00\", \"2018-04-19T00:00:00\", \"2018-05-09T00:00:00\", \"2018-05-10T00:00:00\", \"2018-01-16T00:00:00\", \"2018-02-06T00:00:00\", \"2018-05-12T00:00:00\", \"2018-02-06T00:00:00\", \"2017-10-25T00:00:00\", \"2018-02-21T00:00:00\", \"2018-02-28T00:00:00\", \"2017-09-28T00:00:00\", \"2018-01-31T00:00:00\", \"2018-03-16T00:00:00\", \"2018-03-14T00:00:00\", \"2018-05-24T00:00:00\", \"2018-03-22T00:00:00\", \"2017-09-20T00:00:00\", \"2018-03-05T00:00:00\", \"2017-10-26T00:00:00\", \"2018-02-02T00:00:00\", \"2018-05-14T00:00:00\", \"2017-07-28T00:00:00\", \"2018-04-18T00:00:00\", \"2018-04-26T00:00:00\", \"2017-12-02T00:00:00\", \"2018-02-26T00:00:00\", \"2018-04-09T00:00:00\", \"2018-04-12T00:00:00\", \"2018-01-04T00:00:00\", \"2018-01-19T00:00:00\", \"2017-10-30T00:00:00\", \"2018-05-28T00:00:00\", \"2018-04-26T00:00:00\", \"2018-05-01T00:00:00\", \"2018-04-18T00:00:00\", \"2018-02-09T00:00:00\", \"2018-01-17T00:00:00\", \"2017-10-23T00:00:00\", \"2018-03-12T00:00:00\", \"2017-10-16T00:00:00\", \"2018-02-21T00:00:00\", \"2017-07-06T00:00:00\", \"2018-01-17T00:00:00\", \"2018-03-26T00:00:00\", \"2018-03-19T00:00:00\", \"2018-05-29T00:00:00\", \"2018-03-26T00:00:00\", \"2018-01-19T00:00:00\", \"2018-04-27T00:00:00\", \"2017-11-23T00:00:00\", \"2017-07-18T00:00:00\", \"2018-05-02T00:00:00\", \"2017-09-04T00:00:00\", \"2018-01-19T00:00:00\", \"2018-05-02T00:00:00\", \"2017-12-24T00:00:00\", \"2018-05-28T00:00:00\", \"2018-03-26T00:00:00\", \"2017-07-31T00:00:00\", \"2018-01-22T00:00:00\", \"2018-05-20T00:00:00\", \"2018-02-21T00:00:00\", \"2018-05-15T00:00:00\", \"2018-04-05T00:00:00\", \"2017-11-13T00:00:00\", \"2018-02-21T00:00:00\", \"2018-02-26T00:00:00\", \"2017-10-23T00:00:00\", \"2018-05-14T00:00:00\", \"2017-09-29T00:00:00\", \"2017-11-06T00:00:00\", \"2018-05-16T00:00:00\", \"2018-05-16T00:00:00\", \"2018-02-05T00:00:00\", \"2018-02-22T00:00:00\", \"2018-04-10T00:00:00\", \"2017-09-14T00:00:00\", \"2018-01-17T00:00:00\", \"2018-03-14T00:00:00\", \"2018-04-09T00:00:00\", \"2018-05-30T00:00:00\", \"2018-03-15T00:00:00\", \"2018-04-09T00:00:00\", \"2018-01-22T00:00:00\", \"2017-11-28T00:00:00\", \"2018-05-02T00:00:00\", \"2018-04-02T00:00:00\", \"2018-03-24T00:00:00\", \"2018-04-04T00:00:00\", \"2018-01-24T00:00:00\", \"2018-01-31T00:00:00\", \"2018-04-18T00:00:00\", \"2018-03-27T00:00:00\", \"2018-05-24T00:00:00\", \"2017-11-24T00:00:00\", \"2018-01-10T00:00:00\", \"2017-09-28T00:00:00\", \"2018-04-13T00:00:00\", \"2018-02-19T00:00:00\", \"2018-03-29T00:00:00\", \"2018-02-14T00:00:00\", \"2017-09-18T00:00:00\", \"2018-01-18T00:00:00\", \"2018-05-14T00:00:00\", \"2017-11-22T00:00:00\", \"2018-02-02T00:00:00\", \"2017-09-04T00:00:00\", \"2018-05-15T00:00:00\", \"2018-01-22T00:00:00\", \"2018-02-10T00:00:00\", \"2018-05-15T00:00:00\", \"2018-05-27T00:00:00\", \"2018-04-26T00:00:00\", \"2018-05-07T00:00:00\", \"2018-02-27T00:00:00\", \"2018-05-29T00:00:00\", \"2018-01-08T00:00:00\", \"2018-04-16T00:00:00\", \"2018-01-15T00:00:00\", \"2018-03-19T00:00:00\", \"2018-02-13T00:00:00\", \"2018-05-03T00:00:00\", \"2018-04-20T00:00:00\", \"2017-08-03T00:00:00\", \"2018-04-27T00:00:00\", \"2018-05-22T00:00:00\", \"2018-03-02T00:00:00\", \"2017-11-22T00:00:00\", \"2017-10-27T00:00:00\", \"2018-05-06T00:00:00\", \"2018-05-03T00:00:00\", \"2018-04-09T00:00:00\", \"2017-09-04T00:00:00\", \"2018-02-19T00:00:00\", \"2018-04-05T00:00:00\", \"2018-04-01T00:00:00\", \"2017-09-27T00:00:00\", \"2018-02-12T00:00:00\", \"2018-04-23T00:00:00\", \"2018-04-18T00:00:00\", \"2018-01-01T00:00:00\", \"2018-02-22T00:00:00\", \"2017-11-07T00:00:00\", \"2018-02-09T00:00:00\", \"2017-11-17T00:00:00\", \"2018-04-05T00:00:00\", \"2018-04-17T00:00:00\", \"2018-03-24T00:00:00\", \"2018-01-17T00:00:00\", \"2018-05-29T00:00:00\", \"2018-01-08T00:00:00\", \"2018-04-26T00:00:00\", \"2018-04-06T00:00:00\", \"2018-04-03T00:00:00\", \"2018-01-15T00:00:00\", \"2018-02-26T00:00:00\", \"2017-10-21T00:00:00\", \"2018-04-18T00:00:00\", \"2018-05-22T00:00:00\", \"2018-02-27T00:00:00\", \"2018-04-13T00:00:00\", \"2018-05-02T00:00:00\", \"2017-11-07T00:00:00\", \"2018-02-15T00:00:00\", \"2017-11-01T00:00:00\", \"2017-08-18T00:00:00\", \"2018-02-15T00:00:00\", \"2018-05-02T00:00:00\", \"2018-01-27T00:00:00\", \"2017-07-14T00:00:00\", \"2018-05-23T00:00:00\", \"2018-05-03T00:00:00\", \"2018-02-26T00:00:00\", \"2018-02-05T00:00:00\", \"2018-01-16T00:00:00\", \"2018-02-23T00:00:00\", \"2018-04-23T00:00:00\", \"2017-11-20T00:00:00\", \"2018-04-04T00:00:00\", \"2018-05-21T00:00:00\", \"2018-02-26T00:00:00\", \"2017-08-23T00:00:00\", \"2017-09-19T00:00:00\", \"2017-10-25T00:00:00\", \"2017-12-07T00:00:00\", \"2018-02-20T00:00:00\", \"2018-01-12T00:00:00\", \"2018-05-08T00:00:00\", \"2018-04-19T00:00:00\", \"2018-03-16T00:00:00\", \"2018-01-10T00:00:00\", \"2018-01-11T00:00:00\", \"2018-03-27T00:00:00\", \"2018-05-06T00:00:00\", \"2018-04-10T00:00:00\", \"2018-01-30T00:00:00\", \"2018-04-05T00:00:00\", \"2017-08-08T00:00:00\", \"2017-11-17T00:00:00\", \"2018-03-20T00:00:00\", \"2018-05-18T00:00:00\", \"2017-11-18T00:00:00\", \"2017-10-24T00:00:00\", \"2018-03-09T00:00:00\", \"2018-01-05T00:00:00\", \"2018-02-24T00:00:00\", \"2018-01-16T00:00:00\", \"2018-02-02T00:00:00\", \"2017-07-28T00:00:00\", \"2018-03-31T00:00:00\", \"2018-05-21T00:00:00\", \"2017-12-20T00:00:00\", \"2018-01-25T00:00:00\", \"2018-03-01T00:00:00\", \"2018-05-08T00:00:00\", \"2018-02-26T00:00:00\", \"2018-03-30T00:00:00\", \"2017-11-07T00:00:00\", \"2017-08-07T00:00:00\", \"2018-04-02T00:00:00\", \"2017-11-01T00:00:00\", \"2017-11-06T00:00:00\", \"2018-05-12T00:00:00\", \"2018-03-18T00:00:00\", \"2017-08-02T00:00:00\", \"2018-02-04T00:00:00\", \"2018-05-08T00:00:00\", \"2018-04-11T00:00:00\", \"2018-05-14T00:00:00\", \"2017-08-01T00:00:00\", \"2018-01-23T00:00:00\", \"2018-01-19T00:00:00\", \"2017-10-03T00:00:00\", \"2018-01-17T00:00:00\", \"2018-05-18T00:00:00\", \"2017-07-22T00:00:00\", \"2018-05-19T00:00:00\", \"2018-03-06T00:00:00\", \"2018-05-08T00:00:00\", \"2018-05-10T00:00:00\", \"2017-10-18T00:00:00\", \"2017-11-25T00:00:00\", \"2018-03-15T00:00:00\", \"2017-09-05T00:00:00\", \"2018-05-23T00:00:00\", \"2018-01-22T00:00:00\", \"2017-10-25T00:00:00\", \"2018-03-21T00:00:00\", \"2018-03-09T00:00:00\", \"2017-12-30T00:00:00\", \"2018-03-28T00:00:00\", \"2018-03-09T00:00:00\", \"2018-01-23T00:00:00\", \"2018-04-20T00:00:00\", \"2018-05-02T00:00:00\", \"2017-09-21T00:00:00\", \"2018-05-02T00:00:00\", \"2018-04-02T00:00:00\", \"2018-05-16T00:00:00\", \"2018-03-15T00:00:00\", \"2018-03-26T00:00:00\", \"2018-05-25T00:00:00\", \"2018-03-23T00:00:00\", \"2018-04-01T00:00:00\", \"2017-11-14T00:00:00\", \"2018-03-26T00:00:00\", \"2018-01-31T00:00:00\", \"2018-02-23T00:00:00\", \"2018-04-04T00:00:00\", \"2018-02-09T00:00:00\", \"2018-03-07T00:00:00\", \"2018-02-22T00:00:00\", \"2018-01-16T00:00:00\", \"2018-04-25T00:00:00\", \"2017-09-05T00:00:00\", \"2018-02-04T00:00:00\", \"2018-02-02T00:00:00\", \"2017-12-22T00:00:00\", \"2018-04-13T00:00:00\", \"2018-03-26T00:00:00\", \"2017-09-05T00:00:00\", \"2017-10-10T00:00:00\", \"2018-02-12T00:00:00\", \"2017-07-12T00:00:00\", \"2017-12-03T00:00:00\", \"2018-02-19T00:00:00\", \"2017-11-04T00:00:00\", \"2018-05-12T00:00:00\", \"2018-04-09T00:00:00\", \"2018-04-10T00:00:00\", \"2018-05-02T00:00:00\", \"2018-04-10T00:00:00\", \"2018-01-16T00:00:00\", \"2018-04-02T00:00:00\", \"2018-03-06T00:00:00\", \"2018-04-02T00:00:00\", \"2018-03-20T00:00:00\", \"2018-02-27T00:00:00\", \"2017-10-26T00:00:00\", \"2017-09-14T00:00:00\", \"2017-10-30T00:00:00\", \"2018-02-15T00:00:00\", \"2018-04-08T00:00:00\", \"2017-11-27T00:00:00\", \"2017-08-30T00:00:00\", \"2018-05-21T00:00:00\", \"2018-02-15T00:00:00\", \"2018-05-04T00:00:00\", \"2018-05-17T00:00:00\", \"2018-05-07T00:00:00\", \"2018-05-15T00:00:00\", \"2018-03-28T00:00:00\", \"2018-03-29T00:00:00\", \"2018-05-28T00:00:00\", \"2018-05-05T00:00:00\", \"2018-04-02T00:00:00\", \"2018-03-16T00:00:00\", \"2017-08-29T00:00:00\", \"2017-08-09T00:00:00\", \"2017-08-28T00:00:00\", \"2018-01-14T00:00:00\", \"2018-03-26T00:00:00\", \"2018-05-26T00:00:00\", \"2018-03-07T00:00:00\", \"2017-08-31T00:00:00\", \"2018-01-07T00:00:00\", \"2018-03-19T00:00:00\", \"2018-02-15T00:00:00\", \"2018-01-24T00:00:00\", \"2018-01-02T00:00:00\", \"2018-03-05T00:00:00\", \"2018-01-30T00:00:00\", \"2018-01-11T00:00:00\", \"2018-04-18T00:00:00\", \"2018-01-11T00:00:00\", \"2017-09-19T00:00:00\", \"2018-04-23T00:00:00\", \"2018-01-17T00:00:00\", \"2017-10-04T00:00:00\", \"2018-03-23T00:00:00\", \"2018-04-10T00:00:00\", \"2018-02-16T00:00:00\", \"2018-05-21T00:00:00\", \"2017-10-19T00:00:00\", \"2017-12-24T00:00:00\", \"2017-11-13T00:00:00\", \"2018-01-24T00:00:00\", \"2018-04-12T00:00:00\", \"2018-01-27T00:00:00\", \"2017-10-07T00:00:00\", \"2017-10-21T00:00:00\", \"2018-05-24T00:00:00\", \"2018-05-03T00:00:00\", \"2018-01-06T00:00:00\", \"2018-01-15T00:00:00\", \"2018-04-13T00:00:00\", \"2018-01-22T00:00:00\", \"2017-11-25T00:00:00\", \"2017-11-13T00:00:00\", \"2018-02-05T00:00:00\", \"2018-05-02T00:00:00\", \"2018-03-27T00:00:00\", \"2018-05-21T00:00:00\", \"2018-04-08T00:00:00\", \"2017-12-15T00:00:00\", \"2018-05-18T00:00:00\", \"2018-03-23T00:00:00\", \"2017-08-23T00:00:00\", \"2018-04-20T00:00:00\", \"2017-10-11T00:00:00\", \"2018-05-11T00:00:00\", \"2018-03-09T00:00:00\", \"2018-01-15T00:00:00\", \"2018-02-19T00:00:00\", \"2018-02-21T00:00:00\", \"2017-09-17T00:00:00\", \"2017-11-29T00:00:00\", \"2018-02-02T00:00:00\", \"2017-10-29T00:00:00\", \"2018-04-10T00:00:00\", \"2018-01-18T00:00:00\", \"2017-08-17T00:00:00\", \"2018-02-07T00:00:00\", \"2017-07-12T00:00:00\", \"2018-03-26T00:00:00\", \"2018-01-15T00:00:00\", \"2018-01-11T00:00:00\", \"2018-03-22T00:00:00\", \"2018-04-21T00:00:00\", \"2018-05-14T00:00:00\", \"2018-03-15T00:00:00\", \"2017-11-20T00:00:00\", \"2018-05-29T00:00:00\", \"2018-05-02T00:00:00\", \"2017-09-19T00:00:00\", \"2018-03-21T00:00:00\", \"2018-04-19T00:00:00\", \"2018-05-16T00:00:00\", \"2017-09-01T00:00:00\", \"2018-04-18T00:00:00\", \"2018-04-10T00:00:00\", \"2018-02-03T00:00:00\", \"2018-04-05T00:00:00\", \"2018-04-08T00:00:00\", \"2018-05-15T00:00:00\", \"2018-01-31T00:00:00\", \"2018-04-05T00:00:00\", \"2018-04-09T00:00:00\", \"2017-11-24T00:00:00\", \"2018-05-10T00:00:00\", \"2017-10-19T00:00:00\", \"2018-02-25T00:00:00\", \"2017-07-31T00:00:00\", \"2018-02-15T00:00:00\", \"2018-01-09T00:00:00\", \"2018-02-14T00:00:00\", \"2017-12-31T00:00:00\", \"2018-01-26T00:00:00\", \"2018-04-10T00:00:00\", \"2018-01-21T00:00:00\", \"2018-03-13T00:00:00\", \"2018-04-27T00:00:00\", \"2018-04-25T00:00:00\", \"2018-05-31T00:00:00\", \"2018-05-02T00:00:00\", \"2018-01-10T00:00:00\", \"2018-04-10T00:00:00\", \"2018-01-02T00:00:00\", \"2018-04-19T00:00:00\", \"2018-02-06T00:00:00\", \"2018-05-26T00:00:00\", \"2017-09-21T00:00:00\", \"2017-08-03T00:00:00\", \"2018-03-30T00:00:00\", \"2017-11-14T00:00:00\", \"2018-04-12T00:00:00\", \"2018-02-26T00:00:00\", \"2018-02-10T00:00:00\", \"2018-04-24T00:00:00\", \"2017-08-04T00:00:00\", \"2018-01-15T00:00:00\", \"2018-05-28T00:00:00\", \"2018-03-02T00:00:00\", \"2018-05-07T00:00:00\", \"2017-11-29T00:00:00\", \"2017-11-03T00:00:00\", \"2018-01-21T00:00:00\", \"2018-04-26T00:00:00\", \"2017-11-01T00:00:00\", \"2018-05-24T00:00:00\", \"2018-03-08T00:00:00\", \"2017-07-10T00:00:00\", \"2018-01-31T00:00:00\", \"2018-05-02T00:00:00\", \"2018-03-09T00:00:00\", \"2018-03-11T00:00:00\", \"2018-04-26T00:00:00\", \"2018-04-24T00:00:00\", \"2018-03-23T00:00:00\", \"2017-10-16T00:00:00\", \"2018-01-05T00:00:00\", \"2017-08-25T00:00:00\", \"2018-05-07T00:00:00\", \"2017-08-16T00:00:00\", \"2017-11-28T00:00:00\", \"2018-04-18T00:00:00\", \"2017-07-05T00:00:00\", \"2018-04-19T00:00:00\", \"2018-02-06T00:00:00\", \"2017-09-26T00:00:00\", \"2018-03-08T00:00:00\", \"2018-01-02T00:00:00\", \"2018-04-24T00:00:00\", \"2017-10-09T00:00:00\", \"2018-04-16T00:00:00\", \"2018-04-11T00:00:00\", \"2018-03-30T00:00:00\", \"2018-05-18T00:00:00\", \"2018-04-20T00:00:00\", \"2017-10-08T00:00:00\", \"2018-01-25T00:00:00\", \"2018-01-07T00:00:00\", \"2018-02-01T00:00:00\", \"2018-05-05T00:00:00\", \"2018-02-07T00:00:00\", \"2018-01-10T00:00:00\", \"2018-05-08T00:00:00\", \"2017-07-21T00:00:00\", \"2018-01-22T00:00:00\", \"2018-03-30T00:00:00\", \"2018-02-12T00:00:00\", \"2018-05-16T00:00:00\", \"2018-04-13T00:00:00\", \"2018-03-13T00:00:00\", \"2018-01-25T00:00:00\", \"2018-03-30T00:00:00\", \"2018-05-30T00:00:00\", \"2018-01-04T00:00:00\", \"2018-02-15T00:00:00\", \"2017-09-11T00:00:00\", \"2018-01-01T00:00:00\", \"2018-04-26T00:00:00\", \"2018-05-30T00:00:00\", \"2018-04-16T00:00:00\", \"2018-04-13T00:00:00\", \"2018-02-09T00:00:00\", \"2017-11-24T00:00:00\", \"2018-02-06T00:00:00\", \"2018-01-16T00:00:00\", \"2018-03-27T00:00:00\", \"2018-03-02T00:00:00\", \"2018-02-05T00:00:00\", \"2018-05-24T00:00:00\", \"2018-04-03T00:00:00\", \"2017-11-16T00:00:00\", \"2018-04-02T00:00:00\", \"2017-09-26T00:00:00\", \"2018-01-16T00:00:00\", \"2018-01-26T00:00:00\", \"2018-03-05T00:00:00\", \"2018-05-03T00:00:00\", \"2018-02-28T00:00:00\", \"2018-01-04T00:00:00\", \"2017-10-16T00:00:00\", \"2018-03-21T00:00:00\", \"2018-04-28T00:00:00\", \"2018-04-15T00:00:00\", \"2018-05-26T00:00:00\", \"2018-01-22T00:00:00\", \"2018-05-15T00:00:00\", \"2017-11-16T00:00:00\", \"2017-07-20T00:00:00\", \"2018-03-27T00:00:00\", \"2018-02-21T00:00:00\", \"2018-03-06T00:00:00\", \"2018-05-26T00:00:00\", \"2018-05-08T00:00:00\", \"2018-05-07T00:00:00\", \"2017-12-23T00:00:00\", \"2018-05-22T00:00:00\", \"2018-05-14T00:00:00\", \"2017-08-07T00:00:00\", \"2018-01-22T00:00:00\", \"2018-05-31T00:00:00\", \"2018-02-21T00:00:00\", \"2017-08-29T00:00:00\", \"2018-03-24T00:00:00\", \"2017-08-07T00:00:00\", \"2018-01-16T00:00:00\", \"2018-02-21T00:00:00\", \"2018-04-18T00:00:00\", \"2018-05-22T00:00:00\", \"2018-01-17T00:00:00\", \"2017-08-03T00:00:00\", \"2017-11-23T00:00:00\", \"2018-04-13T00:00:00\", \"2018-03-21T00:00:00\", \"2018-03-20T00:00:00\", \"2018-03-06T00:00:00\", \"2018-05-03T00:00:00\", \"2018-01-16T00:00:00\", \"2018-03-14T00:00:00\", \"2018-02-14T00:00:00\", \"2018-02-19T00:00:00\", \"2017-10-13T00:00:00\", \"2018-01-11T00:00:00\", \"2017-10-28T00:00:00\", \"2018-03-03T00:00:00\", \"2018-04-13T00:00:00\", \"2018-01-19T00:00:00\", \"2018-01-06T00:00:00\", \"2018-05-16T00:00:00\", \"2018-01-16T00:00:00\", \"2018-04-28T00:00:00\", \"2018-02-17T00:00:00\", \"2018-04-27T00:00:00\", \"2018-03-15T00:00:00\", \"2018-03-19T00:00:00\", \"2018-02-07T00:00:00\", \"2018-05-05T00:00:00\", \"2018-04-04T00:00:00\", \"2018-04-18T00:00:00\", \"2018-04-17T00:00:00\", \"2017-09-01T00:00:00\", \"2017-08-29T00:00:00\", \"2018-02-23T00:00:00\", \"2017-08-16T00:00:00\", \"2018-02-21T00:00:00\", \"2018-01-24T00:00:00\", \"2018-01-29T00:00:00\", \"2017-11-21T00:00:00\", \"2018-05-02T00:00:00\", \"2018-01-06T00:00:00\", \"2018-01-26T00:00:00\", \"2017-10-10T00:00:00\", \"2018-05-15T00:00:00\", \"2017-10-02T00:00:00\", \"2018-03-23T00:00:00\", \"2018-04-19T00:00:00\", \"2018-01-03T00:00:00\", \"2018-05-08T00:00:00\", \"2018-04-11T00:00:00\", \"2017-07-19T00:00:00\", \"2018-02-01T00:00:00\", \"2017-12-30T00:00:00\", \"2018-03-08T00:00:00\", \"2017-12-27T00:00:00\", \"2018-05-15T00:00:00\", \"2018-04-24T00:00:00\", \"2018-05-21T00:00:00\", \"2018-05-09T00:00:00\", \"2018-02-09T00:00:00\", \"2017-12-26T00:00:00\", \"2018-04-26T00:00:00\", \"2018-04-08T00:00:00\", \"2018-05-11T00:00:00\", \"2018-03-26T00:00:00\", \"2018-04-16T00:00:00\", \"2018-01-27T00:00:00\", \"2018-01-27T00:00:00\", \"2018-03-19T00:00:00\", \"2018-05-14T00:00:00\", \"2017-09-28T00:00:00\", \"2018-05-24T00:00:00\", \"2018-05-23T00:00:00\", \"2018-05-17T00:00:00\", \"2017-07-12T00:00:00\", \"2018-01-29T00:00:00\", \"2018-05-02T00:00:00\", \"2018-03-07T00:00:00\", \"2017-12-26T00:00:00\", \"2018-04-24T00:00:00\", \"2018-05-03T00:00:00\", \"2017-08-17T00:00:00\", \"2018-03-14T00:00:00\", \"2018-04-11T00:00:00\", \"2017-12-18T00:00:00\", \"2017-11-10T00:00:00\", \"2018-01-06T00:00:00\", \"2018-02-16T00:00:00\", \"2018-01-04T00:00:00\", \"2018-02-16T00:00:00\", \"2018-04-16T00:00:00\", \"2018-03-22T00:00:00\", \"2017-12-04T00:00:00\", \"2018-04-24T00:00:00\", \"2018-04-26T00:00:00\", \"2018-03-02T00:00:00\", \"2018-02-07T00:00:00\", \"2018-01-20T00:00:00\", \"2018-05-30T00:00:00\", \"2017-07-20T00:00:00\", \"2018-05-07T00:00:00\", \"2017-09-19T00:00:00\", \"2018-04-11T00:00:00\", \"2018-04-04T00:00:00\", \"2018-05-02T00:00:00\", \"2017-07-17T00:00:00\", \"2018-04-03T00:00:00\", \"2018-03-07T00:00:00\", \"2018-01-15T00:00:00\", \"2018-03-20T00:00:00\", \"2018-05-04T00:00:00\", \"2017-08-07T00:00:00\", \"2018-04-13T00:00:00\", \"2018-04-16T00:00:00\", \"2018-05-21T00:00:00\", \"2018-05-28T00:00:00\", \"2017-10-24T00:00:00\", \"2017-08-09T00:00:00\", \"2017-07-28T00:00:00\", \"2017-08-30T00:00:00\", \"2018-02-25T00:00:00\", \"2018-04-28T00:00:00\", \"2017-11-04T00:00:00\", \"2018-04-26T00:00:00\", \"2018-02-07T00:00:00\", \"2017-11-01T00:00:00\", \"2018-01-11T00:00:00\", \"2018-01-29T00:00:00\", \"2018-05-21T00:00:00\", \"2018-03-11T00:00:00\", \"2018-01-31T00:00:00\", \"2017-11-10T00:00:00\", \"2018-05-24T00:00:00\", \"2018-02-09T00:00:00\", \"2017-07-24T00:00:00\", \"2017-12-12T00:00:00\", \"2018-01-12T00:00:00\", \"2018-03-23T00:00:00\", \"2018-04-25T00:00:00\", \"2018-02-28T00:00:00\", \"2018-01-03T00:00:00\", \"2018-02-08T00:00:00\", \"2018-05-09T00:00:00\", \"2017-10-06T00:00:00\", \"2018-04-03T00:00:00\", \"2018-01-08T00:00:00\", \"2017-11-10T00:00:00\", \"2018-02-01T00:00:00\", \"2018-02-27T00:00:00\", \"2018-03-29T00:00:00\", \"2018-04-25T00:00:00\", \"2018-03-15T00:00:00\", \"2018-04-27T00:00:00\", \"2017-10-20T00:00:00\", \"2018-05-19T00:00:00\", \"2018-02-09T00:00:00\", \"2018-03-15T00:00:00\", \"2018-02-02T00:00:00\", \"2018-01-16T00:00:00\", \"2017-08-10T00:00:00\", \"2017-11-20T00:00:00\", \"2017-11-08T00:00:00\", \"2018-02-16T00:00:00\", \"2018-03-10T00:00:00\", \"2018-02-01T00:00:00\", \"2018-05-10T00:00:00\", \"2018-01-24T00:00:00\", \"2018-02-14T00:00:00\", \"2018-02-18T00:00:00\", \"2018-02-23T00:00:00\", \"2018-04-21T00:00:00\", \"2018-01-30T00:00:00\", \"2018-05-10T00:00:00\", \"2018-05-29T00:00:00\", \"2018-02-05T00:00:00\", \"2018-04-09T00:00:00\", \"2018-01-25T00:00:00\", \"2018-03-28T00:00:00\", \"2018-05-28T00:00:00\", \"2018-01-08T00:00:00\", \"2018-01-25T00:00:00\", \"2018-04-07T00:00:00\", \"2017-07-07T00:00:00\", \"2018-01-23T00:00:00\", \"2018-05-09T00:00:00\", \"2018-03-07T00:00:00\", \"2018-05-28T00:00:00\", \"2018-03-27T00:00:00\", \"2018-04-23T00:00:00\", \"2018-03-02T00:00:00\", \"2017-10-11T00:00:00\", \"2018-03-08T00:00:00\", \"2018-05-21T00:00:00\", \"2018-03-13T00:00:00\", \"2017-11-15T00:00:00\", \"2018-04-12T00:00:00\", \"2017-11-10T00:00:00\", \"2018-01-15T00:00:00\", \"2018-02-23T00:00:00\", \"2017-10-21T00:00:00\", \"2018-01-25T00:00:00\", \"2017-10-06T00:00:00\", \"2018-01-22T00:00:00\", \"2018-04-03T00:00:00\", \"2018-04-30T00:00:00\", \"2017-09-23T00:00:00\", \"2018-02-08T00:00:00\", \"2018-04-19T00:00:00\", \"2017-07-28T00:00:00\", \"2018-01-03T00:00:00\", \"2018-05-21T00:00:00\", \"2018-02-21T00:00:00\", \"2018-02-07T00:00:00\", \"2018-04-26T00:00:00\", \"2018-04-25T00:00:00\", \"2018-03-10T00:00:00\", \"2017-10-09T00:00:00\", \"2018-04-18T00:00:00\", \"2018-03-19T00:00:00\", \"2017-09-20T00:00:00\", \"2018-05-09T00:00:00\", \"2018-04-16T00:00:00\", \"2018-01-25T00:00:00\", \"2017-07-07T00:00:00\", \"2017-12-26T00:00:00\", \"2018-04-12T00:00:00\", \"2018-05-31T00:00:00\", \"2018-01-22T00:00:00\", \"2018-01-15T00:00:00\", \"2018-03-25T00:00:00\", \"2017-12-08T00:00:00\", \"2018-04-11T00:00:00\", \"2018-03-21T00:00:00\", \"2018-04-04T00:00:00\", \"2018-03-29T00:00:00\", \"2018-01-26T00:00:00\", \"2018-04-19T00:00:00\", \"2017-11-01T00:00:00\", \"2018-04-18T00:00:00\", \"2018-01-28T00:00:00\", \"2018-05-24T00:00:00\", \"2018-02-21T00:00:00\", \"2018-04-15T00:00:00\", \"2017-10-23T00:00:00\", \"2018-01-06T00:00:00\", \"2018-01-06T00:00:00\", \"2018-01-17T00:00:00\", \"2017-10-04T00:00:00\", \"2018-05-06T00:00:00\", \"2017-10-31T00:00:00\", \"2017-11-25T00:00:00\", \"2018-01-31T00:00:00\", \"2017-10-24T00:00:00\", \"2018-04-16T00:00:00\", \"2018-02-20T00:00:00\", \"2018-04-23T00:00:00\", \"2017-11-16T00:00:00\", \"2017-11-24T00:00:00\", \"2018-02-22T00:00:00\", \"2017-10-16T00:00:00\", \"2017-09-13T00:00:00\", \"2018-05-27T00:00:00\", \"2017-11-01T00:00:00\", \"2018-02-03T00:00:00\", \"2018-05-10T00:00:00\", \"2018-01-27T00:00:00\", \"2018-02-19T00:00:00\", \"2017-10-30T00:00:00\", \"2018-03-14T00:00:00\", \"2018-03-27T00:00:00\", \"2018-05-10T00:00:00\", \"2018-02-19T00:00:00\", \"2018-05-23T00:00:00\", \"2018-05-21T00:00:00\", \"2018-04-26T00:00:00\", \"2018-01-10T00:00:00\", \"2018-04-17T00:00:00\", \"2018-01-18T00:00:00\", \"2018-05-08T00:00:00\", \"2017-08-29T00:00:00\", \"2018-01-07T00:00:00\", \"2018-04-25T00:00:00\", \"2018-02-07T00:00:00\", \"2018-02-21T00:00:00\", \"2018-05-27T00:00:00\", \"2018-05-07T00:00:00\", \"2018-03-05T00:00:00\", \"2018-05-16T00:00:00\", \"2017-08-30T00:00:00\", \"2018-01-08T00:00:00\", \"2018-01-05T00:00:00\", \"2017-07-25T00:00:00\", \"2018-04-12T00:00:00\", \"2018-02-28T00:00:00\", \"2018-03-15T00:00:00\", \"2018-05-03T00:00:00\", \"2018-02-01T00:00:00\", \"2018-03-19T00:00:00\", \"2017-09-04T00:00:00\", \"2017-09-22T00:00:00\", \"2018-03-15T00:00:00\", \"2018-01-02T00:00:00\", \"2017-08-09T00:00:00\", \"2018-01-19T00:00:00\", \"2018-04-03T00:00:00\", \"2018-04-04T00:00:00\", \"2018-02-14T00:00:00\", \"2018-04-01T00:00:00\", \"2017-07-14T00:00:00\", \"2018-03-22T00:00:00\", \"2017-11-27T00:00:00\", \"2017-07-29T00:00:00\", \"2017-09-29T00:00:00\", \"2018-04-03T00:00:00\", \"2018-04-21T00:00:00\", \"2018-05-15T00:00:00\", \"2018-03-06T00:00:00\", \"2018-01-22T00:00:00\", \"2018-04-02T00:00:00\", \"2018-04-25T00:00:00\", \"2018-01-14T00:00:00\", \"2018-03-11T00:00:00\", \"2018-02-07T00:00:00\", \"2017-10-02T00:00:00\", \"2018-01-31T00:00:00\", \"2018-02-02T00:00:00\", \"2018-01-29T00:00:00\", \"2017-10-15T00:00:00\", \"2018-01-23T00:00:00\", \"2018-05-24T00:00:00\", \"2017-11-22T00:00:00\", \"2018-05-07T00:00:00\", \"2018-04-26T00:00:00\", \"2018-01-18T00:00:00\", \"2018-03-22T00:00:00\", \"2018-04-18T00:00:00\", \"2018-02-12T00:00:00\", \"2018-02-04T00:00:00\", \"2018-01-29T00:00:00\", \"2018-05-02T00:00:00\", \"2018-01-30T00:00:00\", \"2017-11-17T00:00:00\", \"2018-03-19T00:00:00\", \"2017-10-07T00:00:00\", \"2017-11-03T00:00:00\", \"2018-03-27T00:00:00\", \"2018-04-05T00:00:00\", \"2018-04-26T00:00:00\", \"2018-03-05T00:00:00\", \"2018-05-24T00:00:00\", \"2017-07-07T00:00:00\", \"2017-11-24T00:00:00\", \"2017-08-16T00:00:00\", \"2018-03-05T00:00:00\", \"2017-08-18T00:00:00\", \"2018-05-16T00:00:00\", \"2017-11-28T00:00:00\", \"2018-05-18T00:00:00\", \"2018-01-21T00:00:00\", \"2018-02-23T00:00:00\", \"2017-08-17T00:00:00\", \"2018-04-16T00:00:00\", \"2018-04-28T00:00:00\", \"2018-03-02T00:00:00\", \"2018-05-17T00:00:00\", \"2017-10-30T00:00:00\", \"2017-09-06T00:00:00\", \"2017-12-09T00:00:00\", \"2018-03-07T00:00:00\", \"2018-04-30T00:00:00\", \"2018-01-29T00:00:00\", \"2018-05-15T00:00:00\", \"2017-10-09T00:00:00\", \"2018-03-22T00:00:00\", \"2018-04-26T00:00:00\", \"2018-05-19T00:00:00\", \"2018-05-08T00:00:00\", \"2018-03-01T00:00:00\", \"2018-03-21T00:00:00\", \"2018-04-12T00:00:00\", \"2018-05-29T00:00:00\", \"2017-07-10T00:00:00\", \"2018-02-07T00:00:00\", \"2018-05-25T00:00:00\", \"2018-04-02T00:00:00\", \"2018-03-25T00:00:00\", \"2018-01-21T00:00:00\", \"2018-02-21T00:00:00\", \"2018-03-05T00:00:00\", \"2018-01-04T00:00:00\", \"2018-04-09T00:00:00\", \"2018-03-10T00:00:00\", \"2017-11-24T00:00:00\", \"2018-01-06T00:00:00\", \"2018-05-28T00:00:00\", \"2018-03-28T00:00:00\", \"2017-12-15T00:00:00\", \"2018-01-25T00:00:00\", \"2017-08-14T00:00:00\", \"2018-01-18T00:00:00\", \"2018-04-04T00:00:00\", \"2018-03-29T00:00:00\", \"2018-05-23T00:00:00\", \"2018-05-21T00:00:00\", \"2018-05-07T00:00:00\", \"2018-05-29T00:00:00\", \"2017-07-12T00:00:00\", \"2018-05-01T00:00:00\", \"2018-03-13T00:00:00\", \"2017-08-02T00:00:00\", \"2018-05-14T00:00:00\", \"2018-05-22T00:00:00\", \"2018-02-03T00:00:00\", \"2018-05-31T00:00:00\", \"2018-02-23T00:00:00\", \"2018-03-28T00:00:00\", \"2017-07-27T00:00:00\", \"2018-03-20T00:00:00\", \"2017-10-01T00:00:00\", \"2018-02-05T00:00:00\", \"2018-02-25T00:00:00\", \"2018-05-17T00:00:00\", \"2018-01-22T00:00:00\", \"2018-03-21T00:00:00\", \"2018-03-18T00:00:00\", \"2018-04-04T00:00:00\", \"2018-02-13T00:00:00\", \"2018-05-09T00:00:00\", \"2017-08-31T00:00:00\", \"2017-11-27T00:00:00\", \"2018-05-25T00:00:00\", \"2018-04-11T00:00:00\", \"2018-04-10T00:00:00\", \"2018-02-25T00:00:00\", \"2018-05-24T00:00:00\", \"2017-10-19T00:00:00\", \"2018-02-19T00:00:00\", \"2018-04-14T00:00:00\", \"2017-09-21T00:00:00\", \"2018-02-12T00:00:00\", \"2018-02-27T00:00:00\", \"2018-03-15T00:00:00\", \"2017-07-17T00:00:00\", \"2017-08-04T00:00:00\", \"2018-05-08T00:00:00\", \"2018-05-10T00:00:00\", \"2018-03-16T00:00:00\", \"2017-10-04T00:00:00\", \"2018-03-06T00:00:00\", \"2018-05-07T00:00:00\", \"2018-02-19T00:00:00\", \"2018-05-07T00:00:00\", \"2018-03-30T00:00:00\", \"2018-01-27T00:00:00\", \"2017-07-05T00:00:00\", \"2018-01-11T00:00:00\", \"2017-09-29T00:00:00\", \"2017-11-09T00:00:00\", \"2018-05-16T00:00:00\", \"2017-07-14T00:00:00\", \"2018-03-15T00:00:00\", \"2018-05-02T00:00:00\", \"2018-04-26T00:00:00\", \"2018-02-17T00:00:00\", \"2018-03-22T00:00:00\", \"2017-10-06T00:00:00\", \"2018-02-21T00:00:00\", \"2018-04-22T00:00:00\", \"2018-05-14T00:00:00\", \"2018-04-02T00:00:00\", \"2018-04-23T00:00:00\", \"2018-02-04T00:00:00\", \"2017-12-17T00:00:00\", \"2018-03-12T00:00:00\", \"2018-03-22T00:00:00\", \"2018-05-31T00:00:00\", \"2018-05-02T00:00:00\", \"2018-05-08T00:00:00\", \"2018-02-01T00:00:00\", \"2017-12-27T00:00:00\", \"2018-04-23T00:00:00\", \"2018-01-03T00:00:00\", \"2018-01-30T00:00:00\", \"2018-03-09T00:00:00\", \"2018-03-17T00:00:00\", \"2018-04-06T00:00:00\", \"2018-04-04T00:00:00\", \"2018-04-05T00:00:00\", \"2018-04-20T00:00:00\", \"2018-04-28T00:00:00\", \"2017-07-15T00:00:00\", \"2018-04-16T00:00:00\", \"2018-02-22T00:00:00\", \"2017-10-18T00:00:00\", \"2018-04-05T00:00:00\", \"2018-05-06T00:00:00\", \"2018-02-26T00:00:00\", \"2017-08-30T00:00:00\", \"2018-01-03T00:00:00\", \"2018-05-13T00:00:00\", \"2017-10-23T00:00:00\", \"2018-02-20T00:00:00\", \"2018-01-04T00:00:00\", \"2017-10-24T00:00:00\", \"2018-01-09T00:00:00\", \"2018-03-21T00:00:00\", \"2017-11-06T00:00:00\", \"2017-10-23T00:00:00\", \"2018-04-04T00:00:00\", \"2017-08-29T00:00:00\", \"2018-01-13T00:00:00\", \"2017-10-31T00:00:00\", \"2018-01-26T00:00:00\", \"2018-01-23T00:00:00\", \"2018-04-04T00:00:00\", \"2018-04-16T00:00:00\", \"2018-02-06T00:00:00\", \"2018-02-06T00:00:00\", \"2017-08-19T00:00:00\", \"2017-07-24T00:00:00\", \"2018-01-05T00:00:00\", \"2018-02-27T00:00:00\", \"2018-05-11T00:00:00\", \"2017-08-25T00:00:00\", \"2018-05-12T00:00:00\", \"2018-01-10T00:00:00\", \"2018-04-27T00:00:00\", \"2017-12-08T00:00:00\", \"2018-01-20T00:00:00\", \"2018-02-26T00:00:00\", \"2018-02-20T00:00:00\", \"2018-05-28T00:00:00\", \"2018-01-09T00:00:00\", \"2018-05-03T00:00:00\", \"2018-01-29T00:00:00\", \"2018-05-22T00:00:00\", \"2018-05-08T00:00:00\", \"2018-03-14T00:00:00\", \"2017-10-23T00:00:00\", \"2018-05-22T00:00:00\", \"2018-04-16T00:00:00\", \"2018-05-10T00:00:00\", \"2018-04-05T00:00:00\", \"2017-10-24T00:00:00\", \"2017-11-13T00:00:00\", \"2018-05-07T00:00:00\", \"2017-10-30T00:00:00\", \"2018-04-29T00:00:00\", \"2017-06-14T00:00:00\", \"2017-11-25T00:00:00\", \"2018-02-28T00:00:00\", \"2017-10-17T00:00:00\", \"2017-10-17T00:00:00\", \"2017-12-01T00:00:00\", \"2018-03-22T00:00:00\", \"2018-04-26T00:00:00\", \"2017-11-03T00:00:00\", \"2017-07-20T00:00:00\", \"2018-01-11T00:00:00\", \"2018-02-08T00:00:00\", \"2018-04-25T00:00:00\", \"2018-03-10T00:00:00\", \"2018-01-16T00:00:00\", \"2018-05-09T00:00:00\", \"2018-01-08T00:00:00\", \"2018-05-24T00:00:00\", \"2018-03-30T00:00:00\", \"2018-04-28T00:00:00\", \"2018-05-17T00:00:00\", \"2018-05-07T00:00:00\", \"2018-05-25T00:00:00\", \"2018-04-26T00:00:00\", \"2018-03-29T00:00:00\", \"2018-05-17T00:00:00\", \"2018-02-08T00:00:00\", \"2018-01-07T00:00:00\", \"2018-01-24T00:00:00\", \"2017-08-24T00:00:00\", \"2018-05-22T00:00:00\", \"2018-05-14T00:00:00\", \"2018-01-02T00:00:00\", \"2017-10-06T00:00:00\", \"2018-01-30T00:00:00\", \"2017-11-24T00:00:00\", \"2018-01-02T00:00:00\", \"2017-07-08T00:00:00\", \"2018-04-19T00:00:00\", \"2017-11-15T00:00:00\", \"2018-02-24T00:00:00\", \"2017-07-17T00:00:00\", \"2018-01-04T00:00:00\", \"2018-03-03T00:00:00\", \"2018-02-02T00:00:00\", \"2018-05-20T00:00:00\", \"2017-08-16T00:00:00\", \"2018-05-22T00:00:00\", \"2017-09-17T00:00:00\", \"2017-12-25T00:00:00\", \"2018-01-19T00:00:00\", \"2018-03-17T00:00:00\", \"2018-01-12T00:00:00\", \"2018-04-08T00:00:00\", \"2018-03-18T00:00:00\", \"2018-05-04T00:00:00\", \"2017-10-25T00:00:00\", \"2018-03-23T00:00:00\", \"2018-01-12T00:00:00\", \"2017-09-14T00:00:00\", \"2018-05-21T00:00:00\", \"2018-04-26T00:00:00\", \"2018-05-03T00:00:00\", \"2018-03-26T00:00:00\", \"2018-02-20T00:00:00\", \"2018-02-14T00:00:00\", \"2018-04-19T00:00:00\", \"2018-03-06T00:00:00\", \"2018-01-23T00:00:00\", \"2018-03-09T00:00:00\", \"2018-01-07T00:00:00\", \"2017-09-18T00:00:00\", \"2018-01-31T00:00:00\", \"2018-01-29T00:00:00\", \"2018-04-09T00:00:00\", \"2018-05-21T00:00:00\", \"2017-11-01T00:00:00\", \"2018-03-12T00:00:00\", \"2018-05-04T00:00:00\", \"2018-04-02T00:00:00\", \"2018-05-14T00:00:00\", \"2018-04-27T00:00:00\", \"2018-01-09T00:00:00\", \"2018-02-26T00:00:00\", \"2018-01-09T00:00:00\", \"2017-08-01T00:00:00\", \"2018-04-30T00:00:00\", \"2018-01-29T00:00:00\", \"2018-04-20T00:00:00\", \"2018-03-14T00:00:00\", \"2018-03-15T00:00:00\", \"2018-05-11T00:00:00\", \"2018-05-21T00:00:00\", \"2018-01-15T00:00:00\", \"2018-01-03T00:00:00\", \"2018-05-14T00:00:00\", \"2017-09-19T00:00:00\", \"2018-01-18T00:00:00\", \"2018-05-08T00:00:00\", \"2017-11-03T00:00:00\", \"2018-04-27T00:00:00\", \"2018-01-17T00:00:00\", \"2017-09-29T00:00:00\", \"2018-05-03T00:00:00\", \"2017-10-26T00:00:00\", \"2018-02-26T00:00:00\", \"2018-04-13T00:00:00\", \"2018-01-15T00:00:00\", \"2018-05-02T00:00:00\", \"2017-07-07T00:00:00\", \"2018-01-25T00:00:00\", \"2017-08-29T00:00:00\", \"2018-03-20T00:00:00\", \"2018-02-23T00:00:00\", \"2018-04-28T00:00:00\", \"2017-08-14T00:00:00\", \"2018-03-09T00:00:00\", \"2018-02-19T00:00:00\", \"2018-01-09T00:00:00\", \"2018-02-26T00:00:00\", \"2018-04-19T00:00:00\", \"2018-01-16T00:00:00\", \"2018-05-22T00:00:00\", \"2018-04-03T00:00:00\", \"2018-04-15T00:00:00\", \"2018-01-12T00:00:00\", \"2018-05-07T00:00:00\", \"2017-09-21T00:00:00\", \"2017-10-26T00:00:00\", \"2018-03-06T00:00:00\", \"2018-04-22T00:00:00\", \"2018-04-10T00:00:00\", \"2018-01-18T00:00:00\", \"2018-02-16T00:00:00\", \"2018-01-26T00:00:00\", \"2018-04-04T00:00:00\", \"2017-07-03T00:00:00\", \"2018-03-26T00:00:00\", \"2018-05-28T00:00:00\", \"2017-10-31T00:00:00\", \"2018-01-02T00:00:00\", \"2018-03-01T00:00:00\", \"2018-05-03T00:00:00\", \"2018-05-15T00:00:00\", \"2018-03-31T00:00:00\", \"2017-11-11T00:00:00\", \"2018-05-10T00:00:00\", \"2017-07-22T00:00:00\", \"2018-03-30T00:00:00\", \"2018-02-16T00:00:00\", \"2018-04-10T00:00:00\", \"2018-03-11T00:00:00\", \"2017-09-04T00:00:00\", \"2018-05-14T00:00:00\", \"2018-03-31T00:00:00\", \"2017-10-07T00:00:00\", \"2018-01-31T00:00:00\", \"2018-01-07T00:00:00\", \"2018-02-12T00:00:00\", \"2017-12-25T00:00:00\", \"2018-03-12T00:00:00\", \"2018-03-16T00:00:00\", \"2018-05-01T00:00:00\", \"2018-03-23T00:00:00\", \"2018-03-12T00:00:00\", \"2018-05-10T00:00:00\", \"2017-07-04T00:00:00\", \"2018-05-30T00:00:00\", \"2018-01-30T00:00:00\", \"2018-01-21T00:00:00\", \"2018-04-30T00:00:00\", \"2017-09-26T00:00:00\", \"2018-03-22T00:00:00\", \"2018-04-30T00:00:00\", \"2018-01-26T00:00:00\", \"2017-08-16T00:00:00\", \"2017-08-01T00:00:00\", \"2018-04-08T00:00:00\", \"2017-10-04T00:00:00\", \"2018-05-15T00:00:00\", \"2018-05-24T00:00:00\", \"2018-04-06T00:00:00\", \"2018-01-02T00:00:00\", \"2018-01-15T00:00:00\", \"2017-09-20T00:00:00\", \"2018-02-24T00:00:00\", \"2018-02-27T00:00:00\", \"2018-02-22T00:00:00\", \"2018-05-25T00:00:00\", \"2018-03-06T00:00:00\", \"2018-05-08T00:00:00\", \"2017-09-09T00:00:00\", \"2018-03-10T00:00:00\", \"2018-04-24T00:00:00\", \"2018-02-06T00:00:00\", \"2017-08-08T00:00:00\", \"2018-01-30T00:00:00\", \"2017-11-09T00:00:00\", \"2017-08-20T00:00:00\", \"2018-05-17T00:00:00\", \"2018-05-01T00:00:00\", \"2018-01-27T00:00:00\", \"2018-04-01T00:00:00\", \"2018-01-09T00:00:00\", \"2018-01-29T00:00:00\", \"2018-03-18T00:00:00\", \"2017-07-22T00:00:00\", \"2018-03-12T00:00:00\", \"2018-03-01T00:00:00\", \"2017-08-15T00:00:00\", \"2017-10-24T00:00:00\", \"2018-05-10T00:00:00\", \"2018-03-21T00:00:00\", \"2018-03-07T00:00:00\", \"2018-05-19T00:00:00\", \"2018-02-26T00:00:00\", \"2017-09-05T00:00:00\", \"2018-04-30T00:00:00\", \"2018-03-13T00:00:00\", \"2017-12-28T00:00:00\", \"2018-01-18T00:00:00\", \"2018-05-14T00:00:00\", \"2017-08-29T00:00:00\", \"2018-04-27T00:00:00\", \"2018-02-13T00:00:00\", \"2018-02-05T00:00:00\", \"2018-05-15T00:00:00\", \"2017-08-01T00:00:00\", \"2018-05-30T00:00:00\", \"2018-04-02T00:00:00\", \"2018-01-10T00:00:00\", \"2018-04-01T00:00:00\", \"2018-02-19T00:00:00\", \"2017-09-01T00:00:00\", \"2018-05-27T00:00:00\", \"2018-03-23T00:00:00\", \"2018-02-08T00:00:00\", \"2018-03-28T00:00:00\", \"2018-05-02T00:00:00\", \"2018-04-05T00:00:00\", \"2018-05-05T00:00:00\", \"2017-09-05T00:00:00\", \"2018-01-31T00:00:00\", \"2018-02-17T00:00:00\", \"2018-01-22T00:00:00\", \"2018-05-26T00:00:00\", \"2018-04-22T00:00:00\", \"2018-04-25T00:00:00\", \"2017-12-23T00:00:00\", \"2017-08-02T00:00:00\", \"2018-05-04T00:00:00\", \"2018-02-26T00:00:00\", \"2018-03-27T00:00:00\", \"2018-04-05T00:00:00\", \"2018-04-16T00:00:00\", \"2018-01-17T00:00:00\", \"2018-01-05T00:00:00\", \"2018-02-14T00:00:00\", \"2018-01-11T00:00:00\", \"2018-01-07T00:00:00\", \"2018-05-04T00:00:00\", \"2018-04-17T00:00:00\", \"2018-05-30T00:00:00\", \"2018-04-28T00:00:00\", \"2018-05-14T00:00:00\", \"2018-02-07T00:00:00\", \"2018-04-05T00:00:00\", \"2018-04-29T00:00:00\", \"2017-11-07T00:00:00\", \"2018-01-22T00:00:00\", \"2018-03-16T00:00:00\", \"2018-03-02T00:00:00\", \"2018-05-22T00:00:00\", \"2018-04-15T00:00:00\", \"2017-11-29T00:00:00\", \"2018-04-30T00:00:00\", \"2018-04-23T00:00:00\", \"2017-12-01T00:00:00\", \"2017-08-01T00:00:00\", \"2017-08-22T00:00:00\", \"2018-04-10T00:00:00\", \"2018-05-30T00:00:00\", \"2018-04-23T00:00:00\", \"2018-02-21T00:00:00\", \"2018-01-08T00:00:00\", \"2018-04-16T00:00:00\", \"2017-11-21T00:00:00\", \"2017-10-31T00:00:00\", \"2018-01-22T00:00:00\", \"2018-03-08T00:00:00\", \"2017-07-11T00:00:00\", \"2018-01-17T00:00:00\", \"2018-03-16T00:00:00\", \"2017-07-27T00:00:00\", \"2018-05-17T00:00:00\", \"2017-11-17T00:00:00\", \"2018-05-09T00:00:00\", \"2018-01-15T00:00:00\", \"2018-05-09T00:00:00\", \"2018-02-20T00:00:00\", \"2018-04-09T00:00:00\", \"2018-02-21T00:00:00\", \"2017-09-09T00:00:00\", \"2018-01-31T00:00:00\", \"2017-11-16T00:00:00\", \"2017-10-27T00:00:00\", \"2018-01-14T00:00:00\", \"2018-02-16T00:00:00\", \"2017-08-24T00:00:00\", \"2018-02-23T00:00:00\", \"2017-09-22T00:00:00\", \"2018-03-14T00:00:00\", \"2017-10-13T00:00:00\", \"2018-03-04T00:00:00\", \"2018-05-29T00:00:00\", \"2018-01-11T00:00:00\", \"2018-04-06T00:00:00\", \"2018-01-25T00:00:00\", \"2018-03-05T00:00:00\", \"2018-01-17T00:00:00\", \"2017-08-10T00:00:00\", \"2018-03-12T00:00:00\", \"2018-04-10T00:00:00\", \"2018-05-27T00:00:00\", \"2018-04-07T00:00:00\", \"2018-01-10T00:00:00\", \"2018-05-14T00:00:00\", \"2018-01-11T00:00:00\", \"2018-01-15T00:00:00\", \"2018-04-18T00:00:00\", \"2018-02-28T00:00:00\", \"2018-05-04T00:00:00\", \"2018-03-28T00:00:00\", \"2018-02-28T00:00:00\", \"2017-07-20T00:00:00\", \"2018-04-23T00:00:00\", \"2017-10-18T00:00:00\", \"2018-05-21T00:00:00\", \"2018-01-10T00:00:00\", \"2017-10-16T00:00:00\", \"2018-05-15T00:00:00\", \"2018-01-14T00:00:00\", \"2017-11-13T00:00:00\", \"2018-04-17T00:00:00\", \"2018-04-11T00:00:00\", \"2018-04-28T00:00:00\", \"2018-03-26T00:00:00\", \"2017-11-26T00:00:00\", \"2017-11-08T00:00:00\", \"2018-04-03T00:00:00\", \"2018-04-02T00:00:00\", \"2017-09-08T00:00:00\", \"2018-03-04T00:00:00\", \"2018-02-02T00:00:00\", \"2017-08-24T00:00:00\", \"2018-03-28T00:00:00\", \"2018-05-04T00:00:00\", \"2018-02-06T00:00:00\", \"2017-12-18T00:00:00\", \"2018-02-20T00:00:00\", \"2018-04-09T00:00:00\", \"2018-03-24T00:00:00\", \"2017-08-05T00:00:00\", \"2018-05-21T00:00:00\", \"2018-03-29T00:00:00\", \"2018-04-04T00:00:00\", \"2017-09-29T00:00:00\", \"2018-04-12T00:00:00\", \"2017-11-27T00:00:00\", \"2018-03-23T00:00:00\", \"2017-11-29T00:00:00\", \"2017-12-28T00:00:00\", \"2018-03-22T00:00:00\", \"2017-08-01T00:00:00\", \"2018-04-19T00:00:00\", \"2018-03-01T00:00:00\", \"2017-12-02T00:00:00\", \"2017-09-23T00:00:00\", \"2018-03-18T00:00:00\", \"2017-07-06T00:00:00\", \"2018-04-02T00:00:00\", \"2018-02-28T00:00:00\", \"2017-09-21T00:00:00\", \"2017-09-13T00:00:00\", \"2018-01-24T00:00:00\", \"2018-02-16T00:00:00\", \"2017-10-26T00:00:00\", \"2017-12-26T00:00:00\", \"2018-04-06T00:00:00\", \"2018-03-19T00:00:00\", \"2017-11-30T00:00:00\", \"2018-01-17T00:00:00\", \"2018-05-05T00:00:00\", \"2018-05-07T00:00:00\", \"2018-03-19T00:00:00\", \"2018-03-06T00:00:00\", \"2018-03-13T00:00:00\", \"2018-05-23T00:00:00\", \"2018-03-15T00:00:00\", \"2018-05-29T00:00:00\", \"2017-11-07T00:00:00\", \"2018-02-01T00:00:00\", \"2017-11-27T00:00:00\", \"2018-01-25T00:00:00\", \"2017-07-19T00:00:00\", \"2018-04-29T00:00:00\", \"2018-02-07T00:00:00\", \"2018-01-30T00:00:00\", \"2018-05-16T00:00:00\", \"2018-03-11T00:00:00\", \"2017-12-18T00:00:00\", \"2018-04-30T00:00:00\", \"2018-02-13T00:00:00\", \"2018-05-24T00:00:00\", \"2018-02-28T00:00:00\", \"2018-01-31T00:00:00\", \"2018-05-08T00:00:00\", \"2017-08-16T00:00:00\", \"2018-04-19T00:00:00\", \"2018-03-09T00:00:00\", \"2017-10-06T00:00:00\", \"2018-03-06T00:00:00\", \"2018-05-20T00:00:00\", \"2017-10-09T00:00:00\", \"2018-05-15T00:00:00\", \"2017-11-08T00:00:00\", \"2018-04-17T00:00:00\", \"2018-03-23T00:00:00\", \"2018-02-09T00:00:00\", \"2018-03-27T00:00:00\", \"2018-03-21T00:00:00\", \"2018-02-15T00:00:00\", \"2018-01-08T00:00:00\", \"2018-03-27T00:00:00\", \"2018-01-31T00:00:00\", \"2018-03-20T00:00:00\", \"2018-01-18T00:00:00\", \"2018-05-04T00:00:00\", \"2017-08-02T00:00:00\", \"2017-08-11T00:00:00\", \"2017-08-17T00:00:00\", \"2018-02-02T00:00:00\", \"2018-02-01T00:00:00\", \"2018-02-15T00:00:00\", \"2018-04-17T00:00:00\", \"2017-08-20T00:00:00\", \"2018-04-09T00:00:00\", \"2018-02-02T00:00:00\", \"2018-02-26T00:00:00\", \"2018-01-07T00:00:00\", \"2018-04-10T00:00:00\", \"2018-05-10T00:00:00\", \"2018-04-02T00:00:00\", \"2018-02-02T00:00:00\", \"2018-05-01T00:00:00\", \"2018-04-09T00:00:00\", \"2018-05-02T00:00:00\", \"2017-10-23T00:00:00\", \"2018-03-07T00:00:00\", \"2018-03-19T00:00:00\", \"2018-05-03T00:00:00\", \"2017-07-31T00:00:00\", \"2018-01-28T00:00:00\", \"2017-07-24T00:00:00\", \"2017-10-11T00:00:00\", \"2018-03-12T00:00:00\", \"2018-05-20T00:00:00\", \"2018-04-19T00:00:00\", \"2018-05-18T00:00:00\", \"2018-01-31T00:00:00\", \"2018-01-02T00:00:00\", \"2017-11-23T00:00:00\", \"2017-08-16T00:00:00\", \"2018-03-16T00:00:00\", \"2018-03-08T00:00:00\", \"2018-01-04T00:00:00\", \"2018-03-21T00:00:00\", \"2017-11-21T00:00:00\", \"2018-04-12T00:00:00\", \"2017-08-30T00:00:00\", \"2018-05-10T00:00:00\", \"2017-09-24T00:00:00\", \"2018-01-16T00:00:00\", \"2018-03-13T00:00:00\", \"2018-04-05T00:00:00\", \"2018-02-26T00:00:00\", \"2018-03-30T00:00:00\", \"2018-02-21T00:00:00\", \"2018-03-19T00:00:00\", \"2018-05-29T00:00:00\", \"2018-03-05T00:00:00\", \"2017-08-22T00:00:00\", \"2018-01-13T00:00:00\", \"2018-04-18T00:00:00\", \"2018-05-19T00:00:00\", \"2017-11-30T00:00:00\", \"2018-05-24T00:00:00\", \"2018-01-26T00:00:00\", \"2018-02-19T00:00:00\", \"2018-03-15T00:00:00\", \"2018-01-17T00:00:00\", \"2018-04-13T00:00:00\", \"2018-05-14T00:00:00\", \"2018-03-28T00:00:00\", \"2018-01-26T00:00:00\", \"2018-01-08T00:00:00\", \"2018-01-22T00:00:00\", \"2018-04-28T00:00:00\", \"2018-01-17T00:00:00\", \"2018-03-27T00:00:00\", \"2018-01-30T00:00:00\", \"2018-02-26T00:00:00\", \"2018-02-06T00:00:00\", \"2018-01-19T00:00:00\", \"2018-03-23T00:00:00\", \"2018-03-15T00:00:00\", \"2018-03-29T00:00:00\", \"2018-01-26T00:00:00\", \"2017-11-26T00:00:00\", \"2017-11-09T00:00:00\", \"2018-04-18T00:00:00\", \"2018-04-04T00:00:00\", \"2018-01-12T00:00:00\", \"2018-03-01T00:00:00\", \"2018-03-16T00:00:00\", \"2018-03-23T00:00:00\", \"2017-09-01T00:00:00\", \"2018-04-17T00:00:00\", \"2018-04-24T00:00:00\", \"2018-04-13T00:00:00\", \"2017-11-18T00:00:00\", \"2018-01-30T00:00:00\", \"2018-02-27T00:00:00\", \"2018-04-23T00:00:00\", \"2017-09-12T00:00:00\", \"2018-03-15T00:00:00\", \"2018-01-10T00:00:00\", \"2018-03-09T00:00:00\", \"2018-05-02T00:00:00\", \"2017-11-01T00:00:00\", \"2018-04-11T00:00:00\", \"2018-04-04T00:00:00\", \"2017-08-07T00:00:00\", \"2017-09-10T00:00:00\", \"2018-04-21T00:00:00\", \"2017-09-21T00:00:00\", \"2018-03-11T00:00:00\", \"2018-01-08T00:00:00\", \"2018-01-07T00:00:00\", \"2018-04-20T00:00:00\", \"2018-03-07T00:00:00\", \"2018-01-03T00:00:00\", \"2018-01-10T00:00:00\", \"2018-03-21T00:00:00\", \"2018-05-28T00:00:00\", \"2018-02-27T00:00:00\", \"2018-01-17T00:00:00\", \"2018-04-19T00:00:00\", \"2018-04-14T00:00:00\", \"2018-05-18T00:00:00\", \"2018-02-26T00:00:00\", \"2018-05-31T00:00:00\", \"2018-05-31T00:00:00\", \"2018-02-14T00:00:00\", \"2017-07-20T00:00:00\", \"2018-05-04T00:00:00\", \"2018-04-19T00:00:00\", \"2018-01-18T00:00:00\", \"2018-04-19T00:00:00\", \"2017-10-27T00:00:00\", \"2017-10-23T00:00:00\", \"2018-01-04T00:00:00\", \"2017-12-31T00:00:00\", \"2018-04-11T00:00:00\", \"2017-08-29T00:00:00\", \"2018-01-31T00:00:00\", \"2018-01-08T00:00:00\", \"2017-08-25T00:00:00\", \"2018-03-18T00:00:00\", \"2018-05-28T00:00:00\", \"2018-01-31T00:00:00\", \"2018-01-30T00:00:00\", \"2018-03-24T00:00:00\", \"2018-01-26T00:00:00\", \"2018-05-23T00:00:00\", \"2018-01-12T00:00:00\", \"2018-03-29T00:00:00\", \"2018-04-02T00:00:00\", \"2017-09-04T00:00:00\", \"2017-08-01T00:00:00\", \"2017-10-19T00:00:00\", \"2017-09-04T00:00:00\", \"2018-05-24T00:00:00\", \"2018-02-05T00:00:00\", \"2018-04-28T00:00:00\", \"2018-03-28T00:00:00\", \"2018-04-09T00:00:00\", \"2018-05-22T00:00:00\", \"2017-08-27T00:00:00\", \"2017-08-24T00:00:00\", \"2017-08-09T00:00:00\", \"2018-03-06T00:00:00\", \"2018-04-19T00:00:00\", \"2018-05-07T00:00:00\", \"2018-05-20T00:00:00\", \"2018-04-16T00:00:00\", \"2018-05-20T00:00:00\", \"2018-04-22T00:00:00\", \"2017-07-12T00:00:00\", \"2018-03-06T00:00:00\", \"2017-08-04T00:00:00\", \"2017-10-27T00:00:00\", \"2017-08-11T00:00:00\", \"2018-04-25T00:00:00\", \"2018-05-03T00:00:00\", \"2018-01-22T00:00:00\", \"2018-01-07T00:00:00\", \"2018-03-08T00:00:00\", \"2018-01-30T00:00:00\", \"2018-01-04T00:00:00\", \"2018-01-15T00:00:00\", \"2018-04-17T00:00:00\", \"2018-03-09T00:00:00\", \"2018-04-19T00:00:00\", \"2018-02-01T00:00:00\", \"2018-05-22T00:00:00\", \"2018-04-18T00:00:00\", \"2018-02-01T00:00:00\", \"2018-05-16T00:00:00\", \"2017-07-25T00:00:00\", \"2017-08-10T00:00:00\", \"2018-04-26T00:00:00\", \"2018-04-30T00:00:00\", \"2017-09-20T00:00:00\", \"2018-01-21T00:00:00\", \"2018-04-19T00:00:00\", \"2018-02-06T00:00:00\", \"2017-11-21T00:00:00\", \"2017-08-27T00:00:00\", \"2018-04-16T00:00:00\", \"2018-05-17T00:00:00\", \"2018-04-20T00:00:00\", \"2018-03-14T00:00:00\", \"2018-03-20T00:00:00\", \"2018-04-19T00:00:00\", \"2018-05-18T00:00:00\", \"2018-01-08T00:00:00\", \"2018-02-08T00:00:00\", \"2018-01-03T00:00:00\", \"2018-01-10T00:00:00\", \"2018-02-22T00:00:00\", \"2017-08-22T00:00:00\", \"2017-09-15T00:00:00\", \"2018-02-07T00:00:00\", \"2018-01-17T00:00:00\", \"2018-04-24T00:00:00\", \"2018-04-03T00:00:00\", \"2018-01-08T00:00:00\", \"2018-01-30T00:00:00\", \"2018-01-12T00:00:00\", \"2018-04-26T00:00:00\", \"2018-03-12T00:00:00\", \"2018-03-12T00:00:00\", \"2018-04-04T00:00:00\", \"2017-10-10T00:00:00\", \"2018-02-27T00:00:00\", \"2018-05-15T00:00:00\", \"2017-09-13T00:00:00\", \"2018-01-30T00:00:00\", \"2017-11-14T00:00:00\", \"2018-03-13T00:00:00\", \"2018-05-02T00:00:00\", \"2018-04-12T00:00:00\", \"2018-03-05T00:00:00\", \"2017-11-21T00:00:00\", \"2018-02-22T00:00:00\", \"2017-08-01T00:00:00\", \"2017-09-25T00:00:00\", \"2017-12-27T00:00:00\", \"2018-04-19T00:00:00\", \"2018-02-20T00:00:00\", \"2018-03-23T00:00:00\", \"2018-02-23T00:00:00\", \"2018-05-15T00:00:00\", \"2018-02-28T00:00:00\", \"2017-11-28T00:00:00\", \"2018-02-01T00:00:00\", \"2018-02-21T00:00:00\", \"2017-08-28T00:00:00\", \"2018-02-19T00:00:00\", \"2018-05-04T00:00:00\", \"2018-03-02T00:00:00\", \"2018-05-12T00:00:00\", \"2017-07-14T00:00:00\", \"2018-02-13T00:00:00\", \"2017-11-24T00:00:00\", \"2017-10-23T00:00:00\", \"2018-02-08T00:00:00\", \"2018-04-18T00:00:00\", \"2018-05-09T00:00:00\", \"2017-10-20T00:00:00\", \"2017-07-11T00:00:00\", \"2018-03-16T00:00:00\", \"2017-06-20T00:00:00\", \"2017-11-03T00:00:00\", \"2018-01-02T00:00:00\", \"2017-08-17T00:00:00\", \"2017-09-13T00:00:00\", \"2018-01-11T00:00:00\", \"2017-08-11T00:00:00\", \"2017-07-18T00:00:00\", \"2017-11-03T00:00:00\", \"2017-09-17T00:00:00\", \"2018-04-02T00:00:00\", \"2018-03-16T00:00:00\", \"2017-08-31T00:00:00\", \"2017-09-20T00:00:00\", \"2018-01-17T00:00:00\", \"2018-01-06T00:00:00\", \"2018-02-27T00:00:00\", \"2017-10-18T00:00:00\", \"2017-09-04T00:00:00\", \"2018-01-30T00:00:00\", \"2018-02-14T00:00:00\", \"2018-04-05T00:00:00\", \"2018-03-23T00:00:00\", \"2018-05-09T00:00:00\", \"2018-03-22T00:00:00\", \"2017-09-07T00:00:00\", \"2018-03-20T00:00:00\", \"2017-10-01T00:00:00\", \"2017-09-20T00:00:00\", \"2018-04-14T00:00:00\", \"2018-02-20T00:00:00\", \"2017-11-10T00:00:00\", \"2018-04-11T00:00:00\", \"2018-04-30T00:00:00\", \"2018-05-22T00:00:00\", \"2018-05-09T00:00:00\", \"2017-09-20T00:00:00\", \"2017-09-19T00:00:00\", \"2017-11-28T00:00:00\", \"2018-02-21T00:00:00\", \"2018-05-24T00:00:00\", \"2018-01-25T00:00:00\", \"2018-03-05T00:00:00\", \"2017-11-20T00:00:00\", \"2018-03-29T00:00:00\", \"2018-05-24T00:00:00\", \"2018-05-22T00:00:00\", \"2018-05-02T00:00:00\", \"2018-02-15T00:00:00\", \"2018-04-27T00:00:00\", \"2017-07-31T00:00:00\", \"2018-04-28T00:00:00\", \"2018-05-28T00:00:00\", \"2018-02-15T00:00:00\", \"2017-11-26T00:00:00\", \"2017-11-29T00:00:00\", \"2017-12-01T00:00:00\", \"2018-02-27T00:00:00\", \"2018-04-18T00:00:00\", \"2018-02-03T00:00:00\", \"2018-01-11T00:00:00\", \"2018-05-02T00:00:00\", \"2017-08-03T00:00:00\", \"2018-05-02T00:00:00\", \"2018-04-03T00:00:00\", \"2018-01-05T00:00:00\", \"2018-02-19T00:00:00\", \"2018-05-15T00:00:00\", \"2018-05-07T00:00:00\", \"2018-03-12T00:00:00\", \"2018-04-21T00:00:00\", \"2018-02-19T00:00:00\", \"2017-10-04T00:00:00\", \"2018-01-14T00:00:00\", \"2018-05-03T00:00:00\", \"2018-04-25T00:00:00\", \"2018-04-07T00:00:00\", \"2018-02-07T00:00:00\", \"2018-04-10T00:00:00\", \"2018-05-21T00:00:00\", \"2018-01-08T00:00:00\", \"2017-10-20T00:00:00\", \"2018-03-04T00:00:00\", \"2018-01-18T00:00:00\", \"2018-04-03T00:00:00\", \"2018-01-05T00:00:00\", \"2018-04-03T00:00:00\", \"2017-07-13T00:00:00\", \"2018-04-20T00:00:00\", \"2017-12-25T00:00:00\", \"2017-11-21T00:00:00\", \"2018-02-06T00:00:00\", \"2018-03-24T00:00:00\", \"2017-08-13T00:00:00\", \"2018-01-27T00:00:00\", \"2018-03-01T00:00:00\", \"2017-10-16T00:00:00\", \"2018-01-08T00:00:00\", \"2017-10-23T00:00:00\", \"2017-11-21T00:00:00\", \"2018-05-10T00:00:00\", \"2018-01-25T00:00:00\", \"2018-05-25T00:00:00\", \"2018-02-07T00:00:00\", \"2017-08-25T00:00:00\", \"2018-04-30T00:00:00\", \"2018-04-10T00:00:00\", \"2017-10-07T00:00:00\", \"2018-01-08T00:00:00\", \"2018-01-07T00:00:00\", \"2018-01-22T00:00:00\", \"2018-04-08T00:00:00\", \"2017-09-07T00:00:00\", \"2018-01-10T00:00:00\", \"2018-04-19T00:00:00\", \"2018-04-14T00:00:00\", \"2018-04-27T00:00:00\", \"2018-04-01T00:00:00\", \"2018-04-26T00:00:00\", \"2018-02-07T00:00:00\", \"2018-02-12T00:00:00\", \"2018-02-15T00:00:00\", \"2018-05-02T00:00:00\", \"2018-03-27T00:00:00\", \"2018-05-14T00:00:00\", \"2018-05-17T00:00:00\", \"2018-01-17T00:00:00\", \"2017-07-07T00:00:00\", \"2018-02-21T00:00:00\", \"2018-03-28T00:00:00\", \"2018-02-19T00:00:00\", \"2018-01-16T00:00:00\", \"2018-05-07T00:00:00\", \"2018-01-13T00:00:00\", \"2018-03-21T00:00:00\", \"2018-01-16T00:00:00\", \"2018-04-09T00:00:00\", \"2018-02-01T00:00:00\", \"2018-01-07T00:00:00\", \"2017-11-10T00:00:00\", \"2018-04-20T00:00:00\", \"2018-01-20T00:00:00\", \"2018-01-15T00:00:00\", \"2018-04-25T00:00:00\", \"2018-04-05T00:00:00\", \"2018-02-24T00:00:00\", \"2018-04-11T00:00:00\", \"2018-05-09T00:00:00\", \"2018-05-15T00:00:00\", \"2018-05-15T00:00:00\", \"2018-02-05T00:00:00\", \"2018-05-03T00:00:00\", \"2017-11-26T00:00:00\", \"2018-05-16T00:00:00\", \"2017-09-13T00:00:00\", \"2017-08-08T00:00:00\", \"2018-02-26T00:00:00\", \"2018-02-04T00:00:00\", \"2018-03-26T00:00:00\", \"2018-01-31T00:00:00\", \"2018-04-25T00:00:00\", \"2018-05-30T00:00:00\", \"2018-04-26T00:00:00\", \"2018-04-24T00:00:00\", \"2018-04-26T00:00:00\", \"2017-11-29T00:00:00\", \"2017-12-26T00:00:00\", \"2018-04-30T00:00:00\", \"2018-01-29T00:00:00\", \"2018-02-17T00:00:00\", \"2018-03-13T00:00:00\", \"2018-05-16T00:00:00\", \"2018-04-27T00:00:00\", \"2018-03-21T00:00:00\", \"2018-01-26T00:00:00\", \"2018-05-08T00:00:00\", \"2018-04-27T00:00:00\", \"2018-04-08T00:00:00\", \"2018-04-03T00:00:00\", \"2017-10-25T00:00:00\", \"2018-02-24T00:00:00\", \"2017-07-31T00:00:00\", \"2018-04-20T00:00:00\", \"2017-09-15T00:00:00\", \"2017-07-19T00:00:00\", \"2018-05-25T00:00:00\", \"2018-03-12T00:00:00\", \"2018-04-11T00:00:00\", \"2018-01-17T00:00:00\", \"2017-07-13T00:00:00\", \"2018-04-06T00:00:00\", \"2018-01-06T00:00:00\", \"2017-11-24T00:00:00\", \"2018-04-17T00:00:00\", \"2017-10-21T00:00:00\", \"2018-01-09T00:00:00\", \"2018-05-24T00:00:00\", \"2017-08-15T00:00:00\", \"2017-11-22T00:00:00\", \"2018-02-28T00:00:00\", \"2018-03-03T00:00:00\", \"2017-08-19T00:00:00\", \"2018-01-04T00:00:00\", \"2018-04-13T00:00:00\", \"2018-03-07T00:00:00\", \"2018-05-30T00:00:00\", \"2017-10-26T00:00:00\", \"2018-04-25T00:00:00\", \"2018-01-09T00:00:00\", \"2018-01-07T00:00:00\", \"2018-01-31T00:00:00\", \"2018-04-03T00:00:00\", \"2018-05-27T00:00:00\", \"2018-05-14T00:00:00\", \"2018-03-26T00:00:00\", \"2017-11-21T00:00:00\", \"2017-07-19T00:00:00\", \"2018-03-20T00:00:00\", \"2017-12-19T00:00:00\", \"2018-02-28T00:00:00\", \"2018-03-21T00:00:00\", \"2018-03-12T00:00:00\", \"2018-01-11T00:00:00\", \"2018-03-06T00:00:00\", \"2018-03-30T00:00:00\", \"2017-09-26T00:00:00\", \"2018-05-24T00:00:00\", \"2018-02-07T00:00:00\", \"2018-04-30T00:00:00\", \"2017-07-19T00:00:00\", \"2018-03-21T00:00:00\", \"2017-11-17T00:00:00\", \"2018-03-30T00:00:00\", \"2018-05-21T00:00:00\", \"2018-02-14T00:00:00\", \"2018-01-09T00:00:00\", \"2018-05-25T00:00:00\", \"2018-04-11T00:00:00\", \"2018-01-30T00:00:00\", \"2017-11-02T00:00:00\", \"2018-04-19T00:00:00\", \"2018-04-08T00:00:00\", \"2017-08-17T00:00:00\", \"2017-07-20T00:00:00\", \"2018-02-01T00:00:00\", \"2017-09-20T00:00:00\", \"2018-03-15T00:00:00\", \"2018-04-17T00:00:00\", \"2018-04-20T00:00:00\", \"2017-08-27T00:00:00\", \"2018-02-15T00:00:00\", \"2017-11-13T00:00:00\", \"2018-01-31T00:00:00\", \"2018-05-09T00:00:00\", \"2018-03-21T00:00:00\", \"2018-05-15T00:00:00\", \"2017-11-03T00:00:00\", \"2018-05-10T00:00:00\", \"2018-01-06T00:00:00\", \"2018-04-04T00:00:00\", \"2018-03-22T00:00:00\", \"2018-02-03T00:00:00\", \"2017-11-15T00:00:00\", \"2017-08-10T00:00:00\", \"2017-09-27T00:00:00\", \"2018-04-25T00:00:00\", \"2017-09-15T00:00:00\", \"2017-08-31T00:00:00\", \"2017-08-16T00:00:00\", \"2018-03-02T00:00:00\", \"2018-05-22T00:00:00\", \"2017-07-18T00:00:00\", \"2018-03-26T00:00:00\", \"2018-05-01T00:00:00\", \"2017-08-02T00:00:00\", \"2018-02-06T00:00:00\", \"2018-05-29T00:00:00\", \"2018-01-21T00:00:00\", \"2018-01-29T00:00:00\", \"2018-01-13T00:00:00\", \"2017-10-25T00:00:00\", \"2018-05-20T00:00:00\", \"2017-10-21T00:00:00\", \"2017-10-25T00:00:00\", \"2018-05-08T00:00:00\", \"2018-04-28T00:00:00\", \"2018-04-19T00:00:00\", \"2018-03-05T00:00:00\", \"2018-04-26T00:00:00\", \"2018-05-24T00:00:00\", \"2018-03-13T00:00:00\", \"2018-02-09T00:00:00\", \"2018-03-14T00:00:00\", \"2017-09-06T00:00:00\", \"2017-11-19T00:00:00\", \"2017-10-17T00:00:00\", \"2018-01-31T00:00:00\", \"2017-07-06T00:00:00\", \"2018-02-19T00:00:00\", \"2018-05-22T00:00:00\", \"2017-07-02T00:00:00\", \"2018-05-22T00:00:00\", \"2018-05-03T00:00:00\", \"2018-03-07T00:00:00\", \"2018-04-02T00:00:00\", \"2017-09-26T00:00:00\", \"2018-05-08T00:00:00\", \"2018-04-17T00:00:00\", \"2018-02-27T00:00:00\", \"2017-08-22T00:00:00\", \"2018-04-07T00:00:00\", \"2018-03-15T00:00:00\", \"2018-02-12T00:00:00\", \"2018-04-09T00:00:00\", \"2018-05-30T00:00:00\", \"2018-02-01T00:00:00\", \"2018-03-20T00:00:00\", \"2018-04-27T00:00:00\", \"2017-10-16T00:00:00\", \"2018-02-15T00:00:00\", \"2017-11-14T00:00:00\", \"2017-09-26T00:00:00\", \"2018-01-29T00:00:00\", \"2017-09-20T00:00:00\", \"2018-02-01T00:00:00\", \"2018-01-20T00:00:00\", \"2018-03-20T00:00:00\", \"2018-02-26T00:00:00\", \"2018-05-02T00:00:00\", \"2018-03-02T00:00:00\", \"2018-05-03T00:00:00\", \"2018-02-20T00:00:00\", \"2018-04-22T00:00:00\", \"2018-03-21T00:00:00\", \"2018-04-26T00:00:00\", \"2018-05-04T00:00:00\", \"2018-03-19T00:00:00\", \"2018-02-05T00:00:00\", \"2018-04-25T00:00:00\", \"2018-03-28T00:00:00\", \"2018-03-14T00:00:00\", \"2018-01-25T00:00:00\", \"2018-05-15T00:00:00\", \"2017-11-22T00:00:00\", \"2017-12-11T00:00:00\", \"2018-04-10T00:00:00\", \"2017-11-28T00:00:00\", \"2018-01-12T00:00:00\", \"2017-09-27T00:00:00\", \"2018-05-18T00:00:00\", \"2018-05-09T00:00:00\", \"2018-03-22T00:00:00\", \"2018-02-09T00:00:00\", \"2018-04-26T00:00:00\", \"2018-04-13T00:00:00\", \"2017-07-04T00:00:00\", \"2018-05-05T00:00:00\", \"2018-04-29T00:00:00\", \"2018-05-25T00:00:00\", \"2018-02-07T00:00:00\", \"2018-04-20T00:00:00\", \"2018-01-30T00:00:00\", \"2018-05-28T00:00:00\", \"2018-05-15T00:00:00\", \"2017-08-19T00:00:00\", \"2018-01-03T00:00:00\", \"2018-03-07T00:00:00\", \"2018-01-07T00:00:00\", \"2018-02-21T00:00:00\", \"2017-10-05T00:00:00\", \"2018-05-08T00:00:00\", \"2018-01-04T00:00:00\", \"2018-03-22T00:00:00\", \"2018-05-23T00:00:00\", \"2018-02-05T00:00:00\", \"2018-01-07T00:00:00\", \"2018-01-31T00:00:00\", \"2018-03-26T00:00:00\", \"2018-04-30T00:00:00\", \"2018-02-15T00:00:00\", \"2018-04-25T00:00:00\", \"2018-04-06T00:00:00\", \"2017-10-04T00:00:00\", \"2018-01-11T00:00:00\", \"2018-05-22T00:00:00\", \"2017-07-17T00:00:00\", \"2018-02-27T00:00:00\", \"2018-01-22T00:00:00\", \"2018-02-16T00:00:00\", \"2018-05-02T00:00:00\", \"2018-04-03T00:00:00\", \"2018-03-07T00:00:00\", \"2017-08-01T00:00:00\", \"2018-01-22T00:00:00\", \"2018-03-12T00:00:00\", \"2018-05-20T00:00:00\", \"2017-07-23T00:00:00\", \"2018-04-28T00:00:00\", \"2018-01-07T00:00:00\", \"2018-05-14T00:00:00\", \"2017-09-17T00:00:00\", \"2017-11-24T00:00:00\", \"2018-01-05T00:00:00\", \"2017-09-21T00:00:00\", \"2018-04-29T00:00:00\", \"2018-01-27T00:00:00\", \"2017-12-12T00:00:00\", \"2017-11-05T00:00:00\", \"2018-01-06T00:00:00\", \"2018-05-15T00:00:00\", \"2018-04-19T00:00:00\", \"2018-05-22T00:00:00\", \"2018-02-21T00:00:00\", \"2017-11-08T00:00:00\", \"2017-09-05T00:00:00\", \"2018-02-16T00:00:00\", \"2017-07-10T00:00:00\", \"2017-09-12T00:00:00\", \"2018-01-29T00:00:00\", \"2018-04-22T00:00:00\", \"2018-03-29T00:00:00\", \"2018-05-22T00:00:00\", \"2018-04-02T00:00:00\", \"2018-05-05T00:00:00\", \"2018-01-08T00:00:00\", \"2018-01-17T00:00:00\", \"2017-11-24T00:00:00\", \"2018-05-18T00:00:00\", \"2018-05-08T00:00:00\", \"2018-02-18T00:00:00\", \"2017-07-28T00:00:00\", \"2017-09-25T00:00:00\", \"2017-08-07T00:00:00\", \"2018-04-24T00:00:00\", \"2018-02-05T00:00:00\", \"2018-05-31T00:00:00\", \"2018-05-15T00:00:00\", \"2018-02-08T00:00:00\", \"2018-04-20T00:00:00\", \"2018-01-13T00:00:00\", \"2017-11-24T00:00:00\", \"2018-05-20T00:00:00\", \"2018-04-16T00:00:00\", \"2017-09-21T00:00:00\", \"2018-05-08T00:00:00\", \"2018-03-13T00:00:00\", \"2017-08-21T00:00:00\", \"2018-02-07T00:00:00\", \"2018-04-25T00:00:00\", \"2017-10-17T00:00:00\", \"2018-03-18T00:00:00\", \"2018-04-25T00:00:00\", \"2018-01-22T00:00:00\", \"2018-04-19T00:00:00\", \"2018-04-12T00:00:00\", \"2017-08-14T00:00:00\", \"2018-02-27T00:00:00\", \"2018-02-21T00:00:00\", \"2018-05-16T00:00:00\", \"2018-02-26T00:00:00\", \"2018-03-09T00:00:00\", \"2017-12-05T00:00:00\", \"2018-03-07T00:00:00\", \"2018-04-17T00:00:00\", \"2018-04-24T00:00:00\", \"2018-02-11T00:00:00\", \"2018-03-17T00:00:00\", \"2017-10-29T00:00:00\", \"2017-10-26T00:00:00\", \"2017-10-16T00:00:00\", \"2018-02-02T00:00:00\", \"2018-02-26T00:00:00\", \"2018-01-09T00:00:00\", \"2017-10-20T00:00:00\", \"2018-03-03T00:00:00\", \"2018-03-01T00:00:00\", \"2017-10-17T00:00:00\", \"2018-03-15T00:00:00\", \"2018-04-04T00:00:00\", \"2018-04-05T00:00:00\", \"2018-05-11T00:00:00\", \"2018-05-10T00:00:00\", \"2018-01-19T00:00:00\", \"2017-12-25T00:00:00\", \"2017-09-15T00:00:00\", \"2018-02-23T00:00:00\", \"2018-04-09T00:00:00\", \"2018-04-27T00:00:00\", \"2018-02-23T00:00:00\", \"2018-04-24T00:00:00\", \"2018-05-30T00:00:00\", \"2018-02-22T00:00:00\", \"2018-04-10T00:00:00\", \"2018-04-09T00:00:00\", \"2018-05-26T00:00:00\", \"2018-02-06T00:00:00\", \"2018-02-06T00:00:00\", \"2017-08-15T00:00:00\", \"2018-02-26T00:00:00\", \"2018-05-08T00:00:00\", \"2017-08-04T00:00:00\", \"2017-10-10T00:00:00\", \"2018-05-18T00:00:00\", \"2018-04-16T00:00:00\", \"2017-07-23T00:00:00\", \"2018-05-09T00:00:00\", \"2018-05-04T00:00:00\", \"2018-03-25T00:00:00\", \"2018-03-11T00:00:00\", \"2018-01-30T00:00:00\", \"2018-04-02T00:00:00\", \"2017-10-26T00:00:00\", \"2018-05-04T00:00:00\", \"2018-05-29T00:00:00\", \"2018-05-24T00:00:00\", \"2018-01-12T00:00:00\", \"2017-08-14T00:00:00\", \"2017-11-19T00:00:00\", \"2017-08-30T00:00:00\", \"2018-01-12T00:00:00\", \"2018-01-02T00:00:00\", \"2018-03-04T00:00:00\", \"2017-11-14T00:00:00\", \"2017-10-29T00:00:00\", \"2018-05-14T00:00:00\", \"2018-03-15T00:00:00\", \"2018-04-21T00:00:00\", \"2018-04-02T00:00:00\", \"2018-03-08T00:00:00\", \"2018-04-12T00:00:00\", \"2018-05-02T00:00:00\", \"2018-04-10T00:00:00\", \"2017-10-24T00:00:00\", \"2018-03-09T00:00:00\", \"2018-02-05T00:00:00\", \"2018-03-16T00:00:00\", \"2018-04-07T00:00:00\", \"2018-03-07T00:00:00\", \"2018-01-04T00:00:00\", \"2017-11-20T00:00:00\", \"2017-11-23T00:00:00\", \"2018-02-08T00:00:00\", \"2018-03-01T00:00:00\", \"2018-04-16T00:00:00\", \"2018-03-26T00:00:00\", \"2018-03-06T00:00:00\", \"2017-10-02T00:00:00\", \"2018-03-14T00:00:00\", \"2017-10-17T00:00:00\", \"2018-01-02T00:00:00\", \"2018-04-17T00:00:00\", \"2018-02-26T00:00:00\", \"2018-05-01T00:00:00\", \"2018-03-13T00:00:00\", \"2018-04-10T00:00:00\", \"2018-05-14T00:00:00\", \"2018-05-31T00:00:00\", \"2018-05-16T00:00:00\", \"2017-11-10T00:00:00\", \"2018-03-07T00:00:00\", \"2018-05-08T00:00:00\", \"2018-01-22T00:00:00\", \"2017-09-09T00:00:00\", \"2018-04-19T00:00:00\", \"2018-03-06T00:00:00\", \"2018-03-29T00:00:00\", \"2018-05-08T00:00:00\", \"2017-07-31T00:00:00\", \"2018-02-11T00:00:00\", \"2017-10-18T00:00:00\", \"2018-03-16T00:00:00\", \"2018-01-22T00:00:00\", \"2018-05-03T00:00:00\", \"2018-04-04T00:00:00\", \"2018-03-01T00:00:00\", \"2018-01-08T00:00:00\", \"2018-05-26T00:00:00\", \"2017-10-17T00:00:00\", \"2018-03-15T00:00:00\", \"2017-10-24T00:00:00\", \"2017-12-22T00:00:00\", \"2017-11-25T00:00:00\", \"2018-02-22T00:00:00\", \"2018-04-21T00:00:00\", \"2018-05-08T00:00:00\", \"2018-02-23T00:00:00\", \"2018-04-03T00:00:00\", \"2018-01-10T00:00:00\", \"2018-02-12T00:00:00\", \"2018-04-28T00:00:00\", \"2018-03-06T00:00:00\", \"2018-01-21T00:00:00\", \"2018-01-02T00:00:00\", \"2018-05-15T00:00:00\", \"2018-04-12T00:00:00\", \"2018-01-19T00:00:00\", \"2018-03-11T00:00:00\", \"2017-11-10T00:00:00\", \"2018-04-27T00:00:00\", \"2017-10-30T00:00:00\", \"2018-04-19T00:00:00\", \"2018-03-16T00:00:00\", \"2018-05-25T00:00:00\", \"2018-03-20T00:00:00\", \"2018-05-31T00:00:00\", \"2017-08-11T00:00:00\", \"2018-05-22T00:00:00\", \"2018-04-13T00:00:00\", \"2017-10-16T00:00:00\", \"2018-04-19T00:00:00\", \"2018-03-12T00:00:00\", \"2018-01-24T00:00:00\", \"2018-05-21T00:00:00\", \"2018-01-08T00:00:00\", \"2018-02-28T00:00:00\", \"2017-12-29T00:00:00\", \"2018-05-15T00:00:00\", \"2018-03-18T00:00:00\", \"2018-04-28T00:00:00\", \"2018-02-28T00:00:00\", \"2018-01-29T00:00:00\", \"2018-04-06T00:00:00\", \"2018-05-10T00:00:00\", \"2018-01-22T00:00:00\", \"2018-02-06T00:00:00\", \"2018-02-05T00:00:00\", \"2018-05-18T00:00:00\", \"2018-04-20T00:00:00\", \"2018-05-07T00:00:00\", \"2018-04-02T00:00:00\", \"2017-07-06T00:00:00\", \"2018-04-13T00:00:00\", \"2017-10-09T00:00:00\", \"2018-01-12T00:00:00\", \"2018-04-30T00:00:00\", \"2018-02-16T00:00:00\", \"2017-08-23T00:00:00\", \"2017-12-25T00:00:00\", \"2018-02-26T00:00:00\", \"2018-03-01T00:00:00\", \"2017-12-16T00:00:00\", \"2018-02-14T00:00:00\", \"2018-05-28T00:00:00\", \"2018-02-06T00:00:00\", \"2018-03-04T00:00:00\", \"2017-10-10T00:00:00\", \"2018-05-08T00:00:00\", \"2018-01-23T00:00:00\", \"2018-05-15T00:00:00\", \"2018-05-25T00:00:00\", \"2018-01-06T00:00:00\", \"2018-05-03T00:00:00\", \"2018-03-08T00:00:00\", \"2018-04-12T00:00:00\", \"2017-09-15T00:00:00\", \"2018-05-15T00:00:00\", \"2017-11-29T00:00:00\", \"2018-05-03T00:00:00\", \"2018-03-09T00:00:00\", \"2018-01-22T00:00:00\", \"2018-04-19T00:00:00\", \"2018-04-30T00:00:00\", \"2018-01-23T00:00:00\", \"2018-04-23T00:00:00\", \"2018-01-17T00:00:00\", \"2018-02-21T00:00:00\", \"2017-11-14T00:00:00\", \"2018-03-28T00:00:00\", \"2018-01-28T00:00:00\", \"2018-03-13T00:00:00\", \"2018-04-20T00:00:00\", \"2018-01-13T00:00:00\", \"2018-03-14T00:00:00\", \"2018-03-14T00:00:00\", \"2018-01-24T00:00:00\", \"2017-09-29T00:00:00\", \"2018-03-14T00:00:00\", \"2017-11-16T00:00:00\", \"2018-03-13T00:00:00\", \"2017-10-02T00:00:00\", \"2018-01-12T00:00:00\", \"2018-05-07T00:00:00\", \"2018-03-12T00:00:00\", \"2017-09-14T00:00:00\", \"2018-01-31T00:00:00\", \"2017-11-05T00:00:00\", \"2018-05-29T00:00:00\", \"2017-10-12T00:00:00\", \"2018-05-03T00:00:00\", \"2017-10-17T00:00:00\", \"2018-02-15T00:00:00\", \"2018-04-02T00:00:00\", \"2018-04-09T00:00:00\", \"2018-02-01T00:00:00\", \"2017-09-05T00:00:00\", \"2017-09-15T00:00:00\", \"2018-03-23T00:00:00\", \"2018-05-17T00:00:00\", \"2017-07-24T00:00:00\", \"2017-08-28T00:00:00\", \"2018-04-18T00:00:00\", \"2017-10-27T00:00:00\", \"2018-01-17T00:00:00\", \"2017-09-16T00:00:00\", \"2018-04-09T00:00:00\", \"2018-03-09T00:00:00\", \"2017-07-21T00:00:00\", \"2018-01-29T00:00:00\", \"2018-05-04T00:00:00\", \"2017-07-25T00:00:00\", \"2017-09-20T00:00:00\", \"2017-10-30T00:00:00\", \"2018-05-27T00:00:00\", \"2018-01-02T00:00:00\", \"2018-05-16T00:00:00\", \"2017-11-27T00:00:00\", \"2018-02-01T00:00:00\", \"2018-04-11T00:00:00\", \"2018-05-05T00:00:00\", \"2017-10-08T00:00:00\", \"2018-05-27T00:00:00\", \"2017-11-06T00:00:00\", \"2017-11-09T00:00:00\", \"2018-05-06T00:00:00\", \"2017-07-06T00:00:00\", \"2018-05-14T00:00:00\", \"2018-02-18T00:00:00\", \"2018-03-02T00:00:00\", \"2018-02-20T00:00:00\", \"2017-10-23T00:00:00\", \"2018-02-21T00:00:00\", \"2018-02-09T00:00:00\", \"2017-10-08T00:00:00\", \"2018-04-01T00:00:00\", \"2018-04-19T00:00:00\", \"2018-04-01T00:00:00\", \"2017-12-22T00:00:00\", \"2017-11-01T00:00:00\", \"2018-05-23T00:00:00\", \"2018-03-15T00:00:00\", \"2018-03-06T00:00:00\", \"2017-10-20T00:00:00\", \"2018-02-17T00:00:00\", \"2018-05-07T00:00:00\", \"2017-12-14T00:00:00\", \"2018-02-27T00:00:00\", \"2017-12-26T00:00:00\", \"2018-02-26T00:00:00\", \"2018-03-14T00:00:00\", \"2018-03-14T00:00:00\", \"2018-04-02T00:00:00\", \"2018-04-24T00:00:00\", \"2018-04-25T00:00:00\", \"2018-03-06T00:00:00\", \"2018-03-26T00:00:00\", \"2017-09-13T00:00:00\", \"2018-03-09T00:00:00\", \"2017-10-02T00:00:00\", \"2018-04-17T00:00:00\", \"2018-03-15T00:00:00\", \"2018-03-10T00:00:00\", \"2018-02-12T00:00:00\", \"2018-01-16T00:00:00\", \"2017-12-07T00:00:00\", \"2018-04-27T00:00:00\", \"2017-11-04T00:00:00\", \"2018-04-04T00:00:00\", \"2017-10-17T00:00:00\", \"2018-04-02T00:00:00\", \"2018-01-23T00:00:00\", \"2018-04-18T00:00:00\", \"2018-03-14T00:00:00\", \"2018-02-18T00:00:00\", \"2018-02-26T00:00:00\", \"2018-05-02T00:00:00\", \"2017-10-12T00:00:00\", \"2018-01-25T00:00:00\", \"2018-03-12T00:00:00\", \"2018-03-05T00:00:00\", \"2017-11-21T00:00:00\", \"2017-11-11T00:00:00\", \"2018-04-25T00:00:00\", \"2018-05-13T00:00:00\", \"2018-04-16T00:00:00\", \"2017-11-20T00:00:00\", \"2018-02-19T00:00:00\", \"2017-08-14T00:00:00\", \"2018-02-26T00:00:00\", \"2017-10-23T00:00:00\", \"2017-08-10T00:00:00\", \"2018-01-15T00:00:00\", \"2017-10-10T00:00:00\", \"2017-08-30T00:00:00\", \"2017-08-23T00:00:00\", \"2018-01-29T00:00:00\", \"2018-01-10T00:00:00\", \"2018-05-08T00:00:00\", \"2017-09-13T00:00:00\", \"2018-01-04T00:00:00\", \"2018-03-06T00:00:00\", \"2018-04-06T00:00:00\", \"2018-03-22T00:00:00\", \"2017-08-24T00:00:00\", \"2018-01-04T00:00:00\", \"2017-10-06T00:00:00\", \"2018-03-01T00:00:00\", \"2018-03-09T00:00:00\", \"2018-04-19T00:00:00\", \"2018-03-05T00:00:00\", \"2018-05-24T00:00:00\", \"2018-03-09T00:00:00\", \"2017-10-06T00:00:00\", \"2018-01-08T00:00:00\", \"2017-12-28T00:00:00\", \"2017-09-17T00:00:00\", \"2017-07-24T00:00:00\", \"2018-05-29T00:00:00\", \"2018-01-24T00:00:00\", \"2017-07-20T00:00:00\", \"2018-04-25T00:00:00\", \"2017-10-09T00:00:00\", \"2017-09-29T00:00:00\", \"2017-09-04T00:00:00\", \"2017-08-08T00:00:00\", \"2018-02-26T00:00:00\", \"2018-05-25T00:00:00\", \"2018-01-15T00:00:00\", \"2018-01-29T00:00:00\", \"2018-04-03T00:00:00\", \"2017-10-23T00:00:00\", \"2017-09-27T00:00:00\", \"2018-04-12T00:00:00\", \"2017-10-31T00:00:00\", \"2018-02-28T00:00:00\", \"2018-03-13T00:00:00\", \"2017-11-14T00:00:00\", \"2018-01-25T00:00:00\", \"2018-05-09T00:00:00\", \"2018-03-01T00:00:00\", \"2018-03-12T00:00:00\", \"2018-01-08T00:00:00\", \"2018-03-30T00:00:00\", \"2017-07-25T00:00:00\", \"2017-11-06T00:00:00\", \"2017-11-21T00:00:00\", \"2018-02-12T00:00:00\", \"2017-08-06T00:00:00\", \"2018-05-04T00:00:00\", \"2017-08-28T00:00:00\", \"2017-12-25T00:00:00\", \"2018-03-06T00:00:00\", \"2018-04-27T00:00:00\", \"2018-03-13T00:00:00\", \"2018-01-22T00:00:00\", \"2018-05-02T00:00:00\", \"2018-01-25T00:00:00\", \"2017-08-30T00:00:00\", \"2018-04-27T00:00:00\", \"2018-05-31T00:00:00\", \"2018-03-20T00:00:00\", \"2018-03-10T00:00:00\", \"2018-04-23T00:00:00\", \"2018-03-13T00:00:00\", \"2018-02-15T00:00:00\", \"2018-04-20T00:00:00\", \"2018-03-21T00:00:00\", \"2018-05-22T00:00:00\", \"2017-10-17T00:00:00\", \"2018-02-06T00:00:00\", \"2018-02-22T00:00:00\", \"2018-03-19T00:00:00\", \"2018-05-14T00:00:00\", \"2018-03-27T00:00:00\", \"2017-10-01T00:00:00\", \"2018-05-10T00:00:00\", \"2018-05-03T00:00:00\", \"2018-05-04T00:00:00\", \"2017-09-04T00:00:00\", \"2018-05-26T00:00:00\", \"2018-05-29T00:00:00\", \"2017-08-17T00:00:00\", \"2018-03-01T00:00:00\", \"2017-08-14T00:00:00\", \"2018-04-03T00:00:00\", \"2017-11-17T00:00:00\", \"2017-12-27T00:00:00\", \"2018-04-06T00:00:00\", \"2017-12-16T00:00:00\", \"2018-03-10T00:00:00\", \"2017-08-23T00:00:00\", \"2017-07-24T00:00:00\", \"2018-05-07T00:00:00\", \"2018-02-14T00:00:00\", \"2017-11-23T00:00:00\", \"2018-04-04T00:00:00\", \"2017-08-07T00:00:00\", \"2018-04-24T00:00:00\", \"2017-08-23T00:00:00\", \"2017-12-01T00:00:00\", \"2018-04-24T00:00:00\", \"2018-03-13T00:00:00\", \"2018-03-06T00:00:00\", \"2018-03-23T00:00:00\", \"2018-03-07T00:00:00\", \"2018-04-03T00:00:00\", \"2018-01-05T00:00:00\", \"2017-07-19T00:00:00\", \"2017-10-24T00:00:00\", \"2017-08-22T00:00:00\", \"2018-01-19T00:00:00\", \"2018-03-29T00:00:00\", \"2018-01-22T00:00:00\", \"2018-05-10T00:00:00\", \"2018-01-22T00:00:00\", \"2018-05-16T00:00:00\", \"2018-04-06T00:00:00\", \"2018-03-07T00:00:00\", \"2018-02-19T00:00:00\", \"2018-01-17T00:00:00\", \"2018-01-27T00:00:00\", \"2017-10-04T00:00:00\", \"2018-01-05T00:00:00\", \"2018-03-20T00:00:00\", \"2017-11-10T00:00:00\", \"2017-10-25T00:00:00\", \"2017-10-31T00:00:00\", \"2018-04-04T00:00:00\", \"2018-02-12T00:00:00\", \"2018-05-11T00:00:00\", \"2018-04-18T00:00:00\", \"2018-01-13T00:00:00\", \"2018-03-05T00:00:00\", \"2017-09-18T00:00:00\", \"2018-01-26T00:00:00\", \"2018-04-03T00:00:00\", \"2018-04-26T00:00:00\", \"2018-04-01T00:00:00\", \"2018-02-01T00:00:00\", \"2018-03-22T00:00:00\", \"2018-02-04T00:00:00\", \"2018-02-23T00:00:00\", \"2018-05-31T00:00:00\", \"2017-08-23T00:00:00\", \"2018-03-30T00:00:00\", \"2018-02-27T00:00:00\", \"2018-05-10T00:00:00\", \"2017-11-12T00:00:00\", \"2018-04-16T00:00:00\", \"2018-01-05T00:00:00\", \"2017-11-07T00:00:00\", \"2018-05-21T00:00:00\", \"2018-01-24T00:00:00\", \"2018-01-17T00:00:00\", \"2018-02-16T00:00:00\", \"2018-01-12T00:00:00\", \"2018-03-29T00:00:00\", \"2017-08-29T00:00:00\", \"2017-11-03T00:00:00\", \"2018-05-21T00:00:00\", \"2018-03-07T00:00:00\", \"2018-03-15T00:00:00\", \"2018-05-26T00:00:00\", \"2018-02-07T00:00:00\", \"2018-05-02T00:00:00\", \"2018-01-23T00:00:00\", \"2018-03-07T00:00:00\", \"2018-02-28T00:00:00\", \"2018-05-17T00:00:00\", \"2018-04-25T00:00:00\", \"2018-01-16T00:00:00\", \"2018-03-12T00:00:00\", \"2018-04-14T00:00:00\", \"2018-05-23T00:00:00\", \"2017-10-24T00:00:00\", \"2018-01-28T00:00:00\", \"2018-02-25T00:00:00\", \"2018-01-14T00:00:00\", \"2018-01-11T00:00:00\", \"2018-01-27T00:00:00\", \"2018-04-13T00:00:00\", \"2018-05-14T00:00:00\", \"2018-02-16T00:00:00\", \"2017-10-04T00:00:00\", \"2017-09-29T00:00:00\", \"2018-03-15T00:00:00\", \"2018-02-19T00:00:00\", \"2018-05-14T00:00:00\", \"2018-04-05T00:00:00\", \"2018-02-05T00:00:00\", \"2017-12-15T00:00:00\", \"2018-01-15T00:00:00\", \"2018-04-05T00:00:00\", \"2018-04-01T00:00:00\", \"2018-03-13T00:00:00\", \"2018-02-07T00:00:00\", \"2017-08-20T00:00:00\", \"2017-10-15T00:00:00\", \"2018-05-27T00:00:00\", \"2018-04-05T00:00:00\", \"2018-02-21T00:00:00\", \"2017-10-25T00:00:00\", \"2017-08-22T00:00:00\", \"2018-03-08T00:00:00\", \"2018-01-17T00:00:00\", \"2017-10-15T00:00:00\", \"2018-03-21T00:00:00\", \"2018-05-25T00:00:00\", \"2018-05-18T00:00:00\", \"2018-01-03T00:00:00\", \"2018-01-16T00:00:00\", \"2018-05-27T00:00:00\", \"2018-04-06T00:00:00\", \"2017-08-23T00:00:00\", \"2017-08-19T00:00:00\", \"2018-03-27T00:00:00\", \"2018-02-14T00:00:00\", \"2018-02-26T00:00:00\", \"2018-03-02T00:00:00\", \"2018-05-15T00:00:00\", \"2018-01-08T00:00:00\", \"2017-09-12T00:00:00\", \"2017-10-02T00:00:00\", \"2017-10-26T00:00:00\", \"2017-11-03T00:00:00\", \"2018-05-16T00:00:00\", \"2018-04-09T00:00:00\", \"2018-03-21T00:00:00\", \"2018-05-28T00:00:00\", \"2018-01-16T00:00:00\", \"2018-05-08T00:00:00\", \"2017-12-06T00:00:00\", \"2017-10-26T00:00:00\", \"2017-08-23T00:00:00\", \"2018-02-08T00:00:00\", \"2017-08-10T00:00:00\", \"2017-08-28T00:00:00\", \"2018-01-22T00:00:00\", \"2018-03-01T00:00:00\", \"2018-04-18T00:00:00\", \"2017-08-19T00:00:00\", \"2017-08-10T00:00:00\", \"2018-05-11T00:00:00\", \"2017-11-28T00:00:00\", \"2018-04-04T00:00:00\", \"2017-12-01T00:00:00\", \"2017-10-30T00:00:00\", \"2018-02-22T00:00:00\", \"2017-11-22T00:00:00\", \"2018-05-24T00:00:00\", \"2018-03-19T00:00:00\", \"2017-08-17T00:00:00\", \"2018-04-15T00:00:00\", \"2018-05-03T00:00:00\", \"2018-05-22T00:00:00\", \"2018-05-07T00:00:00\", \"2017-09-12T00:00:00\", \"2018-03-17T00:00:00\", \"2018-02-27T00:00:00\", \"2018-02-14T00:00:00\", \"2018-04-13T00:00:00\", \"2018-02-23T00:00:00\", \"2018-04-05T00:00:00\", \"2018-05-14T00:00:00\", \"2017-11-10T00:00:00\", \"2017-12-27T00:00:00\", \"2018-03-14T00:00:00\", \"2017-11-27T00:00:00\", \"2017-08-10T00:00:00\", \"2017-08-11T00:00:00\", \"2017-11-23T00:00:00\", \"2018-04-26T00:00:00\", \"2018-01-30T00:00:00\", \"2017-12-04T00:00:00\", \"2018-04-18T00:00:00\", \"2018-03-12T00:00:00\", \"2018-02-12T00:00:00\", \"2018-05-14T00:00:00\", \"2017-12-15T00:00:00\", \"2018-02-09T00:00:00\", \"2017-08-15T00:00:00\", \"2018-02-27T00:00:00\", \"2018-02-22T00:00:00\", \"2018-02-04T00:00:00\", \"2017-11-03T00:00:00\", \"2018-01-17T00:00:00\", \"2017-09-01T00:00:00\", \"2018-03-23T00:00:00\", \"2017-12-04T00:00:00\", \"2018-05-09T00:00:00\", \"2018-01-30T00:00:00\", \"2017-10-10T00:00:00\", \"2018-02-05T00:00:00\", \"2018-03-22T00:00:00\", \"2018-01-04T00:00:00\", \"2017-10-31T00:00:00\", \"2018-03-23T00:00:00\", \"2017-07-26T00:00:00\", \"2018-03-02T00:00:00\", \"2018-05-20T00:00:00\", \"2017-10-01T00:00:00\", \"2018-05-21T00:00:00\", \"2018-05-11T00:00:00\", \"2018-02-09T00:00:00\", \"2017-09-01T00:00:00\", \"2018-03-13T00:00:00\", \"2017-09-04T00:00:00\", \"2018-04-25T00:00:00\", \"2017-08-26T00:00:00\", \"2018-02-17T00:00:00\", \"2018-01-20T00:00:00\", \"2018-05-07T00:00:00\", \"2018-05-12T00:00:00\", \"2018-01-11T00:00:00\", \"2018-03-09T00:00:00\", \"2017-07-26T00:00:00\", \"2018-04-24T00:00:00\", \"2017-11-22T00:00:00\", \"2018-01-22T00:00:00\", \"2017-12-30T00:00:00\", \"2018-04-24T00:00:00\", \"2018-05-14T00:00:00\", \"2017-10-06T00:00:00\", \"2018-02-15T00:00:00\", \"2018-03-13T00:00:00\", \"2017-12-22T00:00:00\", \"2018-04-18T00:00:00\", \"2018-05-15T00:00:00\", \"2018-02-14T00:00:00\", \"2017-09-15T00:00:00\", \"2018-05-04T00:00:00\", \"2017-11-16T00:00:00\", \"2017-11-10T00:00:00\", \"2017-08-01T00:00:00\", \"2018-05-31T00:00:00\", \"2018-04-04T00:00:00\", \"2018-01-16T00:00:00\", \"2017-10-06T00:00:00\", \"2018-01-24T00:00:00\", \"2018-05-12T00:00:00\", \"2018-03-02T00:00:00\", \"2018-04-02T00:00:00\", \"2017-10-17T00:00:00\", \"2017-09-01T00:00:00\", \"2018-03-27T00:00:00\", \"2018-01-08T00:00:00\", \"2018-05-08T00:00:00\", \"2018-05-17T00:00:00\", \"2018-02-28T00:00:00\", \"2018-01-24T00:00:00\", \"2018-03-21T00:00:00\", \"2018-04-02T00:00:00\", \"2018-02-27T00:00:00\", \"2018-01-03T00:00:00\", \"2018-05-21T00:00:00\", \"2018-02-25T00:00:00\", \"2018-03-13T00:00:00\", \"2018-05-09T00:00:00\", \"2018-04-20T00:00:00\", \"2018-04-08T00:00:00\", \"2018-05-22T00:00:00\", \"2018-05-07T00:00:00\", \"2018-01-20T00:00:00\", \"2018-05-09T00:00:00\", \"2018-04-24T00:00:00\", \"2018-03-08T00:00:00\", \"2018-03-12T00:00:00\", \"2018-03-22T00:00:00\", \"2017-11-20T00:00:00\", \"2018-04-19T00:00:00\", \"2018-05-05T00:00:00\", \"2018-02-13T00:00:00\", \"2017-11-06T00:00:00\", \"2018-05-12T00:00:00\", \"2017-11-08T00:00:00\", \"2018-03-13T00:00:00\", \"2018-05-17T00:00:00\", \"2018-05-02T00:00:00\", \"2018-04-02T00:00:00\", \"2018-01-30T00:00:00\", \"2018-04-18T00:00:00\", \"2018-03-12T00:00:00\", \"2018-04-14T00:00:00\", \"2017-09-26T00:00:00\", \"2018-03-22T00:00:00\", \"2017-07-20T00:00:00\", \"2018-05-07T00:00:00\", \"2018-05-16T00:00:00\", \"2018-04-09T00:00:00\", \"2017-09-12T00:00:00\", \"2017-11-08T00:00:00\", \"2018-05-14T00:00:00\", \"2017-09-25T00:00:00\", \"2017-12-27T00:00:00\", \"2018-05-22T00:00:00\", \"2018-05-22T00:00:00\", \"2018-01-06T00:00:00\", \"2018-05-20T00:00:00\", \"2018-02-06T00:00:00\", \"2018-03-31T00:00:00\", \"2017-10-19T00:00:00\", \"2018-03-21T00:00:00\", \"2018-05-01T00:00:00\", \"2018-01-31T00:00:00\", \"2018-03-14T00:00:00\", \"2018-03-07T00:00:00\", \"2018-04-17T00:00:00\", \"2018-01-07T00:00:00\", \"2018-03-07T00:00:00\", \"2017-09-26T00:00:00\", \"2017-12-12T00:00:00\", \"2018-02-13T00:00:00\", \"2018-02-14T00:00:00\", \"2018-03-28T00:00:00\", \"2018-04-23T00:00:00\", \"2018-04-04T00:00:00\", \"2018-05-10T00:00:00\", \"2018-02-14T00:00:00\", \"2018-04-25T00:00:00\", \"2018-01-04T00:00:00\", \"2018-01-02T00:00:00\", \"2018-03-13T00:00:00\", \"2018-04-07T00:00:00\", \"2018-04-18T00:00:00\", \"2018-04-20T00:00:00\", \"2018-05-07T00:00:00\", \"2018-03-01T00:00:00\", \"2018-02-13T00:00:00\", \"2018-04-20T00:00:00\", \"2018-04-12T00:00:00\", \"2018-02-15T00:00:00\", \"2018-01-11T00:00:00\", \"2018-04-01T00:00:00\", \"2018-04-26T00:00:00\", \"2018-01-05T00:00:00\", \"2018-02-27T00:00:00\", \"2018-05-30T00:00:00\", \"2018-04-07T00:00:00\", \"2018-03-08T00:00:00\", \"2018-02-15T00:00:00\", \"2018-02-05T00:00:00\", \"2018-03-02T00:00:00\", \"2018-01-16T00:00:00\", \"2018-04-24T00:00:00\", \"2018-03-04T00:00:00\", \"2018-03-23T00:00:00\", \"2018-02-04T00:00:00\", \"2018-03-01T00:00:00\", \"2018-04-30T00:00:00\", \"2018-05-06T00:00:00\", \"2017-08-07T00:00:00\", \"2018-04-04T00:00:00\", \"2018-05-30T00:00:00\", \"2018-04-05T00:00:00\", \"2018-01-15T00:00:00\", \"2018-02-01T00:00:00\", \"2018-02-27T00:00:00\", \"2018-03-08T00:00:00\", \"2017-07-12T00:00:00\", \"2018-03-18T00:00:00\", \"2018-05-21T00:00:00\", \"2018-04-17T00:00:00\", \"2018-03-27T00:00:00\", \"2018-05-15T00:00:00\", \"2018-02-03T00:00:00\", \"2018-01-26T00:00:00\", \"2017-09-15T00:00:00\", \"2018-05-02T00:00:00\", \"2018-03-12T00:00:00\", \"2018-02-22T00:00:00\", \"2018-05-04T00:00:00\", \"2018-02-15T00:00:00\", \"2018-03-26T00:00:00\", \"2018-02-21T00:00:00\", \"2018-02-15T00:00:00\", \"2018-04-03T00:00:00\", \"2017-10-05T00:00:00\", \"2018-05-09T00:00:00\", \"2017-10-07T00:00:00\", \"2017-09-04T00:00:00\", \"2018-01-17T00:00:00\", \"2017-10-27T00:00:00\", \"2018-03-07T00:00:00\", \"2018-01-12T00:00:00\", \"2018-04-23T00:00:00\", \"2018-03-06T00:00:00\", \"2018-04-02T00:00:00\", \"2018-04-15T00:00:00\", \"2018-05-10T00:00:00\", \"2018-05-14T00:00:00\", \"2018-02-22T00:00:00\", \"2018-05-28T00:00:00\", \"2018-04-09T00:00:00\", \"2018-04-04T00:00:00\", \"2018-03-15T00:00:00\", \"2018-02-07T00:00:00\", \"2018-03-01T00:00:00\", \"2018-04-26T00:00:00\", \"2018-01-24T00:00:00\", \"2018-04-29T00:00:00\", \"2018-05-02T00:00:00\", \"2018-05-13T00:00:00\", \"2017-12-30T00:00:00\", \"2018-01-13T00:00:00\", \"2018-04-09T00:00:00\", \"2018-04-03T00:00:00\", \"2017-10-28T00:00:00\", \"2018-05-24T00:00:00\", \"2018-04-09T00:00:00\", \"2017-09-21T00:00:00\", \"2018-04-19T00:00:00\", \"2017-08-25T00:00:00\", \"2018-01-05T00:00:00\", \"2018-04-11T00:00:00\", \"2018-04-28T00:00:00\", \"2017-11-14T00:00:00\", \"2018-01-05T00:00:00\", \"2018-05-01T00:00:00\", \"2018-05-25T00:00:00\", \"2018-05-04T00:00:00\", \"2018-05-15T00:00:00\", \"2018-03-15T00:00:00\", \"2018-01-20T00:00:00\", \"2018-03-01T00:00:00\", \"2018-05-07T00:00:00\", \"2018-01-25T00:00:00\", \"2018-01-10T00:00:00\", \"2018-01-07T00:00:00\", \"2018-04-27T00:00:00\", \"2018-04-24T00:00:00\", \"2018-03-03T00:00:00\", \"2018-01-05T00:00:00\", \"2018-05-14T00:00:00\", \"2018-01-23T00:00:00\", \"2018-03-14T00:00:00\", \"2018-03-05T00:00:00\", \"2018-04-26T00:00:00\", \"2017-08-16T00:00:00\", \"2017-11-23T00:00:00\", \"2018-04-26T00:00:00\", \"2018-03-20T00:00:00\", \"2018-04-21T00:00:00\", \"2018-01-02T00:00:00\", \"2018-04-05T00:00:00\", \"2017-09-19T00:00:00\", \"2018-05-08T00:00:00\", \"2018-01-19T00:00:00\", \"2018-04-10T00:00:00\", \"2018-05-01T00:00:00\", \"2018-05-07T00:00:00\", \"2018-03-09T00:00:00\", \"2017-08-14T00:00:00\", \"2018-02-16T00:00:00\", \"2018-02-08T00:00:00\", \"2017-08-17T00:00:00\", \"2017-11-23T00:00:00\", \"2018-03-08T00:00:00\", \"2017-09-17T00:00:00\", \"2018-04-30T00:00:00\", \"2018-05-23T00:00:00\", \"2018-01-23T00:00:00\", \"2018-02-25T00:00:00\", \"2018-05-22T00:00:00\", \"2018-02-08T00:00:00\", \"2017-07-24T00:00:00\", \"2018-01-11T00:00:00\", \"2017-12-25T00:00:00\", \"2017-11-22T00:00:00\", \"2017-10-17T00:00:00\", \"2018-04-12T00:00:00\", \"2018-04-01T00:00:00\", \"2017-08-15T00:00:00\", \"2018-01-04T00:00:00\", \"2018-01-29T00:00:00\", \"2018-03-24T00:00:00\", \"2017-09-12T00:00:00\", \"2017-07-12T00:00:00\", \"2018-03-22T00:00:00\", \"2018-05-29T00:00:00\", \"2018-01-15T00:00:00\", \"2017-10-16T00:00:00\", \"2017-10-26T00:00:00\", \"2017-08-22T00:00:00\", \"2018-04-23T00:00:00\", \"2018-02-11T00:00:00\", \"2017-09-03T00:00:00\", \"2018-04-26T00:00:00\", \"2017-08-21T00:00:00\", \"2018-04-18T00:00:00\", \"2017-09-29T00:00:00\", \"2017-11-07T00:00:00\", \"2018-03-06T00:00:00\", \"2018-03-26T00:00:00\", \"2017-08-10T00:00:00\", \"2018-04-16T00:00:00\", \"2017-10-19T00:00:00\", \"2018-02-23T00:00:00\", \"2017-10-17T00:00:00\", \"2018-04-20T00:00:00\", \"2017-09-22T00:00:00\", \"2018-04-02T00:00:00\", \"2018-02-12T00:00:00\", \"2018-05-20T00:00:00\", \"2018-01-21T00:00:00\", \"2018-03-28T00:00:00\", \"2018-04-03T00:00:00\", \"2018-04-24T00:00:00\", \"2018-03-13T00:00:00\", \"2018-01-11T00:00:00\", \"2017-12-16T00:00:00\", \"2018-05-02T00:00:00\", \"2017-12-03T00:00:00\", \"2017-07-19T00:00:00\", \"2017-10-10T00:00:00\", \"2018-02-26T00:00:00\", \"2017-09-26T00:00:00\", \"2017-11-14T00:00:00\", \"2017-07-19T00:00:00\", \"2017-07-24T00:00:00\", \"2018-03-16T00:00:00\", \"2018-01-08T00:00:00\", \"2018-02-06T00:00:00\", \"2017-10-18T00:00:00\", \"2018-05-06T00:00:00\", \"2018-02-20T00:00:00\", \"2018-04-19T00:00:00\", \"2018-04-04T00:00:00\", \"2018-02-21T00:00:00\", \"2018-05-25T00:00:00\", \"2018-04-03T00:00:00\", \"2018-03-24T00:00:00\", \"2018-04-15T00:00:00\", \"2018-05-31T00:00:00\", \"2018-05-19T00:00:00\", \"2018-04-12T00:00:00\", \"2018-03-23T00:00:00\", \"2018-05-16T00:00:00\", \"2018-04-13T00:00:00\", \"2018-03-24T00:00:00\", \"2018-01-09T00:00:00\", \"2018-02-01T00:00:00\", \"2018-02-27T00:00:00\", \"2018-03-27T00:00:00\", \"2018-02-07T00:00:00\", \"2017-11-11T00:00:00\", \"2018-02-16T00:00:00\", \"2018-02-05T00:00:00\", \"2018-05-17T00:00:00\", \"2018-05-08T00:00:00\", \"2018-02-16T00:00:00\", \"2018-03-13T00:00:00\", \"2018-05-02T00:00:00\", \"2018-05-04T00:00:00\", \"2018-01-22T00:00:00\", \"2018-01-12T00:00:00\", \"2018-02-01T00:00:00\", \"2018-03-07T00:00:00\", \"2018-03-28T00:00:00\", \"2018-01-22T00:00:00\", \"2018-01-07T00:00:00\", \"2018-05-20T00:00:00\", \"2017-08-02T00:00:00\", \"2018-03-03T00:00:00\", \"2018-01-22T00:00:00\", \"2017-07-12T00:00:00\", \"2018-04-27T00:00:00\", \"2018-03-04T00:00:00\", \"2018-05-02T00:00:00\", \"2017-10-25T00:00:00\", \"2018-04-20T00:00:00\", \"2018-01-24T00:00:00\", \"2018-02-09T00:00:00\", \"2018-01-10T00:00:00\", \"2017-10-26T00:00:00\", \"2018-03-05T00:00:00\", \"2018-03-22T00:00:00\", \"2018-01-29T00:00:00\", \"2018-04-19T00:00:00\", \"2018-04-12T00:00:00\", \"2018-04-16T00:00:00\", \"2017-08-12T00:00:00\", \"2017-07-07T00:00:00\", \"2018-03-29T00:00:00\", \"2018-04-23T00:00:00\", \"2018-04-30T00:00:00\", \"2018-03-07T00:00:00\", \"2018-02-25T00:00:00\", \"2018-01-04T00:00:00\", \"2018-04-18T00:00:00\", \"2018-01-22T00:00:00\", \"2017-08-03T00:00:00\", \"2018-05-02T00:00:00\", \"2018-01-23T00:00:00\", \"2017-12-21T00:00:00\", \"2018-04-06T00:00:00\", \"2018-01-22T00:00:00\", \"2018-04-19T00:00:00\", \"2018-03-26T00:00:00\", \"2018-04-16T00:00:00\", \"2018-04-27T00:00:00\", \"2017-11-01T00:00:00\", \"2017-11-30T00:00:00\", \"2018-05-24T00:00:00\", \"2017-10-24T00:00:00\", \"2018-03-08T00:00:00\", \"2017-09-20T00:00:00\", \"2018-01-09T00:00:00\", \"2018-01-20T00:00:00\", \"2018-05-14T00:00:00\", \"2018-01-02T00:00:00\", \"2018-04-25T00:00:00\", \"2018-04-16T00:00:00\", \"2018-02-20T00:00:00\", \"2018-03-05T00:00:00\", \"2018-03-14T00:00:00\", \"2018-01-08T00:00:00\", \"2018-04-24T00:00:00\", \"2018-04-04T00:00:00\", \"2017-08-04T00:00:00\", \"2017-11-17T00:00:00\", \"2018-04-30T00:00:00\", \"2017-11-29T00:00:00\", \"2018-03-25T00:00:00\", \"2018-01-12T00:00:00\", \"2018-01-17T00:00:00\", \"2018-04-10T00:00:00\", \"2018-02-06T00:00:00\", \"2018-01-19T00:00:00\", \"2018-03-28T00:00:00\", \"2018-01-06T00:00:00\", \"2018-05-11T00:00:00\", \"2018-04-17T00:00:00\", \"2018-05-02T00:00:00\", \"2018-05-24T00:00:00\", \"2018-01-18T00:00:00\", \"2018-05-20T00:00:00\", \"2018-02-26T00:00:00\", \"2018-03-26T00:00:00\", \"2017-12-01T00:00:00\", \"2018-04-17T00:00:00\", \"2017-10-01T00:00:00\", \"2017-08-29T00:00:00\", \"2018-01-15T00:00:00\", \"2018-02-21T00:00:00\", \"2017-07-05T00:00:00\", \"2017-10-19T00:00:00\", \"2018-02-21T00:00:00\", \"2018-05-03T00:00:00\", \"2018-02-11T00:00:00\", \"2018-01-05T00:00:00\", \"2018-04-13T00:00:00\", \"2018-05-02T00:00:00\", \"2018-01-24T00:00:00\", \"2017-10-31T00:00:00\", \"2018-05-21T00:00:00\", \"2018-02-12T00:00:00\", \"2017-07-21T00:00:00\", \"2018-01-22T00:00:00\", \"2018-02-20T00:00:00\", \"2017-08-30T00:00:00\", \"2018-04-13T00:00:00\", \"2018-03-24T00:00:00\", \"2018-04-21T00:00:00\", \"2018-02-06T00:00:00\", \"2017-11-11T00:00:00\", \"2018-01-30T00:00:00\", \"2018-03-13T00:00:00\", \"2017-11-15T00:00:00\", \"2017-12-22T00:00:00\", \"2018-03-08T00:00:00\", \"2018-03-20T00:00:00\", \"2018-05-04T00:00:00\", \"2018-01-25T00:00:00\", \"2018-02-06T00:00:00\", \"2017-08-10T00:00:00\", \"2018-03-21T00:00:00\", \"2018-01-22T00:00:00\", \"2017-12-19T00:00:00\", \"2018-03-08T00:00:00\", \"2018-02-05T00:00:00\", \"2018-01-26T00:00:00\", \"2018-04-19T00:00:00\", \"2018-05-31T00:00:00\", \"2018-03-08T00:00:00\", \"2018-04-12T00:00:00\", \"2017-09-30T00:00:00\", \"2018-02-06T00:00:00\", \"2018-02-03T00:00:00\", \"2018-05-12T00:00:00\", \"2018-02-15T00:00:00\", \"2018-02-21T00:00:00\", \"2018-04-12T00:00:00\", \"2018-05-20T00:00:00\", \"2017-11-20T00:00:00\", \"2017-11-18T00:00:00\", \"2018-04-16T00:00:00\", \"2018-03-19T00:00:00\", \"2018-04-26T00:00:00\", \"2017-10-28T00:00:00\", \"2018-02-12T00:00:00\", \"2017-09-12T00:00:00\", \"2017-08-10T00:00:00\", \"2018-03-09T00:00:00\", \"2018-02-06T00:00:00\", \"2018-04-10T00:00:00\", \"2018-05-10T00:00:00\", \"2018-02-22T00:00:00\", \"2018-04-02T00:00:00\", \"2017-07-07T00:00:00\", \"2017-10-31T00:00:00\", \"2018-01-25T00:00:00\", \"2018-01-05T00:00:00\", \"2017-11-21T00:00:00\", \"2018-01-06T00:00:00\", \"2018-01-30T00:00:00\", \"2018-02-07T00:00:00\", \"2018-04-16T00:00:00\", \"2017-10-18T00:00:00\", \"2018-01-14T00:00:00\", \"2018-01-06T00:00:00\", \"2018-02-28T00:00:00\", \"2018-05-21T00:00:00\", \"2018-04-03T00:00:00\", \"2018-02-10T00:00:00\", \"2018-01-29T00:00:00\", \"2018-05-05T00:00:00\", \"2017-11-10T00:00:00\", \"2017-08-18T00:00:00\", \"2018-03-06T00:00:00\", \"2017-10-05T00:00:00\", \"2017-09-10T00:00:00\", \"2018-03-01T00:00:00\", \"2018-05-03T00:00:00\", \"2017-11-19T00:00:00\", \"2018-04-16T00:00:00\", \"2017-11-08T00:00:00\", \"2018-05-28T00:00:00\", \"2018-02-17T00:00:00\", \"2018-05-02T00:00:00\", \"2018-03-28T00:00:00\", \"2017-08-18T00:00:00\", \"2018-04-10T00:00:00\", \"2018-03-05T00:00:00\", \"2018-01-05T00:00:00\", \"2017-08-18T00:00:00\", \"2018-03-14T00:00:00\", \"2018-03-26T00:00:00\", \"2018-02-14T00:00:00\", \"2018-03-20T00:00:00\", \"2018-02-12T00:00:00\", \"2017-11-20T00:00:00\", \"2018-02-13T00:00:00\", \"2018-03-07T00:00:00\", \"2018-03-14T00:00:00\", \"2018-02-22T00:00:00\", \"2017-11-14T00:00:00\", \"2017-07-10T00:00:00\", \"2018-02-02T00:00:00\", \"2018-01-26T00:00:00\", \"2018-03-12T00:00:00\", \"2018-05-30T00:00:00\", \"2018-04-13T00:00:00\", \"2018-02-23T00:00:00\", \"2018-04-21T00:00:00\", \"2018-01-31T00:00:00\", \"2018-04-19T00:00:00\", \"2018-01-30T00:00:00\", \"2018-01-05T00:00:00\", \"2017-10-20T00:00:00\", \"2018-02-22T00:00:00\", \"2017-11-22T00:00:00\", \"2017-08-03T00:00:00\", \"2018-02-09T00:00:00\", \"2018-05-01T00:00:00\", \"2018-03-01T00:00:00\", \"2018-04-05T00:00:00\", \"2018-01-11T00:00:00\", \"2018-04-02T00:00:00\", \"2018-02-27T00:00:00\", \"2017-09-18T00:00:00\", \"2018-04-12T00:00:00\", \"2018-05-23T00:00:00\", \"2018-03-03T00:00:00\", \"2018-01-11T00:00:00\", \"2018-01-01T00:00:00\", \"2017-11-09T00:00:00\", \"2018-05-28T00:00:00\", \"2018-01-02T00:00:00\", \"2018-01-08T00:00:00\", \"2017-07-20T00:00:00\", \"2018-03-05T00:00:00\", \"2017-08-23T00:00:00\", \"2018-01-16T00:00:00\", \"2018-05-07T00:00:00\", \"2017-07-09T00:00:00\", \"2017-09-04T00:00:00\", \"2018-05-04T00:00:00\", \"2018-05-23T00:00:00\", \"2018-02-08T00:00:00\", \"2018-02-22T00:00:00\", \"2018-01-24T00:00:00\", \"2018-03-13T00:00:00\", \"2018-01-17T00:00:00\", \"2018-02-16T00:00:00\", \"2017-10-13T00:00:00\", \"2018-03-28T00:00:00\", \"2018-04-20T00:00:00\", \"2018-05-24T00:00:00\", \"2018-03-20T00:00:00\", \"2018-03-07T00:00:00\", \"2018-04-25T00:00:00\", \"2018-03-27T00:00:00\", \"2017-09-13T00:00:00\", \"2018-02-21T00:00:00\", \"2017-12-27T00:00:00\", \"2018-02-15T00:00:00\", \"2018-02-01T00:00:00\", \"2018-05-08T00:00:00\", \"2017-11-26T00:00:00\", \"2018-04-07T00:00:00\", \"2018-01-10T00:00:00\", \"2018-05-11T00:00:00\", \"2018-01-18T00:00:00\", \"2018-02-24T00:00:00\", \"2018-04-09T00:00:00\", \"2018-01-02T00:00:00\", \"2017-12-17T00:00:00\", \"2018-02-03T00:00:00\", \"2018-02-07T00:00:00\", \"2018-01-10T00:00:00\", \"2017-11-16T00:00:00\", \"2017-07-11T00:00:00\", \"2017-11-07T00:00:00\", \"2018-04-23T00:00:00\", \"2017-07-20T00:00:00\", \"2018-03-20T00:00:00\", \"2018-04-10T00:00:00\", \"2018-04-11T00:00:00\", \"2018-01-04T00:00:00\", \"2018-01-11T00:00:00\", \"2018-05-10T00:00:00\", \"2017-09-17T00:00:00\", \"2018-05-16T00:00:00\", \"2018-05-21T00:00:00\", \"2018-02-20T00:00:00\", \"2018-05-04T00:00:00\", \"2017-11-17T00:00:00\", \"2018-02-06T00:00:00\", \"2018-01-15T00:00:00\", \"2017-11-24T00:00:00\", \"2018-04-25T00:00:00\", \"2017-11-12T00:00:00\", \"2018-04-19T00:00:00\", \"2018-04-09T00:00:00\", \"2018-04-07T00:00:00\", \"2018-02-07T00:00:00\", \"2018-05-10T00:00:00\", \"2018-05-15T00:00:00\", \"2018-03-19T00:00:00\", \"2018-03-01T00:00:00\", \"2018-05-08T00:00:00\", \"2018-01-12T00:00:00\", \"2018-03-12T00:00:00\", \"2018-03-14T00:00:00\", \"2017-10-17T00:00:00\", \"2018-04-12T00:00:00\", \"2017-12-08T00:00:00\", \"2018-04-14T00:00:00\", \"2017-08-01T00:00:00\", \"2018-02-28T00:00:00\", \"2018-02-05T00:00:00\", \"2018-02-01T00:00:00\", \"2018-03-08T00:00:00\", \"2018-04-24T00:00:00\", \"2018-03-26T00:00:00\", \"2018-01-18T00:00:00\", \"2017-11-10T00:00:00\", \"2017-07-18T00:00:00\", \"2017-11-23T00:00:00\", \"2018-05-27T00:00:00\", \"2018-04-22T00:00:00\", \"2017-11-24T00:00:00\", \"2018-01-27T00:00:00\", \"2017-11-30T00:00:00\", \"2018-04-21T00:00:00\", \"2018-03-04T00:00:00\", \"2018-02-27T00:00:00\", \"2018-01-01T00:00:00\", \"2018-01-15T00:00:00\", \"2018-01-25T00:00:00\", \"2018-05-12T00:00:00\", \"2018-04-24T00:00:00\", \"2018-02-20T00:00:00\", \"2018-01-11T00:00:00\", \"2018-01-31T00:00:00\", \"2018-02-03T00:00:00\", \"2017-09-08T00:00:00\", \"2018-04-30T00:00:00\", \"2018-02-23T00:00:00\", \"2018-04-01T00:00:00\", \"2018-01-30T00:00:00\", \"2018-02-20T00:00:00\", \"2018-03-26T00:00:00\", \"2018-02-22T00:00:00\", \"2018-05-25T00:00:00\", \"2017-12-30T00:00:00\", \"2017-08-08T00:00:00\", \"2018-05-18T00:00:00\", \"2018-05-28T00:00:00\", \"2018-05-02T00:00:00\", \"2018-01-30T00:00:00\", \"2018-01-05T00:00:00\", \"2018-04-27T00:00:00\", \"2018-02-16T00:00:00\", \"2017-11-02T00:00:00\", \"2018-01-03T00:00:00\", \"2017-08-03T00:00:00\", \"2018-05-19T00:00:00\", \"2018-01-22T00:00:00\", \"2018-04-03T00:00:00\", \"2018-03-23T00:00:00\", \"2017-08-10T00:00:00\", \"2017-11-29T00:00:00\", \"2018-05-10T00:00:00\", \"2018-04-18T00:00:00\", \"2018-01-23T00:00:00\", \"2018-04-23T00:00:00\", \"2018-01-09T00:00:00\", \"2018-01-22T00:00:00\", \"2018-04-18T00:00:00\", \"2017-11-03T00:00:00\", \"2017-10-15T00:00:00\", \"2017-10-26T00:00:00\", \"2018-05-03T00:00:00\", \"2018-04-18T00:00:00\", \"2018-03-26T00:00:00\", \"2018-01-06T00:00:00\", \"2018-05-15T00:00:00\", \"2017-10-16T00:00:00\", \"2017-11-22T00:00:00\", \"2018-03-20T00:00:00\", \"2018-01-22T00:00:00\", \"2017-08-30T00:00:00\", \"2018-01-05T00:00:00\", \"2018-01-21T00:00:00\", \"2018-05-08T00:00:00\", \"2018-04-16T00:00:00\", \"2018-02-10T00:00:00\", \"2018-01-22T00:00:00\", \"2018-04-30T00:00:00\", \"2018-01-30T00:00:00\", \"2018-03-12T00:00:00\", \"2018-01-08T00:00:00\", \"2018-05-29T00:00:00\", \"2018-01-27T00:00:00\", \"2017-11-24T00:00:00\", \"2018-05-22T00:00:00\", \"2018-01-28T00:00:00\", \"2018-02-07T00:00:00\", \"2018-05-25T00:00:00\", \"2017-09-05T00:00:00\", \"2018-03-23T00:00:00\", \"2018-03-03T00:00:00\", \"2018-04-06T00:00:00\", \"2018-03-13T00:00:00\", \"2018-03-19T00:00:00\", \"2017-08-18T00:00:00\", \"2018-02-25T00:00:00\", \"2018-02-06T00:00:00\", \"2018-04-29T00:00:00\", \"2018-03-02T00:00:00\", \"2018-04-17T00:00:00\", \"2017-08-21T00:00:00\", \"2018-04-12T00:00:00\", \"2018-03-13T00:00:00\", \"2018-03-12T00:00:00\", \"2018-03-25T00:00:00\", \"2018-05-25T00:00:00\", \"2017-09-27T00:00:00\", \"2017-08-27T00:00:00\", \"2018-01-20T00:00:00\", \"2018-01-09T00:00:00\", \"2017-09-26T00:00:00\", \"2018-04-14T00:00:00\", \"2018-03-11T00:00:00\", \"2018-04-08T00:00:00\", \"2018-03-21T00:00:00\", \"2018-01-26T00:00:00\", \"2018-03-21T00:00:00\", \"2018-05-08T00:00:00\", \"2017-08-26T00:00:00\", \"2018-01-29T00:00:00\", \"2018-04-27T00:00:00\", \"2018-02-10T00:00:00\", \"2018-03-13T00:00:00\", \"2018-01-28T00:00:00\", \"2017-11-18T00:00:00\", \"2018-03-03T00:00:00\", \"2017-12-15T00:00:00\", \"2018-02-09T00:00:00\", \"2017-10-11T00:00:00\", \"2017-10-27T00:00:00\", \"2018-05-19T00:00:00\", \"2018-01-03T00:00:00\", \"2018-04-24T00:00:00\", \"2018-03-16T00:00:00\", \"2017-07-12T00:00:00\", \"2017-11-27T00:00:00\", \"2018-04-17T00:00:00\", \"2018-04-11T00:00:00\", \"2018-05-07T00:00:00\", \"2017-10-26T00:00:00\", \"2017-08-21T00:00:00\", \"2018-04-10T00:00:00\", \"2017-11-09T00:00:00\", \"2017-08-07T00:00:00\", \"2018-03-04T00:00:00\", \"2017-10-23T00:00:00\", \"2018-04-15T00:00:00\", \"2017-08-21T00:00:00\", \"2018-03-21T00:00:00\", \"2018-03-27T00:00:00\", \"2018-01-15T00:00:00\", \"2017-10-30T00:00:00\", \"2017-12-31T00:00:00\", \"2018-02-23T00:00:00\", \"2018-02-06T00:00:00\", \"2018-01-15T00:00:00\", \"2018-03-15T00:00:00\", \"2018-05-21T00:00:00\", \"2018-01-12T00:00:00\", \"2018-02-05T00:00:00\", \"2017-07-27T00:00:00\", \"2018-04-15T00:00:00\", \"2018-05-08T00:00:00\", \"2018-05-24T00:00:00\", \"2018-05-21T00:00:00\", \"2018-05-28T00:00:00\", \"2018-01-21T00:00:00\", \"2018-04-05T00:00:00\", \"2017-08-17T00:00:00\", \"2018-03-04T00:00:00\", \"2018-05-22T00:00:00\", \"2018-01-08T00:00:00\", \"2018-01-30T00:00:00\", \"2017-11-16T00:00:00\", \"2018-01-13T00:00:00\", \"2017-12-04T00:00:00\", \"2018-02-23T00:00:00\", \"2018-03-30T00:00:00\", \"2018-01-09T00:00:00\", \"2018-05-24T00:00:00\", \"2017-11-14T00:00:00\", \"2017-10-06T00:00:00\", \"2018-04-02T00:00:00\", \"2018-04-25T00:00:00\", \"2017-11-06T00:00:00\", \"2017-08-27T00:00:00\", \"2017-10-27T00:00:00\", \"2018-01-24T00:00:00\", \"2017-12-05T00:00:00\", \"2018-05-06T00:00:00\", \"2018-05-18T00:00:00\", \"2017-10-03T00:00:00\", \"2017-10-20T00:00:00\", \"2018-03-06T00:00:00\", \"2018-04-20T00:00:00\", \"2018-01-18T00:00:00\", \"2018-03-25T00:00:00\", \"2018-03-14T00:00:00\", \"2018-01-09T00:00:00\", \"2017-10-28T00:00:00\", \"2018-03-19T00:00:00\", \"2018-01-05T00:00:00\", \"2018-01-09T00:00:00\", \"2018-04-13T00:00:00\", \"2017-08-18T00:00:00\", \"2018-02-02T00:00:00\", \"2017-10-07T00:00:00\", \"2018-03-26T00:00:00\", \"2017-09-29T00:00:00\", \"2017-10-19T00:00:00\", \"2018-02-28T00:00:00\", \"2017-08-31T00:00:00\", \"2018-03-13T00:00:00\", \"2018-03-21T00:00:00\", \"2018-03-12T00:00:00\", \"2018-01-17T00:00:00\", \"2018-01-08T00:00:00\", \"2018-05-25T00:00:00\", \"2017-09-14T00:00:00\", \"2018-04-11T00:00:00\", \"2018-05-10T00:00:00\", \"2018-02-27T00:00:00\", \"2017-07-12T00:00:00\", \"2018-02-26T00:00:00\", \"2017-10-06T00:00:00\", \"2017-12-06T00:00:00\", \"2018-01-18T00:00:00\", \"2018-05-07T00:00:00\", \"2018-01-19T00:00:00\", \"2018-04-05T00:00:00\", \"2017-08-04T00:00:00\", \"2018-05-05T00:00:00\", \"2018-01-10T00:00:00\", \"2018-03-11T00:00:00\", \"2017-11-03T00:00:00\", \"2017-08-22T00:00:00\", \"2018-04-17T00:00:00\", \"2018-05-03T00:00:00\", \"2018-03-19T00:00:00\", \"2018-05-08T00:00:00\", \"2018-02-16T00:00:00\", \"2018-05-25T00:00:00\", \"2018-05-14T00:00:00\", \"2018-02-27T00:00:00\", \"2017-10-25T00:00:00\", \"2017-12-21T00:00:00\", \"2018-02-16T00:00:00\", \"2018-03-26T00:00:00\", \"2018-03-05T00:00:00\", \"2018-01-28T00:00:00\", \"2017-11-19T00:00:00\", \"2017-10-06T00:00:00\", \"2018-03-08T00:00:00\", \"2017-08-03T00:00:00\", \"2018-02-07T00:00:00\", \"2017-12-01T00:00:00\", \"2018-03-09T00:00:00\", \"2017-10-30T00:00:00\", \"2018-03-19T00:00:00\", \"2017-09-25T00:00:00\", \"2017-07-14T00:00:00\", \"2017-10-26T00:00:00\", \"2018-05-14T00:00:00\", \"2017-08-04T00:00:00\", \"2018-05-02T00:00:00\", \"2018-02-05T00:00:00\", \"2017-08-11T00:00:00\", \"2017-08-23T00:00:00\", \"2018-05-23T00:00:00\", \"2018-01-11T00:00:00\", \"2018-01-22T00:00:00\", \"2018-05-21T00:00:00\", \"2018-05-14T00:00:00\", \"2018-03-26T00:00:00\", \"2018-05-04T00:00:00\", \"2018-05-21T00:00:00\", \"2017-10-04T00:00:00\", \"2017-09-06T00:00:00\", \"2018-01-05T00:00:00\", \"2018-01-17T00:00:00\", \"2018-03-06T00:00:00\", \"2018-04-16T00:00:00\", \"2018-04-16T00:00:00\", \"2018-01-24T00:00:00\", \"2017-11-22T00:00:00\", \"2018-03-23T00:00:00\", \"2017-10-07T00:00:00\", \"2017-09-26T00:00:00\", \"2018-05-29T00:00:00\", \"2018-05-05T00:00:00\", \"2018-04-27T00:00:00\", \"2017-09-15T00:00:00\", \"2018-02-24T00:00:00\", \"2018-05-07T00:00:00\", \"2018-05-28T00:00:00\", \"2018-02-25T00:00:00\", \"2018-04-01T00:00:00\", \"2017-08-18T00:00:00\", \"2018-05-11T00:00:00\", \"2018-05-26T00:00:00\", \"2017-09-16T00:00:00\", \"2018-04-18T00:00:00\", \"2018-05-20T00:00:00\", \"2018-05-28T00:00:00\", \"2017-11-17T00:00:00\", \"2018-05-15T00:00:00\", \"2018-05-28T00:00:00\", \"2017-12-11T00:00:00\", \"2018-02-22T00:00:00\", \"2018-02-04T00:00:00\", \"2018-03-29T00:00:00\", \"2018-02-15T00:00:00\", \"2018-04-27T00:00:00\", \"2018-01-12T00:00:00\", \"2018-02-06T00:00:00\", \"2017-11-30T00:00:00\", \"2018-03-11T00:00:00\", \"2018-05-18T00:00:00\", \"2018-05-14T00:00:00\", \"2018-05-08T00:00:00\", \"2018-04-02T00:00:00\", \"2018-04-27T00:00:00\", \"2018-02-08T00:00:00\", \"2018-05-14T00:00:00\", \"2018-03-25T00:00:00\", \"2018-05-06T00:00:00\", \"2017-07-27T00:00:00\", \"2018-02-05T00:00:00\", \"2017-09-25T00:00:00\", \"2018-05-02T00:00:00\", \"2017-07-17T00:00:00\", \"2018-03-28T00:00:00\", \"2018-03-23T00:00:00\", \"2018-05-09T00:00:00\", \"2018-04-11T00:00:00\", \"2018-04-26T00:00:00\", \"2017-10-04T00:00:00\", \"2018-01-16T00:00:00\", \"2018-04-18T00:00:00\", \"2018-05-12T00:00:00\", \"2018-03-26T00:00:00\", \"2018-02-24T00:00:00\", \"2018-04-02T00:00:00\", \"2017-07-26T00:00:00\", \"2018-02-01T00:00:00\", \"2018-01-24T00:00:00\", \"2018-05-01T00:00:00\", \"2018-05-22T00:00:00\", \"2017-07-31T00:00:00\", \"2018-02-22T00:00:00\", \"2018-01-05T00:00:00\", \"2018-01-23T00:00:00\", \"2017-10-09T00:00:00\", \"2018-01-31T00:00:00\", \"2018-02-06T00:00:00\", \"2018-03-26T00:00:00\", \"2017-07-23T00:00:00\", \"2018-05-02T00:00:00\", \"2017-08-10T00:00:00\", \"2018-04-19T00:00:00\", \"2017-11-21T00:00:00\", \"2017-09-27T00:00:00\", \"2017-11-30T00:00:00\", \"2018-02-26T00:00:00\", \"2017-09-07T00:00:00\", \"2018-04-18T00:00:00\", \"2018-03-07T00:00:00\", \"2018-04-16T00:00:00\", \"2018-01-10T00:00:00\", \"2018-01-25T00:00:00\", \"2018-02-12T00:00:00\", \"2018-05-12T00:00:00\", \"2018-03-13T00:00:00\", \"2018-03-12T00:00:00\", \"2017-10-31T00:00:00\", \"2018-04-20T00:00:00\", \"2018-02-28T00:00:00\", \"2018-04-16T00:00:00\", \"2018-04-18T00:00:00\", \"2018-01-02T00:00:00\", \"2018-02-03T00:00:00\", \"2018-01-21T00:00:00\", \"2018-04-30T00:00:00\", \"2017-11-10T00:00:00\", \"2018-01-17T00:00:00\", \"2017-08-15T00:00:00\", \"2018-01-27T00:00:00\", \"2018-01-10T00:00:00\", \"2018-03-15T00:00:00\", \"2018-01-22T00:00:00\", \"2018-02-28T00:00:00\", \"2018-03-26T00:00:00\", \"2017-09-24T00:00:00\", \"2018-05-02T00:00:00\", \"2018-03-08T00:00:00\", \"2018-01-31T00:00:00\", \"2017-11-10T00:00:00\", \"2018-04-25T00:00:00\", \"2017-10-17T00:00:00\", \"2018-03-28T00:00:00\", \"2018-01-11T00:00:00\", \"2017-10-23T00:00:00\", \"2018-03-26T00:00:00\", \"2017-08-22T00:00:00\", \"2018-02-01T00:00:00\", \"2018-05-23T00:00:00\", \"2018-01-11T00:00:00\", \"2018-03-10T00:00:00\", \"2018-01-26T00:00:00\", \"2018-02-06T00:00:00\", \"2018-05-15T00:00:00\", \"2018-01-25T00:00:00\", \"2017-09-26T00:00:00\", \"2018-02-19T00:00:00\", \"2018-04-09T00:00:00\", \"2018-05-15T00:00:00\", \"2018-03-27T00:00:00\", \"2018-05-16T00:00:00\", \"2017-08-08T00:00:00\", \"2018-05-31T00:00:00\", \"2017-10-23T00:00:00\", \"2017-11-14T00:00:00\", \"2018-05-17T00:00:00\", \"2018-02-21T00:00:00\", \"2017-09-14T00:00:00\", \"2017-08-17T00:00:00\", \"2018-05-07T00:00:00\", \"2018-03-29T00:00:00\", \"2018-01-14T00:00:00\", \"2018-02-07T00:00:00\", \"2018-05-07T00:00:00\", \"2018-02-16T00:00:00\", \"2018-05-22T00:00:00\", \"2018-03-11T00:00:00\", \"2017-08-31T00:00:00\", \"2017-11-21T00:00:00\", \"2018-05-15T00:00:00\", \"2017-10-27T00:00:00\", \"2018-01-17T00:00:00\", \"2017-07-31T00:00:00\", \"2018-05-09T00:00:00\", \"2017-11-24T00:00:00\", \"2018-04-20T00:00:00\", \"2018-05-30T00:00:00\", \"2018-02-11T00:00:00\", \"2018-02-25T00:00:00\", \"2017-10-18T00:00:00\", \"2018-03-30T00:00:00\", \"2018-04-29T00:00:00\", \"2018-03-13T00:00:00\", \"2017-10-17T00:00:00\", \"2018-02-25T00:00:00\", \"2018-01-24T00:00:00\", \"2017-09-20T00:00:00\", \"2018-05-07T00:00:00\", \"2017-07-18T00:00:00\", \"2017-09-18T00:00:00\", \"2018-04-24T00:00:00\", \"2018-01-04T00:00:00\", \"2018-02-20T00:00:00\", \"2018-02-20T00:00:00\", \"2018-02-15T00:00:00\", \"2017-08-14T00:00:00\", \"2017-07-27T00:00:00\", \"2018-03-18T00:00:00\", \"2018-02-12T00:00:00\", \"2017-11-06T00:00:00\", \"2017-09-10T00:00:00\", \"2018-04-08T00:00:00\", \"2018-01-05T00:00:00\", \"2017-08-14T00:00:00\", \"2018-04-20T00:00:00\", \"2017-09-29T00:00:00\", \"2018-04-12T00:00:00\", \"2018-05-17T00:00:00\", \"2018-04-01T00:00:00\", \"2018-01-14T00:00:00\", \"2018-01-16T00:00:00\", \"2018-05-05T00:00:00\", \"2017-07-25T00:00:00\", \"2018-04-06T00:00:00\", \"2018-05-25T00:00:00\", \"2018-05-02T00:00:00\", \"2017-10-10T00:00:00\", \"2018-01-08T00:00:00\", \"2018-02-23T00:00:00\", \"2018-04-12T00:00:00\", \"2018-04-22T00:00:00\", \"2018-03-06T00:00:00\", \"2018-01-02T00:00:00\", \"2018-03-04T00:00:00\", \"2018-02-20T00:00:00\", \"2018-05-20T00:00:00\", \"2018-04-09T00:00:00\", \"2018-03-02T00:00:00\", \"2018-05-15T00:00:00\", \"2017-11-07T00:00:00\", \"2018-04-26T00:00:00\", \"2018-02-23T00:00:00\", \"2018-04-30T00:00:00\", \"2018-02-03T00:00:00\", \"2018-02-23T00:00:00\", \"2018-01-04T00:00:00\", \"2018-03-23T00:00:00\", \"2017-11-09T00:00:00\", \"2017-12-14T00:00:00\", \"2017-12-29T00:00:00\", \"2018-03-23T00:00:00\", \"2018-03-29T00:00:00\", \"2018-03-20T00:00:00\", \"2018-05-07T00:00:00\", \"2018-02-12T00:00:00\", \"2018-02-27T00:00:00\", \"2018-04-05T00:00:00\", \"2018-03-08T00:00:00\", \"2018-05-05T00:00:00\", \"2018-04-30T00:00:00\", \"2018-04-09T00:00:00\", \"2017-11-13T00:00:00\", \"2017-07-19T00:00:00\", \"2017-11-17T00:00:00\", \"2018-01-31T00:00:00\", \"2018-05-02T00:00:00\", \"2018-01-29T00:00:00\", \"2018-02-01T00:00:00\", \"2018-05-13T00:00:00\", \"2017-08-22T00:00:00\", \"2018-03-27T00:00:00\", \"2018-04-06T00:00:00\", \"2018-03-18T00:00:00\", \"2018-04-02T00:00:00\", \"2018-01-17T00:00:00\", \"2018-05-24T00:00:00\", \"2018-05-18T00:00:00\", \"2018-03-31T00:00:00\", \"2018-05-18T00:00:00\", \"2018-01-29T00:00:00\", \"2017-10-25T00:00:00\", \"2017-11-30T00:00:00\", \"2018-05-16T00:00:00\", \"2018-03-09T00:00:00\", \"2018-02-03T00:00:00\", \"2018-05-08T00:00:00\", \"2018-05-03T00:00:00\", \"2018-02-20T00:00:00\", \"2017-08-18T00:00:00\", \"2017-10-05T00:00:00\", \"2018-02-06T00:00:00\", \"2018-04-26T00:00:00\", \"2018-04-22T00:00:00\", \"2018-03-26T00:00:00\", \"2018-04-27T00:00:00\", \"2018-04-30T00:00:00\", \"2018-04-18T00:00:00\", \"2018-01-17T00:00:00\", \"2018-05-25T00:00:00\", \"2018-02-25T00:00:00\", \"2017-12-26T00:00:00\", \"2017-07-07T00:00:00\", \"2018-05-16T00:00:00\", \"2018-04-16T00:00:00\", \"2017-10-27T00:00:00\", \"2017-08-14T00:00:00\", \"2017-07-25T00:00:00\", \"2018-03-13T00:00:00\", \"2018-02-28T00:00:00\", \"2018-02-15T00:00:00\", \"2018-03-02T00:00:00\", \"2018-01-08T00:00:00\", \"2018-02-02T00:00:00\", \"2018-04-04T00:00:00\", \"2018-05-19T00:00:00\", \"2018-05-08T00:00:00\", \"2018-05-16T00:00:00\", \"2017-07-05T00:00:00\", \"2018-04-23T00:00:00\", \"2018-05-22T00:00:00\", \"2018-02-08T00:00:00\", \"2018-04-21T00:00:00\", \"2018-03-22T00:00:00\", \"2018-03-11T00:00:00\", \"2017-10-25T00:00:00\", \"2018-05-23T00:00:00\", \"2017-12-27T00:00:00\", \"2018-02-07T00:00:00\", \"2018-05-28T00:00:00\", \"2017-10-26T00:00:00\", \"2018-02-17T00:00:00\", \"2018-02-16T00:00:00\", \"2018-02-02T00:00:00\", \"2018-04-12T00:00:00\", \"2018-01-16T00:00:00\", \"2018-05-10T00:00:00\", \"2018-04-26T00:00:00\", \"2018-04-21T00:00:00\", \"2018-04-27T00:00:00\", \"2018-03-26T00:00:00\", \"2018-01-05T00:00:00\", \"2018-01-29T00:00:00\", \"2018-02-22T00:00:00\", \"2018-05-12T00:00:00\", \"2017-07-07T00:00:00\", \"2018-03-19T00:00:00\", \"2018-01-21T00:00:00\", \"2018-04-06T00:00:00\", \"2018-05-31T00:00:00\", \"2017-09-14T00:00:00\", \"2018-05-19T00:00:00\", \"2018-04-23T00:00:00\", \"2017-10-10T00:00:00\", \"2018-05-24T00:00:00\", \"2018-02-05T00:00:00\", \"2017-08-01T00:00:00\", \"2018-05-07T00:00:00\", \"2018-04-13T00:00:00\", \"2018-01-29T00:00:00\", \"2017-10-06T00:00:00\", \"2017-10-25T00:00:00\", \"2017-10-09T00:00:00\", \"2018-04-20T00:00:00\", \"2017-08-23T00:00:00\", \"2018-05-17T00:00:00\", \"2018-01-13T00:00:00\", \"2017-09-05T00:00:00\", \"2017-11-07T00:00:00\", \"2017-09-13T00:00:00\", \"2018-02-28T00:00:00\", \"2017-11-26T00:00:00\", \"2018-03-28T00:00:00\", \"2018-01-11T00:00:00\", \"2018-01-09T00:00:00\", \"2018-05-10T00:00:00\", \"2018-05-31T00:00:00\", \"2018-04-10T00:00:00\", \"2018-02-06T00:00:00\", \"2017-11-28T00:00:00\", \"2018-02-26T00:00:00\", \"2018-03-21T00:00:00\", \"2018-02-22T00:00:00\", \"2018-02-05T00:00:00\", \"2018-05-15T00:00:00\", \"2017-11-22T00:00:00\", \"2017-09-13T00:00:00\", \"2018-04-17T00:00:00\", \"2018-03-05T00:00:00\", \"2017-10-18T00:00:00\", \"2018-02-05T00:00:00\", \"2018-04-16T00:00:00\", \"2018-01-17T00:00:00\", \"2017-11-29T00:00:00\", \"2018-01-30T00:00:00\", \"2018-01-08T00:00:00\", \"2018-01-20T00:00:00\", \"2018-04-25T00:00:00\", \"2017-10-26T00:00:00\", \"2018-03-02T00:00:00\", \"2018-01-25T00:00:00\", \"2018-02-16T00:00:00\", \"2017-12-29T00:00:00\", \"2018-05-08T00:00:00\", \"2017-11-27T00:00:00\", \"2018-02-26T00:00:00\", \"2018-04-18T00:00:00\", \"2017-11-27T00:00:00\", \"2017-10-26T00:00:00\", \"2018-03-30T00:00:00\", \"2018-03-07T00:00:00\", \"2017-11-21T00:00:00\", \"2017-12-30T00:00:00\", \"2018-03-23T00:00:00\", \"2017-11-13T00:00:00\", \"2017-07-24T00:00:00\", \"2018-03-05T00:00:00\", \"2017-12-15T00:00:00\", \"2018-01-20T00:00:00\", \"2018-02-26T00:00:00\", \"2018-03-28T00:00:00\", \"2017-10-09T00:00:00\", \"2018-03-09T00:00:00\", \"2017-08-31T00:00:00\", \"2018-04-30T00:00:00\", \"2018-03-23T00:00:00\", \"2017-11-30T00:00:00\", \"2018-02-15T00:00:00\", \"2017-11-17T00:00:00\", \"2018-01-19T00:00:00\", \"2018-05-02T00:00:00\", \"2018-03-16T00:00:00\", \"2017-09-12T00:00:00\", \"2018-02-05T00:00:00\", \"2017-11-07T00:00:00\", \"2018-03-31T00:00:00\", \"2017-09-14T00:00:00\", \"2017-12-27T00:00:00\", \"2018-01-26T00:00:00\", \"2018-03-21T00:00:00\", \"2017-07-31T00:00:00\", \"2017-11-14T00:00:00\", \"2018-01-15T00:00:00\", \"2018-01-17T00:00:00\", \"2018-05-25T00:00:00\", \"2018-05-10T00:00:00\", \"2018-01-05T00:00:00\", \"2018-01-09T00:00:00\", \"2018-01-06T00:00:00\", \"2018-03-15T00:00:00\", \"2018-05-26T00:00:00\", \"2018-02-04T00:00:00\", \"2017-09-21T00:00:00\", \"2018-04-03T00:00:00\", \"2018-05-17T00:00:00\", \"2018-05-29T00:00:00\", \"2018-03-23T00:00:00\", \"2018-03-19T00:00:00\", \"2018-01-28T00:00:00\", \"2018-03-26T00:00:00\", \"2018-04-16T00:00:00\", \"2018-04-27T00:00:00\", \"2018-04-25T00:00:00\", \"2018-02-23T00:00:00\", \"2017-08-06T00:00:00\", \"2018-04-20T00:00:00\", \"2018-01-17T00:00:00\", \"2018-05-01T00:00:00\", \"2018-02-06T00:00:00\", \"2018-03-23T00:00:00\", \"2018-03-20T00:00:00\", \"2018-02-08T00:00:00\", \"2018-01-22T00:00:00\", \"2018-02-21T00:00:00\", \"2017-11-11T00:00:00\", \"2018-03-05T00:00:00\", \"2018-04-18T00:00:00\", \"2017-11-05T00:00:00\", \"2018-05-08T00:00:00\", \"2018-03-05T00:00:00\", \"2017-08-14T00:00:00\", \"2018-01-07T00:00:00\", \"2018-03-13T00:00:00\", \"2018-01-23T00:00:00\", \"2018-01-16T00:00:00\", \"2018-02-06T00:00:00\", \"2018-05-17T00:00:00\", \"2018-03-29T00:00:00\", \"2017-09-21T00:00:00\", \"2018-02-22T00:00:00\", \"2018-02-08T00:00:00\", \"2017-08-07T00:00:00\", \"2018-05-07T00:00:00\", \"2018-01-26T00:00:00\", \"2018-05-08T00:00:00\", \"2017-11-29T00:00:00\", \"2018-01-18T00:00:00\", \"2018-03-01T00:00:00\", \"2018-03-29T00:00:00\", \"2018-02-07T00:00:00\", \"2017-09-20T00:00:00\", \"2018-05-15T00:00:00\", \"2017-11-24T00:00:00\", \"2018-03-05T00:00:00\", \"2018-04-16T00:00:00\", \"2017-10-31T00:00:00\", \"2018-05-21T00:00:00\", \"2018-04-25T00:00:00\", \"2018-05-10T00:00:00\", \"2018-01-22T00:00:00\", \"2017-10-11T00:00:00\", \"2018-05-21T00:00:00\", \"2018-05-07T00:00:00\", \"2018-04-10T00:00:00\", \"2017-07-24T00:00:00\", \"2017-10-18T00:00:00\", \"2018-04-17T00:00:00\", \"2018-02-06T00:00:00\", \"2017-09-19T00:00:00\", \"2018-05-06T00:00:00\", \"2018-04-04T00:00:00\", \"2018-05-06T00:00:00\", \"2017-10-18T00:00:00\", \"2018-01-08T00:00:00\", \"2018-04-19T00:00:00\", \"2018-04-03T00:00:00\", \"2018-04-19T00:00:00\", \"2017-08-01T00:00:00\", \"2017-10-19T00:00:00\", \"2017-06-14T00:00:00\", \"2018-03-28T00:00:00\", \"2018-01-03T00:00:00\", \"2017-09-09T00:00:00\", \"2018-03-14T00:00:00\", \"2018-01-18T00:00:00\", \"2018-05-23T00:00:00\", \"2018-02-12T00:00:00\", \"2017-09-04T00:00:00\", \"2018-04-03T00:00:00\", \"2018-04-03T00:00:00\", \"2018-02-23T00:00:00\", \"2018-05-03T00:00:00\", \"2018-05-21T00:00:00\", \"2018-03-12T00:00:00\", \"2018-01-26T00:00:00\", \"2018-02-01T00:00:00\", \"2017-10-17T00:00:00\", \"2018-02-05T00:00:00\", \"2017-11-21T00:00:00\", \"2018-03-23T00:00:00\", \"2018-05-13T00:00:00\", \"2018-03-13T00:00:00\", \"2018-05-11T00:00:00\", \"2018-04-20T00:00:00\", \"2018-02-19T00:00:00\", \"2017-11-27T00:00:00\", \"2018-05-13T00:00:00\", \"2018-03-08T00:00:00\", \"2017-12-23T00:00:00\", \"2017-11-06T00:00:00\", \"2018-01-25T00:00:00\", \"2018-02-14T00:00:00\", \"2018-04-10T00:00:00\", \"2018-05-02T00:00:00\", \"2018-01-17T00:00:00\", \"2018-04-02T00:00:00\", \"2017-07-31T00:00:00\", \"2017-07-06T00:00:00\", \"2018-02-19T00:00:00\", \"2018-05-02T00:00:00\", \"2018-02-20T00:00:00\", \"2017-08-16T00:00:00\", \"2018-02-19T00:00:00\", \"2018-02-06T00:00:00\", \"2018-01-16T00:00:00\", \"2018-03-14T00:00:00\", \"2018-01-23T00:00:00\", \"2018-01-17T00:00:00\", \"2018-02-24T00:00:00\", \"2018-01-04T00:00:00\", \"2018-05-19T00:00:00\", \"2018-02-06T00:00:00\", \"2018-05-02T00:00:00\", \"2017-12-28T00:00:00\", \"2017-12-25T00:00:00\", \"2017-09-12T00:00:00\", \"2018-05-18T00:00:00\", \"2018-05-09T00:00:00\", \"2018-05-05T00:00:00\", \"2018-02-26T00:00:00\", \"2018-05-02T00:00:00\", \"2017-09-29T00:00:00\", \"2018-05-21T00:00:00\", \"2018-04-07T00:00:00\", \"2018-03-04T00:00:00\", \"2018-02-09T00:00:00\", \"2018-03-15T00:00:00\", \"2018-05-30T00:00:00\", \"2018-02-10T00:00:00\", \"2018-01-17T00:00:00\", \"2018-04-27T00:00:00\", \"2018-02-20T00:00:00\", \"2017-08-04T00:00:00\", \"2018-04-04T00:00:00\", \"2018-02-08T00:00:00\", \"2018-01-29T00:00:00\", \"2018-05-09T00:00:00\", \"2018-05-10T00:00:00\", \"2018-05-24T00:00:00\", \"2018-04-27T00:00:00\", \"2018-04-24T00:00:00\", \"2018-01-05T00:00:00\", \"2017-08-09T00:00:00\", \"2017-10-21T00:00:00\", \"2018-02-08T00:00:00\", \"2018-03-29T00:00:00\", \"2018-03-28T00:00:00\", \"2018-03-16T00:00:00\", \"2017-11-13T00:00:00\", \"2017-11-29T00:00:00\", \"2018-04-08T00:00:00\", \"2017-08-08T00:00:00\", \"2017-10-15T00:00:00\", \"2018-02-28T00:00:00\", \"2018-03-14T00:00:00\", \"2018-01-10T00:00:00\", \"2017-11-22T00:00:00\", \"2018-03-27T00:00:00\", \"2018-05-15T00:00:00\", \"2018-04-29T00:00:00\", \"2018-01-01T00:00:00\", \"2018-03-05T00:00:00\", \"2018-05-03T00:00:00\", \"2018-03-23T00:00:00\", \"2017-12-26T00:00:00\", \"2017-09-14T00:00:00\", \"2018-05-15T00:00:00\", \"2018-05-15T00:00:00\", \"2018-04-06T00:00:00\", \"2018-04-12T00:00:00\", \"2018-01-31T00:00:00\", \"2018-05-24T00:00:00\", \"2018-04-19T00:00:00\", \"2018-04-03T00:00:00\", \"2017-09-24T00:00:00\", \"2017-10-13T00:00:00\", \"2018-05-10T00:00:00\", \"2018-05-02T00:00:00\", \"2018-05-26T00:00:00\", \"2018-01-10T00:00:00\", \"2018-02-22T00:00:00\", \"2018-05-03T00:00:00\", \"2018-01-12T00:00:00\", \"2017-09-26T00:00:00\", \"2018-02-25T00:00:00\", \"2017-06-16T00:00:00\", \"2018-03-07T00:00:00\", \"2017-08-17T00:00:00\", \"2018-05-02T00:00:00\", \"2018-03-12T00:00:00\", \"2018-02-14T00:00:00\", \"2018-01-04T00:00:00\", \"2017-08-19T00:00:00\", \"2018-04-26T00:00:00\", \"2018-05-15T00:00:00\", \"2018-02-16T00:00:00\", \"2018-01-14T00:00:00\", \"2018-04-05T00:00:00\", \"2018-03-21T00:00:00\", \"2018-05-10T00:00:00\", \"2018-02-08T00:00:00\", \"2018-05-25T00:00:00\", \"2018-02-14T00:00:00\", \"2018-02-16T00:00:00\", \"2017-07-18T00:00:00\", \"2018-04-18T00:00:00\", \"2017-12-22T00:00:00\", \"2018-01-03T00:00:00\", \"2018-02-06T00:00:00\", \"2018-01-11T00:00:00\", \"2018-03-14T00:00:00\", \"2018-01-12T00:00:00\", \"2018-01-23T00:00:00\", \"2018-05-23T00:00:00\", \"2018-04-03T00:00:00\", \"2017-10-22T00:00:00\", \"2018-02-19T00:00:00\", \"2018-02-05T00:00:00\", \"2017-09-14T00:00:00\", \"2018-05-21T00:00:00\", \"2017-08-24T00:00:00\", \"2018-05-02T00:00:00\", \"2018-04-26T00:00:00\", \"2018-02-16T00:00:00\", \"2017-09-14T00:00:00\", \"2018-03-19T00:00:00\", \"2017-10-11T00:00:00\", \"2018-04-03T00:00:00\", \"2018-05-29T00:00:00\", \"2017-11-13T00:00:00\", \"2018-03-16T00:00:00\", \"2018-03-26T00:00:00\", \"2018-03-02T00:00:00\", \"2018-03-23T00:00:00\", \"2018-01-29T00:00:00\", \"2018-05-22T00:00:00\", \"2018-01-24T00:00:00\", \"2017-09-22T00:00:00\", \"2017-11-30T00:00:00\", \"2018-04-27T00:00:00\", \"2018-05-16T00:00:00\", \"2017-11-29T00:00:00\", \"2018-05-08T00:00:00\", \"2018-03-22T00:00:00\", \"2018-05-09T00:00:00\", \"2018-01-10T00:00:00\", \"2017-09-03T00:00:00\", \"2018-02-07T00:00:00\", \"2018-05-02T00:00:00\", \"2018-01-10T00:00:00\", \"2018-05-22T00:00:00\", \"2018-02-26T00:00:00\", \"2018-02-22T00:00:00\", \"2018-03-05T00:00:00\", \"2018-04-14T00:00:00\", \"2018-05-08T00:00:00\", \"2018-01-14T00:00:00\", \"2018-01-11T00:00:00\", \"2018-05-08T00:00:00\", \"2018-05-06T00:00:00\", \"2018-02-13T00:00:00\", \"2018-02-15T00:00:00\", \"2018-05-02T00:00:00\", \"2018-02-04T00:00:00\", \"2018-02-22T00:00:00\", \"2017-10-20T00:00:00\", \"2018-01-24T00:00:00\", \"2017-12-26T00:00:00\", \"2018-03-20T00:00:00\", \"2017-09-13T00:00:00\", \"2018-05-21T00:00:00\", \"2018-04-25T00:00:00\", \"2018-02-05T00:00:00\", \"2017-10-28T00:00:00\", \"2018-04-05T00:00:00\", \"2017-08-14T00:00:00\", \"2018-03-21T00:00:00\", \"2018-05-28T00:00:00\", \"2018-01-08T00:00:00\", \"2018-04-11T00:00:00\", \"2017-09-04T00:00:00\", \"2018-04-09T00:00:00\", \"2018-03-12T00:00:00\", \"2018-01-09T00:00:00\", \"2018-04-30T00:00:00\", \"2018-04-18T00:00:00\", \"2018-02-14T00:00:00\", \"2018-05-15T00:00:00\", \"2018-02-22T00:00:00\", \"2017-08-13T00:00:00\", \"2017-07-05T00:00:00\", \"2018-04-27T00:00:00\", \"2018-05-12T00:00:00\", \"2018-05-08T00:00:00\", \"2018-04-03T00:00:00\", \"2017-08-03T00:00:00\", \"2017-10-15T00:00:00\", \"2018-04-05T00:00:00\", \"2018-05-13T00:00:00\", \"2018-03-22T00:00:00\", \"2017-08-23T00:00:00\", \"2018-01-09T00:00:00\", \"2018-01-08T00:00:00\", \"2018-04-05T00:00:00\", \"2018-05-09T00:00:00\", \"2018-05-08T00:00:00\", \"2018-02-23T00:00:00\", \"2018-03-13T00:00:00\", \"2018-01-13T00:00:00\", \"2017-11-08T00:00:00\", \"2018-03-02T00:00:00\", \"2018-05-04T00:00:00\", \"2017-08-09T00:00:00\", \"2018-02-22T00:00:00\", \"2018-03-16T00:00:00\", \"2018-05-11T00:00:00\", \"2018-02-06T00:00:00\", \"2018-02-10T00:00:00\", \"2017-09-08T00:00:00\", \"2018-03-24T00:00:00\", \"2018-03-26T00:00:00\", \"2017-07-27T00:00:00\", \"2018-04-05T00:00:00\", \"2018-05-14T00:00:00\", \"2018-01-21T00:00:00\", \"2018-02-22T00:00:00\", \"2017-10-25T00:00:00\", \"2017-09-24T00:00:00\", \"2018-01-16T00:00:00\", \"2018-04-30T00:00:00\", \"2018-05-16T00:00:00\", \"2017-11-26T00:00:00\", \"2018-03-08T00:00:00\", \"2018-02-21T00:00:00\", \"2017-10-26T00:00:00\", \"2017-11-23T00:00:00\", \"2018-04-14T00:00:00\", \"2018-05-26T00:00:00\", \"2018-05-22T00:00:00\", \"2017-07-23T00:00:00\", \"2018-01-08T00:00:00\", \"2017-10-31T00:00:00\", \"2017-10-30T00:00:00\", \"2018-03-13T00:00:00\", \"2018-03-07T00:00:00\", \"2017-12-19T00:00:00\", \"2018-04-19T00:00:00\", \"2017-08-09T00:00:00\", \"2018-02-15T00:00:00\", \"2018-04-08T00:00:00\", \"2017-08-07T00:00:00\", \"2017-11-30T00:00:00\", \"2018-03-26T00:00:00\", \"2018-03-04T00:00:00\", \"2018-01-08T00:00:00\", \"2018-03-13T00:00:00\", \"2018-03-02T00:00:00\", \"2017-12-26T00:00:00\", \"2018-02-14T00:00:00\", \"2017-11-24T00:00:00\", \"2018-05-04T00:00:00\", \"2017-09-11T00:00:00\", \"2017-12-19T00:00:00\", \"2018-04-10T00:00:00\", \"2018-02-27T00:00:00\", \"2017-10-10T00:00:00\", \"2018-03-26T00:00:00\", \"2017-07-05T00:00:00\", \"2018-04-16T00:00:00\", \"2018-03-20T00:00:00\", \"2018-04-30T00:00:00\", \"2017-08-21T00:00:00\", \"2018-04-03T00:00:00\", \"2018-03-26T00:00:00\", \"2018-01-17T00:00:00\", \"2018-03-26T00:00:00\", \"2018-05-18T00:00:00\", \"2018-01-05T00:00:00\", \"2018-03-13T00:00:00\", \"2018-03-14T00:00:00\", \"2018-02-09T00:00:00\", \"2018-03-14T00:00:00\", \"2018-02-16T00:00:00\", \"2018-02-16T00:00:00\", \"2017-09-11T00:00:00\", \"2018-03-28T00:00:00\", \"2018-05-10T00:00:00\", \"2018-02-09T00:00:00\", \"2018-04-09T00:00:00\", \"2018-05-22T00:00:00\", \"2018-02-12T00:00:00\", \"2018-02-14T00:00:00\", \"2018-05-02T00:00:00\", \"2018-01-22T00:00:00\", \"2018-04-28T00:00:00\", \"2018-02-01T00:00:00\", \"2018-04-02T00:00:00\", \"2018-02-05T00:00:00\", \"2018-05-03T00:00:00\", \"2017-11-18T00:00:00\", \"2018-03-30T00:00:00\", \"2018-05-28T00:00:00\", \"2018-05-24T00:00:00\", \"2018-04-16T00:00:00\", \"2018-03-26T00:00:00\", \"2018-04-22T00:00:00\", \"2018-03-29T00:00:00\", \"2018-03-16T00:00:00\", \"2018-04-16T00:00:00\", \"2018-03-30T00:00:00\", \"2017-10-30T00:00:00\", \"2017-09-14T00:00:00\", \"2018-04-09T00:00:00\", \"2018-04-30T00:00:00\", \"2018-02-23T00:00:00\", \"2017-08-23T00:00:00\", \"2018-04-23T00:00:00\", \"2018-02-06T00:00:00\", \"2017-07-21T00:00:00\", \"2017-07-11T00:00:00\", \"2018-05-23T00:00:00\", \"2018-01-10T00:00:00\", \"2018-05-17T00:00:00\", \"2017-11-30T00:00:00\", \"2018-02-08T00:00:00\", \"2017-11-13T00:00:00\", \"2018-05-14T00:00:00\", \"2018-05-29T00:00:00\", \"2018-04-02T00:00:00\", \"2018-01-19T00:00:00\", \"2018-02-28T00:00:00\", \"2018-04-29T00:00:00\", \"2017-09-15T00:00:00\", \"2017-12-26T00:00:00\", \"2018-05-16T00:00:00\", \"2018-04-13T00:00:00\", \"2017-11-01T00:00:00\", \"2017-10-27T00:00:00\", \"2017-09-18T00:00:00\", \"2018-04-18T00:00:00\", \"2018-04-11T00:00:00\", \"2018-02-14T00:00:00\", \"2018-05-02T00:00:00\", \"2018-01-02T00:00:00\", \"2017-08-09T00:00:00\", \"2018-03-03T00:00:00\", \"2018-05-28T00:00:00\", \"2017-11-24T00:00:00\", \"2018-04-05T00:00:00\", \"2017-09-06T00:00:00\", \"2018-01-10T00:00:00\", \"2018-01-30T00:00:00\", \"2018-04-19T00:00:00\", \"2018-02-16T00:00:00\", \"2018-03-28T00:00:00\", \"2018-04-03T00:00:00\", \"2018-04-02T00:00:00\", \"2017-08-28T00:00:00\", \"2017-08-10T00:00:00\", \"2018-04-23T00:00:00\", \"2018-02-04T00:00:00\", \"2018-01-30T00:00:00\", \"2018-04-02T00:00:00\", \"2018-04-20T00:00:00\", \"2018-03-01T00:00:00\", \"2018-04-24T00:00:00\", \"2018-04-15T00:00:00\", \"2017-12-29T00:00:00\", \"2017-11-14T00:00:00\", \"2017-08-18T00:00:00\", \"2017-07-27T00:00:00\", \"2018-03-19T00:00:00\", \"2017-08-27T00:00:00\", \"2018-04-04T00:00:00\", \"2017-10-18T00:00:00\", \"2017-11-30T00:00:00\", \"2018-02-15T00:00:00\", \"2017-11-02T00:00:00\", \"2018-03-16T00:00:00\", \"2018-03-13T00:00:00\", \"2018-01-20T00:00:00\", \"2017-10-03T00:00:00\", \"2017-09-27T00:00:00\", \"2017-09-23T00:00:00\", \"2018-03-23T00:00:00\", \"2018-02-11T00:00:00\", \"2018-05-16T00:00:00\", \"2018-02-28T00:00:00\", \"2018-03-05T00:00:00\", \"2017-08-15T00:00:00\", \"2018-05-03T00:00:00\", \"2018-05-25T00:00:00\", \"2018-02-08T00:00:00\", \"2017-08-23T00:00:00\", \"2017-12-26T00:00:00\", \"2018-01-30T00:00:00\", \"2018-04-26T00:00:00\", \"2017-10-10T00:00:00\", \"2018-01-23T00:00:00\", \"2018-05-22T00:00:00\", \"2018-05-08T00:00:00\", \"2018-03-13T00:00:00\", \"2018-05-01T00:00:00\", \"2018-01-19T00:00:00\", \"2017-07-04T00:00:00\", \"2018-04-06T00:00:00\", \"2018-04-24T00:00:00\", \"2017-07-17T00:00:00\", \"2018-03-19T00:00:00\", \"2017-11-19T00:00:00\", \"2018-04-12T00:00:00\", \"2018-02-06T00:00:00\", \"2018-01-23T00:00:00\", \"2018-04-27T00:00:00\", \"2018-04-10T00:00:00\", \"2017-08-01T00:00:00\", \"2018-05-19T00:00:00\", \"2018-05-02T00:00:00\", \"2018-01-16T00:00:00\", \"2018-05-30T00:00:00\", \"2018-03-15T00:00:00\", \"2018-01-19T00:00:00\", \"2017-08-29T00:00:00\", \"2018-04-24T00:00:00\", \"2018-05-18T00:00:00\", \"2018-03-28T00:00:00\", \"2018-04-09T00:00:00\", \"2018-01-31T00:00:00\", \"2018-01-15T00:00:00\", \"2018-04-22T00:00:00\", \"2018-01-19T00:00:00\", \"2017-08-27T00:00:00\", \"2018-01-31T00:00:00\", \"2017-09-29T00:00:00\", \"2018-03-09T00:00:00\", \"2018-05-30T00:00:00\", \"2018-01-30T00:00:00\", \"2018-01-26T00:00:00\", \"2018-01-04T00:00:00\", \"2017-08-01T00:00:00\", \"2018-03-08T00:00:00\", \"2017-12-26T00:00:00\", \"2018-04-04T00:00:00\", \"2018-04-24T00:00:00\", \"2018-02-19T00:00:00\", \"2017-09-01T00:00:00\", \"2018-03-24T00:00:00\", \"2018-03-19T00:00:00\", \"2017-10-06T00:00:00\", \"2018-04-27T00:00:00\", \"2018-03-12T00:00:00\", \"2018-01-23T00:00:00\", \"2018-04-23T00:00:00\", \"2018-01-23T00:00:00\", \"2018-04-26T00:00:00\", \"2018-01-23T00:00:00\", \"2018-02-25T00:00:00\", \"2018-04-08T00:00:00\", \"2018-01-19T00:00:00\", \"2017-10-02T00:00:00\", \"2018-03-07T00:00:00\", \"2018-03-22T00:00:00\", \"2017-09-04T00:00:00\", \"2018-02-05T00:00:00\", \"2018-01-24T00:00:00\", \"2018-03-19T00:00:00\", \"2018-04-06T00:00:00\", \"2017-11-22T00:00:00\", \"2018-05-01T00:00:00\", \"2018-04-20T00:00:00\", \"2018-03-01T00:00:00\", \"2018-01-06T00:00:00\", \"2018-05-23T00:00:00\", \"2017-11-26T00:00:00\", \"2017-09-29T00:00:00\", \"2018-03-12T00:00:00\", \"2018-05-28T00:00:00\", \"2018-05-22T00:00:00\", \"2018-03-05T00:00:00\", \"2018-02-05T00:00:00\", \"2018-03-21T00:00:00\", \"2018-05-15T00:00:00\", \"2018-01-07T00:00:00\", \"2018-01-08T00:00:00\", \"2017-10-26T00:00:00\", \"2018-05-04T00:00:00\", \"2017-08-17T00:00:00\", \"2018-02-07T00:00:00\", \"2018-04-10T00:00:00\", \"2018-03-12T00:00:00\", \"2017-11-09T00:00:00\", \"2018-02-02T00:00:00\", \"2018-03-29T00:00:00\", \"2018-02-11T00:00:00\", \"2018-01-23T00:00:00\", \"2018-05-18T00:00:00\", \"2018-04-26T00:00:00\", \"2017-12-29T00:00:00\", \"2018-02-17T00:00:00\", \"2018-01-30T00:00:00\", \"2017-12-18T00:00:00\", \"2017-09-30T00:00:00\", \"2018-01-29T00:00:00\", \"2018-03-14T00:00:00\", \"2017-11-02T00:00:00\", \"2018-05-30T00:00:00\", \"2018-02-27T00:00:00\", \"2018-03-06T00:00:00\", \"2018-01-15T00:00:00\", \"2018-05-02T00:00:00\", \"2018-02-03T00:00:00\", \"2018-05-25T00:00:00\", \"2018-03-16T00:00:00\", \"2017-11-10T00:00:00\", \"2018-02-01T00:00:00\", \"2018-03-26T00:00:00\", \"2018-02-11T00:00:00\", \"2017-11-10T00:00:00\", \"2018-02-12T00:00:00\", \"2018-02-06T00:00:00\", \"2018-03-06T00:00:00\", \"2018-03-28T00:00:00\", \"2018-04-18T00:00:00\", \"2018-01-31T00:00:00\", \"2018-05-26T00:00:00\", \"2018-03-06T00:00:00\", \"2017-08-01T00:00:00\", \"2017-08-21T00:00:00\", \"2018-01-30T00:00:00\", \"2018-04-02T00:00:00\", \"2018-01-18T00:00:00\", \"2018-01-18T00:00:00\", \"2017-11-27T00:00:00\", \"2018-04-11T00:00:00\", \"2018-03-09T00:00:00\", \"2018-04-25T00:00:00\", \"2018-03-07T00:00:00\", \"2018-04-23T00:00:00\", \"2018-03-25T00:00:00\", \"2018-01-07T00:00:00\", \"2018-01-15T00:00:00\", \"2018-03-21T00:00:00\", \"2017-12-19T00:00:00\", \"2018-03-20T00:00:00\", \"2018-02-02T00:00:00\", \"2018-04-17T00:00:00\", \"2017-08-15T00:00:00\", \"2018-04-07T00:00:00\", \"2017-11-01T00:00:00\", \"2018-02-06T00:00:00\", \"2017-08-24T00:00:00\", \"2017-08-06T00:00:00\", \"2018-02-19T00:00:00\", \"2017-07-22T00:00:00\", \"2018-04-27T00:00:00\", \"2018-01-11T00:00:00\", \"2017-11-21T00:00:00\", \"2017-07-04T00:00:00\", \"2018-04-04T00:00:00\", \"2018-02-06T00:00:00\", \"2017-07-21T00:00:00\", \"2018-04-13T00:00:00\", \"2018-04-01T00:00:00\", \"2018-05-15T00:00:00\", \"2018-02-09T00:00:00\", \"2018-02-28T00:00:00\", \"2017-08-10T00:00:00\", \"2018-04-16T00:00:00\", \"2018-04-01T00:00:00\", \"2018-04-04T00:00:00\", \"2018-04-11T00:00:00\", \"2018-05-21T00:00:00\", \"2018-05-29T00:00:00\", \"2018-05-02T00:00:00\", \"2018-03-28T00:00:00\", \"2017-12-27T00:00:00\", \"2018-03-08T00:00:00\", \"2017-10-10T00:00:00\", \"2018-02-21T00:00:00\", \"2017-08-04T00:00:00\", \"2017-07-26T00:00:00\", \"2018-03-19T00:00:00\", \"2017-07-11T00:00:00\", \"2018-03-27T00:00:00\", \"2018-03-22T00:00:00\", \"2018-01-22T00:00:00\", \"2018-02-26T00:00:00\", \"2018-04-03T00:00:00\", \"2018-03-12T00:00:00\", \"2018-03-14T00:00:00\", \"2018-03-09T00:00:00\", \"2018-02-08T00:00:00\", \"2018-05-30T00:00:00\", \"2018-02-19T00:00:00\", \"2018-04-14T00:00:00\", \"2018-01-18T00:00:00\", \"2018-01-09T00:00:00\", \"2018-05-25T00:00:00\", \"2017-07-28T00:00:00\", \"2018-04-15T00:00:00\", \"2017-10-28T00:00:00\", \"2018-03-05T00:00:00\", \"2018-01-10T00:00:00\", \"2018-04-30T00:00:00\", \"2018-01-08T00:00:00\", \"2018-03-06T00:00:00\", \"2017-08-10T00:00:00\", \"2018-05-16T00:00:00\", \"2017-07-31T00:00:00\", \"2017-08-21T00:00:00\", \"2018-03-14T00:00:00\", \"2018-04-27T00:00:00\", \"2018-01-08T00:00:00\", \"2018-01-16T00:00:00\", \"2018-03-17T00:00:00\", \"2018-05-14T00:00:00\", \"2018-05-02T00:00:00\", \"2017-11-23T00:00:00\", \"2018-03-20T00:00:00\", \"2018-05-10T00:00:00\", \"2018-03-21T00:00:00\", \"2018-03-18T00:00:00\", \"2017-11-06T00:00:00\", \"2018-05-09T00:00:00\", \"2017-07-27T00:00:00\", \"2017-07-19T00:00:00\", \"2017-11-05T00:00:00\", \"2018-02-26T00:00:00\", \"2017-10-17T00:00:00\", \"2018-05-21T00:00:00\", \"2018-03-09T00:00:00\", \"2017-08-21T00:00:00\", \"2018-03-19T00:00:00\", \"2017-08-22T00:00:00\", \"2017-07-13T00:00:00\", \"2018-03-21T00:00:00\", \"2017-12-21T00:00:00\", \"2018-02-17T00:00:00\", \"2018-05-15T00:00:00\", \"2017-10-16T00:00:00\", \"2018-04-26T00:00:00\", \"2017-10-29T00:00:00\", \"2018-04-14T00:00:00\", \"2018-05-15T00:00:00\", \"2018-03-14T00:00:00\", \"2018-01-31T00:00:00\", \"2017-11-28T00:00:00\", \"2018-05-24T00:00:00\", \"2018-01-25T00:00:00\", \"2018-03-09T00:00:00\", \"2018-02-14T00:00:00\", \"2018-05-03T00:00:00\", \"2018-04-16T00:00:00\", \"2018-04-29T00:00:00\", \"2018-01-30T00:00:00\", \"2017-09-27T00:00:00\", \"2017-07-25T00:00:00\", \"2018-05-28T00:00:00\", \"2018-02-23T00:00:00\", \"2018-04-10T00:00:00\", \"2018-02-12T00:00:00\", \"2018-02-25T00:00:00\", \"2017-07-31T00:00:00\", \"2018-05-23T00:00:00\", \"2018-03-16T00:00:00\", \"2018-05-20T00:00:00\", \"2018-05-21T00:00:00\", \"2018-03-07T00:00:00\", \"2018-01-25T00:00:00\", \"2018-05-04T00:00:00\", \"2017-09-23T00:00:00\", \"2017-08-10T00:00:00\", \"2017-08-01T00:00:00\", \"2017-09-12T00:00:00\", \"2018-05-03T00:00:00\", \"2018-04-28T00:00:00\", \"2018-01-22T00:00:00\", \"2018-01-19T00:00:00\", \"2018-02-18T00:00:00\", \"2018-04-13T00:00:00\", \"2018-03-05T00:00:00\", \"2018-01-23T00:00:00\", \"2017-08-06T00:00:00\", \"2017-11-23T00:00:00\", \"2018-01-28T00:00:00\", \"2018-03-14T00:00:00\", \"2018-02-01T00:00:00\", \"2018-03-29T00:00:00\", \"2017-11-19T00:00:00\", \"2018-03-20T00:00:00\", \"2018-02-25T00:00:00\", \"2017-10-27T00:00:00\", \"2018-05-28T00:00:00\", \"2017-12-15T00:00:00\", \"2017-11-10T00:00:00\", \"2017-10-15T00:00:00\", \"2017-11-16T00:00:00\", \"2018-01-24T00:00:00\", \"2018-04-11T00:00:00\", \"2018-05-21T00:00:00\", \"2018-04-17T00:00:00\", \"2018-05-23T00:00:00\", \"2017-09-30T00:00:00\", \"2018-03-15T00:00:00\", \"2018-04-25T00:00:00\", \"2018-05-18T00:00:00\", \"2018-04-30T00:00:00\", \"2018-03-13T00:00:00\", \"2018-05-25T00:00:00\", \"2017-09-27T00:00:00\", \"2018-03-17T00:00:00\", \"2017-10-05T00:00:00\", \"2018-03-17T00:00:00\", \"2018-04-05T00:00:00\", \"2018-04-06T00:00:00\", \"2017-07-13T00:00:00\", \"2017-11-07T00:00:00\", \"2018-04-05T00:00:00\", \"2018-05-16T00:00:00\", \"2018-04-02T00:00:00\", \"2017-11-02T00:00:00\", \"2018-05-15T00:00:00\", \"2017-08-01T00:00:00\", \"2018-05-23T00:00:00\", \"2018-03-24T00:00:00\", \"2018-04-02T00:00:00\", \"2018-04-12T00:00:00\", \"2017-11-16T00:00:00\", \"2018-01-22T00:00:00\", \"2018-02-22T00:00:00\", \"2017-10-28T00:00:00\", \"2017-10-25T00:00:00\", \"2018-03-20T00:00:00\", \"2018-03-09T00:00:00\", \"2018-03-02T00:00:00\", \"2018-01-18T00:00:00\", \"2018-04-11T00:00:00\", \"2017-12-06T00:00:00\", \"2017-10-26T00:00:00\", \"2018-05-21T00:00:00\", \"2018-04-26T00:00:00\", \"2018-03-22T00:00:00\", \"2018-04-13T00:00:00\", \"2018-05-16T00:00:00\", \"2018-02-27T00:00:00\", \"2018-03-07T00:00:00\", \"2017-08-19T00:00:00\", \"2018-04-03T00:00:00\", \"2018-05-30T00:00:00\", \"2018-03-13T00:00:00\", \"2018-04-30T00:00:00\", \"2018-01-08T00:00:00\", \"2017-11-16T00:00:00\", \"2018-01-25T00:00:00\", \"2018-01-21T00:00:00\", \"2018-05-28T00:00:00\", \"2018-04-16T00:00:00\", \"2018-03-14T00:00:00\", \"2017-09-11T00:00:00\", \"2018-02-15T00:00:00\", \"2018-04-11T00:00:00\", \"2018-05-24T00:00:00\", \"2018-03-21T00:00:00\", \"2018-03-07T00:00:00\", \"2018-04-11T00:00:00\", \"2018-05-01T00:00:00\", \"2018-02-26T00:00:00\", \"2017-10-17T00:00:00\", \"2017-11-03T00:00:00\", \"2018-01-18T00:00:00\", \"2018-04-21T00:00:00\", \"2018-04-26T00:00:00\", \"2018-01-18T00:00:00\", \"2018-02-23T00:00:00\", \"2018-01-15T00:00:00\", \"2018-05-15T00:00:00\", \"2018-04-04T00:00:00\", \"2018-03-20T00:00:00\", \"2018-05-30T00:00:00\", \"2018-04-18T00:00:00\", \"2017-10-16T00:00:00\", \"2018-05-18T00:00:00\", \"2018-01-29T00:00:00\", \"2018-02-22T00:00:00\", \"2017-07-29T00:00:00\", \"2018-05-09T00:00:00\", \"2018-01-04T00:00:00\", \"2018-03-13T00:00:00\", \"2017-11-08T00:00:00\", \"2018-05-24T00:00:00\", \"2018-04-02T00:00:00\", \"2018-04-05T00:00:00\", \"2017-11-29T00:00:00\", \"2018-04-04T00:00:00\", \"2018-04-13T00:00:00\", \"2018-02-09T00:00:00\", \"2017-09-28T00:00:00\", \"2018-03-09T00:00:00\", \"2018-03-02T00:00:00\", \"2018-05-22T00:00:00\", \"2018-03-19T00:00:00\", \"2018-01-10T00:00:00\", \"2018-01-03T00:00:00\", \"2018-02-28T00:00:00\", \"2018-03-13T00:00:00\", \"2017-11-22T00:00:00\", \"2018-04-26T00:00:00\", \"2018-04-04T00:00:00\", \"2018-01-12T00:00:00\", \"2018-05-25T00:00:00\", \"2018-05-25T00:00:00\", \"2018-03-31T00:00:00\", \"2018-05-02T00:00:00\", \"2018-04-18T00:00:00\", \"2017-12-28T00:00:00\", \"2018-05-29T00:00:00\", \"2017-07-27T00:00:00\", \"2018-04-02T00:00:00\", \"2018-01-22T00:00:00\", \"2017-11-23T00:00:00\", \"2018-04-16T00:00:00\", \"2017-11-15T00:00:00\", \"2018-04-06T00:00:00\", \"2018-05-04T00:00:00\", \"2017-11-22T00:00:00\", \"2018-05-12T00:00:00\", \"2017-12-01T00:00:00\", \"2018-01-13T00:00:00\", \"2018-05-21T00:00:00\", \"2018-04-18T00:00:00\", \"2018-02-12T00:00:00\", \"2018-05-21T00:00:00\", \"2018-04-12T00:00:00\", \"2018-03-28T00:00:00\", \"2017-11-28T00:00:00\", \"2018-03-13T00:00:00\", \"2018-03-05T00:00:00\", \"2018-04-18T00:00:00\", \"2017-08-22T00:00:00\", \"2018-04-09T00:00:00\", \"2018-04-05T00:00:00\", \"2018-02-07T00:00:00\", \"2018-05-15T00:00:00\", \"2018-01-17T00:00:00\", \"2018-02-15T00:00:00\", \"2018-04-13T00:00:00\", \"2018-01-17T00:00:00\", \"2017-09-21T00:00:00\", \"2017-11-01T00:00:00\", \"2018-04-27T00:00:00\", \"2018-05-28T00:00:00\", \"2018-04-09T00:00:00\", \"2018-02-21T00:00:00\", \"2018-04-11T00:00:00\", \"2018-01-18T00:00:00\", \"2018-04-30T00:00:00\", \"2018-04-30T00:00:00\", \"2018-05-18T00:00:00\", \"2018-03-21T00:00:00\", \"2018-05-24T00:00:00\", \"2018-02-28T00:00:00\", \"2018-05-15T00:00:00\", \"2018-02-21T00:00:00\", \"2018-02-20T00:00:00\", \"2018-03-27T00:00:00\", \"2018-03-18T00:00:00\", \"2018-04-09T00:00:00\", \"2018-01-05T00:00:00\", \"2018-05-28T00:00:00\", \"2018-03-04T00:00:00\", \"2017-07-24T00:00:00\", \"2018-02-26T00:00:00\", \"2018-02-11T00:00:00\", \"2018-02-14T00:00:00\", \"2018-04-14T00:00:00\", \"2018-04-24T00:00:00\", \"2017-07-12T00:00:00\", \"2018-01-08T00:00:00\", \"2018-05-24T00:00:00\", \"2018-02-25T00:00:00\", \"2017-12-20T00:00:00\", \"2017-09-03T00:00:00\", \"2018-01-10T00:00:00\", \"2017-07-31T00:00:00\", \"2017-11-10T00:00:00\", \"2017-11-01T00:00:00\", \"2017-12-29T00:00:00\", \"2018-03-08T00:00:00\", \"2018-03-16T00:00:00\", \"2018-03-26T00:00:00\", \"2018-05-12T00:00:00\", \"2018-01-20T00:00:00\", \"2018-02-26T00:00:00\", \"2018-02-25T00:00:00\", \"2018-05-10T00:00:00\", \"2018-04-10T00:00:00\", \"2017-10-25T00:00:00\", \"2018-04-02T00:00:00\", \"2018-03-23T00:00:00\", \"2018-02-23T00:00:00\", \"2018-02-07T00:00:00\", \"2017-11-28T00:00:00\", \"2017-11-22T00:00:00\", \"2017-11-01T00:00:00\", \"2018-04-25T00:00:00\", \"2018-01-08T00:00:00\", \"2018-04-03T00:00:00\", \"2018-04-10T00:00:00\", \"2017-07-20T00:00:00\", \"2017-07-12T00:00:00\", \"2018-04-27T00:00:00\", \"2017-08-28T00:00:00\", \"2018-03-10T00:00:00\", \"2018-04-10T00:00:00\", \"2017-11-13T00:00:00\", \"2018-04-17T00:00:00\", \"2018-05-14T00:00:00\", \"2018-01-23T00:00:00\", \"2018-04-04T00:00:00\", \"2018-05-23T00:00:00\", \"2018-05-14T00:00:00\", \"2017-09-19T00:00:00\", \"2018-02-08T00:00:00\", \"2017-09-10T00:00:00\", \"2018-04-25T00:00:00\", \"2017-08-01T00:00:00\", \"2018-01-03T00:00:00\", \"2017-10-29T00:00:00\", \"2018-02-06T00:00:00\", \"2017-10-06T00:00:00\", \"2018-05-18T00:00:00\", \"2017-11-10T00:00:00\", \"2018-05-28T00:00:00\", \"2017-07-27T00:00:00\", \"2018-04-14T00:00:00\", \"2018-04-02T00:00:00\", \"2018-01-13T00:00:00\", \"2018-01-08T00:00:00\", \"2018-04-19T00:00:00\", \"2018-04-07T00:00:00\", \"2018-04-25T00:00:00\", \"2017-08-28T00:00:00\", \"2017-10-13T00:00:00\", \"2017-08-22T00:00:00\", \"2017-08-09T00:00:00\", \"2018-03-12T00:00:00\", \"2018-03-22T00:00:00\", \"2018-03-26T00:00:00\", \"2018-04-04T00:00:00\", \"2017-12-26T00:00:00\", \"2017-10-31T00:00:00\", \"2017-12-27T00:00:00\", \"2018-04-24T00:00:00\", \"2018-02-14T00:00:00\", \"2018-04-26T00:00:00\", \"2017-07-21T00:00:00\", \"2018-05-09T00:00:00\", \"2018-04-02T00:00:00\", \"2018-01-26T00:00:00\", \"2018-03-16T00:00:00\", \"2018-03-07T00:00:00\", \"2018-05-14T00:00:00\", \"2018-01-19T00:00:00\", \"2018-02-07T00:00:00\", \"2017-10-01T00:00:00\", \"2018-04-04T00:00:00\", \"2017-10-18T00:00:00\", \"2018-03-22T00:00:00\", \"2018-01-05T00:00:00\", \"2018-02-07T00:00:00\", \"2018-05-04T00:00:00\", \"2018-02-05T00:00:00\", \"2018-03-19T00:00:00\", \"2018-05-28T00:00:00\", \"2018-02-26T00:00:00\", \"2018-03-29T00:00:00\", \"2018-01-29T00:00:00\", \"2018-03-20T00:00:00\", \"2017-11-01T00:00:00\", \"2018-05-20T00:00:00\", \"2018-03-14T00:00:00\", \"2018-05-22T00:00:00\", \"2018-03-17T00:00:00\", \"2018-03-09T00:00:00\", \"2018-03-18T00:00:00\", \"2018-04-20T00:00:00\", \"2018-04-14T00:00:00\", \"2018-03-13T00:00:00\", \"2018-05-10T00:00:00\", \"2018-04-19T00:00:00\", \"2018-04-22T00:00:00\", \"2018-01-16T00:00:00\", \"2018-05-26T00:00:00\", \"2018-01-05T00:00:00\", \"2018-05-28T00:00:00\", \"2017-09-15T00:00:00\", \"2018-03-05T00:00:00\", \"2018-03-16T00:00:00\", \"2017-11-21T00:00:00\", \"2018-04-02T00:00:00\", \"2018-03-07T00:00:00\", \"2018-03-21T00:00:00\", \"2018-03-16T00:00:00\", \"2018-04-19T00:00:00\", \"2018-04-19T00:00:00\", \"2018-04-25T00:00:00\", \"2018-01-24T00:00:00\", \"2017-08-31T00:00:00\", \"2018-04-19T00:00:00\", \"2018-04-20T00:00:00\", \"2018-04-10T00:00:00\", \"2018-01-09T00:00:00\", \"2018-01-25T00:00:00\", \"2018-02-13T00:00:00\", \"2018-04-24T00:00:00\", \"2017-09-05T00:00:00\", \"2018-03-15T00:00:00\", \"2018-02-22T00:00:00\", \"2018-05-11T00:00:00\", \"2018-02-21T00:00:00\", \"2018-03-14T00:00:00\", \"2018-04-12T00:00:00\", \"2017-08-04T00:00:00\", \"2018-03-02T00:00:00\", \"2017-12-22T00:00:00\", \"2018-02-11T00:00:00\", \"2017-10-21T00:00:00\", \"2018-03-21T00:00:00\", \"2018-03-08T00:00:00\", \"2018-02-27T00:00:00\", \"2018-01-28T00:00:00\", \"2017-12-04T00:00:00\", \"2018-04-20T00:00:00\", \"2018-03-09T00:00:00\", \"2018-04-14T00:00:00\", \"2017-08-24T00:00:00\", \"2018-05-13T00:00:00\", \"2018-02-08T00:00:00\", \"2018-03-22T00:00:00\", \"2018-03-24T00:00:00\", \"2018-02-13T00:00:00\", \"2017-11-16T00:00:00\", \"2018-03-12T00:00:00\", \"2017-09-15T00:00:00\", \"2018-01-23T00:00:00\", \"2018-05-17T00:00:00\", \"2017-11-07T00:00:00\", \"2018-04-17T00:00:00\", \"2018-04-16T00:00:00\", \"2017-12-21T00:00:00\", \"2018-01-02T00:00:00\", \"2018-05-28T00:00:00\", \"2018-05-24T00:00:00\", \"2018-03-01T00:00:00\", \"2018-05-26T00:00:00\", \"2018-05-08T00:00:00\", \"2018-04-06T00:00:00\", \"2018-05-02T00:00:00\", \"2018-02-01T00:00:00\", \"2017-10-03T00:00:00\", \"2018-01-30T00:00:00\", \"2018-03-22T00:00:00\", \"2017-08-28T00:00:00\", \"2017-11-06T00:00:00\", \"2018-05-22T00:00:00\", \"2017-10-22T00:00:00\", \"2018-03-28T00:00:00\", \"2018-03-16T00:00:00\", \"2018-01-16T00:00:00\", \"2018-01-31T00:00:00\", \"2017-10-29T00:00:00\", \"2018-04-25T00:00:00\", \"2018-01-23T00:00:00\", \"2018-03-28T00:00:00\", \"2017-12-19T00:00:00\", \"2017-07-10T00:00:00\", \"2018-05-28T00:00:00\", \"2018-05-28T00:00:00\", \"2017-07-18T00:00:00\", \"2018-05-21T00:00:00\", \"2017-08-07T00:00:00\", \"2018-02-19T00:00:00\", \"2017-08-08T00:00:00\", \"2018-04-08T00:00:00\", \"2018-03-08T00:00:00\", \"2018-03-06T00:00:00\", \"2018-02-09T00:00:00\", \"2018-05-29T00:00:00\", \"2018-03-12T00:00:00\", \"2018-02-19T00:00:00\", \"2018-05-12T00:00:00\", \"2018-03-08T00:00:00\", \"2018-05-02T00:00:00\", \"2017-08-22T00:00:00\", \"2017-07-21T00:00:00\", \"2017-09-29T00:00:00\", \"2018-01-23T00:00:00\", \"2018-05-19T00:00:00\", \"2017-12-21T00:00:00\", \"2018-05-02T00:00:00\", \"2018-03-14T00:00:00\", \"2018-03-04T00:00:00\", \"2017-09-28T00:00:00\", \"2018-05-30T00:00:00\", \"2018-03-16T00:00:00\", \"2018-03-12T00:00:00\", \"2017-12-28T00:00:00\", \"2017-08-15T00:00:00\", \"2018-03-20T00:00:00\", \"2018-05-07T00:00:00\", \"2018-05-25T00:00:00\", \"2018-05-09T00:00:00\", \"2018-03-07T00:00:00\", \"2018-04-25T00:00:00\", \"2018-04-03T00:00:00\", \"2018-02-02T00:00:00\", \"2017-08-26T00:00:00\", \"2017-11-28T00:00:00\", \"2017-08-16T00:00:00\", \"2018-03-29T00:00:00\", \"2017-08-23T00:00:00\", \"2018-04-03T00:00:00\", \"2017-08-10T00:00:00\", \"2018-04-18T00:00:00\", \"2018-04-24T00:00:00\", \"2018-05-24T00:00:00\", \"2018-05-12T00:00:00\", \"2018-04-29T00:00:00\", \"2018-04-10T00:00:00\", \"2017-08-03T00:00:00\", \"2018-03-08T00:00:00\", \"2017-08-07T00:00:00\", \"2018-05-21T00:00:00\", \"2017-08-19T00:00:00\", \"2018-02-13T00:00:00\", \"2017-10-24T00:00:00\", \"2018-05-18T00:00:00\", \"2018-02-16T00:00:00\", \"2017-11-09T00:00:00\", \"2018-01-22T00:00:00\", \"2018-03-28T00:00:00\", \"2018-05-08T00:00:00\", \"2018-05-21T00:00:00\", \"2017-10-17T00:00:00\", \"2018-04-24T00:00:00\", \"2017-12-04T00:00:00\", \"2018-01-03T00:00:00\", \"2018-03-20T00:00:00\", \"2017-10-30T00:00:00\", \"2018-04-12T00:00:00\", \"2018-01-07T00:00:00\", \"2018-04-27T00:00:00\", \"2017-10-23T00:00:00\", \"2017-11-16T00:00:00\", \"2018-05-20T00:00:00\", \"2018-02-28T00:00:00\", \"2017-10-01T00:00:00\", \"2018-03-19T00:00:00\", \"2017-11-21T00:00:00\", \"2018-05-22T00:00:00\", \"2018-02-07T00:00:00\", \"2018-02-16T00:00:00\", \"2018-02-12T00:00:00\", \"2018-04-17T00:00:00\", \"2018-04-02T00:00:00\", \"2018-03-19T00:00:00\", \"2018-03-02T00:00:00\", \"2018-05-18T00:00:00\", \"2018-03-14T00:00:00\", \"2017-09-17T00:00:00\", \"2017-08-09T00:00:00\", \"2018-01-24T00:00:00\", \"2017-07-14T00:00:00\", \"2018-01-11T00:00:00\", \"2017-11-14T00:00:00\", \"2017-11-23T00:00:00\", \"2018-05-17T00:00:00\", \"2018-01-04T00:00:00\", \"2018-01-02T00:00:00\", \"2017-10-29T00:00:00\", \"2018-01-11T00:00:00\", \"2018-02-21T00:00:00\", \"2018-04-16T00:00:00\", \"2018-05-01T00:00:00\", \"2018-05-25T00:00:00\", \"2017-12-07T00:00:00\", \"2018-04-10T00:00:00\", \"2018-04-22T00:00:00\", \"2017-10-16T00:00:00\", \"2018-04-11T00:00:00\", \"2018-03-26T00:00:00\", \"2018-05-23T00:00:00\", \"2018-04-20T00:00:00\", \"2018-05-24T00:00:00\", \"2018-05-08T00:00:00\", \"2017-10-22T00:00:00\", \"2018-04-16T00:00:00\", \"2018-02-25T00:00:00\", \"2018-05-15T00:00:00\", \"2018-01-26T00:00:00\", \"2018-03-18T00:00:00\", \"2018-03-06T00:00:00\", \"2017-09-08T00:00:00\", \"2018-01-19T00:00:00\", \"2017-10-16T00:00:00\", \"2017-10-30T00:00:00\", \"2018-04-15T00:00:00\", \"2017-08-18T00:00:00\", \"2018-02-23T00:00:00\", \"2017-10-17T00:00:00\", \"2018-05-10T00:00:00\", \"2018-01-26T00:00:00\", \"2017-12-15T00:00:00\", \"2017-07-12T00:00:00\", \"2017-12-21T00:00:00\", \"2018-04-24T00:00:00\", \"2018-05-19T00:00:00\", \"2018-05-02T00:00:00\", \"2018-05-05T00:00:00\", \"2018-03-28T00:00:00\", \"2018-03-20T00:00:00\", \"2018-04-18T00:00:00\", \"2018-03-09T00:00:00\", \"2018-03-16T00:00:00\", \"2018-02-02T00:00:00\", \"2018-04-03T00:00:00\", \"2017-08-29T00:00:00\", \"2018-04-18T00:00:00\", \"2018-01-30T00:00:00\", \"2017-10-21T00:00:00\", \"2017-07-04T00:00:00\", \"2017-10-20T00:00:00\", \"2018-03-19T00:00:00\", \"2018-05-28T00:00:00\", \"2018-05-09T00:00:00\", \"2017-08-18T00:00:00\", \"2017-08-05T00:00:00\", \"2018-04-13T00:00:00\", \"2018-04-22T00:00:00\", \"2017-09-09T00:00:00\", \"2018-05-09T00:00:00\", \"2018-04-08T00:00:00\", \"2018-03-17T00:00:00\", \"2017-11-27T00:00:00\", \"2018-02-19T00:00:00\", \"2018-05-13T00:00:00\", \"2018-03-01T00:00:00\", \"2018-03-14T00:00:00\", \"2018-01-30T00:00:00\", \"2017-09-21T00:00:00\", \"2018-01-08T00:00:00\", \"2017-11-14T00:00:00\", \"2018-05-09T00:00:00\", \"2018-04-23T00:00:00\", \"2018-05-08T00:00:00\", \"2017-07-24T00:00:00\", \"2018-03-21T00:00:00\", \"2018-04-28T00:00:00\", \"2018-02-16T00:00:00\", \"2018-02-05T00:00:00\", \"2018-01-29T00:00:00\", \"2018-02-12T00:00:00\", \"2018-04-10T00:00:00\", \"2017-12-13T00:00:00\", \"2018-05-23T00:00:00\", \"2018-03-24T00:00:00\", \"2018-05-15T00:00:00\", \"2018-03-12T00:00:00\", \"2018-01-24T00:00:00\", \"2018-03-26T00:00:00\", \"2018-05-25T00:00:00\", \"2017-11-27T00:00:00\", \"2018-04-26T00:00:00\", \"2017-10-02T00:00:00\", \"2018-02-07T00:00:00\", \"2017-12-06T00:00:00\", \"2018-01-30T00:00:00\", \"2018-02-06T00:00:00\", \"2018-01-15T00:00:00\", \"2018-05-21T00:00:00\", \"2018-05-27T00:00:00\", \"2017-10-25T00:00:00\", \"2018-02-06T00:00:00\", \"2018-04-02T00:00:00\", \"2018-02-26T00:00:00\", \"2018-04-03T00:00:00\", \"2018-02-05T00:00:00\", \"2018-02-23T00:00:00\", \"2017-07-20T00:00:00\", \"2018-04-18T00:00:00\", \"2018-01-18T00:00:00\", \"2017-11-24T00:00:00\", \"2018-01-24T00:00:00\", \"2018-04-17T00:00:00\", \"2018-03-22T00:00:00\", \"2018-03-28T00:00:00\", \"2017-09-13T00:00:00\", \"2017-08-09T00:00:00\", \"2017-11-06T00:00:00\", \"2017-07-24T00:00:00\", \"2017-11-23T00:00:00\", \"2018-05-15T00:00:00\", \"2017-08-07T00:00:00\", \"2018-05-14T00:00:00\", \"2018-03-29T00:00:00\", \"2017-11-03T00:00:00\", \"2017-07-31T00:00:00\", \"2018-03-08T00:00:00\", \"2018-01-05T00:00:00\", \"2018-03-15T00:00:00\", \"2018-01-26T00:00:00\", \"2018-01-07T00:00:00\", \"2018-05-21T00:00:00\", \"2017-09-15T00:00:00\", \"2018-03-07T00:00:00\", \"2018-05-22T00:00:00\", \"2017-08-30T00:00:00\", \"2018-04-09T00:00:00\", \"2018-04-03T00:00:00\", \"2018-03-05T00:00:00\", \"2018-02-22T00:00:00\", \"2018-05-20T00:00:00\", \"2018-04-21T00:00:00\", \"2018-03-06T00:00:00\", \"2017-10-27T00:00:00\", \"2018-04-17T00:00:00\", \"2018-01-26T00:00:00\", \"2017-10-14T00:00:00\", \"2018-01-13T00:00:00\", \"2018-04-03T00:00:00\", \"2017-09-29T00:00:00\", \"2017-10-24T00:00:00\", \"2018-03-25T00:00:00\", \"2018-03-06T00:00:00\", \"2018-04-20T00:00:00\", \"2018-03-28T00:00:00\", \"2018-02-20T00:00:00\", \"2018-05-16T00:00:00\", \"2018-01-05T00:00:00\", \"2017-11-22T00:00:00\", \"2018-02-28T00:00:00\", \"2018-03-02T00:00:00\", \"2018-01-31T00:00:00\", \"2018-03-14T00:00:00\", \"2018-03-02T00:00:00\", \"2018-01-17T00:00:00\", \"2018-05-29T00:00:00\", \"2018-01-20T00:00:00\", \"2018-04-18T00:00:00\", \"2017-08-16T00:00:00\", \"2018-05-08T00:00:00\", \"2018-01-23T00:00:00\", \"2018-01-15T00:00:00\", \"2018-01-20T00:00:00\", \"2018-04-09T00:00:00\", \"2018-05-23T00:00:00\", \"2018-02-08T00:00:00\", \"2018-04-28T00:00:00\", \"2018-02-06T00:00:00\", \"2018-01-02T00:00:00\", \"2018-05-29T00:00:00\", \"2017-09-09T00:00:00\", \"2017-12-17T00:00:00\", \"2018-02-02T00:00:00\", \"2018-01-15T00:00:00\", \"2018-05-07T00:00:00\", \"2018-04-19T00:00:00\", \"2017-09-26T00:00:00\", \"2017-07-11T00:00:00\", \"2018-01-29T00:00:00\", \"2017-09-16T00:00:00\", \"2017-10-04T00:00:00\", \"2018-04-20T00:00:00\", \"2018-04-10T00:00:00\", \"2017-10-01T00:00:00\", \"2017-10-18T00:00:00\", \"2017-12-29T00:00:00\", \"2018-03-14T00:00:00\", \"2018-02-15T00:00:00\", \"2017-10-04T00:00:00\", \"2018-04-30T00:00:00\", \"2018-03-25T00:00:00\", \"2018-03-26T00:00:00\", \"2018-03-30T00:00:00\", \"2018-05-25T00:00:00\", \"2018-02-08T00:00:00\", \"2018-04-04T00:00:00\", \"2018-01-06T00:00:00\", \"2018-02-07T00:00:00\", \"2018-02-06T00:00:00\", \"2018-04-30T00:00:00\", \"2018-04-03T00:00:00\", \"2018-04-25T00:00:00\", \"2018-02-24T00:00:00\", \"2018-01-12T00:00:00\", \"2018-03-21T00:00:00\", \"2017-11-10T00:00:00\", \"2018-01-23T00:00:00\", \"2018-02-01T00:00:00\", \"2017-09-05T00:00:00\", \"2017-11-07T00:00:00\", \"2018-03-26T00:00:00\", \"2018-01-30T00:00:00\", \"2018-05-09T00:00:00\", \"2018-03-28T00:00:00\", \"2018-04-30T00:00:00\", \"2018-04-11T00:00:00\", \"2018-04-07T00:00:00\", \"2018-03-09T00:00:00\", \"2018-05-27T00:00:00\", \"2017-08-28T00:00:00\", \"2018-02-22T00:00:00\", \"2017-07-18T00:00:00\", \"2018-03-05T00:00:00\", \"2018-01-14T00:00:00\", \"2018-01-23T00:00:00\", \"2018-04-04T00:00:00\", \"2018-02-15T00:00:00\", \"2018-03-08T00:00:00\", \"2017-07-20T00:00:00\", \"2018-02-03T00:00:00\", \"2018-01-11T00:00:00\", \"2018-05-02T00:00:00\", \"2017-08-24T00:00:00\", \"2017-08-28T00:00:00\", \"2018-03-22T00:00:00\", \"2018-03-09T00:00:00\", \"2017-10-23T00:00:00\", \"2018-02-10T00:00:00\", \"2018-04-17T00:00:00\", \"2018-04-25T00:00:00\", \"2017-11-21T00:00:00\", \"2017-10-19T00:00:00\", \"2018-01-17T00:00:00\", \"2017-08-28T00:00:00\", \"2018-05-14T00:00:00\", \"2017-11-10T00:00:00\", \"2018-01-16T00:00:00\", \"2018-05-22T00:00:00\", \"2018-05-03T00:00:00\", \"2018-04-18T00:00:00\", \"2018-04-25T00:00:00\", \"2017-07-26T00:00:00\", \"2017-09-19T00:00:00\", \"2018-04-25T00:00:00\", \"2017-11-06T00:00:00\", \"2018-04-20T00:00:00\", \"2018-03-01T00:00:00\", \"2018-03-12T00:00:00\", \"2017-07-26T00:00:00\", \"2017-11-20T00:00:00\", \"2018-02-14T00:00:00\", \"2017-07-10T00:00:00\", \"2018-05-02T00:00:00\", \"2018-01-15T00:00:00\", \"2017-11-01T00:00:00\", \"2018-05-11T00:00:00\", \"2017-09-14T00:00:00\", \"2018-05-19T00:00:00\", \"2018-03-27T00:00:00\", \"2018-02-20T00:00:00\", \"2017-11-23T00:00:00\", \"2018-01-22T00:00:00\", \"2018-04-18T00:00:00\", \"2018-04-03T00:00:00\", \"2018-03-16T00:00:00\", \"2017-12-25T00:00:00\", \"2018-05-22T00:00:00\", \"2018-01-12T00:00:00\", \"2018-05-23T00:00:00\", \"2018-05-31T00:00:00\", \"2018-05-15T00:00:00\", \"2018-04-06T00:00:00\", \"2018-03-29T00:00:00\", \"2018-02-26T00:00:00\", \"2017-08-21T00:00:00\", \"2018-02-25T00:00:00\", \"2018-03-15T00:00:00\", \"2017-10-22T00:00:00\", \"2018-03-04T00:00:00\", \"2018-02-15T00:00:00\", \"2017-11-22T00:00:00\", \"2018-05-14T00:00:00\", \"2018-01-24T00:00:00\", \"2018-04-25T00:00:00\", \"2017-08-16T00:00:00\", \"2018-05-24T00:00:00\", \"2018-02-04T00:00:00\", \"2017-10-22T00:00:00\", \"2018-02-01T00:00:00\", \"2018-05-04T00:00:00\", \"2018-04-24T00:00:00\", \"2018-01-22T00:00:00\", \"2018-01-11T00:00:00\", \"2018-01-29T00:00:00\", \"2018-04-26T00:00:00\", \"2018-02-15T00:00:00\", \"2017-10-24T00:00:00\", \"2018-04-24T00:00:00\", \"2018-02-03T00:00:00\", \"2018-05-26T00:00:00\", \"2018-03-20T00:00:00\", \"2018-02-23T00:00:00\", \"2018-03-16T00:00:00\", \"2018-04-26T00:00:00\", \"2018-05-16T00:00:00\", \"2017-09-04T00:00:00\", \"2018-02-07T00:00:00\", \"2017-10-06T00:00:00\", \"2018-04-05T00:00:00\", \"2017-09-20T00:00:00\", \"2018-05-23T00:00:00\", \"2018-04-09T00:00:00\", \"2018-04-06T00:00:00\", \"2018-02-11T00:00:00\", \"2017-12-26T00:00:00\", \"2018-05-22T00:00:00\", \"2017-11-02T00:00:00\", \"2017-09-05T00:00:00\", \"2017-09-20T00:00:00\", \"2018-02-12T00:00:00\", \"2018-03-10T00:00:00\", \"2018-02-06T00:00:00\", \"2018-01-16T00:00:00\", \"2018-05-23T00:00:00\", \"2018-02-21T00:00:00\", \"2018-01-03T00:00:00\", \"2017-12-11T00:00:00\", \"2017-08-24T00:00:00\", \"2018-02-16T00:00:00\", \"2018-02-27T00:00:00\", \"2018-01-28T00:00:00\", \"2017-11-23T00:00:00\", \"2018-04-12T00:00:00\", \"2018-02-06T00:00:00\", \"2018-05-03T00:00:00\", \"2018-04-17T00:00:00\", \"2018-02-20T00:00:00\", \"2018-02-24T00:00:00\", \"2018-05-03T00:00:00\", \"2018-04-05T00:00:00\", \"2018-02-07T00:00:00\", \"2018-05-15T00:00:00\", \"2018-01-22T00:00:00\", \"2018-03-21T00:00:00\", \"2018-04-26T00:00:00\", \"2018-01-07T00:00:00\", \"2018-05-12T00:00:00\", \"2018-04-02T00:00:00\", \"2018-05-29T00:00:00\", \"2017-10-14T00:00:00\", \"2018-04-26T00:00:00\", \"2018-02-14T00:00:00\", \"2018-03-12T00:00:00\", \"2018-03-06T00:00:00\", \"2018-02-05T00:00:00\", \"2018-04-25T00:00:00\", \"2018-02-26T00:00:00\", \"2018-05-09T00:00:00\", \"2018-04-12T00:00:00\", \"2018-05-01T00:00:00\", \"2018-04-16T00:00:00\", \"2018-03-29T00:00:00\", \"2018-04-11T00:00:00\", \"2017-10-14T00:00:00\", \"2018-02-28T00:00:00\", \"2017-12-28T00:00:00\", \"2018-02-19T00:00:00\", \"2017-09-12T00:00:00\", \"2018-04-09T00:00:00\", \"2018-03-21T00:00:00\", \"2018-01-15T00:00:00\", \"2018-04-05T00:00:00\", \"2018-04-12T00:00:00\", \"2018-05-10T00:00:00\", \"2018-03-28T00:00:00\", \"2018-02-10T00:00:00\", \"2018-05-28T00:00:00\", \"2018-03-22T00:00:00\", \"2017-09-06T00:00:00\", \"2017-07-19T00:00:00\", \"2018-01-26T00:00:00\", \"2018-04-25T00:00:00\", \"2018-02-20T00:00:00\", \"2018-04-16T00:00:00\", \"2017-08-10T00:00:00\", \"2018-05-04T00:00:00\", \"2018-03-13T00:00:00\", \"2018-02-04T00:00:00\", \"2017-07-12T00:00:00\", \"2018-02-11T00:00:00\", \"2018-04-26T00:00:00\", \"2018-02-01T00:00:00\", \"2018-05-05T00:00:00\", \"2018-02-01T00:00:00\", \"2018-05-30T00:00:00\", \"2018-04-07T00:00:00\", \"2018-02-26T00:00:00\", \"2018-03-20T00:00:00\", \"2018-01-17T00:00:00\", \"2018-04-11T00:00:00\", \"2018-03-28T00:00:00\", \"2018-02-23T00:00:00\", \"2018-01-22T00:00:00\", \"2018-01-09T00:00:00\", \"2017-09-13T00:00:00\", \"2018-02-28T00:00:00\", \"2018-02-07T00:00:00\", \"2018-05-04T00:00:00\", \"2018-04-09T00:00:00\", \"2017-08-11T00:00:00\", \"2018-03-22T00:00:00\", \"2018-04-22T00:00:00\", \"2017-08-14T00:00:00\", \"2018-05-23T00:00:00\", \"2018-01-07T00:00:00\", \"2017-08-31T00:00:00\", \"2018-01-17T00:00:00\", \"2018-03-19T00:00:00\", \"2018-03-21T00:00:00\", \"2018-05-24T00:00:00\", \"2018-04-03T00:00:00\", \"2018-01-07T00:00:00\", \"2018-02-05T00:00:00\", \"2018-05-28T00:00:00\", \"2018-02-10T00:00:00\", \"2018-01-22T00:00:00\", \"2018-04-23T00:00:00\", \"2018-03-20T00:00:00\", \"2017-10-05T00:00:00\", \"2018-03-05T00:00:00\", \"2018-01-03T00:00:00\", \"2018-02-06T00:00:00\", \"2018-01-25T00:00:00\", \"2018-04-20T00:00:00\", \"2018-03-07T00:00:00\", \"2018-03-12T00:00:00\", \"2018-01-15T00:00:00\", \"2018-03-13T00:00:00\", \"2017-08-08T00:00:00\", \"2018-04-10T00:00:00\", \"2018-04-02T00:00:00\", \"2018-01-25T00:00:00\", \"2018-05-15T00:00:00\", \"2018-01-22T00:00:00\", \"2018-04-28T00:00:00\", \"2018-04-30T00:00:00\", \"2018-01-11T00:00:00\", \"2017-09-25T00:00:00\", \"2018-02-08T00:00:00\", \"2018-04-17T00:00:00\", \"2018-02-01T00:00:00\", \"2017-11-22T00:00:00\", \"2018-01-08T00:00:00\", \"2017-08-07T00:00:00\", \"2018-03-02T00:00:00\", \"2018-03-22T00:00:00\", \"2018-04-27T00:00:00\", \"2018-02-25T00:00:00\", \"2018-05-08T00:00:00\", \"2018-01-11T00:00:00\", \"2018-04-29T00:00:00\", \"2018-01-23T00:00:00\", \"2018-04-03T00:00:00\", \"2018-02-18T00:00:00\", \"2018-04-24T00:00:00\", \"2017-12-12T00:00:00\", \"2018-02-08T00:00:00\", \"2018-01-30T00:00:00\", \"2018-01-15T00:00:00\", \"2017-11-29T00:00:00\", \"2018-05-07T00:00:00\", \"2017-08-07T00:00:00\", \"2018-01-02T00:00:00\", \"2018-03-12T00:00:00\", \"2018-01-15T00:00:00\", \"2018-01-01T00:00:00\", \"2017-12-16T00:00:00\", \"2017-09-25T00:00:00\", \"2018-03-21T00:00:00\", \"2018-04-25T00:00:00\", \"2018-02-07T00:00:00\", \"2018-01-18T00:00:00\", \"2018-02-03T00:00:00\", \"2018-01-16T00:00:00\", \"2017-11-09T00:00:00\", \"2018-04-25T00:00:00\", \"2017-08-31T00:00:00\", \"2017-11-30T00:00:00\", \"2018-05-17T00:00:00\", \"2018-02-23T00:00:00\", \"2018-01-22T00:00:00\", \"2017-09-27T00:00:00\", \"2018-02-27T00:00:00\", \"2017-07-06T00:00:00\", \"2018-02-28T00:00:00\", \"2017-07-29T00:00:00\", \"2018-03-23T00:00:00\", \"2018-04-25T00:00:00\", \"2017-10-06T00:00:00\", \"2018-04-17T00:00:00\", \"2018-04-10T00:00:00\", \"2018-03-21T00:00:00\", \"2018-01-27T00:00:00\", \"2018-02-26T00:00:00\", \"2017-09-19T00:00:00\", \"2018-03-29T00:00:00\", \"2018-05-02T00:00:00\", \"2018-03-27T00:00:00\", \"2018-02-06T00:00:00\", \"2018-04-22T00:00:00\", \"2017-08-21T00:00:00\", \"2017-10-11T00:00:00\", \"2017-08-02T00:00:00\", \"2017-09-18T00:00:00\", \"2018-04-25T00:00:00\", \"2018-01-10T00:00:00\", \"2018-05-18T00:00:00\", \"2018-02-06T00:00:00\", \"2018-01-06T00:00:00\", \"2018-04-04T00:00:00\", \"2017-07-17T00:00:00\", \"2017-10-05T00:00:00\", \"2018-05-16T00:00:00\", \"2017-10-28T00:00:00\", \"2018-03-24T00:00:00\", \"2018-02-15T00:00:00\", \"2017-09-24T00:00:00\", \"2018-05-03T00:00:00\", \"2018-01-24T00:00:00\", \"2018-05-25T00:00:00\", \"2017-11-17T00:00:00\", \"2018-05-16T00:00:00\", \"2018-03-14T00:00:00\", \"2017-11-23T00:00:00\", \"2018-02-24T00:00:00\", \"2018-03-26T00:00:00\", \"2018-02-19T00:00:00\", \"2018-04-10T00:00:00\", \"2018-01-23T00:00:00\", \"2018-02-21T00:00:00\", \"2018-03-27T00:00:00\", \"2018-02-28T00:00:00\", \"2018-02-14T00:00:00\", \"2018-04-18T00:00:00\", \"2018-01-26T00:00:00\", \"2018-02-06T00:00:00\", \"2018-03-25T00:00:00\", \"2018-01-30T00:00:00\", \"2018-03-07T00:00:00\", \"2017-08-13T00:00:00\", \"2018-01-05T00:00:00\", \"2018-03-20T00:00:00\", \"2018-04-20T00:00:00\", \"2018-01-26T00:00:00\", \"2018-03-29T00:00:00\", \"2018-05-12T00:00:00\", \"2017-08-22T00:00:00\", \"2018-05-10T00:00:00\", \"2018-01-02T00:00:00\", \"2017-11-16T00:00:00\", \"2017-11-28T00:00:00\", \"2017-12-20T00:00:00\", \"2017-08-06T00:00:00\", \"2018-02-02T00:00:00\", \"2018-03-05T00:00:00\", \"2018-03-01T00:00:00\", \"2018-05-08T00:00:00\", \"2018-05-10T00:00:00\", \"2018-02-12T00:00:00\", \"2017-10-05T00:00:00\", \"2018-04-30T00:00:00\", \"2018-01-02T00:00:00\", \"2018-01-07T00:00:00\", \"2017-10-12T00:00:00\", \"2018-04-30T00:00:00\", \"2018-03-13T00:00:00\", \"2018-04-25T00:00:00\", \"2017-08-11T00:00:00\", \"2018-03-07T00:00:00\", \"2018-03-15T00:00:00\", \"2018-03-22T00:00:00\", \"2018-01-04T00:00:00\", \"2018-04-11T00:00:00\", \"2018-02-06T00:00:00\", \"2018-04-03T00:00:00\", \"2017-09-18T00:00:00\", \"2018-05-24T00:00:00\", \"2018-05-06T00:00:00\", \"2017-11-19T00:00:00\", \"2018-01-30T00:00:00\", \"2018-03-13T00:00:00\", \"2017-07-09T00:00:00\", \"2018-02-28T00:00:00\", \"2017-11-30T00:00:00\", \"2017-11-22T00:00:00\", \"2018-05-25T00:00:00\", \"2018-04-18T00:00:00\", \"2018-03-26T00:00:00\", \"2018-05-12T00:00:00\", \"2017-10-02T00:00:00\", \"2017-08-01T00:00:00\", \"2018-04-24T00:00:00\", \"2018-01-24T00:00:00\", \"2017-11-22T00:00:00\", \"2018-02-19T00:00:00\", \"2018-03-15T00:00:00\", \"2018-01-14T00:00:00\", \"2017-09-14T00:00:00\", \"2017-11-23T00:00:00\", \"2018-05-05T00:00:00\", \"2018-03-01T00:00:00\", \"2017-11-16T00:00:00\", \"2018-01-30T00:00:00\", \"2018-05-04T00:00:00\", \"2018-01-03T00:00:00\", \"2017-09-02T00:00:00\", \"2017-11-26T00:00:00\", \"2018-01-22T00:00:00\", \"2018-02-19T00:00:00\", \"2018-03-03T00:00:00\", \"2018-01-09T00:00:00\", \"2018-05-14T00:00:00\", \"2018-03-20T00:00:00\", \"2018-01-17T00:00:00\", \"2017-07-18T00:00:00\", \"2018-02-15T00:00:00\", \"2018-02-19T00:00:00\", \"2018-04-13T00:00:00\", \"2018-01-19T00:00:00\", \"2018-02-22T00:00:00\", \"2018-01-09T00:00:00\", \"2018-02-15T00:00:00\", \"2018-02-14T00:00:00\", \"2018-02-15T00:00:00\", \"2018-02-28T00:00:00\", \"2018-02-14T00:00:00\", \"2018-01-13T00:00:00\", \"2017-09-05T00:00:00\", \"2018-03-28T00:00:00\", \"2018-04-05T00:00:00\", \"2018-02-24T00:00:00\", \"2017-08-29T00:00:00\", \"2018-05-16T00:00:00\", \"2018-01-29T00:00:00\", \"2018-04-30T00:00:00\", \"2018-04-09T00:00:00\", \"2018-01-09T00:00:00\", \"2017-11-29T00:00:00\", \"2017-09-03T00:00:00\", \"2018-05-06T00:00:00\", \"2018-02-06T00:00:00\", \"2018-01-04T00:00:00\", \"2018-01-11T00:00:00\", \"2018-04-02T00:00:00\", \"2017-10-17T00:00:00\", \"2018-05-29T00:00:00\", \"2017-08-15T00:00:00\", \"2017-08-09T00:00:00\", \"2017-11-10T00:00:00\", \"2018-03-12T00:00:00\", \"2018-04-20T00:00:00\", \"2018-02-06T00:00:00\", \"2017-07-31T00:00:00\", \"2017-09-08T00:00:00\", \"2018-03-01T00:00:00\", \"2018-01-05T00:00:00\", \"2018-05-09T00:00:00\", \"2017-08-16T00:00:00\", \"2017-08-31T00:00:00\", \"2017-09-13T00:00:00\", \"2017-08-09T00:00:00\", \"2018-04-30T00:00:00\", \"2018-03-30T00:00:00\", \"2018-02-08T00:00:00\", \"2017-09-13T00:00:00\", \"2017-10-25T00:00:00\", \"2018-05-18T00:00:00\", \"2018-05-09T00:00:00\", \"2017-11-07T00:00:00\", \"2018-05-04T00:00:00\", \"2018-01-04T00:00:00\", \"2017-08-17T00:00:00\", \"2018-05-26T00:00:00\", \"2018-05-14T00:00:00\", \"2018-01-25T00:00:00\", \"2018-04-20T00:00:00\", \"2018-03-27T00:00:00\", \"2018-01-02T00:00:00\", \"2018-01-07T00:00:00\", \"2017-08-16T00:00:00\", \"2017-09-04T00:00:00\", \"2017-07-29T00:00:00\", \"2018-05-15T00:00:00\", \"2018-05-21T00:00:00\", \"2018-04-20T00:00:00\", \"2018-01-17T00:00:00\", \"2018-04-18T00:00:00\", \"2018-02-22T00:00:00\", \"2018-03-28T00:00:00\", \"2018-04-02T00:00:00\", \"2018-04-23T00:00:00\", \"2018-02-16T00:00:00\", \"2018-05-19T00:00:00\", \"2018-03-02T00:00:00\", \"2018-05-21T00:00:00\", \"2017-07-14T00:00:00\", \"2018-04-30T00:00:00\", \"2018-05-28T00:00:00\", \"2018-01-12T00:00:00\", \"2017-12-20T00:00:00\", \"2018-05-15T00:00:00\", \"2018-02-08T00:00:00\", \"2018-01-12T00:00:00\", \"2018-05-04T00:00:00\", \"2017-11-11T00:00:00\", \"2018-02-06T00:00:00\", \"2017-11-14T00:00:00\", \"2018-05-06T00:00:00\", \"2018-04-17T00:00:00\", \"2018-05-28T00:00:00\", \"2018-02-27T00:00:00\", \"2017-11-04T00:00:00\", \"2018-04-04T00:00:00\", \"2018-03-20T00:00:00\", \"2018-05-23T00:00:00\", \"2018-04-16T00:00:00\", \"2017-08-17T00:00:00\", \"2018-01-30T00:00:00\", \"2018-05-14T00:00:00\", \"2018-01-27T00:00:00\", \"2018-04-26T00:00:00\", \"2018-02-13T00:00:00\", \"2018-04-28T00:00:00\", \"2017-07-10T00:00:00\", \"2018-01-08T00:00:00\", \"2017-11-01T00:00:00\", \"2018-02-02T00:00:00\", \"2018-02-15T00:00:00\", \"2018-05-30T00:00:00\", \"2018-03-20T00:00:00\", \"2018-03-26T00:00:00\", \"2018-03-19T00:00:00\", \"2018-04-16T00:00:00\", \"2018-03-21T00:00:00\", \"2017-09-14T00:00:00\", \"2018-04-25T00:00:00\", \"2018-01-15T00:00:00\", \"2018-01-07T00:00:00\", \"2018-05-22T00:00:00\", \"2018-05-07T00:00:00\", \"2018-02-06T00:00:00\", \"2018-05-20T00:00:00\", \"2018-04-16T00:00:00\", \"2018-02-28T00:00:00\", \"2017-08-08T00:00:00\", \"2018-03-07T00:00:00\", \"2018-01-24T00:00:00\", \"2017-10-05T00:00:00\", \"2018-04-16T00:00:00\", \"2018-05-10T00:00:00\", \"2018-01-10T00:00:00\", \"2017-09-07T00:00:00\", \"2017-08-28T00:00:00\", \"2018-02-13T00:00:00\", \"2017-10-11T00:00:00\", \"2018-05-23T00:00:00\", \"2018-03-05T00:00:00\", \"2018-05-24T00:00:00\", \"2017-09-26T00:00:00\", \"2018-02-06T00:00:00\", \"2018-01-15T00:00:00\", \"2018-04-25T00:00:00\", \"2017-11-05T00:00:00\", \"2018-02-08T00:00:00\", \"2018-02-21T00:00:00\", \"2018-05-02T00:00:00\", \"2018-02-07T00:00:00\", \"2018-05-16T00:00:00\", \"2018-01-29T00:00:00\", \"2017-11-10T00:00:00\", \"2018-04-25T00:00:00\", \"2018-02-10T00:00:00\", \"2018-03-04T00:00:00\", \"2018-01-05T00:00:00\", \"2018-01-31T00:00:00\", \"2018-02-15T00:00:00\", \"2018-02-06T00:00:00\", \"2017-09-05T00:00:00\", \"2018-01-30T00:00:00\", \"2018-05-25T00:00:00\", \"2018-03-14T00:00:00\", \"2018-02-14T00:00:00\", \"2018-02-20T00:00:00\", \"2018-05-04T00:00:00\", \"2018-04-19T00:00:00\", \"2017-11-07T00:00:00\", \"2018-04-06T00:00:00\", \"2018-02-16T00:00:00\", \"2017-08-07T00:00:00\", \"2018-04-20T00:00:00\", \"2018-01-17T00:00:00\", \"2018-03-28T00:00:00\", \"2017-12-13T00:00:00\", \"2018-03-25T00:00:00\", \"2018-01-16T00:00:00\", \"2018-01-22T00:00:00\", \"2018-05-28T00:00:00\", \"2017-09-03T00:00:00\", \"2017-12-28T00:00:00\", \"2018-01-26T00:00:00\", \"2017-10-28T00:00:00\", \"2018-01-30T00:00:00\", \"2017-10-26T00:00:00\", \"2017-08-29T00:00:00\", \"2018-04-05T00:00:00\", \"2018-02-12T00:00:00\", \"2018-04-03T00:00:00\", \"2017-08-09T00:00:00\", \"2017-09-05T00:00:00\", \"2018-01-11T00:00:00\", \"2017-09-14T00:00:00\", \"2018-03-08T00:00:00\", \"2018-02-27T00:00:00\", \"2017-08-25T00:00:00\", \"2018-01-24T00:00:00\", \"2018-05-14T00:00:00\", \"2018-01-22T00:00:00\", \"2018-04-03T00:00:00\", \"2018-03-13T00:00:00\", \"2018-02-07T00:00:00\", \"2017-09-11T00:00:00\", \"2018-01-06T00:00:00\", \"2017-08-13T00:00:00\", \"2018-03-23T00:00:00\", \"2018-01-12T00:00:00\", \"2018-04-20T00:00:00\", \"2018-05-07T00:00:00\", \"2017-10-16T00:00:00\", \"2018-02-03T00:00:00\", \"2018-05-17T00:00:00\", \"2017-10-16T00:00:00\", \"2017-08-11T00:00:00\", \"2018-04-29T00:00:00\", \"2018-04-14T00:00:00\", \"2017-12-30T00:00:00\", \"2018-05-27T00:00:00\", \"2017-10-03T00:00:00\", \"2018-04-04T00:00:00\", \"2017-11-09T00:00:00\", \"2017-07-13T00:00:00\", \"2017-08-03T00:00:00\", \"2018-05-31T00:00:00\", \"2018-02-02T00:00:00\", \"2018-01-02T00:00:00\", \"2018-02-23T00:00:00\", \"2018-04-09T00:00:00\", \"2018-03-02T00:00:00\", \"2018-01-12T00:00:00\", \"2018-02-27T00:00:00\", \"2018-04-16T00:00:00\", \"2018-02-14T00:00:00\", \"2017-11-21T00:00:00\", \"2018-04-02T00:00:00\", \"2018-02-07T00:00:00\", \"2018-04-25T00:00:00\", \"2017-11-13T00:00:00\", \"2018-01-01T00:00:00\", \"2017-12-05T00:00:00\", \"2018-05-11T00:00:00\", \"2017-07-18T00:00:00\", \"2017-12-21T00:00:00\", \"2018-01-22T00:00:00\", \"2018-03-13T00:00:00\", \"2018-01-28T00:00:00\", \"2018-03-19T00:00:00\", \"2018-05-21T00:00:00\", \"2017-08-25T00:00:00\", \"2018-03-26T00:00:00\", \"2018-03-15T00:00:00\", \"2018-04-17T00:00:00\", \"2018-01-05T00:00:00\", \"2018-04-19T00:00:00\", \"2018-03-23T00:00:00\", \"2018-05-04T00:00:00\", \"2018-02-07T00:00:00\", \"2018-02-23T00:00:00\", \"2018-01-12T00:00:00\", \"2018-05-03T00:00:00\", \"2018-04-16T00:00:00\", \"2018-04-12T00:00:00\", \"2018-02-03T00:00:00\", \"2018-04-10T00:00:00\", \"2018-05-23T00:00:00\", \"2018-03-12T00:00:00\", \"2018-05-15T00:00:00\", \"2018-05-11T00:00:00\", \"2018-03-22T00:00:00\", \"2017-12-21T00:00:00\", \"2017-11-11T00:00:00\", \"2018-01-30T00:00:00\", \"2018-05-22T00:00:00\", \"2018-03-26T00:00:00\", \"2017-09-11T00:00:00\", \"2018-05-02T00:00:00\", \"2018-01-12T00:00:00\", \"2017-12-07T00:00:00\", \"2018-02-14T00:00:00\", \"2018-05-06T00:00:00\", \"2017-11-16T00:00:00\", \"2018-04-03T00:00:00\", \"2017-12-21T00:00:00\", \"2018-01-08T00:00:00\", \"2018-05-10T00:00:00\", \"2018-02-28T00:00:00\", \"2018-04-20T00:00:00\", \"2017-12-01T00:00:00\", \"2018-05-21T00:00:00\", \"2018-03-29T00:00:00\", \"2018-03-29T00:00:00\", \"2017-12-01T00:00:00\", \"2018-01-08T00:00:00\", \"2018-02-25T00:00:00\", \"2018-02-22T00:00:00\", \"2018-02-27T00:00:00\", \"2017-11-23T00:00:00\", \"2018-05-11T00:00:00\", \"2018-04-06T00:00:00\", \"2017-07-22T00:00:00\", \"2018-04-25T00:00:00\", \"2017-08-16T00:00:00\", \"2018-03-13T00:00:00\", \"2017-09-14T00:00:00\", \"2018-03-12T00:00:00\", \"2018-03-12T00:00:00\", \"2017-08-30T00:00:00\", \"2018-02-16T00:00:00\", \"2018-03-17T00:00:00\", \"2018-01-12T00:00:00\", \"2018-04-29T00:00:00\", \"2018-03-26T00:00:00\", \"2018-04-20T00:00:00\", \"2018-03-13T00:00:00\", \"2017-12-03T00:00:00\", \"2017-10-10T00:00:00\", \"2018-01-23T00:00:00\", \"2018-05-03T00:00:00\", \"2018-03-07T00:00:00\", \"2018-04-09T00:00:00\", \"2018-03-29T00:00:00\", \"2018-01-10T00:00:00\", \"2018-01-30T00:00:00\", \"2018-02-05T00:00:00\", \"2018-04-10T00:00:00\", \"2017-11-15T00:00:00\", \"2018-04-20T00:00:00\", \"2018-01-20T00:00:00\", \"2017-12-28T00:00:00\", \"2018-03-26T00:00:00\", \"2018-04-29T00:00:00\", \"2017-08-20T00:00:00\", \"2018-02-10T00:00:00\", \"2018-02-24T00:00:00\", \"2018-03-30T00:00:00\", \"2018-03-20T00:00:00\", \"2017-07-29T00:00:00\", \"2018-02-25T00:00:00\", \"2018-03-15T00:00:00\", \"2018-05-16T00:00:00\", \"2018-04-04T00:00:00\", \"2018-03-19T00:00:00\", \"2018-01-10T00:00:00\", \"2017-07-21T00:00:00\", \"2018-05-05T00:00:00\", \"2018-04-17T00:00:00\", \"2017-10-10T00:00:00\", \"2018-02-18T00:00:00\", \"2018-05-23T00:00:00\", \"2018-01-19T00:00:00\", \"2017-11-28T00:00:00\", \"2017-07-20T00:00:00\", \"2018-04-21T00:00:00\", \"2018-05-02T00:00:00\", \"2018-04-05T00:00:00\", \"2017-12-05T00:00:00\", \"2018-04-20T00:00:00\", \"2018-05-25T00:00:00\", \"2018-05-18T00:00:00\", \"2018-01-22T00:00:00\", \"2018-02-02T00:00:00\", \"2017-12-05T00:00:00\", \"2018-02-06T00:00:00\", \"2018-04-24T00:00:00\", \"2018-04-12T00:00:00\", \"2018-01-13T00:00:00\", \"2018-03-06T00:00:00\", \"2018-05-08T00:00:00\", \"2018-02-09T00:00:00\", \"2017-09-26T00:00:00\", \"2018-05-26T00:00:00\", \"2018-05-02T00:00:00\", \"2018-03-21T00:00:00\", \"2018-01-27T00:00:00\", \"2018-05-19T00:00:00\", \"2018-02-15T00:00:00\", \"2018-04-26T00:00:00\", \"2017-08-22T00:00:00\", \"2018-02-01T00:00:00\", \"2018-01-31T00:00:00\", \"2018-02-28T00:00:00\", \"2018-03-02T00:00:00\", \"2017-09-01T00:00:00\", \"2017-10-18T00:00:00\", \"2018-03-18T00:00:00\", \"2018-05-15T00:00:00\", \"2018-04-30T00:00:00\", \"2018-02-15T00:00:00\", \"2017-11-21T00:00:00\", \"2017-09-06T00:00:00\", \"2018-04-12T00:00:00\", \"2018-02-12T00:00:00\", \"2018-04-24T00:00:00\", \"2017-12-29T00:00:00\", \"2018-02-07T00:00:00\", \"2018-05-15T00:00:00\", \"2018-04-16T00:00:00\", \"2018-02-07T00:00:00\", \"2018-01-20T00:00:00\", \"2018-05-10T00:00:00\", \"2018-01-30T00:00:00\", \"2018-03-05T00:00:00\", \"2018-04-03T00:00:00\", \"2018-01-17T00:00:00\", \"2018-04-08T00:00:00\", \"2018-04-20T00:00:00\", \"2017-11-12T00:00:00\", \"2018-02-19T00:00:00\", \"2018-04-06T00:00:00\", \"2018-03-14T00:00:00\", \"2018-01-25T00:00:00\", \"2017-11-08T00:00:00\", \"2018-05-07T00:00:00\", \"2017-11-27T00:00:00\", \"2018-02-10T00:00:00\", \"2017-09-28T00:00:00\", \"2018-01-18T00:00:00\", \"2018-04-05T00:00:00\", \"2017-08-14T00:00:00\", \"2018-04-19T00:00:00\", \"2018-01-24T00:00:00\", \"2017-09-15T00:00:00\", \"2018-05-14T00:00:00\", \"2018-05-09T00:00:00\", \"2018-04-28T00:00:00\", \"2018-01-04T00:00:00\", \"2018-05-10T00:00:00\", \"2017-10-25T00:00:00\", \"2017-11-22T00:00:00\", \"2018-02-01T00:00:00\", \"2018-01-05T00:00:00\", \"2017-10-18T00:00:00\", \"2018-04-02T00:00:00\", \"2017-10-16T00:00:00\", \"2018-05-18T00:00:00\", \"2017-07-11T00:00:00\", \"2018-02-27T00:00:00\", \"2017-07-10T00:00:00\", \"2018-02-11T00:00:00\", \"2017-10-24T00:00:00\", \"2018-04-07T00:00:00\", \"2017-10-19T00:00:00\", \"2018-04-11T00:00:00\", \"2017-08-28T00:00:00\", \"2018-03-15T00:00:00\", \"2018-04-18T00:00:00\", \"2017-10-21T00:00:00\", \"2017-10-11T00:00:00\", \"2018-03-29T00:00:00\", \"2018-03-27T00:00:00\", \"2018-05-07T00:00:00\", \"2017-11-21T00:00:00\", \"2018-04-03T00:00:00\", \"2018-05-25T00:00:00\", \"2018-01-01T00:00:00\", \"2018-04-04T00:00:00\", \"2018-02-25T00:00:00\", \"2018-05-17T00:00:00\", \"2017-11-09T00:00:00\", \"2018-04-17T00:00:00\", \"2018-02-10T00:00:00\", \"2018-05-22T00:00:00\", \"2018-04-15T00:00:00\", \"2018-04-24T00:00:00\", \"2018-03-14T00:00:00\", \"2018-04-11T00:00:00\", \"2018-05-31T00:00:00\", \"2018-02-18T00:00:00\", \"2018-05-31T00:00:00\", \"2018-04-27T00:00:00\", \"2017-11-14T00:00:00\", \"2018-03-14T00:00:00\", \"2018-03-14T00:00:00\", \"2017-09-13T00:00:00\", \"2018-05-01T00:00:00\", \"2017-08-22T00:00:00\", \"2018-01-28T00:00:00\", \"2018-05-18T00:00:00\", \"2018-04-08T00:00:00\", \"2018-04-16T00:00:00\", \"2017-08-21T00:00:00\", \"2018-04-12T00:00:00\", \"2018-01-18T00:00:00\", \"2017-10-27T00:00:00\", \"2018-03-12T00:00:00\", \"2018-01-13T00:00:00\", \"2018-04-23T00:00:00\", \"2018-02-26T00:00:00\", \"2018-04-10T00:00:00\", \"2018-01-28T00:00:00\", \"2017-07-12T00:00:00\", \"2017-12-15T00:00:00\", \"2018-03-29T00:00:00\", \"2018-05-07T00:00:00\", \"2018-04-03T00:00:00\", \"2018-05-28T00:00:00\", \"2018-05-28T00:00:00\", \"2017-10-14T00:00:00\", \"2017-10-08T00:00:00\", \"2018-02-01T00:00:00\", \"2018-03-07T00:00:00\", \"2018-04-03T00:00:00\", \"2018-03-08T00:00:00\", \"2018-05-08T00:00:00\", \"2017-12-23T00:00:00\", \"2018-04-16T00:00:00\", \"2017-08-03T00:00:00\", \"2018-01-29T00:00:00\", \"2018-01-26T00:00:00\", \"2018-05-01T00:00:00\", \"2018-01-23T00:00:00\", \"2017-12-29T00:00:00\", \"2018-05-09T00:00:00\", \"2018-03-05T00:00:00\", \"2018-03-06T00:00:00\", \"2017-10-23T00:00:00\", \"2018-03-19T00:00:00\", \"2017-12-23T00:00:00\", \"2017-12-30T00:00:00\", \"2018-03-25T00:00:00\", \"2017-08-15T00:00:00\", \"2018-01-30T00:00:00\", \"2018-02-27T00:00:00\", \"2018-02-27T00:00:00\", \"2018-05-14T00:00:00\", \"2017-10-06T00:00:00\", \"2018-05-24T00:00:00\", \"2017-10-05T00:00:00\", \"2018-05-07T00:00:00\", \"2018-05-15T00:00:00\", \"2018-04-29T00:00:00\", \"2018-05-27T00:00:00\", \"2018-05-29T00:00:00\", \"2018-04-06T00:00:00\", \"2018-03-13T00:00:00\", \"2017-08-30T00:00:00\", \"2018-03-23T00:00:00\", \"2018-01-11T00:00:00\", \"2018-04-17T00:00:00\", \"2018-05-07T00:00:00\", \"2018-02-06T00:00:00\", \"2017-07-31T00:00:00\", \"2018-05-08T00:00:00\", \"2018-05-06T00:00:00\", \"2018-05-18T00:00:00\", \"2017-08-23T00:00:00\", \"2018-01-31T00:00:00\", \"2018-05-17T00:00:00\", \"2018-04-12T00:00:00\", \"2017-08-01T00:00:00\", \"2018-01-22T00:00:00\", \"2018-05-08T00:00:00\", \"2018-02-13T00:00:00\", \"2017-10-27T00:00:00\", \"2018-05-02T00:00:00\", \"2017-12-13T00:00:00\", \"2017-12-28T00:00:00\", \"2018-01-31T00:00:00\", \"2018-04-06T00:00:00\", \"2018-01-06T00:00:00\", \"2018-01-17T00:00:00\", \"2018-01-08T00:00:00\", \"2018-01-04T00:00:00\", \"2017-11-05T00:00:00\", \"2018-02-16T00:00:00\", \"2018-03-27T00:00:00\", \"2018-02-26T00:00:00\", \"2018-04-09T00:00:00\", \"2018-03-19T00:00:00\", \"2018-04-25T00:00:00\", \"2018-02-01T00:00:00\", \"2017-11-28T00:00:00\", \"2018-01-22T00:00:00\", \"2018-05-28T00:00:00\", \"2018-01-19T00:00:00\", \"2017-12-20T00:00:00\", \"2018-04-02T00:00:00\", \"2018-01-10T00:00:00\", \"2018-02-15T00:00:00\", \"2018-03-13T00:00:00\", \"2018-03-08T00:00:00\", \"2018-03-01T00:00:00\", \"2017-11-29T00:00:00\", \"2018-05-01T00:00:00\", \"2018-01-04T00:00:00\", \"2018-02-14T00:00:00\", \"2017-09-25T00:00:00\", \"2018-02-25T00:00:00\", \"2018-04-10T00:00:00\", \"2018-02-07T00:00:00\", \"2018-02-01T00:00:00\", \"2018-04-05T00:00:00\", \"2018-01-04T00:00:00\", \"2017-10-30T00:00:00\", \"2018-04-11T00:00:00\", \"2018-03-13T00:00:00\", \"2018-01-23T00:00:00\", \"2018-02-28T00:00:00\", \"2018-04-18T00:00:00\", \"2018-02-14T00:00:00\", \"2018-05-23T00:00:00\", \"2018-01-04T00:00:00\", \"2018-01-04T00:00:00\", \"2018-05-10T00:00:00\", \"2018-05-23T00:00:00\", \"2018-03-18T00:00:00\", \"2018-03-30T00:00:00\", \"2018-05-04T00:00:00\", \"2018-03-12T00:00:00\", \"2017-11-28T00:00:00\", \"2018-03-08T00:00:00\", \"2018-01-11T00:00:00\", \"2018-05-20T00:00:00\", \"2018-01-22T00:00:00\", \"2018-04-28T00:00:00\", \"2018-04-05T00:00:00\", \"2017-10-19T00:00:00\", \"2018-04-09T00:00:00\", \"2017-08-28T00:00:00\", \"2018-04-02T00:00:00\", \"2018-03-01T00:00:00\", \"2018-01-29T00:00:00\", \"2017-09-17T00:00:00\", \"2018-02-26T00:00:00\", \"2018-05-02T00:00:00\", \"2018-02-07T00:00:00\", \"2017-11-30T00:00:00\", \"2018-05-21T00:00:00\", \"2018-05-23T00:00:00\", \"2018-02-05T00:00:00\", \"2018-05-22T00:00:00\", \"2018-05-17T00:00:00\", \"2018-05-09T00:00:00\", \"2017-11-23T00:00:00\", \"2018-05-14T00:00:00\", \"2018-02-19T00:00:00\", \"2018-01-03T00:00:00\", \"2017-09-07T00:00:00\", \"2018-05-21T00:00:00\", \"2018-03-23T00:00:00\", \"2018-03-06T00:00:00\", \"2017-07-05T00:00:00\", \"2018-04-15T00:00:00\", \"2018-03-30T00:00:00\", \"2018-03-13T00:00:00\", \"2017-10-02T00:00:00\", \"2018-05-10T00:00:00\", \"2018-03-26T00:00:00\", \"2017-09-22T00:00:00\", \"2018-05-14T00:00:00\", \"2018-02-17T00:00:00\", \"2018-04-09T00:00:00\", \"2018-05-04T00:00:00\", \"2018-02-12T00:00:00\", \"2018-04-11T00:00:00\", \"2018-01-15T00:00:00\", \"2018-03-01T00:00:00\", \"2018-04-17T00:00:00\", \"2018-02-11T00:00:00\", \"2017-11-13T00:00:00\", \"2018-05-23T00:00:00\", \"2018-05-28T00:00:00\", \"2018-02-13T00:00:00\", \"2018-02-23T00:00:00\", \"2018-02-14T00:00:00\", \"2018-03-12T00:00:00\", \"2018-05-23T00:00:00\", \"2017-11-06T00:00:00\", \"2018-02-27T00:00:00\", \"2018-01-02T00:00:00\", \"2018-01-17T00:00:00\", \"2018-02-01T00:00:00\", \"2018-03-26T00:00:00\", \"2018-03-03T00:00:00\", \"2018-01-29T00:00:00\", \"2018-01-29T00:00:00\", \"2018-01-23T00:00:00\", \"2018-02-09T00:00:00\", \"2018-05-06T00:00:00\", \"2017-11-07T00:00:00\", \"2018-04-19T00:00:00\", \"2018-05-27T00:00:00\", \"2017-11-07T00:00:00\", \"2018-05-20T00:00:00\", \"2018-04-11T00:00:00\", \"2018-04-27T00:00:00\", \"2018-04-22T00:00:00\", \"2018-01-28T00:00:00\", \"2018-02-20T00:00:00\", \"2018-03-13T00:00:00\", \"2018-02-07T00:00:00\", \"2017-08-24T00:00:00\", \"2017-10-06T00:00:00\", \"2018-03-28T00:00:00\", \"2018-05-26T00:00:00\", \"2018-02-27T00:00:00\", \"2018-05-21T00:00:00\", \"2018-02-07T00:00:00\", \"2018-04-11T00:00:00\", \"2018-05-20T00:00:00\", \"2018-04-26T00:00:00\", \"2018-01-22T00:00:00\", \"2018-03-05T00:00:00\", \"2018-03-13T00:00:00\", \"2017-08-24T00:00:00\", \"2018-04-25T00:00:00\", \"2018-03-11T00:00:00\", \"2018-01-19T00:00:00\", \"2017-10-11T00:00:00\", \"2018-02-27T00:00:00\", \"2018-03-13T00:00:00\", \"2018-01-04T00:00:00\", \"2018-04-02T00:00:00\", \"2018-02-06T00:00:00\", \"2018-05-01T00:00:00\", \"2018-01-04T00:00:00\", \"2017-11-02T00:00:00\", \"2018-05-25T00:00:00\", \"2017-07-19T00:00:00\", \"2018-05-13T00:00:00\", \"2018-05-03T00:00:00\", \"2018-01-30T00:00:00\", \"2018-05-22T00:00:00\", \"2018-04-07T00:00:00\", \"2018-04-04T00:00:00\", \"2018-03-14T00:00:00\", \"2018-05-07T00:00:00\", \"2018-04-11T00:00:00\", \"2018-02-22T00:00:00\", \"2017-10-09T00:00:00\", \"2018-05-04T00:00:00\", \"2018-05-03T00:00:00\", \"2018-04-14T00:00:00\", \"2018-04-14T00:00:00\", \"2018-02-27T00:00:00\", \"2018-04-02T00:00:00\", \"2017-07-25T00:00:00\", \"2018-05-25T00:00:00\", \"2018-05-03T00:00:00\", \"2018-04-06T00:00:00\", \"2018-03-04T00:00:00\", \"2017-10-03T00:00:00\", \"2018-03-31T00:00:00\", \"2018-03-16T00:00:00\", \"2018-03-12T00:00:00\", \"2018-05-14T00:00:00\", \"2017-10-06T00:00:00\", \"2017-11-13T00:00:00\", \"2017-10-08T00:00:00\", \"2018-05-17T00:00:00\", \"2018-01-12T00:00:00\", \"2018-05-09T00:00:00\", \"2018-04-15T00:00:00\", \"2018-03-29T00:00:00\", \"2018-04-24T00:00:00\", \"2018-04-21T00:00:00\", \"2018-02-07T00:00:00\", \"2018-03-29T00:00:00\", \"2017-08-15T00:00:00\", \"2017-09-18T00:00:00\", \"2017-07-25T00:00:00\", \"2018-04-05T00:00:00\", \"2018-01-22T00:00:00\", \"2018-04-05T00:00:00\", \"2018-03-16T00:00:00\", \"2017-10-12T00:00:00\", \"2018-02-26T00:00:00\", \"2017-12-25T00:00:00\", \"2018-04-23T00:00:00\", \"2018-04-02T00:00:00\", \"2017-12-01T00:00:00\", \"2018-03-20T00:00:00\", \"2018-01-05T00:00:00\", \"2017-11-30T00:00:00\", \"2018-02-15T00:00:00\", \"2018-05-27T00:00:00\", \"2018-04-05T00:00:00\", \"2018-05-16T00:00:00\", \"2017-09-05T00:00:00\", \"2018-04-09T00:00:00\", \"2018-01-18T00:00:00\", \"2017-10-07T00:00:00\", \"2018-05-02T00:00:00\", \"2018-04-05T00:00:00\", \"2018-01-20T00:00:00\", \"2017-08-15T00:00:00\", \"2017-08-22T00:00:00\", \"2018-02-20T00:00:00\", \"2018-05-03T00:00:00\", \"2018-01-07T00:00:00\", \"2018-05-02T00:00:00\", \"2018-05-09T00:00:00\", \"2018-03-19T00:00:00\", \"2018-04-12T00:00:00\", \"2017-07-11T00:00:00\", \"2018-01-11T00:00:00\", \"2018-05-22T00:00:00\", \"2018-05-29T00:00:00\", \"2018-02-22T00:00:00\", \"2018-02-17T00:00:00\", \"2017-07-26T00:00:00\", \"2018-04-04T00:00:00\", \"2018-05-28T00:00:00\", \"2017-10-02T00:00:00\", \"2018-03-10T00:00:00\", \"2017-10-19T00:00:00\", \"2018-04-02T00:00:00\", \"2018-05-08T00:00:00\", \"2018-03-01T00:00:00\", \"2018-02-14T00:00:00\", \"2018-01-26T00:00:00\", \"2018-03-13T00:00:00\", \"2018-04-23T00:00:00\", \"2018-03-10T00:00:00\", \"2017-07-11T00:00:00\", \"2017-12-01T00:00:00\", \"2017-12-27T00:00:00\", \"2017-10-30T00:00:00\", \"2018-03-19T00:00:00\", \"2018-05-02T00:00:00\", \"2018-04-04T00:00:00\", \"2018-02-11T00:00:00\", \"2017-08-10T00:00:00\", \"2018-04-05T00:00:00\", \"2018-03-26T00:00:00\", \"2018-03-07T00:00:00\", \"2018-01-25T00:00:00\", \"2018-02-15T00:00:00\", \"2017-11-21T00:00:00\", \"2018-01-24T00:00:00\", \"2018-04-06T00:00:00\", \"2018-01-12T00:00:00\", \"2017-07-24T00:00:00\", \"2017-08-22T00:00:00\", \"2018-04-11T00:00:00\", \"2018-02-23T00:00:00\", \"2017-11-15T00:00:00\", \"2018-03-09T00:00:00\", \"2018-01-29T00:00:00\", \"2018-01-31T00:00:00\", \"2017-09-08T00:00:00\", \"2018-03-27T00:00:00\", \"2018-04-04T00:00:00\", \"2018-03-06T00:00:00\", \"2018-02-06T00:00:00\", \"2017-08-11T00:00:00\", \"2018-03-07T00:00:00\", \"2017-11-15T00:00:00\", \"2018-02-03T00:00:00\", \"2018-05-22T00:00:00\", \"2018-05-14T00:00:00\", \"2018-03-03T00:00:00\", \"2018-02-06T00:00:00\", \"2018-04-23T00:00:00\", \"2018-03-28T00:00:00\", \"2018-03-22T00:00:00\", \"2018-03-06T00:00:00\", \"2018-05-03T00:00:00\", \"2018-04-08T00:00:00\", \"2018-02-06T00:00:00\", \"2018-04-12T00:00:00\", \"2018-05-09T00:00:00\", \"2018-05-26T00:00:00\", \"2018-02-03T00:00:00\", \"2017-12-19T00:00:00\", \"2018-03-11T00:00:00\", \"2018-04-28T00:00:00\", \"2017-08-21T00:00:00\", \"2018-02-28T00:00:00\", \"2018-04-06T00:00:00\", \"2017-12-27T00:00:00\", \"2018-01-28T00:00:00\", \"2018-04-05T00:00:00\", \"2018-04-30T00:00:00\", \"2018-03-19T00:00:00\", \"2017-12-14T00:00:00\", \"2018-03-28T00:00:00\", \"2017-08-01T00:00:00\", \"2018-03-14T00:00:00\", \"2018-02-12T00:00:00\", \"2018-05-14T00:00:00\", \"2018-05-18T00:00:00\", \"2018-01-15T00:00:00\", \"2018-03-22T00:00:00\", \"2018-04-30T00:00:00\", \"2018-03-06T00:00:00\", \"2018-02-21T00:00:00\", \"2018-01-21T00:00:00\", \"2018-02-20T00:00:00\", \"2018-05-25T00:00:00\", \"2018-01-07T00:00:00\", \"2017-08-15T00:00:00\", \"2018-02-04T00:00:00\", \"2018-05-22T00:00:00\", \"2018-03-27T00:00:00\", \"2017-08-27T00:00:00\", \"2017-10-06T00:00:00\", \"2018-01-11T00:00:00\"]}, {\"marker\": {\"color\": \"red\", \"size\": 4.5}, \"mode\": \"markers\", \"name\": \"Data compra\", \"type\": \"scatter\", \"x\": [1, 2, 3, 4, 5, 6, 7, 8, 9, 10, 11, 12, 13, 14, 15, 16, 17, 18, 19, 20, 21, 22, 23, 24, 25, 26, 27, 28, 29, 30, 31, 32, 33, 34, 35, 36, 37, 38, 39, 40, 41, 42, 43, 44, 45, 46, 47, 48, 49, 50, 51, 52, 53, 54, 55, 56, 57, 58, 59, 60, 61, 62, 63, 64, 65, 66, 67, 68, 69, 70, 71, 72, 73, 74, 75, 76, 77, 78, 79, 80, 81, 82, 83, 84, 85, 86, 87, 88, 89, 90, 91, 92, 93, 94, 95, 96, 97, 98, 99, 100, 101, 102, 103, 104, 105, 106, 107, 108, 109, 110, 111, 112, 113, 114, 115, 116, 117, 118, 119, 120, 121, 122, 123, 124, 125, 126, 127, 128, 129, 130, 131, 132, 133, 134, 135, 136, 137, 138, 139, 140, 141, 142, 143, 144, 145, 146, 147, 148, 149, 150, 151, 152, 153, 154, 155, 156, 157, 158, 159, 160, 161, 162, 163, 164, 165, 166, 167, 168, 169, 170, 171, 172, 173, 174, 175, 176, 177, 178, 179, 180, 181, 182, 183, 184, 185, 186, 187, 188, 189, 190, 191, 192, 193, 194, 195, 196, 197, 198, 199, 200, 201, 202, 203, 204, 205, 206, 207, 208, 209, 210, 211, 212, 213, 214, 215, 216, 217, 218, 219, 220, 221, 222, 223, 224, 225, 226, 227, 228, 229, 230, 231, 232, 233, 234, 235, 236, 237, 238, 239, 240, 241, 242, 243, 244, 245, 246, 247, 248, 249, 250, 251, 252, 253, 254, 255, 256, 257, 258, 259, 260, 261, 262, 263, 264, 265, 266, 267, 268, 269, 270, 271, 272, 273, 274, 275, 276, 277, 278, 279, 280, 281, 282, 283, 284, 285, 286, 287, 288, 289, 290, 291, 292, 293, 294, 295, 296, 297, 298, 299, 300, 301, 302, 303, 304, 305, 306, 307, 308, 309, 310, 311, 312, 313, 314, 315, 316, 317, 318, 319, 320, 321, 322, 323, 324, 325, 326, 327, 328, 329, 330, 331, 332, 333, 334, 335, 336, 337, 338, 339, 340, 341, 342, 343, 344, 345, 346, 347, 348, 349, 350, 351, 352, 353, 354, 355, 356, 357, 358, 359, 360, 361, 362, 363, 364, 365, 366, 367, 368, 369, 370, 371, 372, 373, 374, 375, 376, 377, 378, 379, 380, 381, 382, 383, 384, 385, 386, 387, 388, 389, 390, 391, 392, 393, 394, 395, 396, 397, 398, 399, 400, 401, 402, 403, 404, 405, 406, 407, 408, 409, 410, 411, 412, 413, 414, 415, 416, 417, 418, 419, 420, 421, 422, 423, 424, 425, 426, 427, 428, 429, 430, 431, 432, 433, 434, 435, 436, 437, 438, 439, 440, 441, 442, 443, 444, 445, 446, 447, 448, 449, 450, 451, 452, 453, 454, 455, 456, 457, 458, 459, 460, 461, 462, 463, 464, 465, 466, 467, 468, 469, 470, 471, 472, 473, 474, 475, 476, 477, 478, 479, 480, 481, 482, 483, 484, 485, 486, 487, 488, 489, 490, 491, 492, 493, 494, 495, 496, 497, 498, 499, 500, 501, 502, 503, 504, 505, 506, 507, 508, 509, 510, 511, 512, 513, 514, 515, 516, 517, 518, 519, 520, 521, 522, 523, 524, 525, 526, 527, 528, 529, 530, 531, 532, 533, 534, 535, 536, 537, 538, 539, 540, 541, 542, 543, 544, 545, 546, 547, 548, 549, 550, 551, 552, 553, 554, 555, 556, 557, 558, 559, 560, 561, 562, 563, 564, 565, 566, 567, 568, 569, 570, 571, 572, 573, 574, 575, 576, 577, 578, 579, 580, 581, 582, 583, 584, 585, 586, 587, 588, 589, 590, 591, 592, 593, 594, 595, 596, 597, 598, 599, 600, 601, 602, 603, 604, 605, 606, 607, 608, 609, 610, 611, 612, 613, 614, 615, 616, 617, 618, 619, 620, 621, 622, 623, 624, 625, 626, 627, 628, 629, 630, 631, 632, 633, 634, 635, 636, 637, 638, 639, 640, 641, 642, 643, 644, 645, 646, 647, 648, 649, 650, 651, 652, 653, 654, 655, 656, 657, 658, 659, 660, 661, 662, 663, 664, 665, 666, 667, 668, 669, 670, 671, 672, 673, 674, 675, 676, 677, 678, 679, 680, 681, 682, 683, 684, 685, 686, 687, 688, 689, 690, 691, 692, 693, 694, 695, 696, 697, 698, 699, 700, 701, 702, 703, 704, 705, 706, 707, 708, 709, 710, 711, 712, 713, 714, 715, 716, 717, 718, 719, 720, 721, 722, 723, 724, 725, 726, 727, 728, 729, 730, 731, 732, 733, 734, 735, 736, 737, 738, 739, 740, 741, 742, 743, 744, 745, 746, 747, 748, 749, 750, 751, 752, 753, 754, 755, 756, 757, 758, 759, 760, 761, 762, 763, 764, 765, 766, 767, 768, 769, 770, 771, 772, 773, 774, 775, 776, 777, 778, 779, 780, 781, 782, 783, 784, 785, 786, 787, 788, 789, 790, 791, 792, 793, 794, 795, 796, 797, 798, 799, 800, 801, 802, 803, 804, 805, 806, 807, 808, 809, 810, 811, 812, 813, 814, 815, 816, 817, 818, 819, 820, 821, 822, 823, 824, 825, 826, 827, 828, 829, 830, 831, 832, 833, 834, 835, 836, 837, 838, 839, 840, 841, 842], \"y\": [\"2018-02-26T19:58:54\", \"2018-05-08T20:17:59\", \"2018-06-05T17:27:23\", \"2018-01-17T13:51:03\", \"2018-07-03T20:17:45\", \"2018-02-07T18:04:05\", \"2018-04-16T18:18:22\", \"2018-04-17T17:01:57\", \"2018-05-14T18:37:15\", \"2018-04-24T03:00:00\", \"2018-02-28T19:42:14\", \"2018-02-23T13:54:40\", \"2018-05-22T13:24:08\", \"2018-06-14T14:30:20\", \"2018-04-10T03:00:00\", \"2018-09-10T14:18:01\", \"2018-04-10T19:21:54\", \"2018-01-26T17:23:46\", \"2018-05-11T19:03:19\", \"2018-06-19T14:08:22\", \"2018-02-07T13:57:02\", \"2018-04-16T13:09:09\", \"2018-02-08T17:20:14\", \"2018-02-16T12:31:56\", \"2018-02-22T12:40:15\", \"2018-02-12T13:18:13\", \"2018-02-08T20:57:44\", \"2018-04-06T20:52:54\", \"2018-04-13T12:27:48\", \"2018-04-18T18:02:08\", \"2018-07-19T18:06:07\", \"2018-07-04T15:07:27\", \"2018-04-25T03:00:00\", \"2018-06-05T17:20:34\", \"2018-10-31T16:54:59\", \"2018-05-30T14:43:50\", \"2018-03-06T12:25:29\", \"2018-09-27T12:31:01\", \"2018-02-06T15:46:14\", \"2018-05-15T18:05:25\", \"2018-06-11T12:40:42\", \"2018-11-14T18:04:19\", \"2018-04-27T14:01:33\", \"2018-03-27T19:14:00\", \"2018-06-18T13:58:00\", \"2018-04-11T03:00:00\", \"2018-04-18T16:50:40\", \"2018-03-29T17:48:42\", \"2018-02-22T13:18:26\", \"2018-02-27T20:04:12\", \"2018-06-11T12:04:11\", \"2018-07-30T14:34:51\", \"2018-04-02T14:20:33\", \"2018-04-13T12:50:35\", \"2018-03-23T19:06:54\", \"2018-04-26T03:00:00\", \"2018-03-12T13:21:11\", \"2018-04-30T21:13:36\", \"2018-04-27T13:35:00\", \"2018-09-04T14:15:04\", \"2018-05-18T18:08:22\", \"2018-02-27T19:19:47\", \"2018-01-12T16:07:27\", \"2018-02-26T12:45:46\", \"2018-04-03T03:00:00\", \"2018-04-27T16:11:57\", \"2018-04-27T20:44:40\", \"2018-02-22T21:07:50\", \"2018-01-31T21:00:13\", \"2018-06-25T19:33:44\", \"2018-09-21T18:18:15\", \"2018-03-12T13:14:10\", \"2018-01-19T16:51:28\", \"2018-04-03T17:19:55\", \"2018-04-23T14:31:35\", \"2018-02-09T15:35:51\", \"2018-03-16T14:17:34\", \"2018-04-27T16:09:25\", \"2018-01-18T11:09:00\", \"2018-04-27T21:38:40\", \"2018-04-27T21:08:34\", \"2018-08-28T17:09:31\", \"2018-02-26T20:32:17\", \"2018-04-03T18:56:08\", \"2018-04-26T16:05:43\", \"2018-02-26T20:02:10\", \"2018-09-21T18:49:49\", \"2018-08-03T17:41:00\", \"2018-01-30T16:30:17\", \"2018-02-15T17:38:42\", \"2018-04-20T03:00:00\", \"2018-05-07T16:42:08\", \"2018-06-18T12:46:31\", \"2018-02-12T18:46:06\", \"2018-04-17T19:12:16\", \"2018-05-29T20:20:26\", \"2018-06-15T19:49:16\", \"2018-08-07T19:47:27\", \"2018-06-15T21:32:52\", \"2018-01-26T20:25:59\", \"2018-09-25T11:55:05\", \"2018-04-06T17:40:28\", \"2018-07-12T21:14:21\", \"2018-03-14T12:18:20\", \"2018-03-28T22:37:52\", \"2018-05-14T16:06:59\", \"2018-01-22T13:18:32\", \"2018-04-30T03:00:00\", \"2018-09-11T19:25:49\", \"2018-05-10T19:07:39\", \"2018-03-13T14:56:01\", \"2018-04-24T03:00:00\", \"2018-04-06T17:56:04\", \"2018-02-01T12:33:15\", \"2018-04-30T20:23:10\", \"2018-03-28T18:55:26\", \"2018-05-18T12:47:49\", \"2018-08-20T13:59:51\", \"2018-04-13T20:38:20\", \"2018-10-30T18:21:05\", \"2018-03-19T03:00:00\", \"2018-06-06T17:50:28\", \"2018-04-05T15:06:11\", \"2018-02-26T17:07:06\", \"2018-04-27T14:11:20\", \"2018-09-17T12:03:18\", \"2018-05-15T20:21:11\", \"2018-01-23T17:58:30\", \"2018-04-30T13:06:43\", \"2018-03-28T16:11:25\", \"2018-08-23T12:46:40\", \"2018-02-19T17:26:54\", \"2018-05-31T21:44:18\", \"2018-04-30T20:24:05\", \"2018-05-03T03:00:00\", \"2018-06-20T18:31:06\", \"2018-05-24T22:16:29\", \"2018-03-29T20:20:04\", \"2018-03-05T18:43:20\", \"2018-04-19T22:00:40\", \"2018-03-20T14:01:49\", \"2018-03-22T13:06:50\", \"2018-02-15T16:06:31\", \"2018-05-10T19:16:27\", \"2018-01-29T17:13:49\", \"2018-01-29T20:08:37\", \"2018-01-08T19:14:47\", \"2018-05-02T17:57:01\", \"2018-01-15T19:51:21\", \"2018-02-09T13:41:10\", \"2018-04-27T13:55:14\", \"2018-04-18T20:16:19\", \"2018-01-19T17:23:06\", \"2018-04-04T13:50:13\", \"2018-05-23T21:47:07\", \"2018-09-03T19:15:53\", \"2018-02-07T13:40:14\", \"2018-05-15T18:16:40\", \"2018-03-29T16:29:14\", \"2018-07-31T22:29:03\", \"2018-01-26T18:13:17\", \"2018-04-09T17:28:44\", \"2018-04-20T13:24:51\", \"2018-04-20T19:04:20\", \"2018-08-10T13:01:03\", \"2018-05-08T12:18:42\", \"2018-02-28T03:00:00\", \"2018-04-26T20:04:29\", \"2018-03-01T14:58:45\", \"2018-01-10T18:15:06\", \"2018-04-27T03:00:00\", \"2018-06-26T12:51:19\", \"2018-03-12T18:24:50\", \"2018-07-11T14:58:50\", \"2018-04-04T21:17:17\", \"2018-04-03T18:29:19\", \"2018-06-20T12:24:10\", \"2018-05-22T21:25:39\", \"2018-01-31T13:33:48\", \"2018-07-18T20:24:28\", \"2018-03-26T19:31:38\", \"2018-05-21T20:28:33\", \"2018-01-31T02:00:00\", \"2018-04-13T13:41:51\", \"2018-06-20T18:32:56\", \"2018-04-11T14:36:14\", \"2018-06-11T14:29:08\", \"2018-02-26T20:59:09\", \"2018-10-24T19:33:34\", \"2018-03-16T19:39:38\", \"2018-07-13T20:14:57\", \"2018-02-22T13:16:06\", \"2018-08-30T22:00:23\", \"2018-06-14T18:51:26\", \"2018-07-03T12:26:43\", \"2018-06-01T16:45:27\", \"2018-02-26T16:11:50\", \"2018-05-11T03:00:00\", \"2018-05-15T19:03:42\", \"2018-04-05T19:05:16\", \"2018-01-12T18:25:57\", \"2018-06-29T20:16:50\", \"2018-05-17T21:47:38\", \"2018-08-10T16:46:39\", \"2018-06-25T18:42:15\", \"2018-04-17T14:51:42\", \"2018-08-21T21:07:30\", \"2018-07-30T20:30:31\", \"2018-02-07T20:39:32\", \"2018-02-26T16:09:48\", \"2018-04-27T14:07:20\", \"2018-08-08T16:22:31\", \"2018-06-18T13:51:38\", \"2018-03-22T21:20:42\", \"2018-03-07T22:08:32\", \"2018-04-11T20:19:49\", \"2018-02-27T17:30:22\", \"2018-03-19T18:58:47\", \"2018-05-11T14:22:51\", \"2018-04-10T18:20:00\", \"2018-03-12T21:20:49\", \"2018-10-03T12:28:55\", \"2018-01-12T02:00:00\", \"2018-06-04T13:55:12\", \"2018-09-13T03:00:00\", \"2018-01-31T16:18:47\", \"2018-02-02T13:08:11\", \"2018-06-13T16:37:42\", \"2018-05-16T17:48:30\", \"2018-05-25T16:36:57\", \"2018-06-05T21:47:22\", \"2018-06-11T12:36:11\", \"2018-02-05T18:36:39\", \"2018-02-15T18:21:28\", \"2018-03-28T16:09:52\", \"2018-01-23T12:41:16\", \"2018-10-01T12:27:47\", \"2018-11-01T15:36:16\", \"2018-01-11T17:16:48\", \"2018-04-27T14:04:06\", \"2018-05-10T20:10:08\", \"2018-05-25T21:25:11\", \"2018-05-30T22:29:56\", \"2018-02-08T19:03:20\", \"2018-07-31T20:01:32\", \"2018-03-28T19:05:44\", \"2018-05-14T19:26:01\", \"2018-03-26T20:08:26\", \"2018-04-30T20:47:07\", \"2018-06-19T19:54:25\", \"2018-02-02T11:25:23\", \"2018-04-25T18:28:42\", \"2018-01-15T17:14:00\", \"2018-08-20T13:15:36\", \"2018-03-07T14:24:51\", \"2018-01-29T20:43:42\", \"2018-01-30T18:06:36\", \"2018-04-27T12:40:32\", \"2018-04-20T19:29:22\", \"2018-01-19T02:00:00\", \"2018-01-12T13:49:28\", \"2018-01-18T02:00:00\", \"2018-04-04T20:55:17\", \"2018-06-26T17:13:29\", \"2018-03-27T03:00:00\", \"2018-04-30T13:30:05\", \"2018-07-26T17:03:01\", \"2018-05-14T19:41:58\", \"2018-01-22T17:43:36\", \"2018-05-18T13:05:14\", \"2018-05-23T21:00:58\", \"2018-03-13T15:51:54\", \"2018-04-19T14:13:04\", \"2018-02-28T19:15:15\", \"2018-08-02T17:32:16\", \"2018-04-18T20:19:00\", \"2018-04-06T14:15:21\", \"2018-04-14T03:00:00\", \"2018-08-14T13:56:57\", \"2018-05-23T13:57:13\", \"2018-03-28T22:45:45\", \"2018-04-06T21:43:37\", \"2018-05-25T18:04:39\", \"2018-05-11T12:46:58\", \"2018-04-24T14:19:33\", \"2018-05-11T19:21:23\", \"2018-04-27T13:27:25\", \"2018-04-25T21:44:40\", \"2018-08-24T03:00:00\", \"2018-04-11T16:05:14\", \"2018-05-10T17:13:16\", \"2018-04-25T17:19:34\", \"2018-03-19T20:04:46\", \"2018-02-16T18:51:56\", \"2018-04-30T17:43:10\", \"2018-04-20T14:26:36\", \"2018-05-24T20:25:11\", \"2018-04-18T19:26:35\", \"2018-05-11T20:38:50\", \"2018-03-15T15:12:53\", \"2018-04-24T17:05:08\", \"2018-02-21T12:30:22\", \"2018-02-02T20:42:47\", \"2018-05-08T17:18:41\", \"2018-04-28T03:00:00\", \"2018-06-08T12:10:27\", \"2018-03-09T17:24:41\", \"2018-10-01T12:31:26\", \"2018-04-17T17:18:12\", \"2018-05-24T16:11:06\", \"2018-01-10T19:40:52\", \"2018-03-07T03:00:00\", \"2018-05-17T12:09:33\", \"2018-03-27T03:00:00\", \"2018-02-06T02:00:00\", \"2018-02-27T19:13:04\", \"2018-01-16T02:00:00\", \"2018-01-22T17:11:43\", \"2018-08-17T14:41:00\", \"2018-04-20T12:18:30\", \"2018-03-05T20:54:03\", \"2018-06-04T18:53:50\", \"2018-04-30T16:01:35\", \"2018-04-18T16:36:44\", \"2018-03-09T14:18:20\", \"2018-04-09T18:58:34\", \"2018-05-21T17:29:17\", \"2018-05-14T19:17:03\", \"2018-03-07T17:11:48\", \"2018-02-20T17:44:19\", \"2018-03-23T17:58:38\", \"2018-01-26T12:23:51\", \"2018-02-07T18:11:05\", \"2018-04-20T03:00:00\", \"2018-06-08T19:09:46\", \"2018-10-10T01:15:56\", \"2018-03-22T19:35:04\", \"2018-03-01T12:22:46\", \"2018-02-16T20:09:12\", \"2018-04-17T18:12:47\", \"2018-03-16T14:22:29\", \"2018-03-08T03:00:00\", \"2018-03-16T13:57:28\", \"2018-03-15T19:10:24\", \"2018-10-25T17:16:36\", \"2018-04-30T20:58:34\", \"2018-06-05T13:34:52\", \"2018-02-28T22:17:25\", \"2018-03-29T12:34:47\", \"2018-01-22T13:22:05\", \"2018-03-19T18:20:11\", \"2018-06-07T13:59:42\", \"2018-04-24T14:04:51\", \"2018-09-03T03:00:00\", \"2018-06-15T14:04:52\", \"2018-06-12T19:54:25\", \"2018-08-28T21:30:52\", \"2018-03-01T17:44:43\", \"2018-04-30T21:48:02\", \"2018-01-23T11:33:43\", \"2018-04-19T18:10:32\", \"2018-01-29T11:26:57\", \"2018-03-05T12:52:26\", \"2018-03-23T19:56:18\", \"2018-03-16T20:22:47\", \"2018-04-04T17:31:09\", \"2018-03-28T03:00:00\", \"2018-05-21T14:06:49\", \"2018-04-11T22:21:15\", \"2018-04-06T03:00:00\", \"2018-03-12T17:30:06\", \"2018-04-03T20:47:56\", \"2018-02-09T18:11:10\", \"2018-05-11T21:26:07\", \"2018-01-30T11:33:40\", \"2018-02-02T13:10:58\", \"2018-04-11T15:15:51\", \"2018-02-28T17:16:01\", \"2018-07-02T13:40:15\", \"2018-05-18T20:27:46\", \"2018-03-13T17:16:23\", \"2018-04-26T13:40:00\", \"2018-11-01T11:47:50\", \"2018-02-27T13:54:11\", \"2018-02-15T17:22:47\", \"2018-04-25T22:04:32\", \"2018-03-29T18:12:58\", \"2018-06-06T13:53:35\", \"2018-03-09T20:12:38\", \"2018-04-25T16:22:26\", \"2018-05-25T15:00:14\", \"2018-05-16T13:32:26\", \"2018-09-14T14:43:50\", \"2018-08-08T21:14:25\", \"2018-04-23T19:26:30\", \"2018-04-16T18:25:12\", \"2018-01-30T11:42:01\", \"2018-01-24T15:19:49\", \"2018-05-15T21:17:04\", \"2018-05-04T03:00:00\", \"2018-03-16T19:52:21\", \"2018-02-27T17:13:23\", \"2018-04-30T19:28:30\", \"2018-05-04T03:00:00\", \"2018-04-18T14:08:11\", \"2018-02-15T14:37:04\", \"2018-04-27T16:24:00\", \"2018-05-25T22:37:08\", \"2018-09-24T20:45:42\", \"2018-03-07T13:56:43\", \"2018-05-21T19:55:20\", \"2018-08-20T21:05:48\", \"2018-05-02T14:23:32\", \"2018-05-24T16:47:23\", \"2018-01-18T20:02:48\", \"2018-05-11T17:24:16\", \"2018-02-14T11:48:29\", \"2018-01-24T17:14:32\", \"2018-03-29T18:06:54\", \"2018-02-28T03:00:00\", \"2018-02-27T12:23:13\", \"2018-03-19T17:36:04\", \"2018-04-19T17:11:18\", \"2018-04-18T19:01:21\", \"2018-05-04T03:00:00\", \"2018-02-19T20:21:26\", \"2018-05-07T18:22:39\", \"2018-04-27T03:00:00\", \"2018-05-14T20:15:57\", \"2018-03-22T15:07:28\", \"2018-04-16T16:58:06\", \"2018-03-16T14:14:20\", \"2018-04-06T16:56:39\", \"2018-03-15T12:43:46\", \"2018-03-07T19:04:28\", \"2018-03-09T12:49:20\", \"2018-03-26T20:54:23\", \"2018-03-21T16:16:52\", \"2018-03-12T13:00:43\", \"2018-05-02T17:29:18\", \"2018-07-09T03:00:00\", \"2018-05-30T13:34:09\", \"2018-05-09T16:52:06\", \"2018-04-20T20:48:35\", \"2018-03-08T15:01:48\", \"2018-01-18T11:22:24\", \"2018-04-09T18:22:46\", \"2018-02-02T16:44:11\", \"2018-02-23T12:03:59\", \"2018-08-15T19:09:36\", \"2018-03-09T03:00:00\", \"2018-10-10T16:35:47\", \"2018-04-20T20:11:23\", \"2018-03-15T17:13:24\", \"2018-04-09T21:04:41\", \"2018-06-19T21:04:53\", \"2018-04-12T12:35:49\", \"2018-04-23T20:40:04\", \"2018-01-29T12:15:43\", \"2018-04-10T19:17:03\", \"2018-05-11T17:09:22\", \"2018-03-26T12:07:20\", \"2018-04-03T20:39:13\", \"2018-02-08T17:29:13\", \"2018-08-30T22:34:38\", \"2018-02-08T17:10:00\", \"2018-03-06T11:29:22\", \"2018-03-27T17:57:49\", \"2018-03-29T17:45:03\", \"2018-02-22T13:28:41\", \"2018-02-26T14:46:28\", \"2018-01-16T12:36:23\", \"2018-01-23T18:30:32\", \"2018-07-10T15:57:10\", \"2018-04-12T21:32:57\", \"2018-05-30T17:49:58\", \"2018-05-08T17:48:59\", \"2018-04-24T03:00:00\", \"2018-03-15T21:09:42\", \"2018-02-09T15:46:42\", \"2018-03-06T13:29:10\", \"2018-03-14T12:24:20\", \"2018-10-03T18:32:49\", \"2018-06-11T19:23:48\", \"2018-02-22T18:03:54\", \"2018-02-02T11:22:56\", \"2018-03-22T13:14:56\", \"2018-05-14T13:25:24\", \"2018-04-12T14:02:51\", \"2018-01-30T17:39:30\", \"2018-02-07T15:45:25\", \"2018-01-19T02:00:00\", \"2018-02-05T20:03:48\", \"2018-03-19T20:26:27\", \"2018-02-05T18:10:27\", \"2018-07-18T18:48:13\", \"2018-03-14T16:52:04\", \"2018-05-14T13:36:50\", \"2018-04-30T18:30:12\", \"2018-01-24T11:33:32\", \"2018-03-27T03:00:00\", \"2018-05-22T12:44:38\", \"2018-03-14T12:23:39\", \"2018-06-27T15:12:26\", \"2018-08-21T12:30:34\", \"2018-03-26T20:42:32\", \"2018-04-30T14:27:15\", \"2018-04-11T13:39:02\", \"2018-01-22T15:28:51\", \"2018-02-07T11:14:36\", \"2018-03-14T19:43:52\", \"2018-09-27T17:36:04\", \"2018-05-17T12:42:15\", \"2018-06-04T12:47:47\", \"2018-05-18T19:32:40\", \"2018-04-23T21:07:06\", \"2018-02-19T19:49:04\", \"2018-04-23T13:23:55\", \"2018-07-20T18:18:14\", \"2018-07-20T20:30:20\", \"2018-04-13T03:00:00\", \"2018-07-09T12:54:57\", \"2018-07-13T11:53:00\", \"2018-05-21T17:41:31\", \"2018-04-10T19:34:27\", \"2018-03-29T17:05:39\", \"2018-03-09T13:45:50\", \"2018-01-12T12:23:31\", \"2018-04-20T16:29:28\", \"2018-10-02T21:25:39\", \"2018-01-30T12:17:36\", \"2018-03-20T13:53:13\", \"2018-04-13T03:00:00\", \"2018-10-08T17:22:23\", \"2018-01-29T10:35:52\", \"2018-03-27T21:32:52\", \"2018-02-15T12:24:37\", \"2018-04-03T12:21:09\", \"2018-10-29T16:54:59\", \"2018-05-15T13:29:59\", \"2018-10-24T11:33:31\", \"2018-03-23T19:52:00\", \"2018-09-06T16:31:09\", \"2018-04-27T20:10:02\", \"2018-03-01T19:48:16\", \"2018-04-27T12:39:38\", \"2018-06-21T12:39:59\", \"2018-05-08T13:32:34\", \"2018-10-05T12:35:50\", \"2018-02-14T17:11:22\", \"2018-01-29T02:00:00\", \"2018-02-19T21:08:55\", \"2018-05-10T18:11:09\", \"2018-09-04T14:34:07\", \"2018-04-13T21:53:17\", \"2018-03-02T16:20:21\", \"2018-02-20T19:40:05\", \"2018-04-05T14:44:21\", \"2018-03-26T21:56:43\", \"2018-05-02T17:22:49\", \"2018-08-22T13:14:44\", \"2018-02-23T20:27:56\", \"2018-02-28T16:19:57\", \"2018-06-14T15:43:46\", \"2018-04-13T18:12:32\", \"2018-01-31T16:40:54\", \"2018-03-09T20:05:55\", \"2018-05-04T03:00:00\", \"2018-02-27T20:53:04\", \"2018-05-21T21:21:21\", \"2018-04-09T12:26:37\", \"2018-07-12T19:56:39\", \"2018-07-31T13:29:15\", \"2017-12-14T11:30:13\", \"2018-03-13T12:33:10\", \"2018-04-05T13:18:02\", \"2018-05-30T16:07:26\", \"2018-04-23T16:16:57\", \"2018-03-26T16:07:32\", \"2018-07-10T11:34:50\", \"2018-03-13T21:39:34\", \"2018-02-28T21:24:13\", \"2018-04-04T18:53:19\", \"2018-05-08T20:14:11\", \"2018-04-18T20:05:55\", \"2018-05-14T12:26:01\", \"2018-05-15T20:34:06\", \"2018-08-24T11:54:08\", \"2018-04-06T16:27:35\", \"2018-08-20T17:50:56\", \"2018-04-27T16:17:37\", \"2018-03-06T18:49:03\", \"2018-04-30T03:00:00\", \"2018-02-15T14:58:37\", \"2018-02-09T17:10:58\", \"2018-04-25T19:19:08\", \"2018-04-13T11:56:52\", \"2018-01-25T15:03:55\", \"2018-04-05T18:45:56\", \"2018-04-10T14:05:56\", \"2018-02-26T18:32:05\", \"2018-06-07T14:21:17\", \"2018-01-31T20:47:51\", \"2018-04-10T22:03:57\", \"2018-04-11T19:00:03\", \"2018-08-23T21:56:01\", \"2018-02-07T19:54:19\", \"2018-05-15T20:22:41\", \"2018-03-06T13:27:32\", \"2018-07-17T17:02:36\", \"2018-02-08T20:28:27\", \"2018-03-19T12:41:03\", \"2018-03-27T14:48:01\", \"2018-04-18T19:05:58\", \"2018-04-06T19:42:14\", \"2018-02-06T16:11:05\", \"2018-05-10T19:26:38\", \"2018-03-28T21:22:04\", \"2018-05-17T17:22:45\", \"2018-03-24T03:00:00\", \"2018-06-07T13:30:28\", \"2018-03-14T12:14:58\", \"2018-03-29T13:49:44\", \"2018-05-14T19:57:48\", \"2018-04-13T16:21:23\", \"2018-08-30T12:32:15\", \"2018-04-05T15:11:12\", \"2018-02-28T18:22:11\", \"2018-08-17T19:29:47\", \"2018-10-31T19:17:57\", \"2018-04-25T16:03:49\", \"2018-03-12T16:40:42\", \"2018-04-16T12:26:39\", \"2018-06-05T18:00:37\", \"2018-03-21T13:03:40\", \"2018-04-10T18:22:26\", \"2018-03-22T13:02:12\", \"2018-04-16T14:49:40\", \"2018-07-13T19:46:12\", \"2018-03-16T16:20:55\", \"2018-02-23T11:40:05\", \"2018-04-18T16:43:53\", \"2018-09-20T17:13:05\", \"2018-04-12T03:00:00\", \"2018-04-11T17:08:35\", \"2018-02-26T13:02:58\", \"2018-10-29T14:54:02\", \"2018-03-28T13:21:21\", \"2018-07-13T21:58:39\", \"2018-02-16T11:56:46\", \"2018-03-14T17:31:31\", \"2018-07-02T17:20:22\", \"2018-07-24T19:56:07\", \"2018-04-02T13:03:24\", \"2018-05-11T16:16:13\", \"2017-12-11T18:07:26\", \"2018-07-13T17:38:49\", \"2018-01-22T02:00:00\", \"2018-03-19T20:39:25\", \"2018-05-17T03:00:00\", \"2018-09-05T14:32:37\", \"2018-05-02T13:39:20\", \"2018-04-30T12:04:11\", \"2018-04-13T03:00:00\", \"2018-02-08T13:13:35\", \"2018-03-27T19:15:09\", \"2018-03-20T20:23:26\", \"2018-03-06T19:38:55\", \"2018-03-07T19:23:35\", \"2018-09-26T11:48:53\", \"2018-03-15T20:31:54\", \"2018-03-26T17:04:23\", \"2018-03-02T21:18:48\", \"2018-01-19T19:29:55\", \"2018-10-26T17:06:53\", \"2018-01-17T12:11:20\", \"2018-04-20T19:42:05\", \"2018-04-30T21:23:41\", \"2018-05-09T13:17:12\", \"2018-03-06T18:14:08\", \"2018-04-18T12:45:01\", \"2018-11-09T20:06:38\", \"2018-04-06T12:13:08\", \"2018-02-22T21:25:08\", \"2018-04-10T19:08:35\", \"2018-01-29T15:09:03\", \"2018-05-16T15:05:26\", \"2018-04-20T20:24:22\", \"2018-04-10T18:37:30\", \"2018-04-13T17:03:29\", \"2018-03-08T18:57:56\", \"2018-04-30T18:24:13\", \"2018-01-22T19:14:25\", \"2018-04-10T14:43:06\", \"2018-04-17T13:14:51\", \"2018-05-16T20:25:19\", \"2018-02-05T15:04:41\", \"2018-01-15T13:08:11\", \"2018-06-12T18:59:26\", \"2018-09-11T13:14:37\", \"2018-02-21T14:54:47\", \"2018-05-18T17:17:42\", \"2018-03-14T20:07:27\", \"2018-05-09T16:21:08\", \"2018-04-30T20:57:42\", \"2018-05-31T21:24:31\", \"2018-05-30T16:15:12\", \"2018-05-04T03:00:00\", \"2018-04-24T20:43:12\", \"2018-06-19T12:36:05\", \"2018-02-06T13:55:36\", \"2018-04-25T19:43:04\", \"2018-06-29T18:28:26\", \"2018-03-28T16:16:34\", \"2018-03-02T12:58:05\", \"2018-07-06T17:10:17\", \"2018-02-08T13:10:58\", \"2018-04-20T12:20:34\", \"2018-05-21T20:17:38\", \"2018-05-07T16:18:52\", \"2018-04-13T14:30:12\", \"2018-06-08T12:15:38\", \"2018-10-18T16:27:51\", \"2018-04-27T14:01:59\", \"2018-04-04T18:42:57\", \"2018-01-29T12:10:19\", \"2018-03-28T18:50:57\", \"2018-04-20T18:13:06\", \"2018-03-20T17:30:41\", \"2018-04-11T12:24:58\", \"2018-05-15T17:20:12\", \"2018-04-04T19:56:06\", \"2018-04-25T21:02:03\", \"2018-02-14T11:14:12\", \"2018-03-07T14:58:07\", \"2018-05-09T14:24:56\", \"2018-03-09T17:59:38\", \"2018-08-07T17:17:28\", \"2018-04-12T13:58:09\", \"2018-04-23T20:19:56\", \"2018-02-15T11:24:52\", \"2018-02-09T15:37:08\", \"2018-04-30T16:06:05\", \"2018-06-11T21:01:55\", \"2018-08-14T14:48:04\", \"2018-08-17T03:00:00\", \"2018-04-13T20:51:13\", \"2018-05-08T21:28:11\", \"2018-03-14T14:24:23\", \"2018-04-20T17:53:11\", \"2018-07-26T16:15:33\", \"2018-04-30T18:57:37\", \"2018-06-28T12:33:50\", \"2018-05-09T21:35:58\", \"2018-08-07T12:21:06\", \"2018-09-10T18:10:00\", \"2018-01-19T11:26:39\", \"2018-03-07T12:25:54\", \"2018-11-06T19:41:39\", \"2018-07-09T18:00:57\", \"2018-05-24T19:51:56\", \"2018-04-06T16:43:28\", \"2018-01-15T18:05:41\", \"2018-05-08T17:42:04\", \"2018-03-14T17:18:59\", \"2018-03-02T13:54:02\", \"2018-02-28T17:16:15\", \"2018-01-22T02:00:00\", \"2018-04-30T21:29:27\", \"2018-06-21T12:21:33\", \"2018-07-09T14:53:03\", \"2018-04-24T03:00:00\", \"2018-03-12T18:45:13\", \"2018-06-01T02:32:00\", \"2018-03-27T13:27:01\", \"2018-01-16T13:16:45\", \"2018-02-27T17:39:50\", \"2018-04-10T12:30:33\", \"2018-05-14T14:24:45\", \"2018-04-10T17:23:25\", \"2018-10-01T17:47:09\", \"2018-03-07T19:17:31\", \"2018-02-22T16:22:07\", \"2018-05-14T18:06:33\", \"2018-03-13T18:53:47\", \"2018-03-14T03:00:00\", \"2018-05-17T18:11:29\", \"2018-08-20T14:41:13\", \"2018-05-25T17:32:40\", \"2018-04-27T12:18:34\", \"2018-07-19T21:17:47\", \"2018-04-24T20:54:30\", \"2018-02-06T20:18:28\", \"2018-03-23T21:07:18\", \"2018-01-19T13:12:10\", \"2018-01-26T16:27:17\", \"2018-01-08T02:00:00\", \"2018-04-26T19:36:13\", \"2018-05-22T12:54:36\", \"2018-06-04T00:00:00\", \"2018-02-20T12:17:26\", \"2018-03-13T20:12:45\", \"2018-05-18T20:02:04\", \"2018-07-30T14:02:01\", \"2018-02-26T14:44:04\", \"2018-06-29T17:54:16\", \"2018-05-18T12:38:36\", \"2018-01-24T12:27:42\", \"2018-02-19T19:51:00\", \"2018-05-29T18:53:31\", \"2018-11-12T19:17:25\", \"2018-09-10T20:48:01\", \"2018-04-05T16:29:23\", \"2018-10-30T11:54:22\", \"2018-04-06T16:52:50\", \"2018-04-17T17:18:09\", \"2018-05-30T03:00:00\", \"2018-02-15T11:27:17\", \"2018-02-21T13:27:48\", \"2018-05-04T03:00:00\", \"2018-02-05T12:51:36\", \"2018-03-26T14:03:55\", \"2018-07-17T20:12:39\", \"2018-04-06T19:30:00\", \"2018-02-01T17:10:20\", \"2018-04-06T19:26:13\", \"2018-05-16T19:51:05\", \"2018-04-06T20:40:05\", \"2018-03-01T21:03:12\", \"2018-05-07T21:49:28\", \"2017-12-05T02:00:00\", \"2018-03-29T19:37:01\", \"2018-04-04T20:33:19\", \"2018-03-28T22:42:55\", \"2018-04-20T12:27:44\", \"2018-06-07T21:23:45\", \"2018-02-09T12:16:16\", \"2018-08-01T20:22:31\", \"2018-09-27T18:58:41\", \"2018-06-06T20:15:26\", \"2018-03-06T15:52:23\", \"2018-05-02T13:31:32\"]}],\n",
              "                        {\"barmode\": \"stack\", \"template\": {\"data\": {\"bar\": [{\"error_x\": {\"color\": \"#2a3f5f\"}, \"error_y\": {\"color\": \"#2a3f5f\"}, \"marker\": {\"line\": {\"color\": \"#E5ECF6\", \"width\": 0.5}}, \"type\": \"bar\"}], \"barpolar\": [{\"marker\": {\"line\": {\"color\": \"#E5ECF6\", \"width\": 0.5}}, \"type\": \"barpolar\"}], \"carpet\": [{\"aaxis\": {\"endlinecolor\": \"#2a3f5f\", \"gridcolor\": \"white\", \"linecolor\": \"white\", \"minorgridcolor\": \"white\", \"startlinecolor\": \"#2a3f5f\"}, \"baxis\": {\"endlinecolor\": \"#2a3f5f\", \"gridcolor\": \"white\", \"linecolor\": \"white\", \"minorgridcolor\": \"white\", \"startlinecolor\": \"#2a3f5f\"}, \"type\": \"carpet\"}], \"choropleth\": [{\"colorbar\": {\"outlinewidth\": 0, \"ticks\": \"\"}, \"type\": \"choropleth\"}], \"contour\": [{\"colorbar\": {\"outlinewidth\": 0, \"ticks\": \"\"}, \"colorscale\": [[0.0, \"#0d0887\"], [0.1111111111111111, \"#46039f\"], [0.2222222222222222, \"#7201a8\"], [0.3333333333333333, \"#9c179e\"], [0.4444444444444444, \"#bd3786\"], [0.5555555555555556, \"#d8576b\"], [0.6666666666666666, \"#ed7953\"], [0.7777777777777778, \"#fb9f3a\"], [0.8888888888888888, \"#fdca26\"], [1.0, \"#f0f921\"]], \"type\": \"contour\"}], \"contourcarpet\": [{\"colorbar\": {\"outlinewidth\": 0, \"ticks\": \"\"}, \"type\": \"contourcarpet\"}], \"heatmap\": [{\"colorbar\": {\"outlinewidth\": 0, \"ticks\": \"\"}, \"colorscale\": [[0.0, \"#0d0887\"], [0.1111111111111111, \"#46039f\"], [0.2222222222222222, \"#7201a8\"], [0.3333333333333333, \"#9c179e\"], [0.4444444444444444, \"#bd3786\"], [0.5555555555555556, \"#d8576b\"], [0.6666666666666666, \"#ed7953\"], [0.7777777777777778, \"#fb9f3a\"], [0.8888888888888888, \"#fdca26\"], [1.0, \"#f0f921\"]], \"type\": \"heatmap\"}], \"heatmapgl\": [{\"colorbar\": {\"outlinewidth\": 0, \"ticks\": \"\"}, \"colorscale\": [[0.0, \"#0d0887\"], [0.1111111111111111, \"#46039f\"], [0.2222222222222222, \"#7201a8\"], [0.3333333333333333, \"#9c179e\"], [0.4444444444444444, \"#bd3786\"], [0.5555555555555556, \"#d8576b\"], [0.6666666666666666, \"#ed7953\"], [0.7777777777777778, \"#fb9f3a\"], [0.8888888888888888, \"#fdca26\"], [1.0, \"#f0f921\"]], \"type\": \"heatmapgl\"}], \"histogram\": [{\"marker\": {\"colorbar\": {\"outlinewidth\": 0, \"ticks\": \"\"}}, \"type\": \"histogram\"}], \"histogram2d\": [{\"colorbar\": {\"outlinewidth\": 0, \"ticks\": \"\"}, \"colorscale\": [[0.0, \"#0d0887\"], [0.1111111111111111, \"#46039f\"], [0.2222222222222222, \"#7201a8\"], [0.3333333333333333, \"#9c179e\"], [0.4444444444444444, \"#bd3786\"], [0.5555555555555556, \"#d8576b\"], [0.6666666666666666, \"#ed7953\"], [0.7777777777777778, \"#fb9f3a\"], [0.8888888888888888, \"#fdca26\"], [1.0, \"#f0f921\"]], \"type\": \"histogram2d\"}], \"histogram2dcontour\": [{\"colorbar\": {\"outlinewidth\": 0, \"ticks\": \"\"}, \"colorscale\": [[0.0, \"#0d0887\"], [0.1111111111111111, \"#46039f\"], [0.2222222222222222, \"#7201a8\"], [0.3333333333333333, \"#9c179e\"], [0.4444444444444444, \"#bd3786\"], [0.5555555555555556, \"#d8576b\"], [0.6666666666666666, \"#ed7953\"], [0.7777777777777778, \"#fb9f3a\"], [0.8888888888888888, \"#fdca26\"], [1.0, \"#f0f921\"]], \"type\": \"histogram2dcontour\"}], \"mesh3d\": [{\"colorbar\": {\"outlinewidth\": 0, \"ticks\": \"\"}, \"type\": \"mesh3d\"}], \"parcoords\": [{\"line\": {\"colorbar\": {\"outlinewidth\": 0, \"ticks\": \"\"}}, \"type\": \"parcoords\"}], \"scatter\": [{\"marker\": {\"colorbar\": {\"outlinewidth\": 0, \"ticks\": \"\"}}, \"type\": \"scatter\"}], \"scatter3d\": [{\"line\": {\"colorbar\": {\"outlinewidth\": 0, \"ticks\": \"\"}}, \"marker\": {\"colorbar\": {\"outlinewidth\": 0, \"ticks\": \"\"}}, \"type\": \"scatter3d\"}], \"scattercarpet\": [{\"marker\": {\"colorbar\": {\"outlinewidth\": 0, \"ticks\": \"\"}}, \"type\": \"scattercarpet\"}], \"scattergeo\": [{\"marker\": {\"colorbar\": {\"outlinewidth\": 0, \"ticks\": \"\"}}, \"type\": \"scattergeo\"}], \"scattergl\": [{\"marker\": {\"colorbar\": {\"outlinewidth\": 0, \"ticks\": \"\"}}, \"type\": \"scattergl\"}], \"scattermapbox\": [{\"marker\": {\"colorbar\": {\"outlinewidth\": 0, \"ticks\": \"\"}}, \"type\": \"scattermapbox\"}], \"scatterpolar\": [{\"marker\": {\"colorbar\": {\"outlinewidth\": 0, \"ticks\": \"\"}}, \"type\": \"scatterpolar\"}], \"scatterpolargl\": [{\"marker\": {\"colorbar\": {\"outlinewidth\": 0, \"ticks\": \"\"}}, \"type\": \"scatterpolargl\"}], \"scatterternary\": [{\"marker\": {\"colorbar\": {\"outlinewidth\": 0, \"ticks\": \"\"}}, \"type\": \"scatterternary\"}], \"surface\": [{\"colorbar\": {\"outlinewidth\": 0, \"ticks\": \"\"}, \"colorscale\": [[0.0, \"#0d0887\"], [0.1111111111111111, \"#46039f\"], [0.2222222222222222, \"#7201a8\"], [0.3333333333333333, \"#9c179e\"], [0.4444444444444444, \"#bd3786\"], [0.5555555555555556, \"#d8576b\"], [0.6666666666666666, \"#ed7953\"], [0.7777777777777778, \"#fb9f3a\"], [0.8888888888888888, \"#fdca26\"], [1.0, \"#f0f921\"]], \"type\": \"surface\"}], \"table\": [{\"cells\": {\"fill\": {\"color\": \"#EBF0F8\"}, \"line\": {\"color\": \"white\"}}, \"header\": {\"fill\": {\"color\": \"#C8D4E3\"}, \"line\": {\"color\": \"white\"}}, \"type\": \"table\"}]}, \"layout\": {\"annotationdefaults\": {\"arrowcolor\": \"#2a3f5f\", \"arrowhead\": 0, \"arrowwidth\": 1}, \"colorscale\": {\"diverging\": [[0, \"#8e0152\"], [0.1, \"#c51b7d\"], [0.2, \"#de77ae\"], [0.3, \"#f1b6da\"], [0.4, \"#fde0ef\"], [0.5, \"#f7f7f7\"], [0.6, \"#e6f5d0\"], [0.7, \"#b8e186\"], [0.8, \"#7fbc41\"], [0.9, \"#4d9221\"], [1, \"#276419\"]], \"sequential\": [[0.0, \"#0d0887\"], [0.1111111111111111, \"#46039f\"], [0.2222222222222222, \"#7201a8\"], [0.3333333333333333, \"#9c179e\"], [0.4444444444444444, \"#bd3786\"], [0.5555555555555556, \"#d8576b\"], [0.6666666666666666, \"#ed7953\"], [0.7777777777777778, \"#fb9f3a\"], [0.8888888888888888, \"#fdca26\"], [1.0, \"#f0f921\"]], \"sequentialminus\": [[0.0, \"#0d0887\"], [0.1111111111111111, \"#46039f\"], [0.2222222222222222, \"#7201a8\"], [0.3333333333333333, \"#9c179e\"], [0.4444444444444444, \"#bd3786\"], [0.5555555555555556, \"#d8576b\"], [0.6666666666666666, \"#ed7953\"], [0.7777777777777778, \"#fb9f3a\"], [0.8888888888888888, \"#fdca26\"], [1.0, \"#f0f921\"]]}, \"colorway\": [\"#636efa\", \"#EF553B\", \"#00cc96\", \"#ab63fa\", \"#FFA15A\", \"#19d3f3\", \"#FF6692\", \"#B6E880\", \"#FF97FF\", \"#FECB52\"], \"font\": {\"color\": \"#2a3f5f\"}, \"geo\": {\"bgcolor\": \"white\", \"lakecolor\": \"white\", \"landcolor\": \"#E5ECF6\", \"showlakes\": true, \"showland\": true, \"subunitcolor\": \"white\"}, \"hoverlabel\": {\"align\": \"left\"}, \"hovermode\": \"closest\", \"mapbox\": {\"style\": \"light\"}, \"paper_bgcolor\": \"white\", \"plot_bgcolor\": \"#E5ECF6\", \"polar\": {\"angularaxis\": {\"gridcolor\": \"white\", \"linecolor\": \"white\", \"ticks\": \"\"}, \"bgcolor\": \"#E5ECF6\", \"radialaxis\": {\"gridcolor\": \"white\", \"linecolor\": \"white\", \"ticks\": \"\"}}, \"scene\": {\"xaxis\": {\"backgroundcolor\": \"#E5ECF6\", \"gridcolor\": \"white\", \"gridwidth\": 2, \"linecolor\": \"white\", \"showbackground\": true, \"ticks\": \"\", \"zerolinecolor\": \"white\"}, \"yaxis\": {\"backgroundcolor\": \"#E5ECF6\", \"gridcolor\": \"white\", \"gridwidth\": 2, \"linecolor\": \"white\", \"showbackground\": true, \"ticks\": \"\", \"zerolinecolor\": \"white\"}, \"zaxis\": {\"backgroundcolor\": \"#E5ECF6\", \"gridcolor\": \"white\", \"gridwidth\": 2, \"linecolor\": \"white\", \"showbackground\": true, \"ticks\": \"\", \"zerolinecolor\": \"white\"}}, \"shapedefaults\": {\"line\": {\"color\": \"#2a3f5f\"}}, \"ternary\": {\"aaxis\": {\"gridcolor\": \"white\", \"linecolor\": \"white\", \"ticks\": \"\"}, \"baxis\": {\"gridcolor\": \"white\", \"linecolor\": \"white\", \"ticks\": \"\"}, \"bgcolor\": \"#E5ECF6\", \"caxis\": {\"gridcolor\": \"white\", \"linecolor\": \"white\", \"ticks\": \"\"}}, \"title\": {\"x\": 0.05}, \"xaxis\": {\"automargin\": true, \"gridcolor\": \"white\", \"linecolor\": \"white\", \"ticks\": \"\", \"zerolinecolor\": \"white\", \"zerolinewidth\": 2}, \"yaxis\": {\"automargin\": true, \"gridcolor\": \"white\", \"linecolor\": \"white\", \"ticks\": \"\", \"zerolinecolor\": \"white\", \"zerolinewidth\": 2}}}, \"title\": {\"text\": \"Intervalo de tempo entre 1\\u00ba contato e convers\\u00e3o\"}, \"xaxis\": {\"title\": {\"text\": \"Cliente\"}, \"zeroline\": true}, \"yaxis\": {\"constrain\": \"range\", \"fixedrange\": true, \"range\": [\"2017-06-14T00:00:00\", \"2018-11-14T18:04:19\"], \"type\": \"date\"}},\n",
              "                        {\"responsive\": true}\n",
              "                    ).then(function(){\n",
              "                            \n",
              "var gd = document.getElementById('a915b688-0ec2-4e21-aa33-ed37bc5d15bd');\n",
              "var x = new MutationObserver(function (mutations, observer) {{\n",
              "        var display = window.getComputedStyle(gd).display;\n",
              "        if (!display || display === 'none') {{\n",
              "            console.log([gd, 'removed!']);\n",
              "            Plotly.purge(gd);\n",
              "            observer.disconnect();\n",
              "        }}\n",
              "}});\n",
              "\n",
              "// Listen for the removal of the full notebook cells\n",
              "var notebookContainer = gd.closest('#notebook-container');\n",
              "if (notebookContainer) {{\n",
              "    x.observe(notebookContainer, {childList: true});\n",
              "}}\n",
              "\n",
              "// Listen for the clearing of the current output cell\n",
              "var outputEl = gd.closest('.output');\n",
              "if (outputEl) {{\n",
              "    x.observe(outputEl, {childList: true});\n",
              "}}\n",
              "\n",
              "                        })\n",
              "                };\n",
              "                \n",
              "            </script>\n",
              "        </div>\n",
              "</body>\n",
              "</html>"
            ]
          },
          "metadata": {
            "tags": []
          }
        }
      ]
    },
    {
      "cell_type": "code",
      "metadata": {
        "id": "-c6eGzxt_NzU",
        "colab_type": "code",
        "colab": {
          "base_uri": "https://localhost:8080/",
          "height": 542
        },
        "cellView": "form",
        "outputId": "53af7b84-d66b-4f25-f90d-b1ac79a49915"
      },
      "source": [
        "#@title Correlação entre quantidade de leads e quantidade de conversões, distribuidos pelas origens de captação\n",
        "# Definindo a quantidade de conversões por origem de captação\n",
        "trace6 = go.Bar(x = df_distribui_leads['Origem Captacao'],\n",
        "                y = qtd_origem['Cliente ID'],\n",
        "                name = 'Conversão',\n",
        "                marker = {'color': 'green'})\n",
        "\n",
        "# Definindo a quantidade de leads por origem de captação\n",
        "trace7 = go.Bar(x = df_distribui_leads['Origem Captacao'],\n",
        "                y = qtd_origem_null['Cliente ID'],\n",
        "                name = 'Leads',\n",
        "                marker = {'color': 'yellow'})\n",
        "\n",
        "# Definindo o layout do báfico de barras empilhadas\n",
        "layout2 = go.Layout(title = 'Quantidade de leads e conversões por origem de captação',\n",
        "                   xaxis = {'title': 'Origem da captação'},\n",
        "                   yaxis = {'title': 'Quantidade'},\n",
        "                   barmode = 'stack')\n",
        "\n",
        "data2 = [trace6, trace7]\n",
        "fig = go.Figure(data=data2, layout=layout2)\n",
        "\n",
        "# Plotando o gráfico de Correlação entre origem de captação e conversão\n",
        "py.iplot(fig)"
      ],
      "execution_count": 20,
      "outputs": [
        {
          "output_type": "display_data",
          "data": {
            "text/html": [
              "<html>\n",
              "<head><meta charset=\"utf-8\" /></head>\n",
              "<body>\n",
              "    <div>\n",
              "            <script src=\"https://cdnjs.cloudflare.com/ajax/libs/mathjax/2.7.5/MathJax.js?config=TeX-AMS-MML_SVG\"></script><script type=\"text/javascript\">if (window.MathJax) {MathJax.Hub.Config({SVG: {font: \"STIX-Web\"}});}</script>\n",
              "                <script type=\"text/javascript\">window.PlotlyConfig = {MathJaxConfig: 'local'};</script>\n",
              "        <script src=\"https://cdn.plot.ly/plotly-latest.min.js\"></script>    \n",
              "            <div id=\"bf97f90c-fb18-4b78-818d-c26e71ea605e\" class=\"plotly-graph-div\" style=\"height:525px; width:100%;\"></div>\n",
              "            <script type=\"text/javascript\">\n",
              "                \n",
              "                    window.PLOTLYENV=window.PLOTLYENV || {};\n",
              "                    \n",
              "                if (document.getElementById(\"bf97f90c-fb18-4b78-818d-c26e71ea605e\")) {\n",
              "                    Plotly.newPlot(\n",
              "                        'bf97f90c-fb18-4b78-818d-c26e71ea605e',\n",
              "                        [{\"marker\": {\"color\": \"green\"}, \"name\": \"Convers\\u00e3o\", \"type\": \"bar\", \"x\": [\"DIRECT TRAFFIC\", \"DISPLAY\", \"EMAIL\", \"ORGANIC SEARCH\", \"OTHER\", \"OTHER PUBLICITIES\", \"PAID SEARCH\", \"REFERRAL\", \"SOCIAL\", \"UNKNOWN\"], \"y\": [56, 6, 15, 271, 4, 3, 195, 24, 75, 193]}, {\"marker\": {\"color\": \"yellow\"}, \"name\": \"Leads\", \"type\": \"bar\", \"x\": [\"DIRECT TRAFFIC\", \"DISPLAY\", \"EMAIL\", \"ORGANIC SEARCH\", \"OTHER\", \"OTHER PUBLICITIES\", \"PAID SEARCH\", \"REFERRAL\", \"SOCIAL\", \"UNKNOWN\"], \"y\": [443, 112, 478, 2025, 146, 62, 1391, 260, 1275, 966]}],\n",
              "                        {\"barmode\": \"stack\", \"template\": {\"data\": {\"bar\": [{\"error_x\": {\"color\": \"#2a3f5f\"}, \"error_y\": {\"color\": \"#2a3f5f\"}, \"marker\": {\"line\": {\"color\": \"#E5ECF6\", \"width\": 0.5}}, \"type\": \"bar\"}], \"barpolar\": [{\"marker\": {\"line\": {\"color\": \"#E5ECF6\", \"width\": 0.5}}, \"type\": \"barpolar\"}], \"carpet\": [{\"aaxis\": {\"endlinecolor\": \"#2a3f5f\", \"gridcolor\": \"white\", \"linecolor\": \"white\", \"minorgridcolor\": \"white\", \"startlinecolor\": \"#2a3f5f\"}, \"baxis\": {\"endlinecolor\": \"#2a3f5f\", \"gridcolor\": \"white\", \"linecolor\": \"white\", \"minorgridcolor\": \"white\", \"startlinecolor\": \"#2a3f5f\"}, \"type\": \"carpet\"}], \"choropleth\": [{\"colorbar\": {\"outlinewidth\": 0, \"ticks\": \"\"}, \"type\": \"choropleth\"}], \"contour\": [{\"colorbar\": {\"outlinewidth\": 0, \"ticks\": \"\"}, \"colorscale\": [[0.0, \"#0d0887\"], [0.1111111111111111, \"#46039f\"], [0.2222222222222222, \"#7201a8\"], [0.3333333333333333, \"#9c179e\"], [0.4444444444444444, \"#bd3786\"], [0.5555555555555556, \"#d8576b\"], [0.6666666666666666, \"#ed7953\"], [0.7777777777777778, \"#fb9f3a\"], [0.8888888888888888, \"#fdca26\"], [1.0, \"#f0f921\"]], \"type\": \"contour\"}], \"contourcarpet\": [{\"colorbar\": {\"outlinewidth\": 0, \"ticks\": \"\"}, \"type\": \"contourcarpet\"}], \"heatmap\": [{\"colorbar\": {\"outlinewidth\": 0, \"ticks\": \"\"}, \"colorscale\": [[0.0, \"#0d0887\"], [0.1111111111111111, \"#46039f\"], [0.2222222222222222, \"#7201a8\"], [0.3333333333333333, \"#9c179e\"], [0.4444444444444444, \"#bd3786\"], [0.5555555555555556, \"#d8576b\"], [0.6666666666666666, \"#ed7953\"], [0.7777777777777778, \"#fb9f3a\"], [0.8888888888888888, \"#fdca26\"], [1.0, \"#f0f921\"]], \"type\": \"heatmap\"}], \"heatmapgl\": [{\"colorbar\": {\"outlinewidth\": 0, \"ticks\": \"\"}, \"colorscale\": [[0.0, \"#0d0887\"], [0.1111111111111111, \"#46039f\"], [0.2222222222222222, \"#7201a8\"], [0.3333333333333333, \"#9c179e\"], [0.4444444444444444, \"#bd3786\"], [0.5555555555555556, \"#d8576b\"], [0.6666666666666666, \"#ed7953\"], [0.7777777777777778, \"#fb9f3a\"], [0.8888888888888888, \"#fdca26\"], [1.0, \"#f0f921\"]], \"type\": \"heatmapgl\"}], \"histogram\": [{\"marker\": {\"colorbar\": {\"outlinewidth\": 0, \"ticks\": \"\"}}, \"type\": \"histogram\"}], \"histogram2d\": [{\"colorbar\": {\"outlinewidth\": 0, \"ticks\": \"\"}, \"colorscale\": [[0.0, \"#0d0887\"], [0.1111111111111111, \"#46039f\"], [0.2222222222222222, \"#7201a8\"], [0.3333333333333333, \"#9c179e\"], [0.4444444444444444, \"#bd3786\"], [0.5555555555555556, \"#d8576b\"], [0.6666666666666666, \"#ed7953\"], [0.7777777777777778, \"#fb9f3a\"], [0.8888888888888888, \"#fdca26\"], [1.0, \"#f0f921\"]], \"type\": \"histogram2d\"}], \"histogram2dcontour\": [{\"colorbar\": {\"outlinewidth\": 0, \"ticks\": \"\"}, \"colorscale\": [[0.0, \"#0d0887\"], [0.1111111111111111, \"#46039f\"], [0.2222222222222222, \"#7201a8\"], [0.3333333333333333, \"#9c179e\"], [0.4444444444444444, \"#bd3786\"], [0.5555555555555556, \"#d8576b\"], [0.6666666666666666, \"#ed7953\"], [0.7777777777777778, \"#fb9f3a\"], [0.8888888888888888, \"#fdca26\"], [1.0, \"#f0f921\"]], \"type\": \"histogram2dcontour\"}], \"mesh3d\": [{\"colorbar\": {\"outlinewidth\": 0, \"ticks\": \"\"}, \"type\": \"mesh3d\"}], \"parcoords\": [{\"line\": {\"colorbar\": {\"outlinewidth\": 0, \"ticks\": \"\"}}, \"type\": \"parcoords\"}], \"scatter\": [{\"marker\": {\"colorbar\": {\"outlinewidth\": 0, \"ticks\": \"\"}}, \"type\": \"scatter\"}], \"scatter3d\": [{\"line\": {\"colorbar\": {\"outlinewidth\": 0, \"ticks\": \"\"}}, \"marker\": {\"colorbar\": {\"outlinewidth\": 0, \"ticks\": \"\"}}, \"type\": \"scatter3d\"}], \"scattercarpet\": [{\"marker\": {\"colorbar\": {\"outlinewidth\": 0, \"ticks\": \"\"}}, \"type\": \"scattercarpet\"}], \"scattergeo\": [{\"marker\": {\"colorbar\": {\"outlinewidth\": 0, \"ticks\": \"\"}}, \"type\": \"scattergeo\"}], \"scattergl\": [{\"marker\": {\"colorbar\": {\"outlinewidth\": 0, \"ticks\": \"\"}}, \"type\": \"scattergl\"}], \"scattermapbox\": [{\"marker\": {\"colorbar\": {\"outlinewidth\": 0, \"ticks\": \"\"}}, \"type\": \"scattermapbox\"}], \"scatterpolar\": [{\"marker\": {\"colorbar\": {\"outlinewidth\": 0, \"ticks\": \"\"}}, \"type\": \"scatterpolar\"}], \"scatterpolargl\": [{\"marker\": {\"colorbar\": {\"outlinewidth\": 0, \"ticks\": \"\"}}, \"type\": \"scatterpolargl\"}], \"scatterternary\": [{\"marker\": {\"colorbar\": {\"outlinewidth\": 0, \"ticks\": \"\"}}, \"type\": \"scatterternary\"}], \"surface\": [{\"colorbar\": {\"outlinewidth\": 0, \"ticks\": \"\"}, \"colorscale\": [[0.0, \"#0d0887\"], [0.1111111111111111, \"#46039f\"], [0.2222222222222222, \"#7201a8\"], [0.3333333333333333, \"#9c179e\"], [0.4444444444444444, \"#bd3786\"], [0.5555555555555556, \"#d8576b\"], [0.6666666666666666, \"#ed7953\"], [0.7777777777777778, \"#fb9f3a\"], [0.8888888888888888, \"#fdca26\"], [1.0, \"#f0f921\"]], \"type\": \"surface\"}], \"table\": [{\"cells\": {\"fill\": {\"color\": \"#EBF0F8\"}, \"line\": {\"color\": \"white\"}}, \"header\": {\"fill\": {\"color\": \"#C8D4E3\"}, \"line\": {\"color\": \"white\"}}, \"type\": \"table\"}]}, \"layout\": {\"annotationdefaults\": {\"arrowcolor\": \"#2a3f5f\", \"arrowhead\": 0, \"arrowwidth\": 1}, \"colorscale\": {\"diverging\": [[0, \"#8e0152\"], [0.1, \"#c51b7d\"], [0.2, \"#de77ae\"], [0.3, \"#f1b6da\"], [0.4, \"#fde0ef\"], [0.5, \"#f7f7f7\"], [0.6, \"#e6f5d0\"], [0.7, \"#b8e186\"], [0.8, \"#7fbc41\"], [0.9, \"#4d9221\"], [1, \"#276419\"]], \"sequential\": [[0.0, \"#0d0887\"], [0.1111111111111111, \"#46039f\"], [0.2222222222222222, \"#7201a8\"], [0.3333333333333333, \"#9c179e\"], [0.4444444444444444, \"#bd3786\"], [0.5555555555555556, \"#d8576b\"], [0.6666666666666666, \"#ed7953\"], [0.7777777777777778, \"#fb9f3a\"], [0.8888888888888888, \"#fdca26\"], [1.0, \"#f0f921\"]], \"sequentialminus\": [[0.0, \"#0d0887\"], [0.1111111111111111, \"#46039f\"], [0.2222222222222222, \"#7201a8\"], [0.3333333333333333, \"#9c179e\"], [0.4444444444444444, \"#bd3786\"], [0.5555555555555556, \"#d8576b\"], [0.6666666666666666, \"#ed7953\"], [0.7777777777777778, \"#fb9f3a\"], [0.8888888888888888, \"#fdca26\"], [1.0, \"#f0f921\"]]}, \"colorway\": [\"#636efa\", \"#EF553B\", \"#00cc96\", \"#ab63fa\", \"#FFA15A\", \"#19d3f3\", \"#FF6692\", \"#B6E880\", \"#FF97FF\", \"#FECB52\"], \"font\": {\"color\": \"#2a3f5f\"}, \"geo\": {\"bgcolor\": \"white\", \"lakecolor\": \"white\", \"landcolor\": \"#E5ECF6\", \"showlakes\": true, \"showland\": true, \"subunitcolor\": \"white\"}, \"hoverlabel\": {\"align\": \"left\"}, \"hovermode\": \"closest\", \"mapbox\": {\"style\": \"light\"}, \"paper_bgcolor\": \"white\", \"plot_bgcolor\": \"#E5ECF6\", \"polar\": {\"angularaxis\": {\"gridcolor\": \"white\", \"linecolor\": \"white\", \"ticks\": \"\"}, \"bgcolor\": \"#E5ECF6\", \"radialaxis\": {\"gridcolor\": \"white\", \"linecolor\": \"white\", \"ticks\": \"\"}}, \"scene\": {\"xaxis\": {\"backgroundcolor\": \"#E5ECF6\", \"gridcolor\": \"white\", \"gridwidth\": 2, \"linecolor\": \"white\", \"showbackground\": true, \"ticks\": \"\", \"zerolinecolor\": \"white\"}, \"yaxis\": {\"backgroundcolor\": \"#E5ECF6\", \"gridcolor\": \"white\", \"gridwidth\": 2, \"linecolor\": \"white\", \"showbackground\": true, \"ticks\": \"\", \"zerolinecolor\": \"white\"}, \"zaxis\": {\"backgroundcolor\": \"#E5ECF6\", \"gridcolor\": \"white\", \"gridwidth\": 2, \"linecolor\": \"white\", \"showbackground\": true, \"ticks\": \"\", \"zerolinecolor\": \"white\"}}, \"shapedefaults\": {\"line\": {\"color\": \"#2a3f5f\"}}, \"ternary\": {\"aaxis\": {\"gridcolor\": \"white\", \"linecolor\": \"white\", \"ticks\": \"\"}, \"baxis\": {\"gridcolor\": \"white\", \"linecolor\": \"white\", \"ticks\": \"\"}, \"bgcolor\": \"#E5ECF6\", \"caxis\": {\"gridcolor\": \"white\", \"linecolor\": \"white\", \"ticks\": \"\"}}, \"title\": {\"x\": 0.05}, \"xaxis\": {\"automargin\": true, \"gridcolor\": \"white\", \"linecolor\": \"white\", \"ticks\": \"\", \"zerolinecolor\": \"white\", \"zerolinewidth\": 2}, \"yaxis\": {\"automargin\": true, \"gridcolor\": \"white\", \"linecolor\": \"white\", \"ticks\": \"\", \"zerolinecolor\": \"white\", \"zerolinewidth\": 2}}}, \"title\": {\"text\": \"Quantidade de leads e convers\\u00f5es por origem de capta\\u00e7\\u00e3o\"}, \"xaxis\": {\"title\": {\"text\": \"Origem da capta\\u00e7\\u00e3o\"}}, \"yaxis\": {\"title\": {\"text\": \"Quantidade\"}}},\n",
              "                        {\"responsive\": true}\n",
              "                    ).then(function(){\n",
              "                            \n",
              "var gd = document.getElementById('bf97f90c-fb18-4b78-818d-c26e71ea605e');\n",
              "var x = new MutationObserver(function (mutations, observer) {{\n",
              "        var display = window.getComputedStyle(gd).display;\n",
              "        if (!display || display === 'none') {{\n",
              "            console.log([gd, 'removed!']);\n",
              "            Plotly.purge(gd);\n",
              "            observer.disconnect();\n",
              "        }}\n",
              "}});\n",
              "\n",
              "// Listen for the removal of the full notebook cells\n",
              "var notebookContainer = gd.closest('#notebook-container');\n",
              "if (notebookContainer) {{\n",
              "    x.observe(notebookContainer, {childList: true});\n",
              "}}\n",
              "\n",
              "// Listen for the clearing of the current output cell\n",
              "var outputEl = gd.closest('.output');\n",
              "if (outputEl) {{\n",
              "    x.observe(outputEl, {childList: true});\n",
              "}}\n",
              "\n",
              "                        })\n",
              "                };\n",
              "                \n",
              "            </script>\n",
              "        </div>\n",
              "</body>\n",
              "</html>"
            ]
          },
          "metadata": {
            "tags": []
          }
        }
      ]
    },
    {
      "cell_type": "code",
      "metadata": {
        "id": "35Aj9vAI6kst",
        "colab_type": "code",
        "colab": {},
        "cellView": "form"
      },
      "source": [
        "#@title Contagem de compras por cliente\n",
        "\n",
        "x = df_clientes.groupby(['customer_unique_id']).count()\n",
        "qtd_item = 0\n",
        "for cliente in x['customer_id']:\n",
        "  if cliente > 1 and x.index[qtd_item] in list(df['consumidor_id_unico']):\n",
        "    print(cliente, x.index[qtd_item], qtd_item + 1)\n",
        "    qtd_item += 1"
      ],
      "execution_count": 0,
      "outputs": []
    },
    {
      "cell_type": "markdown",
      "metadata": {
        "id": "0eLuWKhm2JVh",
        "colab_type": "text"
      },
      "source": [
        "### 5) Conclusões **15%**"
      ]
    },
    {
      "cell_type": "markdown",
      "metadata": {
        "id": "a0866rTv2JVk",
        "colab_type": "text"
      },
      "source": [
        "*O que é possível concluir com os dados que você analisou? Se fosse fazer uma apresentação, o que levaria como os maiores destaques e por que?*"
      ]
    },
    {
      "cell_type": "markdown",
      "metadata": {
        "id": "On2n2prU2JVl",
        "colab_type": "text"
      },
      "source": [
        ""
      ]
    }
  ]
}