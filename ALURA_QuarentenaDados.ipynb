{
  "nbformat": 4,
  "nbformat_minor": 0,
  "metadata": {
    "colab": {
      "name": "ALURA_QuarentenaDados.ipynb",
      "provenance": [],
      "authorship_tag": "ABX9TyMppbO1uWp8XEgGTjHJ0zIO",
      "include_colab_link": true
    },
    "kernelspec": {
      "name": "python3",
      "display_name": "Python 3"
    }
  },
  "cells": [
    {
      "cell_type": "markdown",
      "metadata": {
        "id": "view-in-github",
        "colab_type": "text"
      },
      "source": [
        "<a href=\"https://colab.research.google.com/github/AndrehAguiar/POS-Graduacao-Inteligecia_Artificial-Ciencia_de_Dados/blob/master/ALURA_QuarentenaDados.ipynb\" target=\"_parent\"><img src=\"https://colab.research.google.com/assets/colab-badge.svg\" alt=\"Open In Colab\"/></a>"
      ]
    },
    {
      "cell_type": "markdown",
      "metadata": {
        "id": "A5vL60idRJyq",
        "colab_type": "text"
      },
      "source": [
        "# Aula 1: Python, Pandas e Colab"
      ]
    },
    {
      "cell_type": "code",
      "metadata": {
        "id": "tRnFpiq4xU9m",
        "colab_type": "code",
        "cellView": "form",
        "colab": {
          "base_uri": "https://localhost:8080/",
          "height": 71
        },
        "outputId": "27549b82-1b1f-42cd-8785-a0da69fde690"
      },
      "source": [
        "#@title Importa a biblioteca Matplotlib, Pandas e Seaborn\n",
        "import pandas as pd\n",
        "import seaborn as sns\n",
        "import matplotlib.pyplot as plt"
      ],
      "execution_count": 1,
      "outputs": [
        {
          "output_type": "stream",
          "text": [
            "/usr/local/lib/python3.6/dist-packages/statsmodels/tools/_testing.py:19: FutureWarning: pandas.util.testing is deprecated. Use the functions in the public API at pandas.testing instead.\n",
            "  import pandas.util.testing as tm\n"
          ],
          "name": "stderr"
        }
      ]
    },
    {
      "cell_type": "code",
      "metadata": {
        "id": "aekyQASw02GM",
        "colab_type": "code",
        "cellView": "form",
        "outputId": "eb0c9e20-0da6-40e0-a795-7c163633b810",
        "colab": {
          "base_uri": "https://localhost:8080/",
          "height": 204
        }
      },
      "source": [
        "#@title Lê o dataset(CSV) dos filmes.\n",
        "\n",
        "df_filmes = pd.read_csv('https://raw.githubusercontent.com/alura-cursos/introducao-a-data-science/master/aula0/ml-latest-small/movies.csv')\n",
        "df_filmes.columns = ['filmeId', 'Titulo', 'Generos']\n",
        "df_filmes.head()"
      ],
      "execution_count": 2,
      "outputs": [
        {
          "output_type": "execute_result",
          "data": {
            "text/html": [
              "<div>\n",
              "<style scoped>\n",
              "    .dataframe tbody tr th:only-of-type {\n",
              "        vertical-align: middle;\n",
              "    }\n",
              "\n",
              "    .dataframe tbody tr th {\n",
              "        vertical-align: top;\n",
              "    }\n",
              "\n",
              "    .dataframe thead th {\n",
              "        text-align: right;\n",
              "    }\n",
              "</style>\n",
              "<table border=\"1\" class=\"dataframe\">\n",
              "  <thead>\n",
              "    <tr style=\"text-align: right;\">\n",
              "      <th></th>\n",
              "      <th>filmeId</th>\n",
              "      <th>Titulo</th>\n",
              "      <th>Generos</th>\n",
              "    </tr>\n",
              "  </thead>\n",
              "  <tbody>\n",
              "    <tr>\n",
              "      <th>0</th>\n",
              "      <td>1</td>\n",
              "      <td>Toy Story (1995)</td>\n",
              "      <td>Adventure|Animation|Children|Comedy|Fantasy</td>\n",
              "    </tr>\n",
              "    <tr>\n",
              "      <th>1</th>\n",
              "      <td>2</td>\n",
              "      <td>Jumanji (1995)</td>\n",
              "      <td>Adventure|Children|Fantasy</td>\n",
              "    </tr>\n",
              "    <tr>\n",
              "      <th>2</th>\n",
              "      <td>3</td>\n",
              "      <td>Grumpier Old Men (1995)</td>\n",
              "      <td>Comedy|Romance</td>\n",
              "    </tr>\n",
              "    <tr>\n",
              "      <th>3</th>\n",
              "      <td>4</td>\n",
              "      <td>Waiting to Exhale (1995)</td>\n",
              "      <td>Comedy|Drama|Romance</td>\n",
              "    </tr>\n",
              "    <tr>\n",
              "      <th>4</th>\n",
              "      <td>5</td>\n",
              "      <td>Father of the Bride Part II (1995)</td>\n",
              "      <td>Comedy</td>\n",
              "    </tr>\n",
              "  </tbody>\n",
              "</table>\n",
              "</div>"
            ],
            "text/plain": [
              "   filmeId  ...                                      Generos\n",
              "0        1  ...  Adventure|Animation|Children|Comedy|Fantasy\n",
              "1        2  ...                   Adventure|Children|Fantasy\n",
              "2        3  ...                               Comedy|Romance\n",
              "3        4  ...                         Comedy|Drama|Romance\n",
              "4        5  ...                                       Comedy\n",
              "\n",
              "[5 rows x 3 columns]"
            ]
          },
          "metadata": {
            "tags": []
          },
          "execution_count": 2
        }
      ]
    },
    {
      "cell_type": "code",
      "metadata": {
        "id": "syzWIrti2YNK",
        "colab_type": "code",
        "outputId": "672ab8b8-552f-4a6d-f468-033433e5c1a8",
        "colab": {
          "base_uri": "https://localhost:8080/",
          "height": 340
        }
      },
      "source": [
        "df_filmes.info(), df_filmes.describe()"
      ],
      "execution_count": 3,
      "outputs": [
        {
          "output_type": "stream",
          "text": [
            "<class 'pandas.core.frame.DataFrame'>\n",
            "RangeIndex: 9742 entries, 0 to 9741\n",
            "Data columns (total 3 columns):\n",
            " #   Column   Non-Null Count  Dtype \n",
            "---  ------   --------------  ----- \n",
            " 0   filmeId  9742 non-null   int64 \n",
            " 1   Titulo   9742 non-null   object\n",
            " 2   Generos  9742 non-null   object\n",
            "dtypes: int64(1), object(2)\n",
            "memory usage: 228.5+ KB\n"
          ],
          "name": "stdout"
        },
        {
          "output_type": "execute_result",
          "data": {
            "text/plain": [
              "(None,              filmeId\n",
              " count    9742.000000\n",
              " mean    42200.353623\n",
              " std     52160.494854\n",
              " min         1.000000\n",
              " 25%      3248.250000\n",
              " 50%      7300.000000\n",
              " 75%     76232.000000\n",
              " max    193609.000000)"
            ]
          },
          "metadata": {
            "tags": []
          },
          "execution_count": 3
        }
      ]
    },
    {
      "cell_type": "code",
      "metadata": {
        "id": "Sfb1jiEl1VCY",
        "colab_type": "code",
        "cellView": "form",
        "outputId": "fe8a77e4-32e5-44c3-9cc6-dd3e2f44df69",
        "colab": {
          "base_uri": "https://localhost:8080/",
          "height": 204
        }
      },
      "source": [
        "#@title Lê o dataset(CSV) de avaliações dos filmes.\n",
        "df_notas = pd.read_csv('https://raw.githubusercontent.com/alura-cursos/introducao-a-data-science/master/aula0/ml-latest-small/ratings.csv')\n",
        "df_notas.columns = ['usuarioId', 'filmeId', 'Avaliacao', 'Momento']\n",
        "df_notas.head()"
      ],
      "execution_count": 4,
      "outputs": [
        {
          "output_type": "execute_result",
          "data": {
            "text/html": [
              "<div>\n",
              "<style scoped>\n",
              "    .dataframe tbody tr th:only-of-type {\n",
              "        vertical-align: middle;\n",
              "    }\n",
              "\n",
              "    .dataframe tbody tr th {\n",
              "        vertical-align: top;\n",
              "    }\n",
              "\n",
              "    .dataframe thead th {\n",
              "        text-align: right;\n",
              "    }\n",
              "</style>\n",
              "<table border=\"1\" class=\"dataframe\">\n",
              "  <thead>\n",
              "    <tr style=\"text-align: right;\">\n",
              "      <th></th>\n",
              "      <th>usuarioId</th>\n",
              "      <th>filmeId</th>\n",
              "      <th>Avaliacao</th>\n",
              "      <th>Momento</th>\n",
              "    </tr>\n",
              "  </thead>\n",
              "  <tbody>\n",
              "    <tr>\n",
              "      <th>0</th>\n",
              "      <td>1</td>\n",
              "      <td>1</td>\n",
              "      <td>4.0</td>\n",
              "      <td>964982703</td>\n",
              "    </tr>\n",
              "    <tr>\n",
              "      <th>1</th>\n",
              "      <td>1</td>\n",
              "      <td>3</td>\n",
              "      <td>4.0</td>\n",
              "      <td>964981247</td>\n",
              "    </tr>\n",
              "    <tr>\n",
              "      <th>2</th>\n",
              "      <td>1</td>\n",
              "      <td>6</td>\n",
              "      <td>4.0</td>\n",
              "      <td>964982224</td>\n",
              "    </tr>\n",
              "    <tr>\n",
              "      <th>3</th>\n",
              "      <td>1</td>\n",
              "      <td>47</td>\n",
              "      <td>5.0</td>\n",
              "      <td>964983815</td>\n",
              "    </tr>\n",
              "    <tr>\n",
              "      <th>4</th>\n",
              "      <td>1</td>\n",
              "      <td>50</td>\n",
              "      <td>5.0</td>\n",
              "      <td>964982931</td>\n",
              "    </tr>\n",
              "  </tbody>\n",
              "</table>\n",
              "</div>"
            ],
            "text/plain": [
              "   usuarioId  filmeId  Avaliacao    Momento\n",
              "0          1        1        4.0  964982703\n",
              "1          1        3        4.0  964981247\n",
              "2          1        6        4.0  964982224\n",
              "3          1       47        5.0  964983815\n",
              "4          1       50        5.0  964982931"
            ]
          },
          "metadata": {
            "tags": []
          },
          "execution_count": 4
        }
      ]
    },
    {
      "cell_type": "code",
      "metadata": {
        "id": "MUCL9GXN2hOO",
        "colab_type": "code",
        "outputId": "7a4b1877-6f0f-4d58-caa9-df100b22fdda",
        "colab": {
          "base_uri": "https://localhost:8080/",
          "height": 357
        }
      },
      "source": [
        "df_notas.info(), df_notas.describe()"
      ],
      "execution_count": 5,
      "outputs": [
        {
          "output_type": "stream",
          "text": [
            "<class 'pandas.core.frame.DataFrame'>\n",
            "RangeIndex: 100836 entries, 0 to 100835\n",
            "Data columns (total 4 columns):\n",
            " #   Column     Non-Null Count   Dtype  \n",
            "---  ------     --------------   -----  \n",
            " 0   usuarioId  100836 non-null  int64  \n",
            " 1   filmeId    100836 non-null  int64  \n",
            " 2   Avaliacao  100836 non-null  float64\n",
            " 3   Momento    100836 non-null  int64  \n",
            "dtypes: float64(1), int64(3)\n",
            "memory usage: 3.1 MB\n"
          ],
          "name": "stdout"
        },
        {
          "output_type": "execute_result",
          "data": {
            "text/plain": [
              "(None,            usuarioId        filmeId      Avaliacao       Momento\n",
              " count  100836.000000  100836.000000  100836.000000  1.008360e+05\n",
              " mean      326.127564   19435.295718       3.501557  1.205946e+09\n",
              " std       182.618491   35530.987199       1.042529  2.162610e+08\n",
              " min         1.000000       1.000000       0.500000  8.281246e+08\n",
              " 25%       177.000000    1199.000000       3.000000  1.019124e+09\n",
              " 50%       325.000000    2991.000000       3.500000  1.186087e+09\n",
              " 75%       477.000000    8122.000000       4.000000  1.435994e+09\n",
              " max       610.000000  193609.000000       5.000000  1.537799e+09)"
            ]
          },
          "metadata": {
            "tags": []
          },
          "execution_count": 5
        }
      ]
    },
    {
      "cell_type": "code",
      "metadata": {
        "id": "yFA1gjfR7kbQ",
        "colab_type": "code",
        "cellView": "form",
        "outputId": "f207a566-4587-4131-9069-bfcc3dceb8ae",
        "colab": {
          "base_uri": "https://localhost:8080/",
          "height": 419
        }
      },
      "source": [
        "#@title Cria a coluna de avaliações e exibe pelo valor da avaliação em ordem decrescente.\n",
        "media_notas_filmes = df_notas.groupby('filmeId')['Avaliacao'].mean()\n",
        "df_filmes_notas_media = df_filmes.join(media_notas_filmes, on='filmeId')\n",
        "df_filmes_notas_media.sort_values('Avaliacao', ascending=False)"
      ],
      "execution_count": 6,
      "outputs": [
        {
          "output_type": "execute_result",
          "data": {
            "text/html": [
              "<div>\n",
              "<style scoped>\n",
              "    .dataframe tbody tr th:only-of-type {\n",
              "        vertical-align: middle;\n",
              "    }\n",
              "\n",
              "    .dataframe tbody tr th {\n",
              "        vertical-align: top;\n",
              "    }\n",
              "\n",
              "    .dataframe thead th {\n",
              "        text-align: right;\n",
              "    }\n",
              "</style>\n",
              "<table border=\"1\" class=\"dataframe\">\n",
              "  <thead>\n",
              "    <tr style=\"text-align: right;\">\n",
              "      <th></th>\n",
              "      <th>filmeId</th>\n",
              "      <th>Titulo</th>\n",
              "      <th>Generos</th>\n",
              "      <th>Avaliacao</th>\n",
              "    </tr>\n",
              "  </thead>\n",
              "  <tbody>\n",
              "    <tr>\n",
              "      <th>7656</th>\n",
              "      <td>88448</td>\n",
              "      <td>Paper Birds (Pájaros de papel) (2010)</td>\n",
              "      <td>Comedy|Drama</td>\n",
              "      <td>5.0</td>\n",
              "    </tr>\n",
              "    <tr>\n",
              "      <th>8107</th>\n",
              "      <td>100556</td>\n",
              "      <td>Act of Killing, The (2012)</td>\n",
              "      <td>Documentary</td>\n",
              "      <td>5.0</td>\n",
              "    </tr>\n",
              "    <tr>\n",
              "      <th>9083</th>\n",
              "      <td>143031</td>\n",
              "      <td>Jump In! (2007)</td>\n",
              "      <td>Comedy|Drama|Romance</td>\n",
              "      <td>5.0</td>\n",
              "    </tr>\n",
              "    <tr>\n",
              "      <th>9094</th>\n",
              "      <td>143511</td>\n",
              "      <td>Human (2015)</td>\n",
              "      <td>Documentary</td>\n",
              "      <td>5.0</td>\n",
              "    </tr>\n",
              "    <tr>\n",
              "      <th>9096</th>\n",
              "      <td>143559</td>\n",
              "      <td>L.A. Slasher (2015)</td>\n",
              "      <td>Comedy|Crime|Fantasy</td>\n",
              "      <td>5.0</td>\n",
              "    </tr>\n",
              "    <tr>\n",
              "      <th>...</th>\n",
              "      <td>...</td>\n",
              "      <td>...</td>\n",
              "      <td>...</td>\n",
              "      <td>...</td>\n",
              "    </tr>\n",
              "    <tr>\n",
              "      <th>5749</th>\n",
              "      <td>30892</td>\n",
              "      <td>In the Realms of the Unreal (2004)</td>\n",
              "      <td>Animation|Documentary</td>\n",
              "      <td>NaN</td>\n",
              "    </tr>\n",
              "    <tr>\n",
              "      <th>5824</th>\n",
              "      <td>32160</td>\n",
              "      <td>Twentieth Century (1934)</td>\n",
              "      <td>Comedy</td>\n",
              "      <td>NaN</td>\n",
              "    </tr>\n",
              "    <tr>\n",
              "      <th>5837</th>\n",
              "      <td>32371</td>\n",
              "      <td>Call Northside 777 (1948)</td>\n",
              "      <td>Crime|Drama|Film-Noir</td>\n",
              "      <td>NaN</td>\n",
              "    </tr>\n",
              "    <tr>\n",
              "      <th>5957</th>\n",
              "      <td>34482</td>\n",
              "      <td>Browning Version, The (1951)</td>\n",
              "      <td>Drama</td>\n",
              "      <td>NaN</td>\n",
              "    </tr>\n",
              "    <tr>\n",
              "      <th>7565</th>\n",
              "      <td>85565</td>\n",
              "      <td>Chalet Girl (2011)</td>\n",
              "      <td>Comedy|Romance</td>\n",
              "      <td>NaN</td>\n",
              "    </tr>\n",
              "  </tbody>\n",
              "</table>\n",
              "<p>9742 rows × 4 columns</p>\n",
              "</div>"
            ],
            "text/plain": [
              "      filmeId  ... Avaliacao\n",
              "7656    88448  ...       5.0\n",
              "8107   100556  ...       5.0\n",
              "9083   143031  ...       5.0\n",
              "9094   143511  ...       5.0\n",
              "9096   143559  ...       5.0\n",
              "...       ...  ...       ...\n",
              "5749    30892  ...       NaN\n",
              "5824    32160  ...       NaN\n",
              "5837    32371  ...       NaN\n",
              "5957    34482  ...       NaN\n",
              "7565    85565  ...       NaN\n",
              "\n",
              "[9742 rows x 4 columns]"
            ]
          },
          "metadata": {
            "tags": []
          },
          "execution_count": 6
        }
      ]
    },
    {
      "cell_type": "markdown",
      "metadata": {
        "id": "COLKQG7dCpYC",
        "colab_type": "text"
      },
      "source": [
        "### Desafio 1: [Paulo Silveira](https://twitter.com/paulo_caelum)\n",
        "Encontrar os filmes não avaliados. "
      ]
    },
    {
      "cell_type": "code",
      "metadata": {
        "id": "JgOoc3WlCwOw",
        "colab_type": "code",
        "cellView": "form",
        "outputId": "2b2fe7cd-e4f7-44cd-bd92-7847b9f84440",
        "colab": {
          "base_uri": "https://localhost:8080/",
          "height": 607
        }
      },
      "source": [
        "#@title Exibe os filmes sem avaliação.\n",
        "df_filmes_notas_media[pd.isna(df_filmes_notas_media['Avaliacao'])]"
      ],
      "execution_count": 7,
      "outputs": [
        {
          "output_type": "execute_result",
          "data": {
            "text/html": [
              "<div>\n",
              "<style scoped>\n",
              "    .dataframe tbody tr th:only-of-type {\n",
              "        vertical-align: middle;\n",
              "    }\n",
              "\n",
              "    .dataframe tbody tr th {\n",
              "        vertical-align: top;\n",
              "    }\n",
              "\n",
              "    .dataframe thead th {\n",
              "        text-align: right;\n",
              "    }\n",
              "</style>\n",
              "<table border=\"1\" class=\"dataframe\">\n",
              "  <thead>\n",
              "    <tr style=\"text-align: right;\">\n",
              "      <th></th>\n",
              "      <th>filmeId</th>\n",
              "      <th>Titulo</th>\n",
              "      <th>Generos</th>\n",
              "      <th>Avaliacao</th>\n",
              "    </tr>\n",
              "  </thead>\n",
              "  <tbody>\n",
              "    <tr>\n",
              "      <th>816</th>\n",
              "      <td>1076</td>\n",
              "      <td>Innocents, The (1961)</td>\n",
              "      <td>Drama|Horror|Thriller</td>\n",
              "      <td>NaN</td>\n",
              "    </tr>\n",
              "    <tr>\n",
              "      <th>2211</th>\n",
              "      <td>2939</td>\n",
              "      <td>Niagara (1953)</td>\n",
              "      <td>Drama|Thriller</td>\n",
              "      <td>NaN</td>\n",
              "    </tr>\n",
              "    <tr>\n",
              "      <th>2499</th>\n",
              "      <td>3338</td>\n",
              "      <td>For All Mankind (1989)</td>\n",
              "      <td>Documentary</td>\n",
              "      <td>NaN</td>\n",
              "    </tr>\n",
              "    <tr>\n",
              "      <th>2587</th>\n",
              "      <td>3456</td>\n",
              "      <td>Color of Paradise, The (Rang-e khoda) (1999)</td>\n",
              "      <td>Drama</td>\n",
              "      <td>NaN</td>\n",
              "    </tr>\n",
              "    <tr>\n",
              "      <th>3118</th>\n",
              "      <td>4194</td>\n",
              "      <td>I Know Where I'm Going! (1945)</td>\n",
              "      <td>Drama|Romance|War</td>\n",
              "      <td>NaN</td>\n",
              "    </tr>\n",
              "    <tr>\n",
              "      <th>4037</th>\n",
              "      <td>5721</td>\n",
              "      <td>Chosen, The (1981)</td>\n",
              "      <td>Drama</td>\n",
              "      <td>NaN</td>\n",
              "    </tr>\n",
              "    <tr>\n",
              "      <th>4506</th>\n",
              "      <td>6668</td>\n",
              "      <td>Road Home, The (Wo de fu qin mu qin) (1999)</td>\n",
              "      <td>Drama|Romance</td>\n",
              "      <td>NaN</td>\n",
              "    </tr>\n",
              "    <tr>\n",
              "      <th>4598</th>\n",
              "      <td>6849</td>\n",
              "      <td>Scrooge (1970)</td>\n",
              "      <td>Drama|Fantasy|Musical</td>\n",
              "      <td>NaN</td>\n",
              "    </tr>\n",
              "    <tr>\n",
              "      <th>4704</th>\n",
              "      <td>7020</td>\n",
              "      <td>Proof (1991)</td>\n",
              "      <td>Comedy|Drama|Romance</td>\n",
              "      <td>NaN</td>\n",
              "    </tr>\n",
              "    <tr>\n",
              "      <th>5020</th>\n",
              "      <td>7792</td>\n",
              "      <td>Parallax View, The (1974)</td>\n",
              "      <td>Thriller</td>\n",
              "      <td>NaN</td>\n",
              "    </tr>\n",
              "    <tr>\n",
              "      <th>5293</th>\n",
              "      <td>8765</td>\n",
              "      <td>This Gun for Hire (1942)</td>\n",
              "      <td>Crime|Film-Noir|Thriller</td>\n",
              "      <td>NaN</td>\n",
              "    </tr>\n",
              "    <tr>\n",
              "      <th>5421</th>\n",
              "      <td>25855</td>\n",
              "      <td>Roaring Twenties, The (1939)</td>\n",
              "      <td>Crime|Drama|Thriller</td>\n",
              "      <td>NaN</td>\n",
              "    </tr>\n",
              "    <tr>\n",
              "      <th>5452</th>\n",
              "      <td>26085</td>\n",
              "      <td>Mutiny on the Bounty (1962)</td>\n",
              "      <td>Adventure|Drama|Romance</td>\n",
              "      <td>NaN</td>\n",
              "    </tr>\n",
              "    <tr>\n",
              "      <th>5749</th>\n",
              "      <td>30892</td>\n",
              "      <td>In the Realms of the Unreal (2004)</td>\n",
              "      <td>Animation|Documentary</td>\n",
              "      <td>NaN</td>\n",
              "    </tr>\n",
              "    <tr>\n",
              "      <th>5824</th>\n",
              "      <td>32160</td>\n",
              "      <td>Twentieth Century (1934)</td>\n",
              "      <td>Comedy</td>\n",
              "      <td>NaN</td>\n",
              "    </tr>\n",
              "    <tr>\n",
              "      <th>5837</th>\n",
              "      <td>32371</td>\n",
              "      <td>Call Northside 777 (1948)</td>\n",
              "      <td>Crime|Drama|Film-Noir</td>\n",
              "      <td>NaN</td>\n",
              "    </tr>\n",
              "    <tr>\n",
              "      <th>5957</th>\n",
              "      <td>34482</td>\n",
              "      <td>Browning Version, The (1951)</td>\n",
              "      <td>Drama</td>\n",
              "      <td>NaN</td>\n",
              "    </tr>\n",
              "    <tr>\n",
              "      <th>7565</th>\n",
              "      <td>85565</td>\n",
              "      <td>Chalet Girl (2011)</td>\n",
              "      <td>Comedy|Romance</td>\n",
              "      <td>NaN</td>\n",
              "    </tr>\n",
              "  </tbody>\n",
              "</table>\n",
              "</div>"
            ],
            "text/plain": [
              "      filmeId  ... Avaliacao\n",
              "816      1076  ...       NaN\n",
              "2211     2939  ...       NaN\n",
              "2499     3338  ...       NaN\n",
              "2587     3456  ...       NaN\n",
              "3118     4194  ...       NaN\n",
              "4037     5721  ...       NaN\n",
              "4506     6668  ...       NaN\n",
              "4598     6849  ...       NaN\n",
              "4704     7020  ...       NaN\n",
              "5020     7792  ...       NaN\n",
              "5293     8765  ...       NaN\n",
              "5421    25855  ...       NaN\n",
              "5452    26085  ...       NaN\n",
              "5749    30892  ...       NaN\n",
              "5824    32160  ...       NaN\n",
              "5837    32371  ...       NaN\n",
              "5957    34482  ...       NaN\n",
              "7565    85565  ...       NaN\n",
              "\n",
              "[18 rows x 4 columns]"
            ]
          },
          "metadata": {
            "tags": []
          },
          "execution_count": 7
        }
      ]
    },
    {
      "cell_type": "markdown",
      "metadata": {
        "id": "Nawu8knDEhWf",
        "colab_type": "text"
      },
      "source": [
        "## Desafio 2: [Guilherme Silveira](https://twitter.com/guilhermecaelum)\n",
        "Renomear a coluna 'rating' do DataFrame gerado com as médias para 'Notas Médias'."
      ]
    },
    {
      "cell_type": "code",
      "metadata": {
        "id": "S7k9OJcJEgKi",
        "colab_type": "code",
        "cellView": "form",
        "outputId": "5c83b250-d5e7-40c4-80ff-06c419fad224",
        "colab": {
          "base_uri": "https://localhost:8080/",
          "height": 204
        }
      },
      "source": [
        "#@title Renomeia as colunas.\n",
        "df_filmes_notas_media.columns = ['filmeId', 'Titulo', 'Genero', 'AvaliacaoMedia']\n",
        "df_filmes_notas_media.head()"
      ],
      "execution_count": 8,
      "outputs": [
        {
          "output_type": "execute_result",
          "data": {
            "text/html": [
              "<div>\n",
              "<style scoped>\n",
              "    .dataframe tbody tr th:only-of-type {\n",
              "        vertical-align: middle;\n",
              "    }\n",
              "\n",
              "    .dataframe tbody tr th {\n",
              "        vertical-align: top;\n",
              "    }\n",
              "\n",
              "    .dataframe thead th {\n",
              "        text-align: right;\n",
              "    }\n",
              "</style>\n",
              "<table border=\"1\" class=\"dataframe\">\n",
              "  <thead>\n",
              "    <tr style=\"text-align: right;\">\n",
              "      <th></th>\n",
              "      <th>filmeId</th>\n",
              "      <th>Titulo</th>\n",
              "      <th>Genero</th>\n",
              "      <th>AvaliacaoMedia</th>\n",
              "    </tr>\n",
              "  </thead>\n",
              "  <tbody>\n",
              "    <tr>\n",
              "      <th>0</th>\n",
              "      <td>1</td>\n",
              "      <td>Toy Story (1995)</td>\n",
              "      <td>Adventure|Animation|Children|Comedy|Fantasy</td>\n",
              "      <td>3.920930</td>\n",
              "    </tr>\n",
              "    <tr>\n",
              "      <th>1</th>\n",
              "      <td>2</td>\n",
              "      <td>Jumanji (1995)</td>\n",
              "      <td>Adventure|Children|Fantasy</td>\n",
              "      <td>3.431818</td>\n",
              "    </tr>\n",
              "    <tr>\n",
              "      <th>2</th>\n",
              "      <td>3</td>\n",
              "      <td>Grumpier Old Men (1995)</td>\n",
              "      <td>Comedy|Romance</td>\n",
              "      <td>3.259615</td>\n",
              "    </tr>\n",
              "    <tr>\n",
              "      <th>3</th>\n",
              "      <td>4</td>\n",
              "      <td>Waiting to Exhale (1995)</td>\n",
              "      <td>Comedy|Drama|Romance</td>\n",
              "      <td>2.357143</td>\n",
              "    </tr>\n",
              "    <tr>\n",
              "      <th>4</th>\n",
              "      <td>5</td>\n",
              "      <td>Father of the Bride Part II (1995)</td>\n",
              "      <td>Comedy</td>\n",
              "      <td>3.071429</td>\n",
              "    </tr>\n",
              "  </tbody>\n",
              "</table>\n",
              "</div>"
            ],
            "text/plain": [
              "   filmeId  ... AvaliacaoMedia\n",
              "0        1  ...       3.920930\n",
              "1        2  ...       3.431818\n",
              "2        3  ...       3.259615\n",
              "3        4  ...       2.357143\n",
              "4        5  ...       3.071429\n",
              "\n",
              "[5 rows x 4 columns]"
            ]
          },
          "metadata": {
            "tags": []
          },
          "execution_count": 8
        }
      ]
    },
    {
      "cell_type": "markdown",
      "metadata": {
        "id": "TDoTpWPZFakV",
        "colab_type": "text"
      },
      "source": [
        "## Desafio 3: [Guilherme Silveira](https://twitter.com/guilhermecaelum)\n",
        "Criar uma coluna com a quantidade de avaliações de cada filme. "
      ]
    },
    {
      "cell_type": "code",
      "metadata": {
        "id": "3fvM30pNFU5S",
        "colab_type": "code",
        "cellView": "form",
        "outputId": "7a036ba4-6106-4934-a6ba-f1c2b1937dd6",
        "colab": {
          "base_uri": "https://localhost:8080/",
          "height": 204
        }
      },
      "source": [
        "#@title Conta e cria a coluna com a quantidade de avaliações de cada filme.\n",
        "qtd_avaliacao_filme = df_notas.groupby('filmeId')['Avaliacao'].count()\n",
        "df_filmes_notas_media = df_filmes_notas_media.join(qtd_avaliacao_filme, on='filmeId')\n",
        "df_filmes_notas_media.head()"
      ],
      "execution_count": 9,
      "outputs": [
        {
          "output_type": "execute_result",
          "data": {
            "text/html": [
              "<div>\n",
              "<style scoped>\n",
              "    .dataframe tbody tr th:only-of-type {\n",
              "        vertical-align: middle;\n",
              "    }\n",
              "\n",
              "    .dataframe tbody tr th {\n",
              "        vertical-align: top;\n",
              "    }\n",
              "\n",
              "    .dataframe thead th {\n",
              "        text-align: right;\n",
              "    }\n",
              "</style>\n",
              "<table border=\"1\" class=\"dataframe\">\n",
              "  <thead>\n",
              "    <tr style=\"text-align: right;\">\n",
              "      <th></th>\n",
              "      <th>filmeId</th>\n",
              "      <th>Titulo</th>\n",
              "      <th>Genero</th>\n",
              "      <th>AvaliacaoMedia</th>\n",
              "      <th>Avaliacao</th>\n",
              "    </tr>\n",
              "  </thead>\n",
              "  <tbody>\n",
              "    <tr>\n",
              "      <th>0</th>\n",
              "      <td>1</td>\n",
              "      <td>Toy Story (1995)</td>\n",
              "      <td>Adventure|Animation|Children|Comedy|Fantasy</td>\n",
              "      <td>3.920930</td>\n",
              "      <td>215.0</td>\n",
              "    </tr>\n",
              "    <tr>\n",
              "      <th>1</th>\n",
              "      <td>2</td>\n",
              "      <td>Jumanji (1995)</td>\n",
              "      <td>Adventure|Children|Fantasy</td>\n",
              "      <td>3.431818</td>\n",
              "      <td>110.0</td>\n",
              "    </tr>\n",
              "    <tr>\n",
              "      <th>2</th>\n",
              "      <td>3</td>\n",
              "      <td>Grumpier Old Men (1995)</td>\n",
              "      <td>Comedy|Romance</td>\n",
              "      <td>3.259615</td>\n",
              "      <td>52.0</td>\n",
              "    </tr>\n",
              "    <tr>\n",
              "      <th>3</th>\n",
              "      <td>4</td>\n",
              "      <td>Waiting to Exhale (1995)</td>\n",
              "      <td>Comedy|Drama|Romance</td>\n",
              "      <td>2.357143</td>\n",
              "      <td>7.0</td>\n",
              "    </tr>\n",
              "    <tr>\n",
              "      <th>4</th>\n",
              "      <td>5</td>\n",
              "      <td>Father of the Bride Part II (1995)</td>\n",
              "      <td>Comedy</td>\n",
              "      <td>3.071429</td>\n",
              "      <td>49.0</td>\n",
              "    </tr>\n",
              "  </tbody>\n",
              "</table>\n",
              "</div>"
            ],
            "text/plain": [
              "   filmeId                              Titulo  ... AvaliacaoMedia  Avaliacao\n",
              "0        1                    Toy Story (1995)  ...       3.920930      215.0\n",
              "1        2                      Jumanji (1995)  ...       3.431818      110.0\n",
              "2        3             Grumpier Old Men (1995)  ...       3.259615       52.0\n",
              "3        4            Waiting to Exhale (1995)  ...       2.357143        7.0\n",
              "4        5  Father of the Bride Part II (1995)  ...       3.071429       49.0\n",
              "\n",
              "[5 rows x 5 columns]"
            ]
          },
          "metadata": {
            "tags": []
          },
          "execution_count": 9
        }
      ]
    },
    {
      "cell_type": "markdown",
      "metadata": {
        "id": "0GM8ZLgRJfBo",
        "colab_type": "text"
      },
      "source": [
        "## Desafio 4: [Thiago Gonçalves](https://twitter.com/tgcsantos)\n",
        "Arredondar avaliações para 2 decimais."
      ]
    },
    {
      "cell_type": "code",
      "metadata": {
        "id": "pSn_Ym6VJkqS",
        "colab_type": "code",
        "cellView": "form",
        "outputId": "a500ad23-da8f-4eba-e9e5-18a320a63b45",
        "colab": {
          "base_uri": "https://localhost:8080/",
          "height": 376
        }
      },
      "source": [
        "#@title Arredonda a média das avaliações para 2 decimais.\n",
        "df_filmes_notas_media.columns = ['filmeId', 'Titulo', 'Genero', 'AvaliacaoMedia', 'Qtd_avaliacoes']\n",
        "df_filmes_notas_media['AvaliacaoMedia'] = df_filmes_notas_media['AvaliacaoMedia'].round(2)\n",
        "df_filmes_notas_media.head(10)"
      ],
      "execution_count": 10,
      "outputs": [
        {
          "output_type": "execute_result",
          "data": {
            "text/html": [
              "<div>\n",
              "<style scoped>\n",
              "    .dataframe tbody tr th:only-of-type {\n",
              "        vertical-align: middle;\n",
              "    }\n",
              "\n",
              "    .dataframe tbody tr th {\n",
              "        vertical-align: top;\n",
              "    }\n",
              "\n",
              "    .dataframe thead th {\n",
              "        text-align: right;\n",
              "    }\n",
              "</style>\n",
              "<table border=\"1\" class=\"dataframe\">\n",
              "  <thead>\n",
              "    <tr style=\"text-align: right;\">\n",
              "      <th></th>\n",
              "      <th>filmeId</th>\n",
              "      <th>Titulo</th>\n",
              "      <th>Genero</th>\n",
              "      <th>AvaliacaoMedia</th>\n",
              "      <th>Qtd_avaliacoes</th>\n",
              "    </tr>\n",
              "  </thead>\n",
              "  <tbody>\n",
              "    <tr>\n",
              "      <th>0</th>\n",
              "      <td>1</td>\n",
              "      <td>Toy Story (1995)</td>\n",
              "      <td>Adventure|Animation|Children|Comedy|Fantasy</td>\n",
              "      <td>3.92</td>\n",
              "      <td>215.0</td>\n",
              "    </tr>\n",
              "    <tr>\n",
              "      <th>1</th>\n",
              "      <td>2</td>\n",
              "      <td>Jumanji (1995)</td>\n",
              "      <td>Adventure|Children|Fantasy</td>\n",
              "      <td>3.43</td>\n",
              "      <td>110.0</td>\n",
              "    </tr>\n",
              "    <tr>\n",
              "      <th>2</th>\n",
              "      <td>3</td>\n",
              "      <td>Grumpier Old Men (1995)</td>\n",
              "      <td>Comedy|Romance</td>\n",
              "      <td>3.26</td>\n",
              "      <td>52.0</td>\n",
              "    </tr>\n",
              "    <tr>\n",
              "      <th>3</th>\n",
              "      <td>4</td>\n",
              "      <td>Waiting to Exhale (1995)</td>\n",
              "      <td>Comedy|Drama|Romance</td>\n",
              "      <td>2.36</td>\n",
              "      <td>7.0</td>\n",
              "    </tr>\n",
              "    <tr>\n",
              "      <th>4</th>\n",
              "      <td>5</td>\n",
              "      <td>Father of the Bride Part II (1995)</td>\n",
              "      <td>Comedy</td>\n",
              "      <td>3.07</td>\n",
              "      <td>49.0</td>\n",
              "    </tr>\n",
              "    <tr>\n",
              "      <th>5</th>\n",
              "      <td>6</td>\n",
              "      <td>Heat (1995)</td>\n",
              "      <td>Action|Crime|Thriller</td>\n",
              "      <td>3.95</td>\n",
              "      <td>102.0</td>\n",
              "    </tr>\n",
              "    <tr>\n",
              "      <th>6</th>\n",
              "      <td>7</td>\n",
              "      <td>Sabrina (1995)</td>\n",
              "      <td>Comedy|Romance</td>\n",
              "      <td>3.19</td>\n",
              "      <td>54.0</td>\n",
              "    </tr>\n",
              "    <tr>\n",
              "      <th>7</th>\n",
              "      <td>8</td>\n",
              "      <td>Tom and Huck (1995)</td>\n",
              "      <td>Adventure|Children</td>\n",
              "      <td>2.88</td>\n",
              "      <td>8.0</td>\n",
              "    </tr>\n",
              "    <tr>\n",
              "      <th>8</th>\n",
              "      <td>9</td>\n",
              "      <td>Sudden Death (1995)</td>\n",
              "      <td>Action</td>\n",
              "      <td>3.12</td>\n",
              "      <td>16.0</td>\n",
              "    </tr>\n",
              "    <tr>\n",
              "      <th>9</th>\n",
              "      <td>10</td>\n",
              "      <td>GoldenEye (1995)</td>\n",
              "      <td>Action|Adventure|Thriller</td>\n",
              "      <td>3.50</td>\n",
              "      <td>132.0</td>\n",
              "    </tr>\n",
              "  </tbody>\n",
              "</table>\n",
              "</div>"
            ],
            "text/plain": [
              "   filmeId                              Titulo  ... AvaliacaoMedia  Qtd_avaliacoes\n",
              "0        1                    Toy Story (1995)  ...           3.92           215.0\n",
              "1        2                      Jumanji (1995)  ...           3.43           110.0\n",
              "2        3             Grumpier Old Men (1995)  ...           3.26            52.0\n",
              "3        4            Waiting to Exhale (1995)  ...           2.36             7.0\n",
              "4        5  Father of the Bride Part II (1995)  ...           3.07            49.0\n",
              "5        6                         Heat (1995)  ...           3.95           102.0\n",
              "6        7                      Sabrina (1995)  ...           3.19            54.0\n",
              "7        8                 Tom and Huck (1995)  ...           2.88             8.0\n",
              "8        9                 Sudden Death (1995)  ...           3.12            16.0\n",
              "9       10                    GoldenEye (1995)  ...           3.50           132.0\n",
              "\n",
              "[10 rows x 5 columns]"
            ]
          },
          "metadata": {
            "tags": []
          },
          "execution_count": 10
        }
      ]
    },
    {
      "cell_type": "markdown",
      "metadata": {
        "id": "sPKEOOMQJoFd",
        "colab_type": "text"
      },
      "source": [
        "### Desafio 5: [Allan Spadini](https://twitter.com/allanspadini)\n",
        " Descobrir os gêneros únicos (Quais são eles?)."
      ]
    },
    {
      "cell_type": "code",
      "metadata": {
        "id": "WVeyFh02KfuW",
        "colab_type": "code",
        "cellView": "form",
        "outputId": "ce8b86ac-36ee-46a4-a59e-8664e24a9dd8",
        "colab": {
          "base_uri": "https://localhost:8080/",
          "height": 357
        }
      },
      "source": [
        "#@title A lista de 19 gêneros base que compõem a classificação do dataset\n",
        "grp_filmes_genero = df_filmes_notas_media.groupby('Genero').nunique()\n",
        "lst_generos = []\n",
        "for gen in grp_filmes_genero.index:\n",
        "  genero = gen.split('|')\n",
        "  for g in list(genero):\n",
        "    lst_generos.append(g) if g not in list(lst_generos) else ''\n",
        "\n",
        "print(*lst_generos, sep='\\n')"
      ],
      "execution_count": 11,
      "outputs": [
        {
          "output_type": "stream",
          "text": [
            "(no genres listed)\n",
            "Action\n",
            "Adventure\n",
            "Animation\n",
            "Children\n",
            "Comedy\n",
            "Fantasy\n",
            "IMAX\n",
            "Romance\n",
            "Sci-Fi\n",
            "Western\n",
            "Crime\n",
            "Mystery\n",
            "Thriller\n",
            "Drama\n",
            "Horror\n",
            "Film-Noir\n",
            "Documentary\n",
            "War\n",
            "Musical\n"
          ],
          "name": "stdout"
        }
      ]
    },
    {
      "cell_type": "markdown",
      "metadata": {
        "id": "WxcXyR6PJ7g-",
        "colab_type": "text"
      },
      "source": [
        "### Desafio 6: [Thais André](https://twitter.com/thais_tandre)\n",
        "Contar a quantidade de filmes agrupados por gênero."
      ]
    },
    {
      "cell_type": "code",
      "metadata": {
        "id": "g3cFUONEJm81",
        "colab_type": "code",
        "cellView": "form",
        "outputId": "cc07c40e-2fe5-4c77-bd5b-a48b1cdad9dc",
        "colab": {
          "base_uri": "https://localhost:8080/",
          "height": 235
        }
      },
      "source": [
        "#@title Contagem de títulos por classificação composta.\n",
        "df_grp_generos = df_filmes_notas_media.groupby('Genero').count().drop(['filmeId', 'AvaliacaoMedia','Qtd_avaliacoes'], axis=1, inplace=False)\n",
        "df_grp_generos.head()"
      ],
      "execution_count": 12,
      "outputs": [
        {
          "output_type": "execute_result",
          "data": {
            "text/html": [
              "<div>\n",
              "<style scoped>\n",
              "    .dataframe tbody tr th:only-of-type {\n",
              "        vertical-align: middle;\n",
              "    }\n",
              "\n",
              "    .dataframe tbody tr th {\n",
              "        vertical-align: top;\n",
              "    }\n",
              "\n",
              "    .dataframe thead th {\n",
              "        text-align: right;\n",
              "    }\n",
              "</style>\n",
              "<table border=\"1\" class=\"dataframe\">\n",
              "  <thead>\n",
              "    <tr style=\"text-align: right;\">\n",
              "      <th></th>\n",
              "      <th>Titulo</th>\n",
              "    </tr>\n",
              "    <tr>\n",
              "      <th>Genero</th>\n",
              "      <th></th>\n",
              "    </tr>\n",
              "  </thead>\n",
              "  <tbody>\n",
              "    <tr>\n",
              "      <th>(no genres listed)</th>\n",
              "      <td>34</td>\n",
              "    </tr>\n",
              "    <tr>\n",
              "      <th>Action</th>\n",
              "      <td>60</td>\n",
              "    </tr>\n",
              "    <tr>\n",
              "      <th>Action|Adventure</th>\n",
              "      <td>32</td>\n",
              "    </tr>\n",
              "    <tr>\n",
              "      <th>Action|Adventure|Animation</th>\n",
              "      <td>18</td>\n",
              "    </tr>\n",
              "    <tr>\n",
              "      <th>Action|Adventure|Animation|Children</th>\n",
              "      <td>6</td>\n",
              "    </tr>\n",
              "  </tbody>\n",
              "</table>\n",
              "</div>"
            ],
            "text/plain": [
              "                                     Titulo\n",
              "Genero                                     \n",
              "(no genres listed)                       34\n",
              "Action                                   60\n",
              "Action|Adventure                         32\n",
              "Action|Adventure|Animation               18\n",
              "Action|Adventure|Animation|Children       6"
            ]
          },
          "metadata": {
            "tags": []
          },
          "execution_count": 12
        }
      ]
    },
    {
      "cell_type": "markdown",
      "metadata": {
        "id": "l0npnWuJKhuo",
        "colab_type": "text"
      },
      "source": [
        "### Desafio 7: [Guilherme Silveira](https://twitter.com/guilhermecaelum)\n",
        "Plotar a distribuição de filmes por gênero. "
      ]
    },
    {
      "cell_type": "code",
      "metadata": {
        "id": "nJQG_WbsSEf3",
        "colab_type": "code",
        "colab": {
          "base_uri": "https://localhost:8080/",
          "height": 374
        },
        "cellView": "form",
        "outputId": "12cc8717-e2d5-47df-e2b2-e625c01441c3"
      },
      "source": [
        "#@title Solução Alura desafio 6\n",
        "df_filmes['Generos'].str.get_dummies('|').sum().sort_values(ascending=False)"
      ],
      "execution_count": 13,
      "outputs": [
        {
          "output_type": "execute_result",
          "data": {
            "text/plain": [
              "Drama                 4361\n",
              "Comedy                3756\n",
              "Thriller              1894\n",
              "Action                1828\n",
              "Romance               1596\n",
              "Adventure             1263\n",
              "Crime                 1199\n",
              "Sci-Fi                 980\n",
              "Horror                 978\n",
              "Fantasy                779\n",
              "Children               664\n",
              "Animation              611\n",
              "Mystery                573\n",
              "Documentary            440\n",
              "War                    382\n",
              "Musical                334\n",
              "Western                167\n",
              "IMAX                   158\n",
              "Film-Noir               87\n",
              "(no genres listed)      34\n",
              "dtype: int64"
            ]
          },
          "metadata": {
            "tags": []
          },
          "execution_count": 13
        }
      ]
    },
    {
      "cell_type": "code",
      "metadata": {
        "id": "Ke3zZUmKBJfU",
        "colab_type": "code",
        "cellView": "form",
        "outputId": "d079fc0d-e9aa-4cde-8ddd-2ff02ed50b99",
        "colab": {
          "base_uri": "https://localhost:8080/",
          "height": 525
        }
      },
      "source": [
        "#@title Pelo fato de serem mais de 900 gêneros compostos, o gráfico abaixo contém a contagem de ocorrências dos gêneros simples na classificação composta do dataset. Sendo assim, um único título pode ter sido contabilizado várias vezes.\n",
        "df_freq_generos = pd.DataFrame(columns=['Genero', 'Qtd_Titulos'])\n",
        "\n",
        "for i, gen in enumerate(lst_generos):\n",
        "  freq_gen = 0\n",
        "  for row, genero in df_grp_generos.iterrows():\n",
        "    if gen in row:\n",
        "      freq_gen += genero['Titulo']\n",
        "  df_freq_generos.loc[i, 'Genero'] = gen\n",
        "  df_freq_generos.loc[i,'Qtd_Titulos'] = freq_gen\n",
        "\n",
        "df_freq_generos.plot('Genero','Qtd_Titulos', kind='bar', figsize=(15,7), title='Quantidade de títulos por gênero simples')"
      ],
      "execution_count": 14,
      "outputs": [
        {
          "output_type": "execute_result",
          "data": {
            "text/plain": [
              "<matplotlib.axes._subplots.AxesSubplot at 0x7f38d9520828>"
            ]
          },
          "metadata": {
            "tags": []
          },
          "execution_count": 14
        },
        {
          "output_type": "display_data",
          "data": {
            "image/png": "[encoded data removed]",
            "text/plain": [
              "<Figure size 1080x504 with 1 Axes>"
            ]
          },
          "metadata": {
            "tags": [],
            "needs_background": "light"
          }
        }
      ]
    },
    {
      "cell_type": "code",
      "metadata": {
        "id": "buOsSqypSn9L",
        "colab_type": "code",
        "colab": {
          "base_uri": "https://localhost:8080/",
          "height": 512
        },
        "cellView": "form",
        "outputId": "82721306-f7be-4725-9057-511287562f9a"
      },
      "source": [
        "#@title Solução Alura desafio 7\n",
        "df_filmes['Generos'].str.get_dummies('|').sum().sort_values(ascending=False).plot(kind='bar', figsize=(15,7), title='Quantidade de títulos por gênero simples')"
      ],
      "execution_count": 15,
      "outputs": [
        {
          "output_type": "execute_result",
          "data": {
            "text/plain": [
              "<matplotlib.axes._subplots.AxesSubplot at 0x7f38d9415908>"
            ]
          },
          "metadata": {
            "tags": []
          },
          "execution_count": 15
        },
        {
          "output_type": "display_data",
          "data": {
            "image/png": "[encoded data removed]",
            "text/plain": [
              "<Figure size 1080x504 with 1 Axes>"
            ]
          },
          "metadata": {
            "tags": [],
            "needs_background": "light"
          }
        }
      ]
    },
    {
      "cell_type": "markdown",
      "metadata": {
        "id": "vmW3nD9fREne",
        "colab_type": "text"
      },
      "source": [
        "# Aula 2: Médias, medianas e visualização de dados."
      ]
    },
    {
      "cell_type": "markdown",
      "metadata": {
        "id": "6WH1tcjq79Li",
        "colab_type": "text"
      },
      "source": [
        "### Desafio 1: [Guilherme Silveira](https://twitter.com/guilhermecaelum/)\n",
        "Rotacionar os thicks (nome dos gêneros) "
      ]
    },
    {
      "cell_type": "code",
      "metadata": {
        "id": "LqiEHJuYU2ba",
        "colab_type": "code",
        "colab": {
          "base_uri": "https://localhost:8080/",
          "height": 452
        },
        "cellView": "form",
        "outputId": "d2395146-4da1-470c-e4db-e4e15d6bff55"
      },
      "source": [
        "#@title Plota o gráfico de frequência de gêneros ordenas pela quantidade de ocorrências.\n",
        "sns.set_style('whitegrid')\n",
        "dados = df_filmes['Generos'].str.get_dummies('|').sum().sort_values(ascending=False)\n",
        "plt.figure(figsize=(15,7))\n",
        "plt.xticks(rotation=30)\n",
        "plt.title('Quantidade de títulos por gênero simples')\n",
        "g = sns.barplot(x=dados.index,\n",
        "            y=dados.values,\n",
        "            palette=sns.color_palette('BuGn_r', n_colors=len(dados) + 4))\n",
        "for p in g.patches:\n",
        "  g.annotate(format(p.get_height(), '.0f'), (p.get_x() + p.get_width() / 2., p.get_height()), ha = 'center', va = 'center', xytext = (0, 10), textcoords = 'offset points')\n",
        "plt.show()"
      ],
      "execution_count": 16,
      "outputs": [
        {
          "output_type": "display_data",
          "data": {
            "image/png": "[encoded data removed]",
            "text/plain": [
              "<Figure size 1080x504 with 1 Axes>"
            ]
          },
          "metadata": {
            "tags": []
          }
        }
      ]
    },
    {
      "cell_type": "markdown",
      "metadata": {
        "id": "8raa79O5FUMI",
        "colab_type": "text"
      },
      "source": [
        "### Desafio 2: [Paulo Silveira](https://twitter.com/paulo_caelum)\n",
        "Comparar outros filmes com notas próximas e achar distribuições bem diferentes."
      ]
    },
    {
      "cell_type": "code",
      "metadata": {
        "id": "aJtPH-A3FdTv",
        "colab_type": "code",
        "colab": {
          "base_uri": "https://localhost:8080/",
          "height": 837
        },
        "cellView": "form",
        "outputId": "df660d0e-dfb3-4e97-d5c4-9144c64736f8"
      },
      "source": [
        "#@title Plota os histogramas dos 9 filmes mais avaliados.<br>Comparando os gráficos, pode-se conluir que o 'Shawshank Redemption, The (1994)', apesar de ser o 2º mais votado, possui a maior quantidade de notas 5 e menos notas abaixo de 3 confirmando a média de avaliações.\n",
        "df_mais_votados = df_filmes_notas_media.sort_values('Qtd_avaliacoes', ascending=False).head(10)\n",
        "plt.xlim=(0,5)\n",
        "fig, axs = plt.subplots(3,3, sharey=True)\n",
        "fig.set_figheight(20)\n",
        "fig.set_figwidth(20)\n",
        "k = 0\n",
        "for i in range(3):\n",
        "  for j in range(3):\n",
        "    axs[i, j].hist(df_notas['Avaliacao'][df_notas['filmeId']==list(df_mais_votados.filmeId)[k]])\n",
        "    axs[i, j].set_title(list(df_mais_votados.Titulo)[k])\n",
        "\n",
        "    k+=1"
      ],
      "execution_count": 17,
      "outputs": [
        {
          "output_type": "display_data",
          "data": {
            "image/png": "[encoded data removed]",
            "text/plain": [
              "<Figure size 1440x1440 with 9 Axes>"
            ]
          },
          "metadata": {
            "tags": []
          }
        }
      ]
    },
    {
      "cell_type": "markdown",
      "metadata": {
        "id": "SA8DFZIQJ6Ad",
        "colab_type": "text"
      },
      "source": [
        "### Desafio 3: [Paulo Silveira](https://twitter.com/paulo_caelum)\n",
        "Criar o boxplot dos 10 filmes com mais votos (não é maior média, é com mais votos)"
      ]
    },
    {
      "cell_type": "code",
      "metadata": {
        "id": "d2AtHWqrlaxp",
        "colab_type": "code",
        "colab": {
          "base_uri": "https://localhost:8080/",
          "height": 768
        },
        "cellView": "form",
        "outputId": "db840269-5356-4e45-a23d-35be8a629d3c"
      },
      "source": [
        "#@title Comparando os valores ilustrados no gráfico abaixo, pode-se dizer que o filme com a melhor nota mínima dentro os mais avaliados é 'Shawshank Redemption, The (1994)'.<br>Confirmando a análise do gráfico acima.\n",
        "plt.figure(figsize=(15,10))\n",
        "ax = sns.boxplot(data=df_notas.query(f\"filmeId in {list(df_mais_votados['filmeId'])}\"),\n",
        "                 x =\"filmeId\",\n",
        "                 y=\"Avaliacao\")\n",
        "ax.set_xlabel('Filme', fontdict={'fontsize':12})\n",
        "ax.set_title('Boxplot dos 10 filmes mais avaliados', fontdict={'fontsize':16})\n",
        "ax.set_xticklabels(df_mais_votados.sort_values('filmeId')['Titulo'], rotation = 45, fontdict={'fontsize':12})\n",
        "plt.show()"
      ],
      "execution_count": 18,
      "outputs": [
        {
          "output_type": "display_data",
          "data": {
            "image/png": "[encoded data removed]",
            "text/plain": [
              "<Figure size 1080x720 with 1 Axes>"
            ]
          },
          "metadata": {
            "tags": []
          }
        }
      ]
    },
    {
      "cell_type": "markdown",
      "metadata": {
        "id": "hQL-7ThyKqyY",
        "colab_type": "text"
      },
      "source": [
        "### Desafio 4: [Guilherme Silveira](https://twitter.com/guilhermecaelum)\n",
        "Configurar a visualização do boxplot gerado pelo seaborn (último boxplot plotado na aula). Configurar o tamanho e colocar o nome dos filmes nos thicks."
      ]
    },
    {
      "cell_type": "code",
      "metadata": {
        "id": "QIaPyFBsK5No",
        "colab_type": "code",
        "colab": {
          "base_uri": "https://localhost:8080/",
          "height": 437
        },
        "outputId": "82e4e584-7383-4f76-afa6-0e79cf00e54a"
      },
      "source": [
        "plt.figure(figsize=(15,7))\n",
        "ax = sns.boxplot(data = df_notas.query(\"filmeId in [1,2,919,46578]\"), x =\"filmeId\", y=\"Avaliacao\")\n",
        "ax.set_xticklabels(df_filmes.query(\"filmeId in [1,2,919,46578]\")['Titulo'])\n",
        "ax.set_title('Boxplot dos 4 filmes selecionados na aula.')\n",
        "plt.show()"
      ],
      "execution_count": 19,
      "outputs": [
        {
          "output_type": "display_data",
          "data": {
            "image/png": "[encoded data removed]",
            "text/plain": [
              "<Figure size 1080x504 with 1 Axes>"
            ]
          },
          "metadata": {
            "tags": []
          }
        }
      ]
    },
    {
      "cell_type": "markdown",
      "metadata": {
        "id": "ZK6vMMfVLhiP",
        "colab_type": "text"
      },
      "source": [
        "### Desafio 5: [Allan Spadini](https://twitter.com/allanspadini)\n",
        "Calcular moda, média e mediana. Explore filmes com notas mais próximas de 0.5, 3 e 5."
      ]
    },
    {
      "cell_type": "code",
      "metadata": {
        "id": "PgNt7UEFdFG9",
        "colab_type": "code",
        "colab": {
          "base_uri": "https://localhost:8080/",
          "height": 323
        },
        "cellView": "form",
        "outputId": "24fcf67d-5fa9-419c-d13a-5a3b2a33b395"
      },
      "source": [
        "#@title Retira amostras com 100, 50 e 10 avaliações e calcula os valores solicitados\n",
        "\n",
        "lst_100 = df_filmes_notas_media[df_filmes_notas_media['Qtd_avaliacoes'] == 100].sort_values('AvaliacaoMedia')\n",
        "\n",
        "idSample5 = lst_100[lst_100['AvaliacaoMedia']==max(lst_100['AvaliacaoMedia'])].values\n",
        "media = df_notas.query(f'filmeId == {idSample5[0][0]}')['Avaliacao'].mean()\n",
        "grp_notas = df_notas[df_notas['filmeId'] == idSample5[0][0]].groupby('Avaliacao').count()\n",
        "moda = grp_notas[grp_notas['filmeId']==grp_notas.values.max()].index\n",
        "lst_notas = list(df_notas.query(f'filmeId == {idSample5[0][0]}')['Avaliacao'].sort_values())\n",
        "mediana = (lst_notas[int((len(lst_notas)/2))-1] + lst_notas[int(len(lst_notas)/2)])/2\n",
        "print('\\n{}\\n{}\\nModa das avaliações = {}\\nMédia das avaliações = {}\\nMediana da avaliações = {}'.format(*idSample5[0][1:-2], moda[0], media, mediana), sep='\\n')\n",
        "\n",
        "lst_50 = df_filmes_notas_media[df_filmes_notas_media['Qtd_avaliacoes'] == 50].sort_values('AvaliacaoMedia')\n",
        "\n",
        "idSample3 = lst_50[lst_50['AvaliacaoMedia']==lst_50['AvaliacaoMedia'].min()].values\n",
        "media = df_notas.query(f'filmeId == {idSample3[0][0]}')['Avaliacao'].mean()\n",
        "grp_notas = df_notas[df_notas['filmeId'] == idSample3[0][0]].groupby('Avaliacao').count()\n",
        "moda = grp_notas[grp_notas['filmeId']==grp_notas.values.max()].index\n",
        "lst_notas = list(df_notas.query(f'filmeId == {idSample3[0][0]}')['Avaliacao'].sort_values())\n",
        "mediana = (lst_notas[int((len(lst_notas)/2))-1] + lst_notas[int(len(lst_notas)/2)])/2\n",
        "print('\\n{}\\n{}\\nModa das avaliações = {}\\nMédia das avaliações = {}\\nMediana da avaliações = {}'.format(*idSample3[0][1:-2], moda[0], media, mediana), sep='\\n')\n",
        "\n",
        "lst_10 = df_filmes_notas_media[df_filmes_notas_media['Qtd_avaliacoes'] == 10].sort_values('AvaliacaoMedia')\n",
        "\n",
        "idSample = lst_10[lst_10['AvaliacaoMedia']==min(lst_10['AvaliacaoMedia'])].values\n",
        "media = df_notas.query(f'filmeId == {idSample[0][0]}')['Avaliacao'].mean()\n",
        "grp_notas = df_notas[df_notas['filmeId'] == idSample[0][0]].groupby('Avaliacao').count()\n",
        "moda = grp_notas[grp_notas['filmeId']==grp_notas.values.max()].index\n",
        "lst_notas = list(df_notas.query(f'filmeId == {idSample[0][0]}')['Avaliacao'].sort_values())\n",
        "mediana = (lst_notas[int((len(lst_notas)/2))-1] + lst_notas[int(len(lst_notas)/2)])/2\n",
        "print('\\n{}\\n{}\\nModa das avaliações = {}\\nMédia das avaliações = {}\\nMediana da avaliações = {}'.format(*idSample[0][1:-2], moda[0], media, mediana), sep='\\n')"
      ],
      "execution_count": 20,
      "outputs": [
        {
          "output_type": "stream",
          "text": [
            "\n",
            "Casablanca (1942)\n",
            "Drama|Romance\n",
            "Moda das avaliações = 5.0\n",
            "Média das avaliações = 4.24\n",
            "Mediana da avaliações = 4.5\n",
            "\n",
            "Scary Movie (2000)\n",
            "Comedy|Horror\n",
            "Moda das avaliações = 2.0\n",
            "Média das avaliações = 2.92\n",
            "Mediana da avaliações = 3.0\n",
            "\n",
            "Spice World (1997)\n",
            "Comedy\n",
            "Moda das avaliações = 0.5\n",
            "Média das avaliações = 1.35\n",
            "Mediana da avaliações = 1.0\n"
          ],
          "name": "stdout"
        }
      ]
    },
    {
      "cell_type": "markdown",
      "metadata": {
        "id": "W1RvpyAIMLV5",
        "colab_type": "text"
      },
      "source": [
        "### Desafio 6: [Thais André](https://twitter.com/thais_tandre)\n",
        "Plotar o boxplot e o histograma um do lado do outro (na mesma figura ou em figuras distintas, mas um do lado do outro)."
      ]
    },
    {
      "cell_type": "code",
      "metadata": {
        "id": "KXRVk3zU9xIT",
        "colab_type": "code",
        "colab": {
          "base_uri": "https://localhost:8080/",
          "height": 839
        },
        "cellView": "form",
        "outputId": "b0a1dee2-6873-4f90-945a-c158e330e854"
      },
      "source": [
        "#@title Plota os histogramas e boxplots das avaliações dos filmes acima.\n",
        "fig, axs = plt.subplots(3,2)\n",
        "fig.set_figheight(20)\n",
        "fig.set_figwidth(20)\n",
        "\n",
        "axs[0,0].hist(df_notas.query(f'filmeId=={idSample5[0][0]}')['Avaliacao'])\n",
        "axs[0,0].set_title('Histograma de avaliações do {}'.format(idSample5[0][1]))\n",
        "\n",
        "axs[0,1].boxplot(df_notas.query(f'filmeId=={idSample5[0][0]}')['Avaliacao'])\n",
        "axs[0,1].set_title('Boxplot de avaliações do {}'.format(idSample5[0][1]))\n",
        "\n",
        "axs[1,0].hist(df_notas.query(f'filmeId=={idSample3[0][0]}')['Avaliacao'])\n",
        "axs[1,0].set_title('Histograma de avaliações do {}'.format(idSample3[0][1]))\n",
        "\n",
        "axs[1,1].boxplot(df_notas.query(f'filmeId=={idSample3[0][0]}')['Avaliacao'])\n",
        "axs[1,1].set_title('Boxplot de avaliações do {}'.format(idSample3[0][1]))\n",
        "\n",
        "axs[2,0].hist(df_notas.query(f'filmeId=={idSample[0][0]}')['Avaliacao'])\n",
        "axs[2,0].set_title('Histograma de avaliações do {}'.format(idSample[0][1]))\n",
        "axs[2,0].set_xlim(0.1,5.25)\n",
        "\n",
        "axs[2,1].boxplot(df_notas.query(f'filmeId=={idSample[0][0]}')['Avaliacao'])\n",
        "axs[2,1].set_title('Boxplot de avaliações do {}'.format(idSample[0][1]))\n",
        "axs[2,1].set_ylim(0,5)\n",
        "\n",
        "plt.show()"
      ],
      "execution_count": 21,
      "outputs": [
        {
          "output_type": "display_data",
          "data": {
            "image/png": "[encoded data removed]",
            "text/plain": [
              "<Figure size 1440x1440 with 6 Axes>"
            ]
          },
          "metadata": {
            "tags": []
          }
        }
      ]
    },
    {
      "cell_type": "markdown",
      "metadata": {
        "id": "uYy-1SGnMkfR",
        "colab_type": "text"
      },
      "source": [
        "## Desafio 7: [Thiago Gonçalves](https://twitter.com/tgcsantos)\n",
        "Criar um gráfico de notas médias por ano (média geral considerando todos os filmes lançados naquele ano)."
      ]
    },
    {
      "cell_type": "code",
      "metadata": {
        "id": "HEI7eNKrMtrT",
        "colab_type": "code",
        "colab": {}
      },
      "source": [
        "df_ano_lancamento = pd.DataFrame(columns=['filmeId', 'Ano'])\n",
        "for row, ano in df_filmes.iterrows():\n",
        "  df_ano_lancamento.loc[row, 'filmeId'] = ano['filmeId']\n",
        "  try:\n",
        "    df_ano_lancamento.loc[row, 'Ano'] = ano['Titulo'].replace(' ','')[-5:-1]\n",
        "  except:\n",
        "    pass"
      ],
      "execution_count": 0,
      "outputs": []
    },
    {
      "cell_type": "code",
      "metadata": {
        "id": "w-gMRl0-ZiVn",
        "colab_type": "code",
        "colab": {
          "base_uri": "https://localhost:8080/",
          "height": 450
        },
        "outputId": "32a2e773-8a4a-48b1-9201-2f739d45de66"
      },
      "source": [
        "round(df_ano_lancamento.groupby('Ano').mean(),2)"
      ],
      "execution_count": 28,
      "outputs": [
        {
          "output_type": "execute_result",
          "data": {
            "text/html": [
              "<div>\n",
              "<style scoped>\n",
              "    .dataframe tbody tr th:only-of-type {\n",
              "        vertical-align: middle;\n",
              "    }\n",
              "\n",
              "    .dataframe tbody tr th {\n",
              "        vertical-align: top;\n",
              "    }\n",
              "\n",
              "    .dataframe thead th {\n",
              "        text-align: right;\n",
              "    }\n",
              "</style>\n",
              "<table border=\"1\" class=\"dataframe\">\n",
              "  <thead>\n",
              "    <tr style=\"text-align: right;\">\n",
              "      <th></th>\n",
              "      <th>Avaliacao</th>\n",
              "    </tr>\n",
              "    <tr>\n",
              "      <th>Ano</th>\n",
              "      <th></th>\n",
              "    </tr>\n",
              "  </thead>\n",
              "  <tbody>\n",
              "    <tr>\n",
              "      <th>1902</th>\n",
              "      <td>3.50</td>\n",
              "    </tr>\n",
              "    <tr>\n",
              "      <th>1903</th>\n",
              "      <td>2.50</td>\n",
              "    </tr>\n",
              "    <tr>\n",
              "      <th>1908</th>\n",
              "      <td>4.00</td>\n",
              "    </tr>\n",
              "    <tr>\n",
              "      <th>1915</th>\n",
              "      <td>2.00</td>\n",
              "    </tr>\n",
              "    <tr>\n",
              "      <th>1916</th>\n",
              "      <td>3.60</td>\n",
              "    </tr>\n",
              "    <tr>\n",
              "      <th>...</th>\n",
              "      <td>...</td>\n",
              "    </tr>\n",
              "    <tr>\n",
              "      <th>2014</th>\n",
              "      <td>3.51</td>\n",
              "    </tr>\n",
              "    <tr>\n",
              "      <th>2015</th>\n",
              "      <td>3.41</td>\n",
              "    </tr>\n",
              "    <tr>\n",
              "      <th>2016</th>\n",
              "      <td>3.39</td>\n",
              "    </tr>\n",
              "    <tr>\n",
              "      <th>2017</th>\n",
              "      <td>3.58</td>\n",
              "    </tr>\n",
              "    <tr>\n",
              "      <th>2018</th>\n",
              "      <td>3.48</td>\n",
              "    </tr>\n",
              "  </tbody>\n",
              "</table>\n",
              "<p>106 rows × 1 columns</p>\n",
              "</div>"
            ],
            "text/plain": [
              "      Avaliacao\n",
              "Ano            \n",
              "1902       3.50\n",
              "1903       2.50\n",
              "1908       4.00\n",
              "1915       2.00\n",
              "1916       3.60\n",
              "...         ...\n",
              "2014       3.51\n",
              "2015       3.41\n",
              "2016       3.39\n",
              "2017       3.58\n",
              "2018       3.48\n",
              "\n",
              "[106 rows x 1 columns]"
            ]
          },
          "metadata": {
            "tags": []
          },
          "execution_count": 28
        }
      ]
    },
    {
      "cell_type": "code",
      "metadata": {
        "id": "NGzIM7exJVu9",
        "colab_type": "code",
        "colab": {
          "base_uri": "https://localhost:8080/",
          "height": 576
        },
        "outputId": "36a3a64a-8c1e-45bc-eea4-3a4da7da9238"
      },
      "source": [
        "df_ano_lancamento[df_ano_lancamento['Ano'].isna()]"
      ],
      "execution_count": 24,
      "outputs": [
        {
          "output_type": "execute_result",
          "data": {
            "text/html": [
              "<div>\n",
              "<style scoped>\n",
              "    .dataframe tbody tr th:only-of-type {\n",
              "        vertical-align: middle;\n",
              "    }\n",
              "\n",
              "    .dataframe tbody tr th {\n",
              "        vertical-align: top;\n",
              "    }\n",
              "\n",
              "    .dataframe thead th {\n",
              "        text-align: right;\n",
              "    }\n",
              "</style>\n",
              "<table border=\"1\" class=\"dataframe\">\n",
              "  <thead>\n",
              "    <tr style=\"text-align: right;\">\n",
              "      <th></th>\n",
              "      <th>filmeId</th>\n",
              "      <th>Ano</th>\n",
              "      <th>Avaliacao</th>\n",
              "    </tr>\n",
              "  </thead>\n",
              "  <tbody>\n",
              "    <tr>\n",
              "      <th>81309</th>\n",
              "      <td>40697</td>\n",
              "      <td>NaN</td>\n",
              "      <td>4.0</td>\n",
              "    </tr>\n",
              "    <tr>\n",
              "      <th>81310</th>\n",
              "      <td>40697</td>\n",
              "      <td>NaN</td>\n",
              "      <td>0.5</td>\n",
              "    </tr>\n",
              "    <tr>\n",
              "      <th>99343</th>\n",
              "      <td>140956</td>\n",
              "      <td>NaN</td>\n",
              "      <td>3.5</td>\n",
              "    </tr>\n",
              "    <tr>\n",
              "      <th>99344</th>\n",
              "      <td>140956</td>\n",
              "      <td>NaN</td>\n",
              "      <td>4.5</td>\n",
              "    </tr>\n",
              "    <tr>\n",
              "      <th>99345</th>\n",
              "      <td>140956</td>\n",
              "      <td>NaN</td>\n",
              "      <td>3.0</td>\n",
              "    </tr>\n",
              "    <tr>\n",
              "      <th>99346</th>\n",
              "      <td>140956</td>\n",
              "      <td>NaN</td>\n",
              "      <td>3.0</td>\n",
              "    </tr>\n",
              "    <tr>\n",
              "      <th>99477</th>\n",
              "      <td>143410</td>\n",
              "      <td>NaN</td>\n",
              "      <td>2.0</td>\n",
              "    </tr>\n",
              "    <tr>\n",
              "      <th>99544</th>\n",
              "      <td>147250</td>\n",
              "      <td>NaN</td>\n",
              "      <td>5.0</td>\n",
              "    </tr>\n",
              "    <tr>\n",
              "      <th>99635</th>\n",
              "      <td>149334</td>\n",
              "      <td>NaN</td>\n",
              "      <td>3.0</td>\n",
              "    </tr>\n",
              "    <tr>\n",
              "      <th>99817</th>\n",
              "      <td>156605</td>\n",
              "      <td>NaN</td>\n",
              "      <td>4.5</td>\n",
              "    </tr>\n",
              "    <tr>\n",
              "      <th>100069</th>\n",
              "      <td>162414</td>\n",
              "      <td>NaN</td>\n",
              "      <td>5.0</td>\n",
              "    </tr>\n",
              "    <tr>\n",
              "      <th>100287</th>\n",
              "      <td>167570</td>\n",
              "      <td>NaN</td>\n",
              "      <td>4.0</td>\n",
              "    </tr>\n",
              "    <tr>\n",
              "      <th>100444</th>\n",
              "      <td>171495</td>\n",
              "      <td>NaN</td>\n",
              "      <td>5.0</td>\n",
              "    </tr>\n",
              "    <tr>\n",
              "      <th>100445</th>\n",
              "      <td>171495</td>\n",
              "      <td>NaN</td>\n",
              "      <td>4.0</td>\n",
              "    </tr>\n",
              "    <tr>\n",
              "      <th>100446</th>\n",
              "      <td>171631</td>\n",
              "      <td>NaN</td>\n",
              "      <td>1.0</td>\n",
              "    </tr>\n",
              "    <tr>\n",
              "      <th>100466</th>\n",
              "      <td>171891</td>\n",
              "      <td>NaN</td>\n",
              "      <td>3.5</td>\n",
              "    </tr>\n",
              "    <tr>\n",
              "      <th>100619</th>\n",
              "      <td>176601</td>\n",
              "      <td>NaN</td>\n",
              "      <td>5.0</td>\n",
              "    </tr>\n",
              "  </tbody>\n",
              "</table>\n",
              "</div>"
            ],
            "text/plain": [
              "       filmeId  Ano  Avaliacao\n",
              "81309    40697  NaN        4.0\n",
              "81310    40697  NaN        0.5\n",
              "99343   140956  NaN        3.5\n",
              "99344   140956  NaN        4.5\n",
              "99345   140956  NaN        3.0\n",
              "99346   140956  NaN        3.0\n",
              "99477   143410  NaN        2.0\n",
              "99544   147250  NaN        5.0\n",
              "99635   149334  NaN        3.0\n",
              "99817   156605  NaN        4.5\n",
              "100069  162414  NaN        5.0\n",
              "100287  167570  NaN        4.0\n",
              "100444  171495  NaN        5.0\n",
              "100445  171495  NaN        4.0\n",
              "100446  171631  NaN        1.0\n",
              "100466  171891  NaN        3.5\n",
              "100619  176601  NaN        5.0"
            ]
          },
          "metadata": {
            "tags": []
          },
          "execution_count": 24
        }
      ]
    }
  ]
}