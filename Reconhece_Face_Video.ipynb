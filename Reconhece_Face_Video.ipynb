{
  "nbformat": 4,
  "nbformat_minor": 0,
  "metadata": {
    "colab": {
      "name": "Reconhece_Face-Video.ipynb",
      "provenance": [],
      "authorship_tag": "ABX9TyNbU4cv7KsWycY0Oblrr1zt",
      "include_colab_link": true
    },
    "kernelspec": {
      "name": "python3",
      "display_name": "Python 3"
    }
  },
  "cells": [
    {
      "cell_type": "markdown",
      "metadata": {
        "id": "view-in-github",
        "colab_type": "text"
      },
      "source": [
        "<a href=\"https://colab.research.google.com/github/AndrehAguiar/POS-Graduacao-Inteligecia_Artificial-Ciencia_de_Dados/blob/master/Reconhece_Face_Video.ipynb\" target=\"_parent\"><img src=\"https://colab.research.google.com/assets/colab-badge.svg\" alt=\"Open In Colab\"/></a>"
      ]
    },
    {
      "cell_type": "code",
      "metadata": {
        "id": "WP0RW2RXY4HY",
        "colab_type": "code",
        "outputId": "5ba12a54-6335-4a41-8f17-9499f0bc7290",
        "colab": {
          "base_uri": "https://localhost:8080/",
          "height": 34
        }
      },
      "source": [
        "# -*- coding: UTF-8 -*-\n",
        "from google.colab.patches import cv2_imshow\n",
        "import numpy as np\n",
        "import cv2\n",
        "from matplotlib import pyplot as plt\n",
        "plt.rcParams['figure.figsize'] = (224, 224)\n",
        "from IPython.display import Image\n",
        "import os\n",
        "from google.colab import drive\n",
        "drive.mount('/content/drive', force_remount=True)"
      ],
      "execution_count": 30,
      "outputs": [
        {
          "output_type": "stream",
          "text": [
            "Mounted at /content/drive\n"
          ],
          "name": "stdout"
        }
      ]
    },
    {
      "cell_type": "code",
      "metadata": {
        "id": "dDn2gv7tMc0N",
        "colab_type": "code",
        "colab": {}
      },
      "source": [
        "def main():\n",
        "  \n",
        "  face_cascade = cv2.CascadeClassifier('/content/drive/My Drive/Colab Notebooks/Reconhecimento Facial/modelo/haarcascade_frontalface_default.xml')\n",
        "  video = cv2.VideoCapture('/content/drive/My Drive/Colab Notebooks/Reconhecimento Facial/imagem/video.flv')\n",
        "  \n",
        "  i = 0\n",
        "  while(True):\n",
        "    \n",
        "    frameExiste, frame = video.read() \n",
        " \n",
        "    if(frameExiste == False):\n",
        "      \n",
        "      return video.release()\n",
        "\n",
        "    gray = cv2.cvtColor(frame, cv2.COLOR_BGR2GRAY)\n",
        "\n",
        "    faces = face_cascade.detectMultiScale(\n",
        "        gray,\n",
        "        scaleFactor=1.1,\n",
        "        minNeighbors=6,\n",
        "        minSize=(100, 100)\n",
        "      )\n",
        "  \n",
        "    # Desenha um retângulo nas faces detectadas\n",
        "    for (x, y, w, h) in faces:\n",
        "        frame = cv2.rectangle(frame, (x, y), (x+w, y+h), (0, 255, 0), 2)\n",
        "\n",
        "    cv2.imshow('deteccao', frame) #mostra a imagem captura na janela\n",
        "    cv2.imwrite('kang'+str(i)+'.jpg',frame)\n",
        "    i+=1\n",
        "    #o trecho seguinte é apenas para parar o código e fechar a janela\n",
        "    if cv2.waitKey(1) & 0xFF == ord('q'):\n",
        "        break\n",
        "  \n",
        "  video.release()\n",
        "  cv2.destroyAllWindows() #fecha todas a janelas abertas\n",
        "\n",
        "if __name__ == \"__main__\":\n",
        "  main()"
      ],
      "execution_count": 0,
      "outputs": []
    }
  ]
}