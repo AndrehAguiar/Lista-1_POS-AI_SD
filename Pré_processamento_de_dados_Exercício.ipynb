{
  "nbformat": 4,
  "nbformat_minor": 0,
  "metadata": {
    "colab": {
      "name": "Pré-processamento de dados - Exercício.ipynb",
      "provenance": [],
      "collapsed_sections": [],
      "include_colab_link": true
    },
    "kernelspec": {
      "display_name": "Python 3",
      "language": "python",
      "name": "python3"
    },
    "language_info": {
      "codemirror_mode": {
        "name": "ipython",
        "version": 3
      },
      "file_extension": ".py",
      "mimetype": "text/x-python",
      "name": "python",
      "nbconvert_exporter": "python",
      "pygments_lexer": "ipython3",
      "version": "3.7.0"
    }
  },
  "cells": [
    {
      "cell_type": "markdown",
      "metadata": {
        "id": "view-in-github",
        "colab_type": "text"
      },
      "source": [
        "<a href=\"https://colab.research.google.com/github/AndrehAguiar/Lista-1_POS-AI_SD/blob/master/Pr%C3%A9_processamento_de_dados_Exerc%C3%ADcio.ipynb\" target=\"_parent\"><img src=\"https://colab.research.google.com/assets/colab-badge.svg\" alt=\"Open In Colab\"/></a>"
      ]
    },
    {
      "cell_type": "markdown",
      "metadata": {
        "colab_type": "text",
        "deletable": false,
        "editable": false,
        "id": "PDsi3-sMG2by",
        "nbgrader": {
          "checksum": "38fd99a0752804fa58a04ee088c6b296",
          "grade": false,
          "grade_id": "localiza",
          "locked": true,
          "schema_version": 1,
          "solution": false
        }
      },
      "source": [
        "![](unimed.png)"
      ]
    },
    {
      "cell_type": "markdown",
      "metadata": {
        "colab_type": "text",
        "deletable": false,
        "editable": false,
        "id": "01OoJRv6G2b1",
        "nbgrader": {
          "checksum": "7394abfef286a14f0028e27029cdddc7",
          "grade": false,
          "grade_id": "cell-6f19b61b28f97b3d",
          "locked": true,
          "schema_version": 1,
          "solution": false
        }
      },
      "source": [
        "---\n",
        "## Pré-processamento de dados\n",
        "\n",
        "Neste hands-on, queremos aplicar técnicas de pré-processamento de dados para nos auxiliar em tarefas futuras."
      ]
    },
    {
      "cell_type": "code",
      "metadata": {
        "colab_type": "code",
        "deletable": false,
        "editable": false,
        "id": "YApG2tX2G2b3",
        "nbgrader": {
          "checksum": "3d6bc6467e585480a4e7be4c5176e501",
          "grade": false,
          "grade_id": "RO_bibliotecas",
          "locked": true,
          "schema_version": 1,
          "solution": false
        },
        "outputId": "902e9744-5686-4e42-a131-5eecbc87c11f",
        "colab": {
          "base_uri": "https://localhost:8080/",
          "height": 33
        }
      },
      "source": [
        "import pandas as pd\n",
        "from sklearn.decomposition import PCA\n",
        "import matplotlib.pyplot as plt\n",
        "from google.colab import drive\n",
        "drive.mount('/content/drive', force_remount=True)\n",
        "arquivo = \"/content/drive/My Drive/Colab Notebooks/CSVs/titanic.csv\"\n",
        "df = pd.read_csv(arquivo)"
      ],
      "execution_count": 9,
      "outputs": [
        {
          "output_type": "stream",
          "text": [
            "Mounted at /content/drive\n"
          ],
          "name": "stdout"
        }
      ]
    },
    {
      "cell_type": "markdown",
      "metadata": {
        "colab_type": "text",
        "deletable": false,
        "editable": false,
        "id": "qMeuqe2iG2b_",
        "nbgrader": {
          "checksum": "7394abfef286a14f0028e27029cdddc7",
          "grade": false,
          "grade_id": "cell-6f19b61b28f97b3d",
          "locked": true,
          "schema_version": 1,
          "solution": false
        }
      },
      "source": [
        "## Parte 1 - Titanic\n",
        "\n",
        "Nesta primeira parte, vamos focar principalmente nas tarefas de limpeza e transformação de dados. Vamos utilizar novamente os dados dos passageiros do Titanic que estão disponíveis no arquivo **titanic_data.csv**.\n",
        "\n",
        "Primeiro precisamos fazer a leitura do arquivo, para isso utlizaremos a função do pandas **read_csv('nome_do_arquivo.csv')**, que faz a leitura dos dados e os armazena em um DataFrame."
      ]
    },
    {
      "cell_type": "code",
      "metadata": {
        "colab_type": "code",
        "id": "lbwDjcRUG2cB",
        "outputId": "0ed2b27e-29a0-48db-d9ee-baba73dd936d",
        "colab": {
          "base_uri": "https://localhost:8080/",
          "height": 247
        }
      },
      "source": [
        "\"\"\"Faça a leitura do arquivo salvando seu conteúdo na variável titanic e depois visualize suas 5 primeiras linhas\"\"\"\n",
        "\n",
        "# YOUR CODE HERE\n",
        "df.head(5)\n",
        "# raise NotImplementedError()"
      ],
      "execution_count": 10,
      "outputs": [
        {
          "output_type": "execute_result",
          "data": {
            "text/html": [
              "<div>\n",
              "<style scoped>\n",
              "    .dataframe tbody tr th:only-of-type {\n",
              "        vertical-align: middle;\n",
              "    }\n",
              "\n",
              "    .dataframe tbody tr th {\n",
              "        vertical-align: top;\n",
              "    }\n",
              "\n",
              "    .dataframe thead th {\n",
              "        text-align: right;\n",
              "    }\n",
              "</style>\n",
              "<table border=\"1\" class=\"dataframe\">\n",
              "  <thead>\n",
              "    <tr style=\"text-align: right;\">\n",
              "      <th></th>\n",
              "      <th>PassengerId</th>\n",
              "      <th>Survived</th>\n",
              "      <th>Pclass</th>\n",
              "      <th>Name</th>\n",
              "      <th>Sex</th>\n",
              "      <th>Age</th>\n",
              "      <th>SibSp</th>\n",
              "      <th>Parch</th>\n",
              "      <th>Ticket</th>\n",
              "      <th>Fare</th>\n",
              "      <th>Cabin</th>\n",
              "      <th>Embarked</th>\n",
              "    </tr>\n",
              "  </thead>\n",
              "  <tbody>\n",
              "    <tr>\n",
              "      <th>0</th>\n",
              "      <td>1</td>\n",
              "      <td>0</td>\n",
              "      <td>3</td>\n",
              "      <td>Braund, Mr. Owen Harris</td>\n",
              "      <td>male</td>\n",
              "      <td>22.0</td>\n",
              "      <td>1</td>\n",
              "      <td>0</td>\n",
              "      <td>A/5 21171</td>\n",
              "      <td>7.2500</td>\n",
              "      <td>NaN</td>\n",
              "      <td>S</td>\n",
              "    </tr>\n",
              "    <tr>\n",
              "      <th>1</th>\n",
              "      <td>2</td>\n",
              "      <td>1</td>\n",
              "      <td>1</td>\n",
              "      <td>Cumings, Mrs. John Bradley (Florence Briggs Th...</td>\n",
              "      <td>female</td>\n",
              "      <td>38.0</td>\n",
              "      <td>1</td>\n",
              "      <td>0</td>\n",
              "      <td>PC 17599</td>\n",
              "      <td>71.2833</td>\n",
              "      <td>C85</td>\n",
              "      <td>C</td>\n",
              "    </tr>\n",
              "    <tr>\n",
              "      <th>2</th>\n",
              "      <td>3</td>\n",
              "      <td>1</td>\n",
              "      <td>3</td>\n",
              "      <td>Heikkinen, Miss. Laina</td>\n",
              "      <td>female</td>\n",
              "      <td>26.0</td>\n",
              "      <td>0</td>\n",
              "      <td>0</td>\n",
              "      <td>STON/O2. 3101282</td>\n",
              "      <td>7.9250</td>\n",
              "      <td>NaN</td>\n",
              "      <td>S</td>\n",
              "    </tr>\n",
              "    <tr>\n",
              "      <th>3</th>\n",
              "      <td>4</td>\n",
              "      <td>1</td>\n",
              "      <td>1</td>\n",
              "      <td>Futrelle, Mrs. Jacques Heath (Lily May Peel)</td>\n",
              "      <td>female</td>\n",
              "      <td>35.0</td>\n",
              "      <td>1</td>\n",
              "      <td>0</td>\n",
              "      <td>113803</td>\n",
              "      <td>53.1000</td>\n",
              "      <td>C123</td>\n",
              "      <td>S</td>\n",
              "    </tr>\n",
              "    <tr>\n",
              "      <th>4</th>\n",
              "      <td>5</td>\n",
              "      <td>0</td>\n",
              "      <td>3</td>\n",
              "      <td>Allen, Mr. William Henry</td>\n",
              "      <td>male</td>\n",
              "      <td>35.0</td>\n",
              "      <td>0</td>\n",
              "      <td>0</td>\n",
              "      <td>373450</td>\n",
              "      <td>8.0500</td>\n",
              "      <td>NaN</td>\n",
              "      <td>S</td>\n",
              "    </tr>\n",
              "  </tbody>\n",
              "</table>\n",
              "</div>"
            ],
            "text/plain": [
              "   PassengerId  Survived  Pclass  ...     Fare Cabin  Embarked\n",
              "0            1         0       3  ...   7.2500   NaN         S\n",
              "1            2         1       1  ...  71.2833   C85         C\n",
              "2            3         1       3  ...   7.9250   NaN         S\n",
              "3            4         1       1  ...  53.1000  C123         S\n",
              "4            5         0       3  ...   8.0500   NaN         S\n",
              "\n",
              "[5 rows x 12 columns]"
            ]
          },
          "metadata": {
            "tags": []
          },
          "execution_count": 10
        }
      ]
    },
    {
      "cell_type": "code",
      "metadata": {
        "colab_type": "code",
        "id": "NEUczoRIG2cF",
        "outputId": "e6626fb7-c548-4eaf-e2af-8a9106b2d044",
        "colab": {
          "base_uri": "https://localhost:8080/",
          "height": 447
        }
      },
      "source": [
        "\"\"\"Renomeie as colunas do DataFrame para facilitar o entendimento\"\"\"\n",
        "\n",
        "df.columns = ['IdPassageiro','Sobreviveu?','Classe','Nome','Sexo','Idade','Irmãos/Cônjuge','Pais/Crianças','Bilhete','Tarifa','Cabine','Embarque']\n",
        "df.head()"
      ],
      "execution_count": 11,
      "outputs": [
        {
          "output_type": "execute_result",
          "data": {
            "text/html": [
              "<div>\n",
              "<style scoped>\n",
              "    .dataframe tbody tr th:only-of-type {\n",
              "        vertical-align: middle;\n",
              "    }\n",
              "\n",
              "    .dataframe tbody tr th {\n",
              "        vertical-align: top;\n",
              "    }\n",
              "\n",
              "    .dataframe thead th {\n",
              "        text-align: right;\n",
              "    }\n",
              "</style>\n",
              "<table border=\"1\" class=\"dataframe\">\n",
              "  <thead>\n",
              "    <tr style=\"text-align: right;\">\n",
              "      <th></th>\n",
              "      <th>IdPassageiro</th>\n",
              "      <th>Sobreviveu?</th>\n",
              "      <th>Classe</th>\n",
              "      <th>Nome</th>\n",
              "      <th>Sexo</th>\n",
              "      <th>Idade</th>\n",
              "      <th>Irmãos/Cônjuge</th>\n",
              "      <th>Pais/Crianças</th>\n",
              "      <th>Bilhete</th>\n",
              "      <th>Tarifa</th>\n",
              "      <th>Cabine</th>\n",
              "      <th>Embarque</th>\n",
              "    </tr>\n",
              "  </thead>\n",
              "  <tbody>\n",
              "    <tr>\n",
              "      <th>0</th>\n",
              "      <td>1</td>\n",
              "      <td>0</td>\n",
              "      <td>3</td>\n",
              "      <td>Braund, Mr. Owen Harris</td>\n",
              "      <td>male</td>\n",
              "      <td>22.0</td>\n",
              "      <td>1</td>\n",
              "      <td>0</td>\n",
              "      <td>A/5 21171</td>\n",
              "      <td>7.2500</td>\n",
              "      <td>NaN</td>\n",
              "      <td>S</td>\n",
              "    </tr>\n",
              "    <tr>\n",
              "      <th>1</th>\n",
              "      <td>2</td>\n",
              "      <td>1</td>\n",
              "      <td>1</td>\n",
              "      <td>Cumings, Mrs. John Bradley (Florence Briggs Th...</td>\n",
              "      <td>female</td>\n",
              "      <td>38.0</td>\n",
              "      <td>1</td>\n",
              "      <td>0</td>\n",
              "      <td>PC 17599</td>\n",
              "      <td>71.2833</td>\n",
              "      <td>C85</td>\n",
              "      <td>C</td>\n",
              "    </tr>\n",
              "    <tr>\n",
              "      <th>2</th>\n",
              "      <td>3</td>\n",
              "      <td>1</td>\n",
              "      <td>3</td>\n",
              "      <td>Heikkinen, Miss. Laina</td>\n",
              "      <td>female</td>\n",
              "      <td>26.0</td>\n",
              "      <td>0</td>\n",
              "      <td>0</td>\n",
              "      <td>STON/O2. 3101282</td>\n",
              "      <td>7.9250</td>\n",
              "      <td>NaN</td>\n",
              "      <td>S</td>\n",
              "    </tr>\n",
              "    <tr>\n",
              "      <th>3</th>\n",
              "      <td>4</td>\n",
              "      <td>1</td>\n",
              "      <td>1</td>\n",
              "      <td>Futrelle, Mrs. Jacques Heath (Lily May Peel)</td>\n",
              "      <td>female</td>\n",
              "      <td>35.0</td>\n",
              "      <td>1</td>\n",
              "      <td>0</td>\n",
              "      <td>113803</td>\n",
              "      <td>53.1000</td>\n",
              "      <td>C123</td>\n",
              "      <td>S</td>\n",
              "    </tr>\n",
              "    <tr>\n",
              "      <th>4</th>\n",
              "      <td>5</td>\n",
              "      <td>0</td>\n",
              "      <td>3</td>\n",
              "      <td>Allen, Mr. William Henry</td>\n",
              "      <td>male</td>\n",
              "      <td>35.0</td>\n",
              "      <td>0</td>\n",
              "      <td>0</td>\n",
              "      <td>373450</td>\n",
              "      <td>8.0500</td>\n",
              "      <td>NaN</td>\n",
              "      <td>S</td>\n",
              "    </tr>\n",
              "  </tbody>\n",
              "</table>\n",
              "</div>"
            ],
            "text/plain": [
              "   IdPassageiro  Sobreviveu?  Classe  ...   Tarifa Cabine  Embarque\n",
              "0             1            0       3  ...   7.2500    NaN         S\n",
              "1             2            1       1  ...  71.2833    C85         C\n",
              "2             3            1       3  ...   7.9250    NaN         S\n",
              "3             4            1       1  ...  53.1000   C123         S\n",
              "4             5            0       3  ...   8.0500    NaN         S\n",
              "\n",
              "[5 rows x 12 columns]"
            ]
          },
          "metadata": {
            "tags": []
          },
          "execution_count": 11
        }
      ]
    },
    {
      "cell_type": "code",
      "metadata": {
        "colab_type": "code",
        "id": "kN98LvgFG2cJ",
        "scrolled": true,
        "outputId": "3bdd7db5-6eec-482e-9e5f-3b527c3c9941",
        "colab": {
          "base_uri": "https://localhost:8080/",
          "height": 233
        }
      },
      "source": [
        "\"\"\"Verifique os tipos de cada coluna do dataframe com o auxilio do atributo dtypes\"\"\"\n",
        "\n",
        "# YOUR CODE HERE\n",
        "df.dtypes\n",
        "#raise NotImplementedError()"
      ],
      "execution_count": 12,
      "outputs": [
        {
          "output_type": "execute_result",
          "data": {
            "text/plain": [
              "IdPassageiro        int64\n",
              "Sobreviveu?         int64\n",
              "Classe              int64\n",
              "Nome               object\n",
              "Sexo               object\n",
              "Idade             float64\n",
              "Irmãos/Cônjuge      int64\n",
              "Pais/Crianças       int64\n",
              "Bilhete            object\n",
              "Tarifa            float64\n",
              "Cabine             object\n",
              "Embarque           object\n",
              "dtype: object"
            ]
          },
          "metadata": {
            "tags": []
          },
          "execution_count": 12
        }
      ]
    },
    {
      "cell_type": "code",
      "metadata": {
        "colab_type": "code",
        "id": "h_FdQi_4G2cN",
        "outputId": "30724dea-858c-4a09-d017-f5629392ebe0",
        "colab": {
          "base_uri": "https://localhost:8080/",
          "height": 197
        }
      },
      "source": [
        "\"\"\"Remova as colunas IdPassageiro, Bilhete e Cabine do DataFrame\"\"\"\n",
        "\n",
        "# YOUR CODE HERE\n",
        "df.drop(['IdPassageiro', 'Bilhete', 'Cabine'], inplace=True, axis=1)\n",
        "df.head()\n",
        "# raise NotImplementedError()"
      ],
      "execution_count": 13,
      "outputs": [
        {
          "output_type": "execute_result",
          "data": {
            "text/html": [
              "<div>\n",
              "<style scoped>\n",
              "    .dataframe tbody tr th:only-of-type {\n",
              "        vertical-align: middle;\n",
              "    }\n",
              "\n",
              "    .dataframe tbody tr th {\n",
              "        vertical-align: top;\n",
              "    }\n",
              "\n",
              "    .dataframe thead th {\n",
              "        text-align: right;\n",
              "    }\n",
              "</style>\n",
              "<table border=\"1\" class=\"dataframe\">\n",
              "  <thead>\n",
              "    <tr style=\"text-align: right;\">\n",
              "      <th></th>\n",
              "      <th>Sobreviveu?</th>\n",
              "      <th>Classe</th>\n",
              "      <th>Nome</th>\n",
              "      <th>Sexo</th>\n",
              "      <th>Idade</th>\n",
              "      <th>Irmãos/Cônjuge</th>\n",
              "      <th>Pais/Crianças</th>\n",
              "      <th>Tarifa</th>\n",
              "      <th>Embarque</th>\n",
              "    </tr>\n",
              "  </thead>\n",
              "  <tbody>\n",
              "    <tr>\n",
              "      <th>0</th>\n",
              "      <td>0</td>\n",
              "      <td>3</td>\n",
              "      <td>Braund, Mr. Owen Harris</td>\n",
              "      <td>male</td>\n",
              "      <td>22.0</td>\n",
              "      <td>1</td>\n",
              "      <td>0</td>\n",
              "      <td>7.2500</td>\n",
              "      <td>S</td>\n",
              "    </tr>\n",
              "    <tr>\n",
              "      <th>1</th>\n",
              "      <td>1</td>\n",
              "      <td>1</td>\n",
              "      <td>Cumings, Mrs. John Bradley (Florence Briggs Th...</td>\n",
              "      <td>female</td>\n",
              "      <td>38.0</td>\n",
              "      <td>1</td>\n",
              "      <td>0</td>\n",
              "      <td>71.2833</td>\n",
              "      <td>C</td>\n",
              "    </tr>\n",
              "    <tr>\n",
              "      <th>2</th>\n",
              "      <td>1</td>\n",
              "      <td>3</td>\n",
              "      <td>Heikkinen, Miss. Laina</td>\n",
              "      <td>female</td>\n",
              "      <td>26.0</td>\n",
              "      <td>0</td>\n",
              "      <td>0</td>\n",
              "      <td>7.9250</td>\n",
              "      <td>S</td>\n",
              "    </tr>\n",
              "    <tr>\n",
              "      <th>3</th>\n",
              "      <td>1</td>\n",
              "      <td>1</td>\n",
              "      <td>Futrelle, Mrs. Jacques Heath (Lily May Peel)</td>\n",
              "      <td>female</td>\n",
              "      <td>35.0</td>\n",
              "      <td>1</td>\n",
              "      <td>0</td>\n",
              "      <td>53.1000</td>\n",
              "      <td>S</td>\n",
              "    </tr>\n",
              "    <tr>\n",
              "      <th>4</th>\n",
              "      <td>0</td>\n",
              "      <td>3</td>\n",
              "      <td>Allen, Mr. William Henry</td>\n",
              "      <td>male</td>\n",
              "      <td>35.0</td>\n",
              "      <td>0</td>\n",
              "      <td>0</td>\n",
              "      <td>8.0500</td>\n",
              "      <td>S</td>\n",
              "    </tr>\n",
              "  </tbody>\n",
              "</table>\n",
              "</div>"
            ],
            "text/plain": [
              "   Sobreviveu?  Classe  ...   Tarifa Embarque\n",
              "0            0       3  ...   7.2500        S\n",
              "1            1       1  ...  71.2833        C\n",
              "2            1       3  ...   7.9250        S\n",
              "3            1       1  ...  53.1000        S\n",
              "4            0       3  ...   8.0500        S\n",
              "\n",
              "[5 rows x 9 columns]"
            ]
          },
          "metadata": {
            "tags": []
          },
          "execution_count": 13
        }
      ]
    },
    {
      "cell_type": "markdown",
      "metadata": {
        "colab_type": "text",
        "deletable": false,
        "editable": false,
        "id": "OZA0IfXRG2cQ",
        "nbgrader": {
          "checksum": "7394abfef286a14f0028e27029cdddc7",
          "grade": false,
          "grade_id": "cell-6f19b61b28f97b3d",
          "locked": true,
          "schema_version": 1,
          "solution": false
        }
      },
      "source": [
        "Quando estamos trabalhando com dados, é importante saber algumas informações importantes sobre eles. Por exemplo, valores máximo e mínimo de cada atributo, sua média, desvio padrão, dentre outras. A função `describe` do pandas nos ajuda com essa tarefa."
      ]
    },
    {
      "cell_type": "code",
      "metadata": {
        "colab_type": "code",
        "id": "zccSiPdRG2cS",
        "outputId": "0afa3afa-f8ab-4d78-cf64-ceeeb39e6bcd",
        "colab": {
          "base_uri": "https://localhost:8080/",
          "height": 287
        }
      },
      "source": [
        "\"\"\"Verifique as informações importantes dos atributos do dataframe do titanic\"\"\"\n",
        "\n",
        "# YOUR CODE HERE\n",
        "df.describe()\n",
        "#raise NotImplementedError()"
      ],
      "execution_count": 14,
      "outputs": [
        {
          "output_type": "execute_result",
          "data": {
            "text/html": [
              "<div>\n",
              "<style scoped>\n",
              "    .dataframe tbody tr th:only-of-type {\n",
              "        vertical-align: middle;\n",
              "    }\n",
              "\n",
              "    .dataframe tbody tr th {\n",
              "        vertical-align: top;\n",
              "    }\n",
              "\n",
              "    .dataframe thead th {\n",
              "        text-align: right;\n",
              "    }\n",
              "</style>\n",
              "<table border=\"1\" class=\"dataframe\">\n",
              "  <thead>\n",
              "    <tr style=\"text-align: right;\">\n",
              "      <th></th>\n",
              "      <th>Sobreviveu?</th>\n",
              "      <th>Classe</th>\n",
              "      <th>Idade</th>\n",
              "      <th>Irmãos/Cônjuge</th>\n",
              "      <th>Pais/Crianças</th>\n",
              "      <th>Tarifa</th>\n",
              "    </tr>\n",
              "  </thead>\n",
              "  <tbody>\n",
              "    <tr>\n",
              "      <th>count</th>\n",
              "      <td>891.000000</td>\n",
              "      <td>891.000000</td>\n",
              "      <td>714.000000</td>\n",
              "      <td>891.000000</td>\n",
              "      <td>891.000000</td>\n",
              "      <td>891.000000</td>\n",
              "    </tr>\n",
              "    <tr>\n",
              "      <th>mean</th>\n",
              "      <td>0.383838</td>\n",
              "      <td>2.308642</td>\n",
              "      <td>29.699118</td>\n",
              "      <td>0.523008</td>\n",
              "      <td>0.381594</td>\n",
              "      <td>32.204208</td>\n",
              "    </tr>\n",
              "    <tr>\n",
              "      <th>std</th>\n",
              "      <td>0.486592</td>\n",
              "      <td>0.836071</td>\n",
              "      <td>14.526497</td>\n",
              "      <td>1.102743</td>\n",
              "      <td>0.806057</td>\n",
              "      <td>49.693429</td>\n",
              "    </tr>\n",
              "    <tr>\n",
              "      <th>min</th>\n",
              "      <td>0.000000</td>\n",
              "      <td>1.000000</td>\n",
              "      <td>0.420000</td>\n",
              "      <td>0.000000</td>\n",
              "      <td>0.000000</td>\n",
              "      <td>0.000000</td>\n",
              "    </tr>\n",
              "    <tr>\n",
              "      <th>25%</th>\n",
              "      <td>0.000000</td>\n",
              "      <td>2.000000</td>\n",
              "      <td>20.125000</td>\n",
              "      <td>0.000000</td>\n",
              "      <td>0.000000</td>\n",
              "      <td>7.910400</td>\n",
              "    </tr>\n",
              "    <tr>\n",
              "      <th>50%</th>\n",
              "      <td>0.000000</td>\n",
              "      <td>3.000000</td>\n",
              "      <td>28.000000</td>\n",
              "      <td>0.000000</td>\n",
              "      <td>0.000000</td>\n",
              "      <td>14.454200</td>\n",
              "    </tr>\n",
              "    <tr>\n",
              "      <th>75%</th>\n",
              "      <td>1.000000</td>\n",
              "      <td>3.000000</td>\n",
              "      <td>38.000000</td>\n",
              "      <td>1.000000</td>\n",
              "      <td>0.000000</td>\n",
              "      <td>31.000000</td>\n",
              "    </tr>\n",
              "    <tr>\n",
              "      <th>max</th>\n",
              "      <td>1.000000</td>\n",
              "      <td>3.000000</td>\n",
              "      <td>80.000000</td>\n",
              "      <td>8.000000</td>\n",
              "      <td>6.000000</td>\n",
              "      <td>512.329200</td>\n",
              "    </tr>\n",
              "  </tbody>\n",
              "</table>\n",
              "</div>"
            ],
            "text/plain": [
              "       Sobreviveu?      Classe  ...  Pais/Crianças      Tarifa\n",
              "count   891.000000  891.000000  ...     891.000000  891.000000\n",
              "mean      0.383838    2.308642  ...       0.381594   32.204208\n",
              "std       0.486592    0.836071  ...       0.806057   49.693429\n",
              "min       0.000000    1.000000  ...       0.000000    0.000000\n",
              "25%       0.000000    2.000000  ...       0.000000    7.910400\n",
              "50%       0.000000    3.000000  ...       0.000000   14.454200\n",
              "75%       1.000000    3.000000  ...       0.000000   31.000000\n",
              "max       1.000000    3.000000  ...       6.000000  512.329200\n",
              "\n",
              "[8 rows x 6 columns]"
            ]
          },
          "metadata": {
            "tags": []
          },
          "execution_count": 14
        }
      ]
    },
    {
      "cell_type": "markdown",
      "metadata": {
        "colab_type": "text",
        "deletable": false,
        "editable": false,
        "id": "HtrN09a3G2cX",
        "nbgrader": {
          "checksum": "7394abfef286a14f0028e27029cdddc7",
          "grade": false,
          "grade_id": "cell-6f19b61b28f97b3d",
          "locked": true,
          "schema_version": 1,
          "solution": false
        }
      },
      "source": [
        "Observe que, apesar de o DataFrame possuir 891 registros, a coluna *idade* retorna uma quantidade de 714 registros. Isso pode ocorrer devido à presença de valores nulos/inválidos no conjunto de dados. No caso do Titanic, pode ser que a idade de certos passageiros fosse desconhecida ou não tenha sido recuperada.\n",
        "\n",
        "Dados faltantes ou incorretos acontecem com bastante frequência, e é nossa tarefa tratá-los da forma correta. Aqui, vamos definir a idade dos passageiros que estão faltando com o valor 0."
      ]
    },
    {
      "cell_type": "code",
      "metadata": {
        "colab_type": "code",
        "id": "BkJO-hNhG2ca",
        "scrolled": true,
        "outputId": "a5e6c7d8-9fc3-48f1-bc4d-546bb239830b",
        "colab": {
          "base_uri": "https://localhost:8080/",
          "height": 183
        }
      },
      "source": [
        "\"\"\"Substitua os valores nulos de Idade por zero e verifique novamente as estatísticas para o DataFrame\"\"\"\n",
        "\n",
        "# YOUR CODE HERE\n",
        "df.update(df['Idade'].fillna(0))\n",
        "df.isnull().sum()\n",
        "# raise NotImplementedError()"
      ],
      "execution_count": 15,
      "outputs": [
        {
          "output_type": "execute_result",
          "data": {
            "text/plain": [
              "Sobreviveu?       0\n",
              "Classe            0\n",
              "Nome              0\n",
              "Sexo              0\n",
              "Idade             0\n",
              "Irmãos/Cônjuge    0\n",
              "Pais/Crianças     0\n",
              "Tarifa            0\n",
              "Embarque          2\n",
              "dtype: int64"
            ]
          },
          "metadata": {
            "tags": []
          },
          "execution_count": 15
        }
      ]
    },
    {
      "cell_type": "code",
      "metadata": {
        "colab_type": "code",
        "id": "lIJCRLTCG2cf",
        "scrolled": true,
        "outputId": "f50efb42-6789-4599-cd31-b9c9efbdb318",
        "colab": {
          "base_uri": "https://localhost:8080/",
          "height": 807
        }
      },
      "source": [
        "\"\"\" Plote um histograma com os dados da coluna Idade do DataFrame. Logo após, utilize o comando plt.show() \n",
        "para exibir a figura sem saídas de texto antes. \n",
        "    Dica: o pandas possui uma função que ajuda bastante nessa tarefa. \"\"\"\n",
        "\n",
        "# YOUR CODE HERE\n",
        "from google.colab import drive\n",
        "drive.mount('/content/drive', force_remount=True)\n",
        "arquivo = \"/content/drive/My Drive/Colab Notebooks/CSVs/titanic.csv\"\n",
        "df = pd.read_csv(arquivo)\n",
        "df.hist(column='Age', color='g', alpha=0.5, bins=30, figsize=(16,6), edgecolor='black')\n",
        "plt.title('Distribuição de faixa etária dos passageiros')\n",
        "plt.xlabel('Idade')\n",
        "plt.ylabel('Frequência')\n",
        "plt.show()\n",
        "\n",
        "df.update(df['Age'].fillna(0))\n",
        "df.columns = ['IdPassageiro','Sobreviveu?','Classe','Nome','Sexo','Idade','Irmãos/Cônjuge','Pais/Crianças','Bilhete','Tarifa','Cabine','Embarque']\n",
        "df.drop(['IdPassageiro', 'Bilhete', 'Cabine'], inplace=True, axis=1, errors='ignore')\n",
        "\n",
        "df.hist(column='Idade', color='r', alpha=0.5, bins=(30), figsize=(16,6), edgecolor='black')\n",
        "plt.title('Distribuição de faixa etária dos passageiros, substituindo valores nulos por 0')\n",
        "plt.xlabel('Idade')\n",
        "plt.ylabel('Frequência')\n",
        "plt.show()\n",
        "# raise NotImplementedError()"
      ],
      "execution_count": 16,
      "outputs": [
        {
          "output_type": "stream",
          "text": [
            "Mounted at /content/drive\n"
          ],
          "name": "stdout"
        },
        {
          "output_type": "display_data",
          "data": {
            "image/png": "[encoded data removed]",
            "text/plain": [
              "<Figure size 1152x432 with 1 Axes>"
            ]
          },
          "metadata": {
            "tags": []
          }
        },
        {
          "output_type": "display_data",
          "data": {
            "image/png": "[encoded data removed]",
            "text/plain": [
              "<Figure size 1152x432 with 1 Axes>"
            ]
          },
          "metadata": {
            "tags": []
          }
        }
      ]
    },
    {
      "cell_type": "markdown",
      "metadata": {
        "colab_type": "text",
        "deletable": false,
        "editable": false,
        "id": "hDaPrcMzG2cm",
        "nbgrader": {
          "checksum": "7394abfef286a14f0028e27029cdddc7",
          "grade": false,
          "grade_id": "cell-6f19b61b28f97b3d",
          "locked": true,
          "schema_version": 1,
          "solution": false
        }
      },
      "source": [
        "Podemos querer normalizar atributos para oberservá-los em um intervalo de valores mais bem controlado. Vamos então normalizar o valor da coluna Tarifa no intervalo $[0,1]$ utilizando a normalização **min-max**, que é dada pela **fórmula**:\n",
        "\n",
        "$$v' = \\frac{v-min_A}{max_A - min_A}(nmax_A - nmin_A) + nmin_A$$\n",
        "\n",
        "onde:\n",
        "* $[nmin_A, nmax_A]$ é o intervalo no qual você deseja normalizar seus dados (no nosso caso, $[0,1]$)\n",
        "* $min_A$ e $max_A$ são os atuais valores mínimo e máximo da coluna, respectivamente."
      ]
    },
    {
      "cell_type": "code",
      "metadata": {
        "colab_type": "code",
        "id": "hOpnFiG8G2cr",
        "outputId": "1a81eadd-ed68-4203-96aa-4b3fa8b2702c",
        "colab": {
          "base_uri": "https://localhost:8080/",
          "height": 414
        }
      },
      "source": [
        "\"\"\" Crie uma nova coluna 'IdadeNorm' no DataFrame com os valores normalizados da coluna Idade \n",
        "aplicando a fórmula descrita acima. \n",
        "    Salve os valores máximo e mínimo da coluna em variáveis antes de efetuar a transformação.\n",
        "    Mostre as primeiras linhas do dataframe para verificar o resultado.\"\"\"\n",
        "\n",
        "# YOUR CODE HERE\n",
        "ind = 0\n",
        "df['IdadeNorm'] = 0\n",
        "\n",
        "for idade in df.Idade:\n",
        "    df.loc[ind, 'IdadeNorm'] = float(((idade - df['Idade'].min()) / (df['Idade'].max()) - df['Idade'].min()) * (1 - 0)) + 0\n",
        "    ind = ind + 1\n",
        "\n",
        "  # print(normalizados(idade))\n",
        "\n",
        "df.head(10)\n",
        "\n",
        "# raise NotImplementedError()"
      ],
      "execution_count": 17,
      "outputs": [
        {
          "output_type": "execute_result",
          "data": {
            "text/html": [
              "<div>\n",
              "<style scoped>\n",
              "    .dataframe tbody tr th:only-of-type {\n",
              "        vertical-align: middle;\n",
              "    }\n",
              "\n",
              "    .dataframe tbody tr th {\n",
              "        vertical-align: top;\n",
              "    }\n",
              "\n",
              "    .dataframe thead th {\n",
              "        text-align: right;\n",
              "    }\n",
              "</style>\n",
              "<table border=\"1\" class=\"dataframe\">\n",
              "  <thead>\n",
              "    <tr style=\"text-align: right;\">\n",
              "      <th></th>\n",
              "      <th>Sobreviveu?</th>\n",
              "      <th>Classe</th>\n",
              "      <th>Nome</th>\n",
              "      <th>Sexo</th>\n",
              "      <th>Idade</th>\n",
              "      <th>Irmãos/Cônjuge</th>\n",
              "      <th>Pais/Crianças</th>\n",
              "      <th>Tarifa</th>\n",
              "      <th>Embarque</th>\n",
              "      <th>IdadeNorm</th>\n",
              "    </tr>\n",
              "  </thead>\n",
              "  <tbody>\n",
              "    <tr>\n",
              "      <th>0</th>\n",
              "      <td>0</td>\n",
              "      <td>3</td>\n",
              "      <td>Braund, Mr. Owen Harris</td>\n",
              "      <td>male</td>\n",
              "      <td>22.0</td>\n",
              "      <td>1</td>\n",
              "      <td>0</td>\n",
              "      <td>7.2500</td>\n",
              "      <td>S</td>\n",
              "      <td>0.2750</td>\n",
              "    </tr>\n",
              "    <tr>\n",
              "      <th>1</th>\n",
              "      <td>1</td>\n",
              "      <td>1</td>\n",
              "      <td>Cumings, Mrs. John Bradley (Florence Briggs Th...</td>\n",
              "      <td>female</td>\n",
              "      <td>38.0</td>\n",
              "      <td>1</td>\n",
              "      <td>0</td>\n",
              "      <td>71.2833</td>\n",
              "      <td>C</td>\n",
              "      <td>0.4750</td>\n",
              "    </tr>\n",
              "    <tr>\n",
              "      <th>2</th>\n",
              "      <td>1</td>\n",
              "      <td>3</td>\n",
              "      <td>Heikkinen, Miss. Laina</td>\n",
              "      <td>female</td>\n",
              "      <td>26.0</td>\n",
              "      <td>0</td>\n",
              "      <td>0</td>\n",
              "      <td>7.9250</td>\n",
              "      <td>S</td>\n",
              "      <td>0.3250</td>\n",
              "    </tr>\n",
              "    <tr>\n",
              "      <th>3</th>\n",
              "      <td>1</td>\n",
              "      <td>1</td>\n",
              "      <td>Futrelle, Mrs. Jacques Heath (Lily May Peel)</td>\n",
              "      <td>female</td>\n",
              "      <td>35.0</td>\n",
              "      <td>1</td>\n",
              "      <td>0</td>\n",
              "      <td>53.1000</td>\n",
              "      <td>S</td>\n",
              "      <td>0.4375</td>\n",
              "    </tr>\n",
              "    <tr>\n",
              "      <th>4</th>\n",
              "      <td>0</td>\n",
              "      <td>3</td>\n",
              "      <td>Allen, Mr. William Henry</td>\n",
              "      <td>male</td>\n",
              "      <td>35.0</td>\n",
              "      <td>0</td>\n",
              "      <td>0</td>\n",
              "      <td>8.0500</td>\n",
              "      <td>S</td>\n",
              "      <td>0.4375</td>\n",
              "    </tr>\n",
              "    <tr>\n",
              "      <th>5</th>\n",
              "      <td>0</td>\n",
              "      <td>3</td>\n",
              "      <td>Moran, Mr. James</td>\n",
              "      <td>male</td>\n",
              "      <td>0.0</td>\n",
              "      <td>0</td>\n",
              "      <td>0</td>\n",
              "      <td>8.4583</td>\n",
              "      <td>Q</td>\n",
              "      <td>0.0000</td>\n",
              "    </tr>\n",
              "    <tr>\n",
              "      <th>6</th>\n",
              "      <td>0</td>\n",
              "      <td>1</td>\n",
              "      <td>McCarthy, Mr. Timothy J</td>\n",
              "      <td>male</td>\n",
              "      <td>54.0</td>\n",
              "      <td>0</td>\n",
              "      <td>0</td>\n",
              "      <td>51.8625</td>\n",
              "      <td>S</td>\n",
              "      <td>0.6750</td>\n",
              "    </tr>\n",
              "    <tr>\n",
              "      <th>7</th>\n",
              "      <td>0</td>\n",
              "      <td>3</td>\n",
              "      <td>Palsson, Master. Gosta Leonard</td>\n",
              "      <td>male</td>\n",
              "      <td>2.0</td>\n",
              "      <td>3</td>\n",
              "      <td>1</td>\n",
              "      <td>21.0750</td>\n",
              "      <td>S</td>\n",
              "      <td>0.0250</td>\n",
              "    </tr>\n",
              "    <tr>\n",
              "      <th>8</th>\n",
              "      <td>1</td>\n",
              "      <td>3</td>\n",
              "      <td>Johnson, Mrs. Oscar W (Elisabeth Vilhelmina Berg)</td>\n",
              "      <td>female</td>\n",
              "      <td>27.0</td>\n",
              "      <td>0</td>\n",
              "      <td>2</td>\n",
              "      <td>11.1333</td>\n",
              "      <td>S</td>\n",
              "      <td>0.3375</td>\n",
              "    </tr>\n",
              "    <tr>\n",
              "      <th>9</th>\n",
              "      <td>1</td>\n",
              "      <td>2</td>\n",
              "      <td>Nasser, Mrs. Nicholas (Adele Achem)</td>\n",
              "      <td>female</td>\n",
              "      <td>14.0</td>\n",
              "      <td>1</td>\n",
              "      <td>0</td>\n",
              "      <td>30.0708</td>\n",
              "      <td>C</td>\n",
              "      <td>0.1750</td>\n",
              "    </tr>\n",
              "  </tbody>\n",
              "</table>\n",
              "</div>"
            ],
            "text/plain": [
              "   Sobreviveu?  Classe  ... Embarque IdadeNorm\n",
              "0            0       3  ...        S    0.2750\n",
              "1            1       1  ...        C    0.4750\n",
              "2            1       3  ...        S    0.3250\n",
              "3            1       1  ...        S    0.4375\n",
              "4            0       3  ...        S    0.4375\n",
              "5            0       3  ...        Q    0.0000\n",
              "6            0       1  ...        S    0.6750\n",
              "7            0       3  ...        S    0.0250\n",
              "8            1       3  ...        S    0.3375\n",
              "9            1       2  ...        C    0.1750\n",
              "\n",
              "[10 rows x 10 columns]"
            ]
          },
          "metadata": {
            "tags": []
          },
          "execution_count": 17
        }
      ]
    },
    {
      "cell_type": "code",
      "metadata": {
        "colab_type": "code",
        "id": "rqiA4Wv0G2cy",
        "scrolled": true,
        "outputId": "008afa22-e974-4b7d-a592-b345c26d9e43",
        "colab": {
          "base_uri": "https://localhost:8080/",
          "height": 404
        }
      },
      "source": [
        "\"\"\" Plote um histograma com os dados normalizados da coluna Idade do DataFrame. \n",
        "Logo após, utilize o comando plt.show() para exibir a figura sem saídas de texto antes. \"\"\"\n",
        "\n",
        "# YOUR CODE HERE\n",
        "\n",
        "df.hist(column='IdadeNorm', color='b', alpha=0.5, bins=30, figsize=(12,6),edgecolor='black')\n",
        "plt.title('Distribuição de idades normalizadas após substituição dos valores nulos')\n",
        "plt.xlabel('Idade normalizada')\n",
        "plt.ylabel('Frequência')\n",
        "plt.show()\n"
      ],
      "execution_count": 18,
      "outputs": [
        {
          "output_type": "display_data",
          "data": {
            "image/png": "[encoded data removed]",
            "text/plain": [
              "<Figure size 864x432 with 1 Axes>"
            ]
          },
          "metadata": {
            "tags": []
          }
        }
      ]
    },
    {
      "cell_type": "markdown",
      "metadata": {
        "colab_type": "text",
        "id": "PznhbJC4G2c3"
      },
      "source": [
        "Outra técnica importante é a **discretização** dos dados."
      ]
    },
    {
      "cell_type": "code",
      "metadata": {
        "colab_type": "code",
        "id": "GVubKmK0G2c4",
        "outputId": "7e6013ae-bb75-4ee0-fb20-efe1bbb94e1a",
        "colab": {
          "base_uri": "https://localhost:8080/",
          "height": 514
        }
      },
      "source": [
        "\"\"\" Crie uma nova coluna 'IdadeDisc' no DataFrame com os valores normalizados da coluna Idade \n",
        "aplicando a fórmula descrita acima. \n",
        "    Para pessoas entre 0 e 17 anos, atribua o valor 'Criança'.\n",
        "    Para pessoas entre 18 e 59 anos, atribua o valor 'Adulto'.\n",
        "    Para pessoas entre 60 e 80 anos, atribua o valor 'Idoso'.\n",
        "    Mostre as primeiras linhas do dataframe para verificar o resultado.\"\"\"\n",
        "\n",
        "# YOUR CODE HERE\n",
        "\n",
        "ind = 0\n",
        "df['IdadeDisc'] = 0\n",
        "\n",
        "for val_norm in df.IdadeNorm:\n",
        "  if val_norm <= 0.2125:\n",
        "    df.loc[ind, 'IdadeDisc'] = 'Criança'\n",
        "  elif val_norm > 0.2125 and val_norm < 0.7375:\n",
        "    df.loc[ind, 'IdadeDisc'] = 'Adulto'\n",
        "  else:\n",
        "    df.loc[ind, 'IdadeDisc'] = 'Idoso'\n",
        "  ind = ind + 1\n",
        "\n",
        "df.head(10)\n",
        "\n",
        "#raise NotImplementedError()"
      ],
      "execution_count": 19,
      "outputs": [
        {
          "output_type": "execute_result",
          "data": {
            "text/html": [
              "<div>\n",
              "<style scoped>\n",
              "    .dataframe tbody tr th:only-of-type {\n",
              "        vertical-align: middle;\n",
              "    }\n",
              "\n",
              "    .dataframe tbody tr th {\n",
              "        vertical-align: top;\n",
              "    }\n",
              "\n",
              "    .dataframe thead th {\n",
              "        text-align: right;\n",
              "    }\n",
              "</style>\n",
              "<table border=\"1\" class=\"dataframe\">\n",
              "  <thead>\n",
              "    <tr style=\"text-align: right;\">\n",
              "      <th></th>\n",
              "      <th>Sobreviveu?</th>\n",
              "      <th>Classe</th>\n",
              "      <th>Nome</th>\n",
              "      <th>Sexo</th>\n",
              "      <th>Idade</th>\n",
              "      <th>Irmãos/Cônjuge</th>\n",
              "      <th>Pais/Crianças</th>\n",
              "      <th>Tarifa</th>\n",
              "      <th>Embarque</th>\n",
              "      <th>IdadeNorm</th>\n",
              "      <th>IdadeDisc</th>\n",
              "    </tr>\n",
              "  </thead>\n",
              "  <tbody>\n",
              "    <tr>\n",
              "      <th>0</th>\n",
              "      <td>0</td>\n",
              "      <td>3</td>\n",
              "      <td>Braund, Mr. Owen Harris</td>\n",
              "      <td>male</td>\n",
              "      <td>22.0</td>\n",
              "      <td>1</td>\n",
              "      <td>0</td>\n",
              "      <td>7.2500</td>\n",
              "      <td>S</td>\n",
              "      <td>0.2750</td>\n",
              "      <td>Adulto</td>\n",
              "    </tr>\n",
              "    <tr>\n",
              "      <th>1</th>\n",
              "      <td>1</td>\n",
              "      <td>1</td>\n",
              "      <td>Cumings, Mrs. John Bradley (Florence Briggs Th...</td>\n",
              "      <td>female</td>\n",
              "      <td>38.0</td>\n",
              "      <td>1</td>\n",
              "      <td>0</td>\n",
              "      <td>71.2833</td>\n",
              "      <td>C</td>\n",
              "      <td>0.4750</td>\n",
              "      <td>Adulto</td>\n",
              "    </tr>\n",
              "    <tr>\n",
              "      <th>2</th>\n",
              "      <td>1</td>\n",
              "      <td>3</td>\n",
              "      <td>Heikkinen, Miss. Laina</td>\n",
              "      <td>female</td>\n",
              "      <td>26.0</td>\n",
              "      <td>0</td>\n",
              "      <td>0</td>\n",
              "      <td>7.9250</td>\n",
              "      <td>S</td>\n",
              "      <td>0.3250</td>\n",
              "      <td>Adulto</td>\n",
              "    </tr>\n",
              "    <tr>\n",
              "      <th>3</th>\n",
              "      <td>1</td>\n",
              "      <td>1</td>\n",
              "      <td>Futrelle, Mrs. Jacques Heath (Lily May Peel)</td>\n",
              "      <td>female</td>\n",
              "      <td>35.0</td>\n",
              "      <td>1</td>\n",
              "      <td>0</td>\n",
              "      <td>53.1000</td>\n",
              "      <td>S</td>\n",
              "      <td>0.4375</td>\n",
              "      <td>Adulto</td>\n",
              "    </tr>\n",
              "    <tr>\n",
              "      <th>4</th>\n",
              "      <td>0</td>\n",
              "      <td>3</td>\n",
              "      <td>Allen, Mr. William Henry</td>\n",
              "      <td>male</td>\n",
              "      <td>35.0</td>\n",
              "      <td>0</td>\n",
              "      <td>0</td>\n",
              "      <td>8.0500</td>\n",
              "      <td>S</td>\n",
              "      <td>0.4375</td>\n",
              "      <td>Adulto</td>\n",
              "    </tr>\n",
              "    <tr>\n",
              "      <th>5</th>\n",
              "      <td>0</td>\n",
              "      <td>3</td>\n",
              "      <td>Moran, Mr. James</td>\n",
              "      <td>male</td>\n",
              "      <td>0.0</td>\n",
              "      <td>0</td>\n",
              "      <td>0</td>\n",
              "      <td>8.4583</td>\n",
              "      <td>Q</td>\n",
              "      <td>0.0000</td>\n",
              "      <td>Criança</td>\n",
              "    </tr>\n",
              "    <tr>\n",
              "      <th>6</th>\n",
              "      <td>0</td>\n",
              "      <td>1</td>\n",
              "      <td>McCarthy, Mr. Timothy J</td>\n",
              "      <td>male</td>\n",
              "      <td>54.0</td>\n",
              "      <td>0</td>\n",
              "      <td>0</td>\n",
              "      <td>51.8625</td>\n",
              "      <td>S</td>\n",
              "      <td>0.6750</td>\n",
              "      <td>Adulto</td>\n",
              "    </tr>\n",
              "    <tr>\n",
              "      <th>7</th>\n",
              "      <td>0</td>\n",
              "      <td>3</td>\n",
              "      <td>Palsson, Master. Gosta Leonard</td>\n",
              "      <td>male</td>\n",
              "      <td>2.0</td>\n",
              "      <td>3</td>\n",
              "      <td>1</td>\n",
              "      <td>21.0750</td>\n",
              "      <td>S</td>\n",
              "      <td>0.0250</td>\n",
              "      <td>Criança</td>\n",
              "    </tr>\n",
              "    <tr>\n",
              "      <th>8</th>\n",
              "      <td>1</td>\n",
              "      <td>3</td>\n",
              "      <td>Johnson, Mrs. Oscar W (Elisabeth Vilhelmina Berg)</td>\n",
              "      <td>female</td>\n",
              "      <td>27.0</td>\n",
              "      <td>0</td>\n",
              "      <td>2</td>\n",
              "      <td>11.1333</td>\n",
              "      <td>S</td>\n",
              "      <td>0.3375</td>\n",
              "      <td>Adulto</td>\n",
              "    </tr>\n",
              "    <tr>\n",
              "      <th>9</th>\n",
              "      <td>1</td>\n",
              "      <td>2</td>\n",
              "      <td>Nasser, Mrs. Nicholas (Adele Achem)</td>\n",
              "      <td>female</td>\n",
              "      <td>14.0</td>\n",
              "      <td>1</td>\n",
              "      <td>0</td>\n",
              "      <td>30.0708</td>\n",
              "      <td>C</td>\n",
              "      <td>0.1750</td>\n",
              "      <td>Criança</td>\n",
              "    </tr>\n",
              "  </tbody>\n",
              "</table>\n",
              "</div>"
            ],
            "text/plain": [
              "   Sobreviveu?  Classe  ... IdadeNorm IdadeDisc\n",
              "0            0       3  ...    0.2750    Adulto\n",
              "1            1       1  ...    0.4750    Adulto\n",
              "2            1       3  ...    0.3250    Adulto\n",
              "3            1       1  ...    0.4375    Adulto\n",
              "4            0       3  ...    0.4375    Adulto\n",
              "5            0       3  ...    0.0000   Criança\n",
              "6            0       1  ...    0.6750    Adulto\n",
              "7            0       3  ...    0.0250   Criança\n",
              "8            1       3  ...    0.3375    Adulto\n",
              "9            1       2  ...    0.1750   Criança\n",
              "\n",
              "[10 rows x 11 columns]"
            ]
          },
          "metadata": {
            "tags": []
          },
          "execution_count": 19
        }
      ]
    },
    {
      "cell_type": "code",
      "metadata": {
        "colab_type": "code",
        "id": "vxDYr_n6G2c7",
        "outputId": "f5cdbb39-316a-4a3f-85b1-133aacb82a9b",
        "colab": {
          "base_uri": "https://localhost:8080/",
          "height": 308
        }
      },
      "source": [
        "\"\"\" Plote um histograma com os dados discretizados da coluna IdadeDisc do DataFrame. \n",
        "Logo após, utilize o comando plt.show() para exibir a figura sem saídas de texto antes. \n",
        "    Dica: confira a função value_counts() do pandas.\"\"\"\n",
        "\n",
        "# YOUR CODE HERE\n",
        "plt.title('Histograma categorizado pela idade')\n",
        "df[\"IdadeDisc\"].value_counts().plot.bar(color='c', grid=True)\n",
        "plt.title('Histograma categorizado pela idade')\n",
        "plt.show()\n",
        "# raise NotImplementedError()"
      ],
      "execution_count": 20,
      "outputs": [
        {
          "output_type": "display_data",
          "data": {
            "image/png": "[encoded data removed]",
            "text/plain": [
              "<Figure size 432x288 with 1 Axes>"
            ]
          },
          "metadata": {
            "tags": []
          }
        }
      ]
    },
    {
      "cell_type": "markdown",
      "metadata": {
        "colab_type": "text",
        "deletable": false,
        "editable": false,
        "id": "er9arVUSG2dB",
        "nbgrader": {
          "checksum": "005083f0bfe95d203de6d572addb3a5b",
          "grade": false,
          "grade_id": "cell-12a4aeb4be7a5967",
          "locked": true,
          "schema_version": 1,
          "solution": false
        }
      },
      "source": [
        "Após a discretização dos dados, podemos fazer o processo de **binarização**, isto é, criar uma coluna para cada categoria que contém os valores 0 ou 1 que indicam se cada linha pertence ou não a esta categoria. Isso é importante pois a grande maioria dos algoritmos e funções dos pacotes do Python não aceitam dados categóricos, sendo necessário discretizá-los."
      ]
    },
    {
      "cell_type": "code",
      "metadata": {
        "colab_type": "code",
        "id": "cpAivGMRG2dC",
        "outputId": "932be5c6-cfdb-46a3-bb3d-6bac50a35e12",
        "colab": {
          "base_uri": "https://localhost:8080/",
          "height": 884
        }
      },
      "source": [
        "\"\"\"Para cada uma das categorias criadas anteriormente (Criança, Adulto e Idoso), crie uma nova coluna\n",
        "que indicará se a linha faz parte da categoria (recebendo o valor 1) ou não (valor 0). \n",
        "    Mostre as primeiras linhas do dataframe para verificar o resultado.\"\"\"\n",
        "\n",
        "# YOUR CODE HERE\n",
        "categs = df.groupby(['IdadeDisc']).mean()\n",
        "for tipos in categs.index:\n",
        "  df[tipos] = 0  \n",
        "\n",
        "ind = 0\n",
        "for val_norm in df.IdadeNorm:  \n",
        "  if val_norm <= 0.2125:\n",
        "    df.loc[ind, 'Criança'] = 1\n",
        "  elif val_norm > 0.2125 and val_norm <= 0.7375:\n",
        "    df.loc[ind, 'Adulto'] = 1\n",
        "  else:\n",
        "    df.loc[ind, 'Idoso'] = 1\n",
        "  ind = ind + 1\n",
        "df.head(10)\n",
        "# raise NotImplementedError()"
      ],
      "execution_count": 35,
      "outputs": [
        {
          "output_type": "execute_result",
          "data": {
            "text/html": [
              "<div>\n",
              "<style scoped>\n",
              "    .dataframe tbody tr th:only-of-type {\n",
              "        vertical-align: middle;\n",
              "    }\n",
              "\n",
              "    .dataframe tbody tr th {\n",
              "        vertical-align: top;\n",
              "    }\n",
              "\n",
              "    .dataframe thead th {\n",
              "        text-align: right;\n",
              "    }\n",
              "</style>\n",
              "<table border=\"1\" class=\"dataframe\">\n",
              "  <thead>\n",
              "    <tr style=\"text-align: right;\">\n",
              "      <th></th>\n",
              "      <th>Sobreviveu?</th>\n",
              "      <th>Classe</th>\n",
              "      <th>Nome</th>\n",
              "      <th>Sexo</th>\n",
              "      <th>Idade</th>\n",
              "      <th>Irmãos/Cônjuge</th>\n",
              "      <th>Pais/Crianças</th>\n",
              "      <th>Tarifa</th>\n",
              "      <th>Embarque</th>\n",
              "      <th>IdadeNorm</th>\n",
              "      <th>IdadeDisc</th>\n",
              "      <th>Adulto</th>\n",
              "      <th>Criança</th>\n",
              "      <th>Idoso</th>\n",
              "    </tr>\n",
              "  </thead>\n",
              "  <tbody>\n",
              "    <tr>\n",
              "      <th>0</th>\n",
              "      <td>0</td>\n",
              "      <td>3</td>\n",
              "      <td>Braund, Mr. Owen Harris</td>\n",
              "      <td>male</td>\n",
              "      <td>22.0</td>\n",
              "      <td>1</td>\n",
              "      <td>0</td>\n",
              "      <td>7.2500</td>\n",
              "      <td>S</td>\n",
              "      <td>0.2750</td>\n",
              "      <td>Adulto</td>\n",
              "      <td>1</td>\n",
              "      <td>0</td>\n",
              "      <td>0</td>\n",
              "    </tr>\n",
              "    <tr>\n",
              "      <th>1</th>\n",
              "      <td>1</td>\n",
              "      <td>1</td>\n",
              "      <td>Cumings, Mrs. John Bradley (Florence Briggs Th...</td>\n",
              "      <td>female</td>\n",
              "      <td>38.0</td>\n",
              "      <td>1</td>\n",
              "      <td>0</td>\n",
              "      <td>71.2833</td>\n",
              "      <td>C</td>\n",
              "      <td>0.4750</td>\n",
              "      <td>Adulto</td>\n",
              "      <td>1</td>\n",
              "      <td>0</td>\n",
              "      <td>0</td>\n",
              "    </tr>\n",
              "    <tr>\n",
              "      <th>2</th>\n",
              "      <td>1</td>\n",
              "      <td>3</td>\n",
              "      <td>Heikkinen, Miss. Laina</td>\n",
              "      <td>female</td>\n",
              "      <td>26.0</td>\n",
              "      <td>0</td>\n",
              "      <td>0</td>\n",
              "      <td>7.9250</td>\n",
              "      <td>S</td>\n",
              "      <td>0.3250</td>\n",
              "      <td>Adulto</td>\n",
              "      <td>1</td>\n",
              "      <td>0</td>\n",
              "      <td>0</td>\n",
              "    </tr>\n",
              "    <tr>\n",
              "      <th>3</th>\n",
              "      <td>1</td>\n",
              "      <td>1</td>\n",
              "      <td>Futrelle, Mrs. Jacques Heath (Lily May Peel)</td>\n",
              "      <td>female</td>\n",
              "      <td>35.0</td>\n",
              "      <td>1</td>\n",
              "      <td>0</td>\n",
              "      <td>53.1000</td>\n",
              "      <td>S</td>\n",
              "      <td>0.4375</td>\n",
              "      <td>Adulto</td>\n",
              "      <td>1</td>\n",
              "      <td>0</td>\n",
              "      <td>0</td>\n",
              "    </tr>\n",
              "    <tr>\n",
              "      <th>4</th>\n",
              "      <td>0</td>\n",
              "      <td>3</td>\n",
              "      <td>Allen, Mr. William Henry</td>\n",
              "      <td>male</td>\n",
              "      <td>35.0</td>\n",
              "      <td>0</td>\n",
              "      <td>0</td>\n",
              "      <td>8.0500</td>\n",
              "      <td>S</td>\n",
              "      <td>0.4375</td>\n",
              "      <td>Adulto</td>\n",
              "      <td>1</td>\n",
              "      <td>0</td>\n",
              "      <td>0</td>\n",
              "    </tr>\n",
              "    <tr>\n",
              "      <th>5</th>\n",
              "      <td>0</td>\n",
              "      <td>3</td>\n",
              "      <td>Moran, Mr. James</td>\n",
              "      <td>male</td>\n",
              "      <td>0.0</td>\n",
              "      <td>0</td>\n",
              "      <td>0</td>\n",
              "      <td>8.4583</td>\n",
              "      <td>Q</td>\n",
              "      <td>0.0000</td>\n",
              "      <td>Criança</td>\n",
              "      <td>0</td>\n",
              "      <td>1</td>\n",
              "      <td>0</td>\n",
              "    </tr>\n",
              "    <tr>\n",
              "      <th>6</th>\n",
              "      <td>0</td>\n",
              "      <td>1</td>\n",
              "      <td>McCarthy, Mr. Timothy J</td>\n",
              "      <td>male</td>\n",
              "      <td>54.0</td>\n",
              "      <td>0</td>\n",
              "      <td>0</td>\n",
              "      <td>51.8625</td>\n",
              "      <td>S</td>\n",
              "      <td>0.6750</td>\n",
              "      <td>Adulto</td>\n",
              "      <td>1</td>\n",
              "      <td>0</td>\n",
              "      <td>0</td>\n",
              "    </tr>\n",
              "    <tr>\n",
              "      <th>7</th>\n",
              "      <td>0</td>\n",
              "      <td>3</td>\n",
              "      <td>Palsson, Master. Gosta Leonard</td>\n",
              "      <td>male</td>\n",
              "      <td>2.0</td>\n",
              "      <td>3</td>\n",
              "      <td>1</td>\n",
              "      <td>21.0750</td>\n",
              "      <td>S</td>\n",
              "      <td>0.0250</td>\n",
              "      <td>Criança</td>\n",
              "      <td>0</td>\n",
              "      <td>1</td>\n",
              "      <td>0</td>\n",
              "    </tr>\n",
              "    <tr>\n",
              "      <th>8</th>\n",
              "      <td>1</td>\n",
              "      <td>3</td>\n",
              "      <td>Johnson, Mrs. Oscar W (Elisabeth Vilhelmina Berg)</td>\n",
              "      <td>female</td>\n",
              "      <td>27.0</td>\n",
              "      <td>0</td>\n",
              "      <td>2</td>\n",
              "      <td>11.1333</td>\n",
              "      <td>S</td>\n",
              "      <td>0.3375</td>\n",
              "      <td>Adulto</td>\n",
              "      <td>1</td>\n",
              "      <td>0</td>\n",
              "      <td>0</td>\n",
              "    </tr>\n",
              "    <tr>\n",
              "      <th>9</th>\n",
              "      <td>1</td>\n",
              "      <td>2</td>\n",
              "      <td>Nasser, Mrs. Nicholas (Adele Achem)</td>\n",
              "      <td>female</td>\n",
              "      <td>14.0</td>\n",
              "      <td>1</td>\n",
              "      <td>0</td>\n",
              "      <td>30.0708</td>\n",
              "      <td>C</td>\n",
              "      <td>0.1750</td>\n",
              "      <td>Criança</td>\n",
              "      <td>0</td>\n",
              "      <td>1</td>\n",
              "      <td>0</td>\n",
              "    </tr>\n",
              "  </tbody>\n",
              "</table>\n",
              "</div>"
            ],
            "text/plain": [
              "   Sobreviveu?  Classe  ... Criança Idoso\n",
              "0            0       3  ...       0     0\n",
              "1            1       1  ...       0     0\n",
              "2            1       3  ...       0     0\n",
              "3            1       1  ...       0     0\n",
              "4            0       3  ...       0     0\n",
              "5            0       3  ...       1     0\n",
              "6            0       1  ...       0     0\n",
              "7            0       3  ...       1     0\n",
              "8            1       3  ...       0     0\n",
              "9            1       2  ...       1     0\n",
              "\n",
              "[10 rows x 14 columns]"
            ]
          },
          "metadata": {
            "tags": []
          },
          "execution_count": 35
        }
      ]
    },
    {
      "cell_type": "markdown",
      "metadata": {
        "colab_type": "text",
        "deletable": false,
        "editable": false,
        "id": "2YbzS39WG2dF",
        "nbgrader": {
          "checksum": "005083f0bfe95d203de6d572addb3a5b",
          "grade": false,
          "grade_id": "cell-12a4aeb4be7a5967",
          "locked": true,
          "schema_version": 1,
          "solution": false
        }
      },
      "source": [
        "---\n",
        "## Parte 2 - Iris\n",
        "\n",
        "Nesta parte, vamos utilizar dados sobre a classificação de plantas *Iris* a partir de suas características.\n",
        "\n",
        "Descrição dos Dados: http://archive.ics.uci.edu/ml/datasets/Iris\n",
        "\n",
        "Os dados estarão disponíveis no arquivo **iris.csv**\n",
        "\n",
        "Para este exercícios utilizaremos a biblioteca **pandas** para a leitura e manipulação dos dados. Para o trabalho de redução de dimensionalidade com **PCA** utilizaremos a implementação disponibilizada pelo <a href=\"http://scikit-learn.org/stable/modules/generated/sklearn.decomposition.PCA.html\">Scikit-Learn</a>."
      ]
    },
    {
      "cell_type": "markdown",
      "metadata": {
        "colab_type": "text",
        "deletable": false,
        "editable": false,
        "id": "n_pS5YSUG2dH",
        "nbgrader": {
          "checksum": "815dda85265870382dac997f48c79f98",
          "grade": false,
          "grade_id": "RO_leitura_dados",
          "locked": true,
          "schema_version": 1,
          "solution": false
        }
      },
      "source": [
        "Como este é nosso primeiro contato com a base **iris**, é importante conhecermos sua estrutura e quais as informações presentes. Ao trabalharmos com DataFrames pandas podemos utilizar a função **head()** para termos uma visão de como o arquivo está configurado, exibindo por default as 5 primeiras linhas do DataFrame.\n",
        "\n",
        "**Obs.**: a função **head()** pode receber como parâmetro o nº de linhas a ser exibido, caso queiramos ver as 10 primeiras linhas do DataFrame basta utilizarmos **head(10)**."
      ]
    },
    {
      "cell_type": "code",
      "metadata": {
        "colab_type": "code",
        "deletable": false,
        "id": "FinoH-H6G2dJ",
        "nbgrader": {
          "checksum": "952427661d280a38c3aa828c70f07e4b",
          "grade": true,
          "grade_id": "MG_leitura_dados",
          "locked": false,
          "points": 2,
          "schema_version": 1,
          "solution": true
        },
        "colab": {
          "base_uri": "https://localhost:8080/",
          "height": 214
        },
        "outputId": "6d4b973e-c207-43af-c648-a28a6c1dacad"
      },
      "source": [
        "\"\"\"Faça a leitura do arquivo salvando seu conteúdo na variável data e depois visualize suas 5 primeiras linhas\"\"\"\n",
        "\n",
        "# YOUR CODE HERE\n",
        "import pandas as pd\n",
        "from sklearn.decomposition import PCA\n",
        "import matplotlib.pyplot as plt\n",
        "from google.colab import drive\n",
        "drive.mount('/content/drive', force_remount=True)\n",
        "iris_file =  \"/content/drive/My Drive/Colab Notebooks/CSVs/iris.csv\"\n",
        "df_iris = pd.read_csv(iris_file)\n",
        "df_iris.head(5)\n",
        "# raise NotImplementedError()"
      ],
      "execution_count": 251,
      "outputs": [
        {
          "output_type": "stream",
          "text": [
            "Mounted at /content/drive\n"
          ],
          "name": "stdout"
        },
        {
          "output_type": "execute_result",
          "data": {
            "text/html": [
              "<div>\n",
              "<style scoped>\n",
              "    .dataframe tbody tr th:only-of-type {\n",
              "        vertical-align: middle;\n",
              "    }\n",
              "\n",
              "    .dataframe tbody tr th {\n",
              "        vertical-align: top;\n",
              "    }\n",
              "\n",
              "    .dataframe thead th {\n",
              "        text-align: right;\n",
              "    }\n",
              "</style>\n",
              "<table border=\"1\" class=\"dataframe\">\n",
              "  <thead>\n",
              "    <tr style=\"text-align: right;\">\n",
              "      <th></th>\n",
              "      <th>sepal.length</th>\n",
              "      <th>sepal.width</th>\n",
              "      <th>petal.length</th>\n",
              "      <th>petal.width</th>\n",
              "      <th>variety</th>\n",
              "    </tr>\n",
              "  </thead>\n",
              "  <tbody>\n",
              "    <tr>\n",
              "      <th>0</th>\n",
              "      <td>5.1</td>\n",
              "      <td>3.5</td>\n",
              "      <td>1.4</td>\n",
              "      <td>0.2</td>\n",
              "      <td>Setosa</td>\n",
              "    </tr>\n",
              "    <tr>\n",
              "      <th>1</th>\n",
              "      <td>4.9</td>\n",
              "      <td>3.0</td>\n",
              "      <td>1.4</td>\n",
              "      <td>0.2</td>\n",
              "      <td>Setosa</td>\n",
              "    </tr>\n",
              "    <tr>\n",
              "      <th>2</th>\n",
              "      <td>4.7</td>\n",
              "      <td>3.2</td>\n",
              "      <td>1.3</td>\n",
              "      <td>0.2</td>\n",
              "      <td>Setosa</td>\n",
              "    </tr>\n",
              "    <tr>\n",
              "      <th>3</th>\n",
              "      <td>4.6</td>\n",
              "      <td>3.1</td>\n",
              "      <td>1.5</td>\n",
              "      <td>0.2</td>\n",
              "      <td>Setosa</td>\n",
              "    </tr>\n",
              "    <tr>\n",
              "      <th>4</th>\n",
              "      <td>5.0</td>\n",
              "      <td>3.6</td>\n",
              "      <td>1.4</td>\n",
              "      <td>0.2</td>\n",
              "      <td>Setosa</td>\n",
              "    </tr>\n",
              "  </tbody>\n",
              "</table>\n",
              "</div>"
            ],
            "text/plain": [
              "   sepal.length  sepal.width  petal.length  petal.width variety\n",
              "0           5.1          3.5           1.4          0.2  Setosa\n",
              "1           4.9          3.0           1.4          0.2  Setosa\n",
              "2           4.7          3.2           1.3          0.2  Setosa\n",
              "3           4.6          3.1           1.5          0.2  Setosa\n",
              "4           5.0          3.6           1.4          0.2  Setosa"
            ]
          },
          "metadata": {
            "tags": []
          },
          "execution_count": 251
        }
      ]
    },
    {
      "cell_type": "markdown",
      "metadata": {
        "colab_type": "text",
        "deletable": false,
        "editable": false,
        "id": "mIS8JoiIG2dP",
        "nbgrader": {
          "checksum": "7394abfef286a14f0028e27029cdddc7",
          "grade": false,
          "grade_id": "cell-6f19b61b28f97b3d",
          "locked": true,
          "schema_version": 1,
          "solution": false
        }
      },
      "source": [
        "O **PCA** (Principal Component Analysis), método de redução de dimensionalidade que utilizaremos mais adiante, deve ser aplicado apenas em dados numéricos. Portanto, devemos ter certeza de que todas as colunas do nosso dataframe satisfazem a este requisito."
      ]
    },
    {
      "cell_type": "code",
      "metadata": {
        "colab_type": "code",
        "deletable": false,
        "id": "Cp7pKznsG2dQ",
        "nbgrader": {
          "checksum": "8b8efed70991396343dbda54007bc045",
          "grade": false,
          "grade_id": "RO_tipos",
          "locked": true,
          "schema_version": 1,
          "solution": false
        },
        "colab": {
          "base_uri": "https://localhost:8080/",
          "height": 116
        },
        "outputId": "b328bbdb-7bdc-4d20-adde-32ac7ae74cf7"
      },
      "source": [
        "\"\"\"Verifique o tipo dos dados de cada coluna do dataframe\"\"\"\n",
        "\n",
        "# YOUR CODE HERE\n",
        "df_iris.dtypes\n",
        "#raise NotImplementedError()"
      ],
      "execution_count": 252,
      "outputs": [
        {
          "output_type": "execute_result",
          "data": {
            "text/plain": [
              "sepal.length    float64\n",
              "sepal.width     float64\n",
              "petal.length    float64\n",
              "petal.width     float64\n",
              "variety          object\n",
              "dtype: object"
            ]
          },
          "metadata": {
            "tags": []
          },
          "execution_count": 252
        }
      ]
    },
    {
      "cell_type": "markdown",
      "metadata": {
        "colab_type": "text",
        "deletable": false,
        "editable": false,
        "id": "2yJ9qJnkG2dW",
        "nbgrader": {
          "checksum": "5b7bf63077b8d6eb675dd81e5614da5e",
          "grade": false,
          "grade_id": "RO_drop_coluna",
          "locked": true,
          "schema_version": 1,
          "solution": false
        }
      },
      "source": [
        "A princípio a coluna **species** não será necessária, devemos então salvá-la em uma nova variável e depois dropá-la de nosso dataframe. "
      ]
    },
    {
      "cell_type": "code",
      "metadata": {
        "colab_type": "code",
        "deletable": false,
        "id": "GiaE3v4PG2da",
        "nbgrader": {
          "checksum": "73ecc0ae05b0efcb804403a524c3d846",
          "grade": false,
          "grade_id": "AT_cria_variavel",
          "locked": false,
          "schema_version": 1,
          "solution": true
        },
        "colab": {}
      },
      "source": [
        "\"\"\"Crie uma nova variável chamada species que receba os dados contidos na coluna 'species' de seu Dataframe\"\"\"\n",
        "\n",
        "# YOUR CODE HERE\n",
        "species = [df_iris['variety']]\n",
        "# raise NotImplementedError()"
      ],
      "execution_count": 0,
      "outputs": []
    },
    {
      "cell_type": "markdown",
      "metadata": {
        "colab_type": "text",
        "deletable": false,
        "editable": false,
        "id": "pMSC2SlHG2de",
        "nbgrader": {
          "checksum": "85e461ad93c30e755a09a2246aa29731",
          "grade": false,
          "grade_id": "cell-05ebff8e1ce4a432",
          "locked": true,
          "schema_version": 1,
          "solution": false
        }
      },
      "source": [
        "Agora já podemos dropá-la do nosso DataFrame. Para isto utilizaremos a função **drop(columns = , axis = , inplace = )**.\n",
        "\n",
        "**columns:** recebe a lista de colunas a serem dropadas.\n",
        "\n",
        "**axis:** indica em qual eixo o drop será realizado, <b>1</b> para colunas e **0** para linhas\n",
        "\n",
        "**inplace:** quando **True** a operação não gera nenhum retorno, sendo realizada na própria variável. Quando **False** (default) a alteração é efetuada apenas no retorno, precisando ser salva em alguma variável."
      ]
    },
    {
      "cell_type": "code",
      "metadata": {
        "colab_type": "code",
        "deletable": false,
        "id": "EBCNF5FQG2df",
        "nbgrader": {
          "checksum": "7a0a26170160f9d29d04704fd57117b3",
          "grade": false,
          "grade_id": "AG_drop_coluna",
          "locked": false,
          "schema_version": 1,
          "solution": true
        },
        "colab": {}
      },
      "source": [
        "\"\"\"Crie uma variável df onde a mesma receba o retorno da função drop descrita acima. \n",
        "Em seguida realize a operação de forma implícita, gerando ao final 2 dataframes iguais.\"\"\"\n",
        "\n",
        "# YOUR CODE HERE\n",
        "df = df_iris.drop(columns='variety', inplace=False, axis=1)\n",
        "df_iris.drop(columns='variety', inplace=True, axis=1)\n",
        "# raise NotImplementedError()"
      ],
      "execution_count": 0,
      "outputs": []
    },
    {
      "cell_type": "code",
      "metadata": {
        "colab_type": "code",
        "deletable": false,
        "editable": false,
        "id": "Vv8dzK5QG2dj",
        "nbgrader": {
          "checksum": "663d4dde4e90e4ed9668915609c1b0e5",
          "grade": true,
          "grade_id": "AT_drop_coluna",
          "locked": true,
          "points": 1,
          "schema_version": 1,
          "solution": false
        },
        "colab": {}
      },
      "source": [
        "\"\"\"Verifica se os dois dataframes possuem as mesmas colunas\"\"\"\n",
        "assert df_iris.columns.all() == df.columns.all()\n",
        "\n",
        "\"\"\"Deletamos a variável df pois ela não será mais utilizada.\"\"\"\n",
        "del df\n",
        "# raise NotImplementedError()"
      ],
      "execution_count": 0,
      "outputs": []
    },
    {
      "cell_type": "markdown",
      "metadata": {
        "colab_type": "text",
        "deletable": false,
        "editable": false,
        "id": "9NkSFBCHG2do",
        "nbgrader": {
          "checksum": "d212d3695e107ac115a0cb9acf27c6a8",
          "grade": false,
          "grade_id": "RO_correlacao",
          "locked": true,
          "schema_version": 1,
          "solution": false
        }
      },
      "source": [
        "Ok, agora que já sabemos que nossos dados são numéricos, podemos olhar para a correlação entre as colunas. Podemos fazer isso de duas formas, olhando para sua matriz de correlação e/ou plotando sua matriz de dispersão."
      ]
    },
    {
      "cell_type": "code",
      "metadata": {
        "colab_type": "code",
        "deletable": false,
        "editable": false,
        "id": "bRQu6TZVG2dq",
        "nbgrader": {
          "checksum": "44cab9c8d2ee6771fa27981de41f9820",
          "grade": false,
          "grade_id": "RO_matriz_correlacao",
          "locked": true,
          "schema_version": 1,
          "solution": false
        },
        "colab": {
          "base_uri": "https://localhost:8080/",
          "height": 100
        },
        "outputId": "84f83363-80b1-4b18-954a-d2ca8bc95f83"
      },
      "source": [
        "\"\"\"Para gerar a matriz de correlação de um DataFrame basta utilizar a função .corr()\"\"\"\n",
        "print(df_iris.corr())"
      ],
      "execution_count": 256,
      "outputs": [
        {
          "output_type": "stream",
          "text": [
            "              sepal.length  sepal.width  petal.length  petal.width\n",
            "sepal.length      1.000000    -0.117570      0.871754     0.817941\n",
            "sepal.width      -0.117570     1.000000     -0.428440    -0.366126\n",
            "petal.length      0.871754    -0.428440      1.000000     0.962865\n",
            "petal.width       0.817941    -0.366126      0.962865     1.000000\n"
          ],
          "name": "stdout"
        }
      ]
    },
    {
      "cell_type": "markdown",
      "metadata": {
        "colab_type": "text",
        "deletable": false,
        "editable": false,
        "id": "u0_-q6b_G2d0",
        "nbgrader": {
          "checksum": "37cf0e835c7359e9843fdc9423a256a7",
          "grade": false,
          "grade_id": "RO_matriz_dispersao",
          "locked": true,
          "schema_version": 1,
          "solution": false
        }
      },
      "source": [
        "Quando começamos a trabalhar com uma biblioteca, é de grande importância que saibamos utilizar sua documentação como auxílio. Clique <a href=\"https://pandas.pydata.org/pandas-docs/stable/generated/pandas.plotting.scatter_matrix.html\">aqui</a> para acessar a documentação do **scatter_matrix** e gerar a matriz de dispersão dos seus dados. A imagem deverá ter tamanho (10,10) e apresentar em sua diagonal a estimativa de densidade do kernel.\n",
        "\n",
        "**Dica 1:** não se esqueça de utilizar a função plt.show() ao final da célula para que o plot seja gerado de forma limpa (sem gerar retornos em texto da função).\n",
        "\n",
        "**Dica 2:** alterne o valor do parâmetro alpha para obter uma melhor visualização dos pontos."
      ]
    },
    {
      "cell_type": "code",
      "metadata": {
        "colab_type": "code",
        "deletable": false,
        "id": "mL0B6CUhG2d2",
        "nbgrader": {
          "checksum": "fb0fe94327c3d8be0439839a2e98efa4",
          "grade": true,
          "grade_id": "MG_matriz_dispersao",
          "locked": false,
          "points": 2,
          "schema_version": 1,
          "solution": true
        },
        "colab": {
          "base_uri": "https://localhost:8080/",
          "height": 601
        },
        "outputId": "47508b71-8387-4941-9350-d55264b21d59"
      },
      "source": [
        "# YOUR CODE HERE\n",
        "pd.plotting.scatter_matrix(df_iris, alpha=0.7, color='r', grid=True, figsize=(10, 10))\n",
        "plt.show()\n",
        "# raise NotImplementedError()"
      ],
      "execution_count": 257,
      "outputs": [
        {
          "output_type": "display_data",
          "data": {
            "image/png": "[encoded data removed]",
            "text/plain": [
              "<Figure size 720x720 with 16 Axes>"
            ]
          },
          "metadata": {
            "tags": []
          }
        }
      ]
    },
    {
      "cell_type": "markdown",
      "metadata": {
        "colab_type": "text",
        "deletable": false,
        "editable": false,
        "id": "cEXOD8AsG2d6",
        "nbgrader": {
          "checksum": "f0d8a6e6f1796dd2b93de6fdf2ab1045",
          "grade": false,
          "grade_id": "RO_title_pca",
          "locked": true,
          "schema_version": 1,
          "solution": false
        }
      },
      "source": [
        "---\n",
        "## Utilizando o PCA"
      ]
    },
    {
      "cell_type": "markdown",
      "metadata": {
        "colab_type": "text",
        "deletable": false,
        "id": "LP3fyAuVG2d7",
        "nbgrader": {
          "checksum": "58be7fbbf54be4d7a1fd90c353fc1b4e",
          "grade": false,
          "grade_id": "RO_pca_1",
          "locked": true,
          "schema_version": 1,
          "solution": false
        }
      },
      "source": [
        "Agora vamos utilizar o PCA para reduzir a dimensionalidade dos nossos dados. Não se preocupe em saber os detalhes do PCA, pois vamos aprender com mais profundidade em uma próxima aula. Novamente, vamos nos guiar pela documentação da biblioteca, que você pode acessar clicando <a href=\"http://scikit-learn.org/stable/modules/generated/sklearn.decomposition.PCA.html\">aqui</a>.\n",
        "\n",
        "Em um primeiro momento, não devemos passar nenhum valor para o parâmetro **n_components**, dessa forma, podemos visualizar todos os componentes principais gerados e posteriormente decidirmos o número de componentes a serem utilizados."
      ]
    },
    {
      "cell_type": "code",
      "metadata": {
        "colab_type": "code",
        "deletable": false,
        "id": "kUBmJzKnG2d8",
        "nbgrader": {
          "checksum": "67b09a6de724c324c3b59596c2b6a1d0",
          "grade": false,
          "grade_id": "AG_pca_1",
          "locked": false,
          "schema_version": 1,
          "solution": true
        },
        "colab": {
          "base_uri": "https://localhost:8080/",
          "height": 50
        },
        "outputId": "2b8b2621-9b3a-477f-a5f2-4d4a3310cb87"
      },
      "source": [
        "\"\"\"Crie uma variável pca que receba a função PCA(), em seguida treine o modelo com seus dados \n",
        "e analise a porcentagem de variância explicada por cada componente principal.\n",
        "Dica: arrays possuem a função .cumsum() que permite visualizar o valor acumulativos de seus itens.\"\"\"\n",
        "\n",
        "pca = PCA()\n",
        "pca.fit(df_iris)\n",
        "\n",
        "print(pca.explained_variance_ratio_)\n",
        "print(pca.explained_variance_ratio_.cumsum())"
      ],
      "execution_count": 258,
      "outputs": [
        {
          "output_type": "stream",
          "text": [
            "[0.92461872 0.05306648 0.01710261 0.00521218]\n",
            "[0.92461872 0.97768521 0.99478782 1.        ]\n"
          ],
          "name": "stdout"
        }
      ]
    },
    {
      "cell_type": "code",
      "metadata": {
        "colab_type": "code",
        "deletable": false,
        "editable": false,
        "id": "qNlbFVT1G2eC",
        "nbgrader": {
          "checksum": "8320d654c0efa74bb775cb69d51cfbaa",
          "grade": true,
          "grade_id": "AT_pca_1",
          "locked": true,
          "points": 2,
          "schema_version": 1,
          "solution": false
        },
        "colab": {}
      },
      "source": [
        "assert pca.n_components_ == 4"
      ],
      "execution_count": 0,
      "outputs": []
    },
    {
      "cell_type": "markdown",
      "metadata": {
        "colab_type": "text",
        "deletable": false,
        "editable": false,
        "id": "Vw551HgEG2eG",
        "nbgrader": {
          "checksum": "50a768a6db2a278a577b60679bffe540",
          "grade": false,
          "grade_id": "RO_pca_2",
          "locked": true,
          "schema_version": 1,
          "solution": false
        }
      },
      "source": [
        "Baseando-se na análise realizada acima, já podemos reduzir a dimensionalidade de nossos dados. Agora o parâmetro **n_components** deve ser alterado recebendo como valor o número de componentes principais necessários para explicar no mínimo 97% da variância dos dados. Após a alteração do parâmetro, o modelo deve ser retreinado e em seguida, podemos realizar a transformação dos dados."
      ]
    },
    {
      "cell_type": "code",
      "metadata": {
        "colab_type": "code",
        "deletable": false,
        "id": "59mizDZMG2eI",
        "nbgrader": {
          "checksum": "1be666a0da87316d2d9bc1dca69b7c4e",
          "grade": false,
          "grade_id": "AG_pca_2",
          "locked": false,
          "schema_version": 1,
          "solution": true
        },
        "colab": {}
      },
      "source": [
        "\"\"\"Crie uma nova variável chamada data_pca, a variável deverá receber os dados transformados pelo PCA,\n",
        "contendo componentes principais suficientes para explicar 97% da variância dos dados.\"\"\"\n",
        "\n",
        "pca = PCA(n_components=2)\n",
        "data_pca = pca.fit_transform(df_iris)"
      ],
      "execution_count": 0,
      "outputs": []
    },
    {
      "cell_type": "code",
      "metadata": {
        "colab_type": "code",
        "deletable": false,
        "editable": false,
        "id": "f3FRaxKAG2eN",
        "nbgrader": {
          "checksum": "c57161701220d6eb983bca50e4d209ed",
          "grade": true,
          "grade_id": "AT_pca_2",
          "locked": true,
          "points": 2,
          "schema_version": 1,
          "solution": false
        },
        "colab": {}
      },
      "source": [
        "\"\"\"O número de componentes principais não pode ser 4.\"\"\"\n",
        "assert pca.n_components_ != 4"
      ],
      "execution_count": 0,
      "outputs": []
    },
    {
      "cell_type": "code",
      "metadata": {
        "colab_type": "code",
        "deletable": false,
        "editable": false,
        "id": "zG0YQeSpG2eS",
        "nbgrader": {
          "checksum": "8d2674c7fe02eed0b49aa59457803869",
          "grade": false,
          "grade_id": "RO_pca_type",
          "locked": true,
          "schema_version": 1,
          "solution": false
        },
        "colab": {
          "base_uri": "https://localhost:8080/",
          "height": 33
        },
        "outputId": "771ca548-aefb-4748-e9fc-1741f518c573"
      },
      "source": [
        "\"\"\"Como podemos ver abaixo, após realizar a transformação dos dados, \n",
        "a biblioteca PCA nos retorna um numpy.ndarray\"\"\"\n",
        "type(data_pca)"
      ],
      "execution_count": 262,
      "outputs": [
        {
          "output_type": "execute_result",
          "data": {
            "text/plain": [
              "numpy.ndarray"
            ]
          },
          "metadata": {
            "tags": []
          },
          "execution_count": 262
        }
      ]
    },
    {
      "cell_type": "markdown",
      "metadata": {
        "colab_type": "text",
        "deletable": false,
        "editable": false,
        "id": "KAfgWq22G2eX",
        "nbgrader": {
          "checksum": "6307d8edf42e16544db5302efbfc109b",
          "grade": false,
          "grade_id": "cell-e01b9464684af39e",
          "locked": true,
          "schema_version": 1,
          "solution": false
        }
      },
      "source": [
        "Agora que reduzimos a dimensionalidade dos dados, podemos gerar uma visualização aproximada de como os pontos estão distribuídos no espaço, utilizando a função abaixo."
      ]
    },
    {
      "cell_type": "code",
      "metadata": {
        "colab_type": "code",
        "deletable": false,
        "editable": false,
        "id": "n29ysXC0G2ec",
        "nbgrader": {
          "checksum": "233ce7d8534405bd0b8189edca2e897b",
          "grade": false,
          "grade_id": "RO_plot_scatter",
          "locked": true,
          "schema_version": 1,
          "solution": false
        },
        "colab": {}
      },
      "source": [
        "\"\"\"Gera scatter plot utilizando como coordenada os 2 primeiros componentes principais\"\"\"\n",
        "def plot_scatter(data_pca):\n",
        "    #subplot permite que montemos o plot durante o processo de iteração.\n",
        "    ax = plt.subplot()\n",
        "    \n",
        "    #Gera pontos de cores diferentes para cada espécie\n",
        "    for spec in data_pca['variety'].unique():    \n",
        "        ax.scatter(data_pca[data_pca['variety'] == spec]['PC1'], \n",
        "                   data_pca[data_pca['variety'] == spec]['PC2'],\n",
        "                  label = spec)\n",
        "    \n",
        "    #Determina o local onde a legenda será plotada. loc = 0: canto inferior direito\n",
        "    plt.legend(loc=0)\n",
        "    plt.show()"
      ],
      "execution_count": 0,
      "outputs": []
    },
    {
      "cell_type": "markdown",
      "metadata": {
        "colab_type": "text",
        "deletable": false,
        "editable": false,
        "id": "-LMX51wlG2ej",
        "nbgrader": {
          "checksum": "91c02dedc40c59987403bc30f3e97b32",
          "grade": false,
          "grade_id": "cell-ca08065919b78c51",
          "locked": true,
          "schema_version": 1,
          "solution": false
        }
      },
      "source": [
        "A função **plot_scatter** recebe como parâmetro um DataFrame **data_pca** com 3 colunas, **PC1, PC2, species**. Você deve converter o numpy.ndarray obtido anteriormente em um DataFrame de mesma configuração para que possa utilizar a função e gerar o scatter plot."
      ]
    },
    {
      "cell_type": "code",
      "metadata": {
        "colab_type": "code",
        "deletable": false,
        "id": "G2l3zhxDG2ek",
        "nbgrader": {
          "checksum": "4984dab5917ee8fd6d5503447ddde335",
          "grade": false,
          "grade_id": "AG_plot_scatter",
          "locked": false,
          "schema_version": 1,
          "solution": true
        },
        "colab": {}
      },
      "source": [
        "\"\"\"Converta a variável data_pca em um DataFrame de colunas PC1, PC2 e species\"\"\"\n",
        "\n",
        "# YOUR CODE HERE\n",
        "data_pca = pd.DataFrame(data=data_pca, index=range(150), columns=['PC1', 'PC2'])\n",
        "data_pca['variety'] = 'NaN'\n",
        "i = 0\n",
        "for s in species:\n",
        "  data_pca['variety'] = specie\n",
        "  i = i + 1\n"
      ],
      "execution_count": 0,
      "outputs": []
    },
    {
      "cell_type": "code",
      "metadata": {
        "colab_type": "code",
        "deletable": false,
        "editable": false,
        "id": "hBJFVr6tG2en",
        "nbgrader": {
          "checksum": "f528da8e62337acc7b1edcdabddea04a",
          "grade": true,
          "grade_id": "AT_plot_scatter",
          "locked": true,
          "points": 4,
          "schema_version": 1,
          "solution": false
        },
        "colab": {
          "base_uri": "https://localhost:8080/",
          "height": 265
        },
        "outputId": "ad5f7f58-4a1c-45fb-f1a5-b079e4b28678"
      },
      "source": [
        "try:\n",
        "    plot_scatter(data_pca)\n",
        "except:\n",
        "    raise ValueError(\"O DataFrame não cumpri os requisitos necessários.\")"
      ],
      "execution_count": 290,
      "outputs": [
        {
          "output_type": "display_data",
          "data": {
            "image/png": "[encoded data removed]",
            "text/plain": [
              "<Figure size 432x288 with 1 Axes>"
            ]
          },
          "metadata": {
            "tags": []
          }
        }
      ]
    }
  ]
}